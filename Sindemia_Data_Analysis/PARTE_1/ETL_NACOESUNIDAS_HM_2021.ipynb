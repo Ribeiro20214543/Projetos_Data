{
 "cells": [
  {
   "cell_type": "markdown",
   "id": "a4bb9b7f",
   "metadata": {},
   "source": [
    "# Preparando o texto para análise\n",
    "\n",
    "Arquivo de entrada: **NACOESUNIDAS_HM_2021.txt**\n",
    "\n",
    "Arquivo pós-tratamento: **selecionadas_NACOESUNIDAS_HM_2021.txt**\n",
    "\n",
    "Arquivo de saída: **palavras_NACOESUNIDAS_HM_2021.csv**\n",
    "\n",
    "## ETAPAS\n",
    "1 - extração;\n",
    "\n",
    "2 - tratamento;\n",
    "\n",
    "3 - limpeza;\n",
    "\n",
    "4 - seleção das palavras a serem analisadas;\n",
    "\n",
    "5 - armazenamento das palavras selecionadas em arquivo separado (ARQUIVO PÓS-TRATAMENTO);\n",
    "\n",
    "6 - contagem da frequência das palavras serem analisadas;\n",
    "\n",
    "7 - criação de um dataframe para armazenamento dos dados com a frequência das palavras a serem analisadas;\n",
    "\n",
    "8 - armazenamento do dataframe em arquivo separado (ARQUIVO DE SAÍDA)."
   ]
  },
  {
   "cell_type": "code",
   "execution_count": 1,
   "id": "b6adf867",
   "metadata": {},
   "outputs": [],
   "source": [
    "# importando biblioteca a serem utilizadas no projeto\n",
    "import re\n",
    "import nltk\n",
    "from nltk import word_tokenize\n",
    "from nltk.corpus import stopwords\n",
    "import string\n",
    "import text as text"
   ]
  },
  {
   "cell_type": "code",
   "execution_count": 2,
   "id": "015de030",
   "metadata": {},
   "outputs": [
    {
     "name": "stdout",
     "output_type": "stream",
     "text": [
      "OMS pede melhor higienização das mãos e outras práticas de controle de infecções\n",
      "No Dia Mundial de Higienização das Mãos, celebrado neste 5 de maio, a Organização Mundial da Saúde (OMS) reforça a importância da promoção da higienização das mãos e lembra que esta ação, que leva apenas alguns segundos, salva vidas.\n",
      "Uma pesquisa global da OMS sobre a implementação de programas nacionais de prevenção e controle de infecções destaca a necessidade urgente de reduzir as desigualdades na disponibilidade de boa higienização das mãos e outras medidas de prevenção e controle de infecções entre países de alta e baixa renda. \n",
      "Este é um sério desafio em qualquer momento, mas a COVID-19 demonstrou dramaticamente quão importantes as boas práticas de higienização das mãos são na redução do risco de transmissão, quando usadas como parte de um pacote abrangente de medidas preventivas.\n",
      "Pesquisa da OMS alerta para a necessidade urgente de reduzir as desigualdades na disponibilidade de boa higienização das mãos entre países de alta e baixa renda.\n",
      "No Dia Mundial de Higienização das Mãos, celebrado neste 5 de maio, a Organização Mundial da Saúde (OMS) reforça a importância da promoção da higienização das mãos e lembra que esta ação, que leva apenas alguns segundos, salva vidas.\n",
      "Uma pesquisa global da OMS sobre a implementação de programas nacionais de prevenção e controle de infecções destaca a necessidade urgente de reduzir as desigualdades na disponibilidade de boa higienização das mãos e outras medidas de prevenção e controle de infecções entre países de alta e baixa renda. Um novo portal de monitoramento da OMS ajudará os países a identificar e preencher as lacunas.\n",
      "Este é um sério desafio em qualquer momento, mas a COVID-19 demonstrou dramaticamente quão importantes as boas práticas de higienização das mãos são na redução do risco de transmissão, quando usadas como parte de um pacote abrangente de medidas preventivas.\n",
      "uma boa higienização das mãos também é vital na prevenção de quaisquer infecções adquiridas na atenção à saúde, a propagação da resistência antimicrobiana e outras ameaças emergentes à saúde. A infecção adquirida durante a prestação de serviços de saúde é um grande problema global, mas os pacientes em países de baixa e média renda têm duas vezes mais probabilidade de infecção do que os pacientes em países de alta renda (15% e 7% dos pacientes, respectivamente); o risco em unidades de terapia intensiva (UTI), principalmente entre recém-nascidos, é entre 2 e 20 vezes maior.\n",
      "Uma razão para isso é que, em alguns países de baixa renda, apenas um em cada 10 profissionais de saúde pratica a higienização adequada das mãos enquanto cuida de pacientes com alto risco de infecções associadas aos à atenção na UTI - muitas vezes porque simplesmente não têm instalações para fazê-lo.\n",
      "Principais desafios\n",
      "A falta de recursos financeiros e infraestruturas precárias são os principais desafios. O relatório de progresso global da OMS de 2020 sobre WASH em unidades de saúde mostra que o primeiro relatório sobre os fundamentos revela que, globalmente, uma em cada quatro unidades de saúde não tem serviços básicos de água e uma em cada três não tem suprimentos para higienizar as mãos nos locais de atendimento.\n",
      "Além disso, de acordo com a pesquisa feita em 88 países, o nível de progresso dos programas de higienização das mãos e prevenção e controle de infecções, especialmente em relação à implementação real, foi significativamente menor em países de baixa renda do que de média e alta renda.\n",
      "Em 2018, apenas 45% dos países de baixa renda tinham um programa nacional de prevenção de infecções funcional em comparação com 53% - 71% dos países de média e alta renda. Um orçamento dedicado a apoiar esses programas estava disponível em apenas 5% dos países de baixa renda, contra 18% e 50% de países de média e alta renda.\n",
      "Embora as diretrizes nacionais sobre as práticas de prevenção e controle de infecções existissem em 50% dos países de baixa renda e 69% - 77% dos países de média e alta renda, apenas 20% e 29% - 57% tinham planos e estratégias de implementação em países de baixa, média e alta renda, respectivamente. No geral, apenas 22% de todos os países monitoraram a implementação e o impacto.\n",
      "Poucos países têm capacidade para monitorar a prevenção e controle de infecções com eficácia. O primeiro portal de monitoramento da OMS é uma plataforma virtual protegida para os países coletarem dados de uma maneira padronizada e fácil de usar, bem como baixarem sua análise de situação após a entrada de dados, juntamente com orientações sobre áreas e abordagens para melhoria.\n",
      "As infecções adquiridas na área de saúde afetam milhões de pacientes e profissionais de saúde em todo o mundo todos os anos. Quase 9 milhões são registradas todos os anos apenas na Europa.\n",
      "Metade dessas infecções pode ser evitada com a implementação de práticas e programas eficazes, incluindo estratégias de melhoria da higienização das mãos. Essas estratégias também podem prevenir três em cada quatro mortes relacionadas à resistência antimicrobiana que ocorrem em unidades de saúde.\n",
      "Investir em estratégias eficazes de prevenção e controle de infecções também pode gerar retornos financeiros significativos. A implementação de políticas de higienização das mãos pode gerar retornos econômicos - em média, 16 vezes o custo de sua implementação.\n",
      "No entanto, os países e instalações em todo o mundo não têm oportunidades iguais para implantar os sistemas apropriados e as práticas corretas para evitar o sofrimento causado por essas infecções.\n",
      "Dia Mundial de Higienização das Mãos\n",
      "O Dia Mundial de Higienização das Mãos é mais importante do que nunca para ajudar a sustentar a promoção desta ação básica, mas fundamental.\n",
      "Esta ação, que leva apenas alguns segundos, salva vidas! A OMS pede a todos os atores-chave em torno do slogan “Segundos salvam vidas. Higienize suas mãos!”\n",
      "A OMS também declarou 2021 o “Ano Internacionais dos Trabalhadores de Saúde e Cuidadores”. A fim de proteger esses profissionais essenciais, as evidências mostram que as práticas adequadas de higienização das mãos reduzem as infecções durante o atendimento. Portanto, envolver diferentes profissionais de saúde, bem como pacientes e todos na sociedade nesta data é fundamental também para apoiar a iniciativa.\n",
      "A conformidade dos profissionais de saúde com as práticas de higienização das mãos é um dos principais indicadores de desempenho para a prevenção e controle de infecções, segurança do paciente e qualidade dos serviços de saúde em todo o mundo. O novo portal de monitoramento pode desempenhar um papel importante para melhorar esta questão.\n",
      "No Brasil, a Organização Pan-Americana da Saúde/Organização Mundial da Saúde (OPAS/OMS) celebra a data em parceria com a Agência Nacional de Vigilância Sanitária (Anvisa).\n"
     ]
    }
   ],
   "source": [
    "# abrindo arquivo e colocando o texto em minusculo\n",
    "texto = open('NACOESUNIDAS_HM_2021.txt','r',encoding='UTF=8').read()\n",
    "print(texto)"
   ]
  },
  {
   "cell_type": "code",
   "execution_count": 3,
   "id": "3a5221cd",
   "metadata": {},
   "outputs": [
    {
     "name": "stdout",
     "output_type": "stream",
     "text": [
      "Quantidade total de palavras do texto: 6814\n"
     ]
    }
   ],
   "source": [
    "# Contando o total de palavras do texto\n",
    "t_linhas = len(texto)\n",
    "print('Quantidade total de palavras do texto:', t_linhas)"
   ]
  },
  {
   "cell_type": "code",
   "execution_count": 4,
   "id": "cb115edb",
   "metadata": {},
   "outputs": [
    {
     "name": "stdout",
     "output_type": "stream",
     "text": [
      "oms pede melhor higienização das mãos e outras práticas de controle de infecções\n",
      "no dia mundial de higienização das mãos, celebrado neste 5 de maio, a organização mundial da saúde (oms) reforça a importância da promoção da higienização das mãos e lembra que esta ação, que leva apenas alguns segundos, salva vidas.\n",
      "uma pesquisa global da oms sobre a implementação de programas nacionais de prevenção e controle de infecções destaca a necessidade urgente de reduzir as desigualdades na disponibilidade de boa higienização das mãos e outras medidas de prevenção e controle de infecções entre países de alta e baixa renda. \n",
      "este é um sério desafio em qualquer momento, mas a covid-19 demonstrou dramaticamente quão importantes as boas práticas de higienização das mãos são na redução do risco de transmissão, quando usadas como parte de um pacote abrangente de medidas preventivas.\n",
      "pesquisa da oms alerta para a necessidade urgente de reduzir as desigualdades na disponibilidade de boa higienização das mãos entre países de alta e baixa renda.\n",
      "no dia mundial de higienização das mãos, celebrado neste 5 de maio, a organização mundial da saúde (oms) reforça a importância da promoção da higienização das mãos e lembra que esta ação, que leva apenas alguns segundos, salva vidas.\n",
      "uma pesquisa global da oms sobre a implementação de programas nacionais de prevenção e controle de infecções destaca a necessidade urgente de reduzir as desigualdades na disponibilidade de boa higienização das mãos e outras medidas de prevenção e controle de infecções entre países de alta e baixa renda. um novo portal de monitoramento da oms ajudará os países a identificar e preencher as lacunas.\n",
      "este é um sério desafio em qualquer momento, mas a covid-19 demonstrou dramaticamente quão importantes as boas práticas de higienização das mãos são na redução do risco de transmissão, quando usadas como parte de um pacote abrangente de medidas preventivas.\n",
      "uma boa higienização das mãos também é vital na prevenção de quaisquer infecções adquiridas na atenção à saúde, a propagação da resistência antimicrobiana e outras ameaças emergentes à saúde. a infecção adquirida durante a prestação de serviços de saúde é um grande problema global, mas os pacientes em países de baixa e média renda têm duas vezes mais probabilidade de infecção do que os pacientes em países de alta renda (15% e 7% dos pacientes, respectivamente); o risco em unidades de terapia intensiva (uti), principalmente entre recém-nascidos, é entre 2 e 20 vezes maior.\n",
      "uma razão para isso é que, em alguns países de baixa renda, apenas um em cada 10 profissionais de saúde pratica a higienização adequada das mãos enquanto cuida de pacientes com alto risco de infecções associadas aos à atenção na uti - muitas vezes porque simplesmente não têm instalações para fazê-lo.\n",
      "principais desafios\n",
      "a falta de recursos financeiros e infraestruturas precárias são os principais desafios. o relatório de progresso global da oms de 2020 sobre wash em unidades de saúde mostra que o primeiro relatório sobre os fundamentos revela que, globalmente, uma em cada quatro unidades de saúde não tem serviços básicos de água e uma em cada três não tem suprimentos para higienizar as mãos nos locais de atendimento.\n",
      "além disso, de acordo com a pesquisa feita em 88 países, o nível de progresso dos programas de higienização das mãos e prevenção e controle de infecções, especialmente em relação à implementação real, foi significativamente menor em países de baixa renda do que de média e alta renda.\n",
      "em 2018, apenas 45% dos países de baixa renda tinham um programa nacional de prevenção de infecções funcional em comparação com 53% - 71% dos países de média e alta renda. um orçamento dedicado a apoiar esses programas estava disponível em apenas 5% dos países de baixa renda, contra 18% e 50% de países de média e alta renda.\n",
      "embora as diretrizes nacionais sobre as práticas de prevenção e controle de infecções existissem em 50% dos países de baixa renda e 69% - 77% dos países de média e alta renda, apenas 20% e 29% - 57% tinham planos e estratégias de implementação em países de baixa, média e alta renda, respectivamente. no geral, apenas 22% de todos os países monitoraram a implementação e o impacto.\n",
      "poucos países têm capacidade para monitorar a prevenção e controle de infecções com eficácia. o primeiro portal de monitoramento da oms é uma plataforma virtual protegida para os países coletarem dados de uma maneira padronizada e fácil de usar, bem como baixarem sua análise de situação após a entrada de dados, juntamente com orientações sobre áreas e abordagens para melhoria.\n",
      "as infecções adquiridas na área de saúde afetam milhões de pacientes e profissionais de saúde em todo o mundo todos os anos. quase 9 milhões são registradas todos os anos apenas na europa.\n",
      "metade dessas infecções pode ser evitada com a implementação de práticas e programas eficazes, incluindo estratégias de melhoria da higienização das mãos. essas estratégias também podem prevenir três em cada quatro mortes relacionadas à resistência antimicrobiana que ocorrem em unidades de saúde.\n",
      "investir em estratégias eficazes de prevenção e controle de infecções também pode gerar retornos financeiros significativos. a implementação de políticas de higienização das mãos pode gerar retornos econômicos - em média, 16 vezes o custo de sua implementação.\n",
      "no entanto, os países e instalações em todo o mundo não têm oportunidades iguais para implantar os sistemas apropriados e as práticas corretas para evitar o sofrimento causado por essas infecções.\n",
      "dia mundial de higienização das mãos\n",
      "o dia mundial de higienização das mãos é mais importante do que nunca para ajudar a sustentar a promoção desta ação básica, mas fundamental.\n",
      "esta ação, que leva apenas alguns segundos, salva vidas! a oms pede a todos os atores-chave em torno do slogan “segundos salvam vidas. higienize suas mãos!”\n",
      "a oms também declarou 2021 o “ano internacionais dos trabalhadores de saúde e cuidadores”. a fim de proteger esses profissionais essenciais, as evidências mostram que as práticas adequadas de higienização das mãos reduzem as infecções durante o atendimento. portanto, envolver diferentes profissionais de saúde, bem como pacientes e todos na sociedade nesta data é fundamental também para apoiar a iniciativa.\n",
      "a conformidade dos profissionais de saúde com as práticas de higienização das mãos é um dos principais indicadores de desempenho para a prevenção e controle de infecções, segurança do paciente e qualidade dos serviços de saúde em todo o mundo. o novo portal de monitoramento pode desempenhar um papel importante para melhorar esta questão.\n",
      "no brasil, a organização pan-americana da saúde/organização mundial da saúde (opas/oms) celebra a data em parceria com a agência nacional de vigilância sanitária (anvisa).\n"
     ]
    }
   ],
   "source": [
    "# reabrindo arquivo e colocando o texto em minusculo\n",
    "\n",
    "arquivo = open('NACOESUNIDAS_HM_2021.txt','r',encoding='UTF=8').read()\n",
    "texto_lower = arquivo.lower()\n",
    "\n",
    "print(texto_lower)"
   ]
  },
  {
   "cell_type": "code",
   "execution_count": 5,
   "id": "560a366a",
   "metadata": {},
   "outputs": [
    {
     "name": "stdout",
     "output_type": "stream",
     "text": [
      "OMS pede melhor higienização das mãos e outras práticas de controle de infecções\n",
      "No Dia Mundial de Higienização das Mãos celebrado neste 5 de maio a Organização Mundial da Saúde OMS reforça a importância da promoção da higienização das mãos e lembra que esta ação que leva apenas alguns segundos salva vidas\n",
      "Uma pesquisa global da OMS sobre a implementação de programas nacionais de prevenção e controle de infecções destaca a necessidade urgente de reduzir as desigualdades na disponibilidade de boa higienização das mãos e outras medidas de prevenção e controle de infecções entre países de alta e baixa renda \n",
      "Este é um sério desafio em qualquer momento mas a COVID19 demonstrou dramaticamente quão importantes as boas práticas de higienização das mãos são na redução do risco de transmissão quando usadas como parte de um pacote abrangente de medidas preventivas\n",
      "Pesquisa da OMS alerta para a necessidade urgente de reduzir as desigualdades na disponibilidade de boa higienização das mãos entre países de alta e baixa renda\n",
      "No Dia Mundial de Higienização das Mãos celebrado neste 5 de maio a Organização Mundial da Saúde OMS reforça a importância da promoção da higienização das mãos e lembra que esta ação que leva apenas alguns segundos salva vidas\n",
      "Uma pesquisa global da OMS sobre a implementação de programas nacionais de prevenção e controle de infecções destaca a necessidade urgente de reduzir as desigualdades na disponibilidade de boa higienização das mãos e outras medidas de prevenção e controle de infecções entre países de alta e baixa renda Um novo portal de monitoramento da OMS ajudará os países a identificar e preencher as lacunas\n",
      "Este é um sério desafio em qualquer momento mas a COVID19 demonstrou dramaticamente quão importantes as boas práticas de higienização das mãos são na redução do risco de transmissão quando usadas como parte de um pacote abrangente de medidas preventivas\n",
      "uma boa higienização das mãos também é vital na prevenção de quaisquer infecções adquiridas na atenção à saúde a propagação da resistência antimicrobiana e outras ameaças emergentes à saúde A infecção adquirida durante a prestação de serviços de saúde é um grande problema global mas os pacientes em países de baixa e média renda têm duas vezes mais probabilidade de infecção do que os pacientes em países de alta renda 15 e 7 dos pacientes respectivamente o risco em unidades de terapia intensiva UTI principalmente entre recémnascidos é entre 2 e 20 vezes maior\n",
      "Uma razão para isso é que em alguns países de baixa renda apenas um em cada 10 profissionais de saúde pratica a higienização adequada das mãos enquanto cuida de pacientes com alto risco de infecções associadas aos à atenção na UTI  muitas vezes porque simplesmente não têm instalações para fazêlo\n",
      "Principais desafios\n",
      "A falta de recursos financeiros e infraestruturas precárias são os principais desafios O relatório de progresso global da OMS de 2020 sobre WASH em unidades de saúde mostra que o primeiro relatório sobre os fundamentos revela que globalmente uma em cada quatro unidades de saúde não tem serviços básicos de água e uma em cada três não tem suprimentos para higienizar as mãos nos locais de atendimento\n",
      "Além disso de acordo com a pesquisa feita em 88 países o nível de progresso dos programas de higienização das mãos e prevenção e controle de infecções especialmente em relação à implementação real foi significativamente menor em países de baixa renda do que de média e alta renda\n",
      "Em 2018 apenas 45 dos países de baixa renda tinham um programa nacional de prevenção de infecções funcional em comparação com 53  71 dos países de média e alta renda Um orçamento dedicado a apoiar esses programas estava disponível em apenas 5 dos países de baixa renda contra 18 e 50 de países de média e alta renda\n",
      "Embora as diretrizes nacionais sobre as práticas de prevenção e controle de infecções existissem em 50 dos países de baixa renda e 69  77 dos países de média e alta renda apenas 20 e 29  57 tinham planos e estratégias de implementação em países de baixa média e alta renda respectivamente No geral apenas 22 de todos os países monitoraram a implementação e o impacto\n",
      "Poucos países têm capacidade para monitorar a prevenção e controle de infecções com eficácia O primeiro portal de monitoramento da OMS é uma plataforma virtual protegida para os países coletarem dados de uma maneira padronizada e fácil de usar bem como baixarem sua análise de situação após a entrada de dados juntamente com orientações sobre áreas e abordagens para melhoria\n",
      "As infecções adquiridas na área de saúde afetam milhões de pacientes e profissionais de saúde em todo o mundo todos os anos Quase 9 milhões são registradas todos os anos apenas na Europa\n",
      "Metade dessas infecções pode ser evitada com a implementação de práticas e programas eficazes incluindo estratégias de melhoria da higienização das mãos Essas estratégias também podem prevenir três em cada quatro mortes relacionadas à resistência antimicrobiana que ocorrem em unidades de saúde\n",
      "Investir em estratégias eficazes de prevenção e controle de infecções também pode gerar retornos financeiros significativos A implementação de políticas de higienização das mãos pode gerar retornos econômicos  em média 16 vezes o custo de sua implementação\n",
      "No entanto os países e instalações em todo o mundo não têm oportunidades iguais para implantar os sistemas apropriados e as práticas corretas para evitar o sofrimento causado por essas infecções\n",
      "Dia Mundial de Higienização das Mãos\n",
      "O Dia Mundial de Higienização das Mãos é mais importante do que nunca para ajudar a sustentar a promoção desta ação básica mas fundamental\n",
      "Esta ação que leva apenas alguns segundos salva vidas A OMS pede a todos os atoreschave em torno do slogan “Segundos salvam vidas Higienize suas mãos”\n",
      "A OMS também declarou 2021 o “Ano Internacionais dos Trabalhadores de Saúde e Cuidadores” A fim de proteger esses profissionais essenciais as evidências mostram que as práticas adequadas de higienização das mãos reduzem as infecções durante o atendimento Portanto envolver diferentes profissionais de saúde bem como pacientes e todos na sociedade nesta data é fundamental também para apoiar a iniciativa\n",
      "A conformidade dos profissionais de saúde com as práticas de higienização das mãos é um dos principais indicadores de desempenho para a prevenção e controle de infecções segurança do paciente e qualidade dos serviços de saúde em todo o mundo O novo portal de monitoramento pode desempenhar um papel importante para melhorar esta questão\n",
      "No Brasil a Organização PanAmericana da SaúdeOrganização Mundial da Saúde OPASOMS celebra a data em parceria com a Agência Nacional de Vigilância Sanitária Anvisa\n"
     ]
    }
   ],
   "source": [
    " # remoção de pontuação\n",
    "    \n",
    "text_sem_pontuar = ''.join ([palavra for palavra in texto if palavra not in string.punctuation])\n",
    "print(text_sem_pontuar)"
   ]
  },
  {
   "cell_type": "code",
   "execution_count": 6,
   "id": "9dbe23c0",
   "metadata": {},
   "outputs": [
    {
     "name": "stdout",
     "output_type": "stream",
     "text": [
      "['OMS', 'pede', 'melhor', 'higienização', 'das', 'mãos', 'e', 'outras', 'práticas', 'de', 'controle', 'de', 'infecções', 'No', 'Dia', 'Mundial', 'de', 'Higienização', 'das', 'Mãos', 'celebrado', 'neste', '5', 'de', 'maio', 'a', 'Organização', 'Mundial', 'da', 'Saúde', 'OMS', 'reforça', 'a', 'importância', 'da', 'promoção', 'da', 'higienização', 'das', 'mãos', 'e', 'lembra', 'que', 'esta', 'ação', 'que', 'leva', 'apenas', 'alguns', 'segundos', 'salva', 'vidas', 'Uma', 'pesquisa', 'global', 'da', 'OMS', 'sobre', 'a', 'implementação', 'de', 'programas', 'nacionais', 'de', 'prevenção', 'e', 'controle', 'de', 'infecções', 'destaca', 'a', 'necessidade', 'urgente', 'de', 'reduzir', 'as', 'desigualdades', 'na', 'disponibilidade', 'de', 'boa', 'higienização', 'das', 'mãos', 'e', 'outras', 'medidas', 'de', 'prevenção', 'e', 'controle', 'de', 'infecções', 'entre', 'países', 'de', 'alta', 'e', 'baixa', 'renda', 'Este', 'é', 'um', 'sério', 'desafio', 'em', 'qualquer', 'momento', 'mas', 'a', 'COVID19', 'demonstrou', 'dramaticamente', 'quão', 'importantes', 'as', 'boas', 'práticas', 'de', 'higienização', 'das', 'mãos', 'são', 'na', 'redução', 'do', 'risco', 'de', 'transmissão', 'quando', 'usadas', 'como', 'parte', 'de', 'um', 'pacote', 'abrangente', 'de', 'medidas', 'preventivas', 'Pesquisa', 'da', 'OMS', 'alerta', 'para', 'a', 'necessidade', 'urgente', 'de', 'reduzir', 'as', 'desigualdades', 'na', 'disponibilidade', 'de', 'boa', 'higienização', 'das', 'mãos', 'entre', 'países', 'de', 'alta', 'e', 'baixa', 'renda', 'No', 'Dia', 'Mundial', 'de', 'Higienização', 'das', 'Mãos', 'celebrado', 'neste', '5', 'de', 'maio', 'a', 'Organização', 'Mundial', 'da', 'Saúde', 'OMS', 'reforça', 'a', 'importância', 'da', 'promoção', 'da', 'higienização', 'das', 'mãos', 'e', 'lembra', 'que', 'esta', 'ação', 'que', 'leva', 'apenas', 'alguns', 'segundos', 'salva', 'vidas', 'Uma', 'pesquisa', 'global', 'da', 'OMS', 'sobre', 'a', 'implementação', 'de', 'programas', 'nacionais', 'de', 'prevenção', 'e', 'controle', 'de', 'infecções', 'destaca', 'a', 'necessidade', 'urgente', 'de', 'reduzir', 'as', 'desigualdades', 'na', 'disponibilidade', 'de', 'boa', 'higienização', 'das', 'mãos', 'e', 'outras', 'medidas', 'de', 'prevenção', 'e', 'controle', 'de', 'infecções', 'entre', 'países', 'de', 'alta', 'e', 'baixa', 'renda', 'Um', 'novo', 'portal', 'de', 'monitoramento', 'da', 'OMS', 'ajudará', 'os', 'países', 'a', 'identificar', 'e', 'preencher', 'as', 'lacunas', 'Este', 'é', 'um', 'sério', 'desafio', 'em', 'qualquer', 'momento', 'mas', 'a', 'COVID19', 'demonstrou', 'dramaticamente', 'quão', 'importantes', 'as', 'boas', 'práticas', 'de', 'higienização', 'das', 'mãos', 'são', 'na', 'redução', 'do', 'risco', 'de', 'transmissão', 'quando', 'usadas', 'como', 'parte', 'de', 'um', 'pacote', 'abrangente', 'de', 'medidas', 'preventivas', 'uma', 'boa', 'higienização', 'das', 'mãos', 'também', 'é', 'vital', 'na', 'prevenção', 'de', 'quaisquer', 'infecções', 'adquiridas', 'na', 'atenção', 'à', 'saúde', 'a', 'propagação', 'da', 'resistência', 'antimicrobiana', 'e', 'outras', 'ameaças', 'emergentes', 'à', 'saúde', 'A', 'infecção', 'adquirida', 'durante', 'a', 'prestação', 'de', 'serviços', 'de', 'saúde', 'é', 'um', 'grande', 'problema', 'global', 'mas', 'os', 'pacientes', 'em', 'países', 'de', 'baixa', 'e', 'média', 'renda', 'têm', 'duas', 'vezes', 'mais', 'probabilidade', 'de', 'infecção', 'do', 'que', 'os', 'pacientes', 'em', 'países', 'de', 'alta', 'renda', '15', 'e', '7', 'dos', 'pacientes', 'respectivamente', 'o', 'risco', 'em', 'unidades', 'de', 'terapia', 'intensiva', 'UTI', 'principalmente', 'entre', 'recémnascidos', 'é', 'entre', '2', 'e', '20', 'vezes', 'maior', 'Uma', 'razão', 'para', 'isso', 'é', 'que', 'em', 'alguns', 'países', 'de', 'baixa', 'renda', 'apenas', 'um', 'em', 'cada', '10', 'profissionais', 'de', 'saúde', 'pratica', 'a', 'higienização', 'adequada', 'das', 'mãos', 'enquanto', 'cuida', 'de', 'pacientes', 'com', 'alto', 'risco', 'de', 'infecções', 'associadas', 'aos', 'à', 'atenção', 'na', 'UTI', 'muitas', 'vezes', 'porque', 'simplesmente', 'não', 'têm', 'instalações', 'para', 'fazêlo', 'Principais', 'desafios', 'A', 'falta', 'de', 'recursos', 'financeiros', 'e', 'infraestruturas', 'precárias', 'são', 'os', 'principais', 'desafios', 'O', 'relatório', 'de', 'progresso', 'global', 'da', 'OMS', 'de', '2020', 'sobre', 'WASH', 'em', 'unidades', 'de', 'saúde', 'mostra', 'que', 'o', 'primeiro', 'relatório', 'sobre', 'os', 'fundamentos', 'revela', 'que', 'globalmente', 'uma', 'em', 'cada', 'quatro', 'unidades', 'de', 'saúde', 'não', 'tem', 'serviços', 'básicos', 'de', 'água', 'e', 'uma', 'em', 'cada', 'três', 'não', 'tem', 'suprimentos', 'para', 'higienizar', 'as', 'mãos', 'nos', 'locais', 'de', 'atendimento', 'Além', 'disso', 'de', 'acordo', 'com', 'a', 'pesquisa', 'feita', 'em', '88', 'países', 'o', 'nível', 'de', 'progresso', 'dos', 'programas', 'de', 'higienização', 'das', 'mãos', 'e', 'prevenção', 'e', 'controle', 'de', 'infecções', 'especialmente', 'em', 'relação', 'à', 'implementação', 'real', 'foi', 'significativamente', 'menor', 'em', 'países', 'de', 'baixa', 'renda', 'do', 'que', 'de', 'média', 'e', 'alta', 'renda', 'Em', '2018', 'apenas', '45', 'dos', 'países', 'de', 'baixa', 'renda', 'tinham', 'um', 'programa', 'nacional', 'de', 'prevenção', 'de', 'infecções', 'funcional', 'em', 'comparação', 'com', '53', '71', 'dos', 'países', 'de', 'média', 'e', 'alta', 'renda', 'Um', 'orçamento', 'dedicado', 'a', 'apoiar', 'esses', 'programas', 'estava', 'disponível', 'em', 'apenas', '5', 'dos', 'países', 'de', 'baixa', 'renda', 'contra', '18', 'e', '50', 'de', 'países', 'de', 'média', 'e', 'alta', 'renda', 'Embora', 'as', 'diretrizes', 'nacionais', 'sobre', 'as', 'práticas', 'de', 'prevenção', 'e', 'controle', 'de', 'infecções', 'existissem', 'em', '50', 'dos', 'países', 'de', 'baixa', 'renda', 'e', '69', '77', 'dos', 'países', 'de', 'média', 'e', 'alta', 'renda', 'apenas', '20', 'e', '29', '57', 'tinham', 'planos', 'e', 'estratégias', 'de', 'implementação', 'em', 'países', 'de', 'baixa', 'média', 'e', 'alta', 'renda', 'respectivamente', 'No', 'geral', 'apenas', '22', 'de', 'todos', 'os', 'países', 'monitoraram', 'a', 'implementação', 'e', 'o', 'impacto', 'Poucos', 'países', 'têm', 'capacidade', 'para', 'monitorar', 'a', 'prevenção', 'e', 'controle', 'de', 'infecções', 'com', 'eficácia', 'O', 'primeiro', 'portal', 'de', 'monitoramento', 'da', 'OMS', 'é', 'uma', 'plataforma', 'virtual', 'protegida', 'para', 'os', 'países', 'coletarem', 'dados', 'de', 'uma', 'maneira', 'padronizada', 'e', 'fácil', 'de', 'usar', 'bem', 'como', 'baixarem', 'sua', 'análise', 'de', 'situação', 'após', 'a', 'entrada', 'de', 'dados', 'juntamente', 'com', 'orientações', 'sobre', 'áreas', 'e', 'abordagens', 'para', 'melhoria', 'As', 'infecções', 'adquiridas', 'na', 'área', 'de', 'saúde', 'afetam', 'milhões', 'de', 'pacientes', 'e', 'profissionais', 'de', 'saúde', 'em', 'todo', 'o', 'mundo', 'todos', 'os', 'anos', 'Quase', '9', 'milhões', 'são', 'registradas', 'todos', 'os', 'anos', 'apenas', 'na', 'Europa', 'Metade', 'dessas', 'infecções', 'pode', 'ser', 'evitada', 'com', 'a', 'implementação', 'de', 'práticas', 'e', 'programas', 'eficazes', 'incluindo', 'estratégias', 'de', 'melhoria', 'da', 'higienização', 'das', 'mãos', 'Essas', 'estratégias', 'também', 'podem', 'prevenir', 'três', 'em', 'cada', 'quatro', 'mortes', 'relacionadas', 'à', 'resistência', 'antimicrobiana', 'que', 'ocorrem', 'em', 'unidades', 'de', 'saúde', 'Investir', 'em', 'estratégias', 'eficazes', 'de', 'prevenção', 'e', 'controle', 'de', 'infecções', 'também', 'pode', 'gerar', 'retornos', 'financeiros', 'significativos', 'A', 'implementação', 'de', 'políticas', 'de', 'higienização', 'das', 'mãos', 'pode', 'gerar', 'retornos', 'econômicos', 'em', 'média', '16', 'vezes', 'o', 'custo', 'de', 'sua', 'implementação', 'No', 'entanto', 'os', 'países', 'e', 'instalações', 'em', 'todo', 'o', 'mundo', 'não', 'têm', 'oportunidades', 'iguais', 'para', 'implantar', 'os', 'sistemas', 'apropriados', 'e', 'as', 'práticas', 'corretas', 'para', 'evitar', 'o', 'sofrimento', 'causado', 'por', 'essas', 'infecções', 'Dia', 'Mundial', 'de', 'Higienização', 'das', 'Mãos', 'O', 'Dia', 'Mundial', 'de', 'Higienização', 'das', 'Mãos', 'é', 'mais', 'importante', 'do', 'que', 'nunca', 'para', 'ajudar', 'a', 'sustentar', 'a', 'promoção', 'desta', 'ação', 'básica', 'mas', 'fundamental', 'Esta', 'ação', 'que', 'leva', 'apenas', 'alguns', 'segundos', 'salva', 'vidas', 'A', 'OMS', 'pede', 'a', 'todos', 'os', 'atoreschave', 'em', 'torno', 'do', 'slogan', '“', 'Segundos', 'salvam', 'vidas', 'Higienize', 'suas', 'mãos', '”', 'A', 'OMS', 'também', 'declarou', '2021', 'o', '“', 'Ano', 'Internacionais', 'dos', 'Trabalhadores', 'de', 'Saúde', 'e', 'Cuidadores', '”', 'A', 'fim', 'de', 'proteger', 'esses', 'profissionais', 'essenciais', 'as', 'evidências', 'mostram', 'que', 'as', 'práticas', 'adequadas', 'de', 'higienização', 'das', 'mãos', 'reduzem', 'as', 'infecções', 'durante', 'o', 'atendimento', 'Portanto', 'envolver', 'diferentes', 'profissionais', 'de', 'saúde', 'bem', 'como', 'pacientes', 'e', 'todos', 'na', 'sociedade', 'nesta', 'data', 'é', 'fundamental', 'também', 'para', 'apoiar', 'a', 'iniciativa', 'A', 'conformidade', 'dos', 'profissionais', 'de', 'saúde', 'com', 'as', 'práticas', 'de', 'higienização', 'das', 'mãos', 'é', 'um', 'dos', 'principais', 'indicadores', 'de', 'desempenho', 'para', 'a', 'prevenção', 'e', 'controle', 'de', 'infecções', 'segurança', 'do', 'paciente', 'e', 'qualidade', 'dos', 'serviços', 'de', 'saúde', 'em', 'todo', 'o', 'mundo', 'O', 'novo', 'portal', 'de', 'monitoramento', 'pode', 'desempenhar', 'um', 'papel', 'importante', 'para', 'melhorar', 'esta', 'questão', 'No', 'Brasil', 'a', 'Organização', 'PanAmericana', 'da', 'SaúdeOrganização', 'Mundial', 'da', 'Saúde', 'OPASOMS', 'celebra', 'a', 'data', 'em', 'parceria', 'com', 'a', 'Agência', 'Nacional', 'de', 'Vigilância', 'Sanitária', 'Anvisa']\n"
     ]
    }
   ],
   "source": [
    "# Tokenizando  - texto\n",
    "\n",
    "tokens = nltk.word_tokenize(text_sem_pontuar)\n",
    "print(tokens)"
   ]
  },
  {
   "cell_type": "code",
   "execution_count": 7,
   "id": "b507275f",
   "metadata": {},
   "outputs": [
    {
     "name": "stdout",
     "output_type": "stream",
     "text": [
      "Palavras removidas: \n",
      "\n",
      "['a', 'à', 'ao', 'aos', 'aquela', 'aquelas', 'aquele', 'aqueles', 'aquilo', 'as', 'às', 'até', 'com', 'como', 'da', 'das', 'de', 'dela', 'delas', 'dele', 'deles', 'depois', 'do', 'dos', 'e', 'é', 'ela', 'elas', 'ele', 'eles', 'em', 'entre', 'era', 'eram', 'éramos', 'essa', 'essas', 'esse', 'esses', 'esta', 'está', 'estamos', 'estão', 'estar', 'estas', 'estava', 'estavam', 'estávamos', 'este', 'esteja', 'estejam', 'estejamos', 'estes', 'esteve', 'estive', 'estivemos', 'estiver', 'estivera', 'estiveram', 'estivéramos', 'estiverem', 'estivermos', 'estivesse', 'estivessem', 'estivéssemos', 'estou', 'eu', 'foi', 'fomos', 'for', 'fora', 'foram', 'fôramos', 'forem', 'formos', 'fosse', 'fossem', 'fôssemos', 'fui', 'há', 'haja', 'hajam', 'hajamos', 'hão', 'havemos', 'haver', 'hei', 'houve', 'houvemos', 'houver', 'houvera', 'houverá', 'houveram', 'houvéramos', 'houverão', 'houverei', 'houverem', 'houveremos', 'houveria', 'houveriam', 'houveríamos', 'houvermos', 'houvesse', 'houvessem', 'houvéssemos', 'isso', 'isto', 'já', 'lhe', 'lhes', 'mais', 'mas', 'me', 'mesmo', 'meu', 'meus', 'minha', 'minhas', 'muito', 'na', 'não', 'nas', 'nem', 'no', 'nos', 'nós', 'nossa', 'nossas', 'nosso', 'nossos', 'num', 'numa', 'o', 'os', 'ou', 'para', 'pela', 'pelas', 'pelo', 'pelos', 'por', 'qual', 'quando', 'que', 'quem', 'são', 'se', 'seja', 'sejam', 'sejamos', 'sem', 'ser', 'será', 'serão', 'serei', 'seremos', 'seria', 'seriam', 'seríamos', 'seu', 'seus', 'só', 'somos', 'sou', 'sua', 'suas', 'também', 'te', 'tem', 'tém', 'temos', 'tenha', 'tenham', 'tenhamos', 'tenho', 'terá', 'terão', 'terei', 'teremos', 'teria', 'teriam', 'teríamos', 'teu', 'teus', 'teve', 'tinha', 'tinham', 'tínhamos', 'tive', 'tivemos', 'tiver', 'tivera', 'tiveram', 'tivéramos', 'tiverem', 'tivermos', 'tivesse', 'tivessem', 'tivéssemos', 'tu', 'tua', 'tuas', 'um', 'uma', 'você', 'vocês', 'vos'] \n",
      "\n",
      "Texto após remoção das stopwords: \n",
      "\n",
      " ['OMS', 'pede', 'melhor', 'higienização', 'mãos', 'outras', 'práticas', 'controle', 'infecções', 'No', 'Dia', 'Mundial', 'Higienização', 'Mãos', 'celebrado', 'neste', '5', 'maio', 'Organização', 'Mundial', 'Saúde', 'OMS', 'reforça', 'importância', 'promoção', 'higienização', 'mãos', 'lembra', 'ação', 'leva', 'apenas', 'alguns', 'segundos', 'salva', 'vidas', 'Uma', 'pesquisa', 'global', 'OMS', 'sobre', 'implementação', 'programas', 'nacionais', 'prevenção', 'controle', 'infecções', 'destaca', 'necessidade', 'urgente', 'reduzir', 'desigualdades', 'disponibilidade', 'boa', 'higienização', 'mãos', 'outras', 'medidas', 'prevenção', 'controle', 'infecções', 'países', 'alta', 'baixa', 'renda', 'Este', 'sério', 'desafio', 'qualquer', 'momento', 'COVID19', 'demonstrou', 'dramaticamente', 'quão', 'importantes', 'boas', 'práticas', 'higienização', 'mãos', 'redução', 'risco', 'transmissão', 'usadas', 'parte', 'pacote', 'abrangente', 'medidas', 'preventivas', 'Pesquisa', 'OMS', 'alerta', 'necessidade', 'urgente', 'reduzir', 'desigualdades', 'disponibilidade', 'boa', 'higienização', 'mãos', 'países', 'alta', 'baixa', 'renda', 'No', 'Dia', 'Mundial', 'Higienização', 'Mãos', 'celebrado', 'neste', '5', 'maio', 'Organização', 'Mundial', 'Saúde', 'OMS', 'reforça', 'importância', 'promoção', 'higienização', 'mãos', 'lembra', 'ação', 'leva', 'apenas', 'alguns', 'segundos', 'salva', 'vidas', 'Uma', 'pesquisa', 'global', 'OMS', 'sobre', 'implementação', 'programas', 'nacionais', 'prevenção', 'controle', 'infecções', 'destaca', 'necessidade', 'urgente', 'reduzir', 'desigualdades', 'disponibilidade', 'boa', 'higienização', 'mãos', 'outras', 'medidas', 'prevenção', 'controle', 'infecções', 'países', 'alta', 'baixa', 'renda', 'Um', 'novo', 'portal', 'monitoramento', 'OMS', 'ajudará', 'países', 'identificar', 'preencher', 'lacunas', 'Este', 'sério', 'desafio', 'qualquer', 'momento', 'COVID19', 'demonstrou', 'dramaticamente', 'quão', 'importantes', 'boas', 'práticas', 'higienização', 'mãos', 'redução', 'risco', 'transmissão', 'usadas', 'parte', 'pacote', 'abrangente', 'medidas', 'preventivas', 'boa', 'higienização', 'mãos', 'vital', 'prevenção', 'quaisquer', 'infecções', 'adquiridas', 'atenção', 'saúde', 'propagação', 'resistência', 'antimicrobiana', 'outras', 'ameaças', 'emergentes', 'saúde', 'A', 'infecção', 'adquirida', 'durante', 'prestação', 'serviços', 'saúde', 'grande', 'problema', 'global', 'pacientes', 'países', 'baixa', 'média', 'renda', 'têm', 'duas', 'vezes', 'probabilidade', 'infecção', 'pacientes', 'países', 'alta', 'renda', '15', '7', 'pacientes', 'respectivamente', 'risco', 'unidades', 'terapia', 'intensiva', 'UTI', 'principalmente', 'recémnascidos', '2', '20', 'vezes', 'maior', 'Uma', 'razão', 'alguns', 'países', 'baixa', 'renda', 'apenas', 'cada', '10', 'profissionais', 'saúde', 'pratica', 'higienização', 'adequada', 'mãos', 'enquanto', 'cuida', 'pacientes', 'alto', 'risco', 'infecções', 'associadas', 'atenção', 'UTI', 'muitas', 'vezes', 'porque', 'simplesmente', 'têm', 'instalações', 'fazêlo', 'Principais', 'desafios', 'A', 'falta', 'recursos', 'financeiros', 'infraestruturas', 'precárias', 'principais', 'desafios', 'O', 'relatório', 'progresso', 'global', 'OMS', '2020', 'sobre', 'WASH', 'unidades', 'saúde', 'mostra', 'primeiro', 'relatório', 'sobre', 'fundamentos', 'revela', 'globalmente', 'cada', 'quatro', 'unidades', 'saúde', 'serviços', 'básicos', 'água', 'cada', 'três', 'suprimentos', 'higienizar', 'mãos', 'locais', 'atendimento', 'Além', 'disso', 'acordo', 'pesquisa', 'feita', '88', 'países', 'nível', 'progresso', 'programas', 'higienização', 'mãos', 'prevenção', 'controle', 'infecções', 'especialmente', 'relação', 'implementação', 'real', 'significativamente', 'menor', 'países', 'baixa', 'renda', 'média', 'alta', 'renda', 'Em', '2018', 'apenas', '45', 'países', 'baixa', 'renda', 'programa', 'nacional', 'prevenção', 'infecções', 'funcional', 'comparação', '53', '71', 'países', 'média', 'alta', 'renda', 'Um', 'orçamento', 'dedicado', 'apoiar', 'programas', 'disponível', 'apenas', '5', 'países', 'baixa', 'renda', 'contra', '18', '50', 'países', 'média', 'alta', 'renda', 'Embora', 'diretrizes', 'nacionais', 'sobre', 'práticas', 'prevenção', 'controle', 'infecções', 'existissem', '50', 'países', 'baixa', 'renda', '69', '77', 'países', 'média', 'alta', 'renda', 'apenas', '20', '29', '57', 'planos', 'estratégias', 'implementação', 'países', 'baixa', 'média', 'alta', 'renda', 'respectivamente', 'No', 'geral', 'apenas', '22', 'todos', 'países', 'monitoraram', 'implementação', 'impacto', 'Poucos', 'países', 'têm', 'capacidade', 'monitorar', 'prevenção', 'controle', 'infecções', 'eficácia', 'O', 'primeiro', 'portal', 'monitoramento', 'OMS', 'plataforma', 'virtual', 'protegida', 'países', 'coletarem', 'dados', 'maneira', 'padronizada', 'fácil', 'usar', 'bem', 'baixarem', 'análise', 'situação', 'após', 'entrada', 'dados', 'juntamente', 'orientações', 'sobre', 'áreas', 'abordagens', 'melhoria', 'As', 'infecções', 'adquiridas', 'área', 'saúde', 'afetam', 'milhões', 'pacientes', 'profissionais', 'saúde', 'todo', 'mundo', 'todos', 'anos', 'Quase', '9', 'milhões', 'registradas', 'todos', 'anos', 'apenas', 'Europa', 'Metade', 'dessas', 'infecções', 'pode', 'evitada', 'implementação', 'práticas', 'programas', 'eficazes', 'incluindo', 'estratégias', 'melhoria', 'higienização', 'mãos', 'Essas', 'estratégias', 'podem', 'prevenir', 'três', 'cada', 'quatro', 'mortes', 'relacionadas', 'resistência', 'antimicrobiana', 'ocorrem', 'unidades', 'saúde', 'Investir', 'estratégias', 'eficazes', 'prevenção', 'controle', 'infecções', 'pode', 'gerar', 'retornos', 'financeiros', 'significativos', 'A', 'implementação', 'políticas', 'higienização', 'mãos', 'pode', 'gerar', 'retornos', 'econômicos', 'média', '16', 'vezes', 'custo', 'implementação', 'No', 'entanto', 'países', 'instalações', 'todo', 'mundo', 'têm', 'oportunidades', 'iguais', 'implantar', 'sistemas', 'apropriados', 'práticas', 'corretas', 'evitar', 'sofrimento', 'causado', 'infecções', 'Dia', 'Mundial', 'Higienização', 'Mãos', 'O', 'Dia', 'Mundial', 'Higienização', 'Mãos', 'importante', 'nunca', 'ajudar', 'sustentar', 'promoção', 'desta', 'ação', 'básica', 'fundamental', 'Esta', 'ação', 'leva', 'apenas', 'alguns', 'segundos', 'salva', 'vidas', 'A', 'OMS', 'pede', 'todos', 'atoreschave', 'torno', 'slogan', '“', 'Segundos', 'salvam', 'vidas', 'Higienize', 'mãos', '”', 'A', 'OMS', 'declarou', '2021', '“', 'Ano', 'Internacionais', 'Trabalhadores', 'Saúde', 'Cuidadores', '”', 'A', 'fim', 'proteger', 'profissionais', 'essenciais', 'evidências', 'mostram', 'práticas', 'adequadas', 'higienização', 'mãos', 'reduzem', 'infecções', 'durante', 'atendimento', 'Portanto', 'envolver', 'diferentes', 'profissionais', 'saúde', 'bem', 'pacientes', 'todos', 'sociedade', 'nesta', 'data', 'fundamental', 'apoiar', 'iniciativa', 'A', 'conformidade', 'profissionais', 'saúde', 'práticas', 'higienização', 'mãos', 'principais', 'indicadores', 'desempenho', 'prevenção', 'controle', 'infecções', 'segurança', 'paciente', 'qualidade', 'serviços', 'saúde', 'todo', 'mundo', 'O', 'novo', 'portal', 'monitoramento', 'pode', 'desempenhar', 'papel', 'importante', 'melhorar', 'questão', 'No', 'Brasil', 'Organização', 'PanAmericana', 'SaúdeOrganização', 'Mundial', 'Saúde', 'OPASOMS', 'celebra', 'data', 'parceria', 'Agência', 'Nacional', 'Vigilância', 'Sanitária', 'Anvisa']\n"
     ]
    },
    {
     "name": "stderr",
     "output_type": "stream",
     "text": [
      "[nltk_data] Downloading package stopwords to\n",
      "[nltk_data]     /home/patrick/nltk_data...\n",
      "[nltk_data]   Package stopwords is already up-to-date!\n"
     ]
    }
   ],
   "source": [
    "# remoção de Stapwords - ou seja, remoção de palavras que não causam prejuijo ao sentido do texto\n",
    "\n",
    "from nltk.corpus import stopwords\n",
    "\n",
    "nltk.download('stopwords')\n",
    "stopwords = stopwords.words('portuguese')\n",
    "\n",
    "palavras_play = [palavra for palavra in tokens if palavra not in stopwords]\n",
    "print(f'Palavras removidas: \\n\\n{stopwords} \\n')\n",
    "\n",
    "print(f'Texto após remoção das stopwords: \\n\\n {palavras_play}')"
   ]
  },
  {
   "cell_type": "code",
   "execution_count": 8,
   "id": "c01cd7a4",
   "metadata": {},
   "outputs": [],
   "source": [
    "palavras_selecionadas = ', '.join(palavras_play)"
   ]
  },
  {
   "cell_type": "code",
   "execution_count": 9,
   "id": "1f8c0bf5",
   "metadata": {},
   "outputs": [
    {
     "data": {
      "text/plain": [
       "6033"
      ]
     },
     "execution_count": 9,
     "metadata": {},
     "output_type": "execute_result"
    }
   ],
   "source": [
    "# Criando arquivo e gravando palavras selecionadas nele\n",
    "arquivo = open('selecionadas_NACOESUNIDAS_HM_2021.txt', 'w')\n",
    "arquivo.write(palavras_selecionadas)"
   ]
  },
  {
   "cell_type": "code",
   "execution_count": 1,
   "id": "ed53441f",
   "metadata": {},
   "outputs": [
    {
     "name": "stdout",
     "output_type": "stream",
     "text": [
      "OMS, pede, melhor, higienização, mãos, outras, práticas, controle, infecções, No, Dia, Mundial, Higienização, Mãos, celebrado, neste, 5, maio, Organização, Mundial, Saúde, OMS, reforça, importância, promoção, higienização, mãos, lembra, ação, leva, apenas, alguns, segundos, salva, vidas, Uma, pesquisa, global, OMS, sobre, implementação, programas, nacionais, prevenção, controle, infecções, destaca, necessidade, urgente, reduzir, desigualdades, disponibilidade, boa, higienização, mãos, outras, medidas, prevenção, controle, infecções, países, alta, baixa, renda, Este, sério, desafio, qualquer, momento, COVID19, demonstrou, dramaticamente, quão, importantes, boas, práticas, higienização, mãos, redução, risco, transmissão, usadas, parte, pacote, abrangente, medidas, preventivas, Pesquisa, OMS, alerta, necessidade, urgente, reduzir, desigualdades, disponibilidade, boa, higienização, mãos, países, alta, baixa, renda, No, Dia, Mundial, Higienização, Mãos, celebrado, neste, 5, maio, Organização, Mundial, Saúde, OMS, reforça, importância, promoção, higienização, mãos, lembra, ação, leva, apenas, alguns, segundos, salva, vidas, Uma, pesquisa, global, OMS, sobre, implementação, programas, nacionais, prevenção, controle, infecções, destaca, necessidade, urgente, reduzir, desigualdades, disponibilidade, boa, higienização, mãos, outras, medidas, prevenção, controle, infecções, países, alta, baixa, renda, Um, novo, portal, monitoramento, OMS, ajudará, países, identificar, preencher, lacunas, Este, sério, desafio, qualquer, momento, COVID19, demonstrou, dramaticamente, quão, importantes, boas, práticas, higienização, mãos, redução, risco, transmissão, usadas, parte, pacote, abrangente, medidas, preventivas, boa, higienização, mãos, vital, prevenção, quaisquer, infecções, adquiridas, atenção, saúde, propagação, resistência, antimicrobiana, outras, ameaças, emergentes, saúde, A, infecção, adquirida, durante, prestação, serviços, saúde, grande, problema, global, pacientes, países, baixa, média, renda, têm, duas, vezes, probabilidade, infecção, pacientes, países, alta, renda, 15, 7, pacientes, respectivamente, risco, unidades, terapia, intensiva, UTI, principalmente, recémnascidos, 2, 20, vezes, maior, Uma, razão, alguns, países, baixa, renda, apenas, cada, 10, profissionais, saúde, pratica, higienização, adequada, mãos, enquanto, cuida, pacientes, alto, risco, infecções, associadas, atenção, UTI, muitas, vezes, porque, simplesmente, têm, instalações, fazêlo, Principais, desafios, A, falta, recursos, financeiros, infraestruturas, precárias, principais, desafios, O, relatório, progresso, global, OMS, 2020, sobre, WASH, unidades, saúde, mostra, primeiro, relatório, sobre, fundamentos, revela, globalmente, cada, quatro, unidades, saúde, serviços, básicos, água, cada, três, suprimentos, higienizar, mãos, locais, atendimento, Além, disso, acordo, pesquisa, feita, 88, países, nível, progresso, programas, higienização, mãos, prevenção, controle, infecções, especialmente, relação, implementação, real, significativamente, menor, países, baixa, renda, média, alta, renda, Em, 2018, apenas, 45, países, baixa, renda, programa, nacional, prevenção, infecções, funcional, comparação, 53, 71, países, média, alta, renda, Um, orçamento, dedicado, apoiar, programas, disponível, apenas, 5, países, baixa, renda, contra, 18, 50, países, média, alta, renda, Embora, diretrizes, nacionais, sobre, práticas, prevenção, controle, infecções, existissem, 50, países, baixa, renda, 69, 77, países, média, alta, renda, apenas, 20, 29, 57, planos, estratégias, implementação, países, baixa, média, alta, renda, respectivamente, No, geral, apenas, 22, todos, países, monitoraram, implementação, impacto, Poucos, países, têm, capacidade, monitorar, prevenção, controle, infecções, eficácia, O, primeiro, portal, monitoramento, OMS, plataforma, virtual, protegida, países, coletarem, dados, maneira, padronizada, fácil, usar, bem, baixarem, análise, situação, após, entrada, dados, juntamente, orientações, sobre, áreas, abordagens, melhoria, As, infecções, adquiridas, área, saúde, afetam, milhões, pacientes, profissionais, saúde, todo, mundo, todos, anos, Quase, 9, milhões, registradas, todos, anos, apenas, Europa, Metade, dessas, infecções, pode, evitada, implementação, práticas, programas, eficazes, incluindo, estratégias, melhoria, higienização, mãos, Essas, estratégias, podem, prevenir, três, cada, quatro, mortes, relacionadas, resistência, antimicrobiana, ocorrem, unidades, saúde, Investir, estratégias, eficazes, prevenção, controle, infecções, pode, gerar, retornos, financeiros, significativos, A, implementação, políticas, higienização, mãos, pode, gerar, retornos, econômicos, média, 16, vezes, custo, implementação, No, entanto, países, instalações, todo, mundo, têm, oportunidades, iguais, implantar, sistemas, apropriados, práticas, corretas, evitar, sofrimento, causado, infecções, Dia, Mundial, Higienização, Mãos, O, Dia, Mundial, Higienização, Mãos, importante, nunca, ajudar, sustentar, promoção, desta, ação, básica, fundamental, Esta, ação, leva, apenas, alguns, segundos, salva, vidas, A, OMS, pede, todos, atoreschave, torno, slogan, “, Segundos, salvam, vidas, Higienize, mãos, ”, A, OMS, declarou, 2021, “, Ano, Internacionais, Trabalhadores, Saúde, Cuidadores, ”, A, fim, proteger, profissionais, essenciais, evidências, mostram, práticas, adequadas, higienização, mãos, reduzem, infecções, durante, atendimento, Portanto, envolver, diferentes, profissionais, saúde, bem, pacientes, todos, sociedade, nesta, data, fundamental, apoiar, iniciativa, A, conformidade, profissionais, saúde, práticas, higienização, mãos, principais, indicadores, desempenho, prevenção, controle, infecções, segurança, paciente, qualidade, serviços, saúde, todo, mundo, O, novo, portal, monitoramento, pode, desempenhar, papel, importante, melhorar, questão, No, Brasil, Organização, PanAmericana, SaúdeOrganização, Mundial, Saúde, OPASOMS, celebra, data, parceria, Agência, Nacional, Vigilância, Sanitária, Anvisa\n"
     ]
    }
   ],
   "source": [
    "# abrindo arquivo com as palavras selecionadas \n",
    "texto2 = open('selecionadas_NACOESUNIDAS_HM_2021.txt','r',encoding='UTF=8').read()\n",
    "print(texto2)"
   ]
  },
  {
   "cell_type": "code",
   "execution_count": 2,
   "id": "a82c3856",
   "metadata": {},
   "outputs": [
    {
     "name": "stdout",
     "output_type": "stream",
     "text": [
      "O texto apresenta 6033 palavras no total.\n"
     ]
    }
   ],
   "source": [
    "# Contar o quantidade de palavras no texto\n",
    "qt_palavras = len(texto2)\n",
    "print(f'O texto apresenta {qt_palavras} palavras no total.')"
   ]
  },
  {
   "cell_type": "code",
   "execution_count": 3,
   "id": "7bfa9d6e",
   "metadata": {},
   "outputs": [
    {
     "name": "stdout",
     "output_type": "stream",
     "text": [
      "\n",
      "Frequência das palavras:{'oms': 11, 'pede': 2, 'melhor': 1, 'higienização': 19, 'mãos': 21, 'outras': 4, 'práticas': 8, 'controle': 10, 'infecções': 17, 'no': 5, 'dia': 4, 'mundial': 7, 'celebrado': 2, 'neste': 2, '5': 3, 'maio': 2, 'organização': 3, 'saúde': 16, 'reforça': 2, 'importância': 2, 'promoção': 3, 'lembra': 2, 'ação': 4, 'leva': 3, 'apenas': 9, 'alguns': 4, 'segundos': 4, 'salva': 3, 'vidas': 4, 'uma': 3, 'pesquisa': 4, 'global': 4, 'sobre': 6, 'implementação': 8, 'programas': 5, 'nacionais': 3, 'prevenção': 11, 'destaca': 2, 'necessidade': 3, 'urgente': 3, 'reduzir': 3, 'desigualdades': 3, 'disponibilidade': 3, 'boa': 4, 'medidas': 4, 'países': 20, 'alta': 9, 'baixa': 10, 'renda': 15, 'este': 2, 'sério': 2, 'desafio': 2, 'qualquer': 2, 'momento': 2, 'covid19': 2, 'demonstrou': 2, 'dramaticamente': 2, 'quão': 2, 'importantes': 2, 'boas': 2, 'redução': 2, 'risco': 4, 'transmissão': 2, 'usadas': 2, 'parte': 2, 'pacote': 2, 'abrangente': 2, 'preventivas': 2, 'alerta': 1, 'um': 2, 'novo': 2, 'portal': 3, 'monitoramento': 3, 'ajudará': 1, 'identificar': 1, 'preencher': 1, 'lacunas': 1, 'vital': 1, 'quaisquer': 1, 'adquiridas': 2, 'atenção': 2, 'propagação': 1, 'resistência': 2, 'antimicrobiana': 2, 'ameaças': 1, 'emergentes': 1, 'a': 7, 'infecção': 2, 'adquirida': 1, 'durante': 2, 'prestação': 1, 'serviços': 3, 'grande': 1, 'problema': 1, 'pacientes': 6, 'média': 7, 'têm': 4, 'duas': 1, 'vezes': 4, 'probabilidade': 1, '15': 1, '7': 1, 'respectivamente': 2, 'unidades': 4, 'terapia': 1, 'intensiva': 1, 'uti': 2, 'principalmente': 1, 'recémnascidos': 1, '2': 1, '20': 2, 'maior': 1, 'razão': 1, 'cada': 4, '10': 1, 'profissionais': 5, 'pratica': 1, 'adequada': 1, 'enquanto': 1, 'cuida': 1, 'alto': 1, 'associadas': 1, 'muitas': 1, 'porque': 1, 'simplesmente': 1, 'instalações': 2, 'fazêlo': 1, 'principais': 3, 'desafios': 2, 'falta': 1, 'recursos': 1, 'financeiros': 2, 'infraestruturas': 1, 'precárias': 1, 'o': 4, 'relatório': 2, 'progresso': 2, '2020': 1, 'wash': 1, 'mostra': 1, 'primeiro': 2, 'fundamentos': 1, 'revela': 1, 'globalmente': 1, 'quatro': 2, 'básicos': 1, 'água': 1, 'três': 2, 'suprimentos': 1, 'higienizar': 1, 'locais': 1, 'atendimento': 2, 'além': 1, 'disso': 1, 'acordo': 1, 'feita': 1, '88': 1, 'nível': 1, 'especialmente': 1, 'relação': 1, 'real': 1, 'significativamente': 1, 'menor': 1, 'em': 1, '2018': 1, '45': 1, 'programa': 1, 'nacional': 2, 'funcional': 1, 'comparação': 1, '53': 1, '71': 1, 'orçamento': 1, 'dedicado': 1, 'apoiar': 2, 'disponível': 1, 'contra': 1, '18': 1, '50': 2, 'embora': 1, 'diretrizes': 1, 'existissem': 1, '69': 1, '77': 1, '29': 1, '57': 1, 'planos': 1, 'estratégias': 4, 'geral': 1, '22': 1, 'todos': 5, 'monitoraram': 1, 'impacto': 1, 'poucos': 1, 'capacidade': 1, 'monitorar': 1, 'eficácia': 1, 'plataforma': 1, 'virtual': 1, 'protegida': 1, 'coletarem': 1, 'dados': 2, 'maneira': 1, 'padronizada': 1, 'fácil': 1, 'usar': 1, 'bem': 2, 'baixarem': 1, 'análise': 1, 'situação': 1, 'após': 1, 'entrada': 1, 'juntamente': 1, 'orientações': 1, 'áreas': 1, 'abordagens': 1, 'melhoria': 2, 'as': 1, 'área': 1, 'afetam': 1, 'milhões': 2, 'todo': 3, 'mundo': 3, 'anos': 2, 'quase': 1, '9': 1, 'registradas': 1, 'europa': 1, 'metade': 1, 'dessas': 1, 'pode': 4, 'evitada': 1, 'eficazes': 2, 'incluindo': 1, 'essas': 1, 'podem': 1, 'prevenir': 1, 'mortes': 1, 'relacionadas': 1, 'ocorrem': 1, 'investir': 1, 'gerar': 2, 'retornos': 2, 'significativos': 1, 'políticas': 1, 'econômicos': 1, '16': 1, 'custo': 1, 'entanto': 1, 'oportunidades': 1, 'iguais': 1, 'implantar': 1, 'sistemas': 1, 'apropriados': 1, 'corretas': 1, 'evitar': 1, 'sofrimento': 1, 'causado': 1, 'importante': 2, 'nunca': 1, 'ajudar': 1, 'sustentar': 1, 'desta': 1, 'básica': 1, 'fundamental': 2, 'esta': 1, 'atoreschave': 1, 'torno': 1, 'slogan': 1, '“': 2, 'salvam': 1, 'higienize': 1, '”': 2, 'declarou': 1, '2021': 1, 'ano': 1, 'internacionais': 1, 'trabalhadores': 1, 'cuidadores': 1, 'fim': 1, 'proteger': 1, 'essenciais': 1, 'evidências': 1, 'mostram': 1, 'adequadas': 1, 'reduzem': 1, 'portanto': 1, 'envolver': 1, 'diferentes': 1, 'sociedade': 1, 'nesta': 1, 'data': 2, 'iniciativa': 1, 'conformidade': 1, 'indicadores': 1, 'desempenho': 1, 'segurança': 1, 'paciente': 1, 'qualidade': 1, 'desempenhar': 1, 'papel': 1, 'melhorar': 1, 'questão': 1, 'brasil': 1, 'panamericana': 1, 'saúdeorganização': 1, 'opasoms': 1, 'celebra': 1, 'parceria': 1, 'agência': 1, 'vigilância': 1, 'sanitária': 1, 'anvisa': 1}\n"
     ]
    }
   ],
   "source": [
    "# Tratamento de caracteres indesejados é a frequência daquela palavra.\n",
    "import text as text\n",
    "freq = text.bag_of_words('selecionadas_NACOESUNIDAS_HM_2021.txt')\n",
    "\n",
    "# Imprimir a frequencia de cada palavra\n",
    "print(f'\\nFrequência das palavras:{freq}')"
   ]
  },
  {
   "cell_type": "code",
   "execution_count": 4,
   "id": "c7634c31",
   "metadata": {},
   "outputs": [
    {
     "name": "stdout",
     "output_type": "stream",
     "text": [
      "Classificação das palavras pela frequência: {'mãos': 21, 'países': 20, 'higienização': 19, 'infecções': 17, 'saúde': 16, 'renda': 15, 'oms': 11, 'prevenção': 11, 'controle': 10, 'baixa': 10, 'apenas': 9, 'alta': 9, 'práticas': 8, 'implementação': 8, 'mundial': 7, 'a': 7, 'média': 7, 'sobre': 6, 'pacientes': 6, 'no': 5, 'programas': 5, 'profissionais': 5, 'todos': 5, 'outras': 4, 'dia': 4, 'ação': 4, 'alguns': 4, 'segundos': 4, 'vidas': 4, 'pesquisa': 4, 'global': 4, 'boa': 4, 'medidas': 4, 'risco': 4, 'têm': 4, 'vezes': 4, 'unidades': 4, 'cada': 4, 'o': 4, 'estratégias': 4, 'pode': 4, '5': 3, 'organização': 3, 'promoção': 3, 'leva': 3, 'salva': 3, 'uma': 3, 'nacionais': 3, 'necessidade': 3, 'urgente': 3, 'reduzir': 3, 'desigualdades': 3, 'disponibilidade': 3, 'portal': 3, 'monitoramento': 3, 'serviços': 3, 'principais': 3, 'todo': 3, 'mundo': 3, 'pede': 2, 'celebrado': 2, 'neste': 2, 'maio': 2, 'reforça': 2, 'importância': 2, 'lembra': 2, 'destaca': 2, 'este': 2, 'sério': 2, 'desafio': 2, 'qualquer': 2, 'momento': 2, 'covid19': 2, 'demonstrou': 2, 'dramaticamente': 2, 'quão': 2, 'importantes': 2, 'boas': 2, 'redução': 2, 'transmissão': 2, 'usadas': 2, 'parte': 2, 'pacote': 2, 'abrangente': 2, 'preventivas': 2, 'um': 2, 'novo': 2, 'adquiridas': 2, 'atenção': 2, 'resistência': 2, 'antimicrobiana': 2, 'infecção': 2, 'durante': 2, 'respectivamente': 2, 'uti': 2, '20': 2, 'instalações': 2, 'desafios': 2, 'financeiros': 2, 'relatório': 2, 'progresso': 2, 'primeiro': 2, 'quatro': 2, 'três': 2, 'atendimento': 2, 'nacional': 2, 'apoiar': 2, '50': 2, 'dados': 2, 'bem': 2, 'melhoria': 2, 'milhões': 2, 'anos': 2, 'eficazes': 2, 'gerar': 2, 'retornos': 2, 'importante': 2, 'fundamental': 2, '“': 2, '”': 2, 'data': 2, 'melhor': 1, 'alerta': 1, 'ajudará': 1, 'identificar': 1, 'preencher': 1, 'lacunas': 1, 'vital': 1, 'quaisquer': 1, 'propagação': 1, 'ameaças': 1, 'emergentes': 1, 'adquirida': 1, 'prestação': 1, 'grande': 1, 'problema': 1, 'duas': 1, 'probabilidade': 1, '15': 1, '7': 1, 'terapia': 1, 'intensiva': 1, 'principalmente': 1, 'recémnascidos': 1, '2': 1, 'maior': 1, 'razão': 1, '10': 1, 'pratica': 1, 'adequada': 1, 'enquanto': 1, 'cuida': 1, 'alto': 1, 'associadas': 1, 'muitas': 1, 'porque': 1, 'simplesmente': 1, 'fazêlo': 1, 'falta': 1, 'recursos': 1, 'infraestruturas': 1, 'precárias': 1, '2020': 1, 'wash': 1, 'mostra': 1, 'fundamentos': 1, 'revela': 1, 'globalmente': 1, 'básicos': 1, 'água': 1, 'suprimentos': 1, 'higienizar': 1, 'locais': 1, 'além': 1, 'disso': 1, 'acordo': 1, 'feita': 1, '88': 1, 'nível': 1, 'especialmente': 1, 'relação': 1, 'real': 1, 'significativamente': 1, 'menor': 1, 'em': 1, '2018': 1, '45': 1, 'programa': 1, 'funcional': 1, 'comparação': 1, '53': 1, '71': 1, 'orçamento': 1, 'dedicado': 1, 'disponível': 1, 'contra': 1, '18': 1, 'embora': 1, 'diretrizes': 1, 'existissem': 1, '69': 1, '77': 1, '29': 1, '57': 1, 'planos': 1, 'geral': 1, '22': 1, 'monitoraram': 1, 'impacto': 1, 'poucos': 1, 'capacidade': 1, 'monitorar': 1, 'eficácia': 1, 'plataforma': 1, 'virtual': 1, 'protegida': 1, 'coletarem': 1, 'maneira': 1, 'padronizada': 1, 'fácil': 1, 'usar': 1, 'baixarem': 1, 'análise': 1, 'situação': 1, 'após': 1, 'entrada': 1, 'juntamente': 1, 'orientações': 1, 'áreas': 1, 'abordagens': 1, 'as': 1, 'área': 1, 'afetam': 1, 'quase': 1, '9': 1, 'registradas': 1, 'europa': 1, 'metade': 1, 'dessas': 1, 'evitada': 1, 'incluindo': 1, 'essas': 1, 'podem': 1, 'prevenir': 1, 'mortes': 1, 'relacionadas': 1, 'ocorrem': 1, 'investir': 1, 'significativos': 1, 'políticas': 1, 'econômicos': 1, '16': 1, 'custo': 1, 'entanto': 1, 'oportunidades': 1, 'iguais': 1, 'implantar': 1, 'sistemas': 1, 'apropriados': 1, 'corretas': 1, 'evitar': 1, 'sofrimento': 1, 'causado': 1, 'nunca': 1, 'ajudar': 1, 'sustentar': 1, 'desta': 1, 'básica': 1, 'esta': 1, 'atoreschave': 1, 'torno': 1, 'slogan': 1, 'salvam': 1, 'higienize': 1, 'declarou': 1, '2021': 1, 'ano': 1, 'internacionais': 1, 'trabalhadores': 1, 'cuidadores': 1, 'fim': 1, 'proteger': 1, 'essenciais': 1, 'evidências': 1, 'mostram': 1, 'adequadas': 1, 'reduzem': 1, 'portanto': 1, 'envolver': 1, 'diferentes': 1, 'sociedade': 1, 'nesta': 1, 'iniciativa': 1, 'conformidade': 1, 'indicadores': 1, 'desempenho': 1, 'segurança': 1, 'paciente': 1, 'qualidade': 1, 'desempenhar': 1, 'papel': 1, 'melhorar': 1, 'questão': 1, 'brasil': 1, 'panamericana': 1, 'saúdeorganização': 1, 'opasoms': 1, 'celebra': 1, 'parceria': 1, 'agência': 1, 'vigilância': 1, 'sanitária': 1, 'anvisa': 1}\n",
      "\n"
     ]
    }
   ],
   "source": [
    "# Retorna as palavras classificadas pelo maior frequencia\n",
    "most = text.most_frequent(freq, qt_palavras)\n",
    "print(f'Classificação das palavras pela frequência: {most}\\n')"
   ]
  },
  {
   "cell_type": "code",
   "execution_count": 5,
   "id": "1d102987",
   "metadata": {},
   "outputs": [],
   "source": [
    "# Criar um arquivo de saída chamado palavras_ANVISA_HM_2020.csv contendo as palavras e suas frequências.\n",
    "arquivo_saida = open(\"palavras_NACOESUNIDAS_HM_2021.csv\",\"w\") "
   ]
  },
  {
   "cell_type": "code",
   "execution_count": 6,
   "id": "993cbbd8",
   "metadata": {},
   "outputs": [],
   "source": [
    "# Gravando palavras e frequência no arquivo csv\n",
    "import text as text\n",
    "grava = text.write_frequencies_csv(\"palavras_NACOESUNIDAS_HM_2021.csv\", freq)"
   ]
  },
  {
   "cell_type": "code",
   "execution_count": 7,
   "id": "2f2bcdd8",
   "metadata": {},
   "outputs": [
    {
     "data": {
      "text/html": [
       "<div>\n",
       "<style scoped>\n",
       "    .dataframe tbody tr th:only-of-type {\n",
       "        vertical-align: middle;\n",
       "    }\n",
       "\n",
       "    .dataframe tbody tr th {\n",
       "        vertical-align: top;\n",
       "    }\n",
       "\n",
       "    .dataframe thead th {\n",
       "        text-align: right;\n",
       "    }\n",
       "</style>\n",
       "<table border=\"1\" class=\"dataframe\">\n",
       "  <thead>\n",
       "    <tr style=\"text-align: right;\">\n",
       "      <th></th>\n",
       "      <th>Palavras</th>\n",
       "      <th>Frequência</th>\n",
       "    </tr>\n",
       "  </thead>\n",
       "  <tbody>\n",
       "    <tr>\n",
       "      <th>0</th>\n",
       "      <td>oms</td>\n",
       "      <td>11</td>\n",
       "    </tr>\n",
       "    <tr>\n",
       "      <th>1</th>\n",
       "      <td>pede</td>\n",
       "      <td>2</td>\n",
       "    </tr>\n",
       "    <tr>\n",
       "      <th>2</th>\n",
       "      <td>melhor</td>\n",
       "      <td>1</td>\n",
       "    </tr>\n",
       "    <tr>\n",
       "      <th>3</th>\n",
       "      <td>higienização</td>\n",
       "      <td>19</td>\n",
       "    </tr>\n",
       "    <tr>\n",
       "      <th>4</th>\n",
       "      <td>mãos</td>\n",
       "      <td>21</td>\n",
       "    </tr>\n",
       "    <tr>\n",
       "      <th>...</th>\n",
       "      <td>...</td>\n",
       "      <td>...</td>\n",
       "    </tr>\n",
       "    <tr>\n",
       "      <th>308</th>\n",
       "      <td>parceria</td>\n",
       "      <td>1</td>\n",
       "    </tr>\n",
       "    <tr>\n",
       "      <th>309</th>\n",
       "      <td>agência</td>\n",
       "      <td>1</td>\n",
       "    </tr>\n",
       "    <tr>\n",
       "      <th>310</th>\n",
       "      <td>vigilância</td>\n",
       "      <td>1</td>\n",
       "    </tr>\n",
       "    <tr>\n",
       "      <th>311</th>\n",
       "      <td>sanitária</td>\n",
       "      <td>1</td>\n",
       "    </tr>\n",
       "    <tr>\n",
       "      <th>312</th>\n",
       "      <td>anvisa</td>\n",
       "      <td>1</td>\n",
       "    </tr>\n",
       "  </tbody>\n",
       "</table>\n",
       "<p>313 rows × 2 columns</p>\n",
       "</div>"
      ],
      "text/plain": [
       "         Palavras  Frequência\n",
       "0             oms          11\n",
       "1            pede           2\n",
       "2          melhor           1\n",
       "3    higienização          19\n",
       "4            mãos          21\n",
       "..            ...         ...\n",
       "308      parceria           1\n",
       "309       agência           1\n",
       "310    vigilância           1\n",
       "311     sanitária           1\n",
       "312        anvisa           1\n",
       "\n",
       "[313 rows x 2 columns]"
      ]
     },
     "execution_count": 7,
     "metadata": {},
     "output_type": "execute_result"
    }
   ],
   "source": [
    "# Carregando e visualizando dados do arquivo csv\n",
    "import pandas as pd\n",
    "data = pd.read_csv('palavras_NACOESUNIDAS_HM_2021.csv', sep=';')\n",
    "data"
   ]
  }
 ],
 "metadata": {
  "kernelspec": {
   "display_name": "Python 3 (ipykernel)",
   "language": "python",
   "name": "python3"
  },
  "language_info": {
   "codemirror_mode": {
    "name": "ipython",
    "version": 3
   },
   "file_extension": ".py",
   "mimetype": "text/x-python",
   "name": "python",
   "nbconvert_exporter": "python",
   "pygments_lexer": "ipython3",
   "version": "3.9.12"
  }
 },
 "nbformat": 4,
 "nbformat_minor": 5
}
