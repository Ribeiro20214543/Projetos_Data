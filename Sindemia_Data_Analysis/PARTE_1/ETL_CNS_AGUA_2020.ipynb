{
 "cells": [
  {
   "cell_type": "markdown",
   "id": "a4bb9b7f",
   "metadata": {},
   "source": [
    "# Preparando o texto para análise\n",
    "\n",
    "Arquivo de entrada: **CNS_AGUA_2020.txt**\n",
    "\n",
    "Arquivo pós-tratamento: **selecionadas_CNS_AGUA_2020.txt**\n",
    "\n",
    "Arquivo de saída: **palavras_CNS_AGUA_2020.csv**\n",
    "\n",
    "## ETAPAS\n",
    "1 - extração;\n",
    "\n",
    "2 - tratamento;\n",
    "\n",
    "3 - limpeza;\n",
    "\n",
    "4 - seleção das palavras a serem analisadas;\n",
    "\n",
    "5 - armazenamento das palavras selecionadas em arquivo separado (ARQUIVO PÓS-TRATAMENTO);\n",
    "\n",
    "6 - contagem da frequência das palavras serem analisadas;\n",
    "\n",
    "7 - criação de um dataframe para armazenamento dos dados com a frequência das palavras a serem analisadas;\n",
    "\n",
    "8 - armazenamento do dataframe em arquivo separado (ARQUIVO DE SAÍDA)."
   ]
  },
  {
   "cell_type": "code",
   "execution_count": 1,
   "id": "b6adf867",
   "metadata": {},
   "outputs": [],
   "source": [
    "# importando biblioteca a serem utilizadas no projeto\n",
    "import re\n",
    "import nltk\n",
    "from nltk import word_tokenize\n",
    "from nltk.corpus import stopwords\n",
    "import string\n",
    "import text as text"
   ]
  },
  {
   "cell_type": "code",
   "execution_count": 2,
   "id": "015de030",
   "metadata": {},
   "outputs": [
    {
     "name": "stdout",
     "output_type": "stream",
     "text": [
      "Ao Comitê de Crise para Supervisão e Monitoramento dos Impactos da Covid-19:\n",
      "Que sejam tomadas as providências necessárias para o abastecimento imediato de água em todas as regiões do país, em especial ondem vivem pessoas sem acesso à água, para que as mesmas possam exercer o seu direito de implementarem as medidas sanitárias orientadas pelo Ministério da Saúde;\n",
      "Que seja vedado o corte do abastecimento de água por inadimplência do consumidor residencial em todo o território nacional.\n"
     ]
    }
   ],
   "source": [
    "# abrindo arquivo e colocando o texto em minusculo\n",
    "texto = open('CNS_AGUA_2020.txt','r',encoding='UTF=8').read()\n",
    "print(texto)"
   ]
  },
  {
   "cell_type": "code",
   "execution_count": 3,
   "id": "3a5221cd",
   "metadata": {},
   "outputs": [
    {
     "name": "stdout",
     "output_type": "stream",
     "text": [
      "Quantidade total de palavras do texto: 503\n"
     ]
    }
   ],
   "source": [
    "# Contando o total de palavras do texto\n",
    "t_linhas = len(texto)\n",
    "print('Quantidade total de palavras do texto:', t_linhas)"
   ]
  },
  {
   "cell_type": "code",
   "execution_count": 4,
   "id": "cb115edb",
   "metadata": {},
   "outputs": [
    {
     "name": "stdout",
     "output_type": "stream",
     "text": [
      "ao comitê de crise para supervisão e monitoramento dos impactos da covid-19:\n",
      "que sejam tomadas as providências necessárias para o abastecimento imediato de água em todas as regiões do país, em especial ondem vivem pessoas sem acesso à água, para que as mesmas possam exercer o seu direito de implementarem as medidas sanitárias orientadas pelo ministério da saúde;\n",
      "que seja vedado o corte do abastecimento de água por inadimplência do consumidor residencial em todo o território nacional.\n"
     ]
    }
   ],
   "source": [
    "# reabrindo arquivo e colocando o texto em minusculo\n",
    "\n",
    "arquivo = open('CNS_AGUA_2020.txt','r',encoding='UTF=8').read()\n",
    "texto_lower = arquivo.lower()\n",
    "\n",
    "print(texto_lower)"
   ]
  },
  {
   "cell_type": "code",
   "execution_count": 5,
   "id": "560a366a",
   "metadata": {},
   "outputs": [
    {
     "name": "stdout",
     "output_type": "stream",
     "text": [
      "Ao Comitê de Crise para Supervisão e Monitoramento dos Impactos da Covid19\n",
      "Que sejam tomadas as providências necessárias para o abastecimento imediato de água em todas as regiões do país em especial ondem vivem pessoas sem acesso à água para que as mesmas possam exercer o seu direito de implementarem as medidas sanitárias orientadas pelo Ministério da Saúde\n",
      "Que seja vedado o corte do abastecimento de água por inadimplência do consumidor residencial em todo o território nacional\n"
     ]
    }
   ],
   "source": [
    " # remoção de pontuação\n",
    "    \n",
    "text_sem_pontuar = ''.join ([palavra for palavra in texto if palavra not in string.punctuation])\n",
    "print(text_sem_pontuar)"
   ]
  },
  {
   "cell_type": "code",
   "execution_count": 6,
   "id": "9dbe23c0",
   "metadata": {},
   "outputs": [
    {
     "name": "stdout",
     "output_type": "stream",
     "text": [
      "['Ao', 'Comitê', 'de', 'Crise', 'para', 'Supervisão', 'e', 'Monitoramento', 'dos', 'Impactos', 'da', 'Covid19', 'Que', 'sejam', 'tomadas', 'as', 'providências', 'necessárias', 'para', 'o', 'abastecimento', 'imediato', 'de', 'água', 'em', 'todas', 'as', 'regiões', 'do', 'país', 'em', 'especial', 'ondem', 'vivem', 'pessoas', 'sem', 'acesso', 'à', 'água', 'para', 'que', 'as', 'mesmas', 'possam', 'exercer', 'o', 'seu', 'direito', 'de', 'implementarem', 'as', 'medidas', 'sanitárias', 'orientadas', 'pelo', 'Ministério', 'da', 'Saúde', 'Que', 'seja', 'vedado', 'o', 'corte', 'do', 'abastecimento', 'de', 'água', 'por', 'inadimplência', 'do', 'consumidor', 'residencial', 'em', 'todo', 'o', 'território', 'nacional']\n"
     ]
    }
   ],
   "source": [
    "# Tokenizando  - texto\n",
    "\n",
    "tokens = nltk.word_tokenize(text_sem_pontuar)\n",
    "print(tokens)"
   ]
  },
  {
   "cell_type": "code",
   "execution_count": 7,
   "id": "b507275f",
   "metadata": {},
   "outputs": [
    {
     "name": "stdout",
     "output_type": "stream",
     "text": [
      "Palavras removidas: \n",
      "\n",
      "['a', 'à', 'ao', 'aos', 'aquela', 'aquelas', 'aquele', 'aqueles', 'aquilo', 'as', 'às', 'até', 'com', 'como', 'da', 'das', 'de', 'dela', 'delas', 'dele', 'deles', 'depois', 'do', 'dos', 'e', 'é', 'ela', 'elas', 'ele', 'eles', 'em', 'entre', 'era', 'eram', 'éramos', 'essa', 'essas', 'esse', 'esses', 'esta', 'está', 'estamos', 'estão', 'estar', 'estas', 'estava', 'estavam', 'estávamos', 'este', 'esteja', 'estejam', 'estejamos', 'estes', 'esteve', 'estive', 'estivemos', 'estiver', 'estivera', 'estiveram', 'estivéramos', 'estiverem', 'estivermos', 'estivesse', 'estivessem', 'estivéssemos', 'estou', 'eu', 'foi', 'fomos', 'for', 'fora', 'foram', 'fôramos', 'forem', 'formos', 'fosse', 'fossem', 'fôssemos', 'fui', 'há', 'haja', 'hajam', 'hajamos', 'hão', 'havemos', 'haver', 'hei', 'houve', 'houvemos', 'houver', 'houvera', 'houverá', 'houveram', 'houvéramos', 'houverão', 'houverei', 'houverem', 'houveremos', 'houveria', 'houveriam', 'houveríamos', 'houvermos', 'houvesse', 'houvessem', 'houvéssemos', 'isso', 'isto', 'já', 'lhe', 'lhes', 'mais', 'mas', 'me', 'mesmo', 'meu', 'meus', 'minha', 'minhas', 'muito', 'na', 'não', 'nas', 'nem', 'no', 'nos', 'nós', 'nossa', 'nossas', 'nosso', 'nossos', 'num', 'numa', 'o', 'os', 'ou', 'para', 'pela', 'pelas', 'pelo', 'pelos', 'por', 'qual', 'quando', 'que', 'quem', 'são', 'se', 'seja', 'sejam', 'sejamos', 'sem', 'ser', 'será', 'serão', 'serei', 'seremos', 'seria', 'seriam', 'seríamos', 'seu', 'seus', 'só', 'somos', 'sou', 'sua', 'suas', 'também', 'te', 'tem', 'tém', 'temos', 'tenha', 'tenham', 'tenhamos', 'tenho', 'terá', 'terão', 'terei', 'teremos', 'teria', 'teriam', 'teríamos', 'teu', 'teus', 'teve', 'tinha', 'tinham', 'tínhamos', 'tive', 'tivemos', 'tiver', 'tivera', 'tiveram', 'tivéramos', 'tiverem', 'tivermos', 'tivesse', 'tivessem', 'tivéssemos', 'tu', 'tua', 'tuas', 'um', 'uma', 'você', 'vocês', 'vos'] \n",
      "\n",
      "Texto após remoção das stopwords: \n",
      "\n",
      " ['Ao', 'Comitê', 'Crise', 'Supervisão', 'Monitoramento', 'Impactos', 'Covid19', 'Que', 'tomadas', 'providências', 'necessárias', 'abastecimento', 'imediato', 'água', 'todas', 'regiões', 'país', 'especial', 'ondem', 'vivem', 'pessoas', 'acesso', 'à', 'água', 'mesmas', 'possam', 'exercer', 'direito', 'implementarem', 'medidas', 'sanitárias', 'orientadas', 'Ministério', 'Saúde', 'Que', 'vedado', 'corte', 'abastecimento', 'água', 'inadimplência', 'consumidor', 'residencial', 'todo', 'território', 'nacional']\n"
     ]
    },
    {
     "name": "stderr",
     "output_type": "stream",
     "text": [
      "[nltk_data] Downloading package stopwords to\n",
      "[nltk_data]     /home/patrick/nltk_data...\n",
      "[nltk_data]   Package stopwords is already up-to-date!\n"
     ]
    }
   ],
   "source": [
    "# remoção de Stapwords - ou seja, remoção de palavras que não causam prejuijo ao sentido do texto\n",
    "\n",
    "from nltk.corpus import stopwords\n",
    "\n",
    "nltk.download('stopwords')\n",
    "stopwords = stopwords.words('portuguese')\n",
    "\n",
    "palavras_play = [palavra for palavra in tokens if palavra not in stopwords]\n",
    "print(f'Palavras removidas: \\n\\n{stopwords} \\n')\n",
    "\n",
    "print(f'Texto após remoção das stopwords: \\n\\n {palavras_play}')"
   ]
  },
  {
   "cell_type": "code",
   "execution_count": 8,
   "id": "c01cd7a4",
   "metadata": {},
   "outputs": [],
   "source": [
    "palavras_selecionadas = ', '.join(palavras_play)"
   ]
  },
  {
   "cell_type": "code",
   "execution_count": 9,
   "id": "1f8c0bf5",
   "metadata": {},
   "outputs": [
    {
     "data": {
      "text/plain": [
       "432"
      ]
     },
     "execution_count": 9,
     "metadata": {},
     "output_type": "execute_result"
    }
   ],
   "source": [
    "# Criando arquivo e gravando palavras selecionadas nele\n",
    "arquivo = open('selecionadas_CNS_AGUA_2020.txt', 'w')\n",
    "arquivo.write(palavras_selecionadas)"
   ]
  },
  {
   "cell_type": "code",
   "execution_count": 1,
   "id": "ed53441f",
   "metadata": {},
   "outputs": [
    {
     "name": "stdout",
     "output_type": "stream",
     "text": [
      "Ao, Comitê, Crise, Supervisão, Monitoramento, Impactos, Covid19, Que, tomadas, providências, necessárias, abastecimento, imediato, água, todas, regiões, país, especial, ondem, vivem, pessoas, acesso, à, água, mesmas, possam, exercer, direito, implementarem, medidas, sanitárias, orientadas, Ministério, Saúde, Que, vedado, corte, abastecimento, água, inadimplência, consumidor, residencial, todo, território, nacional\n"
     ]
    }
   ],
   "source": [
    "# abrindo arquivo com as palavras selecionadas \n",
    "texto2 = open('selecionadas_CNS_AGUA_2020.txt','r',encoding='UTF=8').read()\n",
    "print(texto2)"
   ]
  },
  {
   "cell_type": "code",
   "execution_count": 2,
   "id": "a82c3856",
   "metadata": {},
   "outputs": [
    {
     "name": "stdout",
     "output_type": "stream",
     "text": [
      "O texto apresenta 432 palavras no total.\n"
     ]
    }
   ],
   "source": [
    "# Contar o quantidade de palavras no texto\n",
    "qt_palavras = len(texto2)\n",
    "print(f'O texto apresenta {qt_palavras} palavras no total.')"
   ]
  },
  {
   "cell_type": "code",
   "execution_count": 3,
   "id": "7bfa9d6e",
   "metadata": {},
   "outputs": [
    {
     "name": "stdout",
     "output_type": "stream",
     "text": [
      "\n",
      "Frequência das palavras:{'ao': 1, 'comitê': 1, 'crise': 1, 'supervisão': 1, 'monitoramento': 1, 'impactos': 1, 'covid19': 1, 'que': 2, 'tomadas': 1, 'providências': 1, 'necessárias': 1, 'abastecimento': 2, 'imediato': 1, 'água': 3, 'todas': 1, 'regiões': 1, 'país': 1, 'especial': 1, 'ondem': 1, 'vivem': 1, 'pessoas': 1, 'acesso': 1, 'à': 1, 'mesmas': 1, 'possam': 1, 'exercer': 1, 'direito': 1, 'implementarem': 1, 'medidas': 1, 'sanitárias': 1, 'orientadas': 1, 'ministério': 1, 'saúde': 1, 'vedado': 1, 'corte': 1, 'inadimplência': 1, 'consumidor': 1, 'residencial': 1, 'todo': 1, 'território': 1, 'nacional': 1}\n"
     ]
    }
   ],
   "source": [
    "# Tratamento de caracteres indesejados é a frequência daquela palavra.\n",
    "import text as text\n",
    "freq = text.bag_of_words('selecionadas_CNS_AGUA_2020.txt')\n",
    "\n",
    "# Imprimir a frequencia de cada palavra\n",
    "print(f'\\nFrequência das palavras:{freq}')"
   ]
  },
  {
   "cell_type": "code",
   "execution_count": 4,
   "id": "c7634c31",
   "metadata": {},
   "outputs": [
    {
     "name": "stdout",
     "output_type": "stream",
     "text": [
      "Classificação das palavras pela frequência: {'água': 3, 'que': 2, 'abastecimento': 2, 'ao': 1, 'comitê': 1, 'crise': 1, 'supervisão': 1, 'monitoramento': 1, 'impactos': 1, 'covid19': 1, 'tomadas': 1, 'providências': 1, 'necessárias': 1, 'imediato': 1, 'todas': 1, 'regiões': 1, 'país': 1, 'especial': 1, 'ondem': 1, 'vivem': 1, 'pessoas': 1, 'acesso': 1, 'à': 1, 'mesmas': 1, 'possam': 1, 'exercer': 1, 'direito': 1, 'implementarem': 1, 'medidas': 1, 'sanitárias': 1, 'orientadas': 1, 'ministério': 1, 'saúde': 1, 'vedado': 1, 'corte': 1, 'inadimplência': 1, 'consumidor': 1, 'residencial': 1, 'todo': 1, 'território': 1, 'nacional': 1}\n",
      "\n"
     ]
    }
   ],
   "source": [
    "# Retorna as palavras classificadas pelo maior frequencia\n",
    "most = text.most_frequent(freq, qt_palavras)\n",
    "print(f'Classificação das palavras pela frequência: {most}\\n')"
   ]
  },
  {
   "cell_type": "code",
   "execution_count": 5,
   "id": "1d102987",
   "metadata": {},
   "outputs": [],
   "source": [
    "# Criar um arquivo de saída chamado palavras_ANVISA_HM_2020.csv contendo as palavras e suas frequências.\n",
    "arquivo_saida = open(\"palavras_CNS_AGUA_2020.csv\",\"w\") "
   ]
  },
  {
   "cell_type": "code",
   "execution_count": 6,
   "id": "993cbbd8",
   "metadata": {},
   "outputs": [],
   "source": [
    "# Gravando palavras e frequência no arquivo csv\n",
    "import text as text\n",
    "grava = text.write_frequencies_csv(\"palavras_CNS_AGUA_2020.csv\", freq)"
   ]
  },
  {
   "cell_type": "code",
   "execution_count": 7,
   "id": "2f2bcdd8",
   "metadata": {},
   "outputs": [
    {
     "data": {
      "text/html": [
       "<div>\n",
       "<style scoped>\n",
       "    .dataframe tbody tr th:only-of-type {\n",
       "        vertical-align: middle;\n",
       "    }\n",
       "\n",
       "    .dataframe tbody tr th {\n",
       "        vertical-align: top;\n",
       "    }\n",
       "\n",
       "    .dataframe thead th {\n",
       "        text-align: right;\n",
       "    }\n",
       "</style>\n",
       "<table border=\"1\" class=\"dataframe\">\n",
       "  <thead>\n",
       "    <tr style=\"text-align: right;\">\n",
       "      <th></th>\n",
       "      <th>Palavras</th>\n",
       "      <th>Frequência</th>\n",
       "    </tr>\n",
       "  </thead>\n",
       "  <tbody>\n",
       "    <tr>\n",
       "      <th>0</th>\n",
       "      <td>ao</td>\n",
       "      <td>1</td>\n",
       "    </tr>\n",
       "    <tr>\n",
       "      <th>1</th>\n",
       "      <td>comitê</td>\n",
       "      <td>1</td>\n",
       "    </tr>\n",
       "    <tr>\n",
       "      <th>2</th>\n",
       "      <td>crise</td>\n",
       "      <td>1</td>\n",
       "    </tr>\n",
       "    <tr>\n",
       "      <th>3</th>\n",
       "      <td>supervisão</td>\n",
       "      <td>1</td>\n",
       "    </tr>\n",
       "    <tr>\n",
       "      <th>4</th>\n",
       "      <td>monitoramento</td>\n",
       "      <td>1</td>\n",
       "    </tr>\n",
       "    <tr>\n",
       "      <th>5</th>\n",
       "      <td>impactos</td>\n",
       "      <td>1</td>\n",
       "    </tr>\n",
       "    <tr>\n",
       "      <th>6</th>\n",
       "      <td>covid19</td>\n",
       "      <td>1</td>\n",
       "    </tr>\n",
       "    <tr>\n",
       "      <th>7</th>\n",
       "      <td>que</td>\n",
       "      <td>2</td>\n",
       "    </tr>\n",
       "    <tr>\n",
       "      <th>8</th>\n",
       "      <td>tomadas</td>\n",
       "      <td>1</td>\n",
       "    </tr>\n",
       "    <tr>\n",
       "      <th>9</th>\n",
       "      <td>providências</td>\n",
       "      <td>1</td>\n",
       "    </tr>\n",
       "    <tr>\n",
       "      <th>10</th>\n",
       "      <td>necessárias</td>\n",
       "      <td>1</td>\n",
       "    </tr>\n",
       "    <tr>\n",
       "      <th>11</th>\n",
       "      <td>abastecimento</td>\n",
       "      <td>2</td>\n",
       "    </tr>\n",
       "    <tr>\n",
       "      <th>12</th>\n",
       "      <td>imediato</td>\n",
       "      <td>1</td>\n",
       "    </tr>\n",
       "    <tr>\n",
       "      <th>13</th>\n",
       "      <td>água</td>\n",
       "      <td>3</td>\n",
       "    </tr>\n",
       "    <tr>\n",
       "      <th>14</th>\n",
       "      <td>todas</td>\n",
       "      <td>1</td>\n",
       "    </tr>\n",
       "    <tr>\n",
       "      <th>15</th>\n",
       "      <td>regiões</td>\n",
       "      <td>1</td>\n",
       "    </tr>\n",
       "    <tr>\n",
       "      <th>16</th>\n",
       "      <td>país</td>\n",
       "      <td>1</td>\n",
       "    </tr>\n",
       "    <tr>\n",
       "      <th>17</th>\n",
       "      <td>especial</td>\n",
       "      <td>1</td>\n",
       "    </tr>\n",
       "    <tr>\n",
       "      <th>18</th>\n",
       "      <td>ondem</td>\n",
       "      <td>1</td>\n",
       "    </tr>\n",
       "    <tr>\n",
       "      <th>19</th>\n",
       "      <td>vivem</td>\n",
       "      <td>1</td>\n",
       "    </tr>\n",
       "    <tr>\n",
       "      <th>20</th>\n",
       "      <td>pessoas</td>\n",
       "      <td>1</td>\n",
       "    </tr>\n",
       "    <tr>\n",
       "      <th>21</th>\n",
       "      <td>acesso</td>\n",
       "      <td>1</td>\n",
       "    </tr>\n",
       "    <tr>\n",
       "      <th>22</th>\n",
       "      <td>à</td>\n",
       "      <td>1</td>\n",
       "    </tr>\n",
       "    <tr>\n",
       "      <th>23</th>\n",
       "      <td>mesmas</td>\n",
       "      <td>1</td>\n",
       "    </tr>\n",
       "    <tr>\n",
       "      <th>24</th>\n",
       "      <td>possam</td>\n",
       "      <td>1</td>\n",
       "    </tr>\n",
       "    <tr>\n",
       "      <th>25</th>\n",
       "      <td>exercer</td>\n",
       "      <td>1</td>\n",
       "    </tr>\n",
       "    <tr>\n",
       "      <th>26</th>\n",
       "      <td>direito</td>\n",
       "      <td>1</td>\n",
       "    </tr>\n",
       "    <tr>\n",
       "      <th>27</th>\n",
       "      <td>implementarem</td>\n",
       "      <td>1</td>\n",
       "    </tr>\n",
       "    <tr>\n",
       "      <th>28</th>\n",
       "      <td>medidas</td>\n",
       "      <td>1</td>\n",
       "    </tr>\n",
       "    <tr>\n",
       "      <th>29</th>\n",
       "      <td>sanitárias</td>\n",
       "      <td>1</td>\n",
       "    </tr>\n",
       "    <tr>\n",
       "      <th>30</th>\n",
       "      <td>orientadas</td>\n",
       "      <td>1</td>\n",
       "    </tr>\n",
       "    <tr>\n",
       "      <th>31</th>\n",
       "      <td>ministério</td>\n",
       "      <td>1</td>\n",
       "    </tr>\n",
       "    <tr>\n",
       "      <th>32</th>\n",
       "      <td>saúde</td>\n",
       "      <td>1</td>\n",
       "    </tr>\n",
       "    <tr>\n",
       "      <th>33</th>\n",
       "      <td>vedado</td>\n",
       "      <td>1</td>\n",
       "    </tr>\n",
       "    <tr>\n",
       "      <th>34</th>\n",
       "      <td>corte</td>\n",
       "      <td>1</td>\n",
       "    </tr>\n",
       "    <tr>\n",
       "      <th>35</th>\n",
       "      <td>inadimplência</td>\n",
       "      <td>1</td>\n",
       "    </tr>\n",
       "    <tr>\n",
       "      <th>36</th>\n",
       "      <td>consumidor</td>\n",
       "      <td>1</td>\n",
       "    </tr>\n",
       "    <tr>\n",
       "      <th>37</th>\n",
       "      <td>residencial</td>\n",
       "      <td>1</td>\n",
       "    </tr>\n",
       "    <tr>\n",
       "      <th>38</th>\n",
       "      <td>todo</td>\n",
       "      <td>1</td>\n",
       "    </tr>\n",
       "    <tr>\n",
       "      <th>39</th>\n",
       "      <td>território</td>\n",
       "      <td>1</td>\n",
       "    </tr>\n",
       "    <tr>\n",
       "      <th>40</th>\n",
       "      <td>nacional</td>\n",
       "      <td>1</td>\n",
       "    </tr>\n",
       "  </tbody>\n",
       "</table>\n",
       "</div>"
      ],
      "text/plain": [
       "          Palavras  Frequência\n",
       "0               ao           1\n",
       "1          comitê           1\n",
       "2            crise           1\n",
       "3      supervisão           1\n",
       "4    monitoramento           1\n",
       "5         impactos           1\n",
       "6          covid19           1\n",
       "7              que           2\n",
       "8          tomadas           1\n",
       "9    providências           1\n",
       "10    necessárias           1\n",
       "11   abastecimento           2\n",
       "12        imediato           1\n",
       "13           água           3\n",
       "14           todas           1\n",
       "15        regiões           1\n",
       "16           país           1\n",
       "17        especial           1\n",
       "18           ondem           1\n",
       "19           vivem           1\n",
       "20         pessoas           1\n",
       "21          acesso           1\n",
       "22              à           1\n",
       "23          mesmas           1\n",
       "24          possam           1\n",
       "25         exercer           1\n",
       "26         direito           1\n",
       "27   implementarem           1\n",
       "28         medidas           1\n",
       "29     sanitárias           1\n",
       "30      orientadas           1\n",
       "31     ministério           1\n",
       "32          saúde           1\n",
       "33          vedado           1\n",
       "34           corte           1\n",
       "35  inadimplência           1\n",
       "36      consumidor           1\n",
       "37     residencial           1\n",
       "38            todo           1\n",
       "39     território           1\n",
       "40        nacional           1"
      ]
     },
     "execution_count": 7,
     "metadata": {},
     "output_type": "execute_result"
    }
   ],
   "source": [
    "# Carregando e visualizando dados do arquivo csv\n",
    "import pandas as pd\n",
    "data = pd.read_csv('palavras_CNS_AGUA_2020.csv', sep=';')\n",
    "data"
   ]
  }
 ],
 "metadata": {
  "kernelspec": {
   "display_name": "Python 3 (ipykernel)",
   "language": "python",
   "name": "python3"
  },
  "language_info": {
   "codemirror_mode": {
    "name": "ipython",
    "version": 3
   },
   "file_extension": ".py",
   "mimetype": "text/x-python",
   "name": "python",
   "nbconvert_exporter": "python",
   "pygments_lexer": "ipython3",
   "version": "3.9.12"
  }
 },
 "nbformat": 4,
 "nbformat_minor": 5
}
