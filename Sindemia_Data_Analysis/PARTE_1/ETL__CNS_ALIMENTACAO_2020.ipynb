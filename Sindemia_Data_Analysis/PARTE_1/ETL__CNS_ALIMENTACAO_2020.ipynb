{
 "cells": [
  {
   "cell_type": "markdown",
   "id": "a4bb9b7f",
   "metadata": {},
   "source": [
    "# Preparando o texto para análise\n",
    "\n",
    "Arquivo de entrada: **CNS_ALIMENTACAO_2020.txt**\n",
    "\n",
    "Arquivo pós-tratamento: **selecionadas_CNS_ALIMENTACAO_2020.txt**\n",
    "\n",
    "Arquivo de saída: **palavras_CNS_ALIMENTACAO_2020.csv**\n",
    "\n",
    "## ETAPAS\n",
    "1 - extração;\n",
    "\n",
    "2 - tratamento;\n",
    "\n",
    "3 - limpeza;\n",
    "\n",
    "4 - seleção das palavras a serem analisadas;\n",
    "\n",
    "5 - armazenamento das palavras selecionadas em arquivo separado (ARQUIVO PÓS-TRATAMENTO);\n",
    "\n",
    "6 - contagem da frequência das palavras serem analisadas;\n",
    "\n",
    "7 - criação de um dataframe para armazenamento dos dados com a frequência das palavras a serem analisadas;\n",
    "\n",
    "8 - armazenamento do dataframe em arquivo separado (ARQUIVO DE SAÍDA)."
   ]
  },
  {
   "cell_type": "code",
   "execution_count": 1,
   "id": "b6adf867",
   "metadata": {},
   "outputs": [],
   "source": [
    "# importando biblioteca a serem utilizadas no projeto\n",
    "import re\n",
    "import nltk\n",
    "from nltk import word_tokenize\n",
    "from nltk.corpus import stopwords\n",
    "import string\n",
    "import text as text"
   ]
  },
  {
   "cell_type": "code",
   "execution_count": 2,
   "id": "015de030",
   "metadata": {},
   "outputs": [
    {
     "name": "stdout",
     "output_type": "stream",
     "text": [
      "Ao Ministério da Saúde:\n",
      "Realização de campanhas de comunicação em massa e difusão de informações, com base técnico-científicas, em meio e formatos acessíveis e linguagem simples, com utilização de recurso de audiodescrição, legendas e LIBRAS, direcionadas à população sobre alimentação adequada e saudável e conservação de alimentos, assim como para trabalhadores e empreendedores envolvidos na cadeia de fornecimento de alimentos quanto ao uso de material de higiene e equipamentos individuais para mitigar os riscos de contágio e disseminação do COVID-19;\n",
      "Desenvolvimento de estratégias para  orientações,  aos profissionais da Atenção Primária em Saúde  sobre a importância da vigilância alimentar e nutricional, especialmente de populações mais vulneráveis como povos e comunidades tradicionais (como a população negra, quilombolas e povos indígenas) e grupos de risco para COVID-19, e sobre alimentação adequada e saudável, com incentivo ao aleitamento materno e ao consumo de alimentos in natura e minimamente processados, de acordo com as recomendações dos guias alimentares do Ministério da Saúde, por meio de linguagem acessível a toda a população, como forma de  proteger e  garantir a manutenção da saúde.\n",
      "Aos Governos Estaduais e Municipais:\n",
      "Apoio à criação de Comitês Estaduais e Municipais de Emergência para o Combate à Fome, formados pelas instâncias que tratam da Segurança Alimentar e Nutricional (SAN), como os Conselhos (CONSEA) e Câmaras Intersetoriais governamentais (CAISAN), Instituições de Ensino Superior (IES), em diálogo com as instâncias dos sistemas de saúde e de assistência social e sociedade civil, para monitorar e propor soluções articuladas e intersetoriais, com foco nos grupos mais vulneráveis à fome;\n",
      "Continuidade, ampliação e adequação da distribuição de alimentos pelos Equipamentos de Segurança Alimentar e Nutricional (Restaurantes Populares, Cozinhas Comunitárias e Bancos de Alimentos) e de cestas emergenciais de alimentos, com base na alimentação adequada e saudável, visando à manutenção da distribuição de alimentos, priorizando as organizações de assistência social que atendem os grupos de risco, as de longa permanência e as que podem apoiar as diferentes redes locais de solidariedade, realizando todas as adaptações e cuidados necessários para reduzir o risco de disseminação do vírus;\n",
      "Utilização de equipamentos públicos (escolas, universidades, centros da assistência social, centros comunitários, restaurantes populares, cozinhas comunitárias etc.), lideranças comunitárias e de territórios tradicionais de matriz africana, para promover a distribuição local direta de alimentos saudáveis e kits de higiene à população (inclusive de higiene feminina), especialmente nas periferias e favelas e aos estudantes cotistas, utilizando a logística de distribuição especialmente às pessoas com doenças crônicas e com fator de risco de desenvolvimento severo do quadro de COVID-19;\n",
      "Realização e fortalecimento, pela Atenção Primária à Saúde, da vigilância alimentar e nutricional, do acompanhamento nutricional, da identificação de agravos alimentares, fatores de risco e das necessidades alimentares da população, especialmente de povos e comunidades tradicionais, grupos que possuem fatores de risco para COVID-19 e grupos populacionais em condições de vulnerabilidade e iniquidade, como as populações assistidas pelos programas de transferência de renda;\n",
      "Realização de estratégias de promoção da alimentação adequada e saudável e aleitamento materno e orientação quanto a higienização e conservação dos alimentos pela equipe multiprofissional da Atenção Primária à Saúde, especialmente nutricionistas;\n",
      "Fortalecimento de circuitos curtos e de proximidade de comercialização de alimentos adequados e saudáveis, articulados com a promoção de equipamentos de varejo (pequeno comércio, feiras etc.), que garantam o acesso a esses alimentos pelas famílias mais vulneráveis, especialmente em periferias e favelas, ao tempo em que favorecem a geração de renda de pequenos produtores locais;\n",
      "Estímulo e apoio à logística e distribuição das iniciativas de agricultores/as e grupos de consumidores visando à compra direta da produção da agricultura familiar e das redes de comercialização agroecológicas, de modo a mitigar os riscos de contágio, e que possam ser também adquiridas pelos governos para a distribuição de cestas; observância dos critérios de distanciamento (nas filas) e uso de máscaras a todos os envolvidos (trabalhadores e população consumidora) no processo de distribuição e aquisição;\n",
      "Garantia de proteção sanitária e social das/os trabalhadoras/es em todas as atividades do sistema alimentar de quem dependemos para assegurar o abastecimento de alimentos, instando empregadores na agricultura, indústria e comércio a adotar medidas concretas nessa direção, e orientando trabalhadoras/es formais e informais sobre procedimentos requeridos com fornecimento de material de higiene e uso correto desses materiais;\n",
      "Desenvolvimento da gestão de equipamentos públicos de abastecimento (varejões, sacolões, mercados municipais, feiras) que atenda aos esforços para além de suas finalidades mercantis específicas, e com os devidos cuidados para reduzir o risco de contaminação;\n",
      "Elaboração de estratégias intersetoriais com o intuito de facilitar o acesso a financiamento aos pequenos agricultores, visando à continuidade da produção, com incentivos para a manutenção das operações; e\n",
      "Estabelecimento de parcerias para adoção de medidas visando facilitar o armazenamento das produções e auxiliar na redução de perdas pós-colheitas nas safras.\n",
      "À Câmara dos Deputados:\n",
      "A rejeição ao Projeto de Lei 1194/2020, que dispõe sobre o combate ao desperdício de alimentos e à doação de excedentes de refeições prontas para o consumo e dá outras providências, de autoria do Senador Fernando Collor (PROS/AL).\n",
      "Ao Ministério da Cidadania\n",
      "Reconstituição imediata da Câmara Interministerial de Segurança Alimentar e Nutricional (CAISAN), prevista no  Art. 11, Inciso III da Lei Orgânica de Segurança Alimentar e Nutricional (LOSAN), a quem cabe elaborar, coordenar e executar a Política e o Plano de SAN em nível federal, por meio da reunião de representantes do Governo Federal e articular as políticas e planos estaduais e do Distrito Federal; e\n",
      "Garantia da entrega de cestas de alimentos aos povos indígenas, quilombolas e famílias assentadas, cuja composição seja embasada nas recomendações do Guia Alimentar para a População Brasileira, com produtos in natura e minimamente processados, oriundos da agricultura familiar, agroecológicos e orgânicos.\n",
      "Ao Ministério da Agricultura, Pecuária e Abastecimento:\n",
      "Adoção de medidas para a garantia do abastecimento alimentar, por meio das seguintes recomendações: (a) monitoramento nacional e regionalizado dos fluxos e preços dos alimentos integrantes da cesta básica por intermédio do sistema CONAB/CEASAS; (b) promoção imediata da recomposição dos preços mínimos e assegurar recursos para promover as aquisições pela Conab de alimentos básicos, em especial arroz, feijão, milho, leite e farinha de mandioca; (c) retorno imediato do Programa de Aquisição de Alimentos (PAA) da Agricultura Familiar, por intermédio da CONAB e dos estados e municípios, privilegiando a modalidade Compra com doação de alimentos, operacionalizada por meio das organizações sociais, associada à distribuição de cestas básicas a famílias carentes e em situação vulnerabilidade social.\n",
      "\n",
      " \n"
     ]
    }
   ],
   "source": [
    "# abrindo arquivo e colocando o texto em minusculo\n",
    "texto = open('CNS_ALIMENTACAO_2020.txt','r',encoding='UTF=8').read()\n",
    "print(texto)"
   ]
  },
  {
   "cell_type": "code",
   "execution_count": 3,
   "id": "3a5221cd",
   "metadata": {},
   "outputs": [
    {
     "name": "stdout",
     "output_type": "stream",
     "text": [
      "Quantidade total de palavras do texto: 7448\n"
     ]
    }
   ],
   "source": [
    "# Contando o total de palavras do texto\n",
    "t_linhas = len(texto)\n",
    "print('Quantidade total de palavras do texto:', t_linhas)"
   ]
  },
  {
   "cell_type": "code",
   "execution_count": 4,
   "id": "cb115edb",
   "metadata": {},
   "outputs": [
    {
     "name": "stdout",
     "output_type": "stream",
     "text": [
      "ao ministério da saúde:\n",
      "realização de campanhas de comunicação em massa e difusão de informações, com base técnico-científicas, em meio e formatos acessíveis e linguagem simples, com utilização de recurso de audiodescrição, legendas e libras, direcionadas à população sobre alimentação adequada e saudável e conservação de alimentos, assim como para trabalhadores e empreendedores envolvidos na cadeia de fornecimento de alimentos quanto ao uso de material de higiene e equipamentos individuais para mitigar os riscos de contágio e disseminação do covid-19;\n",
      "desenvolvimento de estratégias para  orientações,  aos profissionais da atenção primária em saúde  sobre a importância da vigilância alimentar e nutricional, especialmente de populações mais vulneráveis como povos e comunidades tradicionais (como a população negra, quilombolas e povos indígenas) e grupos de risco para covid-19, e sobre alimentação adequada e saudável, com incentivo ao aleitamento materno e ao consumo de alimentos in natura e minimamente processados, de acordo com as recomendações dos guias alimentares do ministério da saúde, por meio de linguagem acessível a toda a população, como forma de  proteger e  garantir a manutenção da saúde.\n",
      "aos governos estaduais e municipais:\n",
      "apoio à criação de comitês estaduais e municipais de emergência para o combate à fome, formados pelas instâncias que tratam da segurança alimentar e nutricional (san), como os conselhos (consea) e câmaras intersetoriais governamentais (caisan), instituições de ensino superior (ies), em diálogo com as instâncias dos sistemas de saúde e de assistência social e sociedade civil, para monitorar e propor soluções articuladas e intersetoriais, com foco nos grupos mais vulneráveis à fome;\n",
      "continuidade, ampliação e adequação da distribuição de alimentos pelos equipamentos de segurança alimentar e nutricional (restaurantes populares, cozinhas comunitárias e bancos de alimentos) e de cestas emergenciais de alimentos, com base na alimentação adequada e saudável, visando à manutenção da distribuição de alimentos, priorizando as organizações de assistência social que atendem os grupos de risco, as de longa permanência e as que podem apoiar as diferentes redes locais de solidariedade, realizando todas as adaptações e cuidados necessários para reduzir o risco de disseminação do vírus;\n",
      "utilização de equipamentos públicos (escolas, universidades, centros da assistência social, centros comunitários, restaurantes populares, cozinhas comunitárias etc.), lideranças comunitárias e de territórios tradicionais de matriz africana, para promover a distribuição local direta de alimentos saudáveis e kits de higiene à população (inclusive de higiene feminina), especialmente nas periferias e favelas e aos estudantes cotistas, utilizando a logística de distribuição especialmente às pessoas com doenças crônicas e com fator de risco de desenvolvimento severo do quadro de covid-19;\n",
      "realização e fortalecimento, pela atenção primária à saúde, da vigilância alimentar e nutricional, do acompanhamento nutricional, da identificação de agravos alimentares, fatores de risco e das necessidades alimentares da população, especialmente de povos e comunidades tradicionais, grupos que possuem fatores de risco para covid-19 e grupos populacionais em condições de vulnerabilidade e iniquidade, como as populações assistidas pelos programas de transferência de renda;\n",
      "realização de estratégias de promoção da alimentação adequada e saudável e aleitamento materno e orientação quanto a higienização e conservação dos alimentos pela equipe multiprofissional da atenção primária à saúde, especialmente nutricionistas;\n",
      "fortalecimento de circuitos curtos e de proximidade de comercialização de alimentos adequados e saudáveis, articulados com a promoção de equipamentos de varejo (pequeno comércio, feiras etc.), que garantam o acesso a esses alimentos pelas famílias mais vulneráveis, especialmente em periferias e favelas, ao tempo em que favorecem a geração de renda de pequenos produtores locais;\n",
      "estímulo e apoio à logística e distribuição das iniciativas de agricultores/as e grupos de consumidores visando à compra direta da produção da agricultura familiar e das redes de comercialização agroecológicas, de modo a mitigar os riscos de contágio, e que possam ser também adquiridas pelos governos para a distribuição de cestas; observância dos critérios de distanciamento (nas filas) e uso de máscaras a todos os envolvidos (trabalhadores e população consumidora) no processo de distribuição e aquisição;\n",
      "garantia de proteção sanitária e social das/os trabalhadoras/es em todas as atividades do sistema alimentar de quem dependemos para assegurar o abastecimento de alimentos, instando empregadores na agricultura, indústria e comércio a adotar medidas concretas nessa direção, e orientando trabalhadoras/es formais e informais sobre procedimentos requeridos com fornecimento de material de higiene e uso correto desses materiais;\n",
      "desenvolvimento da gestão de equipamentos públicos de abastecimento (varejões, sacolões, mercados municipais, feiras) que atenda aos esforços para além de suas finalidades mercantis específicas, e com os devidos cuidados para reduzir o risco de contaminação;\n",
      "elaboração de estratégias intersetoriais com o intuito de facilitar o acesso a financiamento aos pequenos agricultores, visando à continuidade da produção, com incentivos para a manutenção das operações; e\n",
      "estabelecimento de parcerias para adoção de medidas visando facilitar o armazenamento das produções e auxiliar na redução de perdas pós-colheitas nas safras.\n",
      "à câmara dos deputados:\n",
      "a rejeição ao projeto de lei 1194/2020, que dispõe sobre o combate ao desperdício de alimentos e à doação de excedentes de refeições prontas para o consumo e dá outras providências, de autoria do senador fernando collor (pros/al).\n",
      "ao ministério da cidadania\n",
      "reconstituição imediata da câmara interministerial de segurança alimentar e nutricional (caisan), prevista no  art. 11, inciso iii da lei orgânica de segurança alimentar e nutricional (losan), a quem cabe elaborar, coordenar e executar a política e o plano de san em nível federal, por meio da reunião de representantes do governo federal e articular as políticas e planos estaduais e do distrito federal; e\n",
      "garantia da entrega de cestas de alimentos aos povos indígenas, quilombolas e famílias assentadas, cuja composição seja embasada nas recomendações do guia alimentar para a população brasileira, com produtos in natura e minimamente processados, oriundos da agricultura familiar, agroecológicos e orgânicos.\n",
      "ao ministério da agricultura, pecuária e abastecimento:\n",
      "adoção de medidas para a garantia do abastecimento alimentar, por meio das seguintes recomendações: (a) monitoramento nacional e regionalizado dos fluxos e preços dos alimentos integrantes da cesta básica por intermédio do sistema conab/ceasas; (b) promoção imediata da recomposição dos preços mínimos e assegurar recursos para promover as aquisições pela conab de alimentos básicos, em especial arroz, feijão, milho, leite e farinha de mandioca; (c) retorno imediato do programa de aquisição de alimentos (paa) da agricultura familiar, por intermédio da conab e dos estados e municípios, privilegiando a modalidade compra com doação de alimentos, operacionalizada por meio das organizações sociais, associada à distribuição de cestas básicas a famílias carentes e em situação vulnerabilidade social.\n",
      "\n",
      " \n"
     ]
    }
   ],
   "source": [
    "# reabrindo arquivo e colocando o texto em minusculo\n",
    "\n",
    "arquivo = open('CNS_ALIMENTACAO_2020.txt','r',encoding='UTF=8').read()\n",
    "texto_lower = arquivo.lower()\n",
    "\n",
    "print(texto_lower)"
   ]
  },
  {
   "cell_type": "code",
   "execution_count": 5,
   "id": "560a366a",
   "metadata": {},
   "outputs": [
    {
     "name": "stdout",
     "output_type": "stream",
     "text": [
      "Ao Ministério da Saúde\n",
      "Realização de campanhas de comunicação em massa e difusão de informações com base técnicocientíficas em meio e formatos acessíveis e linguagem simples com utilização de recurso de audiodescrição legendas e LIBRAS direcionadas à população sobre alimentação adequada e saudável e conservação de alimentos assim como para trabalhadores e empreendedores envolvidos na cadeia de fornecimento de alimentos quanto ao uso de material de higiene e equipamentos individuais para mitigar os riscos de contágio e disseminação do COVID19\n",
      "Desenvolvimento de estratégias para  orientações  aos profissionais da Atenção Primária em Saúde  sobre a importância da vigilância alimentar e nutricional especialmente de populações mais vulneráveis como povos e comunidades tradicionais como a população negra quilombolas e povos indígenas e grupos de risco para COVID19 e sobre alimentação adequada e saudável com incentivo ao aleitamento materno e ao consumo de alimentos in natura e minimamente processados de acordo com as recomendações dos guias alimentares do Ministério da Saúde por meio de linguagem acessível a toda a população como forma de  proteger e  garantir a manutenção da saúde\n",
      "Aos Governos Estaduais e Municipais\n",
      "Apoio à criação de Comitês Estaduais e Municipais de Emergência para o Combate à Fome formados pelas instâncias que tratam da Segurança Alimentar e Nutricional SAN como os Conselhos CONSEA e Câmaras Intersetoriais governamentais CAISAN Instituições de Ensino Superior IES em diálogo com as instâncias dos sistemas de saúde e de assistência social e sociedade civil para monitorar e propor soluções articuladas e intersetoriais com foco nos grupos mais vulneráveis à fome\n",
      "Continuidade ampliação e adequação da distribuição de alimentos pelos Equipamentos de Segurança Alimentar e Nutricional Restaurantes Populares Cozinhas Comunitárias e Bancos de Alimentos e de cestas emergenciais de alimentos com base na alimentação adequada e saudável visando à manutenção da distribuição de alimentos priorizando as organizações de assistência social que atendem os grupos de risco as de longa permanência e as que podem apoiar as diferentes redes locais de solidariedade realizando todas as adaptações e cuidados necessários para reduzir o risco de disseminação do vírus\n",
      "Utilização de equipamentos públicos escolas universidades centros da assistência social centros comunitários restaurantes populares cozinhas comunitárias etc lideranças comunitárias e de territórios tradicionais de matriz africana para promover a distribuição local direta de alimentos saudáveis e kits de higiene à população inclusive de higiene feminina especialmente nas periferias e favelas e aos estudantes cotistas utilizando a logística de distribuição especialmente às pessoas com doenças crônicas e com fator de risco de desenvolvimento severo do quadro de COVID19\n",
      "Realização e fortalecimento pela Atenção Primária à Saúde da vigilância alimentar e nutricional do acompanhamento nutricional da identificação de agravos alimentares fatores de risco e das necessidades alimentares da população especialmente de povos e comunidades tradicionais grupos que possuem fatores de risco para COVID19 e grupos populacionais em condições de vulnerabilidade e iniquidade como as populações assistidas pelos programas de transferência de renda\n",
      "Realização de estratégias de promoção da alimentação adequada e saudável e aleitamento materno e orientação quanto a higienização e conservação dos alimentos pela equipe multiprofissional da Atenção Primária à Saúde especialmente nutricionistas\n",
      "Fortalecimento de circuitos curtos e de proximidade de comercialização de alimentos adequados e saudáveis articulados com a promoção de equipamentos de varejo pequeno comércio feiras etc que garantam o acesso a esses alimentos pelas famílias mais vulneráveis especialmente em periferias e favelas ao tempo em que favorecem a geração de renda de pequenos produtores locais\n",
      "Estímulo e apoio à logística e distribuição das iniciativas de agricultoresas e grupos de consumidores visando à compra direta da produção da agricultura familiar e das redes de comercialização agroecológicas de modo a mitigar os riscos de contágio e que possam ser também adquiridas pelos governos para a distribuição de cestas observância dos critérios de distanciamento nas filas e uso de máscaras a todos os envolvidos trabalhadores e população consumidora no processo de distribuição e aquisição\n",
      "Garantia de proteção sanitária e social dasos trabalhadorases em todas as atividades do sistema alimentar de quem dependemos para assegurar o abastecimento de alimentos instando empregadores na agricultura indústria e comércio a adotar medidas concretas nessa direção e orientando trabalhadorases formais e informais sobre procedimentos requeridos com fornecimento de material de higiene e uso correto desses materiais\n",
      "Desenvolvimento da gestão de equipamentos públicos de abastecimento varejões sacolões mercados municipais feiras que atenda aos esforços para além de suas finalidades mercantis específicas e com os devidos cuidados para reduzir o risco de contaminação\n",
      "Elaboração de estratégias intersetoriais com o intuito de facilitar o acesso a financiamento aos pequenos agricultores visando à continuidade da produção com incentivos para a manutenção das operações e\n",
      "Estabelecimento de parcerias para adoção de medidas visando facilitar o armazenamento das produções e auxiliar na redução de perdas póscolheitas nas safras\n",
      "À Câmara dos Deputados\n",
      "A rejeição ao Projeto de Lei 11942020 que dispõe sobre o combate ao desperdício de alimentos e à doação de excedentes de refeições prontas para o consumo e dá outras providências de autoria do Senador Fernando Collor PROSAL\n",
      "Ao Ministério da Cidadania\n",
      "Reconstituição imediata da Câmara Interministerial de Segurança Alimentar e Nutricional CAISAN prevista no  Art 11 Inciso III da Lei Orgânica de Segurança Alimentar e Nutricional LOSAN a quem cabe elaborar coordenar e executar a Política e o Plano de SAN em nível federal por meio da reunião de representantes do Governo Federal e articular as políticas e planos estaduais e do Distrito Federal e\n",
      "Garantia da entrega de cestas de alimentos aos povos indígenas quilombolas e famílias assentadas cuja composição seja embasada nas recomendações do Guia Alimentar para a População Brasileira com produtos in natura e minimamente processados oriundos da agricultura familiar agroecológicos e orgânicos\n",
      "Ao Ministério da Agricultura Pecuária e Abastecimento\n",
      "Adoção de medidas para a garantia do abastecimento alimentar por meio das seguintes recomendações a monitoramento nacional e regionalizado dos fluxos e preços dos alimentos integrantes da cesta básica por intermédio do sistema CONABCEASAS b promoção imediata da recomposição dos preços mínimos e assegurar recursos para promover as aquisições pela Conab de alimentos básicos em especial arroz feijão milho leite e farinha de mandioca c retorno imediato do Programa de Aquisição de Alimentos PAA da Agricultura Familiar por intermédio da CONAB e dos estados e municípios privilegiando a modalidade Compra com doação de alimentos operacionalizada por meio das organizações sociais associada à distribuição de cestas básicas a famílias carentes e em situação vulnerabilidade social\n",
      "\n",
      " \n"
     ]
    }
   ],
   "source": [
    " # remoção de pontuação\n",
    "    \n",
    "text_sem_pontuar = ''.join ([palavra for palavra in texto if palavra not in string.punctuation])\n",
    "print(text_sem_pontuar)"
   ]
  },
  {
   "cell_type": "code",
   "execution_count": 6,
   "id": "9dbe23c0",
   "metadata": {},
   "outputs": [
    {
     "name": "stdout",
     "output_type": "stream",
     "text": [
      "['Ao', 'Ministério', 'da', 'Saúde', 'Realização', 'de', 'campanhas', 'de', 'comunicação', 'em', 'massa', 'e', 'difusão', 'de', 'informações', 'com', 'base', 'técnicocientíficas', 'em', 'meio', 'e', 'formatos', 'acessíveis', 'e', 'linguagem', 'simples', 'com', 'utilização', 'de', 'recurso', 'de', 'audiodescrição', 'legendas', 'e', 'LIBRAS', 'direcionadas', 'à', 'população', 'sobre', 'alimentação', 'adequada', 'e', 'saudável', 'e', 'conservação', 'de', 'alimentos', 'assim', 'como', 'para', 'trabalhadores', 'e', 'empreendedores', 'envolvidos', 'na', 'cadeia', 'de', 'fornecimento', 'de', 'alimentos', 'quanto', 'ao', 'uso', 'de', 'material', 'de', 'higiene', 'e', 'equipamentos', 'individuais', 'para', 'mitigar', 'os', 'riscos', 'de', 'contágio', 'e', 'disseminação', 'do', 'COVID19', 'Desenvolvimento', 'de', 'estratégias', 'para', 'orientações', 'aos', 'profissionais', 'da', 'Atenção', 'Primária', 'em', 'Saúde', 'sobre', 'a', 'importância', 'da', 'vigilância', 'alimentar', 'e', 'nutricional', 'especialmente', 'de', 'populações', 'mais', 'vulneráveis', 'como', 'povos', 'e', 'comunidades', 'tradicionais', 'como', 'a', 'população', 'negra', 'quilombolas', 'e', 'povos', 'indígenas', 'e', 'grupos', 'de', 'risco', 'para', 'COVID19', 'e', 'sobre', 'alimentação', 'adequada', 'e', 'saudável', 'com', 'incentivo', 'ao', 'aleitamento', 'materno', 'e', 'ao', 'consumo', 'de', 'alimentos', 'in', 'natura', 'e', 'minimamente', 'processados', 'de', 'acordo', 'com', 'as', 'recomendações', 'dos', 'guias', 'alimentares', 'do', 'Ministério', 'da', 'Saúde', 'por', 'meio', 'de', 'linguagem', 'acessível', 'a', 'toda', 'a', 'população', 'como', 'forma', 'de', 'proteger', 'e', 'garantir', 'a', 'manutenção', 'da', 'saúde', 'Aos', 'Governos', 'Estaduais', 'e', 'Municipais', 'Apoio', 'à', 'criação', 'de', 'Comitês', 'Estaduais', 'e', 'Municipais', 'de', 'Emergência', 'para', 'o', 'Combate', 'à', 'Fome', 'formados', 'pelas', 'instâncias', 'que', 'tratam', 'da', 'Segurança', 'Alimentar', 'e', 'Nutricional', 'SAN', 'como', 'os', 'Conselhos', 'CONSEA', 'e', 'Câmaras', 'Intersetoriais', 'governamentais', 'CAISAN', 'Instituições', 'de', 'Ensino', 'Superior', 'IES', 'em', 'diálogo', 'com', 'as', 'instâncias', 'dos', 'sistemas', 'de', 'saúde', 'e', 'de', 'assistência', 'social', 'e', 'sociedade', 'civil', 'para', 'monitorar', 'e', 'propor', 'soluções', 'articuladas', 'e', 'intersetoriais', 'com', 'foco', 'nos', 'grupos', 'mais', 'vulneráveis', 'à', 'fome', 'Continuidade', 'ampliação', 'e', 'adequação', 'da', 'distribuição', 'de', 'alimentos', 'pelos', 'Equipamentos', 'de', 'Segurança', 'Alimentar', 'e', 'Nutricional', 'Restaurantes', 'Populares', 'Cozinhas', 'Comunitárias', 'e', 'Bancos', 'de', 'Alimentos', 'e', 'de', 'cestas', 'emergenciais', 'de', 'alimentos', 'com', 'base', 'na', 'alimentação', 'adequada', 'e', 'saudável', 'visando', 'à', 'manutenção', 'da', 'distribuição', 'de', 'alimentos', 'priorizando', 'as', 'organizações', 'de', 'assistência', 'social', 'que', 'atendem', 'os', 'grupos', 'de', 'risco', 'as', 'de', 'longa', 'permanência', 'e', 'as', 'que', 'podem', 'apoiar', 'as', 'diferentes', 'redes', 'locais', 'de', 'solidariedade', 'realizando', 'todas', 'as', 'adaptações', 'e', 'cuidados', 'necessários', 'para', 'reduzir', 'o', 'risco', 'de', 'disseminação', 'do', 'vírus', 'Utilização', 'de', 'equipamentos', 'públicos', 'escolas', 'universidades', 'centros', 'da', 'assistência', 'social', 'centros', 'comunitários', 'restaurantes', 'populares', 'cozinhas', 'comunitárias', 'etc', 'lideranças', 'comunitárias', 'e', 'de', 'territórios', 'tradicionais', 'de', 'matriz', 'africana', 'para', 'promover', 'a', 'distribuição', 'local', 'direta', 'de', 'alimentos', 'saudáveis', 'e', 'kits', 'de', 'higiene', 'à', 'população', 'inclusive', 'de', 'higiene', 'feminina', 'especialmente', 'nas', 'periferias', 'e', 'favelas', 'e', 'aos', 'estudantes', 'cotistas', 'utilizando', 'a', 'logística', 'de', 'distribuição', 'especialmente', 'às', 'pessoas', 'com', 'doenças', 'crônicas', 'e', 'com', 'fator', 'de', 'risco', 'de', 'desenvolvimento', 'severo', 'do', 'quadro', 'de', 'COVID19', 'Realização', 'e', 'fortalecimento', 'pela', 'Atenção', 'Primária', 'à', 'Saúde', 'da', 'vigilância', 'alimentar', 'e', 'nutricional', 'do', 'acompanhamento', 'nutricional', 'da', 'identificação', 'de', 'agravos', 'alimentares', 'fatores', 'de', 'risco', 'e', 'das', 'necessidades', 'alimentares', 'da', 'população', 'especialmente', 'de', 'povos', 'e', 'comunidades', 'tradicionais', 'grupos', 'que', 'possuem', 'fatores', 'de', 'risco', 'para', 'COVID19', 'e', 'grupos', 'populacionais', 'em', 'condições', 'de', 'vulnerabilidade', 'e', 'iniquidade', 'como', 'as', 'populações', 'assistidas', 'pelos', 'programas', 'de', 'transferência', 'de', 'renda', 'Realização', 'de', 'estratégias', 'de', 'promoção', 'da', 'alimentação', 'adequada', 'e', 'saudável', 'e', 'aleitamento', 'materno', 'e', 'orientação', 'quanto', 'a', 'higienização', 'e', 'conservação', 'dos', 'alimentos', 'pela', 'equipe', 'multiprofissional', 'da', 'Atenção', 'Primária', 'à', 'Saúde', 'especialmente', 'nutricionistas', 'Fortalecimento', 'de', 'circuitos', 'curtos', 'e', 'de', 'proximidade', 'de', 'comercialização', 'de', 'alimentos', 'adequados', 'e', 'saudáveis', 'articulados', 'com', 'a', 'promoção', 'de', 'equipamentos', 'de', 'varejo', 'pequeno', 'comércio', 'feiras', 'etc', 'que', 'garantam', 'o', 'acesso', 'a', 'esses', 'alimentos', 'pelas', 'famílias', 'mais', 'vulneráveis', 'especialmente', 'em', 'periferias', 'e', 'favelas', 'ao', 'tempo', 'em', 'que', 'favorecem', 'a', 'geração', 'de', 'renda', 'de', 'pequenos', 'produtores', 'locais', 'Estímulo', 'e', 'apoio', 'à', 'logística', 'e', 'distribuição', 'das', 'iniciativas', 'de', 'agricultoresas', 'e', 'grupos', 'de', 'consumidores', 'visando', 'à', 'compra', 'direta', 'da', 'produção', 'da', 'agricultura', 'familiar', 'e', 'das', 'redes', 'de', 'comercialização', 'agroecológicas', 'de', 'modo', 'a', 'mitigar', 'os', 'riscos', 'de', 'contágio', 'e', 'que', 'possam', 'ser', 'também', 'adquiridas', 'pelos', 'governos', 'para', 'a', 'distribuição', 'de', 'cestas', 'observância', 'dos', 'critérios', 'de', 'distanciamento', 'nas', 'filas', 'e', 'uso', 'de', 'máscaras', 'a', 'todos', 'os', 'envolvidos', 'trabalhadores', 'e', 'população', 'consumidora', 'no', 'processo', 'de', 'distribuição', 'e', 'aquisição', 'Garantia', 'de', 'proteção', 'sanitária', 'e', 'social', 'dasos', 'trabalhadorases', 'em', 'todas', 'as', 'atividades', 'do', 'sistema', 'alimentar', 'de', 'quem', 'dependemos', 'para', 'assegurar', 'o', 'abastecimento', 'de', 'alimentos', 'instando', 'empregadores', 'na', 'agricultura', 'indústria', 'e', 'comércio', 'a', 'adotar', 'medidas', 'concretas', 'nessa', 'direção', 'e', 'orientando', 'trabalhadorases', 'formais', 'e', 'informais', 'sobre', 'procedimentos', 'requeridos', 'com', 'fornecimento', 'de', 'material', 'de', 'higiene', 'e', 'uso', 'correto', 'desses', 'materiais', 'Desenvolvimento', 'da', 'gestão', 'de', 'equipamentos', 'públicos', 'de', 'abastecimento', 'varejões', 'sacolões', 'mercados', 'municipais', 'feiras', 'que', 'atenda', 'aos', 'esforços', 'para', 'além', 'de', 'suas', 'finalidades', 'mercantis', 'específicas', 'e', 'com', 'os', 'devidos', 'cuidados', 'para', 'reduzir', 'o', 'risco', 'de', 'contaminação', 'Elaboração', 'de', 'estratégias', 'intersetoriais', 'com', 'o', 'intuito', 'de', 'facilitar', 'o', 'acesso', 'a', 'financiamento', 'aos', 'pequenos', 'agricultores', 'visando', 'à', 'continuidade', 'da', 'produção', 'com', 'incentivos', 'para', 'a', 'manutenção', 'das', 'operações', 'e', 'Estabelecimento', 'de', 'parcerias', 'para', 'adoção', 'de', 'medidas', 'visando', 'facilitar', 'o', 'armazenamento', 'das', 'produções', 'e', 'auxiliar', 'na', 'redução', 'de', 'perdas', 'póscolheitas', 'nas', 'safras', 'À', 'Câmara', 'dos', 'Deputados', 'A', 'rejeição', 'ao', 'Projeto', 'de', 'Lei', '11942020', 'que', 'dispõe', 'sobre', 'o', 'combate', 'ao', 'desperdício', 'de', 'alimentos', 'e', 'à', 'doação', 'de', 'excedentes', 'de', 'refeições', 'prontas', 'para', 'o', 'consumo', 'e', 'dá', 'outras', 'providências', 'de', 'autoria', 'do', 'Senador', 'Fernando', 'Collor', 'PROSAL', 'Ao', 'Ministério', 'da', 'Cidadania', 'Reconstituição', 'imediata', 'da', 'Câmara', 'Interministerial', 'de', 'Segurança', 'Alimentar', 'e', 'Nutricional', 'CAISAN', 'prevista', 'no', 'Art', '11', 'Inciso', 'III', 'da', 'Lei', 'Orgânica', 'de', 'Segurança', 'Alimentar', 'e', 'Nutricional', 'LOSAN', 'a', 'quem', 'cabe', 'elaborar', 'coordenar', 'e', 'executar', 'a', 'Política', 'e', 'o', 'Plano', 'de', 'SAN', 'em', 'nível', 'federal', 'por', 'meio', 'da', 'reunião', 'de', 'representantes', 'do', 'Governo', 'Federal', 'e', 'articular', 'as', 'políticas', 'e', 'planos', 'estaduais', 'e', 'do', 'Distrito', 'Federal', 'e', 'Garantia', 'da', 'entrega', 'de', 'cestas', 'de', 'alimentos', 'aos', 'povos', 'indígenas', 'quilombolas', 'e', 'famílias', 'assentadas', 'cuja', 'composição', 'seja', 'embasada', 'nas', 'recomendações', 'do', 'Guia', 'Alimentar', 'para', 'a', 'População', 'Brasileira', 'com', 'produtos', 'in', 'natura', 'e', 'minimamente', 'processados', 'oriundos', 'da', 'agricultura', 'familiar', 'agroecológicos', 'e', 'orgânicos', 'Ao', 'Ministério', 'da', 'Agricultura', 'Pecuária', 'e', 'Abastecimento', 'Adoção', 'de', 'medidas', 'para', 'a', 'garantia', 'do', 'abastecimento', 'alimentar', 'por', 'meio', 'das', 'seguintes', 'recomendações', 'a', 'monitoramento', 'nacional', 'e', 'regionalizado', 'dos', 'fluxos', 'e', 'preços', 'dos', 'alimentos', 'integrantes', 'da', 'cesta', 'básica', 'por', 'intermédio', 'do', 'sistema', 'CONABCEASAS', 'b', 'promoção', 'imediata', 'da', 'recomposição', 'dos', 'preços', 'mínimos', 'e', 'assegurar', 'recursos', 'para', 'promover', 'as', 'aquisições', 'pela', 'Conab', 'de', 'alimentos', 'básicos', 'em', 'especial', 'arroz', 'feijão', 'milho', 'leite', 'e', 'farinha', 'de', 'mandioca', 'c', 'retorno', 'imediato', 'do', 'Programa', 'de', 'Aquisição', 'de', 'Alimentos', 'PAA', 'da', 'Agricultura', 'Familiar', 'por', 'intermédio', 'da', 'CONAB', 'e', 'dos', 'estados', 'e', 'municípios', 'privilegiando', 'a', 'modalidade', 'Compra', 'com', 'doação', 'de', 'alimentos', 'operacionalizada', 'por', 'meio', 'das', 'organizações', 'sociais', 'associada', 'à', 'distribuição', 'de', 'cestas', 'básicas', 'a', 'famílias', 'carentes', 'e', 'em', 'situação', 'vulnerabilidade', 'social']\n"
     ]
    }
   ],
   "source": [
    "# Tokenizando  - texto\n",
    "\n",
    "tokens = nltk.word_tokenize(text_sem_pontuar)\n",
    "print(tokens)"
   ]
  },
  {
   "cell_type": "code",
   "execution_count": 7,
   "id": "b507275f",
   "metadata": {},
   "outputs": [
    {
     "name": "stdout",
     "output_type": "stream",
     "text": [
      "Palavras removidas: \n",
      "\n",
      "['a', 'à', 'ao', 'aos', 'aquela', 'aquelas', 'aquele', 'aqueles', 'aquilo', 'as', 'às', 'até', 'com', 'como', 'da', 'das', 'de', 'dela', 'delas', 'dele', 'deles', 'depois', 'do', 'dos', 'e', 'é', 'ela', 'elas', 'ele', 'eles', 'em', 'entre', 'era', 'eram', 'éramos', 'essa', 'essas', 'esse', 'esses', 'esta', 'está', 'estamos', 'estão', 'estar', 'estas', 'estava', 'estavam', 'estávamos', 'este', 'esteja', 'estejam', 'estejamos', 'estes', 'esteve', 'estive', 'estivemos', 'estiver', 'estivera', 'estiveram', 'estivéramos', 'estiverem', 'estivermos', 'estivesse', 'estivessem', 'estivéssemos', 'estou', 'eu', 'foi', 'fomos', 'for', 'fora', 'foram', 'fôramos', 'forem', 'formos', 'fosse', 'fossem', 'fôssemos', 'fui', 'há', 'haja', 'hajam', 'hajamos', 'hão', 'havemos', 'haver', 'hei', 'houve', 'houvemos', 'houver', 'houvera', 'houverá', 'houveram', 'houvéramos', 'houverão', 'houverei', 'houverem', 'houveremos', 'houveria', 'houveriam', 'houveríamos', 'houvermos', 'houvesse', 'houvessem', 'houvéssemos', 'isso', 'isto', 'já', 'lhe', 'lhes', 'mais', 'mas', 'me', 'mesmo', 'meu', 'meus', 'minha', 'minhas', 'muito', 'na', 'não', 'nas', 'nem', 'no', 'nos', 'nós', 'nossa', 'nossas', 'nosso', 'nossos', 'num', 'numa', 'o', 'os', 'ou', 'para', 'pela', 'pelas', 'pelo', 'pelos', 'por', 'qual', 'quando', 'que', 'quem', 'são', 'se', 'seja', 'sejam', 'sejamos', 'sem', 'ser', 'será', 'serão', 'serei', 'seremos', 'seria', 'seriam', 'seríamos', 'seu', 'seus', 'só', 'somos', 'sou', 'sua', 'suas', 'também', 'te', 'tem', 'tém', 'temos', 'tenha', 'tenham', 'tenhamos', 'tenho', 'terá', 'terão', 'terei', 'teremos', 'teria', 'teriam', 'teríamos', 'teu', 'teus', 'teve', 'tinha', 'tinham', 'tínhamos', 'tive', 'tivemos', 'tiver', 'tivera', 'tiveram', 'tivéramos', 'tiverem', 'tivermos', 'tivesse', 'tivessem', 'tivéssemos', 'tu', 'tua', 'tuas', 'um', 'uma', 'você', 'vocês', 'vos'] \n",
      "\n",
      "Texto após remoção das stopwords: \n",
      "\n",
      " ['Ao', 'Ministério', 'Saúde', 'Realização', 'campanhas', 'comunicação', 'massa', 'difusão', 'informações', 'base', 'técnicocientíficas', 'meio', 'formatos', 'acessíveis', 'linguagem', 'simples', 'utilização', 'recurso', 'audiodescrição', 'legendas', 'LIBRAS', 'direcionadas', 'população', 'sobre', 'alimentação', 'adequada', 'saudável', 'conservação', 'alimentos', 'assim', 'trabalhadores', 'empreendedores', 'envolvidos', 'cadeia', 'fornecimento', 'alimentos', 'quanto', 'uso', 'material', 'higiene', 'equipamentos', 'individuais', 'mitigar', 'riscos', 'contágio', 'disseminação', 'COVID19', 'Desenvolvimento', 'estratégias', 'orientações', 'profissionais', 'Atenção', 'Primária', 'Saúde', 'sobre', 'importância', 'vigilância', 'alimentar', 'nutricional', 'especialmente', 'populações', 'vulneráveis', 'povos', 'comunidades', 'tradicionais', 'população', 'negra', 'quilombolas', 'povos', 'indígenas', 'grupos', 'risco', 'COVID19', 'sobre', 'alimentação', 'adequada', 'saudável', 'incentivo', 'aleitamento', 'materno', 'consumo', 'alimentos', 'in', 'natura', 'minimamente', 'processados', 'acordo', 'recomendações', 'guias', 'alimentares', 'Ministério', 'Saúde', 'meio', 'linguagem', 'acessível', 'toda', 'população', 'forma', 'proteger', 'garantir', 'manutenção', 'saúde', 'Aos', 'Governos', 'Estaduais', 'Municipais', 'Apoio', 'criação', 'Comitês', 'Estaduais', 'Municipais', 'Emergência', 'Combate', 'Fome', 'formados', 'instâncias', 'tratam', 'Segurança', 'Alimentar', 'Nutricional', 'SAN', 'Conselhos', 'CONSEA', 'Câmaras', 'Intersetoriais', 'governamentais', 'CAISAN', 'Instituições', 'Ensino', 'Superior', 'IES', 'diálogo', 'instâncias', 'sistemas', 'saúde', 'assistência', 'social', 'sociedade', 'civil', 'monitorar', 'propor', 'soluções', 'articuladas', 'intersetoriais', 'foco', 'grupos', 'vulneráveis', 'fome', 'Continuidade', 'ampliação', 'adequação', 'distribuição', 'alimentos', 'Equipamentos', 'Segurança', 'Alimentar', 'Nutricional', 'Restaurantes', 'Populares', 'Cozinhas', 'Comunitárias', 'Bancos', 'Alimentos', 'cestas', 'emergenciais', 'alimentos', 'base', 'alimentação', 'adequada', 'saudável', 'visando', 'manutenção', 'distribuição', 'alimentos', 'priorizando', 'organizações', 'assistência', 'social', 'atendem', 'grupos', 'risco', 'longa', 'permanência', 'podem', 'apoiar', 'diferentes', 'redes', 'locais', 'solidariedade', 'realizando', 'todas', 'adaptações', 'cuidados', 'necessários', 'reduzir', 'risco', 'disseminação', 'vírus', 'Utilização', 'equipamentos', 'públicos', 'escolas', 'universidades', 'centros', 'assistência', 'social', 'centros', 'comunitários', 'restaurantes', 'populares', 'cozinhas', 'comunitárias', 'etc', 'lideranças', 'comunitárias', 'territórios', 'tradicionais', 'matriz', 'africana', 'promover', 'distribuição', 'local', 'direta', 'alimentos', 'saudáveis', 'kits', 'higiene', 'população', 'inclusive', 'higiene', 'feminina', 'especialmente', 'periferias', 'favelas', 'estudantes', 'cotistas', 'utilizando', 'logística', 'distribuição', 'especialmente', 'pessoas', 'doenças', 'crônicas', 'fator', 'risco', 'desenvolvimento', 'severo', 'quadro', 'COVID19', 'Realização', 'fortalecimento', 'Atenção', 'Primária', 'Saúde', 'vigilância', 'alimentar', 'nutricional', 'acompanhamento', 'nutricional', 'identificação', 'agravos', 'alimentares', 'fatores', 'risco', 'necessidades', 'alimentares', 'população', 'especialmente', 'povos', 'comunidades', 'tradicionais', 'grupos', 'possuem', 'fatores', 'risco', 'COVID19', 'grupos', 'populacionais', 'condições', 'vulnerabilidade', 'iniquidade', 'populações', 'assistidas', 'programas', 'transferência', 'renda', 'Realização', 'estratégias', 'promoção', 'alimentação', 'adequada', 'saudável', 'aleitamento', 'materno', 'orientação', 'quanto', 'higienização', 'conservação', 'alimentos', 'equipe', 'multiprofissional', 'Atenção', 'Primária', 'Saúde', 'especialmente', 'nutricionistas', 'Fortalecimento', 'circuitos', 'curtos', 'proximidade', 'comercialização', 'alimentos', 'adequados', 'saudáveis', 'articulados', 'promoção', 'equipamentos', 'varejo', 'pequeno', 'comércio', 'feiras', 'etc', 'garantam', 'acesso', 'alimentos', 'famílias', 'vulneráveis', 'especialmente', 'periferias', 'favelas', 'tempo', 'favorecem', 'geração', 'renda', 'pequenos', 'produtores', 'locais', 'Estímulo', 'apoio', 'logística', 'distribuição', 'iniciativas', 'agricultoresas', 'grupos', 'consumidores', 'visando', 'compra', 'direta', 'produção', 'agricultura', 'familiar', 'redes', 'comercialização', 'agroecológicas', 'modo', 'mitigar', 'riscos', 'contágio', 'possam', 'adquiridas', 'governos', 'distribuição', 'cestas', 'observância', 'critérios', 'distanciamento', 'filas', 'uso', 'máscaras', 'todos', 'envolvidos', 'trabalhadores', 'população', 'consumidora', 'processo', 'distribuição', 'aquisição', 'Garantia', 'proteção', 'sanitária', 'social', 'dasos', 'trabalhadorases', 'todas', 'atividades', 'sistema', 'alimentar', 'dependemos', 'assegurar', 'abastecimento', 'alimentos', 'instando', 'empregadores', 'agricultura', 'indústria', 'comércio', 'adotar', 'medidas', 'concretas', 'nessa', 'direção', 'orientando', 'trabalhadorases', 'formais', 'informais', 'sobre', 'procedimentos', 'requeridos', 'fornecimento', 'material', 'higiene', 'uso', 'correto', 'desses', 'materiais', 'Desenvolvimento', 'gestão', 'equipamentos', 'públicos', 'abastecimento', 'varejões', 'sacolões', 'mercados', 'municipais', 'feiras', 'atenda', 'esforços', 'além', 'finalidades', 'mercantis', 'específicas', 'devidos', 'cuidados', 'reduzir', 'risco', 'contaminação', 'Elaboração', 'estratégias', 'intersetoriais', 'intuito', 'facilitar', 'acesso', 'financiamento', 'pequenos', 'agricultores', 'visando', 'continuidade', 'produção', 'incentivos', 'manutenção', 'operações', 'Estabelecimento', 'parcerias', 'adoção', 'medidas', 'visando', 'facilitar', 'armazenamento', 'produções', 'auxiliar', 'redução', 'perdas', 'póscolheitas', 'safras', 'À', 'Câmara', 'Deputados', 'A', 'rejeição', 'Projeto', 'Lei', '11942020', 'dispõe', 'sobre', 'combate', 'desperdício', 'alimentos', 'doação', 'excedentes', 'refeições', 'prontas', 'consumo', 'dá', 'outras', 'providências', 'autoria', 'Senador', 'Fernando', 'Collor', 'PROSAL', 'Ao', 'Ministério', 'Cidadania', 'Reconstituição', 'imediata', 'Câmara', 'Interministerial', 'Segurança', 'Alimentar', 'Nutricional', 'CAISAN', 'prevista', 'Art', '11', 'Inciso', 'III', 'Lei', 'Orgânica', 'Segurança', 'Alimentar', 'Nutricional', 'LOSAN', 'cabe', 'elaborar', 'coordenar', 'executar', 'Política', 'Plano', 'SAN', 'nível', 'federal', 'meio', 'reunião', 'representantes', 'Governo', 'Federal', 'articular', 'políticas', 'planos', 'estaduais', 'Distrito', 'Federal', 'Garantia', 'entrega', 'cestas', 'alimentos', 'povos', 'indígenas', 'quilombolas', 'famílias', 'assentadas', 'cuja', 'composição', 'embasada', 'recomendações', 'Guia', 'Alimentar', 'População', 'Brasileira', 'produtos', 'in', 'natura', 'minimamente', 'processados', 'oriundos', 'agricultura', 'familiar', 'agroecológicos', 'orgânicos', 'Ao', 'Ministério', 'Agricultura', 'Pecuária', 'Abastecimento', 'Adoção', 'medidas', 'garantia', 'abastecimento', 'alimentar', 'meio', 'seguintes', 'recomendações', 'monitoramento', 'nacional', 'regionalizado', 'fluxos', 'preços', 'alimentos', 'integrantes', 'cesta', 'básica', 'intermédio', 'sistema', 'CONABCEASAS', 'b', 'promoção', 'imediata', 'recomposição', 'preços', 'mínimos', 'assegurar', 'recursos', 'promover', 'aquisições', 'Conab', 'alimentos', 'básicos', 'especial', 'arroz', 'feijão', 'milho', 'leite', 'farinha', 'mandioca', 'c', 'retorno', 'imediato', 'Programa', 'Aquisição', 'Alimentos', 'PAA', 'Agricultura', 'Familiar', 'intermédio', 'CONAB', 'estados', 'municípios', 'privilegiando', 'modalidade', 'Compra', 'doação', 'alimentos', 'operacionalizada', 'meio', 'organizações', 'sociais', 'associada', 'distribuição', 'cestas', 'básicas', 'famílias', 'carentes', 'situação', 'vulnerabilidade', 'social']\n"
     ]
    },
    {
     "name": "stderr",
     "output_type": "stream",
     "text": [
      "[nltk_data] Downloading package stopwords to\n",
      "[nltk_data]     /home/patrick/nltk_data...\n",
      "[nltk_data]   Package stopwords is already up-to-date!\n"
     ]
    }
   ],
   "source": [
    "# remoção de Stapwords - ou seja, remoção de palavras que não causam prejuijo ao sentido do texto\n",
    "\n",
    "from nltk.corpus import stopwords\n",
    "\n",
    "nltk.download('stopwords')\n",
    "stopwords = stopwords.words('portuguese')\n",
    "\n",
    "palavras_play = [palavra for palavra in tokens if palavra not in stopwords]\n",
    "print(f'Palavras removidas: \\n\\n{stopwords} \\n')\n",
    "\n",
    "print(f'Texto após remoção das stopwords: \\n\\n {palavras_play}')"
   ]
  },
  {
   "cell_type": "code",
   "execution_count": 8,
   "id": "c01cd7a4",
   "metadata": {},
   "outputs": [],
   "source": [
    "palavras_selecionadas = ', '.join(palavras_play)"
   ]
  },
  {
   "cell_type": "code",
   "execution_count": 9,
   "id": "1f8c0bf5",
   "metadata": {},
   "outputs": [
    {
     "data": {
      "text/plain": [
       "6634"
      ]
     },
     "execution_count": 9,
     "metadata": {},
     "output_type": "execute_result"
    }
   ],
   "source": [
    "# Criando arquivo e gravando palavras selecionadas nele\n",
    "arquivo = open('selecionadas_CNS_ALIMENTACAO_2020.txt', 'w')\n",
    "arquivo.write(palavras_selecionadas)"
   ]
  },
  {
   "cell_type": "code",
   "execution_count": 1,
   "id": "ed53441f",
   "metadata": {},
   "outputs": [
    {
     "name": "stdout",
     "output_type": "stream",
     "text": [
      "Ao, Ministério, Saúde, Realização, campanhas, comunicação, massa, difusão, informações, base, técnicocientíficas, meio, formatos, acessíveis, linguagem, simples, utilização, recurso, audiodescrição, legendas, LIBRAS, direcionadas, população, sobre, alimentação, adequada, saudável, conservação, alimentos, assim, trabalhadores, empreendedores, envolvidos, cadeia, fornecimento, alimentos, quanto, uso, material, higiene, equipamentos, individuais, mitigar, riscos, contágio, disseminação, COVID19, Desenvolvimento, estratégias, orientações, profissionais, Atenção, Primária, Saúde, sobre, importância, vigilância, alimentar, nutricional, especialmente, populações, vulneráveis, povos, comunidades, tradicionais, população, negra, quilombolas, povos, indígenas, grupos, risco, COVID19, sobre, alimentação, adequada, saudável, incentivo, aleitamento, materno, consumo, alimentos, in, natura, minimamente, processados, acordo, recomendações, guias, alimentares, Ministério, Saúde, meio, linguagem, acessível, toda, população, forma, proteger, garantir, manutenção, saúde, Aos, Governos, Estaduais, Municipais, Apoio, criação, Comitês, Estaduais, Municipais, Emergência, Combate, Fome, formados, instâncias, tratam, Segurança, Alimentar, Nutricional, SAN, Conselhos, CONSEA, Câmaras, Intersetoriais, governamentais, CAISAN, Instituições, Ensino, Superior, IES, diálogo, instâncias, sistemas, saúde, assistência, social, sociedade, civil, monitorar, propor, soluções, articuladas, intersetoriais, foco, grupos, vulneráveis, fome, Continuidade, ampliação, adequação, distribuição, alimentos, Equipamentos, Segurança, Alimentar, Nutricional, Restaurantes, Populares, Cozinhas, Comunitárias, Bancos, Alimentos, cestas, emergenciais, alimentos, base, alimentação, adequada, saudável, visando, manutenção, distribuição, alimentos, priorizando, organizações, assistência, social, atendem, grupos, risco, longa, permanência, podem, apoiar, diferentes, redes, locais, solidariedade, realizando, todas, adaptações, cuidados, necessários, reduzir, risco, disseminação, vírus, Utilização, equipamentos, públicos, escolas, universidades, centros, assistência, social, centros, comunitários, restaurantes, populares, cozinhas, comunitárias, etc, lideranças, comunitárias, territórios, tradicionais, matriz, africana, promover, distribuição, local, direta, alimentos, saudáveis, kits, higiene, população, inclusive, higiene, feminina, especialmente, periferias, favelas, estudantes, cotistas, utilizando, logística, distribuição, especialmente, pessoas, doenças, crônicas, fator, risco, desenvolvimento, severo, quadro, COVID19, Realização, fortalecimento, Atenção, Primária, Saúde, vigilância, alimentar, nutricional, acompanhamento, nutricional, identificação, agravos, alimentares, fatores, risco, necessidades, alimentares, população, especialmente, povos, comunidades, tradicionais, grupos, possuem, fatores, risco, COVID19, grupos, populacionais, condições, vulnerabilidade, iniquidade, populações, assistidas, programas, transferência, renda, Realização, estratégias, promoção, alimentação, adequada, saudável, aleitamento, materno, orientação, quanto, higienização, conservação, alimentos, equipe, multiprofissional, Atenção, Primária, Saúde, especialmente, nutricionistas, Fortalecimento, circuitos, curtos, proximidade, comercialização, alimentos, adequados, saudáveis, articulados, promoção, equipamentos, varejo, pequeno, comércio, feiras, etc, garantam, acesso, alimentos, famílias, vulneráveis, especialmente, periferias, favelas, tempo, favorecem, geração, renda, pequenos, produtores, locais, Estímulo, apoio, logística, distribuição, iniciativas, agricultoresas, grupos, consumidores, visando, compra, direta, produção, agricultura, familiar, redes, comercialização, agroecológicas, modo, mitigar, riscos, contágio, possam, adquiridas, governos, distribuição, cestas, observância, critérios, distanciamento, filas, uso, máscaras, todos, envolvidos, trabalhadores, população, consumidora, processo, distribuição, aquisição, Garantia, proteção, sanitária, social, dasos, trabalhadorases, todas, atividades, sistema, alimentar, dependemos, assegurar, abastecimento, alimentos, instando, empregadores, agricultura, indústria, comércio, adotar, medidas, concretas, nessa, direção, orientando, trabalhadorases, formais, informais, sobre, procedimentos, requeridos, fornecimento, material, higiene, uso, correto, desses, materiais, Desenvolvimento, gestão, equipamentos, públicos, abastecimento, varejões, sacolões, mercados, municipais, feiras, atenda, esforços, além, finalidades, mercantis, específicas, devidos, cuidados, reduzir, risco, contaminação, Elaboração, estratégias, intersetoriais, intuito, facilitar, acesso, financiamento, pequenos, agricultores, visando, continuidade, produção, incentivos, manutenção, operações, Estabelecimento, parcerias, adoção, medidas, visando, facilitar, armazenamento, produções, auxiliar, redução, perdas, póscolheitas, safras, À, Câmara, Deputados, A, rejeição, Projeto, Lei, 11942020, dispõe, sobre, combate, desperdício, alimentos, doação, excedentes, refeições, prontas, consumo, dá, outras, providências, autoria, Senador, Fernando, Collor, PROSAL, Ao, Ministério, Cidadania, Reconstituição, imediata, Câmara, Interministerial, Segurança, Alimentar, Nutricional, CAISAN, prevista, Art, 11, Inciso, III, Lei, Orgânica, Segurança, Alimentar, Nutricional, LOSAN, cabe, elaborar, coordenar, executar, Política, Plano, SAN, nível, federal, meio, reunião, representantes, Governo, Federal, articular, políticas, planos, estaduais, Distrito, Federal, Garantia, entrega, cestas, alimentos, povos, indígenas, quilombolas, famílias, assentadas, cuja, composição, embasada, recomendações, Guia, Alimentar, População, Brasileira, produtos, in, natura, minimamente, processados, oriundos, agricultura, familiar, agroecológicos, orgânicos, Ao, Ministério, Agricultura, Pecuária, Abastecimento, Adoção, medidas, garantia, abastecimento, alimentar, meio, seguintes, recomendações, monitoramento, nacional, regionalizado, fluxos, preços, alimentos, integrantes, cesta, básica, intermédio, sistema, CONABCEASAS, b, promoção, imediata, recomposição, preços, mínimos, assegurar, recursos, promover, aquisições, Conab, alimentos, básicos, especial, arroz, feijão, milho, leite, farinha, mandioca, c, retorno, imediato, Programa, Aquisição, Alimentos, PAA, Agricultura, Familiar, intermédio, CONAB, estados, municípios, privilegiando, modalidade, Compra, doação, alimentos, operacionalizada, meio, organizações, sociais, associada, distribuição, cestas, básicas, famílias, carentes, situação, vulnerabilidade, social\n"
     ]
    }
   ],
   "source": [
    "# abrindo arquivo com as palavras selecionadas \n",
    "texto2 = open('selecionadas_CNS_ALIMENTACAO_2020.txt','r',encoding='UTF=8').read()\n",
    "print(texto2)"
   ]
  },
  {
   "cell_type": "code",
   "execution_count": 2,
   "id": "a82c3856",
   "metadata": {},
   "outputs": [
    {
     "name": "stdout",
     "output_type": "stream",
     "text": [
      "O texto apresenta 6634 palavras no total.\n"
     ]
    }
   ],
   "source": [
    "# Contar o quantidade de palavras no texto\n",
    "qt_palavras = len(texto2)\n",
    "print(f'O texto apresenta {qt_palavras} palavras no total.')"
   ]
  },
  {
   "cell_type": "code",
   "execution_count": 3,
   "id": "7bfa9d6e",
   "metadata": {},
   "outputs": [
    {
     "name": "stdout",
     "output_type": "stream",
     "text": [
      "\n",
      "Frequência das palavras:{'ao': 3, 'ministério': 4, 'saúde': 7, 'realização': 3, 'campanhas': 1, 'comunicação': 1, 'massa': 1, 'difusão': 1, 'informações': 1, 'base': 2, 'técnicocientíficas': 1, 'meio': 5, 'formatos': 1, 'acessíveis': 1, 'linguagem': 2, 'simples': 1, 'utilização': 2, 'recurso': 1, 'audiodescrição': 1, 'legendas': 1, 'libras': 1, 'direcionadas': 1, 'população': 7, 'sobre': 5, 'alimentação': 4, 'adequada': 4, 'saudável': 4, 'conservação': 2, 'alimentos': 18, 'assim': 1, 'trabalhadores': 2, 'empreendedores': 1, 'envolvidos': 2, 'cadeia': 1, 'fornecimento': 2, 'quanto': 2, 'uso': 3, 'material': 2, 'higiene': 4, 'equipamentos': 5, 'individuais': 1, 'mitigar': 2, 'riscos': 2, 'contágio': 2, 'disseminação': 2, 'covid19': 4, 'desenvolvimento': 3, 'estratégias': 3, 'orientações': 1, 'profissionais': 1, 'atenção': 3, 'primária': 3, 'importância': 1, 'vigilância': 2, 'alimentar': 9, 'nutricional': 7, 'especialmente': 6, 'populações': 2, 'vulneráveis': 3, 'povos': 4, 'comunidades': 2, 'tradicionais': 3, 'negra': 1, 'quilombolas': 2, 'indígenas': 2, 'grupos': 6, 'risco': 7, 'incentivo': 1, 'aleitamento': 2, 'materno': 2, 'consumo': 2, 'in': 2, 'natura': 2, 'minimamente': 2, 'processados': 2, 'acordo': 1, 'recomendações': 3, 'guias': 1, 'alimentares': 3, 'acessível': 1, 'toda': 1, 'forma': 1, 'proteger': 1, 'garantir': 1, 'manutenção': 3, 'aos': 1, 'governos': 2, 'estaduais': 3, 'municipais': 3, 'apoio': 2, 'criação': 1, 'comitês': 1, 'emergência': 1, 'combate': 2, 'fome': 2, 'formados': 1, 'instâncias': 2, 'tratam': 1, 'segurança': 4, 'san': 2, 'conselhos': 1, 'consea': 1, 'câmaras': 1, 'intersetoriais': 3, 'governamentais': 1, 'caisan': 2, 'instituições': 1, 'ensino': 1, 'superior': 1, 'ies': 1, 'diálogo': 1, 'sistemas': 1, 'assistência': 3, 'social': 5, 'sociedade': 1, 'civil': 1, 'monitorar': 1, 'propor': 1, 'soluções': 1, 'articuladas': 1, 'foco': 1, 'continuidade': 2, 'ampliação': 1, 'adequação': 1, 'distribuição': 8, 'restaurantes': 2, 'populares': 2, 'cozinhas': 2, 'comunitárias': 3, 'bancos': 1, 'cestas': 4, 'emergenciais': 1, 'visando': 4, 'priorizando': 1, 'organizações': 2, 'atendem': 1, 'longa': 1, 'permanência': 1, 'podem': 1, 'apoiar': 1, 'diferentes': 1, 'redes': 2, 'locais': 2, 'solidariedade': 1, 'realizando': 1, 'todas': 2, 'adaptações': 1, 'cuidados': 2, 'necessários': 1, 'reduzir': 2, 'vírus': 1, 'públicos': 2, 'escolas': 1, 'universidades': 1, 'centros': 2, 'comunitários': 1, 'etc': 2, 'lideranças': 1, 'territórios': 1, 'matriz': 1, 'africana': 1, 'promover': 2, 'local': 1, 'direta': 2, 'saudáveis': 2, 'kits': 1, 'inclusive': 1, 'feminina': 1, 'periferias': 2, 'favelas': 2, 'estudantes': 1, 'cotistas': 1, 'utilizando': 1, 'logística': 2, 'pessoas': 1, 'doenças': 1, 'crônicas': 1, 'fator': 1, 'severo': 1, 'quadro': 1, 'fortalecimento': 2, 'acompanhamento': 1, 'identificação': 1, 'agravos': 1, 'fatores': 2, 'necessidades': 1, 'possuem': 1, 'populacionais': 1, 'condições': 1, 'vulnerabilidade': 2, 'iniquidade': 1, 'assistidas': 1, 'programas': 1, 'transferência': 1, 'renda': 2, 'promoção': 3, 'orientação': 1, 'higienização': 1, 'equipe': 1, 'multiprofissional': 1, 'nutricionistas': 1, 'circuitos': 1, 'curtos': 1, 'proximidade': 1, 'comercialização': 2, 'adequados': 1, 'articulados': 1, 'varejo': 1, 'pequeno': 1, 'comércio': 2, 'feiras': 2, 'garantam': 1, 'acesso': 2, 'famílias': 3, 'tempo': 1, 'favorecem': 1, 'geração': 1, 'pequenos': 2, 'produtores': 1, 'estímulo': 1, 'iniciativas': 1, 'agricultoresas': 1, 'consumidores': 1, 'compra': 2, 'produção': 2, 'agricultura': 5, 'familiar': 3, 'agroecológicas': 1, 'modo': 1, 'possam': 1, 'adquiridas': 1, 'observância': 1, 'critérios': 1, 'distanciamento': 1, 'filas': 1, 'máscaras': 1, 'todos': 1, 'consumidora': 1, 'processo': 1, 'aquisição': 2, 'garantia': 3, 'proteção': 1, 'sanitária': 1, 'dasos': 1, 'trabalhadorases': 2, 'atividades': 1, 'sistema': 2, 'dependemos': 1, 'assegurar': 2, 'abastecimento': 4, 'instando': 1, 'empregadores': 1, 'indústria': 1, 'adotar': 1, 'medidas': 3, 'concretas': 1, 'nessa': 1, 'direção': 1, 'orientando': 1, 'formais': 1, 'informais': 1, 'procedimentos': 1, 'requeridos': 1, 'correto': 1, 'desses': 1, 'materiais': 1, 'gestão': 1, 'varejões': 1, 'sacolões': 1, 'mercados': 1, 'atenda': 1, 'esforços': 1, 'além': 1, 'finalidades': 1, 'mercantis': 1, 'específicas': 1, 'devidos': 1, 'contaminação': 1, 'elaboração': 1, 'intuito': 1, 'facilitar': 2, 'financiamento': 1, 'agricultores': 1, 'incentivos': 1, 'operações': 1, 'estabelecimento': 1, 'parcerias': 1, 'adoção': 2, 'armazenamento': 1, 'produções': 1, 'auxiliar': 1, 'redução': 1, 'perdas': 1, 'póscolheitas': 1, 'safras': 1, 'à': 1, 'câmara': 2, 'deputados': 1, 'a': 1, 'rejeição': 1, 'projeto': 1, 'lei': 2, '11942020': 1, 'dispõe': 1, 'desperdício': 1, 'doação': 2, 'excedentes': 1, 'refeições': 1, 'prontas': 1, 'dá': 1, 'outras': 1, 'providências': 1, 'autoria': 1, 'senador': 1, 'fernando': 1, 'collor': 1, 'prosal': 1, 'cidadania': 1, 'reconstituição': 1, 'imediata': 2, 'interministerial': 1, 'prevista': 1, 'art': 1, '11': 1, 'inciso': 1, 'iii': 1, 'orgânica': 1, 'losan': 1, 'cabe': 1, 'elaborar': 1, 'coordenar': 1, 'executar': 1, 'política': 1, 'plano': 1, 'nível': 1, 'federal': 3, 'reunião': 1, 'representantes': 1, 'governo': 1, 'articular': 1, 'políticas': 1, 'planos': 1, 'distrito': 1, 'entrega': 1, 'assentadas': 1, 'cuja': 1, 'composição': 1, 'embasada': 1, 'guia': 1, 'brasileira': 1, 'produtos': 1, 'oriundos': 1, 'agroecológicos': 1, 'orgânicos': 1, 'pecuária': 1, 'seguintes': 1, 'monitoramento': 1, 'nacional': 1, 'regionalizado': 1, 'fluxos': 1, 'preços': 2, 'integrantes': 1, 'cesta': 1, 'básica': 1, 'intermédio': 2, 'conabceasas': 1, 'b': 1, 'recomposição': 1, 'mínimos': 1, 'recursos': 1, 'aquisições': 1, 'conab': 2, 'básicos': 1, 'especial': 1, 'arroz': 1, 'feijão': 1, 'milho': 1, 'leite': 1, 'farinha': 1, 'mandioca': 1, 'c': 1, 'retorno': 1, 'imediato': 1, 'programa': 1, 'paa': 1, 'estados': 1, 'municípios': 1, 'privilegiando': 1, 'modalidade': 1, 'operacionalizada': 1, 'sociais': 1, 'associada': 1, 'básicas': 1, 'carentes': 1, 'situação': 1}\n"
     ]
    }
   ],
   "source": [
    "# Tratamento de caracteres indesejados é a frequência daquela palavra.\n",
    "import text as text\n",
    "freq = text.bag_of_words('selecionadas_CNS_ALIMENTACAO_2020.txt')\n",
    "\n",
    "# Imprimir a frequencia de cada palavra\n",
    "print(f'\\nFrequência das palavras:{freq}')"
   ]
  },
  {
   "cell_type": "code",
   "execution_count": 4,
   "id": "c7634c31",
   "metadata": {},
   "outputs": [
    {
     "name": "stdout",
     "output_type": "stream",
     "text": [
      "Classificação das palavras pela frequência: {'alimentos': 18, 'alimentar': 9, 'distribuição': 8, 'saúde': 7, 'população': 7, 'nutricional': 7, 'risco': 7, 'especialmente': 6, 'grupos': 6, 'meio': 5, 'sobre': 5, 'equipamentos': 5, 'social': 5, 'agricultura': 5, 'ministério': 4, 'alimentação': 4, 'adequada': 4, 'saudável': 4, 'higiene': 4, 'covid19': 4, 'povos': 4, 'segurança': 4, 'cestas': 4, 'visando': 4, 'abastecimento': 4, 'ao': 3, 'realização': 3, 'uso': 3, 'desenvolvimento': 3, 'estratégias': 3, 'atenção': 3, 'primária': 3, 'vulneráveis': 3, 'tradicionais': 3, 'recomendações': 3, 'alimentares': 3, 'manutenção': 3, 'estaduais': 3, 'municipais': 3, 'intersetoriais': 3, 'assistência': 3, 'comunitárias': 3, 'promoção': 3, 'famílias': 3, 'familiar': 3, 'garantia': 3, 'medidas': 3, 'federal': 3, 'base': 2, 'linguagem': 2, 'utilização': 2, 'conservação': 2, 'trabalhadores': 2, 'envolvidos': 2, 'fornecimento': 2, 'quanto': 2, 'material': 2, 'mitigar': 2, 'riscos': 2, 'contágio': 2, 'disseminação': 2, 'vigilância': 2, 'populações': 2, 'comunidades': 2, 'quilombolas': 2, 'indígenas': 2, 'aleitamento': 2, 'materno': 2, 'consumo': 2, 'in': 2, 'natura': 2, 'minimamente': 2, 'processados': 2, 'governos': 2, 'apoio': 2, 'combate': 2, 'fome': 2, 'instâncias': 2, 'san': 2, 'caisan': 2, 'continuidade': 2, 'restaurantes': 2, 'populares': 2, 'cozinhas': 2, 'organizações': 2, 'redes': 2, 'locais': 2, 'todas': 2, 'cuidados': 2, 'reduzir': 2, 'públicos': 2, 'centros': 2, 'etc': 2, 'promover': 2, 'direta': 2, 'saudáveis': 2, 'periferias': 2, 'favelas': 2, 'logística': 2, 'fortalecimento': 2, 'fatores': 2, 'vulnerabilidade': 2, 'renda': 2, 'comercialização': 2, 'comércio': 2, 'feiras': 2, 'acesso': 2, 'pequenos': 2, 'compra': 2, 'produção': 2, 'aquisição': 2, 'trabalhadorases': 2, 'sistema': 2, 'assegurar': 2, 'facilitar': 2, 'adoção': 2, 'câmara': 2, 'lei': 2, 'doação': 2, 'imediata': 2, 'preços': 2, 'intermédio': 2, 'conab': 2, 'campanhas': 1, 'comunicação': 1, 'massa': 1, 'difusão': 1, 'informações': 1, 'técnicocientíficas': 1, 'formatos': 1, 'acessíveis': 1, 'simples': 1, 'recurso': 1, 'audiodescrição': 1, 'legendas': 1, 'libras': 1, 'direcionadas': 1, 'assim': 1, 'empreendedores': 1, 'cadeia': 1, 'individuais': 1, 'orientações': 1, 'profissionais': 1, 'importância': 1, 'negra': 1, 'incentivo': 1, 'acordo': 1, 'guias': 1, 'acessível': 1, 'toda': 1, 'forma': 1, 'proteger': 1, 'garantir': 1, 'aos': 1, 'criação': 1, 'comitês': 1, 'emergência': 1, 'formados': 1, 'tratam': 1, 'conselhos': 1, 'consea': 1, 'câmaras': 1, 'governamentais': 1, 'instituições': 1, 'ensino': 1, 'superior': 1, 'ies': 1, 'diálogo': 1, 'sistemas': 1, 'sociedade': 1, 'civil': 1, 'monitorar': 1, 'propor': 1, 'soluções': 1, 'articuladas': 1, 'foco': 1, 'ampliação': 1, 'adequação': 1, 'bancos': 1, 'emergenciais': 1, 'priorizando': 1, 'atendem': 1, 'longa': 1, 'permanência': 1, 'podem': 1, 'apoiar': 1, 'diferentes': 1, 'solidariedade': 1, 'realizando': 1, 'adaptações': 1, 'necessários': 1, 'vírus': 1, 'escolas': 1, 'universidades': 1, 'comunitários': 1, 'lideranças': 1, 'territórios': 1, 'matriz': 1, 'africana': 1, 'local': 1, 'kits': 1, 'inclusive': 1, 'feminina': 1, 'estudantes': 1, 'cotistas': 1, 'utilizando': 1, 'pessoas': 1, 'doenças': 1, 'crônicas': 1, 'fator': 1, 'severo': 1, 'quadro': 1, 'acompanhamento': 1, 'identificação': 1, 'agravos': 1, 'necessidades': 1, 'possuem': 1, 'populacionais': 1, 'condições': 1, 'iniquidade': 1, 'assistidas': 1, 'programas': 1, 'transferência': 1, 'orientação': 1, 'higienização': 1, 'equipe': 1, 'multiprofissional': 1, 'nutricionistas': 1, 'circuitos': 1, 'curtos': 1, 'proximidade': 1, 'adequados': 1, 'articulados': 1, 'varejo': 1, 'pequeno': 1, 'garantam': 1, 'tempo': 1, 'favorecem': 1, 'geração': 1, 'produtores': 1, 'estímulo': 1, 'iniciativas': 1, 'agricultoresas': 1, 'consumidores': 1, 'agroecológicas': 1, 'modo': 1, 'possam': 1, 'adquiridas': 1, 'observância': 1, 'critérios': 1, 'distanciamento': 1, 'filas': 1, 'máscaras': 1, 'todos': 1, 'consumidora': 1, 'processo': 1, 'proteção': 1, 'sanitária': 1, 'dasos': 1, 'atividades': 1, 'dependemos': 1, 'instando': 1, 'empregadores': 1, 'indústria': 1, 'adotar': 1, 'concretas': 1, 'nessa': 1, 'direção': 1, 'orientando': 1, 'formais': 1, 'informais': 1, 'procedimentos': 1, 'requeridos': 1, 'correto': 1, 'desses': 1, 'materiais': 1, 'gestão': 1, 'varejões': 1, 'sacolões': 1, 'mercados': 1, 'atenda': 1, 'esforços': 1, 'além': 1, 'finalidades': 1, 'mercantis': 1, 'específicas': 1, 'devidos': 1, 'contaminação': 1, 'elaboração': 1, 'intuito': 1, 'financiamento': 1, 'agricultores': 1, 'incentivos': 1, 'operações': 1, 'estabelecimento': 1, 'parcerias': 1, 'armazenamento': 1, 'produções': 1, 'auxiliar': 1, 'redução': 1, 'perdas': 1, 'póscolheitas': 1, 'safras': 1, 'à': 1, 'deputados': 1, 'a': 1, 'rejeição': 1, 'projeto': 1, '11942020': 1, 'dispõe': 1, 'desperdício': 1, 'excedentes': 1, 'refeições': 1, 'prontas': 1, 'dá': 1, 'outras': 1, 'providências': 1, 'autoria': 1, 'senador': 1, 'fernando': 1, 'collor': 1, 'prosal': 1, 'cidadania': 1, 'reconstituição': 1, 'interministerial': 1, 'prevista': 1, 'art': 1, '11': 1, 'inciso': 1, 'iii': 1, 'orgânica': 1, 'losan': 1, 'cabe': 1, 'elaborar': 1, 'coordenar': 1, 'executar': 1, 'política': 1, 'plano': 1, 'nível': 1, 'reunião': 1, 'representantes': 1, 'governo': 1, 'articular': 1, 'políticas': 1, 'planos': 1, 'distrito': 1, 'entrega': 1, 'assentadas': 1, 'cuja': 1, 'composição': 1, 'embasada': 1, 'guia': 1, 'brasileira': 1, 'produtos': 1, 'oriundos': 1, 'agroecológicos': 1, 'orgânicos': 1, 'pecuária': 1, 'seguintes': 1, 'monitoramento': 1, 'nacional': 1, 'regionalizado': 1, 'fluxos': 1, 'integrantes': 1, 'cesta': 1, 'básica': 1, 'conabceasas': 1, 'b': 1, 'recomposição': 1, 'mínimos': 1, 'recursos': 1, 'aquisições': 1, 'básicos': 1, 'especial': 1, 'arroz': 1, 'feijão': 1, 'milho': 1, 'leite': 1, 'farinha': 1, 'mandioca': 1, 'c': 1, 'retorno': 1, 'imediato': 1, 'programa': 1, 'paa': 1, 'estados': 1, 'municípios': 1, 'privilegiando': 1, 'modalidade': 1, 'operacionalizada': 1, 'sociais': 1, 'associada': 1, 'básicas': 1, 'carentes': 1, 'situação': 1}\n",
      "\n"
     ]
    }
   ],
   "source": [
    "# Retorna as palavras classificadas pelo maior frequencia\n",
    "most = text.most_frequent(freq, qt_palavras)\n",
    "print(f'Classificação das palavras pela frequência: {most}\\n')"
   ]
  },
  {
   "cell_type": "code",
   "execution_count": 5,
   "id": "1d102987",
   "metadata": {},
   "outputs": [],
   "source": [
    "# Criar um arquivo de saída chamado palavras_ANVISA_HM_2020.csv contendo as palavras e suas frequências.\n",
    "arquivo_saida = open(\"palavras_CNS_ALIMENTACAO_2020.csv\",\"w\") "
   ]
  },
  {
   "cell_type": "code",
   "execution_count": 6,
   "id": "993cbbd8",
   "metadata": {},
   "outputs": [],
   "source": [
    "# Gravando palavras e frequência no arquivo csv\n",
    "import text as text\n",
    "grava = text.write_frequencies_csv(\"palavras_CNS_ALIMENTACAO_2020.csv\", freq)"
   ]
  },
  {
   "cell_type": "code",
   "execution_count": 7,
   "id": "2f2bcdd8",
   "metadata": {},
   "outputs": [
    {
     "data": {
      "text/html": [
       "<div>\n",
       "<style scoped>\n",
       "    .dataframe tbody tr th:only-of-type {\n",
       "        vertical-align: middle;\n",
       "    }\n",
       "\n",
       "    .dataframe tbody tr th {\n",
       "        vertical-align: top;\n",
       "    }\n",
       "\n",
       "    .dataframe thead th {\n",
       "        text-align: right;\n",
       "    }\n",
       "</style>\n",
       "<table border=\"1\" class=\"dataframe\">\n",
       "  <thead>\n",
       "    <tr style=\"text-align: right;\">\n",
       "      <th></th>\n",
       "      <th>Palavras</th>\n",
       "      <th>Frequência</th>\n",
       "    </tr>\n",
       "  </thead>\n",
       "  <tbody>\n",
       "    <tr>\n",
       "      <th>0</th>\n",
       "      <td>ao</td>\n",
       "      <td>3</td>\n",
       "    </tr>\n",
       "    <tr>\n",
       "      <th>1</th>\n",
       "      <td>ministério</td>\n",
       "      <td>4</td>\n",
       "    </tr>\n",
       "    <tr>\n",
       "      <th>2</th>\n",
       "      <td>saúde</td>\n",
       "      <td>7</td>\n",
       "    </tr>\n",
       "    <tr>\n",
       "      <th>3</th>\n",
       "      <td>realização</td>\n",
       "      <td>3</td>\n",
       "    </tr>\n",
       "    <tr>\n",
       "      <th>4</th>\n",
       "      <td>campanhas</td>\n",
       "      <td>1</td>\n",
       "    </tr>\n",
       "    <tr>\n",
       "      <th>...</th>\n",
       "      <td>...</td>\n",
       "      <td>...</td>\n",
       "    </tr>\n",
       "    <tr>\n",
       "      <th>390</th>\n",
       "      <td>sociais</td>\n",
       "      <td>1</td>\n",
       "    </tr>\n",
       "    <tr>\n",
       "      <th>391</th>\n",
       "      <td>associada</td>\n",
       "      <td>1</td>\n",
       "    </tr>\n",
       "    <tr>\n",
       "      <th>392</th>\n",
       "      <td>básicas</td>\n",
       "      <td>1</td>\n",
       "    </tr>\n",
       "    <tr>\n",
       "      <th>393</th>\n",
       "      <td>carentes</td>\n",
       "      <td>1</td>\n",
       "    </tr>\n",
       "    <tr>\n",
       "      <th>394</th>\n",
       "      <td>situação</td>\n",
       "      <td>1</td>\n",
       "    </tr>\n",
       "  </tbody>\n",
       "</table>\n",
       "<p>395 rows × 2 columns</p>\n",
       "</div>"
      ],
      "text/plain": [
       "       Palavras  Frequência\n",
       "0            ao           3\n",
       "1    ministério           4\n",
       "2         saúde           7\n",
       "3    realização           3\n",
       "4     campanhas           1\n",
       "..          ...         ...\n",
       "390     sociais           1\n",
       "391   associada           1\n",
       "392     básicas           1\n",
       "393    carentes           1\n",
       "394    situação           1\n",
       "\n",
       "[395 rows x 2 columns]"
      ]
     },
     "execution_count": 7,
     "metadata": {},
     "output_type": "execute_result"
    }
   ],
   "source": [
    "# Carregando e visualizando dados do arquivo csv\n",
    "import pandas as pd\n",
    "data = pd.read_csv('palavras_CNS_ALIMENTACAO_2020.csv', sep=';')\n",
    "data"
   ]
  }
 ],
 "metadata": {
  "kernelspec": {
   "display_name": "Python 3 (ipykernel)",
   "language": "python",
   "name": "python3"
  },
  "language_info": {
   "codemirror_mode": {
    "name": "ipython",
    "version": 3
   },
   "file_extension": ".py",
   "mimetype": "text/x-python",
   "name": "python",
   "nbconvert_exporter": "python",
   "pygments_lexer": "ipython3",
   "version": "3.9.12"
  }
 },
 "nbformat": 4,
 "nbformat_minor": 5
}
