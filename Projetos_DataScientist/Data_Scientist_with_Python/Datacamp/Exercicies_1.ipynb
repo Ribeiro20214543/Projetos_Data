{
 "cells": [
  {
   "cell_type": "code",
   "execution_count": 3,
   "id": "2b559a70",
   "metadata": {},
   "outputs": [
    {
     "name": "stdout",
     "output_type": "stream",
     "text": [
      "DataCamp \n"
     ]
    }
   ],
   "source": [
    "p = 1\n",
    "q = \"DataCamp \"\n",
    "print (q * p) # usa-se o operador de multiplicação para imprimir, pois p é un número inteiro e q é uma string"
   ]
  },
  {
   "cell_type": "code",
   "execution_count": 4,
   "id": "ad7187aa",
   "metadata": {},
   "outputs": [
    {
     "name": "stdout",
     "output_type": "stream",
     "text": [
      "['Winter', 'Spring', 'Summer', 'Fall']\n"
     ]
    }
   ],
   "source": [
    "x = [\"Winter\", \"Spring\"]\n",
    "y = [\"Summer\", \"Fall\"]\n",
    "print(x + y)   # Para juntar as duas listas utiliza-se o oporador +"
   ]
  },
  {
   "cell_type": "code",
   "execution_count": 5,
   "id": "aa40ee1e",
   "metadata": {},
   "outputs": [
    {
     "name": "stdout",
     "output_type": "stream",
     "text": [
      "0\n"
     ]
    }
   ],
   "source": [
    "print(False *bool(3.2))# Retorna 0"
   ]
  },
  {
   "cell_type": "code",
   "execution_count": 6,
   "id": "4552ed62",
   "metadata": {},
   "outputs": [
    {
     "name": "stdout",
     "output_type": "stream",
     "text": [
      "2\n"
     ]
    }
   ],
   "source": [
    "x = int(2.3)\n",
    "y = 1\n",
    "print(x * bool(y)) # retorna 2, pois o x está sendo convertido para um número inteiro"
   ]
  },
  {
   "cell_type": "code",
   "execution_count": 7,
   "id": "7a9a6b2d",
   "metadata": {},
   "outputs": [
    {
     "data": {
      "text/plain": [
       "[3, -1, -2]"
      ]
     },
     "execution_count": 7,
     "metadata": {},
     "output_type": "execute_result"
    }
   ],
   "source": [
    "sorted([-1,3,-2], reverse = True) # retorna primeiro os número positivos e depois os negativos"
   ]
  },
  {
   "cell_type": "code",
   "execution_count": null,
   "id": "6b4b968b",
   "metadata": {},
   "outputs": [],
   "source": []
  }
 ],
 "metadata": {
  "kernelspec": {
   "display_name": "Python 3",
   "language": "python",
   "name": "python3"
  },
  "language_info": {
   "codemirror_mode": {
    "name": "ipython",
    "version": 3
   },
   "file_extension": ".py",
   "mimetype": "text/x-python",
   "name": "python",
   "nbconvert_exporter": "python",
   "pygments_lexer": "ipython3",
   "version": "3.8.8"
  }
 },
 "nbformat": 4,
 "nbformat_minor": 5
}
