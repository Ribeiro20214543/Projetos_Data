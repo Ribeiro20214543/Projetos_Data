{
 "cells": [
  {
   "cell_type": "markdown",
   "metadata": {},
   "source": [
    "## The Sakila Database\n",
    "\n",
    "One of the best example databases out there is the <a href=\"https://dev.mysql.com/doc/sakila/en/\">Sakila Database</a>, which was originally created by MySQL and has been open sourced under the terms of the BSD License.\n",
    "\n",
    "The Sakila database is a nicely normalised schema modelling a DVD rental store, featuring things like films, actors, film-actor relationships, and a central inventory table that connects films, stores, and rentals.\n",
    "\n",
    "<img width=\"1200px\" src=\"https://user-images.githubusercontent.com/7065401/58504872-fa243b00-8161-11e9-85ed-4b7d8d7ce9f7.png\" />"
   ]
  },
  {
   "cell_type": "code",
   "execution_count": 1,
   "metadata": {},
   "outputs": [],
   "source": [
    "import numpy as np\n",
    "import pandas as pd\n",
    "import matplotlib.pyplot as plt\n",
    "import sqlite3\n",
    "\n",
    "%matplotlib inline"
   ]
  },
  {
   "cell_type": "code",
   "execution_count": 2,
   "metadata": {},
   "outputs": [],
   "source": [
    "conn = sqlite3.connect('data/sakila.db')\n",
    "\n",
    "df = pd.read_sql('''\n",
    "    SELECT\n",
    "        rental.rental_id, rental.rental_date, rental.return_date,\n",
    "        customer.last_name AS customer_lastname,\n",
    "        store.store_id,\n",
    "        city.city AS rental_store_city,\n",
    "        film.title AS film_title, film.rental_duration AS film_rental_duration,\n",
    "        film.rental_rate AS film_rental_rate, film.replacement_cost AS film_replacement_cost,\n",
    "        film.rating AS film_rating\n",
    "    FROM rental\n",
    "    INNER JOIN customer ON rental.customer_id == customer.customer_id\n",
    "    INNER JOIN inventory ON rental.inventory_id == inventory.inventory_id\n",
    "    INNER JOIN store ON inventory.store_id == store.store_id\n",
    "    INNER JOIN address ON store.address_id == address.address_id\n",
    "    INNER JOIN city ON address.city_id == city.city_id\n",
    "    INNER JOIN film ON inventory.film_id == film.film_id\n",
    "    ;\n",
    "''', conn, index_col='rental_id', parse_dates=['rental_date', 'return_date'])"
   ]
  },
  {
   "cell_type": "code",
   "execution_count": 3,
   "metadata": {},
   "outputs": [
    {
     "data": {
      "text/html": [
       "<div>\n",
       "<style scoped>\n",
       "    .dataframe tbody tr th:only-of-type {\n",
       "        vertical-align: middle;\n",
       "    }\n",
       "\n",
       "    .dataframe tbody tr th {\n",
       "        vertical-align: top;\n",
       "    }\n",
       "\n",
       "    .dataframe thead th {\n",
       "        text-align: right;\n",
       "    }\n",
       "</style>\n",
       "<table border=\"1\" class=\"dataframe\">\n",
       "  <thead>\n",
       "    <tr style=\"text-align: right;\">\n",
       "      <th></th>\n",
       "      <th>rental_date</th>\n",
       "      <th>return_date</th>\n",
       "      <th>customer_lastname</th>\n",
       "      <th>store_id</th>\n",
       "      <th>rental_store_city</th>\n",
       "      <th>film_title</th>\n",
       "      <th>film_rental_duration</th>\n",
       "      <th>film_rental_rate</th>\n",
       "      <th>film_replacement_cost</th>\n",
       "      <th>film_rating</th>\n",
       "    </tr>\n",
       "    <tr>\n",
       "      <th>rental_id</th>\n",
       "      <th></th>\n",
       "      <th></th>\n",
       "      <th></th>\n",
       "      <th></th>\n",
       "      <th></th>\n",
       "      <th></th>\n",
       "      <th></th>\n",
       "      <th></th>\n",
       "      <th></th>\n",
       "      <th></th>\n",
       "    </tr>\n",
       "  </thead>\n",
       "  <tbody>\n",
       "    <tr>\n",
       "      <th>1</th>\n",
       "      <td>2005-05-24 22:53:30</td>\n",
       "      <td>2005-05-26 22:04:30</td>\n",
       "      <td>HUNTER</td>\n",
       "      <td>1</td>\n",
       "      <td>Lethbridge</td>\n",
       "      <td>BLANKET BEVERLY</td>\n",
       "      <td>7</td>\n",
       "      <td>2.99</td>\n",
       "      <td>21.99</td>\n",
       "      <td>G</td>\n",
       "    </tr>\n",
       "    <tr>\n",
       "      <th>2</th>\n",
       "      <td>2005-05-24 22:54:33</td>\n",
       "      <td>2005-05-28 19:40:33</td>\n",
       "      <td>COLLAZO</td>\n",
       "      <td>2</td>\n",
       "      <td>Woodridge</td>\n",
       "      <td>FREAKY POCUS</td>\n",
       "      <td>7</td>\n",
       "      <td>2.99</td>\n",
       "      <td>16.99</td>\n",
       "      <td>R</td>\n",
       "    </tr>\n",
       "    <tr>\n",
       "      <th>3</th>\n",
       "      <td>2005-05-24 23:03:39</td>\n",
       "      <td>2005-06-01 22:12:39</td>\n",
       "      <td>MURRELL</td>\n",
       "      <td>2</td>\n",
       "      <td>Woodridge</td>\n",
       "      <td>GRADUATE LORD</td>\n",
       "      <td>7</td>\n",
       "      <td>2.99</td>\n",
       "      <td>14.99</td>\n",
       "      <td>G</td>\n",
       "    </tr>\n",
       "    <tr>\n",
       "      <th>4</th>\n",
       "      <td>2005-05-24 23:04:41</td>\n",
       "      <td>2005-06-03 01:43:41</td>\n",
       "      <td>PURDY</td>\n",
       "      <td>1</td>\n",
       "      <td>Lethbridge</td>\n",
       "      <td>LOVE SUICIDES</td>\n",
       "      <td>6</td>\n",
       "      <td>0.99</td>\n",
       "      <td>21.99</td>\n",
       "      <td>R</td>\n",
       "    </tr>\n",
       "    <tr>\n",
       "      <th>5</th>\n",
       "      <td>2005-05-24 23:05:21</td>\n",
       "      <td>2005-06-02 04:33:21</td>\n",
       "      <td>HANSEN</td>\n",
       "      <td>2</td>\n",
       "      <td>Woodridge</td>\n",
       "      <td>IDOLS SNATCHERS</td>\n",
       "      <td>5</td>\n",
       "      <td>2.99</td>\n",
       "      <td>29.99</td>\n",
       "      <td>NC-17</td>\n",
       "    </tr>\n",
       "  </tbody>\n",
       "</table>\n",
       "</div>"
      ],
      "text/plain": [
       "                  rental_date         return_date customer_lastname  store_id  \\\n",
       "rental_id                                                                       \n",
       "1         2005-05-24 22:53:30 2005-05-26 22:04:30            HUNTER         1   \n",
       "2         2005-05-24 22:54:33 2005-05-28 19:40:33           COLLAZO         2   \n",
       "3         2005-05-24 23:03:39 2005-06-01 22:12:39           MURRELL         2   \n",
       "4         2005-05-24 23:04:41 2005-06-03 01:43:41             PURDY         1   \n",
       "5         2005-05-24 23:05:21 2005-06-02 04:33:21            HANSEN         2   \n",
       "\n",
       "          rental_store_city       film_title  film_rental_duration  \\\n",
       "rental_id                                                            \n",
       "1                Lethbridge  BLANKET BEVERLY                     7   \n",
       "2                 Woodridge     FREAKY POCUS                     7   \n",
       "3                 Woodridge    GRADUATE LORD                     7   \n",
       "4                Lethbridge    LOVE SUICIDES                     6   \n",
       "5                 Woodridge  IDOLS SNATCHERS                     5   \n",
       "\n",
       "           film_rental_rate  film_replacement_cost film_rating  \n",
       "rental_id                                                       \n",
       "1                      2.99                  21.99           G  \n",
       "2                      2.99                  16.99           R  \n",
       "3                      2.99                  14.99           G  \n",
       "4                      0.99                  21.99           R  \n",
       "5                      2.99                  29.99       NC-17  "
      ]
     },
     "execution_count": 3,
     "metadata": {},
     "output_type": "execute_result"
    }
   ],
   "source": [
    "df.head()"
   ]
  },
  {
   "cell_type": "markdown",
   "metadata": {},
   "source": [
    "### What's the mean of `film_rental_duration`?"
   ]
  },
  {
   "cell_type": "code",
   "execution_count": 4,
   "metadata": {
    "cell_type": "solution"
   },
   "outputs": [
    {
     "data": {
      "text/plain": [
       "4.935489902767389"
      ]
     },
     "execution_count": 4,
     "metadata": {},
     "output_type": "execute_result"
    }
   ],
   "source": [
    "df['film_rental_duration'].mean()"
   ]
  },
  {
   "cell_type": "markdown",
   "metadata": {},
   "source": [
    "### What's the most common rental duration?\n",
    "\n",
    "Show a <b>bar plot</b> with all the durations."
   ]
  },
  {
   "cell_type": "code",
   "execution_count": 5,
   "metadata": {
    "cell_type": "solution"
   },
   "outputs": [
    {
     "data": {
      "text/plain": [
       "<AxesSubplot:>"
      ]
     },
     "execution_count": 5,
     "metadata": {},
     "output_type": "execute_result"
    },
    {
     "data": {
      "image/png": "[encoded data removed]",
      "text/plain": [
       "<Figure size 1008x432 with 1 Axes>"
      ]
     },
     "metadata": {
      "needs_background": "light"
     },
     "output_type": "display_data"
    }
   ],
   "source": [
    "df['film_rental_duration'].value_counts().plot(kind='bar', figsize=(14,6))"
   ]
  },
  {
   "cell_type": "markdown",
   "metadata": {},
   "source": [
    "### What is the most common rental rate?\n",
    "\n",
    "- Show a <b>pie plot</b> with all possible rental rates.\n",
    "- Show a <b>bar plot</b> with all possible rental rates.\n",
    "- Which plot you think fits the best in this case? Why?"
   ]
  },
  {
   "cell_type": "code",
   "execution_count": 6,
   "metadata": {
    "cell_type": "solution"
   },
   "outputs": [
    {
     "data": {
      "text/plain": [
       "<AxesSubplot:ylabel='film_rental_rate'>"
      ]
     },
     "execution_count": 6,
     "metadata": {},
     "output_type": "execute_result"
    },
    {
     "data": {
      "image/png": "[encoded data removed]",
      "text/plain": [
       "<Figure size 432x432 with 1 Axes>"
      ]
     },
     "metadata": {},
     "output_type": "display_data"
    }
   ],
   "source": [
    "df['film_rental_rate'].value_counts().plot(kind='pie', figsize=(6,6))"
   ]
  },
  {
   "cell_type": "code",
   "execution_count": 7,
   "metadata": {
    "cell_type": "solution"
   },
   "outputs": [
    {
     "data": {
      "text/plain": [
       "<AxesSubplot:>"
      ]
     },
     "execution_count": 7,
     "metadata": {},
     "output_type": "execute_result"
    },
    {
     "data": {
      "image/png": "[encoded data removed]",
      "text/plain": [
       "<Figure size 1008x432 with 1 Axes>"
      ]
     },
     "metadata": {
      "needs_background": "light"
     },
     "output_type": "display_data"
    }
   ],
   "source": [
    "df['film_rental_rate'].value_counts().plot(kind='bar', figsize=(14,6))"
   ]
  },
  {
   "cell_type": "markdown",
   "metadata": {},
   "source": [
    "### How is the replacement cost distributed?\n",
    "\n",
    "- Show a <b>box plot</b> of the replacement costs.\n",
    "- Show a <b>density plot</b> of the replacement costs.\n",
    "- Add a red line on the <b>mean</b>.\n",
    "- Add a green line on the median <b>median</b>."
   ]
  },
  {
   "cell_type": "code",
   "execution_count": 8,
   "metadata": {
    "cell_type": "solution"
   },
   "outputs": [
    {
     "data": {
      "text/plain": [
       "<AxesSubplot:>"
      ]
     },
     "execution_count": 8,
     "metadata": {},
     "output_type": "execute_result"
    },
    {
     "data": {
      "image/png": "[encoded data removed]",
      "text/plain": [
       "<Figure size 1008x432 with 1 Axes>"
      ]
     },
     "metadata": {
      "needs_background": "light"
     },
     "output_type": "display_data"
    }
   ],
   "source": [
    "df['film_replacement_cost'].plot(kind='box', vert=False, figsize=(14,6))"
   ]
  },
  {
   "cell_type": "code",
   "execution_count": 9,
   "metadata": {
    "cell_type": "solution"
   },
   "outputs": [
    {
     "data": {
      "text/plain": [
       "<matplotlib.lines.Line2D at 0x7f577b51c4f0>"
      ]
     },
     "execution_count": 9,
     "metadata": {},
     "output_type": "execute_result"
    },
    {
     "data": {
      "image/png": "[encoded data removed]",
      "text/plain": [
       "<Figure size 1008x432 with 1 Axes>"
      ]
     },
     "metadata": {
      "needs_background": "light"
     },
     "output_type": "display_data"
    }
   ],
   "source": [
    "ax = df['film_replacement_cost'].plot(kind='density', figsize=(14,6))\n",
    "ax.axvline(df['film_replacement_cost'].mean(), color='red')\n",
    "ax.axvline(df['film_replacement_cost'].median(), color='green')"
   ]
  },
  {
   "cell_type": "markdown",
   "metadata": {},
   "source": [
    "### How many films of each rating do we have?\n",
    "\n",
    "- Show the raw count of each film rating.\n",
    "- Show a <b>bar plot</b> with all possible film ratings."
   ]
  },
  {
   "cell_type": "code",
   "execution_count": 10,
   "metadata": {
    "cell_type": "solution"
   },
   "outputs": [
    {
     "data": {
      "text/plain": [
       "PG-13    3585\n",
       "NC-17    3293\n",
       "PG       3212\n",
       "R        3181\n",
       "G        2773\n",
       "Name: film_rating, dtype: int64"
      ]
     },
     "execution_count": 10,
     "metadata": {},
     "output_type": "execute_result"
    }
   ],
   "source": [
    "df['film_rating'].value_counts()"
   ]
  },
  {
   "cell_type": "code",
   "execution_count": 11,
   "metadata": {
    "cell_type": "solution"
   },
   "outputs": [
    {
     "data": {
      "text/plain": [
       "<AxesSubplot:>"
      ]
     },
     "execution_count": 11,
     "metadata": {},
     "output_type": "execute_result"
    },
    {
     "data": {
      "image/png": "[encoded data removed]",
      "text/plain": [
       "<Figure size 1008x432 with 1 Axes>"
      ]
     },
     "metadata": {
      "needs_background": "light"
     },
     "output_type": "display_data"
    }
   ],
   "source": [
    "df['film_rating'].value_counts().plot(kind='bar', figsize=(14,6))"
   ]
  },
  {
   "cell_type": "markdown",
   "metadata": {},
   "source": [
    "### Does the film replacement cost vary depending on film rating?\n",
    "\n",
    "In the United States, film classification is a voluntary process with the ratings issued by the Motion Picture Association of America (MPAA) via the Classification and Rating Administration (CARA).\n",
    "\n",
    "- G (General Audiences): All Ages are Admitted.\n",
    "- PG (Parental Guidance Suggested): Some Material May Not Be Suitable for Children.\n",
    "- PG-13 (Parents Strongly Cautioned): Some Material May Be Inappropriate for Children Under 13.\n",
    "- R (Restricted): Under 17 Requires Accompanying Parent or Adult Guardian.\n",
    "- NC-17 (Adults Only): No One 17 and Under Admitted.\n",
    "\n",
    "Show a <b>grouped box plot</b> per film rating with the film replacement costs."
   ]
  },
  {
   "cell_type": "code",
   "execution_count": 12,
   "metadata": {
    "cell_type": "solution"
   },
   "outputs": [
    {
     "data": {
      "text/plain": [
       "<AxesSubplot:title={'center':'film_replacement_cost'}, xlabel='[film_rating]'>"
      ]
     },
     "execution_count": 12,
     "metadata": {},
     "output_type": "execute_result"
    },
    {
     "data": {
      "image/png": "[encoded data removed]",
      "text/plain": [
       "<Figure size 1008x432 with 1 Axes>"
      ]
     },
     "metadata": {
      "needs_background": "light"
     },
     "output_type": "display_data"
    }
   ],
   "source": [
    "df[['film_replacement_cost', 'film_rating']].boxplot(by='film_rating', figsize=(14,6))"
   ]
  },
  {
   "cell_type": "markdown",
   "metadata": {},
   "source": [
    "### Add and calculate a new `rental_days` column\n",
    "\n",
    "This numeric column should have the count of days between `rental_date` and `return_date`."
   ]
  },
  {
   "cell_type": "code",
   "execution_count": 13,
   "metadata": {
    "cell_type": "solution"
   },
   "outputs": [
    {
     "data": {
      "text/plain": [
       "rental_id\n",
       "1    1.0\n",
       "2    3.0\n",
       "3    7.0\n",
       "4    9.0\n",
       "5    8.0\n",
       "Name: rental_days, dtype: float64"
      ]
     },
     "execution_count": 13,
     "metadata": {},
     "output_type": "execute_result"
    }
   ],
   "source": [
    "df['rental_days'] = df[['rental_date', 'return_date']].apply(lambda x: (x[1] - x[0]).days, axis=1)\n",
    "\n",
    "df['rental_days'].head()"
   ]
  },
  {
   "cell_type": "markdown",
   "metadata": {},
   "source": [
    "### Analyze the distribution of `rental_days`\n",
    "\n",
    "- Calculate the mean of `rental_days`.\n",
    "- Show a <b>density (KDE)</b> of `rental_days`."
   ]
  },
  {
   "cell_type": "code",
   "execution_count": 14,
   "metadata": {
    "cell_type": "solution"
   },
   "outputs": [
    {
     "data": {
      "text/plain": [
       "4.525944139713763"
      ]
     },
     "execution_count": 14,
     "metadata": {},
     "output_type": "execute_result"
    }
   ],
   "source": [
    "df['rental_days'].mean()"
   ]
  },
  {
   "cell_type": "code",
   "execution_count": 15,
   "metadata": {
    "cell_type": "solution"
   },
   "outputs": [
    {
     "data": {
      "text/plain": [
       "<matplotlib.lines.Line2D at 0x7f5776d6d9d0>"
      ]
     },
     "execution_count": 15,
     "metadata": {},
     "output_type": "execute_result"
    },
    {
     "data": {
      "image/png": "[encoded data removed]",
      "text/plain": [
       "<Figure size 1008x432 with 1 Axes>"
      ]
     },
     "metadata": {
      "needs_background": "light"
     },
     "output_type": "display_data"
    }
   ],
   "source": [
    "ax = df['rental_days'].plot(kind='density', figsize=(14,6))\n",
    "ax.axvline(df['rental_days'].mean(), color='red')"
   ]
  },
  {
   "cell_type": "markdown",
   "metadata": {},
   "source": [
    "### Add and calculate a new `film_daily_rental_rate` column\n",
    "\n",
    "This value should be the division of `film_rental_rate` by `film_rental_duration`."
   ]
  },
  {
   "cell_type": "code",
   "execution_count": 16,
   "metadata": {
    "cell_type": "solution"
   },
   "outputs": [
    {
     "data": {
      "text/plain": [
       "rental_id\n",
       "1    0.427143\n",
       "2    0.427143\n",
       "3    0.427143\n",
       "4    0.165000\n",
       "5    0.598000\n",
       "Name: film_daily_rental_rate, dtype: float64"
      ]
     },
     "execution_count": 16,
     "metadata": {},
     "output_type": "execute_result"
    }
   ],
   "source": [
    "df['film_daily_rental_rate'] = df['film_rental_rate'] / df['film_rental_duration']\n",
    "\n",
    "df['film_daily_rental_rate'].head()"
   ]
  },
  {
   "cell_type": "markdown",
   "metadata": {},
   "source": [
    "### Analyze the distribution of `film_daily_rental_rate`\n",
    "\n",
    "- Calculate the mean of `film_daily_rental_rate`.\n",
    "- Show a <b>density (KDE)</b> of `film_daily_rental_rate`."
   ]
  },
  {
   "cell_type": "code",
   "execution_count": 17,
   "metadata": {
    "cell_type": "solution"
   },
   "outputs": [
    {
     "data": {
      "text/plain": [
       "0.6458262471655172"
      ]
     },
     "execution_count": 17,
     "metadata": {},
     "output_type": "execute_result"
    }
   ],
   "source": [
    "df['film_daily_rental_rate'].mean()"
   ]
  },
  {
   "cell_type": "code",
   "execution_count": 18,
   "metadata": {
    "cell_type": "solution"
   },
   "outputs": [
    {
     "data": {
      "text/plain": [
       "<matplotlib.lines.Line2D at 0x7f5776cceb80>"
      ]
     },
     "execution_count": 18,
     "metadata": {},
     "output_type": "execute_result"
    },
    {
     "data": {
      "image/png": "[encoded data removed]",
      "text/plain": [
       "<Figure size 1008x432 with 1 Axes>"
      ]
     },
     "metadata": {
      "needs_background": "light"
     },
     "output_type": "display_data"
    }
   ],
   "source": [
    "ax = df['film_daily_rental_rate'].plot(kind='density', figsize=(14,6))\n",
    "ax.axvline(df['film_daily_rental_rate'].mean(), color='red')"
   ]
  },
  {
   "cell_type": "markdown",
   "metadata": {},
   "source": [
    "### List 10 films with the lowest daily rental rate"
   ]
  },
  {
   "cell_type": "code",
   "execution_count": 19,
   "metadata": {
    "cell_type": "solution"
   },
   "outputs": [
    {
     "data": {
      "text/html": [
       "<div>\n",
       "<style scoped>\n",
       "    .dataframe tbody tr th:only-of-type {\n",
       "        vertical-align: middle;\n",
       "    }\n",
       "\n",
       "    .dataframe tbody tr th {\n",
       "        vertical-align: top;\n",
       "    }\n",
       "\n",
       "    .dataframe thead th {\n",
       "        text-align: right;\n",
       "    }\n",
       "</style>\n",
       "<table border=\"1\" class=\"dataframe\">\n",
       "  <thead>\n",
       "    <tr style=\"text-align: right;\">\n",
       "      <th></th>\n",
       "      <th>rental_date</th>\n",
       "      <th>return_date</th>\n",
       "      <th>customer_lastname</th>\n",
       "      <th>store_id</th>\n",
       "      <th>rental_store_city</th>\n",
       "      <th>film_title</th>\n",
       "      <th>film_rental_duration</th>\n",
       "      <th>film_rental_rate</th>\n",
       "      <th>film_replacement_cost</th>\n",
       "      <th>film_rating</th>\n",
       "      <th>rental_days</th>\n",
       "      <th>film_daily_rental_rate</th>\n",
       "    </tr>\n",
       "    <tr>\n",
       "      <th>rental_id</th>\n",
       "      <th></th>\n",
       "      <th></th>\n",
       "      <th></th>\n",
       "      <th></th>\n",
       "      <th></th>\n",
       "      <th></th>\n",
       "      <th></th>\n",
       "      <th></th>\n",
       "      <th></th>\n",
       "      <th></th>\n",
       "      <th></th>\n",
       "      <th></th>\n",
       "    </tr>\n",
       "  </thead>\n",
       "  <tbody>\n",
       "    <tr>\n",
       "      <th>18</th>\n",
       "      <td>2005-05-25 01:10:47</td>\n",
       "      <td>2005-05-31 06:35:47</td>\n",
       "      <td>MARTINEZ</td>\n",
       "      <td>1</td>\n",
       "      <td>Lethbridge</td>\n",
       "      <td>ROMAN PUNK</td>\n",
       "      <td>7</td>\n",
       "      <td>0.99</td>\n",
       "      <td>28.99</td>\n",
       "      <td>NC-17</td>\n",
       "      <td>6.0</td>\n",
       "      <td>0.141429</td>\n",
       "    </tr>\n",
       "    <tr>\n",
       "      <th>37</th>\n",
       "      <td>2005-05-25 04:44:31</td>\n",
       "      <td>2005-05-29 01:03:31</td>\n",
       "      <td>ELROD</td>\n",
       "      <td>2</td>\n",
       "      <td>Woodridge</td>\n",
       "      <td>BORROWERS BEDAZZLED</td>\n",
       "      <td>7</td>\n",
       "      <td>0.99</td>\n",
       "      <td>22.99</td>\n",
       "      <td>G</td>\n",
       "      <td>3.0</td>\n",
       "      <td>0.141429</td>\n",
       "    </tr>\n",
       "    <tr>\n",
       "      <th>48</th>\n",
       "      <td>2005-05-25 06:20:46</td>\n",
       "      <td>2005-06-02 05:42:46</td>\n",
       "      <td>CASTRO</td>\n",
       "      <td>1</td>\n",
       "      <td>Lethbridge</td>\n",
       "      <td>GUN BONNIE</td>\n",
       "      <td>7</td>\n",
       "      <td>0.99</td>\n",
       "      <td>27.99</td>\n",
       "      <td>G</td>\n",
       "      <td>7.0</td>\n",
       "      <td>0.141429</td>\n",
       "    </tr>\n",
       "    <tr>\n",
       "      <th>74</th>\n",
       "      <td>2005-05-25 11:09:48</td>\n",
       "      <td>2005-05-26 12:23:48</td>\n",
       "      <td>TERRY</td>\n",
       "      <td>2</td>\n",
       "      <td>Woodridge</td>\n",
       "      <td>GREEDY ROOTS</td>\n",
       "      <td>7</td>\n",
       "      <td>0.99</td>\n",
       "      <td>14.99</td>\n",
       "      <td>R</td>\n",
       "      <td>1.0</td>\n",
       "      <td>0.141429</td>\n",
       "    </tr>\n",
       "    <tr>\n",
       "      <th>76</th>\n",
       "      <td>2005-05-25 11:30:37</td>\n",
       "      <td>2005-06-03 12:00:37</td>\n",
       "      <td>SMITH</td>\n",
       "      <td>2</td>\n",
       "      <td>Woodridge</td>\n",
       "      <td>PATIENT SISTER</td>\n",
       "      <td>7</td>\n",
       "      <td>0.99</td>\n",
       "      <td>29.99</td>\n",
       "      <td>NC-17</td>\n",
       "      <td>9.0</td>\n",
       "      <td>0.141429</td>\n",
       "    </tr>\n",
       "    <tr>\n",
       "      <th>87</th>\n",
       "      <td>2005-05-25 13:52:43</td>\n",
       "      <td>2005-05-29 11:12:43</td>\n",
       "      <td>ROBERT</td>\n",
       "      <td>2</td>\n",
       "      <td>Woodridge</td>\n",
       "      <td>GANDHI KWAI</td>\n",
       "      <td>7</td>\n",
       "      <td>0.99</td>\n",
       "      <td>9.99</td>\n",
       "      <td>PG-13</td>\n",
       "      <td>3.0</td>\n",
       "      <td>0.141429</td>\n",
       "    </tr>\n",
       "    <tr>\n",
       "      <th>117</th>\n",
       "      <td>2005-05-25 19:30:46</td>\n",
       "      <td>2005-05-31 23:59:46</td>\n",
       "      <td>MILLER</td>\n",
       "      <td>2</td>\n",
       "      <td>Woodridge</td>\n",
       "      <td>VALENTINE VANISHING</td>\n",
       "      <td>7</td>\n",
       "      <td>0.99</td>\n",
       "      <td>9.99</td>\n",
       "      <td>PG-13</td>\n",
       "      <td>6.0</td>\n",
       "      <td>0.141429</td>\n",
       "    </tr>\n",
       "    <tr>\n",
       "      <th>133</th>\n",
       "      <td>2005-05-25 21:48:30</td>\n",
       "      <td>2005-05-30 00:26:30</td>\n",
       "      <td>GILBERT</td>\n",
       "      <td>1</td>\n",
       "      <td>Lethbridge</td>\n",
       "      <td>BORROWERS BEDAZZLED</td>\n",
       "      <td>7</td>\n",
       "      <td>0.99</td>\n",
       "      <td>22.99</td>\n",
       "      <td>G</td>\n",
       "      <td>4.0</td>\n",
       "      <td>0.141429</td>\n",
       "    </tr>\n",
       "    <tr>\n",
       "      <th>148</th>\n",
       "      <td>2005-05-26 00:25:23</td>\n",
       "      <td>2005-06-01 19:29:23</td>\n",
       "      <td>BURNS</td>\n",
       "      <td>2</td>\n",
       "      <td>Woodridge</td>\n",
       "      <td>UNFORGIVEN ZOOLANDER</td>\n",
       "      <td>7</td>\n",
       "      <td>0.99</td>\n",
       "      <td>15.99</td>\n",
       "      <td>PG</td>\n",
       "      <td>6.0</td>\n",
       "      <td>0.141429</td>\n",
       "    </tr>\n",
       "    <tr>\n",
       "      <th>158</th>\n",
       "      <td>2005-05-26 01:27:11</td>\n",
       "      <td>2005-06-03 00:30:11</td>\n",
       "      <td>NGO</td>\n",
       "      <td>1</td>\n",
       "      <td>Lethbridge</td>\n",
       "      <td>LIGHTS DEER</td>\n",
       "      <td>7</td>\n",
       "      <td>0.99</td>\n",
       "      <td>21.99</td>\n",
       "      <td>R</td>\n",
       "      <td>7.0</td>\n",
       "      <td>0.141429</td>\n",
       "    </tr>\n",
       "  </tbody>\n",
       "</table>\n",
       "</div>"
      ],
      "text/plain": [
       "                  rental_date         return_date customer_lastname  store_id  \\\n",
       "rental_id                                                                       \n",
       "18        2005-05-25 01:10:47 2005-05-31 06:35:47          MARTINEZ         1   \n",
       "37        2005-05-25 04:44:31 2005-05-29 01:03:31             ELROD         2   \n",
       "48        2005-05-25 06:20:46 2005-06-02 05:42:46            CASTRO         1   \n",
       "74        2005-05-25 11:09:48 2005-05-26 12:23:48             TERRY         2   \n",
       "76        2005-05-25 11:30:37 2005-06-03 12:00:37             SMITH         2   \n",
       "87        2005-05-25 13:52:43 2005-05-29 11:12:43            ROBERT         2   \n",
       "117       2005-05-25 19:30:46 2005-05-31 23:59:46            MILLER         2   \n",
       "133       2005-05-25 21:48:30 2005-05-30 00:26:30           GILBERT         1   \n",
       "148       2005-05-26 00:25:23 2005-06-01 19:29:23             BURNS         2   \n",
       "158       2005-05-26 01:27:11 2005-06-03 00:30:11               NGO         1   \n",
       "\n",
       "          rental_store_city            film_title  film_rental_duration  \\\n",
       "rental_id                                                                 \n",
       "18               Lethbridge            ROMAN PUNK                     7   \n",
       "37                Woodridge   BORROWERS BEDAZZLED                     7   \n",
       "48               Lethbridge            GUN BONNIE                     7   \n",
       "74                Woodridge          GREEDY ROOTS                     7   \n",
       "76                Woodridge        PATIENT SISTER                     7   \n",
       "87                Woodridge           GANDHI KWAI                     7   \n",
       "117               Woodridge   VALENTINE VANISHING                     7   \n",
       "133              Lethbridge   BORROWERS BEDAZZLED                     7   \n",
       "148               Woodridge  UNFORGIVEN ZOOLANDER                     7   \n",
       "158              Lethbridge           LIGHTS DEER                     7   \n",
       "\n",
       "           film_rental_rate  film_replacement_cost film_rating  rental_days  \\\n",
       "rental_id                                                                     \n",
       "18                     0.99                  28.99       NC-17          6.0   \n",
       "37                     0.99                  22.99           G          3.0   \n",
       "48                     0.99                  27.99           G          7.0   \n",
       "74                     0.99                  14.99           R          1.0   \n",
       "76                     0.99                  29.99       NC-17          9.0   \n",
       "87                     0.99                   9.99       PG-13          3.0   \n",
       "117                    0.99                   9.99       PG-13          6.0   \n",
       "133                    0.99                  22.99           G          4.0   \n",
       "148                    0.99                  15.99          PG          6.0   \n",
       "158                    0.99                  21.99           R          7.0   \n",
       "\n",
       "           film_daily_rental_rate  \n",
       "rental_id                          \n",
       "18                       0.141429  \n",
       "37                       0.141429  \n",
       "48                       0.141429  \n",
       "74                       0.141429  \n",
       "76                       0.141429  \n",
       "87                       0.141429  \n",
       "117                      0.141429  \n",
       "133                      0.141429  \n",
       "148                      0.141429  \n",
       "158                      0.141429  "
      ]
     },
     "execution_count": 19,
     "metadata": {},
     "output_type": "execute_result"
    }
   ],
   "source": [
    "df.loc[df['film_daily_rental_rate'] == df['film_daily_rental_rate'].min()].head(10)"
   ]
  },
  {
   "cell_type": "markdown",
   "metadata": {},
   "source": [
    "### List 10 films with the highest daily rental rate"
   ]
  },
  {
   "cell_type": "code",
   "execution_count": 20,
   "metadata": {
    "cell_type": "solution"
   },
   "outputs": [
    {
     "data": {
      "text/html": [
       "<div>\n",
       "<style scoped>\n",
       "    .dataframe tbody tr th:only-of-type {\n",
       "        vertical-align: middle;\n",
       "    }\n",
       "\n",
       "    .dataframe tbody tr th {\n",
       "        vertical-align: top;\n",
       "    }\n",
       "\n",
       "    .dataframe thead th {\n",
       "        text-align: right;\n",
       "    }\n",
       "</style>\n",
       "<table border=\"1\" class=\"dataframe\">\n",
       "  <thead>\n",
       "    <tr style=\"text-align: right;\">\n",
       "      <th></th>\n",
       "      <th>rental_date</th>\n",
       "      <th>return_date</th>\n",
       "      <th>customer_lastname</th>\n",
       "      <th>store_id</th>\n",
       "      <th>rental_store_city</th>\n",
       "      <th>film_title</th>\n",
       "      <th>film_rental_duration</th>\n",
       "      <th>film_rental_rate</th>\n",
       "      <th>film_replacement_cost</th>\n",
       "      <th>film_rating</th>\n",
       "      <th>rental_days</th>\n",
       "      <th>film_daily_rental_rate</th>\n",
       "    </tr>\n",
       "    <tr>\n",
       "      <th>rental_id</th>\n",
       "      <th></th>\n",
       "      <th></th>\n",
       "      <th></th>\n",
       "      <th></th>\n",
       "      <th></th>\n",
       "      <th></th>\n",
       "      <th></th>\n",
       "      <th></th>\n",
       "      <th></th>\n",
       "      <th></th>\n",
       "      <th></th>\n",
       "      <th></th>\n",
       "    </tr>\n",
       "  </thead>\n",
       "  <tbody>\n",
       "    <tr>\n",
       "      <th>13</th>\n",
       "      <td>2005-05-25 00:22:55</td>\n",
       "      <td>2005-05-30 04:28:55</td>\n",
       "      <td>MCWHORTER</td>\n",
       "      <td>1</td>\n",
       "      <td>Lethbridge</td>\n",
       "      <td>KING EVOLUTION</td>\n",
       "      <td>3</td>\n",
       "      <td>4.99</td>\n",
       "      <td>24.99</td>\n",
       "      <td>NC-17</td>\n",
       "      <td>5.0</td>\n",
       "      <td>1.663333</td>\n",
       "    </tr>\n",
       "    <tr>\n",
       "      <th>40</th>\n",
       "      <td>2005-05-25 05:09:04</td>\n",
       "      <td>2005-05-27 23:12:04</td>\n",
       "      <td>YEE</td>\n",
       "      <td>1</td>\n",
       "      <td>Lethbridge</td>\n",
       "      <td>MINDS TRUMAN</td>\n",
       "      <td>3</td>\n",
       "      <td>4.99</td>\n",
       "      <td>22.99</td>\n",
       "      <td>PG-13</td>\n",
       "      <td>2.0</td>\n",
       "      <td>1.663333</td>\n",
       "    </tr>\n",
       "    <tr>\n",
       "      <th>68</th>\n",
       "      <td>2005-05-25 09:47:31</td>\n",
       "      <td>2005-05-31 10:20:31</td>\n",
       "      <td>ORTIZ</td>\n",
       "      <td>2</td>\n",
       "      <td>Woodridge</td>\n",
       "      <td>TEEN APOLLO</td>\n",
       "      <td>3</td>\n",
       "      <td>4.99</td>\n",
       "      <td>25.99</td>\n",
       "      <td>G</td>\n",
       "      <td>6.0</td>\n",
       "      <td>1.663333</td>\n",
       "    </tr>\n",
       "    <tr>\n",
       "      <th>106</th>\n",
       "      <td>2005-05-25 18:18:19</td>\n",
       "      <td>2005-06-04 00:01:19</td>\n",
       "      <td>AUSTIN</td>\n",
       "      <td>2</td>\n",
       "      <td>Woodridge</td>\n",
       "      <td>SHOW LORD</td>\n",
       "      <td>3</td>\n",
       "      <td>4.99</td>\n",
       "      <td>24.99</td>\n",
       "      <td>PG-13</td>\n",
       "      <td>9.0</td>\n",
       "      <td>1.663333</td>\n",
       "    </tr>\n",
       "    <tr>\n",
       "      <th>116</th>\n",
       "      <td>2005-05-25 19:27:51</td>\n",
       "      <td>2005-05-26 16:23:51</td>\n",
       "      <td>GARCIA</td>\n",
       "      <td>1</td>\n",
       "      <td>Lethbridge</td>\n",
       "      <td>WIFE TURN</td>\n",
       "      <td>3</td>\n",
       "      <td>4.99</td>\n",
       "      <td>27.99</td>\n",
       "      <td>NC-17</td>\n",
       "      <td>0.0</td>\n",
       "      <td>1.663333</td>\n",
       "    </tr>\n",
       "    <tr>\n",
       "      <th>124</th>\n",
       "      <td>2005-05-25 20:46:11</td>\n",
       "      <td>2005-05-30 00:47:11</td>\n",
       "      <td>MENDOZA</td>\n",
       "      <td>1</td>\n",
       "      <td>Lethbridge</td>\n",
       "      <td>BACKLASH UNDEFEATED</td>\n",
       "      <td>3</td>\n",
       "      <td>4.99</td>\n",
       "      <td>24.99</td>\n",
       "      <td>PG-13</td>\n",
       "      <td>4.0</td>\n",
       "      <td>1.663333</td>\n",
       "    </tr>\n",
       "    <tr>\n",
       "      <th>135</th>\n",
       "      <td>2005-05-25 21:58:58</td>\n",
       "      <td>2005-06-03 17:50:58</td>\n",
       "      <td>ROYAL</td>\n",
       "      <td>1</td>\n",
       "      <td>Lethbridge</td>\n",
       "      <td>AMERICAN CIRCUS</td>\n",
       "      <td>3</td>\n",
       "      <td>4.99</td>\n",
       "      <td>17.99</td>\n",
       "      <td>R</td>\n",
       "      <td>8.0</td>\n",
       "      <td>1.663333</td>\n",
       "    </tr>\n",
       "    <tr>\n",
       "      <th>152</th>\n",
       "      <td>2005-05-26 00:41:10</td>\n",
       "      <td>2005-06-03 06:05:10</td>\n",
       "      <td>MORGAN</td>\n",
       "      <td>1</td>\n",
       "      <td>Lethbridge</td>\n",
       "      <td>MIDSUMMER GROUNDHOG</td>\n",
       "      <td>3</td>\n",
       "      <td>4.99</td>\n",
       "      <td>27.99</td>\n",
       "      <td>G</td>\n",
       "      <td>8.0</td>\n",
       "      <td>1.663333</td>\n",
       "    </tr>\n",
       "    <tr>\n",
       "      <th>155</th>\n",
       "      <td>2005-05-26 01:15:05</td>\n",
       "      <td>2005-06-01 00:03:05</td>\n",
       "      <td>BARBEE</td>\n",
       "      <td>2</td>\n",
       "      <td>Woodridge</td>\n",
       "      <td>BEHAVIOR RUNAWAY</td>\n",
       "      <td>3</td>\n",
       "      <td>4.99</td>\n",
       "      <td>20.99</td>\n",
       "      <td>PG</td>\n",
       "      <td>5.0</td>\n",
       "      <td>1.663333</td>\n",
       "    </tr>\n",
       "    <tr>\n",
       "      <th>163</th>\n",
       "      <td>2005-05-26 02:26:23</td>\n",
       "      <td>2005-06-04 06:36:23</td>\n",
       "      <td>GRAHAM</td>\n",
       "      <td>1</td>\n",
       "      <td>Lethbridge</td>\n",
       "      <td>KISSING DOLLS</td>\n",
       "      <td>3</td>\n",
       "      <td>4.99</td>\n",
       "      <td>9.99</td>\n",
       "      <td>R</td>\n",
       "      <td>9.0</td>\n",
       "      <td>1.663333</td>\n",
       "    </tr>\n",
       "  </tbody>\n",
       "</table>\n",
       "</div>"
      ],
      "text/plain": [
       "                  rental_date         return_date customer_lastname  store_id  \\\n",
       "rental_id                                                                       \n",
       "13        2005-05-25 00:22:55 2005-05-30 04:28:55         MCWHORTER         1   \n",
       "40        2005-05-25 05:09:04 2005-05-27 23:12:04               YEE         1   \n",
       "68        2005-05-25 09:47:31 2005-05-31 10:20:31             ORTIZ         2   \n",
       "106       2005-05-25 18:18:19 2005-06-04 00:01:19            AUSTIN         2   \n",
       "116       2005-05-25 19:27:51 2005-05-26 16:23:51            GARCIA         1   \n",
       "124       2005-05-25 20:46:11 2005-05-30 00:47:11           MENDOZA         1   \n",
       "135       2005-05-25 21:58:58 2005-06-03 17:50:58             ROYAL         1   \n",
       "152       2005-05-26 00:41:10 2005-06-03 06:05:10            MORGAN         1   \n",
       "155       2005-05-26 01:15:05 2005-06-01 00:03:05            BARBEE         2   \n",
       "163       2005-05-26 02:26:23 2005-06-04 06:36:23            GRAHAM         1   \n",
       "\n",
       "          rental_store_city           film_title  film_rental_duration  \\\n",
       "rental_id                                                                \n",
       "13               Lethbridge       KING EVOLUTION                     3   \n",
       "40               Lethbridge         MINDS TRUMAN                     3   \n",
       "68                Woodridge          TEEN APOLLO                     3   \n",
       "106               Woodridge            SHOW LORD                     3   \n",
       "116              Lethbridge            WIFE TURN                     3   \n",
       "124              Lethbridge  BACKLASH UNDEFEATED                     3   \n",
       "135              Lethbridge      AMERICAN CIRCUS                     3   \n",
       "152              Lethbridge  MIDSUMMER GROUNDHOG                     3   \n",
       "155               Woodridge     BEHAVIOR RUNAWAY                     3   \n",
       "163              Lethbridge        KISSING DOLLS                     3   \n",
       "\n",
       "           film_rental_rate  film_replacement_cost film_rating  rental_days  \\\n",
       "rental_id                                                                     \n",
       "13                     4.99                  24.99       NC-17          5.0   \n",
       "40                     4.99                  22.99       PG-13          2.0   \n",
       "68                     4.99                  25.99           G          6.0   \n",
       "106                    4.99                  24.99       PG-13          9.0   \n",
       "116                    4.99                  27.99       NC-17          0.0   \n",
       "124                    4.99                  24.99       PG-13          4.0   \n",
       "135                    4.99                  17.99           R          8.0   \n",
       "152                    4.99                  27.99           G          8.0   \n",
       "155                    4.99                  20.99          PG          5.0   \n",
       "163                    4.99                   9.99           R          9.0   \n",
       "\n",
       "           film_daily_rental_rate  \n",
       "rental_id                          \n",
       "13                       1.663333  \n",
       "40                       1.663333  \n",
       "68                       1.663333  \n",
       "106                      1.663333  \n",
       "116                      1.663333  \n",
       "124                      1.663333  \n",
       "135                      1.663333  \n",
       "152                      1.663333  \n",
       "155                      1.663333  \n",
       "163                      1.663333  "
      ]
     },
     "execution_count": 20,
     "metadata": {},
     "output_type": "execute_result"
    }
   ],
   "source": [
    "df.loc[df['film_daily_rental_rate'] == df['film_daily_rental_rate'].max()].head(10)"
   ]
  },
  {
   "cell_type": "markdown",
   "metadata": {},
   "source": [
    "### How many rentals were made in Lethbridge city?"
   ]
  },
  {
   "cell_type": "code",
   "execution_count": 21,
   "metadata": {
    "cell_type": "solution"
   },
   "outputs": [
    {
     "data": {
      "text/plain": [
       "7923"
      ]
     },
     "execution_count": 21,
     "metadata": {},
     "output_type": "execute_result"
    }
   ],
   "source": [
    "df.loc[df['rental_store_city'] == 'Lethbridge'].shape[0]"
   ]
  },
  {
   "cell_type": "markdown",
   "metadata": {},
   "source": [
    "### How many rentals of each film rating were made in Lethbridge city?\n",
    "\n",
    "Show a <b>bar plot</b> with each film rating count."
   ]
  },
  {
   "cell_type": "code",
   "execution_count": 22,
   "metadata": {
    "cell_type": "solution"
   },
   "outputs": [
    {
     "data": {
      "text/plain": [
       "PG-13    1849\n",
       "NC-17    1625\n",
       "R        1537\n",
       "PG       1535\n",
       "G        1377\n",
       "Name: film_rating, dtype: int64"
      ]
     },
     "execution_count": 22,
     "metadata": {},
     "output_type": "execute_result"
    }
   ],
   "source": [
    "df.loc[df['rental_store_city'] == 'Lethbridge', 'film_rating'].value_counts()"
   ]
  },
  {
   "cell_type": "code",
   "execution_count": 23,
   "metadata": {
    "cell_type": "solution"
   },
   "outputs": [
    {
     "data": {
      "text/plain": [
       "<AxesSubplot:>"
      ]
     },
     "execution_count": 23,
     "metadata": {},
     "output_type": "execute_result"
    },
    {
     "data": {
      "image/png": "[encoded data removed]",
      "text/plain": [
       "<Figure size 1008x432 with 1 Axes>"
      ]
     },
     "metadata": {
      "needs_background": "light"
     },
     "output_type": "display_data"
    }
   ],
   "source": [
    "df.loc[df['rental_store_city'] == 'Lethbridge', 'film_rating'].value_counts().plot(kind='bar', figsize=(14,6))"
   ]
  },
  {
   "cell_type": "markdown",
   "metadata": {},
   "source": [
    "### How many rentals were made in Woodridge city with rental duration higher than 5 days?"
   ]
  },
  {
   "cell_type": "code",
   "execution_count": 24,
   "metadata": {
    "cell_type": "solution"
   },
   "outputs": [
    {
     "data": {
      "text/plain": [
       "3186"
      ]
     },
     "execution_count": 24,
     "metadata": {},
     "output_type": "execute_result"
    }
   ],
   "source": [
    "df.loc[(df['rental_store_city'] == 'Woodridge') & (df['film_rental_duration'] > 5)].shape[0]"
   ]
  },
  {
   "cell_type": "markdown",
   "metadata": {},
   "source": [
    "\n",
    "### How many rentals were made at the store with id 2 or with replacement cost lower than 10.99 USD?"
   ]
  },
  {
   "cell_type": "code",
   "execution_count": 25,
   "metadata": {
    "cell_type": "solution"
   },
   "outputs": [
    {
     "data": {
      "text/plain": [
       "8444"
      ]
     },
     "execution_count": 25,
     "metadata": {},
     "output_type": "execute_result"
    }
   ],
   "source": [
    "df.loc[(df['store_id'] == 2) | (df['film_replacement_cost'] < 10.99)].shape[0]"
   ]
  }
 ],
 "metadata": {
  "kernelspec": {
   "display_name": "Python 3 (ipykernel)",
   "language": "python",
   "name": "python3"
  },
  "language_info": {
   "codemirror_mode": {
    "name": "ipython",
    "version": 3
   },
   "file_extension": ".py",
   "mimetype": "text/x-python",
   "name": "python",
   "nbconvert_exporter": "python",
   "pygments_lexer": "ipython3",
   "version": "3.9.12"
  }
 },
 "nbformat": 4,
 "nbformat_minor": 4
}
