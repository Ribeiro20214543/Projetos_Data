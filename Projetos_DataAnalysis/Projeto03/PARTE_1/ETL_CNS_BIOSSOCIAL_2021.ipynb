{
 "cells": [
  {
   "cell_type": "markdown",
   "id": "a4bb9b7f",
   "metadata": {},
   "source": [
    "# Preparando o texto para análise\n",
    "\n",
    "Arquivo de entrada: **CNS_BIOSSOCIAL_2021.txt**\n",
    "\n",
    "Arquivo pós-tratamento: **selecionadas_CNS_BIOSSOCIAL_2021.txt**\n",
    "\n",
    "Arquivo de saída: **palavras_CNS_BIOSSOCIAL_2021.csv**\n",
    "\n",
    "## ETAPAS\n",
    "1 - extração;\n",
    "\n",
    "2 - tratamento;\n",
    "\n",
    "3 - limpeza;\n",
    "\n",
    "4 - seleção das palavras a serem analisadas;\n",
    "\n",
    "5 - armazenamento das palavras selecionadas em arquivo separado (ARQUIVO PÓS-TRATAMENTO);\n",
    "\n",
    "6 - contagem da frequência das palavras serem analisadas;\n",
    "\n",
    "7 - criação de um dataframe para armazenamento dos dados com a frequência das palavras a serem analisadas;\n",
    "\n",
    "8 - armazenamento do dataframe em arquivo separado (ARQUIVO DE SAÍDA)."
   ]
  },
  {
   "cell_type": "code",
   "execution_count": 1,
   "id": "b6adf867",
   "metadata": {},
   "outputs": [
    {
     "name": "stderr",
     "output_type": "stream",
     "text": [
      "/home/patrickfrr/anaconda3/lib/python3.9/site-packages/scipy/__init__.py:146: UserWarning: A NumPy version >=1.16.5 and <1.23.0 is required for this version of SciPy (detected version 1.23.3\n",
      "  warnings.warn(f\"A NumPy version >={np_minversion} and <{np_maxversion}\"\n"
     ]
    },
    {
     "name": "stdout",
     "output_type": "stream",
     "text": [
      "showing info https://raw.githubusercontent.com/nltk/nltk_data/gh-pages/index.xml\n"
     ]
    },
    {
     "name": "stderr",
     "output_type": "stream",
     "text": [
      "[nltk_data] Downloading package floresta to\n",
      "[nltk_data]     /home/patrickfrr/nltk_data...\n",
      "[nltk_data]   Package floresta is already up-to-date!\n"
     ]
    }
   ],
   "source": [
    "# importando biblioteca a serem utilizadas no projeto\n",
    "import re\n",
    "import nltk\n",
    "nltk.download()\n",
    "nltk.download('floresta')\n",
    "from nltk import word_tokenize\n",
    "from nltk.corpus import stopwords\n",
    "import string\n",
    "import text as text"
   ]
  },
  {
   "cell_type": "code",
   "execution_count": 2,
   "id": "015de030",
   "metadata": {},
   "outputs": [
    {
     "name": "stdout",
     "output_type": "stream",
     "text": [
      "Ao Ministério da Saúde, às Secretarias Estaduais e Municipais de Saúde e aos Conselhos de Saúde dos Estados, Municípios e do Distrito Federal que, no âmbito de suas respectivas competências, orientem os profissionais dos serviços de atenção à saúde, incluindo gestores, prestadores e todas as profissões da saúde, entre outras, com as seguintes ações:\n",
      "A atuação deve ser realizada de maneira antirracista em todo o manejo com os pacientes em situação de vulnerabilidade, como população negra, populações tradicionais (quilombos e terreiros), população em situação de rua, população ribeirinha, população cigana, do campo, das águas e das florestas, dentro do trato da pandemia por Covid-19 e outras patologias;\n",
      "O acesso das populações vulneráveis aos serviços de saúde da atenção básica, deve ser garantido e realizado em tempo adequado ao atendimento das necessidades de saúde, conforme a Política Nacional de Atenção Básica (PNAB), e com especial atenção às emergências provocadas pela nova doença por coronavírus, a Covid-19;\n",
      "Quanto às notificações dos casos suspeitos da Covid19, que os profissionais se atentem no preenchimento da ficha para:\n",
      "A coleta e o preenchimento do quesito raça/cor nos formulários padronizados e fichas de notificação dos sistemas de informação e-SUS VE para Síndrome Gripal (SG), e para Síndrome Respiratória Aguda Grave (SRAG) hospitalizados no Sistema de Informação de Vigilância da Gripe (SIVEP-Gripe) COVID-19, de acordo com a autodeclaração do usuário;\n",
      "A coleta e o preenchimento do campo referente aos fatores de risco/morbidades nas fichas de notificação para Síndrome Gripal (SG), Síndrome Respiratória Aguda Grave (SRAG) e nos respectivos sistemas de notificação; Divulgação, análise e uso das informações no apoio a tomada de decisão junto aos gestores e profissionais de saúde, de modo a proporcionar a indução ou fomento de pesquisas que apoiem a obtenção de informações de relevância para a saúde publica com bases nos dados populacionais citados.\n",
      "Em relação às medidas preventivas para isolamento social e manejo da pandemia, que se atentem para o alerta de que a pandemia atinge as populações de forma distinta devido a barreiras de acesso e condições sócio econômicas, produzindo iniquidades relacionadas a cor/raça, corroborando para a relevância de respostas diferenciadas e enérgicas na medida da necessidade e demanda de proteção e apoio das populações mais vulneráveis durante a epidemia.\n",
      "No que se refere às ações assistenciais e estratégias dos serviços de saúde, que se atentem para:\n",
      "Fortalecer a coleta da informação cor/raça nos serviços de atenção básica, hospitalares, ambulatoriais do SUS e do setor privado, bem como nos sistemas que atendem as pessoas privadas de liberdade, em todas as esferas;\n",
      "Realizar o monitoramento e o suporte oportuno das famílias e grupos vulneráveis através de estratégias conjuntas, inter e extra setoriais (assistência social, combate à fome, etc.), que também garantam a segurança das equipes de saúde, a exemplo da comunicação à distância;\n",
      "Seguir o respectivo plano de contingenciamento da APS, que estabelece fluxo de atendimento e divulgação nos serviços junto à população (porta de entrada, triagem, exame clínico, realização de exames, suporte ventilatório, internação e transferência);\n",
      "Atentar para as necessidades e o cuidado em saúde mental de forma integral e promover equidade, por meio das ações da Atenção Primária à Saúde e média e alta complexidade, de acordo com as necessidades das diversas populações e a organização da rede de serviços nos diferentes territórios;\n",
      "Articular equipes de saúde, instituições e organizações parceiras, órgãos intersetoriais e a comunidade, estimulando a formação de redes de informação e de apoio para as pessoas e suas famílias diante dos dilemas do coronavírus;\n",
      "Estabelecer ações intersetoriais para os territórios de difícil acesso, e populações com necessidades específicas e vulnerabilidades tais como quilombos, aldeias e assentamentos de grupos tradicionais como indígenas e ciganos, pessoas em situação de rua, entre outros, que possam facilitar o acesso aos benefícios governamentais, a garantia de alimentação básica e apoio para o isolamento adequado, de acordo com a realidade local;\n",
      "Buscar estratégias locais de garantir o suporte social-econômico às comunidades com dificuldades de acesso e maior vulnerabilidades;\n",
      "Fortalecer as parcerias com representantes da sociedade civil (conselhos de classe, Conselhos de Saúde, Estaduais, Municipais e do Distrito Federal, Conselho de Igualdade Racial, Fóruns, Organizações Não Governamentais, Comitês de Saúde da População Negra, Universidade, etc.), estimulando a participação da comunidade e o compartilhamento dos resultados alcançados.\n",
      "O levantamento epidemiológico, ou seja, a coleta, a análise e a publicação dos dados desagregados por raça/cor, deve ser realizado com vistas a produzir a representação mais próxima da realidade e à elaboração das melhores soluções no enfrentamento à nova doença por coronavírus, Covid-19, bem como subsidiar as decisões dos gestores e a construção do conhecimento científico.\n",
      "Ampliação dos esforços para a inserção da temática étnico-racial nos processos de trabalho e educação permanente das equipes de atenção básica e dos trabalhadores/profissionais de saúde do SUS, com especial atenção ao quadro de emergências provocado pela nova doença por coronavírus, a Covid-19.\n"
     ]
    }
   ],
   "source": [
    "# abrindo arquivo e colocando o texto em minusculo\n",
    "texto = open('CNS_BIOSSOCIAL_2021.txt','r',encoding='UTF=8').read()\n",
    "print(texto)"
   ]
  },
  {
   "cell_type": "code",
   "execution_count": 3,
   "id": "3a5221cd",
   "metadata": {},
   "outputs": [
    {
     "name": "stdout",
     "output_type": "stream",
     "text": [
      "Quantidade total de palavras do texto: 5406\n"
     ]
    }
   ],
   "source": [
    "# Contando o total de palavras do texto\n",
    "t_linhas = len(texto)\n",
    "print('Quantidade total de palavras do texto:', t_linhas)"
   ]
  },
  {
   "cell_type": "code",
   "execution_count": 4,
   "id": "cb115edb",
   "metadata": {},
   "outputs": [
    {
     "name": "stdout",
     "output_type": "stream",
     "text": [
      "ao ministério da saúde, às secretarias estaduais e municipais de saúde e aos conselhos de saúde dos estados, municípios e do distrito federal que, no âmbito de suas respectivas competências, orientem os profissionais dos serviços de atenção à saúde, incluindo gestores, prestadores e todas as profissões da saúde, entre outras, com as seguintes ações:\n",
      "a atuação deve ser realizada de maneira antirracista em todo o manejo com os pacientes em situação de vulnerabilidade, como população negra, populações tradicionais (quilombos e terreiros), população em situação de rua, população ribeirinha, população cigana, do campo, das águas e das florestas, dentro do trato da pandemia por covid-19 e outras patologias;\n",
      "o acesso das populações vulneráveis aos serviços de saúde da atenção básica, deve ser garantido e realizado em tempo adequado ao atendimento das necessidades de saúde, conforme a política nacional de atenção básica (pnab), e com especial atenção às emergências provocadas pela nova doença por coronavírus, a covid-19;\n",
      "quanto às notificações dos casos suspeitos da covid19, que os profissionais se atentem no preenchimento da ficha para:\n",
      "a coleta e o preenchimento do quesito raça/cor nos formulários padronizados e fichas de notificação dos sistemas de informação e-sus ve para síndrome gripal (sg), e para síndrome respiratória aguda grave (srag) hospitalizados no sistema de informação de vigilância da gripe (sivep-gripe) covid-19, de acordo com a autodeclaração do usuário;\n",
      "a coleta e o preenchimento do campo referente aos fatores de risco/morbidades nas fichas de notificação para síndrome gripal (sg), síndrome respiratória aguda grave (srag) e nos respectivos sistemas de notificação; divulgação, análise e uso das informações no apoio a tomada de decisão junto aos gestores e profissionais de saúde, de modo a proporcionar a indução ou fomento de pesquisas que apoiem a obtenção de informações de relevância para a saúde publica com bases nos dados populacionais citados.\n",
      "em relação às medidas preventivas para isolamento social e manejo da pandemia, que se atentem para o alerta de que a pandemia atinge as populações de forma distinta devido a barreiras de acesso e condições sócio econômicas, produzindo iniquidades relacionadas a cor/raça, corroborando para a relevância de respostas diferenciadas e enérgicas na medida da necessidade e demanda de proteção e apoio das populações mais vulneráveis durante a epidemia.\n",
      "no que se refere às ações assistenciais e estratégias dos serviços de saúde, que se atentem para:\n",
      "fortalecer a coleta da informação cor/raça nos serviços de atenção básica, hospitalares, ambulatoriais do sus e do setor privado, bem como nos sistemas que atendem as pessoas privadas de liberdade, em todas as esferas;\n",
      "realizar o monitoramento e o suporte oportuno das famílias e grupos vulneráveis através de estratégias conjuntas, inter e extra setoriais (assistência social, combate à fome, etc.), que também garantam a segurança das equipes de saúde, a exemplo da comunicação à distância;\n",
      "seguir o respectivo plano de contingenciamento da aps, que estabelece fluxo de atendimento e divulgação nos serviços junto à população (porta de entrada, triagem, exame clínico, realização de exames, suporte ventilatório, internação e transferência);\n",
      "atentar para as necessidades e o cuidado em saúde mental de forma integral e promover equidade, por meio das ações da atenção primária à saúde e média e alta complexidade, de acordo com as necessidades das diversas populações e a organização da rede de serviços nos diferentes territórios;\n",
      "articular equipes de saúde, instituições e organizações parceiras, órgãos intersetoriais e a comunidade, estimulando a formação de redes de informação e de apoio para as pessoas e suas famílias diante dos dilemas do coronavírus;\n",
      "estabelecer ações intersetoriais para os territórios de difícil acesso, e populações com necessidades específicas e vulnerabilidades tais como quilombos, aldeias e assentamentos de grupos tradicionais como indígenas e ciganos, pessoas em situação de rua, entre outros, que possam facilitar o acesso aos benefícios governamentais, a garantia de alimentação básica e apoio para o isolamento adequado, de acordo com a realidade local;\n",
      "buscar estratégias locais de garantir o suporte social-econômico às comunidades com dificuldades de acesso e maior vulnerabilidades;\n",
      "fortalecer as parcerias com representantes da sociedade civil (conselhos de classe, conselhos de saúde, estaduais, municipais e do distrito federal, conselho de igualdade racial, fóruns, organizações não governamentais, comitês de saúde da população negra, universidade, etc.), estimulando a participação da comunidade e o compartilhamento dos resultados alcançados.\n",
      "o levantamento epidemiológico, ou seja, a coleta, a análise e a publicação dos dados desagregados por raça/cor, deve ser realizado com vistas a produzir a representação mais próxima da realidade e à elaboração das melhores soluções no enfrentamento à nova doença por coronavírus, covid-19, bem como subsidiar as decisões dos gestores e a construção do conhecimento científico.\n",
      "ampliação dos esforços para a inserção da temática étnico-racial nos processos de trabalho e educação permanente das equipes de atenção básica e dos trabalhadores/profissionais de saúde do sus, com especial atenção ao quadro de emergências provocado pela nova doença por coronavírus, a covid-19.\n"
     ]
    }
   ],
   "source": [
    "# reabrindo arquivo e colocando o texto em minusculo\n",
    "\n",
    "arquivo = open('CNS_BIOSSOCIAL_2021.txt','r',encoding='UTF=8').read()\n",
    "texto = arquivo.lower()\n",
    "\n",
    "print(texto)"
   ]
  },
  {
   "cell_type": "code",
   "execution_count": 5,
   "id": "560a366a",
   "metadata": {},
   "outputs": [
    {
     "name": "stdout",
     "output_type": "stream",
     "text": [
      "ao ministério da saúde às secretarias estaduais e municipais de saúde e aos conselhos de saúde dos estados municípios e do distrito federal que no âmbito de suas respectivas competências orientem os profissionais dos serviços de atenção à saúde incluindo gestores prestadores e todas as profissões da saúde entre outras com as seguintes ações\n",
      "a atuação deve ser realizada de maneira antirracista em todo o manejo com os pacientes em situação de vulnerabilidade como população negra populações tradicionais quilombos e terreiros população em situação de rua população ribeirinha população cigana do campo das águas e das florestas dentro do trato da pandemia por covid19 e outras patologias\n",
      "o acesso das populações vulneráveis aos serviços de saúde da atenção básica deve ser garantido e realizado em tempo adequado ao atendimento das necessidades de saúde conforme a política nacional de atenção básica pnab e com especial atenção às emergências provocadas pela nova doença por coronavírus a covid19\n",
      "quanto às notificações dos casos suspeitos da covid19 que os profissionais se atentem no preenchimento da ficha para\n",
      "a coleta e o preenchimento do quesito raçacor nos formulários padronizados e fichas de notificação dos sistemas de informação esus ve para síndrome gripal sg e para síndrome respiratória aguda grave srag hospitalizados no sistema de informação de vigilância da gripe sivepgripe covid19 de acordo com a autodeclaração do usuário\n",
      "a coleta e o preenchimento do campo referente aos fatores de riscomorbidades nas fichas de notificação para síndrome gripal sg síndrome respiratória aguda grave srag e nos respectivos sistemas de notificação divulgação análise e uso das informações no apoio a tomada de decisão junto aos gestores e profissionais de saúde de modo a proporcionar a indução ou fomento de pesquisas que apoiem a obtenção de informações de relevância para a saúde publica com bases nos dados populacionais citados\n",
      "em relação às medidas preventivas para isolamento social e manejo da pandemia que se atentem para o alerta de que a pandemia atinge as populações de forma distinta devido a barreiras de acesso e condições sócio econômicas produzindo iniquidades relacionadas a corraça corroborando para a relevância de respostas diferenciadas e enérgicas na medida da necessidade e demanda de proteção e apoio das populações mais vulneráveis durante a epidemia\n",
      "no que se refere às ações assistenciais e estratégias dos serviços de saúde que se atentem para\n",
      "fortalecer a coleta da informação corraça nos serviços de atenção básica hospitalares ambulatoriais do sus e do setor privado bem como nos sistemas que atendem as pessoas privadas de liberdade em todas as esferas\n",
      "realizar o monitoramento e o suporte oportuno das famílias e grupos vulneráveis através de estratégias conjuntas inter e extra setoriais assistência social combate à fome etc que também garantam a segurança das equipes de saúde a exemplo da comunicação à distância\n",
      "seguir o respectivo plano de contingenciamento da aps que estabelece fluxo de atendimento e divulgação nos serviços junto à população porta de entrada triagem exame clínico realização de exames suporte ventilatório internação e transferência\n",
      "atentar para as necessidades e o cuidado em saúde mental de forma integral e promover equidade por meio das ações da atenção primária à saúde e média e alta complexidade de acordo com as necessidades das diversas populações e a organização da rede de serviços nos diferentes territórios\n",
      "articular equipes de saúde instituições e organizações parceiras órgãos intersetoriais e a comunidade estimulando a formação de redes de informação e de apoio para as pessoas e suas famílias diante dos dilemas do coronavírus\n",
      "estabelecer ações intersetoriais para os territórios de difícil acesso e populações com necessidades específicas e vulnerabilidades tais como quilombos aldeias e assentamentos de grupos tradicionais como indígenas e ciganos pessoas em situação de rua entre outros que possam facilitar o acesso aos benefícios governamentais a garantia de alimentação básica e apoio para o isolamento adequado de acordo com a realidade local\n",
      "buscar estratégias locais de garantir o suporte socialeconômico às comunidades com dificuldades de acesso e maior vulnerabilidades\n",
      "fortalecer as parcerias com representantes da sociedade civil conselhos de classe conselhos de saúde estaduais municipais e do distrito federal conselho de igualdade racial fóruns organizações não governamentais comitês de saúde da população negra universidade etc estimulando a participação da comunidade e o compartilhamento dos resultados alcançados\n",
      "o levantamento epidemiológico ou seja a coleta a análise e a publicação dos dados desagregados por raçacor deve ser realizado com vistas a produzir a representação mais próxima da realidade e à elaboração das melhores soluções no enfrentamento à nova doença por coronavírus covid19 bem como subsidiar as decisões dos gestores e a construção do conhecimento científico\n",
      "ampliação dos esforços para a inserção da temática étnicoracial nos processos de trabalho e educação permanente das equipes de atenção básica e dos trabalhadoresprofissionais de saúde do sus com especial atenção ao quadro de emergências provocado pela nova doença por coronavírus a covid19\n"
     ]
    }
   ],
   "source": [
    " # remoção de pontuação\n",
    "    \n",
    "text_sem_pontuar = ''.join ([palavra for palavra in texto if palavra not in string.punctuation])\n",
    "print(text_sem_pontuar)"
   ]
  },
  {
   "cell_type": "code",
   "execution_count": 6,
   "id": "9dbe23c0",
   "metadata": {},
   "outputs": [
    {
     "name": "stdout",
     "output_type": "stream",
     "text": [
      "['ao', 'ministério', 'da', 'saúde', 'às', 'secretarias', 'estaduais', 'e', 'municipais', 'de', 'saúde', 'e', 'aos', 'conselhos', 'de', 'saúde', 'dos', 'estados', 'municípios', 'e', 'do', 'distrito', 'federal', 'que', 'no', 'âmbito', 'de', 'suas', 'respectivas', 'competências', 'orientem', 'os', 'profissionais', 'dos', 'serviços', 'de', 'atenção', 'à', 'saúde', 'incluindo', 'gestores', 'prestadores', 'e', 'todas', 'as', 'profissões', 'da', 'saúde', 'entre', 'outras', 'com', 'as', 'seguintes', 'ações', 'a', 'atuação', 'deve', 'ser', 'realizada', 'de', 'maneira', 'antirracista', 'em', 'todo', 'o', 'manejo', 'com', 'os', 'pacientes', 'em', 'situação', 'de', 'vulnerabilidade', 'como', 'população', 'negra', 'populações', 'tradicionais', 'quilombos', 'e', 'terreiros', 'população', 'em', 'situação', 'de', 'rua', 'população', 'ribeirinha', 'população', 'cigana', 'do', 'campo', 'das', 'águas', 'e', 'das', 'florestas', 'dentro', 'do', 'trato', 'da', 'pandemia', 'por', 'covid19', 'e', 'outras', 'patologias', 'o', 'acesso', 'das', 'populações', 'vulneráveis', 'aos', 'serviços', 'de', 'saúde', 'da', 'atenção', 'básica', 'deve', 'ser', 'garantido', 'e', 'realizado', 'em', 'tempo', 'adequado', 'ao', 'atendimento', 'das', 'necessidades', 'de', 'saúde', 'conforme', 'a', 'política', 'nacional', 'de', 'atenção', 'básica', 'pnab', 'e', 'com', 'especial', 'atenção', 'às', 'emergências', 'provocadas', 'pela', 'nova', 'doença', 'por', 'coronavírus', 'a', 'covid19', 'quanto', 'às', 'notificações', 'dos', 'casos', 'suspeitos', 'da', 'covid19', 'que', 'os', 'profissionais', 'se', 'atentem', 'no', 'preenchimento', 'da', 'ficha', 'para', 'a', 'coleta', 'e', 'o', 'preenchimento', 'do', 'quesito', 'raçacor', 'nos', 'formulários', 'padronizados', 'e', 'fichas', 'de', 'notificação', 'dos', 'sistemas', 'de', 'informação', 'esus', 've', 'para', 'síndrome', 'gripal', 'sg', 'e', 'para', 'síndrome', 'respiratória', 'aguda', 'grave', 'srag', 'hospitalizados', 'no', 'sistema', 'de', 'informação', 'de', 'vigilância', 'da', 'gripe', 'sivepgripe', 'covid19', 'de', 'acordo', 'com', 'a', 'autodeclaração', 'do', 'usuário', 'a', 'coleta', 'e', 'o', 'preenchimento', 'do', 'campo', 'referente', 'aos', 'fatores', 'de', 'riscomorbidades', 'nas', 'fichas', 'de', 'notificação', 'para', 'síndrome', 'gripal', 'sg', 'síndrome', 'respiratória', 'aguda', 'grave', 'srag', 'e', 'nos', 'respectivos', 'sistemas', 'de', 'notificação', 'divulgação', 'análise', 'e', 'uso', 'das', 'informações', 'no', 'apoio', 'a', 'tomada', 'de', 'decisão', 'junto', 'aos', 'gestores', 'e', 'profissionais', 'de', 'saúde', 'de', 'modo', 'a', 'proporcionar', 'a', 'indução', 'ou', 'fomento', 'de', 'pesquisas', 'que', 'apoiem', 'a', 'obtenção', 'de', 'informações', 'de', 'relevância', 'para', 'a', 'saúde', 'publica', 'com', 'bases', 'nos', 'dados', 'populacionais', 'citados', 'em', 'relação', 'às', 'medidas', 'preventivas', 'para', 'isolamento', 'social', 'e', 'manejo', 'da', 'pandemia', 'que', 'se', 'atentem', 'para', 'o', 'alerta', 'de', 'que', 'a', 'pandemia', 'atinge', 'as', 'populações', 'de', 'forma', 'distinta', 'devido', 'a', 'barreiras', 'de', 'acesso', 'e', 'condições', 'sócio', 'econômicas', 'produzindo', 'iniquidades', 'relacionadas', 'a', 'corraça', 'corroborando', 'para', 'a', 'relevância', 'de', 'respostas', 'diferenciadas', 'e', 'enérgicas', 'na', 'medida', 'da', 'necessidade', 'e', 'demanda', 'de', 'proteção', 'e', 'apoio', 'das', 'populações', 'mais', 'vulneráveis', 'durante', 'a', 'epidemia', 'no', 'que', 'se', 'refere', 'às', 'ações', 'assistenciais', 'e', 'estratégias', 'dos', 'serviços', 'de', 'saúde', 'que', 'se', 'atentem', 'para', 'fortalecer', 'a', 'coleta', 'da', 'informação', 'corraça', 'nos', 'serviços', 'de', 'atenção', 'básica', 'hospitalares', 'ambulatoriais', 'do', 'sus', 'e', 'do', 'setor', 'privado', 'bem', 'como', 'nos', 'sistemas', 'que', 'atendem', 'as', 'pessoas', 'privadas', 'de', 'liberdade', 'em', 'todas', 'as', 'esferas', 'realizar', 'o', 'monitoramento', 'e', 'o', 'suporte', 'oportuno', 'das', 'famílias', 'e', 'grupos', 'vulneráveis', 'através', 'de', 'estratégias', 'conjuntas', 'inter', 'e', 'extra', 'setoriais', 'assistência', 'social', 'combate', 'à', 'fome', 'etc', 'que', 'também', 'garantam', 'a', 'segurança', 'das', 'equipes', 'de', 'saúde', 'a', 'exemplo', 'da', 'comunicação', 'à', 'distância', 'seguir', 'o', 'respectivo', 'plano', 'de', 'contingenciamento', 'da', 'aps', 'que', 'estabelece', 'fluxo', 'de', 'atendimento', 'e', 'divulgação', 'nos', 'serviços', 'junto', 'à', 'população', 'porta', 'de', 'entrada', 'triagem', 'exame', 'clínico', 'realização', 'de', 'exames', 'suporte', 'ventilatório', 'internação', 'e', 'transferência', 'atentar', 'para', 'as', 'necessidades', 'e', 'o', 'cuidado', 'em', 'saúde', 'mental', 'de', 'forma', 'integral', 'e', 'promover', 'equidade', 'por', 'meio', 'das', 'ações', 'da', 'atenção', 'primária', 'à', 'saúde', 'e', 'média', 'e', 'alta', 'complexidade', 'de', 'acordo', 'com', 'as', 'necessidades', 'das', 'diversas', 'populações', 'e', 'a', 'organização', 'da', 'rede', 'de', 'serviços', 'nos', 'diferentes', 'territórios', 'articular', 'equipes', 'de', 'saúde', 'instituições', 'e', 'organizações', 'parceiras', 'órgãos', 'intersetoriais', 'e', 'a', 'comunidade', 'estimulando', 'a', 'formação', 'de', 'redes', 'de', 'informação', 'e', 'de', 'apoio', 'para', 'as', 'pessoas', 'e', 'suas', 'famílias', 'diante', 'dos', 'dilemas', 'do', 'coronavírus', 'estabelecer', 'ações', 'intersetoriais', 'para', 'os', 'territórios', 'de', 'difícil', 'acesso', 'e', 'populações', 'com', 'necessidades', 'específicas', 'e', 'vulnerabilidades', 'tais', 'como', 'quilombos', 'aldeias', 'e', 'assentamentos', 'de', 'grupos', 'tradicionais', 'como', 'indígenas', 'e', 'ciganos', 'pessoas', 'em', 'situação', 'de', 'rua', 'entre', 'outros', 'que', 'possam', 'facilitar', 'o', 'acesso', 'aos', 'benefícios', 'governamentais', 'a', 'garantia', 'de', 'alimentação', 'básica', 'e', 'apoio', 'para', 'o', 'isolamento', 'adequado', 'de', 'acordo', 'com', 'a', 'realidade', 'local', 'buscar', 'estratégias', 'locais', 'de', 'garantir', 'o', 'suporte', 'socialeconômico', 'às', 'comunidades', 'com', 'dificuldades', 'de', 'acesso', 'e', 'maior', 'vulnerabilidades', 'fortalecer', 'as', 'parcerias', 'com', 'representantes', 'da', 'sociedade', 'civil', 'conselhos', 'de', 'classe', 'conselhos', 'de', 'saúde', 'estaduais', 'municipais', 'e', 'do', 'distrito', 'federal', 'conselho', 'de', 'igualdade', 'racial', 'fóruns', 'organizações', 'não', 'governamentais', 'comitês', 'de', 'saúde', 'da', 'população', 'negra', 'universidade', 'etc', 'estimulando', 'a', 'participação', 'da', 'comunidade', 'e', 'o', 'compartilhamento', 'dos', 'resultados', 'alcançados', 'o', 'levantamento', 'epidemiológico', 'ou', 'seja', 'a', 'coleta', 'a', 'análise', 'e', 'a', 'publicação', 'dos', 'dados', 'desagregados', 'por', 'raçacor', 'deve', 'ser', 'realizado', 'com', 'vistas', 'a', 'produzir', 'a', 'representação', 'mais', 'próxima', 'da', 'realidade', 'e', 'à', 'elaboração', 'das', 'melhores', 'soluções', 'no', 'enfrentamento', 'à', 'nova', 'doença', 'por', 'coronavírus', 'covid19', 'bem', 'como', 'subsidiar', 'as', 'decisões', 'dos', 'gestores', 'e', 'a', 'construção', 'do', 'conhecimento', 'científico', 'ampliação', 'dos', 'esforços', 'para', 'a', 'inserção', 'da', 'temática', 'étnicoracial', 'nos', 'processos', 'de', 'trabalho', 'e', 'educação', 'permanente', 'das', 'equipes', 'de', 'atenção', 'básica', 'e', 'dos', 'trabalhadoresprofissionais', 'de', 'saúde', 'do', 'sus', 'com', 'especial', 'atenção', 'ao', 'quadro', 'de', 'emergências', 'provocado', 'pela', 'nova', 'doença', 'por', 'coronavírus', 'a', 'covid19']\n"
     ]
    }
   ],
   "source": [
    "# Tokenizando  - texto\n",
    "\n",
    "tokens = nltk.word_tokenize(text_sem_pontuar)\n",
    "print(tokens)"
   ]
  },
  {
   "cell_type": "code",
   "execution_count": 7,
   "id": "b507275f",
   "metadata": {},
   "outputs": [
    {
     "name": "stdout",
     "output_type": "stream",
     "text": [
      "Palavras removidas: \n",
      "\n",
      "['a', 'à', 'ao', 'aos', 'aquela', 'aquelas', 'aquele', 'aqueles', 'aquilo', 'as', 'às', 'até', 'com', 'como', 'da', 'das', 'de', 'dela', 'delas', 'dele', 'deles', 'depois', 'do', 'dos', 'e', 'é', 'ela', 'elas', 'ele', 'eles', 'em', 'entre', 'era', 'eram', 'éramos', 'essa', 'essas', 'esse', 'esses', 'esta', 'está', 'estamos', 'estão', 'estar', 'estas', 'estava', 'estavam', 'estávamos', 'este', 'esteja', 'estejam', 'estejamos', 'estes', 'esteve', 'estive', 'estivemos', 'estiver', 'estivera', 'estiveram', 'estivéramos', 'estiverem', 'estivermos', 'estivesse', 'estivessem', 'estivéssemos', 'estou', 'eu', 'foi', 'fomos', 'for', 'fora', 'foram', 'fôramos', 'forem', 'formos', 'fosse', 'fossem', 'fôssemos', 'fui', 'há', 'haja', 'hajam', 'hajamos', 'hão', 'havemos', 'haver', 'hei', 'houve', 'houvemos', 'houver', 'houvera', 'houverá', 'houveram', 'houvéramos', 'houverão', 'houverei', 'houverem', 'houveremos', 'houveria', 'houveriam', 'houveríamos', 'houvermos', 'houvesse', 'houvessem', 'houvéssemos', 'isso', 'isto', 'já', 'lhe', 'lhes', 'mais', 'mas', 'me', 'mesmo', 'meu', 'meus', 'minha', 'minhas', 'muito', 'na', 'não', 'nas', 'nem', 'no', 'nos', 'nós', 'nossa', 'nossas', 'nosso', 'nossos', 'num', 'numa', 'o', 'os', 'ou', 'para', 'pela', 'pelas', 'pelo', 'pelos', 'por', 'qual', 'quando', 'que', 'quem', 'são', 'se', 'seja', 'sejam', 'sejamos', 'sem', 'ser', 'será', 'serão', 'serei', 'seremos', 'seria', 'seriam', 'seríamos', 'seu', 'seus', 'só', 'somos', 'sou', 'sua', 'suas', 'também', 'te', 'tem', 'tém', 'temos', 'tenha', 'tenham', 'tenhamos', 'tenho', 'terá', 'terão', 'terei', 'teremos', 'teria', 'teriam', 'teríamos', 'teu', 'teus', 'teve', 'tinha', 'tinham', 'tínhamos', 'tive', 'tivemos', 'tiver', 'tivera', 'tiveram', 'tivéramos', 'tiverem', 'tivermos', 'tivesse', 'tivessem', 'tivéssemos', 'tu', 'tua', 'tuas', 'um', 'uma', 'você', 'vocês', 'vos'] \n",
      "\n",
      "Texto após remoção das stopwords: \n",
      "\n",
      " ['ministério', 'saúde', 'secretarias', 'estaduais', 'municipais', 'saúde', 'conselhos', 'saúde', 'estados', 'municípios', 'distrito', 'federal', 'âmbito', 'respectivas', 'competências', 'orientem', 'profissionais', 'serviços', 'atenção', 'saúde', 'incluindo', 'gestores', 'prestadores', 'todas', 'profissões', 'saúde', 'outras', 'seguintes', 'ações', 'atuação', 'deve', 'realizada', 'maneira', 'antirracista', 'todo', 'manejo', 'pacientes', 'situação', 'vulnerabilidade', 'população', 'negra', 'populações', 'tradicionais', 'quilombos', 'terreiros', 'população', 'situação', 'rua', 'população', 'ribeirinha', 'população', 'cigana', 'campo', 'águas', 'florestas', 'dentro', 'trato', 'pandemia', 'covid19', 'outras', 'patologias', 'acesso', 'populações', 'vulneráveis', 'serviços', 'saúde', 'atenção', 'básica', 'deve', 'garantido', 'realizado', 'tempo', 'adequado', 'atendimento', 'necessidades', 'saúde', 'conforme', 'política', 'nacional', 'atenção', 'básica', 'pnab', 'especial', 'atenção', 'emergências', 'provocadas', 'nova', 'doença', 'coronavírus', 'covid19', 'quanto', 'notificações', 'casos', 'suspeitos', 'covid19', 'profissionais', 'atentem', 'preenchimento', 'ficha', 'coleta', 'preenchimento', 'quesito', 'raçacor', 'formulários', 'padronizados', 'fichas', 'notificação', 'sistemas', 'informação', 'esus', 've', 'síndrome', 'gripal', 'sg', 'síndrome', 'respiratória', 'aguda', 'grave', 'srag', 'hospitalizados', 'sistema', 'informação', 'vigilância', 'gripe', 'sivepgripe', 'covid19', 'acordo', 'autodeclaração', 'usuário', 'coleta', 'preenchimento', 'campo', 'referente', 'fatores', 'riscomorbidades', 'fichas', 'notificação', 'síndrome', 'gripal', 'sg', 'síndrome', 'respiratória', 'aguda', 'grave', 'srag', 'respectivos', 'sistemas', 'notificação', 'divulgação', 'análise', 'uso', 'informações', 'apoio', 'tomada', 'decisão', 'junto', 'gestores', 'profissionais', 'saúde', 'modo', 'proporcionar', 'indução', 'fomento', 'pesquisas', 'apoiem', 'obtenção', 'informações', 'relevância', 'saúde', 'publica', 'bases', 'dados', 'populacionais', 'citados', 'relação', 'medidas', 'preventivas', 'isolamento', 'social', 'manejo', 'pandemia', 'atentem', 'alerta', 'pandemia', 'atinge', 'populações', 'forma', 'distinta', 'devido', 'barreiras', 'acesso', 'condições', 'sócio', 'econômicas', 'produzindo', 'iniquidades', 'relacionadas', 'corraça', 'corroborando', 'relevância', 'respostas', 'diferenciadas', 'enérgicas', 'medida', 'necessidade', 'demanda', 'proteção', 'apoio', 'populações', 'vulneráveis', 'durante', 'epidemia', 'refere', 'ações', 'assistenciais', 'estratégias', 'serviços', 'saúde', 'atentem', 'fortalecer', 'coleta', 'informação', 'corraça', 'serviços', 'atenção', 'básica', 'hospitalares', 'ambulatoriais', 'sus', 'setor', 'privado', 'bem', 'sistemas', 'atendem', 'pessoas', 'privadas', 'liberdade', 'todas', 'esferas', 'realizar', 'monitoramento', 'suporte', 'oportuno', 'famílias', 'grupos', 'vulneráveis', 'através', 'estratégias', 'conjuntas', 'inter', 'extra', 'setoriais', 'assistência', 'social', 'combate', 'fome', 'etc', 'garantam', 'segurança', 'equipes', 'saúde', 'exemplo', 'comunicação', 'distância', 'seguir', 'respectivo', 'plano', 'contingenciamento', 'aps', 'estabelece', 'fluxo', 'atendimento', 'divulgação', 'serviços', 'junto', 'população', 'porta', 'entrada', 'triagem', 'exame', 'clínico', 'realização', 'exames', 'suporte', 'ventilatório', 'internação', 'transferência', 'atentar', 'necessidades', 'cuidado', 'saúde', 'mental', 'forma', 'integral', 'promover', 'equidade', 'meio', 'ações', 'atenção', 'primária', 'saúde', 'média', 'alta', 'complexidade', 'acordo', 'necessidades', 'diversas', 'populações', 'organização', 'rede', 'serviços', 'diferentes', 'territórios', 'articular', 'equipes', 'saúde', 'instituições', 'organizações', 'parceiras', 'órgãos', 'intersetoriais', 'comunidade', 'estimulando', 'formação', 'redes', 'informação', 'apoio', 'pessoas', 'famílias', 'diante', 'dilemas', 'coronavírus', 'estabelecer', 'ações', 'intersetoriais', 'territórios', 'difícil', 'acesso', 'populações', 'necessidades', 'específicas', 'vulnerabilidades', 'tais', 'quilombos', 'aldeias', 'assentamentos', 'grupos', 'tradicionais', 'indígenas', 'ciganos', 'pessoas', 'situação', 'rua', 'outros', 'possam', 'facilitar', 'acesso', 'benefícios', 'governamentais', 'garantia', 'alimentação', 'básica', 'apoio', 'isolamento', 'adequado', 'acordo', 'realidade', 'local', 'buscar', 'estratégias', 'locais', 'garantir', 'suporte', 'socialeconômico', 'comunidades', 'dificuldades', 'acesso', 'maior', 'vulnerabilidades', 'fortalecer', 'parcerias', 'representantes', 'sociedade', 'civil', 'conselhos', 'classe', 'conselhos', 'saúde', 'estaduais', 'municipais', 'distrito', 'federal', 'conselho', 'igualdade', 'racial', 'fóruns', 'organizações', 'governamentais', 'comitês', 'saúde', 'população', 'negra', 'universidade', 'etc', 'estimulando', 'participação', 'comunidade', 'compartilhamento', 'resultados', 'alcançados', 'levantamento', 'epidemiológico', 'coleta', 'análise', 'publicação', 'dados', 'desagregados', 'raçacor', 'deve', 'realizado', 'vistas', 'produzir', 'representação', 'próxima', 'realidade', 'elaboração', 'melhores', 'soluções', 'enfrentamento', 'nova', 'doença', 'coronavírus', 'covid19', 'bem', 'subsidiar', 'decisões', 'gestores', 'construção', 'conhecimento', 'científico', 'ampliação', 'esforços', 'inserção', 'temática', 'étnicoracial', 'processos', 'trabalho', 'educação', 'permanente', 'equipes', 'atenção', 'básica', 'trabalhadoresprofissionais', 'saúde', 'sus', 'especial', 'atenção', 'quadro', 'emergências', 'provocado', 'nova', 'doença', 'coronavírus', 'covid19']\n"
     ]
    },
    {
     "name": "stderr",
     "output_type": "stream",
     "text": [
      "[nltk_data] Downloading package floresta to\n",
      "[nltk_data]     /home/patrickfrr/nltk_data...\n",
      "[nltk_data]   Package floresta is already up-to-date!\n",
      "[nltk_data] Downloading package stopwords to\n",
      "[nltk_data]     /home/patrickfrr/nltk_data...\n",
      "[nltk_data]   Package stopwords is already up-to-date!\n"
     ]
    }
   ],
   "source": [
    "# remoção de Stapwords - ou seja, remoção de palavras que não causam prejuijo ao sentido do texto\n",
    "\n",
    "from nltk.corpus import stopwords\n",
    "nltk.download('floresta')\n",
    "nltk.download('stopwords')\n",
    "stopwords = stopwords.words('portuguese')\n",
    "\n",
    "palavras_play = [palavra for palavra in tokens if palavra not in stopwords]\n",
    "print(f'Palavras removidas: \\n\\n{stopwords} \\n')\n",
    "\n",
    "print(f'Texto após remoção das stopwords: \\n\\n {palavras_play}')"
   ]
  },
  {
   "cell_type": "code",
   "execution_count": 8,
   "id": "c01cd7a4",
   "metadata": {},
   "outputs": [],
   "source": [
    "palavras_selecionadas = ', '.join(palavras_play)"
   ]
  },
  {
   "cell_type": "code",
   "execution_count": 9,
   "id": "1f8c0bf5",
   "metadata": {},
   "outputs": [
    {
     "data": {
      "text/plain": [
       "4696"
      ]
     },
     "execution_count": 9,
     "metadata": {},
     "output_type": "execute_result"
    }
   ],
   "source": [
    "# Criando arquivo e gravando palavras selecionadas nele\n",
    "arquivo = open('selecionadas_CNS_BIOSSOCIAL_2021.txt', 'w')\n",
    "arquivo.write(palavras_selecionadas)"
   ]
  },
  {
   "cell_type": "code",
   "execution_count": 1,
   "id": "ed53441f",
   "metadata": {},
   "outputs": [
    {
     "name": "stdout",
     "output_type": "stream",
     "text": [
      "ministério, saúde, secretarias, estaduais, municipais, saúde, conselhos, saúde, estados, municípios, distrito, federal, âmbito, respectivas, competências, orientem, profissionais, serviços, atenção, saúde, incluindo, gestores, prestadores, todas, profissões, saúde, outras, seguintes, ações, atuação, deve, realizada, maneira, antirracista, todo, manejo, pacientes, situação, vulnerabilidade, população, negra, populações, tradicionais, quilombos, terreiros, população, situação, rua, população, ribeirinha, população, cigana, campo, águas, florestas, dentro, trato, pandemia, covid19, outras, patologias, acesso, populações, vulneráveis, serviços, saúde, atenção, básica, deve, garantido, realizado, tempo, adequado, atendimento, necessidades, saúde, conforme, política, nacional, atenção, básica, pnab, especial, atenção, emergências, provocadas, nova, doença, coronavírus, covid19, quanto, notificações, casos, suspeitos, covid19, profissionais, atentem, preenchimento, ficha, coleta, preenchimento, quesito, raçacor, formulários, padronizados, fichas, notificação, sistemas, informação, esus, ve, síndrome, gripal, sg, síndrome, respiratória, aguda, grave, srag, hospitalizados, sistema, informação, vigilância, gripe, sivepgripe, covid19, acordo, autodeclaração, usuário, coleta, preenchimento, campo, referente, fatores, riscomorbidades, fichas, notificação, síndrome, gripal, sg, síndrome, respiratória, aguda, grave, srag, respectivos, sistemas, notificação, divulgação, análise, uso, informações, apoio, tomada, decisão, junto, gestores, profissionais, saúde, modo, proporcionar, indução, fomento, pesquisas, apoiem, obtenção, informações, relevância, saúde, publica, bases, dados, populacionais, citados, relação, medidas, preventivas, isolamento, social, manejo, pandemia, atentem, alerta, pandemia, atinge, populações, forma, distinta, devido, barreiras, acesso, condições, sócio, econômicas, produzindo, iniquidades, relacionadas, corraça, corroborando, relevância, respostas, diferenciadas, enérgicas, medida, necessidade, demanda, proteção, apoio, populações, vulneráveis, durante, epidemia, refere, ações, assistenciais, estratégias, serviços, saúde, atentem, fortalecer, coleta, informação, corraça, serviços, atenção, básica, hospitalares, ambulatoriais, sus, setor, privado, bem, sistemas, atendem, pessoas, privadas, liberdade, todas, esferas, realizar, monitoramento, suporte, oportuno, famílias, grupos, vulneráveis, através, estratégias, conjuntas, inter, extra, setoriais, assistência, social, combate, fome, etc, garantam, segurança, equipes, saúde, exemplo, comunicação, distância, seguir, respectivo, plano, contingenciamento, aps, estabelece, fluxo, atendimento, divulgação, serviços, junto, população, porta, entrada, triagem, exame, clínico, realização, exames, suporte, ventilatório, internação, transferência, atentar, necessidades, cuidado, saúde, mental, forma, integral, promover, equidade, meio, ações, atenção, primária, saúde, média, alta, complexidade, acordo, necessidades, diversas, populações, organização, rede, serviços, diferentes, territórios, articular, equipes, saúde, instituições, organizações, parceiras, órgãos, intersetoriais, comunidade, estimulando, formação, redes, informação, apoio, pessoas, famílias, diante, dilemas, coronavírus, estabelecer, ações, intersetoriais, territórios, difícil, acesso, populações, necessidades, específicas, vulnerabilidades, tais, quilombos, aldeias, assentamentos, grupos, tradicionais, indígenas, ciganos, pessoas, situação, rua, outros, possam, facilitar, acesso, benefícios, governamentais, garantia, alimentação, básica, apoio, isolamento, adequado, acordo, realidade, local, buscar, estratégias, locais, garantir, suporte, socialeconômico, comunidades, dificuldades, acesso, maior, vulnerabilidades, fortalecer, parcerias, representantes, sociedade, civil, conselhos, classe, conselhos, saúde, estaduais, municipais, distrito, federal, conselho, igualdade, racial, fóruns, organizações, governamentais, comitês, saúde, população, negra, universidade, etc, estimulando, participação, comunidade, compartilhamento, resultados, alcançados, levantamento, epidemiológico, coleta, análise, publicação, dados, desagregados, raçacor, deve, realizado, vistas, produzir, representação, próxima, realidade, elaboração, melhores, soluções, enfrentamento, nova, doença, coronavírus, covid19, bem, subsidiar, decisões, gestores, construção, conhecimento, científico, ampliação, esforços, inserção, temática, étnicoracial, processos, trabalho, educação, permanente, equipes, atenção, básica, trabalhadoresprofissionais, saúde, sus, especial, atenção, quadro, emergências, provocado, nova, doença, coronavírus, covid19\n"
     ]
    }
   ],
   "source": [
    "# abrindo arquivo com as palavras selecionadas \n",
    "texto2 = open('selecionadas_CNS_BIOSSOCIAL_2021.txt','r',encoding='UTF=8').read()\n",
    "print(texto2)"
   ]
  },
  {
   "cell_type": "code",
   "execution_count": 2,
   "id": "a82c3856",
   "metadata": {},
   "outputs": [
    {
     "name": "stdout",
     "output_type": "stream",
     "text": [
      "O texto apresenta 4696 palavras no total.\n"
     ]
    }
   ],
   "source": [
    "# Contar o quantidade de palavras no texto\n",
    "qt_palavras = len(texto2)\n",
    "print(f'O texto apresenta {qt_palavras} palavras no total.')"
   ]
  },
  {
   "cell_type": "code",
   "execution_count": 3,
   "id": "7bfa9d6e",
   "metadata": {},
   "outputs": [
    {
     "name": "stdout",
     "output_type": "stream",
     "text": [
      "\n",
      "Frequência das palavras:{'ministério': 1, 'saúde': 17, 'secretarias': 1, 'estaduais': 2, 'municipais': 2, 'conselhos': 3, 'estados': 1, 'municípios': 1, 'distrito': 2, 'federal': 2, 'âmbito': 1, 'respectivas': 1, 'competências': 1, 'orientem': 1, 'profissionais': 3, 'serviços': 6, 'atenção': 8, 'incluindo': 1, 'gestores': 3, 'prestadores': 1, 'todas': 2, 'profissões': 1, 'outras': 2, 'seguintes': 1, 'ações': 4, 'atuação': 1, 'deve': 3, 'realizada': 1, 'maneira': 1, 'antirracista': 1, 'todo': 1, 'manejo': 2, 'pacientes': 1, 'situação': 3, 'vulnerabilidade': 1, 'população': 6, 'negra': 2, 'populações': 6, 'tradicionais': 2, 'quilombos': 2, 'terreiros': 1, 'rua': 2, 'ribeirinha': 1, 'cigana': 1, 'campo': 2, 'águas': 1, 'florestas': 1, 'dentro': 1, 'trato': 1, 'pandemia': 3, 'covid19': 6, 'patologias': 1, 'acesso': 5, 'vulneráveis': 3, 'básica': 5, 'garantido': 1, 'realizado': 2, 'tempo': 1, 'adequado': 2, 'atendimento': 2, 'necessidades': 4, 'conforme': 1, 'política': 1, 'nacional': 1, 'pnab': 1, 'especial': 2, 'emergências': 2, 'provocadas': 1, 'nova': 3, 'doença': 3, 'coronavírus': 4, 'quanto': 1, 'notificações': 1, 'casos': 1, 'suspeitos': 1, 'atentem': 3, 'preenchimento': 3, 'ficha': 1, 'coleta': 4, 'quesito': 1, 'raçacor': 2, 'formulários': 1, 'padronizados': 1, 'fichas': 2, 'notificação': 3, 'sistemas': 3, 'informação': 4, 'esus': 1, 've': 1, 'síndrome': 4, 'gripal': 2, 'sg': 2, 'respiratória': 2, 'aguda': 2, 'grave': 2, 'srag': 2, 'hospitalizados': 1, 'sistema': 1, 'vigilância': 1, 'gripe': 1, 'sivepgripe': 1, 'acordo': 3, 'autodeclaração': 1, 'usuário': 1, 'referente': 1, 'fatores': 1, 'riscomorbidades': 1, 'respectivos': 1, 'divulgação': 2, 'análise': 2, 'uso': 1, 'informações': 2, 'apoio': 4, 'tomada': 1, 'decisão': 1, 'junto': 2, 'modo': 1, 'proporcionar': 1, 'indução': 1, 'fomento': 1, 'pesquisas': 1, 'apoiem': 1, 'obtenção': 1, 'relevância': 2, 'publica': 1, 'bases': 1, 'dados': 2, 'populacionais': 1, 'citados': 1, 'relação': 1, 'medidas': 1, 'preventivas': 1, 'isolamento': 2, 'social': 2, 'alerta': 1, 'atinge': 1, 'forma': 2, 'distinta': 1, 'devido': 1, 'barreiras': 1, 'condições': 1, 'sócio': 1, 'econômicas': 1, 'produzindo': 1, 'iniquidades': 1, 'relacionadas': 1, 'corraça': 2, 'corroborando': 1, 'respostas': 1, 'diferenciadas': 1, 'enérgicas': 1, 'medida': 1, 'necessidade': 1, 'demanda': 1, 'proteção': 1, 'durante': 1, 'epidemia': 1, 'refere': 1, 'assistenciais': 1, 'estratégias': 3, 'fortalecer': 2, 'hospitalares': 1, 'ambulatoriais': 1, 'sus': 2, 'setor': 1, 'privado': 1, 'bem': 2, 'atendem': 1, 'pessoas': 3, 'privadas': 1, 'liberdade': 1, 'esferas': 1, 'realizar': 1, 'monitoramento': 1, 'suporte': 3, 'oportuno': 1, 'famílias': 2, 'grupos': 2, 'através': 1, 'conjuntas': 1, 'inter': 1, 'extra': 1, 'setoriais': 1, 'assistência': 1, 'combate': 1, 'fome': 1, 'etc': 2, 'garantam': 1, 'segurança': 1, 'equipes': 3, 'exemplo': 1, 'comunicação': 1, 'distância': 1, 'seguir': 1, 'respectivo': 1, 'plano': 1, 'contingenciamento': 1, 'aps': 1, 'estabelece': 1, 'fluxo': 1, 'porta': 1, 'entrada': 1, 'triagem': 1, 'exame': 1, 'clínico': 1, 'realização': 1, 'exames': 1, 'ventilatório': 1, 'internação': 1, 'transferência': 1, 'atentar': 1, 'cuidado': 1, 'mental': 1, 'integral': 1, 'promover': 1, 'equidade': 1, 'meio': 1, 'primária': 1, 'média': 1, 'alta': 1, 'complexidade': 1, 'diversas': 1, 'organização': 1, 'rede': 1, 'diferentes': 1, 'territórios': 2, 'articular': 1, 'instituições': 1, 'organizações': 2, 'parceiras': 1, 'órgãos': 1, 'intersetoriais': 2, 'comunidade': 2, 'estimulando': 2, 'formação': 1, 'redes': 1, 'diante': 1, 'dilemas': 1, 'estabelecer': 1, 'difícil': 1, 'específicas': 1, 'vulnerabilidades': 2, 'tais': 1, 'aldeias': 1, 'assentamentos': 1, 'indígenas': 1, 'ciganos': 1, 'outros': 1, 'possam': 1, 'facilitar': 1, 'benefícios': 1, 'governamentais': 2, 'garantia': 1, 'alimentação': 1, 'realidade': 2, 'local': 1, 'buscar': 1, 'locais': 1, 'garantir': 1, 'socialeconômico': 1, 'comunidades': 1, 'dificuldades': 1, 'maior': 1, 'parcerias': 1, 'representantes': 1, 'sociedade': 1, 'civil': 1, 'classe': 1, 'conselho': 1, 'igualdade': 1, 'racial': 1, 'fóruns': 1, 'comitês': 1, 'universidade': 1, 'participação': 1, 'compartilhamento': 1, 'resultados': 1, 'alcançados': 1, 'levantamento': 1, 'epidemiológico': 1, 'publicação': 1, 'desagregados': 1, 'vistas': 1, 'produzir': 1, 'representação': 1, 'próxima': 1, 'elaboração': 1, 'melhores': 1, 'soluções': 1, 'enfrentamento': 1, 'subsidiar': 1, 'decisões': 1, 'construção': 1, 'conhecimento': 1, 'científico': 1, 'ampliação': 1, 'esforços': 1, 'inserção': 1, 'temática': 1, 'étnicoracial': 1, 'processos': 1, 'trabalho': 1, 'educação': 1, 'permanente': 1, 'trabalhadoresprofissionais': 1, 'quadro': 1, 'provocado': 1}\n"
     ]
    }
   ],
   "source": [
    "# Tratamento de caracteres indesejados é a frequência daquela palavra.\n",
    "import text as text\n",
    "freq = text.bag_of_words('selecionadas_CNS_BIOSSOCIAL_2021.txt')\n",
    "\n",
    "# Imprimir a frequencia de cada palavra\n",
    "print(f'\\nFrequência das palavras:{freq}')"
   ]
  },
  {
   "cell_type": "code",
   "execution_count": 4,
   "id": "c7634c31",
   "metadata": {},
   "outputs": [
    {
     "name": "stdout",
     "output_type": "stream",
     "text": [
      "Classificação das palavras pela frequência: {'saúde': 17, 'atenção': 8, 'serviços': 6, 'população': 6, 'populações': 6, 'covid19': 6, 'acesso': 5, 'básica': 5, 'ações': 4, 'necessidades': 4, 'coronavírus': 4, 'coleta': 4, 'informação': 4, 'síndrome': 4, 'apoio': 4, 'conselhos': 3, 'profissionais': 3, 'gestores': 3, 'deve': 3, 'situação': 3, 'pandemia': 3, 'vulneráveis': 3, 'nova': 3, 'doença': 3, 'atentem': 3, 'preenchimento': 3, 'notificação': 3, 'sistemas': 3, 'acordo': 3, 'estratégias': 3, 'pessoas': 3, 'suporte': 3, 'equipes': 3, 'estaduais': 2, 'municipais': 2, 'distrito': 2, 'federal': 2, 'todas': 2, 'outras': 2, 'manejo': 2, 'negra': 2, 'tradicionais': 2, 'quilombos': 2, 'rua': 2, 'campo': 2, 'realizado': 2, 'adequado': 2, 'atendimento': 2, 'especial': 2, 'emergências': 2, 'raçacor': 2, 'fichas': 2, 'gripal': 2, 'sg': 2, 'respiratória': 2, 'aguda': 2, 'grave': 2, 'srag': 2, 'divulgação': 2, 'análise': 2, 'informações': 2, 'junto': 2, 'relevância': 2, 'dados': 2, 'isolamento': 2, 'social': 2, 'forma': 2, 'corraça': 2, 'fortalecer': 2, 'sus': 2, 'bem': 2, 'famílias': 2, 'grupos': 2, 'etc': 2, 'territórios': 2, 'organizações': 2, 'intersetoriais': 2, 'comunidade': 2, 'estimulando': 2, 'vulnerabilidades': 2, 'governamentais': 2, 'realidade': 2, 'ministério': 1, 'secretarias': 1, 'estados': 1, 'municípios': 1, 'âmbito': 1, 'respectivas': 1, 'competências': 1, 'orientem': 1, 'incluindo': 1, 'prestadores': 1, 'profissões': 1, 'seguintes': 1, 'atuação': 1, 'realizada': 1, 'maneira': 1, 'antirracista': 1, 'todo': 1, 'pacientes': 1, 'vulnerabilidade': 1, 'terreiros': 1, 'ribeirinha': 1, 'cigana': 1, 'águas': 1, 'florestas': 1, 'dentro': 1, 'trato': 1, 'patologias': 1, 'garantido': 1, 'tempo': 1, 'conforme': 1, 'política': 1, 'nacional': 1, 'pnab': 1, 'provocadas': 1, 'quanto': 1, 'notificações': 1, 'casos': 1, 'suspeitos': 1, 'ficha': 1, 'quesito': 1, 'formulários': 1, 'padronizados': 1, 'esus': 1, 've': 1, 'hospitalizados': 1, 'sistema': 1, 'vigilância': 1, 'gripe': 1, 'sivepgripe': 1, 'autodeclaração': 1, 'usuário': 1, 'referente': 1, 'fatores': 1, 'riscomorbidades': 1, 'respectivos': 1, 'uso': 1, 'tomada': 1, 'decisão': 1, 'modo': 1, 'proporcionar': 1, 'indução': 1, 'fomento': 1, 'pesquisas': 1, 'apoiem': 1, 'obtenção': 1, 'publica': 1, 'bases': 1, 'populacionais': 1, 'citados': 1, 'relação': 1, 'medidas': 1, 'preventivas': 1, 'alerta': 1, 'atinge': 1, 'distinta': 1, 'devido': 1, 'barreiras': 1, 'condições': 1, 'sócio': 1, 'econômicas': 1, 'produzindo': 1, 'iniquidades': 1, 'relacionadas': 1, 'corroborando': 1, 'respostas': 1, 'diferenciadas': 1, 'enérgicas': 1, 'medida': 1, 'necessidade': 1, 'demanda': 1, 'proteção': 1, 'durante': 1, 'epidemia': 1, 'refere': 1, 'assistenciais': 1, 'hospitalares': 1, 'ambulatoriais': 1, 'setor': 1, 'privado': 1, 'atendem': 1, 'privadas': 1, 'liberdade': 1, 'esferas': 1, 'realizar': 1, 'monitoramento': 1, 'oportuno': 1, 'através': 1, 'conjuntas': 1, 'inter': 1, 'extra': 1, 'setoriais': 1, 'assistência': 1, 'combate': 1, 'fome': 1, 'garantam': 1, 'segurança': 1, 'exemplo': 1, 'comunicação': 1, 'distância': 1, 'seguir': 1, 'respectivo': 1, 'plano': 1, 'contingenciamento': 1, 'aps': 1, 'estabelece': 1, 'fluxo': 1, 'porta': 1, 'entrada': 1, 'triagem': 1, 'exame': 1, 'clínico': 1, 'realização': 1, 'exames': 1, 'ventilatório': 1, 'internação': 1, 'transferência': 1, 'atentar': 1, 'cuidado': 1, 'mental': 1, 'integral': 1, 'promover': 1, 'equidade': 1, 'meio': 1, 'primária': 1, 'média': 1, 'alta': 1, 'complexidade': 1, 'diversas': 1, 'organização': 1, 'rede': 1, 'diferentes': 1, 'articular': 1, 'instituições': 1, 'parceiras': 1, 'órgãos': 1, 'formação': 1, 'redes': 1, 'diante': 1, 'dilemas': 1, 'estabelecer': 1, 'difícil': 1, 'específicas': 1, 'tais': 1, 'aldeias': 1, 'assentamentos': 1, 'indígenas': 1, 'ciganos': 1, 'outros': 1, 'possam': 1, 'facilitar': 1, 'benefícios': 1, 'garantia': 1, 'alimentação': 1, 'local': 1, 'buscar': 1, 'locais': 1, 'garantir': 1, 'socialeconômico': 1, 'comunidades': 1, 'dificuldades': 1, 'maior': 1, 'parcerias': 1, 'representantes': 1, 'sociedade': 1, 'civil': 1, 'classe': 1, 'conselho': 1, 'igualdade': 1, 'racial': 1, 'fóruns': 1, 'comitês': 1, 'universidade': 1, 'participação': 1, 'compartilhamento': 1, 'resultados': 1, 'alcançados': 1, 'levantamento': 1, 'epidemiológico': 1, 'publicação': 1, 'desagregados': 1, 'vistas': 1, 'produzir': 1, 'representação': 1, 'próxima': 1, 'elaboração': 1, 'melhores': 1, 'soluções': 1, 'enfrentamento': 1, 'subsidiar': 1, 'decisões': 1, 'construção': 1, 'conhecimento': 1, 'científico': 1, 'ampliação': 1, 'esforços': 1, 'inserção': 1, 'temática': 1, 'étnicoracial': 1, 'processos': 1, 'trabalho': 1, 'educação': 1, 'permanente': 1, 'trabalhadoresprofissionais': 1, 'quadro': 1, 'provocado': 1}\n",
      "\n"
     ]
    }
   ],
   "source": [
    "# Retorna as palavras classificadas pelo maior frequencia\n",
    "most = text.most_frequent(freq, qt_palavras)\n",
    "print(f'Classificação das palavras pela frequência: {most}\\n')"
   ]
  },
  {
   "cell_type": "code",
   "execution_count": 5,
   "id": "1d102987",
   "metadata": {},
   "outputs": [],
   "source": [
    "# Criar um arquivo de saída chamado palavras_ANVISA_HM_2020.csv contendo as palavras e suas frequências.\n",
    "arquivo_saida = open(\"palavras_CNS_BIOSSOCIAL_2021.csv\",\"w\") "
   ]
  },
  {
   "cell_type": "code",
   "execution_count": 6,
   "id": "993cbbd8",
   "metadata": {},
   "outputs": [],
   "source": [
    "# Gravando palavras e frequência no arquivo csv\n",
    "import text as text\n",
    "grava = text.write_frequencies_csv(\"palavras_CNS_BIOSSOCIAL_2021.csv\", freq)"
   ]
  },
  {
   "cell_type": "code",
   "execution_count": 7,
   "id": "2f2bcdd8",
   "metadata": {},
   "outputs": [
    {
     "data": {
      "text/html": [
       "<div>\n",
       "<style scoped>\n",
       "    .dataframe tbody tr th:only-of-type {\n",
       "        vertical-align: middle;\n",
       "    }\n",
       "\n",
       "    .dataframe tbody tr th {\n",
       "        vertical-align: top;\n",
       "    }\n",
       "\n",
       "    .dataframe thead th {\n",
       "        text-align: right;\n",
       "    }\n",
       "</style>\n",
       "<table border=\"1\" class=\"dataframe\">\n",
       "  <thead>\n",
       "    <tr style=\"text-align: right;\">\n",
       "      <th></th>\n",
       "      <th>Palavras</th>\n",
       "      <th>Frequência</th>\n",
       "    </tr>\n",
       "  </thead>\n",
       "  <tbody>\n",
       "    <tr>\n",
       "      <th>0</th>\n",
       "      <td>ministério</td>\n",
       "      <td>1</td>\n",
       "    </tr>\n",
       "    <tr>\n",
       "      <th>1</th>\n",
       "      <td>saúde</td>\n",
       "      <td>17</td>\n",
       "    </tr>\n",
       "    <tr>\n",
       "      <th>2</th>\n",
       "      <td>secretarias</td>\n",
       "      <td>1</td>\n",
       "    </tr>\n",
       "    <tr>\n",
       "      <th>3</th>\n",
       "      <td>estaduais</td>\n",
       "      <td>2</td>\n",
       "    </tr>\n",
       "    <tr>\n",
       "      <th>4</th>\n",
       "      <td>municipais</td>\n",
       "      <td>2</td>\n",
       "    </tr>\n",
       "    <tr>\n",
       "      <th>...</th>\n",
       "      <td>...</td>\n",
       "      <td>...</td>\n",
       "    </tr>\n",
       "    <tr>\n",
       "      <th>302</th>\n",
       "      <td>educação</td>\n",
       "      <td>1</td>\n",
       "    </tr>\n",
       "    <tr>\n",
       "      <th>303</th>\n",
       "      <td>permanente</td>\n",
       "      <td>1</td>\n",
       "    </tr>\n",
       "    <tr>\n",
       "      <th>304</th>\n",
       "      <td>trabalhadoresprofissionais</td>\n",
       "      <td>1</td>\n",
       "    </tr>\n",
       "    <tr>\n",
       "      <th>305</th>\n",
       "      <td>quadro</td>\n",
       "      <td>1</td>\n",
       "    </tr>\n",
       "    <tr>\n",
       "      <th>306</th>\n",
       "      <td>provocado</td>\n",
       "      <td>1</td>\n",
       "    </tr>\n",
       "  </tbody>\n",
       "</table>\n",
       "<p>307 rows × 2 columns</p>\n",
       "</div>"
      ],
      "text/plain": [
       "                       Palavras  Frequência\n",
       "0                    ministério           1\n",
       "1                         saúde          17\n",
       "2                   secretarias           1\n",
       "3                     estaduais           2\n",
       "4                    municipais           2\n",
       "..                          ...         ...\n",
       "302                    educação           1\n",
       "303                  permanente           1\n",
       "304  trabalhadoresprofissionais           1\n",
       "305                      quadro           1\n",
       "306                   provocado           1\n",
       "\n",
       "[307 rows x 2 columns]"
      ]
     },
     "execution_count": 7,
     "metadata": {},
     "output_type": "execute_result"
    }
   ],
   "source": [
    "# Carregando e visualizando dados do arquivo csv\n",
    "import pandas as pd\n",
    "data = pd.read_csv('palavras_CNS_BIOSSOCIAL_2021.csv', sep=';')\n",
    "data"
   ]
  }
 ],
 "metadata": {
  "kernelspec": {
   "display_name": "Python 3 (ipykernel)",
   "language": "python",
   "name": "python3"
  },
  "language_info": {
   "codemirror_mode": {
    "name": "ipython",
    "version": 3
   },
   "file_extension": ".py",
   "mimetype": "text/x-python",
   "name": "python",
   "nbconvert_exporter": "python",
   "pygments_lexer": "ipython3",
   "version": "3.9.12"
  }
 },
 "nbformat": 4,
 "nbformat_minor": 5
}
