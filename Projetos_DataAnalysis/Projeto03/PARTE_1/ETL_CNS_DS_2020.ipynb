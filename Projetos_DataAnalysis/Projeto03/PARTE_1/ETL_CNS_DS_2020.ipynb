{
 "cells": [
  {
   "cell_type": "markdown",
   "id": "a4bb9b7f",
   "metadata": {},
   "source": [
    "# Preparando o texto para análise\n",
    "\n",
    "Arquivo de entrada: **CNS_DS_2020.txt**\n",
    "\n",
    "Arquivo pós-tratamento: **selecionadas_CNS_DS_2020.txt**\n",
    "\n",
    "Arquivo de saída: **palavras_DS_AGUA_2020.csv**\n",
    "\n",
    "## ETAPAS\n",
    "1 - extração;\n",
    "\n",
    "2 - tratamento;\n",
    "\n",
    "3 - limpeza;\n",
    "\n",
    "4 - seleção das palavras a serem analisadas;\n",
    "\n",
    "5 - armazenamento das palavras selecionadas em arquivo separado (ARQUIVO PÓS-TRATAMENTO);\n",
    "\n",
    "6 - contagem da frequência das palavras serem analisadas;\n",
    "\n",
    "7 - criação de um dataframe para armazenamento dos dados com a frequência das palavras a serem analisadas;\n",
    "\n",
    "8 - armazenamento do dataframe em arquivo separado (ARQUIVO DE SAÍDA)."
   ]
  },
  {
   "cell_type": "code",
   "execution_count": 1,
   "id": "b6adf867",
   "metadata": {},
   "outputs": [],
   "source": [
    "# importando biblioteca a serem utilizadas no projeto\n",
    "import re\n",
    "import nltk\n",
    "from nltk import word_tokenize\n",
    "from nltk.corpus import stopwords\n",
    "import string\n",
    "import text as text"
   ]
  },
  {
   "cell_type": "code",
   "execution_count": 2,
   "id": "015de030",
   "metadata": {},
   "outputs": [
    {
     "name": "stdout",
     "output_type": "stream",
     "text": [
      "Ao Ministério da Saúde, Governadores dos Estados e do Distrito Federal, Secretários Estaduais de Saúde, Prefeitos Municipais e Secretários Municipais de Saúde:\n",
      "Que sejam implementadas medidas que garantam pelo menos 60% da população em distanciamento social, ou superiores a este, em se agravando a ocupação de leitos, de maneira progressiva e efetiva, como medida sanitária excepcional necessária;\n",
      "Que sejam adotadas medidas de distanciamento social mais rigoroso, ou seja, a contenção comunitária ou bloqueio (em inglês, lockdown) nos municípios com ocorrência acelerada de novos casos de COVID-19 e com taxa de ocupação dos serviços atingido níveis críticos, agregando as seguintes providências:\n",
      "Suspensão de todas as atividades não essenciais à manutenção da vida e da saúde, apenas autorizando o funcionamento dos serviços considerados essenciais, por sua natureza;\n",
      "Adoção de medidas de orientação e de sanção administrativa quando houver infração às medidas de restrição social, podendo serem aplicadas em áreas especificas de uma cidade (bairros, distritos, setores);\n",
      "Restrição da circulação de pessoas e de veículos particulares (somente com uso de máscaras), salvo transporte de pessoas no itinerário e no exercício de serviços considerados como essenciais, com ampliação de medidas informativas e educativas (monitoramento do cumprimento) em veículos de transporte coletivo; e\n",
      "Mobilização das Forças Armadas e de Segurança, pelos poderes Estaduais e Municipais, pela via de parcerias intersetoriais entre os órgãos, com vistas ao cumprimento dos protocolos de emergência para a adoção de bloqueio total (lockdown) quando necessário, com planejamento antecipado ao limite de ocupação de leitos na rede local de saúde.\n"
     ]
    }
   ],
   "source": [
    "# abrindo arquivo e colocando o texto em minusculo\n",
    "texto = open('CNS_DS_2020.txt','r',encoding='UTF=8').read()\n",
    "print(texto)"
   ]
  },
  {
   "cell_type": "code",
   "execution_count": 3,
   "id": "3a5221cd",
   "metadata": {},
   "outputs": [
    {
     "name": "stdout",
     "output_type": "stream",
     "text": [
      "Quantidade total de palavras do texto: 1794\n"
     ]
    }
   ],
   "source": [
    "# Contando o total de palavras do texto\n",
    "t_linhas = len(texto)\n",
    "print('Quantidade total de palavras do texto:', t_linhas)"
   ]
  },
  {
   "cell_type": "code",
   "execution_count": 4,
   "id": "cb115edb",
   "metadata": {},
   "outputs": [
    {
     "name": "stdout",
     "output_type": "stream",
     "text": [
      "ao ministério da saúde, governadores dos estados e do distrito federal, secretários estaduais de saúde, prefeitos municipais e secretários municipais de saúde:\n",
      "que sejam implementadas medidas que garantam pelo menos 60% da população em distanciamento social, ou superiores a este, em se agravando a ocupação de leitos, de maneira progressiva e efetiva, como medida sanitária excepcional necessária;\n",
      "que sejam adotadas medidas de distanciamento social mais rigoroso, ou seja, a contenção comunitária ou bloqueio (em inglês, lockdown) nos municípios com ocorrência acelerada de novos casos de covid-19 e com taxa de ocupação dos serviços atingido níveis críticos, agregando as seguintes providências:\n",
      "suspensão de todas as atividades não essenciais à manutenção da vida e da saúde, apenas autorizando o funcionamento dos serviços considerados essenciais, por sua natureza;\n",
      "adoção de medidas de orientação e de sanção administrativa quando houver infração às medidas de restrição social, podendo serem aplicadas em áreas especificas de uma cidade (bairros, distritos, setores);\n",
      "restrição da circulação de pessoas e de veículos particulares (somente com uso de máscaras), salvo transporte de pessoas no itinerário e no exercício de serviços considerados como essenciais, com ampliação de medidas informativas e educativas (monitoramento do cumprimento) em veículos de transporte coletivo; e\n",
      "mobilização das forças armadas e de segurança, pelos poderes estaduais e municipais, pela via de parcerias intersetoriais entre os órgãos, com vistas ao cumprimento dos protocolos de emergência para a adoção de bloqueio total (lockdown) quando necessário, com planejamento antecipado ao limite de ocupação de leitos na rede local de saúde.\n"
     ]
    }
   ],
   "source": [
    "# reabrindo arquivo e colocando o texto em minusculo\n",
    "\n",
    "arquivo = open('CNS_DS_2020.txt','r',encoding='UTF=8').read()\n",
    "texto_lower = arquivo.lower()\n",
    "\n",
    "print(texto_lower)"
   ]
  },
  {
   "cell_type": "code",
   "execution_count": 5,
   "id": "560a366a",
   "metadata": {},
   "outputs": [
    {
     "name": "stdout",
     "output_type": "stream",
     "text": [
      "Ao Ministério da Saúde Governadores dos Estados e do Distrito Federal Secretários Estaduais de Saúde Prefeitos Municipais e Secretários Municipais de Saúde\n",
      "Que sejam implementadas medidas que garantam pelo menos 60 da população em distanciamento social ou superiores a este em se agravando a ocupação de leitos de maneira progressiva e efetiva como medida sanitária excepcional necessária\n",
      "Que sejam adotadas medidas de distanciamento social mais rigoroso ou seja a contenção comunitária ou bloqueio em inglês lockdown nos municípios com ocorrência acelerada de novos casos de COVID19 e com taxa de ocupação dos serviços atingido níveis críticos agregando as seguintes providências\n",
      "Suspensão de todas as atividades não essenciais à manutenção da vida e da saúde apenas autorizando o funcionamento dos serviços considerados essenciais por sua natureza\n",
      "Adoção de medidas de orientação e de sanção administrativa quando houver infração às medidas de restrição social podendo serem aplicadas em áreas especificas de uma cidade bairros distritos setores\n",
      "Restrição da circulação de pessoas e de veículos particulares somente com uso de máscaras salvo transporte de pessoas no itinerário e no exercício de serviços considerados como essenciais com ampliação de medidas informativas e educativas monitoramento do cumprimento em veículos de transporte coletivo e\n",
      "Mobilização das Forças Armadas e de Segurança pelos poderes Estaduais e Municipais pela via de parcerias intersetoriais entre os órgãos com vistas ao cumprimento dos protocolos de emergência para a adoção de bloqueio total lockdown quando necessário com planejamento antecipado ao limite de ocupação de leitos na rede local de saúde\n"
     ]
    }
   ],
   "source": [
    " # remoção de pontuação\n",
    "    \n",
    "text_sem_pontuar = ''.join ([palavra for palavra in texto if palavra not in string.punctuation])\n",
    "print(text_sem_pontuar)"
   ]
  },
  {
   "cell_type": "code",
   "execution_count": 6,
   "id": "9dbe23c0",
   "metadata": {},
   "outputs": [
    {
     "name": "stdout",
     "output_type": "stream",
     "text": [
      "['Ao', 'Ministério', 'da', 'Saúde', 'Governadores', 'dos', 'Estados', 'e', 'do', 'Distrito', 'Federal', 'Secretários', 'Estaduais', 'de', 'Saúde', 'Prefeitos', 'Municipais', 'e', 'Secretários', 'Municipais', 'de', 'Saúde', 'Que', 'sejam', 'implementadas', 'medidas', 'que', 'garantam', 'pelo', 'menos', '60', 'da', 'população', 'em', 'distanciamento', 'social', 'ou', 'superiores', 'a', 'este', 'em', 'se', 'agravando', 'a', 'ocupação', 'de', 'leitos', 'de', 'maneira', 'progressiva', 'e', 'efetiva', 'como', 'medida', 'sanitária', 'excepcional', 'necessária', 'Que', 'sejam', 'adotadas', 'medidas', 'de', 'distanciamento', 'social', 'mais', 'rigoroso', 'ou', 'seja', 'a', 'contenção', 'comunitária', 'ou', 'bloqueio', 'em', 'inglês', 'lockdown', 'nos', 'municípios', 'com', 'ocorrência', 'acelerada', 'de', 'novos', 'casos', 'de', 'COVID19', 'e', 'com', 'taxa', 'de', 'ocupação', 'dos', 'serviços', 'atingido', 'níveis', 'críticos', 'agregando', 'as', 'seguintes', 'providências', 'Suspensão', 'de', 'todas', 'as', 'atividades', 'não', 'essenciais', 'à', 'manutenção', 'da', 'vida', 'e', 'da', 'saúde', 'apenas', 'autorizando', 'o', 'funcionamento', 'dos', 'serviços', 'considerados', 'essenciais', 'por', 'sua', 'natureza', 'Adoção', 'de', 'medidas', 'de', 'orientação', 'e', 'de', 'sanção', 'administrativa', 'quando', 'houver', 'infração', 'às', 'medidas', 'de', 'restrição', 'social', 'podendo', 'serem', 'aplicadas', 'em', 'áreas', 'especificas', 'de', 'uma', 'cidade', 'bairros', 'distritos', 'setores', 'Restrição', 'da', 'circulação', 'de', 'pessoas', 'e', 'de', 'veículos', 'particulares', 'somente', 'com', 'uso', 'de', 'máscaras', 'salvo', 'transporte', 'de', 'pessoas', 'no', 'itinerário', 'e', 'no', 'exercício', 'de', 'serviços', 'considerados', 'como', 'essenciais', 'com', 'ampliação', 'de', 'medidas', 'informativas', 'e', 'educativas', 'monitoramento', 'do', 'cumprimento', 'em', 'veículos', 'de', 'transporte', 'coletivo', 'e', 'Mobilização', 'das', 'Forças', 'Armadas', 'e', 'de', 'Segurança', 'pelos', 'poderes', 'Estaduais', 'e', 'Municipais', 'pela', 'via', 'de', 'parcerias', 'intersetoriais', 'entre', 'os', 'órgãos', 'com', 'vistas', 'ao', 'cumprimento', 'dos', 'protocolos', 'de', 'emergência', 'para', 'a', 'adoção', 'de', 'bloqueio', 'total', 'lockdown', 'quando', 'necessário', 'com', 'planejamento', 'antecipado', 'ao', 'limite', 'de', 'ocupação', 'de', 'leitos', 'na', 'rede', 'local', 'de', 'saúde']\n"
     ]
    }
   ],
   "source": [
    "# Tokenizando  - texto\n",
    "\n",
    "tokens = nltk.word_tokenize(text_sem_pontuar)\n",
    "print(tokens)"
   ]
  },
  {
   "cell_type": "code",
   "execution_count": 7,
   "id": "b507275f",
   "metadata": {},
   "outputs": [
    {
     "name": "stdout",
     "output_type": "stream",
     "text": [
      "Palavras removidas: \n",
      "\n",
      "['a', 'à', 'ao', 'aos', 'aquela', 'aquelas', 'aquele', 'aqueles', 'aquilo', 'as', 'às', 'até', 'com', 'como', 'da', 'das', 'de', 'dela', 'delas', 'dele', 'deles', 'depois', 'do', 'dos', 'e', 'é', 'ela', 'elas', 'ele', 'eles', 'em', 'entre', 'era', 'eram', 'éramos', 'essa', 'essas', 'esse', 'esses', 'esta', 'está', 'estamos', 'estão', 'estar', 'estas', 'estava', 'estavam', 'estávamos', 'este', 'esteja', 'estejam', 'estejamos', 'estes', 'esteve', 'estive', 'estivemos', 'estiver', 'estivera', 'estiveram', 'estivéramos', 'estiverem', 'estivermos', 'estivesse', 'estivessem', 'estivéssemos', 'estou', 'eu', 'foi', 'fomos', 'for', 'fora', 'foram', 'fôramos', 'forem', 'formos', 'fosse', 'fossem', 'fôssemos', 'fui', 'há', 'haja', 'hajam', 'hajamos', 'hão', 'havemos', 'haver', 'hei', 'houve', 'houvemos', 'houver', 'houvera', 'houverá', 'houveram', 'houvéramos', 'houverão', 'houverei', 'houverem', 'houveremos', 'houveria', 'houveriam', 'houveríamos', 'houvermos', 'houvesse', 'houvessem', 'houvéssemos', 'isso', 'isto', 'já', 'lhe', 'lhes', 'mais', 'mas', 'me', 'mesmo', 'meu', 'meus', 'minha', 'minhas', 'muito', 'na', 'não', 'nas', 'nem', 'no', 'nos', 'nós', 'nossa', 'nossas', 'nosso', 'nossos', 'num', 'numa', 'o', 'os', 'ou', 'para', 'pela', 'pelas', 'pelo', 'pelos', 'por', 'qual', 'quando', 'que', 'quem', 'são', 'se', 'seja', 'sejam', 'sejamos', 'sem', 'ser', 'será', 'serão', 'serei', 'seremos', 'seria', 'seriam', 'seríamos', 'seu', 'seus', 'só', 'somos', 'sou', 'sua', 'suas', 'também', 'te', 'tem', 'tém', 'temos', 'tenha', 'tenham', 'tenhamos', 'tenho', 'terá', 'terão', 'terei', 'teremos', 'teria', 'teriam', 'teríamos', 'teu', 'teus', 'teve', 'tinha', 'tinham', 'tínhamos', 'tive', 'tivemos', 'tiver', 'tivera', 'tiveram', 'tivéramos', 'tiverem', 'tivermos', 'tivesse', 'tivessem', 'tivéssemos', 'tu', 'tua', 'tuas', 'um', 'uma', 'você', 'vocês', 'vos'] \n",
      "\n",
      "Texto após remoção das stopwords: \n",
      "\n",
      " ['Ao', 'Ministério', 'Saúde', 'Governadores', 'Estados', 'Distrito', 'Federal', 'Secretários', 'Estaduais', 'Saúde', 'Prefeitos', 'Municipais', 'Secretários', 'Municipais', 'Saúde', 'Que', 'implementadas', 'medidas', 'garantam', 'menos', '60', 'população', 'distanciamento', 'social', 'superiores', 'agravando', 'ocupação', 'leitos', 'maneira', 'progressiva', 'efetiva', 'medida', 'sanitária', 'excepcional', 'necessária', 'Que', 'adotadas', 'medidas', 'distanciamento', 'social', 'rigoroso', 'contenção', 'comunitária', 'bloqueio', 'inglês', 'lockdown', 'municípios', 'ocorrência', 'acelerada', 'novos', 'casos', 'COVID19', 'taxa', 'ocupação', 'serviços', 'atingido', 'níveis', 'críticos', 'agregando', 'seguintes', 'providências', 'Suspensão', 'todas', 'atividades', 'não', 'essenciais', 'à', 'manutenção', 'vida', 'saúde', 'apenas', 'autorizando', 'funcionamento', 'serviços', 'considerados', 'essenciais', 'natureza', 'Adoção', 'medidas', 'orientação', 'sanção', 'administrativa', 'infração', 'às', 'medidas', 'restrição', 'social', 'podendo', 'serem', 'aplicadas', 'áreas', 'especificas', 'cidade', 'bairros', 'distritos', 'setores', 'Restrição', 'circulação', 'pessoas', 'veículos', 'particulares', 'somente', 'uso', 'máscaras', 'salvo', 'transporte', 'pessoas', 'itinerário', 'exercício', 'serviços', 'considerados', 'essenciais', 'ampliação', 'medidas', 'informativas', 'educativas', 'monitoramento', 'cumprimento', 'veículos', 'transporte', 'coletivo', 'Mobilização', 'Forças', 'Armadas', 'Segurança', 'poderes', 'Estaduais', 'Municipais', 'via', 'parcerias', 'intersetoriais', 'órgãos', 'vistas', 'cumprimento', 'protocolos', 'emergência', 'adoção', 'bloqueio', 'total', 'lockdown', 'necessário', 'planejamento', 'antecipado', 'limite', 'ocupação', 'leitos', 'rede', 'local', 'saúde']\n"
     ]
    },
    {
     "name": "stderr",
     "output_type": "stream",
     "text": [
      "[nltk_data] Downloading package stopwords to\n",
      "[nltk_data]     /home/patrick/nltk_data...\n",
      "[nltk_data]   Package stopwords is already up-to-date!\n"
     ]
    }
   ],
   "source": [
    "# remoção de Stapwords - ou seja, remoção de palavras que não causam prejuijo ao sentido do texto\n",
    "\n",
    "from nltk.corpus import stopwords\n",
    "\n",
    "nltk.download('stopwords')\n",
    "stopwords = stopwords.words('portuguese')\n",
    "\n",
    "palavras_play = [palavra for palavra in tokens if palavra not in stopwords]\n",
    "print(f'Palavras removidas: \\n\\n{stopwords} \\n')\n",
    "\n",
    "print(f'Texto após remoção das stopwords: \\n\\n {palavras_play}')"
   ]
  },
  {
   "cell_type": "code",
   "execution_count": 8,
   "id": "c01cd7a4",
   "metadata": {},
   "outputs": [],
   "source": [
    "palavras_selecionadas = ', '.join(palavras_play)"
   ]
  },
  {
   "cell_type": "code",
   "execution_count": 9,
   "id": "1f8c0bf5",
   "metadata": {},
   "outputs": [
    {
     "data": {
      "text/plain": [
       "1562"
      ]
     },
     "execution_count": 9,
     "metadata": {},
     "output_type": "execute_result"
    }
   ],
   "source": [
    "# Criando arquivo e gravando palavras selecionadas nele\n",
    "arquivo = open('selecionadas_CNS_DS_2020.txt', 'w')\n",
    "arquivo.write(palavras_selecionadas)"
   ]
  },
  {
   "cell_type": "code",
   "execution_count": 1,
   "id": "ed53441f",
   "metadata": {},
   "outputs": [
    {
     "name": "stdout",
     "output_type": "stream",
     "text": [
      "Ao, Ministério, Saúde, Governadores, Estados, Distrito, Federal, Secretários, Estaduais, Saúde, Prefeitos, Municipais, Secretários, Municipais, Saúde, Que, implementadas, medidas, garantam, menos, 60, população, distanciamento, social, superiores, agravando, ocupação, leitos, maneira, progressiva, efetiva, medida, sanitária, excepcional, necessária, Que, adotadas, medidas, distanciamento, social, rigoroso, contenção, comunitária, bloqueio, inglês, lockdown, municípios, ocorrência, acelerada, novos, casos, COVID19, taxa, ocupação, serviços, atingido, níveis, críticos, agregando, seguintes, providências, Suspensão, todas, atividades, não, essenciais, à, manutenção, vida, saúde, apenas, autorizando, funcionamento, serviços, considerados, essenciais, natureza, Adoção, medidas, orientação, sanção, administrativa, infração, às, medidas, restrição, social, podendo, serem, aplicadas, áreas, especificas, cidade, bairros, distritos, setores, Restrição, circulação, pessoas, veículos, particulares, somente, uso, máscaras, salvo, transporte, pessoas, itinerário, exercício, serviços, considerados, essenciais, ampliação, medidas, informativas, educativas, monitoramento, cumprimento, veículos, transporte, coletivo, Mobilização, Forças, Armadas, Segurança, poderes, Estaduais, Municipais, via, parcerias, intersetoriais, órgãos, vistas, cumprimento, protocolos, emergência, adoção, bloqueio, total, lockdown, necessário, planejamento, antecipado, limite, ocupação, leitos, rede, local, saúde\n"
     ]
    }
   ],
   "source": [
    "# abrindo arquivo com as palavras selecionadas \n",
    "texto2 = open('selecionadas_CNS_DS_2020.txt','r',encoding='UTF=8').read()\n",
    "print(texto2)"
   ]
  },
  {
   "cell_type": "code",
   "execution_count": 2,
   "id": "a82c3856",
   "metadata": {},
   "outputs": [
    {
     "name": "stdout",
     "output_type": "stream",
     "text": [
      "O texto apresenta 1562 palavras no total.\n"
     ]
    }
   ],
   "source": [
    "# Contar o quantidade de palavras no texto\n",
    "qt_palavras = len(texto2)\n",
    "print(f'O texto apresenta {qt_palavras} palavras no total.')"
   ]
  },
  {
   "cell_type": "code",
   "execution_count": 3,
   "id": "7bfa9d6e",
   "metadata": {},
   "outputs": [
    {
     "name": "stdout",
     "output_type": "stream",
     "text": [
      "\n",
      "Frequência das palavras:{'ao': 1, 'ministério': 1, 'saúde': 5, 'governadores': 1, 'estados': 1, 'distrito': 1, 'federal': 1, 'secretários': 2, 'estaduais': 2, 'prefeitos': 1, 'municipais': 3, 'que': 2, 'implementadas': 1, 'medidas': 5, 'garantam': 1, 'menos': 1, '60': 1, 'população': 1, 'distanciamento': 2, 'social': 3, 'superiores': 1, 'agravando': 1, 'ocupação': 3, 'leitos': 2, 'maneira': 1, 'progressiva': 1, 'efetiva': 1, 'medida': 1, 'sanitária': 1, 'excepcional': 1, 'necessária': 1, 'adotadas': 1, 'rigoroso': 1, 'contenção': 1, 'comunitária': 1, 'bloqueio': 2, 'inglês': 1, 'lockdown': 2, 'municípios': 1, 'ocorrência': 1, 'acelerada': 1, 'novos': 1, 'casos': 1, 'covid19': 1, 'taxa': 1, 'serviços': 3, 'atingido': 1, 'níveis': 1, 'críticos': 1, 'agregando': 1, 'seguintes': 1, 'providências': 1, 'suspensão': 1, 'todas': 1, 'atividades': 1, 'não': 1, 'essenciais': 3, 'à': 1, 'manutenção': 1, 'vida': 1, 'apenas': 1, 'autorizando': 1, 'funcionamento': 1, 'considerados': 2, 'natureza': 1, 'adoção': 2, 'orientação': 1, 'sanção': 1, 'administrativa': 1, 'infração': 1, 'às': 1, 'restrição': 2, 'podendo': 1, 'serem': 1, 'aplicadas': 1, 'áreas': 1, 'especificas': 1, 'cidade': 1, 'bairros': 1, 'distritos': 1, 'setores': 1, 'circulação': 1, 'pessoas': 2, 'veículos': 2, 'particulares': 1, 'somente': 1, 'uso': 1, 'máscaras': 1, 'salvo': 1, 'transporte': 2, 'itinerário': 1, 'exercício': 1, 'ampliação': 1, 'informativas': 1, 'educativas': 1, 'monitoramento': 1, 'cumprimento': 2, 'coletivo': 1, 'mobilização': 1, 'forças': 1, 'armadas': 1, 'segurança': 1, 'poderes': 1, 'via': 1, 'parcerias': 1, 'intersetoriais': 1, 'órgãos': 1, 'vistas': 1, 'protocolos': 1, 'emergência': 1, 'total': 1, 'necessário': 1, 'planejamento': 1, 'antecipado': 1, 'limite': 1, 'rede': 1, 'local': 1}\n"
     ]
    }
   ],
   "source": [
    "# Tratamento de caracteres indesejados é a frequência daquela palavra.\n",
    "import text as text\n",
    "freq = text.bag_of_words('selecionadas_CNS_DS_2020.txt')\n",
    "\n",
    "# Imprimir a frequencia de cada palavra\n",
    "print(f'\\nFrequência das palavras:{freq}')"
   ]
  },
  {
   "cell_type": "code",
   "execution_count": 4,
   "id": "c7634c31",
   "metadata": {},
   "outputs": [
    {
     "name": "stdout",
     "output_type": "stream",
     "text": [
      "Classificação das palavras pela frequência: {'saúde': 5, 'medidas': 5, 'municipais': 3, 'social': 3, 'ocupação': 3, 'serviços': 3, 'essenciais': 3, 'secretários': 2, 'estaduais': 2, 'que': 2, 'distanciamento': 2, 'leitos': 2, 'bloqueio': 2, 'lockdown': 2, 'considerados': 2, 'adoção': 2, 'restrição': 2, 'pessoas': 2, 'veículos': 2, 'transporte': 2, 'cumprimento': 2, 'ao': 1, 'ministério': 1, 'governadores': 1, 'estados': 1, 'distrito': 1, 'federal': 1, 'prefeitos': 1, 'implementadas': 1, 'garantam': 1, 'menos': 1, '60': 1, 'população': 1, 'superiores': 1, 'agravando': 1, 'maneira': 1, 'progressiva': 1, 'efetiva': 1, 'medida': 1, 'sanitária': 1, 'excepcional': 1, 'necessária': 1, 'adotadas': 1, 'rigoroso': 1, 'contenção': 1, 'comunitária': 1, 'inglês': 1, 'municípios': 1, 'ocorrência': 1, 'acelerada': 1, 'novos': 1, 'casos': 1, 'covid19': 1, 'taxa': 1, 'atingido': 1, 'níveis': 1, 'críticos': 1, 'agregando': 1, 'seguintes': 1, 'providências': 1, 'suspensão': 1, 'todas': 1, 'atividades': 1, 'não': 1, 'à': 1, 'manutenção': 1, 'vida': 1, 'apenas': 1, 'autorizando': 1, 'funcionamento': 1, 'natureza': 1, 'orientação': 1, 'sanção': 1, 'administrativa': 1, 'infração': 1, 'às': 1, 'podendo': 1, 'serem': 1, 'aplicadas': 1, 'áreas': 1, 'especificas': 1, 'cidade': 1, 'bairros': 1, 'distritos': 1, 'setores': 1, 'circulação': 1, 'particulares': 1, 'somente': 1, 'uso': 1, 'máscaras': 1, 'salvo': 1, 'itinerário': 1, 'exercício': 1, 'ampliação': 1, 'informativas': 1, 'educativas': 1, 'monitoramento': 1, 'coletivo': 1, 'mobilização': 1, 'forças': 1, 'armadas': 1, 'segurança': 1, 'poderes': 1, 'via': 1, 'parcerias': 1, 'intersetoriais': 1, 'órgãos': 1, 'vistas': 1, 'protocolos': 1, 'emergência': 1, 'total': 1, 'necessário': 1, 'planejamento': 1, 'antecipado': 1, 'limite': 1, 'rede': 1, 'local': 1}\n",
      "\n"
     ]
    }
   ],
   "source": [
    "# Retorna as palavras classificadas pelo maior frequencia\n",
    "most = text.most_frequent(freq, qt_palavras)\n",
    "print(f'Classificação das palavras pela frequência: {most}\\n')"
   ]
  },
  {
   "cell_type": "code",
   "execution_count": 5,
   "id": "1d102987",
   "metadata": {},
   "outputs": [],
   "source": [
    "# Criar um arquivo de saída chamado palavras_ANVISA_HM_2020.csv contendo as palavras e suas frequências.\n",
    "arquivo_saida = open(\"palavras_CNS_DS_2020.csv\",\"w\") "
   ]
  },
  {
   "cell_type": "code",
   "execution_count": 6,
   "id": "993cbbd8",
   "metadata": {},
   "outputs": [],
   "source": [
    "# Gravando palavras e frequência no arquivo csv\n",
    "import text as text\n",
    "grava = text.write_frequencies_csv(\"palavras_CNS_DS_2020.csv\", freq)"
   ]
  },
  {
   "cell_type": "code",
   "execution_count": 7,
   "id": "2f2bcdd8",
   "metadata": {},
   "outputs": [
    {
     "data": {
      "text/html": [
       "<div>\n",
       "<style scoped>\n",
       "    .dataframe tbody tr th:only-of-type {\n",
       "        vertical-align: middle;\n",
       "    }\n",
       "\n",
       "    .dataframe tbody tr th {\n",
       "        vertical-align: top;\n",
       "    }\n",
       "\n",
       "    .dataframe thead th {\n",
       "        text-align: right;\n",
       "    }\n",
       "</style>\n",
       "<table border=\"1\" class=\"dataframe\">\n",
       "  <thead>\n",
       "    <tr style=\"text-align: right;\">\n",
       "      <th></th>\n",
       "      <th>Palavras</th>\n",
       "      <th>Frequência</th>\n",
       "    </tr>\n",
       "  </thead>\n",
       "  <tbody>\n",
       "    <tr>\n",
       "      <th>0</th>\n",
       "      <td>ao</td>\n",
       "      <td>1</td>\n",
       "    </tr>\n",
       "    <tr>\n",
       "      <th>1</th>\n",
       "      <td>ministério</td>\n",
       "      <td>1</td>\n",
       "    </tr>\n",
       "    <tr>\n",
       "      <th>2</th>\n",
       "      <td>saúde</td>\n",
       "      <td>5</td>\n",
       "    </tr>\n",
       "    <tr>\n",
       "      <th>3</th>\n",
       "      <td>governadores</td>\n",
       "      <td>1</td>\n",
       "    </tr>\n",
       "    <tr>\n",
       "      <th>4</th>\n",
       "      <td>estados</td>\n",
       "      <td>1</td>\n",
       "    </tr>\n",
       "    <tr>\n",
       "      <th>...</th>\n",
       "      <td>...</td>\n",
       "      <td>...</td>\n",
       "    </tr>\n",
       "    <tr>\n",
       "      <th>112</th>\n",
       "      <td>planejamento</td>\n",
       "      <td>1</td>\n",
       "    </tr>\n",
       "    <tr>\n",
       "      <th>113</th>\n",
       "      <td>antecipado</td>\n",
       "      <td>1</td>\n",
       "    </tr>\n",
       "    <tr>\n",
       "      <th>114</th>\n",
       "      <td>limite</td>\n",
       "      <td>1</td>\n",
       "    </tr>\n",
       "    <tr>\n",
       "      <th>115</th>\n",
       "      <td>rede</td>\n",
       "      <td>1</td>\n",
       "    </tr>\n",
       "    <tr>\n",
       "      <th>116</th>\n",
       "      <td>local</td>\n",
       "      <td>1</td>\n",
       "    </tr>\n",
       "  </tbody>\n",
       "</table>\n",
       "<p>117 rows × 2 columns</p>\n",
       "</div>"
      ],
      "text/plain": [
       "         Palavras  Frequência\n",
       "0              ao           1\n",
       "1     ministério           1\n",
       "2          saúde           5\n",
       "3    governadores           1\n",
       "4         estados           1\n",
       "..            ...         ...\n",
       "112  planejamento           1\n",
       "113    antecipado           1\n",
       "114        limite           1\n",
       "115          rede           1\n",
       "116         local           1\n",
       "\n",
       "[117 rows x 2 columns]"
      ]
     },
     "execution_count": 7,
     "metadata": {},
     "output_type": "execute_result"
    }
   ],
   "source": [
    "# Carregando e visualizando dados do arquivo csv\n",
    "import pandas as pd\n",
    "data = pd.read_csv('palavras_CNS_DS_2020.csv', sep=';')\n",
    "data"
   ]
  }
 ],
 "metadata": {
  "kernelspec": {
   "display_name": "Python 3 (ipykernel)",
   "language": "python",
   "name": "python3"
  },
  "language_info": {
   "codemirror_mode": {
    "name": "ipython",
    "version": 3
   },
   "file_extension": ".py",
   "mimetype": "text/x-python",
   "name": "python",
   "nbconvert_exporter": "python",
   "pygments_lexer": "ipython3",
   "version": "3.9.12"
  }
 },
 "nbformat": 4,
 "nbformat_minor": 5
}
