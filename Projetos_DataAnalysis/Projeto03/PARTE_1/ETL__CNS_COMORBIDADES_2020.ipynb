{
 "cells": [
  {
   "cell_type": "markdown",
   "id": "a4bb9b7f",
   "metadata": {},
   "source": [
    "# Preparando o texto para análise\n",
    "\n",
    "Arquivo de entrada: **CNS_COMORBIDADES_2020.txt**\n",
    "\n",
    "Arquivo pós-tratamento: **selecionadas_CNS_COMORBIDADES_2020.txt**\n",
    "\n",
    "Arquivo de saída: **palavras_CNS_COMORBIDADES_2020.csv**\n",
    "\n",
    "## ETAPAS\n",
    "1 - extração;\n",
    "\n",
    "2 - tratamento;\n",
    "\n",
    "3 - limpeza;\n",
    "\n",
    "4 - seleção das palavras a serem analisadas;\n",
    "\n",
    "5 - armazenamento das palavras selecionadas em arquivo separado (ARQUIVO PÓS-TRATAMENTO);\n",
    "\n",
    "6 - contagem da frequência das palavras serem analisadas;\n",
    "\n",
    "7 - criação de um dataframe para armazenamento dos dados com a frequência das palavras a serem analisadas;\n",
    "\n",
    "8 - armazenamento do dataframe em arquivo separado (ARQUIVO DE SAÍDA)."
   ]
  },
  {
   "cell_type": "code",
   "execution_count": 1,
   "id": "b6adf867",
   "metadata": {},
   "outputs": [],
   "source": [
    "# importando biblioteca a serem utilizadas no projeto\n",
    "import re\n",
    "import nltk\n",
    "from nltk import word_tokenize\n",
    "from nltk.corpus import stopwords\n",
    "import string\n",
    "import text as text"
   ]
  },
  {
   "cell_type": "code",
   "execution_count": 2,
   "id": "015de030",
   "metadata": {},
   "outputs": [
    {
     "name": "stdout",
     "output_type": "stream",
     "text": [
      "Ao Ministério da Saúde, que, no âmbito de sua competência:\n",
      "Apresente medidas efetivas de proteção à saúde e planos de apoio às Pessoas com Doenças Crônicas e Patologias durante a epidemia da SARS-COV-2, com vistas a reduzir o risco de desenvolvimento de co-morbidades e óbito;\n",
      "Priorize as Pessoas com Doenças Crônicas e Patologias em suas ações, como a imunização/vacinação contra gripe, além do registro e alimentação de dados relacionados com a testagem prioritária reivindicada para essa população especificada, podendo gerar análises de impacto sobre a SARS-COV-2 nesta população, fortalecendo a vigilância epidemiológica e as ações de cuidado e apoio durante a epidemia, com base no risco potencial existente;\n",
      "Apresente fluxos e alternativas ao acesso de medicamentos com a estratégia de fornecimento ampliado (bi ou trimestral) e demais itens necessários para manutenção da vida de pessoas vivendo com patologias durante o período de isolamento social, contribuindo para a manutenção destas pessoas com risco potencial no isolamento domiciliar protetivo;\n",
      "Construa protocolos específicos de atendimento às Pessoas com Doenças Crônicas e Patologias, especificamente na manutenção de formas remotas de contato dos pacientes com seus respectivos Médicos Especialistas nos ambulatórios públicos ou privados de acompanhamento da patologia, como forma de apoio no acompanhamento em caso de adoecimento, e/ou em caso de internação, permitam o acompanhamento de seus cuidadores/responsáveis com informações pertinentes a doença crônica ou patologia de base do/da Usuário (a),  após concordância do mesmo, com vistas a utilizar das melhores estratégias possíveis de tratamento e cuidado relacionadas com a co-infecção pelo COVID-19; e\n",
      "Invista numa política de testagem massiva para todos de forma integral ao tratamento a fim de:\n",
      "permitir a mensuração consistente do número de infecções e do índice de letalidade real da doença;\n",
      "promover o conhecimento sobre o status sorológico em tempo hábil para que o tratamento mais adequado seja realizado, evitando o desenvolvimento de um quadro mais grave, ou mesmo de morte, garantindo o direito ao acesso à saúde; e\n",
      "assim como evitar a proliferação do vírus, uma vez que as medidas de isolamento e monitoramento dos casos pode ser realizada de forma mais eficaz.\n"
     ]
    }
   ],
   "source": [
    "# abrindo arquivo e colocando o texto em minusculo\n",
    "texto = open('CNS_COMORBIDADES_2020.txt','r',encoding='UTF=8').read()\n",
    "print(texto)"
   ]
  },
  {
   "cell_type": "code",
   "execution_count": 3,
   "id": "3a5221cd",
   "metadata": {},
   "outputs": [
    {
     "name": "stdout",
     "output_type": "stream",
     "text": [
      "Quantidade total de palavras do texto: 2301\n"
     ]
    }
   ],
   "source": [
    "# Contando o total de palavras do texto\n",
    "t_linhas = len(texto)\n",
    "print('Quantidade total de palavras do texto:', t_linhas)"
   ]
  },
  {
   "cell_type": "code",
   "execution_count": 4,
   "id": "cb115edb",
   "metadata": {},
   "outputs": [
    {
     "name": "stdout",
     "output_type": "stream",
     "text": [
      "ao ministério da saúde, que, no âmbito de sua competência:\n",
      "apresente medidas efetivas de proteção à saúde e planos de apoio às pessoas com doenças crônicas e patologias durante a epidemia da sars-cov-2, com vistas a reduzir o risco de desenvolvimento de co-morbidades e óbito;\n",
      "priorize as pessoas com doenças crônicas e patologias em suas ações, como a imunização/vacinação contra gripe, além do registro e alimentação de dados relacionados com a testagem prioritária reivindicada para essa população especificada, podendo gerar análises de impacto sobre a sars-cov-2 nesta população, fortalecendo a vigilância epidemiológica e as ações de cuidado e apoio durante a epidemia, com base no risco potencial existente;\n",
      "apresente fluxos e alternativas ao acesso de medicamentos com a estratégia de fornecimento ampliado (bi ou trimestral) e demais itens necessários para manutenção da vida de pessoas vivendo com patologias durante o período de isolamento social, contribuindo para a manutenção destas pessoas com risco potencial no isolamento domiciliar protetivo;\n",
      "construa protocolos específicos de atendimento às pessoas com doenças crônicas e patologias, especificamente na manutenção de formas remotas de contato dos pacientes com seus respectivos médicos especialistas nos ambulatórios públicos ou privados de acompanhamento da patologia, como forma de apoio no acompanhamento em caso de adoecimento, e/ou em caso de internação, permitam o acompanhamento de seus cuidadores/responsáveis com informações pertinentes a doença crônica ou patologia de base do/da usuário (a),  após concordância do mesmo, com vistas a utilizar das melhores estratégias possíveis de tratamento e cuidado relacionadas com a co-infecção pelo covid-19; e\n",
      "invista numa política de testagem massiva para todos de forma integral ao tratamento a fim de:\n",
      "permitir a mensuração consistente do número de infecções e do índice de letalidade real da doença;\n",
      "promover o conhecimento sobre o status sorológico em tempo hábil para que o tratamento mais adequado seja realizado, evitando o desenvolvimento de um quadro mais grave, ou mesmo de morte, garantindo o direito ao acesso à saúde; e\n",
      "assim como evitar a proliferação do vírus, uma vez que as medidas de isolamento e monitoramento dos casos pode ser realizada de forma mais eficaz.\n"
     ]
    }
   ],
   "source": [
    "# reabrindo arquivo e colocando o texto em minusculo\n",
    "\n",
    "arquivo = open('CNS_COMORBIDADES_2020.txt','r',encoding='UTF=8').read()\n",
    "texto_lower = arquivo.lower()\n",
    "\n",
    "print(texto_lower)"
   ]
  },
  {
   "cell_type": "code",
   "execution_count": 5,
   "id": "560a366a",
   "metadata": {},
   "outputs": [
    {
     "name": "stdout",
     "output_type": "stream",
     "text": [
      "Ao Ministério da Saúde que no âmbito de sua competência\n",
      "Apresente medidas efetivas de proteção à saúde e planos de apoio às Pessoas com Doenças Crônicas e Patologias durante a epidemia da SARSCOV2 com vistas a reduzir o risco de desenvolvimento de comorbidades e óbito\n",
      "Priorize as Pessoas com Doenças Crônicas e Patologias em suas ações como a imunizaçãovacinação contra gripe além do registro e alimentação de dados relacionados com a testagem prioritária reivindicada para essa população especificada podendo gerar análises de impacto sobre a SARSCOV2 nesta população fortalecendo a vigilância epidemiológica e as ações de cuidado e apoio durante a epidemia com base no risco potencial existente\n",
      "Apresente fluxos e alternativas ao acesso de medicamentos com a estratégia de fornecimento ampliado bi ou trimestral e demais itens necessários para manutenção da vida de pessoas vivendo com patologias durante o período de isolamento social contribuindo para a manutenção destas pessoas com risco potencial no isolamento domiciliar protetivo\n",
      "Construa protocolos específicos de atendimento às Pessoas com Doenças Crônicas e Patologias especificamente na manutenção de formas remotas de contato dos pacientes com seus respectivos Médicos Especialistas nos ambulatórios públicos ou privados de acompanhamento da patologia como forma de apoio no acompanhamento em caso de adoecimento eou em caso de internação permitam o acompanhamento de seus cuidadoresresponsáveis com informações pertinentes a doença crônica ou patologia de base doda Usuário a  após concordância do mesmo com vistas a utilizar das melhores estratégias possíveis de tratamento e cuidado relacionadas com a coinfecção pelo COVID19 e\n",
      "Invista numa política de testagem massiva para todos de forma integral ao tratamento a fim de\n",
      "permitir a mensuração consistente do número de infecções e do índice de letalidade real da doença\n",
      "promover o conhecimento sobre o status sorológico em tempo hábil para que o tratamento mais adequado seja realizado evitando o desenvolvimento de um quadro mais grave ou mesmo de morte garantindo o direito ao acesso à saúde e\n",
      "assim como evitar a proliferação do vírus uma vez que as medidas de isolamento e monitoramento dos casos pode ser realizada de forma mais eficaz\n"
     ]
    }
   ],
   "source": [
    " # remoção de pontuação\n",
    "    \n",
    "text_sem_pontuar = ''.join ([palavra for palavra in texto if palavra not in string.punctuation])\n",
    "print(text_sem_pontuar)"
   ]
  },
  {
   "cell_type": "code",
   "execution_count": 6,
   "id": "9dbe23c0",
   "metadata": {},
   "outputs": [
    {
     "name": "stdout",
     "output_type": "stream",
     "text": [
      "['Ao', 'Ministério', 'da', 'Saúde', 'que', 'no', 'âmbito', 'de', 'sua', 'competência', 'Apresente', 'medidas', 'efetivas', 'de', 'proteção', 'à', 'saúde', 'e', 'planos', 'de', 'apoio', 'às', 'Pessoas', 'com', 'Doenças', 'Crônicas', 'e', 'Patologias', 'durante', 'a', 'epidemia', 'da', 'SARSCOV2', 'com', 'vistas', 'a', 'reduzir', 'o', 'risco', 'de', 'desenvolvimento', 'de', 'comorbidades', 'e', 'óbito', 'Priorize', 'as', 'Pessoas', 'com', 'Doenças', 'Crônicas', 'e', 'Patologias', 'em', 'suas', 'ações', 'como', 'a', 'imunizaçãovacinação', 'contra', 'gripe', 'além', 'do', 'registro', 'e', 'alimentação', 'de', 'dados', 'relacionados', 'com', 'a', 'testagem', 'prioritária', 'reivindicada', 'para', 'essa', 'população', 'especificada', 'podendo', 'gerar', 'análises', 'de', 'impacto', 'sobre', 'a', 'SARSCOV2', 'nesta', 'população', 'fortalecendo', 'a', 'vigilância', 'epidemiológica', 'e', 'as', 'ações', 'de', 'cuidado', 'e', 'apoio', 'durante', 'a', 'epidemia', 'com', 'base', 'no', 'risco', 'potencial', 'existente', 'Apresente', 'fluxos', 'e', 'alternativas', 'ao', 'acesso', 'de', 'medicamentos', 'com', 'a', 'estratégia', 'de', 'fornecimento', 'ampliado', 'bi', 'ou', 'trimestral', 'e', 'demais', 'itens', 'necessários', 'para', 'manutenção', 'da', 'vida', 'de', 'pessoas', 'vivendo', 'com', 'patologias', 'durante', 'o', 'período', 'de', 'isolamento', 'social', 'contribuindo', 'para', 'a', 'manutenção', 'destas', 'pessoas', 'com', 'risco', 'potencial', 'no', 'isolamento', 'domiciliar', 'protetivo', 'Construa', 'protocolos', 'específicos', 'de', 'atendimento', 'às', 'Pessoas', 'com', 'Doenças', 'Crônicas', 'e', 'Patologias', 'especificamente', 'na', 'manutenção', 'de', 'formas', 'remotas', 'de', 'contato', 'dos', 'pacientes', 'com', 'seus', 'respectivos', 'Médicos', 'Especialistas', 'nos', 'ambulatórios', 'públicos', 'ou', 'privados', 'de', 'acompanhamento', 'da', 'patologia', 'como', 'forma', 'de', 'apoio', 'no', 'acompanhamento', 'em', 'caso', 'de', 'adoecimento', 'eou', 'em', 'caso', 'de', 'internação', 'permitam', 'o', 'acompanhamento', 'de', 'seus', 'cuidadoresresponsáveis', 'com', 'informações', 'pertinentes', 'a', 'doença', 'crônica', 'ou', 'patologia', 'de', 'base', 'doda', 'Usuário', 'a', 'após', 'concordância', 'do', 'mesmo', 'com', 'vistas', 'a', 'utilizar', 'das', 'melhores', 'estratégias', 'possíveis', 'de', 'tratamento', 'e', 'cuidado', 'relacionadas', 'com', 'a', 'coinfecção', 'pelo', 'COVID19', 'e', 'Invista', 'numa', 'política', 'de', 'testagem', 'massiva', 'para', 'todos', 'de', 'forma', 'integral', 'ao', 'tratamento', 'a', 'fim', 'de', 'permitir', 'a', 'mensuração', 'consistente', 'do', 'número', 'de', 'infecções', 'e', 'do', 'índice', 'de', 'letalidade', 'real', 'da', 'doença', 'promover', 'o', 'conhecimento', 'sobre', 'o', 'status', 'sorológico', 'em', 'tempo', 'hábil', 'para', 'que', 'o', 'tratamento', 'mais', 'adequado', 'seja', 'realizado', 'evitando', 'o', 'desenvolvimento', 'de', 'um', 'quadro', 'mais', 'grave', 'ou', 'mesmo', 'de', 'morte', 'garantindo', 'o', 'direito', 'ao', 'acesso', 'à', 'saúde', 'e', 'assim', 'como', 'evitar', 'a', 'proliferação', 'do', 'vírus', 'uma', 'vez', 'que', 'as', 'medidas', 'de', 'isolamento', 'e', 'monitoramento', 'dos', 'casos', 'pode', 'ser', 'realizada', 'de', 'forma', 'mais', 'eficaz']\n"
     ]
    }
   ],
   "source": [
    "# Tokenizando  - texto\n",
    "\n",
    "tokens = nltk.word_tokenize(text_sem_pontuar)\n",
    "print(tokens)"
   ]
  },
  {
   "cell_type": "code",
   "execution_count": 7,
   "id": "b507275f",
   "metadata": {},
   "outputs": [
    {
     "name": "stdout",
     "output_type": "stream",
     "text": [
      "Palavras removidas: \n",
      "\n",
      "['a', 'à', 'ao', 'aos', 'aquela', 'aquelas', 'aquele', 'aqueles', 'aquilo', 'as', 'às', 'até', 'com', 'como', 'da', 'das', 'de', 'dela', 'delas', 'dele', 'deles', 'depois', 'do', 'dos', 'e', 'é', 'ela', 'elas', 'ele', 'eles', 'em', 'entre', 'era', 'eram', 'éramos', 'essa', 'essas', 'esse', 'esses', 'esta', 'está', 'estamos', 'estão', 'estar', 'estas', 'estava', 'estavam', 'estávamos', 'este', 'esteja', 'estejam', 'estejamos', 'estes', 'esteve', 'estive', 'estivemos', 'estiver', 'estivera', 'estiveram', 'estivéramos', 'estiverem', 'estivermos', 'estivesse', 'estivessem', 'estivéssemos', 'estou', 'eu', 'foi', 'fomos', 'for', 'fora', 'foram', 'fôramos', 'forem', 'formos', 'fosse', 'fossem', 'fôssemos', 'fui', 'há', 'haja', 'hajam', 'hajamos', 'hão', 'havemos', 'haver', 'hei', 'houve', 'houvemos', 'houver', 'houvera', 'houverá', 'houveram', 'houvéramos', 'houverão', 'houverei', 'houverem', 'houveremos', 'houveria', 'houveriam', 'houveríamos', 'houvermos', 'houvesse', 'houvessem', 'houvéssemos', 'isso', 'isto', 'já', 'lhe', 'lhes', 'mais', 'mas', 'me', 'mesmo', 'meu', 'meus', 'minha', 'minhas', 'muito', 'na', 'não', 'nas', 'nem', 'no', 'nos', 'nós', 'nossa', 'nossas', 'nosso', 'nossos', 'num', 'numa', 'o', 'os', 'ou', 'para', 'pela', 'pelas', 'pelo', 'pelos', 'por', 'qual', 'quando', 'que', 'quem', 'são', 'se', 'seja', 'sejam', 'sejamos', 'sem', 'ser', 'será', 'serão', 'serei', 'seremos', 'seria', 'seriam', 'seríamos', 'seu', 'seus', 'só', 'somos', 'sou', 'sua', 'suas', 'também', 'te', 'tem', 'tém', 'temos', 'tenha', 'tenham', 'tenhamos', 'tenho', 'terá', 'terão', 'terei', 'teremos', 'teria', 'teriam', 'teríamos', 'teu', 'teus', 'teve', 'tinha', 'tinham', 'tínhamos', 'tive', 'tivemos', 'tiver', 'tivera', 'tiveram', 'tivéramos', 'tiverem', 'tivermos', 'tivesse', 'tivessem', 'tivéssemos', 'tu', 'tua', 'tuas', 'um', 'uma', 'você', 'vocês', 'vos'] \n",
      "\n",
      "Texto após remoção das stopwords: \n",
      "\n",
      " ['Ao', 'Ministério', 'Saúde', 'âmbito', 'competência', 'Apresente', 'medidas', 'efetivas', 'proteção', 'saúde', 'planos', 'apoio', 'Pessoas', 'Doenças', 'Crônicas', 'Patologias', 'durante', 'epidemia', 'SARSCOV2', 'vistas', 'reduzir', 'risco', 'desenvolvimento', 'comorbidades', 'óbito', 'Priorize', 'Pessoas', 'Doenças', 'Crônicas', 'Patologias', 'ações', 'imunizaçãovacinação', 'contra', 'gripe', 'além', 'registro', 'alimentação', 'dados', 'relacionados', 'testagem', 'prioritária', 'reivindicada', 'população', 'especificada', 'podendo', 'gerar', 'análises', 'impacto', 'sobre', 'SARSCOV2', 'nesta', 'população', 'fortalecendo', 'vigilância', 'epidemiológica', 'ações', 'cuidado', 'apoio', 'durante', 'epidemia', 'base', 'risco', 'potencial', 'existente', 'Apresente', 'fluxos', 'alternativas', 'acesso', 'medicamentos', 'estratégia', 'fornecimento', 'ampliado', 'bi', 'trimestral', 'demais', 'itens', 'necessários', 'manutenção', 'vida', 'pessoas', 'vivendo', 'patologias', 'durante', 'período', 'isolamento', 'social', 'contribuindo', 'manutenção', 'destas', 'pessoas', 'risco', 'potencial', 'isolamento', 'domiciliar', 'protetivo', 'Construa', 'protocolos', 'específicos', 'atendimento', 'Pessoas', 'Doenças', 'Crônicas', 'Patologias', 'especificamente', 'manutenção', 'formas', 'remotas', 'contato', 'pacientes', 'respectivos', 'Médicos', 'Especialistas', 'ambulatórios', 'públicos', 'privados', 'acompanhamento', 'patologia', 'forma', 'apoio', 'acompanhamento', 'caso', 'adoecimento', 'eou', 'caso', 'internação', 'permitam', 'acompanhamento', 'cuidadoresresponsáveis', 'informações', 'pertinentes', 'doença', 'crônica', 'patologia', 'base', 'doda', 'Usuário', 'após', 'concordância', 'vistas', 'utilizar', 'melhores', 'estratégias', 'possíveis', 'tratamento', 'cuidado', 'relacionadas', 'coinfecção', 'COVID19', 'Invista', 'política', 'testagem', 'massiva', 'todos', 'forma', 'integral', 'tratamento', 'fim', 'permitir', 'mensuração', 'consistente', 'número', 'infecções', 'índice', 'letalidade', 'real', 'doença', 'promover', 'conhecimento', 'sobre', 'status', 'sorológico', 'tempo', 'hábil', 'tratamento', 'adequado', 'realizado', 'evitando', 'desenvolvimento', 'quadro', 'grave', 'morte', 'garantindo', 'direito', 'acesso', 'saúde', 'assim', 'evitar', 'proliferação', 'vírus', 'vez', 'medidas', 'isolamento', 'monitoramento', 'casos', 'pode', 'realizada', 'forma', 'eficaz']\n"
     ]
    },
    {
     "name": "stderr",
     "output_type": "stream",
     "text": [
      "[nltk_data] Downloading package stopwords to\n",
      "[nltk_data]     /home/patrick/nltk_data...\n",
      "[nltk_data]   Package stopwords is already up-to-date!\n"
     ]
    }
   ],
   "source": [
    "# remoção de Stapwords - ou seja, remoção de palavras que não causam prejuijo ao sentido do texto\n",
    "\n",
    "from nltk.corpus import stopwords\n",
    "\n",
    "nltk.download('stopwords')\n",
    "stopwords = stopwords.words('portuguese')\n",
    "\n",
    "palavras_play = [palavra for palavra in tokens if palavra not in stopwords]\n",
    "print(f'Palavras removidas: \\n\\n{stopwords} \\n')\n",
    "\n",
    "print(f'Texto após remoção das stopwords: \\n\\n {palavras_play}')"
   ]
  },
  {
   "cell_type": "code",
   "execution_count": 8,
   "id": "c01cd7a4",
   "metadata": {},
   "outputs": [],
   "source": [
    "palavras_selecionadas = ', '.join(palavras_play)"
   ]
  },
  {
   "cell_type": "code",
   "execution_count": 9,
   "id": "1f8c0bf5",
   "metadata": {},
   "outputs": [
    {
     "data": {
      "text/plain": [
       "1989"
      ]
     },
     "execution_count": 9,
     "metadata": {},
     "output_type": "execute_result"
    }
   ],
   "source": [
    "# Criando arquivo e gravando palavras selecionadas nele\n",
    "arquivo = open('selecionadas_CNS_COMORBIDADES_2020.txt', 'w')\n",
    "arquivo.write(palavras_selecionadas)"
   ]
  },
  {
   "cell_type": "code",
   "execution_count": 1,
   "id": "ed53441f",
   "metadata": {},
   "outputs": [
    {
     "name": "stdout",
     "output_type": "stream",
     "text": [
      "Ao, Ministério, Saúde, âmbito, competência, Apresente, medidas, efetivas, proteção, saúde, planos, apoio, Pessoas, Doenças, Crônicas, Patologias, durante, epidemia, SARSCOV2, vistas, reduzir, risco, desenvolvimento, comorbidades, óbito, Priorize, Pessoas, Doenças, Crônicas, Patologias, ações, imunizaçãovacinação, contra, gripe, além, registro, alimentação, dados, relacionados, testagem, prioritária, reivindicada, população, especificada, podendo, gerar, análises, impacto, sobre, SARSCOV2, nesta, população, fortalecendo, vigilância, epidemiológica, ações, cuidado, apoio, durante, epidemia, base, risco, potencial, existente, Apresente, fluxos, alternativas, acesso, medicamentos, estratégia, fornecimento, ampliado, bi, trimestral, demais, itens, necessários, manutenção, vida, pessoas, vivendo, patologias, durante, período, isolamento, social, contribuindo, manutenção, destas, pessoas, risco, potencial, isolamento, domiciliar, protetivo, Construa, protocolos, específicos, atendimento, Pessoas, Doenças, Crônicas, Patologias, especificamente, manutenção, formas, remotas, contato, pacientes, respectivos, Médicos, Especialistas, ambulatórios, públicos, privados, acompanhamento, patologia, forma, apoio, acompanhamento, caso, adoecimento, eou, caso, internação, permitam, acompanhamento, cuidadoresresponsáveis, informações, pertinentes, doença, crônica, patologia, base, doda, Usuário, após, concordância, vistas, utilizar, melhores, estratégias, possíveis, tratamento, cuidado, relacionadas, coinfecção, COVID19, Invista, política, testagem, massiva, todos, forma, integral, tratamento, fim, permitir, mensuração, consistente, número, infecções, índice, letalidade, real, doença, promover, conhecimento, sobre, status, sorológico, tempo, hábil, tratamento, adequado, realizado, evitando, desenvolvimento, quadro, grave, morte, garantindo, direito, acesso, saúde, assim, evitar, proliferação, vírus, vez, medidas, isolamento, monitoramento, casos, pode, realizada, forma, eficaz\n"
     ]
    }
   ],
   "source": [
    "# abrindo arquivo com as palavras selecionadas \n",
    "texto2 = open('selecionadas_CNS_COMORBIDADES_2020.txt','r',encoding='UTF=8').read()\n",
    "print(texto2)"
   ]
  },
  {
   "cell_type": "code",
   "execution_count": 2,
   "id": "a82c3856",
   "metadata": {},
   "outputs": [
    {
     "name": "stdout",
     "output_type": "stream",
     "text": [
      "O texto apresenta 1989 palavras no total.\n"
     ]
    }
   ],
   "source": [
    "# Contar o quantidade de palavras no texto\n",
    "qt_palavras = len(texto2)\n",
    "print(f'O texto apresenta {qt_palavras} palavras no total.')"
   ]
  },
  {
   "cell_type": "code",
   "execution_count": 3,
   "id": "7bfa9d6e",
   "metadata": {},
   "outputs": [
    {
     "name": "stdout",
     "output_type": "stream",
     "text": [
      "\n",
      "Frequência das palavras:{'ao': 1, 'ministério': 1, 'saúde': 3, 'âmbito': 1, 'competência': 1, 'apresente': 2, 'medidas': 2, 'efetivas': 1, 'proteção': 1, 'planos': 1, 'apoio': 3, 'pessoas': 5, 'doenças': 3, 'crônicas': 3, 'patologias': 4, 'durante': 3, 'epidemia': 2, 'sarscov2': 2, 'vistas': 2, 'reduzir': 1, 'risco': 3, 'desenvolvimento': 2, 'comorbidades': 1, 'óbito': 1, 'priorize': 1, 'ações': 2, 'imunizaçãovacinação': 1, 'contra': 1, 'gripe': 1, 'além': 1, 'registro': 1, 'alimentação': 1, 'dados': 1, 'relacionados': 1, 'testagem': 2, 'prioritária': 1, 'reivindicada': 1, 'população': 2, 'especificada': 1, 'podendo': 1, 'gerar': 1, 'análises': 1, 'impacto': 1, 'sobre': 2, 'nesta': 1, 'fortalecendo': 1, 'vigilância': 1, 'epidemiológica': 1, 'cuidado': 2, 'base': 2, 'potencial': 2, 'existente': 1, 'fluxos': 1, 'alternativas': 1, 'acesso': 2, 'medicamentos': 1, 'estratégia': 1, 'fornecimento': 1, 'ampliado': 1, 'bi': 1, 'trimestral': 1, 'demais': 1, 'itens': 1, 'necessários': 1, 'manutenção': 3, 'vida': 1, 'vivendo': 1, 'período': 1, 'isolamento': 3, 'social': 1, 'contribuindo': 1, 'destas': 1, 'domiciliar': 1, 'protetivo': 1, 'construa': 1, 'protocolos': 1, 'específicos': 1, 'atendimento': 1, 'especificamente': 1, 'formas': 1, 'remotas': 1, 'contato': 1, 'pacientes': 1, 'respectivos': 1, 'médicos': 1, 'especialistas': 1, 'ambulatórios': 1, 'públicos': 1, 'privados': 1, 'acompanhamento': 3, 'patologia': 2, 'forma': 3, 'caso': 2, 'adoecimento': 1, 'eou': 1, 'internação': 1, 'permitam': 1, 'cuidadoresresponsáveis': 1, 'informações': 1, 'pertinentes': 1, 'doença': 2, 'crônica': 1, 'doda': 1, 'usuário': 1, 'após': 1, 'concordância': 1, 'utilizar': 1, 'melhores': 1, 'estratégias': 1, 'possíveis': 1, 'tratamento': 3, 'relacionadas': 1, 'coinfecção': 1, 'covid19': 1, 'invista': 1, 'política': 1, 'massiva': 1, 'todos': 1, 'integral': 1, 'fim': 1, 'permitir': 1, 'mensuração': 1, 'consistente': 1, 'número': 1, 'infecções': 1, 'índice': 1, 'letalidade': 1, 'real': 1, 'promover': 1, 'conhecimento': 1, 'status': 1, 'sorológico': 1, 'tempo': 1, 'hábil': 1, 'adequado': 1, 'realizado': 1, 'evitando': 1, 'quadro': 1, 'grave': 1, 'morte': 1, 'garantindo': 1, 'direito': 1, 'assim': 1, 'evitar': 1, 'proliferação': 1, 'vírus': 1, 'vez': 1, 'monitoramento': 1, 'casos': 1, 'pode': 1, 'realizada': 1, 'eficaz': 1}\n"
     ]
    }
   ],
   "source": [
    "# Tratamento de caracteres indesejados é a frequência daquela palavra.\n",
    "import text as text\n",
    "freq = text.bag_of_words('selecionadas_CNS_COMORBIDADES_2020.txt')\n",
    "\n",
    "# Imprimir a frequencia de cada palavra\n",
    "print(f'\\nFrequência das palavras:{freq}')"
   ]
  },
  {
   "cell_type": "code",
   "execution_count": 4,
   "id": "c7634c31",
   "metadata": {},
   "outputs": [
    {
     "name": "stdout",
     "output_type": "stream",
     "text": [
      "Classificação das palavras pela frequência: {'pessoas': 5, 'patologias': 4, 'saúde': 3, 'apoio': 3, 'doenças': 3, 'crônicas': 3, 'durante': 3, 'risco': 3, 'manutenção': 3, 'isolamento': 3, 'acompanhamento': 3, 'forma': 3, 'tratamento': 3, 'apresente': 2, 'medidas': 2, 'epidemia': 2, 'sarscov2': 2, 'vistas': 2, 'desenvolvimento': 2, 'ações': 2, 'testagem': 2, 'população': 2, 'sobre': 2, 'cuidado': 2, 'base': 2, 'potencial': 2, 'acesso': 2, 'patologia': 2, 'caso': 2, 'doença': 2, 'ao': 1, 'ministério': 1, 'âmbito': 1, 'competência': 1, 'efetivas': 1, 'proteção': 1, 'planos': 1, 'reduzir': 1, 'comorbidades': 1, 'óbito': 1, 'priorize': 1, 'imunizaçãovacinação': 1, 'contra': 1, 'gripe': 1, 'além': 1, 'registro': 1, 'alimentação': 1, 'dados': 1, 'relacionados': 1, 'prioritária': 1, 'reivindicada': 1, 'especificada': 1, 'podendo': 1, 'gerar': 1, 'análises': 1, 'impacto': 1, 'nesta': 1, 'fortalecendo': 1, 'vigilância': 1, 'epidemiológica': 1, 'existente': 1, 'fluxos': 1, 'alternativas': 1, 'medicamentos': 1, 'estratégia': 1, 'fornecimento': 1, 'ampliado': 1, 'bi': 1, 'trimestral': 1, 'demais': 1, 'itens': 1, 'necessários': 1, 'vida': 1, 'vivendo': 1, 'período': 1, 'social': 1, 'contribuindo': 1, 'destas': 1, 'domiciliar': 1, 'protetivo': 1, 'construa': 1, 'protocolos': 1, 'específicos': 1, 'atendimento': 1, 'especificamente': 1, 'formas': 1, 'remotas': 1, 'contato': 1, 'pacientes': 1, 'respectivos': 1, 'médicos': 1, 'especialistas': 1, 'ambulatórios': 1, 'públicos': 1, 'privados': 1, 'adoecimento': 1, 'eou': 1, 'internação': 1, 'permitam': 1, 'cuidadoresresponsáveis': 1, 'informações': 1, 'pertinentes': 1, 'crônica': 1, 'doda': 1, 'usuário': 1, 'após': 1, 'concordância': 1, 'utilizar': 1, 'melhores': 1, 'estratégias': 1, 'possíveis': 1, 'relacionadas': 1, 'coinfecção': 1, 'covid19': 1, 'invista': 1, 'política': 1, 'massiva': 1, 'todos': 1, 'integral': 1, 'fim': 1, 'permitir': 1, 'mensuração': 1, 'consistente': 1, 'número': 1, 'infecções': 1, 'índice': 1, 'letalidade': 1, 'real': 1, 'promover': 1, 'conhecimento': 1, 'status': 1, 'sorológico': 1, 'tempo': 1, 'hábil': 1, 'adequado': 1, 'realizado': 1, 'evitando': 1, 'quadro': 1, 'grave': 1, 'morte': 1, 'garantindo': 1, 'direito': 1, 'assim': 1, 'evitar': 1, 'proliferação': 1, 'vírus': 1, 'vez': 1, 'monitoramento': 1, 'casos': 1, 'pode': 1, 'realizada': 1, 'eficaz': 1}\n",
      "\n"
     ]
    }
   ],
   "source": [
    "# Retorna as palavras classificadas pelo maior frequencia\n",
    "most = text.most_frequent(freq, qt_palavras)\n",
    "print(f'Classificação das palavras pela frequência: {most}\\n')"
   ]
  },
  {
   "cell_type": "code",
   "execution_count": 5,
   "id": "1d102987",
   "metadata": {},
   "outputs": [],
   "source": [
    "# Criar um arquivo de saída chamado palavras_ANVISA_HM_2020.csv contendo as palavras e suas frequências.\n",
    "arquivo_saida = open(\"palavras_CNS_COMORBIDADES_2020.csv\",\"w\") "
   ]
  },
  {
   "cell_type": "code",
   "execution_count": 6,
   "id": "993cbbd8",
   "metadata": {},
   "outputs": [],
   "source": [
    "# Gravando palavras e frequência no arquivo csv\n",
    "import text as text\n",
    "grava = text.write_frequencies_csv(\"palavras_CNS_COMORBIDADES_2020.csv\", freq)"
   ]
  },
  {
   "cell_type": "code",
   "execution_count": 7,
   "id": "2f2bcdd8",
   "metadata": {},
   "outputs": [
    {
     "data": {
      "text/html": [
       "<div>\n",
       "<style scoped>\n",
       "    .dataframe tbody tr th:only-of-type {\n",
       "        vertical-align: middle;\n",
       "    }\n",
       "\n",
       "    .dataframe tbody tr th {\n",
       "        vertical-align: top;\n",
       "    }\n",
       "\n",
       "    .dataframe thead th {\n",
       "        text-align: right;\n",
       "    }\n",
       "</style>\n",
       "<table border=\"1\" class=\"dataframe\">\n",
       "  <thead>\n",
       "    <tr style=\"text-align: right;\">\n",
       "      <th></th>\n",
       "      <th>Palavras</th>\n",
       "      <th>Frequência</th>\n",
       "    </tr>\n",
       "  </thead>\n",
       "  <tbody>\n",
       "    <tr>\n",
       "      <th>0</th>\n",
       "      <td>ao</td>\n",
       "      <td>1</td>\n",
       "    </tr>\n",
       "    <tr>\n",
       "      <th>1</th>\n",
       "      <td>ministério</td>\n",
       "      <td>1</td>\n",
       "    </tr>\n",
       "    <tr>\n",
       "      <th>2</th>\n",
       "      <td>saúde</td>\n",
       "      <td>3</td>\n",
       "    </tr>\n",
       "    <tr>\n",
       "      <th>3</th>\n",
       "      <td>âmbito</td>\n",
       "      <td>1</td>\n",
       "    </tr>\n",
       "    <tr>\n",
       "      <th>4</th>\n",
       "      <td>competência</td>\n",
       "      <td>1</td>\n",
       "    </tr>\n",
       "    <tr>\n",
       "      <th>...</th>\n",
       "      <td>...</td>\n",
       "      <td>...</td>\n",
       "    </tr>\n",
       "    <tr>\n",
       "      <th>147</th>\n",
       "      <td>monitoramento</td>\n",
       "      <td>1</td>\n",
       "    </tr>\n",
       "    <tr>\n",
       "      <th>148</th>\n",
       "      <td>casos</td>\n",
       "      <td>1</td>\n",
       "    </tr>\n",
       "    <tr>\n",
       "      <th>149</th>\n",
       "      <td>pode</td>\n",
       "      <td>1</td>\n",
       "    </tr>\n",
       "    <tr>\n",
       "      <th>150</th>\n",
       "      <td>realizada</td>\n",
       "      <td>1</td>\n",
       "    </tr>\n",
       "    <tr>\n",
       "      <th>151</th>\n",
       "      <td>eficaz</td>\n",
       "      <td>1</td>\n",
       "    </tr>\n",
       "  </tbody>\n",
       "</table>\n",
       "<p>152 rows × 2 columns</p>\n",
       "</div>"
      ],
      "text/plain": [
       "          Palavras  Frequência\n",
       "0               ao           1\n",
       "1       ministério           1\n",
       "2            saúde           3\n",
       "3           âmbito           1\n",
       "4      competência           1\n",
       "..             ...         ...\n",
       "147  monitoramento           1\n",
       "148          casos           1\n",
       "149           pode           1\n",
       "150      realizada           1\n",
       "151         eficaz           1\n",
       "\n",
       "[152 rows x 2 columns]"
      ]
     },
     "execution_count": 7,
     "metadata": {},
     "output_type": "execute_result"
    }
   ],
   "source": [
    "# Carregando e visualizando dados do arquivo csv\n",
    "import pandas as pd\n",
    "data = pd.read_csv('palavras_CNS_COMORBIDADES_2020.csv', sep=';')\n",
    "data"
   ]
  }
 ],
 "metadata": {
  "kernelspec": {
   "display_name": "Python 3 (ipykernel)",
   "language": "python",
   "name": "python3"
  },
  "language_info": {
   "codemirror_mode": {
    "name": "ipython",
    "version": 3
   },
   "file_extension": ".py",
   "mimetype": "text/x-python",
   "name": "python",
   "nbconvert_exporter": "python",
   "pygments_lexer": "ipython3",
   "version": "3.9.12"
  }
 },
 "nbformat": 4,
 "nbformat_minor": 5
}
