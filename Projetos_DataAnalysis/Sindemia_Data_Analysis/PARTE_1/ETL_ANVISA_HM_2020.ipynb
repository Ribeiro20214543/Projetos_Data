{
 "cells": [
  {
   "cell_type": "markdown",
   "id": "a4bb9b7f",
   "metadata": {},
   "source": [
    "# Preparando o texto para análise\n",
    "\n",
    "Arquivo de entrada: **ANVISA_HM_2020.txt**\n",
    "\n",
    "Arquivo pós-tratamento: **selecionadas_ANVISA_HM_2020.txt**\n",
    "\n",
    "Arquivo de saída: **palavras_ANVISA_HM_2020.csv**\n",
    "\n",
    "## ETAPAS\n",
    "1 - extração;\n",
    "\n",
    "2 - tratamento;\n",
    "\n",
    "3 - limpeza;\n",
    "\n",
    "4 - seleção das palavras a serem analisadas;\n",
    "\n",
    "5 - armazenamento das palavras selecionadas em arquivo separado (ARQUIVO PÓS-TRATAMENTO);\n",
    "\n",
    "6 - contagem da frequência das palavras serem analisadas;\n",
    "\n",
    "7 - criação de um dataframe para armazenamento dos dados com a frequência das palavras a serem analisadas;\n",
    "\n",
    "8 - armazenamento do dataframe em arquivo separado (ARQUIVO DE SAÍDA)."
   ]
  },
  {
   "cell_type": "code",
   "execution_count": 1,
   "id": "b6adf867",
   "metadata": {},
   "outputs": [],
   "source": [
    "# importando biblioteca a serem utilizadas no projeto\n",
    "import re\n",
    "import nltk\n",
    "from nltk import word_tokenize\n",
    "from nltk.corpus import stopwords\n",
    "import string\n",
    "import text as text"
   ]
  },
  {
   "cell_type": "code",
   "execution_count": 2,
   "id": "015de030",
   "metadata": {},
   "outputs": [
    {
     "name": "stdout",
     "output_type": "stream",
     "text": [
      "Higienização das mãos\n",
      "Higienização das mãos em serviços de saúde\n",
      "As mãos são consideradas as principais ferramentas dos profissionais que atuam nos serviços de saúde, pois é por meio delas que eles executam suas atividades. A segurança dos pacientes, nesses serviços, depende, portanto, da higienização cuidadosa e frequente das mãos desses profissionais.\n",
      "A higienização das mãos (HM) é reconhecida mundialmente como uma medida primária, mas muito importante no controle de infecções relacionadas à assistência à saúde. Por esse motivo, tem sido considerada como um dos pilares da prevenção de infecções nos serviços de saúde. Apesar disso, estudos sobre o tema mostram que a adesão dos profissionais de saúde às práticas de HM de forma constante e rotineira ainda é baixa, devendo ser estimulada para tornar esses profissionais conscientes da importância de tal hábito.\n",
      "Além de atender a exigências legais e éticas, o controle de infecções nos serviços de saúde, incluindo as práticas de HM, concorre para a melhoria da qualidade no atendimento e na assistência ao paciente. As vantagens dessas práticas são inquestionáveis, desde a redução da morbidade e da mortalidade até a diminuição de custos associados ao tratamento dos quadros infecciosos.\n",
      "Tema de atenção global\n",
      "O termo higienização das mãos engloba a higiene simples, a higiene antisséptica e a antissepsia cirúrgica ou preparo pré-operatório das mãos. Dada a sua relevância, o tema tem sido foco de especial atenção em todo o mundo.\n",
      "A Organização Mundial de Saúde (OMS) definiu estratégias para melhoria da adesão às práticas de HM em serviços de saúde. A metodologia, conhecida como estratégia multimodal ou multifacetada, prevê cinco componentes:\n",
      "disponibilização da preparação alcoólica no ponto de assistência, além de pia/lavatório, sabonete líquido e água;\n",
      "capacitação dos profissionais;\n",
      "observação das práticas de HM e retorno de indicadores de adesão à equipe;\n",
      "lembretes e cartazes no local de trabalho;\n",
      "estabelecimento de um clima de segurança, com apoio expresso da alta direção e líderes dos serviços de saúde.\n",
      "O OMS definiu ainda cinco momentos para a higiene das mãos, de acordo com o fluxo de cuidados assistenciais:\n",
      "antes de tocar o paciente;\n",
      "antes de realizar procedimento limpo/asséptico;\n",
      "após risco de exposição a fluidos corporais;\n",
      "após tocar o paciente;\n",
      "após contato com superfícies próximas ao paciente.\n",
      "\n"
     ]
    }
   ],
   "source": [
    "# abrindo arquivo e colocando o texto em minusculo\n",
    "texto = open('ANVISA_HM_2020.txt','r',encoding='UTF=8').read()\n",
    "print(texto)"
   ]
  },
  {
   "cell_type": "code",
   "execution_count": 3,
   "id": "3a5221cd",
   "metadata": {},
   "outputs": [
    {
     "name": "stdout",
     "output_type": "stream",
     "text": [
      "Quantidade total de palavras do texto: 2387\n"
     ]
    }
   ],
   "source": [
    "# Contando o total de palavras do texto\n",
    "t_linhas = len(texto)\n",
    "print('Quantidade total de palavras do texto:', t_linhas)"
   ]
  },
  {
   "cell_type": "code",
   "execution_count": 4,
   "id": "cb115edb",
   "metadata": {},
   "outputs": [
    {
     "name": "stdout",
     "output_type": "stream",
     "text": [
      "higienização das mãos\n",
      "higienização das mãos em serviços de saúde\n",
      "as mãos são consideradas as principais ferramentas dos profissionais que atuam nos serviços de saúde, pois é por meio delas que eles executam suas atividades. a segurança dos pacientes, nesses serviços, depende, portanto, da higienização cuidadosa e frequente das mãos desses profissionais.\n",
      "a higienização das mãos (hm) é reconhecida mundialmente como uma medida primária, mas muito importante no controle de infecções relacionadas à assistência à saúde. por esse motivo, tem sido considerada como um dos pilares da prevenção de infecções nos serviços de saúde. apesar disso, estudos sobre o tema mostram que a adesão dos profissionais de saúde às práticas de hm de forma constante e rotineira ainda é baixa, devendo ser estimulada para tornar esses profissionais conscientes da importância de tal hábito.\n",
      "além de atender a exigências legais e éticas, o controle de infecções nos serviços de saúde, incluindo as práticas de hm, concorre para a melhoria da qualidade no atendimento e na assistência ao paciente. as vantagens dessas práticas são inquestionáveis, desde a redução da morbidade e da mortalidade até a diminuição de custos associados ao tratamento dos quadros infecciosos.\n",
      "tema de atenção global\n",
      "o termo higienização das mãos engloba a higiene simples, a higiene antisséptica e a antissepsia cirúrgica ou preparo pré-operatório das mãos. dada a sua relevância, o tema tem sido foco de especial atenção em todo o mundo.\n",
      "a organização mundial de saúde (oms) definiu estratégias para melhoria da adesão às práticas de hm em serviços de saúde. a metodologia, conhecida como estratégia multimodal ou multifacetada, prevê cinco componentes:\n",
      "disponibilização da preparação alcoólica no ponto de assistência, além de pia/lavatório, sabonete líquido e água;\n",
      "capacitação dos profissionais;\n",
      "observação das práticas de hm e retorno de indicadores de adesão à equipe;\n",
      "lembretes e cartazes no local de trabalho;\n",
      "estabelecimento de um clima de segurança, com apoio expresso da alta direção e líderes dos serviços de saúde.\n",
      "o oms definiu ainda cinco momentos para a higiene das mãos, de acordo com o fluxo de cuidados assistenciais:\n",
      "antes de tocar o paciente;\n",
      "antes de realizar procedimento limpo/asséptico;\n",
      "após risco de exposição a fluidos corporais;\n",
      "após tocar o paciente;\n",
      "após contato com superfícies próximas ao paciente.\n",
      "\n"
     ]
    }
   ],
   "source": [
    "# reabrindo arquivo e colocando o texto em minusculo\n",
    "\n",
    "arquivo = open('ANVISA_HM_2020.txt','r',encoding='UTF=8').read()\n",
    "texto_lower = arquivo.lower()\n",
    "\n",
    "print(texto_lower)"
   ]
  },
  {
   "cell_type": "code",
   "execution_count": 5,
   "id": "560a366a",
   "metadata": {},
   "outputs": [
    {
     "name": "stdout",
     "output_type": "stream",
     "text": [
      "Higienização das mãos\n",
      "Higienização das mãos em serviços de saúde\n",
      "As mãos são consideradas as principais ferramentas dos profissionais que atuam nos serviços de saúde pois é por meio delas que eles executam suas atividades A segurança dos pacientes nesses serviços depende portanto da higienização cuidadosa e frequente das mãos desses profissionais\n",
      "A higienização das mãos HM é reconhecida mundialmente como uma medida primária mas muito importante no controle de infecções relacionadas à assistência à saúde Por esse motivo tem sido considerada como um dos pilares da prevenção de infecções nos serviços de saúde Apesar disso estudos sobre o tema mostram que a adesão dos profissionais de saúde às práticas de HM de forma constante e rotineira ainda é baixa devendo ser estimulada para tornar esses profissionais conscientes da importância de tal hábito\n",
      "Além de atender a exigências legais e éticas o controle de infecções nos serviços de saúde incluindo as práticas de HM concorre para a melhoria da qualidade no atendimento e na assistência ao paciente As vantagens dessas práticas são inquestionáveis desde a redução da morbidade e da mortalidade até a diminuição de custos associados ao tratamento dos quadros infecciosos\n",
      "Tema de atenção global\n",
      "O termo higienização das mãos engloba a higiene simples a higiene antisséptica e a antissepsia cirúrgica ou preparo préoperatório das mãos Dada a sua relevância o tema tem sido foco de especial atenção em todo o mundo\n",
      "A Organização Mundial de Saúde OMS definiu estratégias para melhoria da adesão às práticas de HM em serviços de saúde A metodologia conhecida como estratégia multimodal ou multifacetada prevê cinco componentes\n",
      "disponibilização da preparação alcoólica no ponto de assistência além de pialavatório sabonete líquido e água\n",
      "capacitação dos profissionais\n",
      "observação das práticas de HM e retorno de indicadores de adesão à equipe\n",
      "lembretes e cartazes no local de trabalho\n",
      "estabelecimento de um clima de segurança com apoio expresso da alta direção e líderes dos serviços de saúde\n",
      "O OMS definiu ainda cinco momentos para a higiene das mãos de acordo com o fluxo de cuidados assistenciais\n",
      "antes de tocar o paciente\n",
      "antes de realizar procedimento limpoasséptico\n",
      "após risco de exposição a fluidos corporais\n",
      "após tocar o paciente\n",
      "após contato com superfícies próximas ao paciente\n",
      "\n"
     ]
    }
   ],
   "source": [
    " # remoção de pontuação\n",
    "    \n",
    "text_sem_pontuar = ''.join ([palavra for palavra in texto if palavra not in string.punctuation])\n",
    "print(text_sem_pontuar)"
   ]
  },
  {
   "cell_type": "code",
   "execution_count": 6,
   "id": "9dbe23c0",
   "metadata": {},
   "outputs": [
    {
     "name": "stdout",
     "output_type": "stream",
     "text": [
      "['Higienização', 'das', 'mãos', 'Higienização', 'das', 'mãos', 'em', 'serviços', 'de', 'saúde', 'As', 'mãos', 'são', 'consideradas', 'as', 'principais', 'ferramentas', 'dos', 'profissionais', 'que', 'atuam', 'nos', 'serviços', 'de', 'saúde', 'pois', 'é', 'por', 'meio', 'delas', 'que', 'eles', 'executam', 'suas', 'atividades', 'A', 'segurança', 'dos', 'pacientes', 'nesses', 'serviços', 'depende', 'portanto', 'da', 'higienização', 'cuidadosa', 'e', 'frequente', 'das', 'mãos', 'desses', 'profissionais', 'A', 'higienização', 'das', 'mãos', 'HM', 'é', 'reconhecida', 'mundialmente', 'como', 'uma', 'medida', 'primária', 'mas', 'muito', 'importante', 'no', 'controle', 'de', 'infecções', 'relacionadas', 'à', 'assistência', 'à', 'saúde', 'Por', 'esse', 'motivo', 'tem', 'sido', 'considerada', 'como', 'um', 'dos', 'pilares', 'da', 'prevenção', 'de', 'infecções', 'nos', 'serviços', 'de', 'saúde', 'Apesar', 'disso', 'estudos', 'sobre', 'o', 'tema', 'mostram', 'que', 'a', 'adesão', 'dos', 'profissionais', 'de', 'saúde', 'às', 'práticas', 'de', 'HM', 'de', 'forma', 'constante', 'e', 'rotineira', 'ainda', 'é', 'baixa', 'devendo', 'ser', 'estimulada', 'para', 'tornar', 'esses', 'profissionais', 'conscientes', 'da', 'importância', 'de', 'tal', 'hábito', 'Além', 'de', 'atender', 'a', 'exigências', 'legais', 'e', 'éticas', 'o', 'controle', 'de', 'infecções', 'nos', 'serviços', 'de', 'saúde', 'incluindo', 'as', 'práticas', 'de', 'HM', 'concorre', 'para', 'a', 'melhoria', 'da', 'qualidade', 'no', 'atendimento', 'e', 'na', 'assistência', 'ao', 'paciente', 'As', 'vantagens', 'dessas', 'práticas', 'são', 'inquestionáveis', 'desde', 'a', 'redução', 'da', 'morbidade', 'e', 'da', 'mortalidade', 'até', 'a', 'diminuição', 'de', 'custos', 'associados', 'ao', 'tratamento', 'dos', 'quadros', 'infecciosos', 'Tema', 'de', 'atenção', 'global', 'O', 'termo', 'higienização', 'das', 'mãos', 'engloba', 'a', 'higiene', 'simples', 'a', 'higiene', 'antisséptica', 'e', 'a', 'antissepsia', 'cirúrgica', 'ou', 'preparo', 'préoperatório', 'das', 'mãos', 'Dada', 'a', 'sua', 'relevância', 'o', 'tema', 'tem', 'sido', 'foco', 'de', 'especial', 'atenção', 'em', 'todo', 'o', 'mundo', 'A', 'Organização', 'Mundial', 'de', 'Saúde', 'OMS', 'definiu', 'estratégias', 'para', 'melhoria', 'da', 'adesão', 'às', 'práticas', 'de', 'HM', 'em', 'serviços', 'de', 'saúde', 'A', 'metodologia', 'conhecida', 'como', 'estratégia', 'multimodal', 'ou', 'multifacetada', 'prevê', 'cinco', 'componentes', 'disponibilização', 'da', 'preparação', 'alcoólica', 'no', 'ponto', 'de', 'assistência', 'além', 'de', 'pialavatório', 'sabonete', 'líquido', 'e', 'água', 'capacitação', 'dos', 'profissionais', 'observação', 'das', 'práticas', 'de', 'HM', 'e', 'retorno', 'de', 'indicadores', 'de', 'adesão', 'à', 'equipe', 'lembretes', 'e', 'cartazes', 'no', 'local', 'de', 'trabalho', 'estabelecimento', 'de', 'um', 'clima', 'de', 'segurança', 'com', 'apoio', 'expresso', 'da', 'alta', 'direção', 'e', 'líderes', 'dos', 'serviços', 'de', 'saúde', 'O', 'OMS', 'definiu', 'ainda', 'cinco', 'momentos', 'para', 'a', 'higiene', 'das', 'mãos', 'de', 'acordo', 'com', 'o', 'fluxo', 'de', 'cuidados', 'assistenciais', 'antes', 'de', 'tocar', 'o', 'paciente', 'antes', 'de', 'realizar', 'procedimento', 'limpoasséptico', 'após', 'risco', 'de', 'exposição', 'a', 'fluidos', 'corporais', 'após', 'tocar', 'o', 'paciente', 'após', 'contato', 'com', 'superfícies', 'próximas', 'ao', 'paciente']\n"
     ]
    }
   ],
   "source": [
    "# Tokenizando  - texto\n",
    "\n",
    "tokens = nltk.word_tokenize(text_sem_pontuar)\n",
    "print(tokens)"
   ]
  },
  {
   "cell_type": "code",
   "execution_count": 7,
   "id": "b507275f",
   "metadata": {},
   "outputs": [
    {
     "name": "stdout",
     "output_type": "stream",
     "text": [
      "Palavras removidas: \n",
      "\n",
      "['a', 'à', 'ao', 'aos', 'aquela', 'aquelas', 'aquele', 'aqueles', 'aquilo', 'as', 'às', 'até', 'com', 'como', 'da', 'das', 'de', 'dela', 'delas', 'dele', 'deles', 'depois', 'do', 'dos', 'e', 'é', 'ela', 'elas', 'ele', 'eles', 'em', 'entre', 'era', 'eram', 'éramos', 'essa', 'essas', 'esse', 'esses', 'esta', 'está', 'estamos', 'estão', 'estar', 'estas', 'estava', 'estavam', 'estávamos', 'este', 'esteja', 'estejam', 'estejamos', 'estes', 'esteve', 'estive', 'estivemos', 'estiver', 'estivera', 'estiveram', 'estivéramos', 'estiverem', 'estivermos', 'estivesse', 'estivessem', 'estivéssemos', 'estou', 'eu', 'foi', 'fomos', 'for', 'fora', 'foram', 'fôramos', 'forem', 'formos', 'fosse', 'fossem', 'fôssemos', 'fui', 'há', 'haja', 'hajam', 'hajamos', 'hão', 'havemos', 'haver', 'hei', 'houve', 'houvemos', 'houver', 'houvera', 'houverá', 'houveram', 'houvéramos', 'houverão', 'houverei', 'houverem', 'houveremos', 'houveria', 'houveriam', 'houveríamos', 'houvermos', 'houvesse', 'houvessem', 'houvéssemos', 'isso', 'isto', 'já', 'lhe', 'lhes', 'mais', 'mas', 'me', 'mesmo', 'meu', 'meus', 'minha', 'minhas', 'muito', 'na', 'não', 'nas', 'nem', 'no', 'nos', 'nós', 'nossa', 'nossas', 'nosso', 'nossos', 'num', 'numa', 'o', 'os', 'ou', 'para', 'pela', 'pelas', 'pelo', 'pelos', 'por', 'qual', 'quando', 'que', 'quem', 'são', 'se', 'seja', 'sejam', 'sejamos', 'sem', 'ser', 'será', 'serão', 'serei', 'seremos', 'seria', 'seriam', 'seríamos', 'seu', 'seus', 'só', 'somos', 'sou', 'sua', 'suas', 'também', 'te', 'tem', 'tém', 'temos', 'tenha', 'tenham', 'tenhamos', 'tenho', 'terá', 'terão', 'terei', 'teremos', 'teria', 'teriam', 'teríamos', 'teu', 'teus', 'teve', 'tinha', 'tinham', 'tínhamos', 'tive', 'tivemos', 'tiver', 'tivera', 'tiveram', 'tivéramos', 'tiverem', 'tivermos', 'tivesse', 'tivessem', 'tivéssemos', 'tu', 'tua', 'tuas', 'um', 'uma', 'você', 'vocês', 'vos'] \n",
      "\n",
      "Texto após remoção das stopwords: \n",
      "\n",
      " ['Higienização', 'mãos', 'Higienização', 'mãos', 'serviços', 'saúde', 'As', 'mãos', 'consideradas', 'principais', 'ferramentas', 'profissionais', 'atuam', 'serviços', 'saúde', 'pois', 'meio', 'executam', 'atividades', 'A', 'segurança', 'pacientes', 'nesses', 'serviços', 'depende', 'portanto', 'higienização', 'cuidadosa', 'frequente', 'mãos', 'desses', 'profissionais', 'A', 'higienização', 'mãos', 'HM', 'reconhecida', 'mundialmente', 'medida', 'primária', 'importante', 'controle', 'infecções', 'relacionadas', 'assistência', 'saúde', 'Por', 'motivo', 'sido', 'considerada', 'pilares', 'prevenção', 'infecções', 'serviços', 'saúde', 'Apesar', 'disso', 'estudos', 'sobre', 'tema', 'mostram', 'adesão', 'profissionais', 'saúde', 'práticas', 'HM', 'forma', 'constante', 'rotineira', 'ainda', 'baixa', 'devendo', 'estimulada', 'tornar', 'profissionais', 'conscientes', 'importância', 'tal', 'hábito', 'Além', 'atender', 'exigências', 'legais', 'éticas', 'controle', 'infecções', 'serviços', 'saúde', 'incluindo', 'práticas', 'HM', 'concorre', 'melhoria', 'qualidade', 'atendimento', 'assistência', 'paciente', 'As', 'vantagens', 'dessas', 'práticas', 'inquestionáveis', 'desde', 'redução', 'morbidade', 'mortalidade', 'diminuição', 'custos', 'associados', 'tratamento', 'quadros', 'infecciosos', 'Tema', 'atenção', 'global', 'O', 'termo', 'higienização', 'mãos', 'engloba', 'higiene', 'simples', 'higiene', 'antisséptica', 'antissepsia', 'cirúrgica', 'preparo', 'préoperatório', 'mãos', 'Dada', 'relevância', 'tema', 'sido', 'foco', 'especial', 'atenção', 'todo', 'mundo', 'A', 'Organização', 'Mundial', 'Saúde', 'OMS', 'definiu', 'estratégias', 'melhoria', 'adesão', 'práticas', 'HM', 'serviços', 'saúde', 'A', 'metodologia', 'conhecida', 'estratégia', 'multimodal', 'multifacetada', 'prevê', 'cinco', 'componentes', 'disponibilização', 'preparação', 'alcoólica', 'ponto', 'assistência', 'além', 'pialavatório', 'sabonete', 'líquido', 'água', 'capacitação', 'profissionais', 'observação', 'práticas', 'HM', 'retorno', 'indicadores', 'adesão', 'equipe', 'lembretes', 'cartazes', 'local', 'trabalho', 'estabelecimento', 'clima', 'segurança', 'apoio', 'expresso', 'alta', 'direção', 'líderes', 'serviços', 'saúde', 'O', 'OMS', 'definiu', 'ainda', 'cinco', 'momentos', 'higiene', 'mãos', 'acordo', 'fluxo', 'cuidados', 'assistenciais', 'antes', 'tocar', 'paciente', 'antes', 'realizar', 'procedimento', 'limpoasséptico', 'após', 'risco', 'exposição', 'fluidos', 'corporais', 'após', 'tocar', 'paciente', 'após', 'contato', 'superfícies', 'próximas', 'paciente']\n"
     ]
    },
    {
     "name": "stderr",
     "output_type": "stream",
     "text": [
      "[nltk_data] Downloading package stopwords to\n",
      "[nltk_data]     /home/patrick/nltk_data...\n",
      "[nltk_data]   Package stopwords is already up-to-date!\n"
     ]
    }
   ],
   "source": [
    "# remoção de Stapwords - ou seja, remoção de palavras que não causam prejuijo ao sentido do texto\n",
    "\n",
    "from nltk.corpus import stopwords\n",
    "\n",
    "nltk.download('stopwords')\n",
    "stopwords = stopwords.words('portuguese')\n",
    "\n",
    "palavras_play = [palavra for palavra in tokens if palavra not in stopwords]\n",
    "print(f'Palavras removidas: \\n\\n{stopwords} \\n')\n",
    "\n",
    "print(f'Texto após remoção das stopwords: \\n\\n {palavras_play}')"
   ]
  },
  {
   "cell_type": "code",
   "execution_count": 8,
   "id": "c01cd7a4",
   "metadata": {},
   "outputs": [],
   "source": [
    "palavras_selecionadas = ', '.join(palavras_play)"
   ]
  },
  {
   "cell_type": "code",
   "execution_count": 9,
   "id": "1f8c0bf5",
   "metadata": {},
   "outputs": [
    {
     "data": {
      "text/plain": [
       "2105"
      ]
     },
     "execution_count": 9,
     "metadata": {},
     "output_type": "execute_result"
    }
   ],
   "source": [
    "# Criando arquivo e gravando palavras selecionadas nele\n",
    "arquivo = open('selecionadas_ANVISA_HM_2020.txt', 'w')\n",
    "arquivo.write(palavras_selecionadas)"
   ]
  },
  {
   "cell_type": "code",
   "execution_count": 1,
   "id": "ed53441f",
   "metadata": {},
   "outputs": [
    {
     "name": "stdout",
     "output_type": "stream",
     "text": [
      "Higienização, mãos, Higienização, mãos, serviços, saúde, As, mãos, consideradas, principais, ferramentas, profissionais, atuam, serviços, saúde, pois, meio, executam, atividades, A, segurança, pacientes, nesses, serviços, depende, portanto, higienização, cuidadosa, frequente, mãos, desses, profissionais, A, higienização, mãos, HM, reconhecida, mundialmente, medida, primária, importante, controle, infecções, relacionadas, assistência, saúde, Por, motivo, sido, considerada, pilares, prevenção, infecções, serviços, saúde, Apesar, disso, estudos, sobre, tema, mostram, adesão, profissionais, saúde, práticas, HM, forma, constante, rotineira, ainda, baixa, devendo, estimulada, tornar, profissionais, conscientes, importância, tal, hábito, Além, atender, exigências, legais, éticas, controle, infecções, serviços, saúde, incluindo, práticas, HM, concorre, melhoria, qualidade, atendimento, assistência, paciente, As, vantagens, dessas, práticas, inquestionáveis, desde, redução, morbidade, mortalidade, diminuição, custos, associados, tratamento, quadros, infecciosos, Tema, atenção, global, O, termo, higienização, mãos, engloba, higiene, simples, higiene, antisséptica, antissepsia, cirúrgica, preparo, préoperatório, mãos, Dada, relevância, tema, sido, foco, especial, atenção, todo, mundo, A, Organização, Mundial, Saúde, OMS, definiu, estratégias, melhoria, adesão, práticas, HM, serviços, saúde, A, metodologia, conhecida, estratégia, multimodal, multifacetada, prevê, cinco, componentes, disponibilização, preparação, alcoólica, ponto, assistência, além, pialavatório, sabonete, líquido, água, capacitação, profissionais, observação, práticas, HM, retorno, indicadores, adesão, equipe, lembretes, cartazes, local, trabalho, estabelecimento, clima, segurança, apoio, expresso, alta, direção, líderes, serviços, saúde, O, OMS, definiu, ainda, cinco, momentos, higiene, mãos, acordo, fluxo, cuidados, assistenciais, antes, tocar, paciente, antes, realizar, procedimento, limpoasséptico, após, risco, exposição, fluidos, corporais, após, tocar, paciente, após, contato, superfícies, próximas, paciente\n"
     ]
    }
   ],
   "source": [
    "# abrindo arquivo com as palavras selecionadas \n",
    "texto2 = open('selecionadas_ANVISA_HM_2020.txt','r',encoding='UTF=8').read()\n",
    "print(texto2)"
   ]
  },
  {
   "cell_type": "code",
   "execution_count": 2,
   "id": "a82c3856",
   "metadata": {},
   "outputs": [
    {
     "name": "stdout",
     "output_type": "stream",
     "text": [
      "O texto apresenta 2105 palavras no total.\n"
     ]
    }
   ],
   "source": [
    "# Contar o quantidade de palavras no texto\n",
    "qt_palavras = len(texto2)\n",
    "print(f'O texto apresenta {qt_palavras} palavras no total.')"
   ]
  },
  {
   "cell_type": "code",
   "execution_count": 3,
   "id": "7bfa9d6e",
   "metadata": {},
   "outputs": [
    {
     "name": "stdout",
     "output_type": "stream",
     "text": [
      "\n",
      "Frequência das palavras:{'higienização': 5, 'mãos': 8, 'serviços': 7, 'saúde': 9, 'as': 2, 'consideradas': 1, 'principais': 1, 'ferramentas': 1, 'profissionais': 5, 'atuam': 1, 'pois': 1, 'meio': 1, 'executam': 1, 'atividades': 1, 'a': 4, 'segurança': 2, 'pacientes': 1, 'nesses': 1, 'depende': 1, 'portanto': 1, 'cuidadosa': 1, 'frequente': 1, 'desses': 1, 'hm': 5, 'reconhecida': 1, 'mundialmente': 1, 'medida': 1, 'primária': 1, 'importante': 1, 'controle': 2, 'infecções': 3, 'relacionadas': 1, 'assistência': 3, 'por': 1, 'motivo': 1, 'sido': 2, 'considerada': 1, 'pilares': 1, 'prevenção': 1, 'apesar': 1, 'disso': 1, 'estudos': 1, 'sobre': 1, 'tema': 3, 'mostram': 1, 'adesão': 3, 'práticas': 5, 'forma': 1, 'constante': 1, 'rotineira': 1, 'ainda': 2, 'baixa': 1, 'devendo': 1, 'estimulada': 1, 'tornar': 1, 'conscientes': 1, 'importância': 1, 'tal': 1, 'hábito': 1, 'além': 2, 'atender': 1, 'exigências': 1, 'legais': 1, 'éticas': 1, 'incluindo': 1, 'concorre': 1, 'melhoria': 2, 'qualidade': 1, 'atendimento': 1, 'paciente': 4, 'vantagens': 1, 'dessas': 1, 'inquestionáveis': 1, 'desde': 1, 'redução': 1, 'morbidade': 1, 'mortalidade': 1, 'diminuição': 1, 'custos': 1, 'associados': 1, 'tratamento': 1, 'quadros': 1, 'infecciosos': 1, 'atenção': 2, 'global': 1, 'o': 2, 'termo': 1, 'engloba': 1, 'higiene': 3, 'simples': 1, 'antisséptica': 1, 'antissepsia': 1, 'cirúrgica': 1, 'preparo': 1, 'préoperatório': 1, 'dada': 1, 'relevância': 1, 'foco': 1, 'especial': 1, 'todo': 1, 'mundo': 1, 'organização': 1, 'mundial': 1, 'oms': 2, 'definiu': 2, 'estratégias': 1, 'metodologia': 1, 'conhecida': 1, 'estratégia': 1, 'multimodal': 1, 'multifacetada': 1, 'prevê': 1, 'cinco': 2, 'componentes': 1, 'disponibilização': 1, 'preparação': 1, 'alcoólica': 1, 'ponto': 1, 'pialavatório': 1, 'sabonete': 1, 'líquido': 1, 'água': 1, 'capacitação': 1, 'observação': 1, 'retorno': 1, 'indicadores': 1, 'equipe': 1, 'lembretes': 1, 'cartazes': 1, 'local': 1, 'trabalho': 1, 'estabelecimento': 1, 'clima': 1, 'apoio': 1, 'expresso': 1, 'alta': 1, 'direção': 1, 'líderes': 1, 'momentos': 1, 'acordo': 1, 'fluxo': 1, 'cuidados': 1, 'assistenciais': 1, 'antes': 2, 'tocar': 2, 'realizar': 1, 'procedimento': 1, 'limpoasséptico': 1, 'após': 3, 'risco': 1, 'exposição': 1, 'fluidos': 1, 'corporais': 1, 'contato': 1, 'superfícies': 1, 'próximas': 1}\n"
     ]
    }
   ],
   "source": [
    "# Tratamento de caracteres indesejados é a frequência daquela palavra.\n",
    "import text as text\n",
    "freq = text.bag_of_words('selecionadas_ANVISA_HM_2020.txt')\n",
    "\n",
    "# Imprimir a frequencia de cada palavra\n",
    "print(f'\\nFrequência das palavras:{freq}')"
   ]
  },
  {
   "cell_type": "code",
   "execution_count": 4,
   "id": "c7634c31",
   "metadata": {},
   "outputs": [
    {
     "name": "stdout",
     "output_type": "stream",
     "text": [
      "Classificação das palavras pela frequência: {'saúde': 9, 'mãos': 8, 'serviços': 7, 'higienização': 5, 'profissionais': 5, 'hm': 5, 'práticas': 5, 'a': 4, 'paciente': 4, 'infecções': 3, 'assistência': 3, 'tema': 3, 'adesão': 3, 'higiene': 3, 'após': 3, 'as': 2, 'segurança': 2, 'controle': 2, 'sido': 2, 'ainda': 2, 'além': 2, 'melhoria': 2, 'atenção': 2, 'o': 2, 'oms': 2, 'definiu': 2, 'cinco': 2, 'antes': 2, 'tocar': 2, 'consideradas': 1, 'principais': 1, 'ferramentas': 1, 'atuam': 1, 'pois': 1, 'meio': 1, 'executam': 1, 'atividades': 1, 'pacientes': 1, 'nesses': 1, 'depende': 1, 'portanto': 1, 'cuidadosa': 1, 'frequente': 1, 'desses': 1, 'reconhecida': 1, 'mundialmente': 1, 'medida': 1, 'primária': 1, 'importante': 1, 'relacionadas': 1, 'por': 1, 'motivo': 1, 'considerada': 1, 'pilares': 1, 'prevenção': 1, 'apesar': 1, 'disso': 1, 'estudos': 1, 'sobre': 1, 'mostram': 1, 'forma': 1, 'constante': 1, 'rotineira': 1, 'baixa': 1, 'devendo': 1, 'estimulada': 1, 'tornar': 1, 'conscientes': 1, 'importância': 1, 'tal': 1, 'hábito': 1, 'atender': 1, 'exigências': 1, 'legais': 1, 'éticas': 1, 'incluindo': 1, 'concorre': 1, 'qualidade': 1, 'atendimento': 1, 'vantagens': 1, 'dessas': 1, 'inquestionáveis': 1, 'desde': 1, 'redução': 1, 'morbidade': 1, 'mortalidade': 1, 'diminuição': 1, 'custos': 1, 'associados': 1, 'tratamento': 1, 'quadros': 1, 'infecciosos': 1, 'global': 1, 'termo': 1, 'engloba': 1, 'simples': 1, 'antisséptica': 1, 'antissepsia': 1, 'cirúrgica': 1, 'preparo': 1, 'préoperatório': 1, 'dada': 1, 'relevância': 1, 'foco': 1, 'especial': 1, 'todo': 1, 'mundo': 1, 'organização': 1, 'mundial': 1, 'estratégias': 1, 'metodologia': 1, 'conhecida': 1, 'estratégia': 1, 'multimodal': 1, 'multifacetada': 1, 'prevê': 1, 'componentes': 1, 'disponibilização': 1, 'preparação': 1, 'alcoólica': 1, 'ponto': 1, 'pialavatório': 1, 'sabonete': 1, 'líquido': 1, 'água': 1, 'capacitação': 1, 'observação': 1, 'retorno': 1, 'indicadores': 1, 'equipe': 1, 'lembretes': 1, 'cartazes': 1, 'local': 1, 'trabalho': 1, 'estabelecimento': 1, 'clima': 1, 'apoio': 1, 'expresso': 1, 'alta': 1, 'direção': 1, 'líderes': 1, 'momentos': 1, 'acordo': 1, 'fluxo': 1, 'cuidados': 1, 'assistenciais': 1, 'realizar': 1, 'procedimento': 1, 'limpoasséptico': 1, 'risco': 1, 'exposição': 1, 'fluidos': 1, 'corporais': 1, 'contato': 1, 'superfícies': 1, 'próximas': 1}\n",
      "\n"
     ]
    }
   ],
   "source": [
    "# Retorna as palavras classificadas pelo maior frequencia\n",
    "most = text.most_frequent(freq, qt_palavras)\n",
    "print(f'Classificação das palavras pela frequência: {most}\\n')"
   ]
  },
  {
   "cell_type": "code",
   "execution_count": 5,
   "id": "1d102987",
   "metadata": {},
   "outputs": [],
   "source": [
    "# Criar um arquivo de saída chamado palavras_ANVISA_HM_2020.csv contendo as palavras e suas frequências.\n",
    "arquivo_saida = open(\"palavras_ANVISA_HM_2020.csv\",\"w\") "
   ]
  },
  {
   "cell_type": "code",
   "execution_count": 6,
   "id": "993cbbd8",
   "metadata": {},
   "outputs": [],
   "source": [
    "# Gravando palavras e frequência no arquivo csv\n",
    "import text as text\n",
    "grava = text.write_frequencies_csv(\"palavras_ANVISA_HM_2020.csv\", freq)"
   ]
  },
  {
   "cell_type": "code",
   "execution_count": 8,
   "id": "2f2bcdd8",
   "metadata": {},
   "outputs": [
    {
     "data": {
      "text/html": [
       "<div>\n",
       "<style scoped>\n",
       "    .dataframe tbody tr th:only-of-type {\n",
       "        vertical-align: middle;\n",
       "    }\n",
       "\n",
       "    .dataframe tbody tr th {\n",
       "        vertical-align: top;\n",
       "    }\n",
       "\n",
       "    .dataframe thead th {\n",
       "        text-align: right;\n",
       "    }\n",
       "</style>\n",
       "<table border=\"1\" class=\"dataframe\">\n",
       "  <thead>\n",
       "    <tr style=\"text-align: right;\">\n",
       "      <th></th>\n",
       "      <th>Palavras</th>\n",
       "      <th>Frequência</th>\n",
       "    </tr>\n",
       "  </thead>\n",
       "  <tbody>\n",
       "    <tr>\n",
       "      <th>0</th>\n",
       "      <td>higienização</td>\n",
       "      <td>5</td>\n",
       "    </tr>\n",
       "    <tr>\n",
       "      <th>1</th>\n",
       "      <td>mãos</td>\n",
       "      <td>8</td>\n",
       "    </tr>\n",
       "    <tr>\n",
       "      <th>2</th>\n",
       "      <td>serviços</td>\n",
       "      <td>7</td>\n",
       "    </tr>\n",
       "    <tr>\n",
       "      <th>3</th>\n",
       "      <td>saúde</td>\n",
       "      <td>9</td>\n",
       "    </tr>\n",
       "    <tr>\n",
       "      <th>4</th>\n",
       "      <td>as</td>\n",
       "      <td>2</td>\n",
       "    </tr>\n",
       "    <tr>\n",
       "      <th>...</th>\n",
       "      <td>...</td>\n",
       "      <td>...</td>\n",
       "    </tr>\n",
       "    <tr>\n",
       "      <th>151</th>\n",
       "      <td>fluidos</td>\n",
       "      <td>1</td>\n",
       "    </tr>\n",
       "    <tr>\n",
       "      <th>152</th>\n",
       "      <td>corporais</td>\n",
       "      <td>1</td>\n",
       "    </tr>\n",
       "    <tr>\n",
       "      <th>153</th>\n",
       "      <td>contato</td>\n",
       "      <td>1</td>\n",
       "    </tr>\n",
       "    <tr>\n",
       "      <th>154</th>\n",
       "      <td>superfícies</td>\n",
       "      <td>1</td>\n",
       "    </tr>\n",
       "    <tr>\n",
       "      <th>155</th>\n",
       "      <td>próximas</td>\n",
       "      <td>1</td>\n",
       "    </tr>\n",
       "  </tbody>\n",
       "</table>\n",
       "<p>156 rows × 2 columns</p>\n",
       "</div>"
      ],
      "text/plain": [
       "         Palavras  Frequência\n",
       "0    higienização           5\n",
       "1            mãos           8\n",
       "2        serviços           7\n",
       "3           saúde           9\n",
       "4              as           2\n",
       "..            ...         ...\n",
       "151       fluidos           1\n",
       "152     corporais           1\n",
       "153       contato           1\n",
       "154   superfícies           1\n",
       "155      próximas           1\n",
       "\n",
       "[156 rows x 2 columns]"
      ]
     },
     "execution_count": 8,
     "metadata": {},
     "output_type": "execute_result"
    }
   ],
   "source": [
    "# Carregando e visualizando dados do arquivo csv\n",
    "import pandas as pd\n",
    "data = pd.read_csv('palavras_ANVISA_HM_2020.csv', sep=';')\n",
    "data"
   ]
  }
 ],
 "metadata": {
  "kernelspec": {
   "display_name": "Python 3 (ipykernel)",
   "language": "python",
   "name": "python3"
  },
  "language_info": {
   "codemirror_mode": {
    "name": "ipython",
    "version": 3
   },
   "file_extension": ".py",
   "mimetype": "text/x-python",
   "name": "python",
   "nbconvert_exporter": "python",
   "pygments_lexer": "ipython3",
   "version": "3.9.12"
  }
 },
 "nbformat": 4,
 "nbformat_minor": 5
}
