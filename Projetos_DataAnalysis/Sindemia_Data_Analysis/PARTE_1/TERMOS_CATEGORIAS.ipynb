{
 "cells": [
  {
   "cell_type": "markdown",
   "id": "a51c9e45",
   "metadata": {},
   "source": [
    "# Analise dos termos frequentes e das categorias  estabelecidas por campo lexical referente ao eixo central do corpus do projeto - \"SINDEMIA\""
   ]
  },
  {
   "cell_type": "markdown",
   "id": "c1ab25f9",
   "metadata": {},
   "source": [
    "Esta parte da analise envolve observar os termos e os seus respectivos campos lexicais e as categorias a estes referenciadas. O Objetivo é verificar o total de campos lexicais pertinentes a cada categoria. De possse disso é possível inferir sobre o corpus da tese. "
   ]
  },
  {
   "cell_type": "code",
   "execution_count": 2,
   "id": "a573fd3e",
   "metadata": {},
   "outputs": [],
   "source": [
    "# importando bibliotecas a serem utilizadas\n",
    "import pandas as pd\n",
    "import matplotlib.pyplot as plt"
   ]
  },
  {
   "cell_type": "code",
   "execution_count": 3,
   "id": "783ccb52",
   "metadata": {},
   "outputs": [
    {
     "data": {
      "text/html": [
       "<div>\n",
       "<style scoped>\n",
       "    .dataframe tbody tr th:only-of-type {\n",
       "        vertical-align: middle;\n",
       "    }\n",
       "\n",
       "    .dataframe tbody tr th {\n",
       "        vertical-align: top;\n",
       "    }\n",
       "\n",
       "    .dataframe thead th {\n",
       "        text-align: right;\n",
       "    }\n",
       "</style>\n",
       "<table border=\"1\" class=\"dataframe\">\n",
       "  <thead>\n",
       "    <tr style=\"text-align: right;\">\n",
       "      <th></th>\n",
       "      <th>Palavras</th>\n",
       "      <th>Frequência</th>\n",
       "      <th>Categoria</th>\n",
       "    </tr>\n",
       "  </thead>\n",
       "  <tbody>\n",
       "    <tr>\n",
       "      <th>0</th>\n",
       "      <td>auxiliar</td>\n",
       "      <td>1.0</td>\n",
       "      <td>1. Fator sinérgico</td>\n",
       "    </tr>\n",
       "    <tr>\n",
       "      <th>1</th>\n",
       "      <td>fomento</td>\n",
       "      <td>1.0</td>\n",
       "      <td>1. Fator sinérgico</td>\n",
       "    </tr>\n",
       "    <tr>\n",
       "      <th>2</th>\n",
       "      <td>recordes</td>\n",
       "      <td>2.0</td>\n",
       "      <td>1. Fator sinérgico</td>\n",
       "    </tr>\n",
       "    <tr>\n",
       "      <th>3</th>\n",
       "      <td>seguir</td>\n",
       "      <td>1.0</td>\n",
       "      <td>1. Fator sinérgico</td>\n",
       "    </tr>\n",
       "    <tr>\n",
       "      <th>4</th>\n",
       "      <td>transferência</td>\n",
       "      <td>2.0</td>\n",
       "      <td>1. Fator sinérgico</td>\n",
       "    </tr>\n",
       "    <tr>\n",
       "      <th>...</th>\n",
       "      <td>...</td>\n",
       "      <td>...</td>\n",
       "      <td>...</td>\n",
       "    </tr>\n",
       "    <tr>\n",
       "      <th>1031</th>\n",
       "      <td>CNJ</td>\n",
       "      <td>1.0</td>\n",
       "      <td>8. Fator político</td>\n",
       "    </tr>\n",
       "    <tr>\n",
       "      <th>1032</th>\n",
       "      <td>CONAB</td>\n",
       "      <td>3.0</td>\n",
       "      <td>8. Fator político</td>\n",
       "    </tr>\n",
       "    <tr>\n",
       "      <th>1033</th>\n",
       "      <td>CONSEA</td>\n",
       "      <td>1.0</td>\n",
       "      <td>8. Fator político</td>\n",
       "    </tr>\n",
       "    <tr>\n",
       "      <th>1034</th>\n",
       "      <td>APS</td>\n",
       "      <td>1.0</td>\n",
       "      <td>8. Fator político</td>\n",
       "    </tr>\n",
       "    <tr>\n",
       "      <th>1035</th>\n",
       "      <td>PNAB</td>\n",
       "      <td>1.0</td>\n",
       "      <td>8. Fator político</td>\n",
       "    </tr>\n",
       "  </tbody>\n",
       "</table>\n",
       "<p>1036 rows × 3 columns</p>\n",
       "</div>"
      ],
      "text/plain": [
       "           Palavras  Frequência           Categoria\n",
       "0          auxiliar         1.0  1. Fator sinérgico\n",
       "1           fomento         1.0  1. Fator sinérgico\n",
       "2          recordes         2.0  1. Fator sinérgico\n",
       "3            seguir         1.0  1. Fator sinérgico\n",
       "4     transferência         2.0  1. Fator sinérgico\n",
       "...             ...         ...                 ...\n",
       "1031            CNJ         1.0   8. Fator político\n",
       "1032          CONAB         3.0   8. Fator político\n",
       "1033         CONSEA         1.0   8. Fator político\n",
       "1034            APS         1.0   8. Fator político\n",
       "1035           PNAB         1.0   8. Fator político\n",
       "\n",
       "[1036 rows x 3 columns]"
      ]
     },
     "execution_count": 3,
     "metadata": {},
     "output_type": "execute_result"
    }
   ],
   "source": [
    "# Carregando e visualizando dados do arquivo csv\n",
    "data = pd.read_csv('Termos_Categorias.csv', sep=',')\n",
    "data"
   ]
  },
  {
   "cell_type": "code",
   "execution_count": 4,
   "id": "1f62c0fa",
   "metadata": {},
   "outputs": [
    {
     "name": "stdout",
     "output_type": "stream",
     "text": [
      "O dataframe apresenta 3 colunas.\n",
      "O dataframe apresenta 1036 linhas.\n"
     ]
    }
   ],
   "source": [
    "# Verificando o número de colunas e linhas do dataframe\n",
    "total_colunas = data.shape[1]\n",
    "total_linhas = len(data.index)\n",
    "print(f'O dataframe apresenta {total_colunas} colunas.')\n",
    "print(f'O dataframe apresenta {total_linhas} linhas.')"
   ]
  },
  {
   "cell_type": "code",
   "execution_count": 5,
   "id": "aa531801",
   "metadata": {},
   "outputs": [
    {
     "name": "stdout",
     "output_type": "stream",
     "text": [
      "<class 'pandas.core.frame.DataFrame'>\n",
      "RangeIndex: 1036 entries, 0 to 1035\n",
      "Data columns (total 3 columns):\n",
      " #   Column      Non-Null Count  Dtype  \n",
      "---  ------      --------------  -----  \n",
      " 0   Palavras    1036 non-null   object \n",
      " 1   Frequência  1035 non-null   float64\n",
      " 2   Categoria   1036 non-null   object \n",
      "dtypes: float64(1), object(2)\n",
      "memory usage: 24.4+ KB\n"
     ]
    }
   ],
   "source": [
    "# Obtendo visão macro do dataframe\n",
    "data.info()"
   ]
  },
  {
   "cell_type": "code",
   "execution_count": 6,
   "id": "16826dee",
   "metadata": {},
   "outputs": [
    {
     "data": {
      "text/plain": [
       "'Categoria'"
      ]
     },
     "execution_count": 6,
     "metadata": {},
     "output_type": "execute_result"
    }
   ],
   "source": [
    "# Acessando coluna 'categoria'\n",
    "categoria = data.columns[2]\n",
    "categoria"
   ]
  },
  {
   "cell_type": "code",
   "execution_count": 7,
   "id": "5213e8e2",
   "metadata": {},
   "outputs": [
    {
     "data": {
      "text/plain": [
       "0       1. Fator sinérgico\n",
       "1       1. Fator sinérgico\n",
       "2       1. Fator sinérgico\n",
       "3       1. Fator sinérgico\n",
       "4       1. Fator sinérgico\n",
       "               ...        \n",
       "1031     8. Fator político\n",
       "1032     8. Fator político\n",
       "1033     8. Fator político\n",
       "1034     8. Fator político\n",
       "1035     8. Fator político\n",
       "Name: Categoria, Length: 1036, dtype: object"
      ]
     },
     "execution_count": 7,
     "metadata": {},
     "output_type": "execute_result"
    }
   ],
   "source": [
    "# Visualizando dados categoria\n",
    "data2 = data['Categoria']\n",
    "data2"
   ]
  },
  {
   "cell_type": "code",
   "execution_count": 8,
   "id": "07be7cad",
   "metadata": {},
   "outputs": [
    {
     "data": {
      "text/plain": [
       "Categoria\n",
       "1. Fator sinérgico                   127\n",
       "10. Fator ambiental e territorial    138\n",
       "11. Protocolos de Prevenção            9\n",
       "12. Não aderente                      71\n",
       "2. Fator comunicacional              156\n",
       "3. Fator bem-estar e saúde            39\n",
       "4. Fator epidêmico                    57\n",
       "5. Fator causa-efeito                 99\n",
       "6. Fator estrutural                   87\n",
       "7. Fator social                      136\n",
       "8. Fator político                     78\n",
       "9. Fator econômico                    39\n",
       "dtype: int64"
      ]
     },
     "execution_count": 8,
     "metadata": {},
     "output_type": "execute_result"
    }
   ],
   "source": [
    "# Visualizando as categorias presentes\n",
    "categoria = data.groupby(['Categoria']).size()\n",
    "categoria"
   ]
  },
  {
   "cell_type": "code",
   "execution_count": 9,
   "id": "b4900225",
   "metadata": {},
   "outputs": [],
   "source": [
    "# Criar um arquivo de saída chamado Categoria_total.csv contendo as categorais e o total.\n",
    "# arquivo_saida = open(\"Categorias_total.csv\",\"w\") "
   ]
  },
  {
   "cell_type": "code",
   "execution_count": 10,
   "id": "5a8d7e80",
   "metadata": {},
   "outputs": [
    {
     "data": {
      "text/html": [
       "<div>\n",
       "<style scoped>\n",
       "    .dataframe tbody tr th:only-of-type {\n",
       "        vertical-align: middle;\n",
       "    }\n",
       "\n",
       "    .dataframe tbody tr th {\n",
       "        vertical-align: top;\n",
       "    }\n",
       "\n",
       "    .dataframe thead th {\n",
       "        text-align: right;\n",
       "    }\n",
       "</style>\n",
       "<table border=\"1\" class=\"dataframe\">\n",
       "  <thead>\n",
       "    <tr style=\"text-align: right;\">\n",
       "      <th></th>\n",
       "      <th>Categorias</th>\n",
       "      <th>Totais de Campos Lexicais</th>\n",
       "    </tr>\n",
       "  </thead>\n",
       "  <tbody>\n",
       "    <tr>\n",
       "      <th>0</th>\n",
       "      <td>1. Fator sinérgico</td>\n",
       "      <td>127</td>\n",
       "    </tr>\n",
       "    <tr>\n",
       "      <th>1</th>\n",
       "      <td>2. Fator comunicacional</td>\n",
       "      <td>156</td>\n",
       "    </tr>\n",
       "    <tr>\n",
       "      <th>2</th>\n",
       "      <td>3. Fator bem-estar e saúde</td>\n",
       "      <td>39</td>\n",
       "    </tr>\n",
       "    <tr>\n",
       "      <th>3</th>\n",
       "      <td>4. Fator epidêmico</td>\n",
       "      <td>57</td>\n",
       "    </tr>\n",
       "    <tr>\n",
       "      <th>4</th>\n",
       "      <td>5. Fator causa-efeito</td>\n",
       "      <td>99</td>\n",
       "    </tr>\n",
       "    <tr>\n",
       "      <th>5</th>\n",
       "      <td>6. Fator estrutural</td>\n",
       "      <td>87</td>\n",
       "    </tr>\n",
       "    <tr>\n",
       "      <th>6</th>\n",
       "      <td>7. Fator social</td>\n",
       "      <td>136</td>\n",
       "    </tr>\n",
       "    <tr>\n",
       "      <th>7</th>\n",
       "      <td>8. Fator político</td>\n",
       "      <td>78</td>\n",
       "    </tr>\n",
       "    <tr>\n",
       "      <th>8</th>\n",
       "      <td>9. Fator econômico</td>\n",
       "      <td>39</td>\n",
       "    </tr>\n",
       "    <tr>\n",
       "      <th>9</th>\n",
       "      <td>10. Fator ambiental e territorial</td>\n",
       "      <td>138</td>\n",
       "    </tr>\n",
       "    <tr>\n",
       "      <th>10</th>\n",
       "      <td>11. Protocolos de Prevenção</td>\n",
       "      <td>9</td>\n",
       "    </tr>\n",
       "    <tr>\n",
       "      <th>11</th>\n",
       "      <td>12. Não aderente</td>\n",
       "      <td>71</td>\n",
       "    </tr>\n",
       "  </tbody>\n",
       "</table>\n",
       "</div>"
      ],
      "text/plain": [
       "                            Categorias  Totais de Campos Lexicais\n",
       "0                   1. Fator sinérgico                        127\n",
       "1             2. Fator comunicacional                         156\n",
       "2          3. Fator bem-estar e saúde                          39\n",
       "3                  4. Fator epidêmico                          57\n",
       "4                5. Fator causa-efeito                         99\n",
       "5                  6. Fator estrutural                         87\n",
       "6                     7. Fator social                         136\n",
       "7                    8. Fator político                         78\n",
       "8                   9. Fator econômico                         39\n",
       "9   10. Fator ambiental e territorial                         138\n",
       "10         11. Protocolos de Prevenção                          9\n",
       "11                    12. Não aderente                         71"
      ]
     },
     "execution_count": 10,
     "metadata": {},
     "output_type": "execute_result"
    }
   ],
   "source": [
    "# # Carregando e visualizando dados do arquivo csv\n",
    "data = pd.read_csv('Categorias_total.csv', sep=',')\n",
    "data"
   ]
  },
  {
   "cell_type": "code",
   "execution_count": 11,
   "id": "1c6a0d0a",
   "metadata": {},
   "outputs": [
    {
     "data": {
      "text/html": [
       "<div>\n",
       "<style scoped>\n",
       "    .dataframe tbody tr th:only-of-type {\n",
       "        vertical-align: middle;\n",
       "    }\n",
       "\n",
       "    .dataframe tbody tr th {\n",
       "        vertical-align: top;\n",
       "    }\n",
       "\n",
       "    .dataframe thead th {\n",
       "        text-align: right;\n",
       "    }\n",
       "</style>\n",
       "<table border=\"1\" class=\"dataframe\">\n",
       "  <thead>\n",
       "    <tr style=\"text-align: right;\">\n",
       "      <th></th>\n",
       "      <th>Categorias</th>\n",
       "      <th>Totais de Campos Lexicais</th>\n",
       "    </tr>\n",
       "  </thead>\n",
       "  <tbody>\n",
       "    <tr>\n",
       "      <th>0</th>\n",
       "      <td>1. Fator sinérgico</td>\n",
       "      <td>127</td>\n",
       "    </tr>\n",
       "    <tr>\n",
       "      <th>1</th>\n",
       "      <td>2. Fator comunicacional</td>\n",
       "      <td>156</td>\n",
       "    </tr>\n",
       "    <tr>\n",
       "      <th>2</th>\n",
       "      <td>3. Fator bem-estar e saúde</td>\n",
       "      <td>39</td>\n",
       "    </tr>\n",
       "    <tr>\n",
       "      <th>3</th>\n",
       "      <td>4. Fator epidêmico</td>\n",
       "      <td>57</td>\n",
       "    </tr>\n",
       "    <tr>\n",
       "      <th>4</th>\n",
       "      <td>5. Fator causa-efeito</td>\n",
       "      <td>99</td>\n",
       "    </tr>\n",
       "    <tr>\n",
       "      <th>5</th>\n",
       "      <td>6. Fator estrutural</td>\n",
       "      <td>87</td>\n",
       "    </tr>\n",
       "    <tr>\n",
       "      <th>6</th>\n",
       "      <td>7. Fator social</td>\n",
       "      <td>136</td>\n",
       "    </tr>\n",
       "    <tr>\n",
       "      <th>7</th>\n",
       "      <td>8. Fator político</td>\n",
       "      <td>78</td>\n",
       "    </tr>\n",
       "    <tr>\n",
       "      <th>8</th>\n",
       "      <td>9. Fator econômico</td>\n",
       "      <td>39</td>\n",
       "    </tr>\n",
       "    <tr>\n",
       "      <th>9</th>\n",
       "      <td>10. Fator ambiental e territorial</td>\n",
       "      <td>138</td>\n",
       "    </tr>\n",
       "    <tr>\n",
       "      <th>10</th>\n",
       "      <td>11. Protocolos de Prevenção</td>\n",
       "      <td>9</td>\n",
       "    </tr>\n",
       "  </tbody>\n",
       "</table>\n",
       "</div>"
      ],
      "text/plain": [
       "                            Categorias  Totais de Campos Lexicais\n",
       "0                   1. Fator sinérgico                        127\n",
       "1             2. Fator comunicacional                         156\n",
       "2          3. Fator bem-estar e saúde                          39\n",
       "3                  4. Fator epidêmico                          57\n",
       "4                5. Fator causa-efeito                         99\n",
       "5                  6. Fator estrutural                         87\n",
       "6                     7. Fator social                         136\n",
       "7                    8. Fator político                         78\n",
       "8                   9. Fator econômico                         39\n",
       "9   10. Fator ambiental e territorial                         138\n",
       "10         11. Protocolos de Prevenção                          9"
      ]
     },
     "execution_count": 11,
     "metadata": {},
     "output_type": "execute_result"
    }
   ],
   "source": [
    "# Removendo categoria \"Não aderente\" do dataframe\n",
    "\n",
    "data2 = data.drop(11)\n",
    "data2"
   ]
  },
  {
   "cell_type": "code",
   "execution_count": 12,
   "id": "c77a35cc",
   "metadata": {},
   "outputs": [
    {
     "data": {
      "image/png": "[encoded data removed]",
      "text/plain": [
       "<Figure size 720x792 with 1 Axes>"
      ]
     },
     "metadata": {},
     "output_type": "display_data"
    }
   ],
   "source": [
    "# Definindo conjunto de dados\n",
    "categorias = data2['Categorias']\n",
    "totais = data2['Totais de Campos Lexicais']\n",
    "explode_val = (0.1,0.1,0,0,0,0,0.1,0,0,0.1,0)\n",
    "\n",
    "fig = plt.figure(figsize=(10, 11))\n",
    "plt.pie(totais, labels=categorias, autopct='%0.1f%%', explode = explode_val)\n",
    "plt.title('Totais de Campos Lexicais por Categoria', color=\"black\", fontweight=\"bold\", fontsize=\"20\")\n",
    "plt.savefig('Gráfico_Totais de Campos Lexicais por Categoria.png')#salvando gráfico como imagem\n",
    "plt.show()\n",
    "\n"
   ]
  },
  {
   "cell_type": "code",
   "execution_count": 46,
   "id": "06764476",
   "metadata": {},
   "outputs": [
    {
     "data": {
      "text/html": [
       "<div>\n",
       "<style scoped>\n",
       "    .dataframe tbody tr th:only-of-type {\n",
       "        vertical-align: middle;\n",
       "    }\n",
       "\n",
       "    .dataframe tbody tr th {\n",
       "        vertical-align: top;\n",
       "    }\n",
       "\n",
       "    .dataframe thead th {\n",
       "        text-align: right;\n",
       "    }\n",
       "</style>\n",
       "<table border=\"1\" class=\"dataframe\">\n",
       "  <thead>\n",
       "    <tr style=\"text-align: right;\">\n",
       "      <th></th>\n",
       "      <th>Campos Lexicais</th>\n",
       "      <th>valores</th>\n",
       "      <th>Total de termos associados</th>\n",
       "    </tr>\n",
       "  </thead>\n",
       "  <tbody>\n",
       "    <tr>\n",
       "      <th>0</th>\n",
       "      <td>1. Fator sinérgico</td>\n",
       "      <td>80</td>\n",
       "      <td>127</td>\n",
       "    </tr>\n",
       "    <tr>\n",
       "      <th>1</th>\n",
       "      <td>2. Fator comunicacional</td>\n",
       "      <td>95</td>\n",
       "      <td>156</td>\n",
       "    </tr>\n",
       "    <tr>\n",
       "      <th>2</th>\n",
       "      <td>3. Fator bem-estar e saúde</td>\n",
       "      <td>30</td>\n",
       "      <td>39</td>\n",
       "    </tr>\n",
       "    <tr>\n",
       "      <th>3</th>\n",
       "      <td>4. Fator epidêmico</td>\n",
       "      <td>45</td>\n",
       "      <td>57</td>\n",
       "    </tr>\n",
       "    <tr>\n",
       "      <th>4</th>\n",
       "      <td>5. Fator causa-efeito</td>\n",
       "      <td>75</td>\n",
       "      <td>99</td>\n",
       "    </tr>\n",
       "    <tr>\n",
       "      <th>5</th>\n",
       "      <td>6. Fator estrutural</td>\n",
       "      <td>87</td>\n",
       "      <td>87</td>\n",
       "    </tr>\n",
       "    <tr>\n",
       "      <th>6</th>\n",
       "      <td>7. Fator social</td>\n",
       "      <td>85</td>\n",
       "      <td>136</td>\n",
       "    </tr>\n",
       "    <tr>\n",
       "      <th>7</th>\n",
       "      <td>8. Fator político</td>\n",
       "      <td>60</td>\n",
       "      <td>78</td>\n",
       "    </tr>\n",
       "    <tr>\n",
       "      <th>8</th>\n",
       "      <td>9. Fator econômico</td>\n",
       "      <td>20</td>\n",
       "      <td>39</td>\n",
       "    </tr>\n",
       "    <tr>\n",
       "      <th>9</th>\n",
       "      <td>10. Fator ambiental e territorial</td>\n",
       "      <td>90</td>\n",
       "      <td>138</td>\n",
       "    </tr>\n",
       "    <tr>\n",
       "      <th>10</th>\n",
       "      <td>11. Protocolos de Prevenção</td>\n",
       "      <td>10</td>\n",
       "      <td>9</td>\n",
       "    </tr>\n",
       "  </tbody>\n",
       "</table>\n",
       "</div>"
      ],
      "text/plain": [
       "                      Campos Lexicais  valores  Total de termos associados\n",
       "0                  1. Fator sinérgico       80                         127\n",
       "1             2. Fator comunicacional       95                         156\n",
       "2          3. Fator bem-estar e saúde       30                          39\n",
       "3                  4. Fator epidêmico       45                          57\n",
       "4               5. Fator causa-efeito       75                          99\n",
       "5                 6. Fator estrutural       87                          87\n",
       "6                     7. Fator social       85                         136\n",
       "7                   8. Fator político       60                          78\n",
       "8                  9. Fator econômico       20                          39\n",
       "9   10. Fator ambiental e territorial       90                         138\n",
       "10        11. Protocolos de Prevenção       10                           9"
      ]
     },
     "execution_count": 46,
     "metadata": {},
     "output_type": "execute_result"
    }
   ],
   "source": [
    "# Criando data para gerar grafico de campos lexicais - a variável valor se refere a dimensão das bolhas do gráfico\n",
    "\n",
    "data = {'Campos Lexicais':['1. Fator sinérgico', '2. Fator comunicacional', '3. Fator bem-estar e saúde',\n",
    "                          '4. Fator epidêmico', '5. Fator causa-efeito', '6. Fator estrutural',\n",
    "                          '7. Fator social', '8. Fator político', '9. Fator econômico', \n",
    "                          '10. Fator ambiental e territorial', '11. Protocolos de Prevenção'],\n",
    "        'valores': [80, 95, 30, 45,75,87,85,60,20,90,10], 'Total de termos associados': [127, 156,39,57,99,87,136,78,39,138,9]}\n",
    "data = pd.DataFrame(data)\n",
    "data"
   ]
  },
  {
   "cell_type": "code",
   "execution_count": 50,
   "id": "23304e10",
   "metadata": {},
   "outputs": [
    {
     "data": {
      "application/vnd.plotly.v1+json": {
       "config": {
        "plotlyServerURL": "https://plot.ly"
       },
       "data": [
        {
         "hovertemplate": "<b>%{hovertext}</b><br><br>Campos Lexicais=1. Fator sinérgico<br>Total de termos associados=%{x}<br>valores=%{marker.size}<extra></extra>",
         "hovertext": [
          "1. Fator sinérgico"
         ],
         "legendgroup": "1. Fator sinérgico",
         "marker": {
          "color": "#636efa",
          "size": [
           80
          ],
          "sizemode": "area",
          "sizeref": 0.038,
          "symbol": "circle"
         },
         "mode": "markers",
         "name": "1. Fator sinérgico",
         "orientation": "v",
         "showlegend": true,
         "type": "scatter",
         "x": [
          127
         ],
         "xaxis": "x",
         "y": [
          80
         ],
         "yaxis": "y"
        },
        {
         "hovertemplate": "<b>%{hovertext}</b><br><br>Campos Lexicais=2. Fator comunicacional<br>Total de termos associados=%{x}<br>valores=%{marker.size}<extra></extra>",
         "hovertext": [
          "2. Fator comunicacional"
         ],
         "legendgroup": "2. Fator comunicacional",
         "marker": {
          "color": "#EF553B",
          "size": [
           95
          ],
          "sizemode": "area",
          "sizeref": 0.038,
          "symbol": "circle"
         },
         "mode": "markers",
         "name": "2. Fator comunicacional",
         "orientation": "v",
         "showlegend": true,
         "type": "scatter",
         "x": [
          156
         ],
         "xaxis": "x",
         "y": [
          95
         ],
         "yaxis": "y"
        },
        {
         "hovertemplate": "<b>%{hovertext}</b><br><br>Campos Lexicais=3. Fator bem-estar e saúde<br>Total de termos associados=%{x}<br>valores=%{marker.size}<extra></extra>",
         "hovertext": [
          "3. Fator bem-estar e saúde"
         ],
         "legendgroup": "3. Fator bem-estar e saúde",
         "marker": {
          "color": "#00cc96",
          "size": [
           30
          ],
          "sizemode": "area",
          "sizeref": 0.038,
          "symbol": "circle"
         },
         "mode": "markers",
         "name": "3. Fator bem-estar e saúde",
         "orientation": "v",
         "showlegend": true,
         "type": "scatter",
         "x": [
          39
         ],
         "xaxis": "x",
         "y": [
          30
         ],
         "yaxis": "y"
        },
        {
         "hovertemplate": "<b>%{hovertext}</b><br><br>Campos Lexicais=4. Fator epidêmico<br>Total de termos associados=%{x}<br>valores=%{marker.size}<extra></extra>",
         "hovertext": [
          "4. Fator epidêmico"
         ],
         "legendgroup": "4. Fator epidêmico",
         "marker": {
          "color": "#ab63fa",
          "size": [
           45
          ],
          "sizemode": "area",
          "sizeref": 0.038,
          "symbol": "circle"
         },
         "mode": "markers",
         "name": "4. Fator epidêmico",
         "orientation": "v",
         "showlegend": true,
         "type": "scatter",
         "x": [
          57
         ],
         "xaxis": "x",
         "y": [
          45
         ],
         "yaxis": "y"
        },
        {
         "hovertemplate": "<b>%{hovertext}</b><br><br>Campos Lexicais=5. Fator causa-efeito<br>Total de termos associados=%{x}<br>valores=%{marker.size}<extra></extra>",
         "hovertext": [
          "5. Fator causa-efeito"
         ],
         "legendgroup": "5. Fator causa-efeito",
         "marker": {
          "color": "#FFA15A",
          "size": [
           75
          ],
          "sizemode": "area",
          "sizeref": 0.038,
          "symbol": "circle"
         },
         "mode": "markers",
         "name": "5. Fator causa-efeito",
         "orientation": "v",
         "showlegend": true,
         "type": "scatter",
         "x": [
          99
         ],
         "xaxis": "x",
         "y": [
          75
         ],
         "yaxis": "y"
        },
        {
         "hovertemplate": "<b>%{hovertext}</b><br><br>Campos Lexicais=6. Fator estrutural<br>Total de termos associados=%{x}<br>valores=%{marker.size}<extra></extra>",
         "hovertext": [
          "6. Fator estrutural"
         ],
         "legendgroup": "6. Fator estrutural",
         "marker": {
          "color": "#19d3f3",
          "size": [
           87
          ],
          "sizemode": "area",
          "sizeref": 0.038,
          "symbol": "circle"
         },
         "mode": "markers",
         "name": "6. Fator estrutural",
         "orientation": "v",
         "showlegend": true,
         "type": "scatter",
         "x": [
          87
         ],
         "xaxis": "x",
         "y": [
          87
         ],
         "yaxis": "y"
        },
        {
         "hovertemplate": "<b>%{hovertext}</b><br><br>Campos Lexicais=7. Fator social<br>Total de termos associados=%{x}<br>valores=%{marker.size}<extra></extra>",
         "hovertext": [
          "7. Fator social"
         ],
         "legendgroup": "7. Fator social",
         "marker": {
          "color": "#FF6692",
          "size": [
           85
          ],
          "sizemode": "area",
          "sizeref": 0.038,
          "symbol": "circle"
         },
         "mode": "markers",
         "name": "7. Fator social",
         "orientation": "v",
         "showlegend": true,
         "type": "scatter",
         "x": [
          136
         ],
         "xaxis": "x",
         "y": [
          85
         ],
         "yaxis": "y"
        },
        {
         "hovertemplate": "<b>%{hovertext}</b><br><br>Campos Lexicais=8. Fator político<br>Total de termos associados=%{x}<br>valores=%{marker.size}<extra></extra>",
         "hovertext": [
          "8. Fator político"
         ],
         "legendgroup": "8. Fator político",
         "marker": {
          "color": "#B6E880",
          "size": [
           60
          ],
          "sizemode": "area",
          "sizeref": 0.038,
          "symbol": "circle"
         },
         "mode": "markers",
         "name": "8. Fator político",
         "orientation": "v",
         "showlegend": true,
         "type": "scatter",
         "x": [
          78
         ],
         "xaxis": "x",
         "y": [
          60
         ],
         "yaxis": "y"
        },
        {
         "hovertemplate": "<b>%{hovertext}</b><br><br>Campos Lexicais=9. Fator econômico<br>Total de termos associados=%{x}<br>valores=%{marker.size}<extra></extra>",
         "hovertext": [
          "9. Fator econômico"
         ],
         "legendgroup": "9. Fator econômico",
         "marker": {
          "color": "#FF97FF",
          "size": [
           20
          ],
          "sizemode": "area",
          "sizeref": 0.038,
          "symbol": "circle"
         },
         "mode": "markers",
         "name": "9. Fator econômico",
         "orientation": "v",
         "showlegend": true,
         "type": "scatter",
         "x": [
          39
         ],
         "xaxis": "x",
         "y": [
          20
         ],
         "yaxis": "y"
        },
        {
         "hovertemplate": "<b>%{hovertext}</b><br><br>Campos Lexicais=10. Fator ambiental e territorial<br>Total de termos associados=%{x}<br>valores=%{marker.size}<extra></extra>",
         "hovertext": [
          "10. Fator ambiental e territorial"
         ],
         "legendgroup": "10. Fator ambiental e territorial",
         "marker": {
          "color": "#FECB52",
          "size": [
           90
          ],
          "sizemode": "area",
          "sizeref": 0.038,
          "symbol": "circle"
         },
         "mode": "markers",
         "name": "10. Fator ambiental e territorial",
         "orientation": "v",
         "showlegend": true,
         "type": "scatter",
         "x": [
          138
         ],
         "xaxis": "x",
         "y": [
          90
         ],
         "yaxis": "y"
        },
        {
         "hovertemplate": "<b>%{hovertext}</b><br><br>Campos Lexicais=11. Protocolos de Prevenção<br>Total de termos associados=%{x}<br>valores=%{marker.size}<extra></extra>",
         "hovertext": [
          "11. Protocolos de Prevenção"
         ],
         "legendgroup": "11. Protocolos de Prevenção",
         "marker": {
          "color": "#636efa",
          "size": [
           10
          ],
          "sizemode": "area",
          "sizeref": 0.038,
          "symbol": "circle"
         },
         "mode": "markers",
         "name": "11. Protocolos de Prevenção",
         "orientation": "v",
         "showlegend": true,
         "type": "scatter",
         "x": [
          9
         ],
         "xaxis": "x",
         "y": [
          10
         ],
         "yaxis": "y"
        }
       ],
       "layout": {
        "legend": {
         "itemsizing": "constant",
         "title": {
          "text": "Campos Lexicais"
         },
         "tracegroupgap": 0
        },
        "margin": {
         "t": 60
        },
        "template": {
         "data": {
          "bar": [
           {
            "error_x": {
             "color": "#2a3f5f"
            },
            "error_y": {
             "color": "#2a3f5f"
            },
            "marker": {
             "line": {
              "color": "#E5ECF6",
              "width": 0.5
             },
             "pattern": {
              "fillmode": "overlay",
              "size": 10,
              "solidity": 0.2
             }
            },
            "type": "bar"
           }
          ],
          "barpolar": [
           {
            "marker": {
             "line": {
              "color": "#E5ECF6",
              "width": 0.5
             },
             "pattern": {
              "fillmode": "overlay",
              "size": 10,
              "solidity": 0.2
             }
            },
            "type": "barpolar"
           }
          ],
          "carpet": [
           {
            "aaxis": {
             "endlinecolor": "#2a3f5f",
             "gridcolor": "white",
             "linecolor": "white",
             "minorgridcolor": "white",
             "startlinecolor": "#2a3f5f"
            },
            "baxis": {
             "endlinecolor": "#2a3f5f",
             "gridcolor": "white",
             "linecolor": "white",
             "minorgridcolor": "white",
             "startlinecolor": "#2a3f5f"
            },
            "type": "carpet"
           }
          ],
          "choropleth": [
           {
            "colorbar": {
             "outlinewidth": 0,
             "ticks": ""
            },
            "type": "choropleth"
           }
          ],
          "contour": [
           {
            "colorbar": {
             "outlinewidth": 0,
             "ticks": ""
            },
            "colorscale": [
             [
              0,
              "#0d0887"
             ],
             [
              0.1111111111111111,
              "#46039f"
             ],
             [
              0.2222222222222222,
              "#7201a8"
             ],
             [
              0.3333333333333333,
              "#9c179e"
             ],
             [
              0.4444444444444444,
              "#bd3786"
             ],
             [
              0.5555555555555556,
              "#d8576b"
             ],
             [
              0.6666666666666666,
              "#ed7953"
             ],
             [
              0.7777777777777778,
              "#fb9f3a"
             ],
             [
              0.8888888888888888,
              "#fdca26"
             ],
             [
              1,
              "#f0f921"
             ]
            ],
            "type": "contour"
           }
          ],
          "contourcarpet": [
           {
            "colorbar": {
             "outlinewidth": 0,
             "ticks": ""
            },
            "type": "contourcarpet"
           }
          ],
          "heatmap": [
           {
            "colorbar": {
             "outlinewidth": 0,
             "ticks": ""
            },
            "colorscale": [
             [
              0,
              "#0d0887"
             ],
             [
              0.1111111111111111,
              "#46039f"
             ],
             [
              0.2222222222222222,
              "#7201a8"
             ],
             [
              0.3333333333333333,
              "#9c179e"
             ],
             [
              0.4444444444444444,
              "#bd3786"
             ],
             [
              0.5555555555555556,
              "#d8576b"
             ],
             [
              0.6666666666666666,
              "#ed7953"
             ],
             [
              0.7777777777777778,
              "#fb9f3a"
             ],
             [
              0.8888888888888888,
              "#fdca26"
             ],
             [
              1,
              "#f0f921"
             ]
            ],
            "type": "heatmap"
           }
          ],
          "heatmapgl": [
           {
            "colorbar": {
             "outlinewidth": 0,
             "ticks": ""
            },
            "colorscale": [
             [
              0,
              "#0d0887"
             ],
             [
              0.1111111111111111,
              "#46039f"
             ],
             [
              0.2222222222222222,
              "#7201a8"
             ],
             [
              0.3333333333333333,
              "#9c179e"
             ],
             [
              0.4444444444444444,
              "#bd3786"
             ],
             [
              0.5555555555555556,
              "#d8576b"
             ],
             [
              0.6666666666666666,
              "#ed7953"
             ],
             [
              0.7777777777777778,
              "#fb9f3a"
             ],
             [
              0.8888888888888888,
              "#fdca26"
             ],
             [
              1,
              "#f0f921"
             ]
            ],
            "type": "heatmapgl"
           }
          ],
          "histogram": [
           {
            "marker": {
             "pattern": {
              "fillmode": "overlay",
              "size": 10,
              "solidity": 0.2
             }
            },
            "type": "histogram"
           }
          ],
          "histogram2d": [
           {
            "colorbar": {
             "outlinewidth": 0,
             "ticks": ""
            },
            "colorscale": [
             [
              0,
              "#0d0887"
             ],
             [
              0.1111111111111111,
              "#46039f"
             ],
             [
              0.2222222222222222,
              "#7201a8"
             ],
             [
              0.3333333333333333,
              "#9c179e"
             ],
             [
              0.4444444444444444,
              "#bd3786"
             ],
             [
              0.5555555555555556,
              "#d8576b"
             ],
             [
              0.6666666666666666,
              "#ed7953"
             ],
             [
              0.7777777777777778,
              "#fb9f3a"
             ],
             [
              0.8888888888888888,
              "#fdca26"
             ],
             [
              1,
              "#f0f921"
             ]
            ],
            "type": "histogram2d"
           }
          ],
          "histogram2dcontour": [
           {
            "colorbar": {
             "outlinewidth": 0,
             "ticks": ""
            },
            "colorscale": [
             [
              0,
              "#0d0887"
             ],
             [
              0.1111111111111111,
              "#46039f"
             ],
             [
              0.2222222222222222,
              "#7201a8"
             ],
             [
              0.3333333333333333,
              "#9c179e"
             ],
             [
              0.4444444444444444,
              "#bd3786"
             ],
             [
              0.5555555555555556,
              "#d8576b"
             ],
             [
              0.6666666666666666,
              "#ed7953"
             ],
             [
              0.7777777777777778,
              "#fb9f3a"
             ],
             [
              0.8888888888888888,
              "#fdca26"
             ],
             [
              1,
              "#f0f921"
             ]
            ],
            "type": "histogram2dcontour"
           }
          ],
          "mesh3d": [
           {
            "colorbar": {
             "outlinewidth": 0,
             "ticks": ""
            },
            "type": "mesh3d"
           }
          ],
          "parcoords": [
           {
            "line": {
             "colorbar": {
              "outlinewidth": 0,
              "ticks": ""
             }
            },
            "type": "parcoords"
           }
          ],
          "pie": [
           {
            "automargin": true,
            "type": "pie"
           }
          ],
          "scatter": [
           {
            "marker": {
             "colorbar": {
              "outlinewidth": 0,
              "ticks": ""
             }
            },
            "type": "scatter"
           }
          ],
          "scatter3d": [
           {
            "line": {
             "colorbar": {
              "outlinewidth": 0,
              "ticks": ""
             }
            },
            "marker": {
             "colorbar": {
              "outlinewidth": 0,
              "ticks": ""
             }
            },
            "type": "scatter3d"
           }
          ],
          "scattercarpet": [
           {
            "marker": {
             "colorbar": {
              "outlinewidth": 0,
              "ticks": ""
             }
            },
            "type": "scattercarpet"
           }
          ],
          "scattergeo": [
           {
            "marker": {
             "colorbar": {
              "outlinewidth": 0,
              "ticks": ""
             }
            },
            "type": "scattergeo"
           }
          ],
          "scattergl": [
           {
            "marker": {
             "colorbar": {
              "outlinewidth": 0,
              "ticks": ""
             }
            },
            "type": "scattergl"
           }
          ],
          "scattermapbox": [
           {
            "marker": {
             "colorbar": {
              "outlinewidth": 0,
              "ticks": ""
             }
            },
            "type": "scattermapbox"
           }
          ],
          "scatterpolar": [
           {
            "marker": {
             "colorbar": {
              "outlinewidth": 0,
              "ticks": ""
             }
            },
            "type": "scatterpolar"
           }
          ],
          "scatterpolargl": [
           {
            "marker": {
             "colorbar": {
              "outlinewidth": 0,
              "ticks": ""
             }
            },
            "type": "scatterpolargl"
           }
          ],
          "scatterternary": [
           {
            "marker": {
             "colorbar": {
              "outlinewidth": 0,
              "ticks": ""
             }
            },
            "type": "scatterternary"
           }
          ],
          "surface": [
           {
            "colorbar": {
             "outlinewidth": 0,
             "ticks": ""
            },
            "colorscale": [
             [
              0,
              "#0d0887"
             ],
             [
              0.1111111111111111,
              "#46039f"
             ],
             [
              0.2222222222222222,
              "#7201a8"
             ],
             [
              0.3333333333333333,
              "#9c179e"
             ],
             [
              0.4444444444444444,
              "#bd3786"
             ],
             [
              0.5555555555555556,
              "#d8576b"
             ],
             [
              0.6666666666666666,
              "#ed7953"
             ],
             [
              0.7777777777777778,
              "#fb9f3a"
             ],
             [
              0.8888888888888888,
              "#fdca26"
             ],
             [
              1,
              "#f0f921"
             ]
            ],
            "type": "surface"
           }
          ],
          "table": [
           {
            "cells": {
             "fill": {
              "color": "#EBF0F8"
             },
             "line": {
              "color": "white"
             }
            },
            "header": {
             "fill": {
              "color": "#C8D4E3"
             },
             "line": {
              "color": "white"
             }
            },
            "type": "table"
           }
          ]
         },
         "layout": {
          "annotationdefaults": {
           "arrowcolor": "#2a3f5f",
           "arrowhead": 0,
           "arrowwidth": 1
          },
          "autotypenumbers": "strict",
          "coloraxis": {
           "colorbar": {
            "outlinewidth": 0,
            "ticks": ""
           }
          },
          "colorscale": {
           "diverging": [
            [
             0,
             "#8e0152"
            ],
            [
             0.1,
             "#c51b7d"
            ],
            [
             0.2,
             "#de77ae"
            ],
            [
             0.3,
             "#f1b6da"
            ],
            [
             0.4,
             "#fde0ef"
            ],
            [
             0.5,
             "#f7f7f7"
            ],
            [
             0.6,
             "#e6f5d0"
            ],
            [
             0.7,
             "#b8e186"
            ],
            [
             0.8,
             "#7fbc41"
            ],
            [
             0.9,
             "#4d9221"
            ],
            [
             1,
             "#276419"
            ]
           ],
           "sequential": [
            [
             0,
             "#0d0887"
            ],
            [
             0.1111111111111111,
             "#46039f"
            ],
            [
             0.2222222222222222,
             "#7201a8"
            ],
            [
             0.3333333333333333,
             "#9c179e"
            ],
            [
             0.4444444444444444,
             "#bd3786"
            ],
            [
             0.5555555555555556,
             "#d8576b"
            ],
            [
             0.6666666666666666,
             "#ed7953"
            ],
            [
             0.7777777777777778,
             "#fb9f3a"
            ],
            [
             0.8888888888888888,
             "#fdca26"
            ],
            [
             1,
             "#f0f921"
            ]
           ],
           "sequentialminus": [
            [
             0,
             "#0d0887"
            ],
            [
             0.1111111111111111,
             "#46039f"
            ],
            [
             0.2222222222222222,
             "#7201a8"
            ],
            [
             0.3333333333333333,
             "#9c179e"
            ],
            [
             0.4444444444444444,
             "#bd3786"
            ],
            [
             0.5555555555555556,
             "#d8576b"
            ],
            [
             0.6666666666666666,
             "#ed7953"
            ],
            [
             0.7777777777777778,
             "#fb9f3a"
            ],
            [
             0.8888888888888888,
             "#fdca26"
            ],
            [
             1,
             "#f0f921"
            ]
           ]
          },
          "colorway": [
           "#636efa",
           "#EF553B",
           "#00cc96",
           "#ab63fa",
           "#FFA15A",
           "#19d3f3",
           "#FF6692",
           "#B6E880",
           "#FF97FF",
           "#FECB52"
          ],
          "font": {
           "color": "#2a3f5f"
          },
          "geo": {
           "bgcolor": "white",
           "lakecolor": "white",
           "landcolor": "#E5ECF6",
           "showlakes": true,
           "showland": true,
           "subunitcolor": "white"
          },
          "hoverlabel": {
           "align": "left"
          },
          "hovermode": "closest",
          "mapbox": {
           "style": "light"
          },
          "paper_bgcolor": "white",
          "plot_bgcolor": "#E5ECF6",
          "polar": {
           "angularaxis": {
            "gridcolor": "white",
            "linecolor": "white",
            "ticks": ""
           },
           "bgcolor": "#E5ECF6",
           "radialaxis": {
            "gridcolor": "white",
            "linecolor": "white",
            "ticks": ""
           }
          },
          "scene": {
           "xaxis": {
            "backgroundcolor": "#E5ECF6",
            "gridcolor": "white",
            "gridwidth": 2,
            "linecolor": "white",
            "showbackground": true,
            "ticks": "",
            "zerolinecolor": "white"
           },
           "yaxis": {
            "backgroundcolor": "#E5ECF6",
            "gridcolor": "white",
            "gridwidth": 2,
            "linecolor": "white",
            "showbackground": true,
            "ticks": "",
            "zerolinecolor": "white"
           },
           "zaxis": {
            "backgroundcolor": "#E5ECF6",
            "gridcolor": "white",
            "gridwidth": 2,
            "linecolor": "white",
            "showbackground": true,
            "ticks": "",
            "zerolinecolor": "white"
           }
          },
          "shapedefaults": {
           "line": {
            "color": "#2a3f5f"
           }
          },
          "ternary": {
           "aaxis": {
            "gridcolor": "white",
            "linecolor": "white",
            "ticks": ""
           },
           "baxis": {
            "gridcolor": "white",
            "linecolor": "white",
            "ticks": ""
           },
           "bgcolor": "#E5ECF6",
           "caxis": {
            "gridcolor": "white",
            "linecolor": "white",
            "ticks": ""
           }
          },
          "title": {
           "x": 0.05
          },
          "xaxis": {
           "automargin": true,
           "gridcolor": "white",
           "linecolor": "white",
           "ticks": "",
           "title": {
            "standoff": 15
           },
           "zerolinecolor": "white",
           "zerolinewidth": 2
          },
          "yaxis": {
           "automargin": true,
           "gridcolor": "white",
           "linecolor": "white",
           "ticks": "",
           "title": {
            "standoff": 15
           },
           "zerolinecolor": "white",
           "zerolinewidth": 2
          }
         }
        },
        "width": 800,
        "xaxis": {
         "anchor": "y",
         "domain": [
          0,
          1
         ],
         "title": {
          "text": "Total de Termos Presentes"
         },
         "type": "log"
        },
        "yaxis": {
         "anchor": "x",
         "domain": [
          0,
          1
         ],
         "title": {
          "text": "Percentil"
         }
        }
       }
      },
      "text/html": [
       "<div>                            <div id=\"5e51d4b7-0e67-4187-8ec2-6f5169390013\" class=\"plotly-graph-div\" style=\"height:525px; width:800px;\"></div>            <script type=\"text/javascript\">                require([\"plotly\"], function(Plotly) {                    window.PLOTLYENV=window.PLOTLYENV || {};                                    if (document.getElementById(\"5e51d4b7-0e67-4187-8ec2-6f5169390013\")) {                    Plotly.newPlot(                        \"5e51d4b7-0e67-4187-8ec2-6f5169390013\",                        [{\"hovertemplate\":\"<b>%{hovertext}</b><br><br>Campos Lexicais=1. Fator sin\\u00e9rgico<br>Total de termos associados=%{x}<br>valores=%{marker.size}<extra></extra>\",\"hovertext\":[\"1. Fator sin\\u00e9rgico\"],\"legendgroup\":\"1. Fator sin\\u00e9rgico\",\"marker\":{\"color\":\"#636efa\",\"size\":[80],\"sizemode\":\"area\",\"sizeref\":0.038,\"symbol\":\"circle\"},\"mode\":\"markers\",\"name\":\"1. Fator sin\\u00e9rgico\",\"orientation\":\"v\",\"showlegend\":true,\"x\":[127],\"xaxis\":\"x\",\"y\":[80],\"yaxis\":\"y\",\"type\":\"scatter\"},{\"hovertemplate\":\"<b>%{hovertext}</b><br><br>Campos Lexicais=2. Fator comunicacional<br>Total de termos associados=%{x}<br>valores=%{marker.size}<extra></extra>\",\"hovertext\":[\"2. Fator comunicacional\"],\"legendgroup\":\"2. Fator comunicacional\",\"marker\":{\"color\":\"#EF553B\",\"size\":[95],\"sizemode\":\"area\",\"sizeref\":0.038,\"symbol\":\"circle\"},\"mode\":\"markers\",\"name\":\"2. Fator comunicacional\",\"orientation\":\"v\",\"showlegend\":true,\"x\":[156],\"xaxis\":\"x\",\"y\":[95],\"yaxis\":\"y\",\"type\":\"scatter\"},{\"hovertemplate\":\"<b>%{hovertext}</b><br><br>Campos Lexicais=3. Fator bem-estar e sa\\u00fade<br>Total de termos associados=%{x}<br>valores=%{marker.size}<extra></extra>\",\"hovertext\":[\"3. Fator bem-estar e sa\\u00fade\"],\"legendgroup\":\"3. Fator bem-estar e sa\\u00fade\",\"marker\":{\"color\":\"#00cc96\",\"size\":[30],\"sizemode\":\"area\",\"sizeref\":0.038,\"symbol\":\"circle\"},\"mode\":\"markers\",\"name\":\"3. Fator bem-estar e sa\\u00fade\",\"orientation\":\"v\",\"showlegend\":true,\"x\":[39],\"xaxis\":\"x\",\"y\":[30],\"yaxis\":\"y\",\"type\":\"scatter\"},{\"hovertemplate\":\"<b>%{hovertext}</b><br><br>Campos Lexicais=4. Fator epid\\u00eamico<br>Total de termos associados=%{x}<br>valores=%{marker.size}<extra></extra>\",\"hovertext\":[\"4. Fator epid\\u00eamico\"],\"legendgroup\":\"4. Fator epid\\u00eamico\",\"marker\":{\"color\":\"#ab63fa\",\"size\":[45],\"sizemode\":\"area\",\"sizeref\":0.038,\"symbol\":\"circle\"},\"mode\":\"markers\",\"name\":\"4. Fator epid\\u00eamico\",\"orientation\":\"v\",\"showlegend\":true,\"x\":[57],\"xaxis\":\"x\",\"y\":[45],\"yaxis\":\"y\",\"type\":\"scatter\"},{\"hovertemplate\":\"<b>%{hovertext}</b><br><br>Campos Lexicais=5. Fator causa-efeito<br>Total de termos associados=%{x}<br>valores=%{marker.size}<extra></extra>\",\"hovertext\":[\"5. Fator causa-efeito\"],\"legendgroup\":\"5. Fator causa-efeito\",\"marker\":{\"color\":\"#FFA15A\",\"size\":[75],\"sizemode\":\"area\",\"sizeref\":0.038,\"symbol\":\"circle\"},\"mode\":\"markers\",\"name\":\"5. Fator causa-efeito\",\"orientation\":\"v\",\"showlegend\":true,\"x\":[99],\"xaxis\":\"x\",\"y\":[75],\"yaxis\":\"y\",\"type\":\"scatter\"},{\"hovertemplate\":\"<b>%{hovertext}</b><br><br>Campos Lexicais=6. Fator estrutural<br>Total de termos associados=%{x}<br>valores=%{marker.size}<extra></extra>\",\"hovertext\":[\"6. Fator estrutural\"],\"legendgroup\":\"6. Fator estrutural\",\"marker\":{\"color\":\"#19d3f3\",\"size\":[87],\"sizemode\":\"area\",\"sizeref\":0.038,\"symbol\":\"circle\"},\"mode\":\"markers\",\"name\":\"6. Fator estrutural\",\"orientation\":\"v\",\"showlegend\":true,\"x\":[87],\"xaxis\":\"x\",\"y\":[87],\"yaxis\":\"y\",\"type\":\"scatter\"},{\"hovertemplate\":\"<b>%{hovertext}</b><br><br>Campos Lexicais=7. Fator social<br>Total de termos associados=%{x}<br>valores=%{marker.size}<extra></extra>\",\"hovertext\":[\"7. Fator social\"],\"legendgroup\":\"7. Fator social\",\"marker\":{\"color\":\"#FF6692\",\"size\":[85],\"sizemode\":\"area\",\"sizeref\":0.038,\"symbol\":\"circle\"},\"mode\":\"markers\",\"name\":\"7. Fator social\",\"orientation\":\"v\",\"showlegend\":true,\"x\":[136],\"xaxis\":\"x\",\"y\":[85],\"yaxis\":\"y\",\"type\":\"scatter\"},{\"hovertemplate\":\"<b>%{hovertext}</b><br><br>Campos Lexicais=8. Fator pol\\u00edtico<br>Total de termos associados=%{x}<br>valores=%{marker.size}<extra></extra>\",\"hovertext\":[\"8. Fator pol\\u00edtico\"],\"legendgroup\":\"8. Fator pol\\u00edtico\",\"marker\":{\"color\":\"#B6E880\",\"size\":[60],\"sizemode\":\"area\",\"sizeref\":0.038,\"symbol\":\"circle\"},\"mode\":\"markers\",\"name\":\"8. Fator pol\\u00edtico\",\"orientation\":\"v\",\"showlegend\":true,\"x\":[78],\"xaxis\":\"x\",\"y\":[60],\"yaxis\":\"y\",\"type\":\"scatter\"},{\"hovertemplate\":\"<b>%{hovertext}</b><br><br>Campos Lexicais=9. Fator econ\\u00f4mico<br>Total de termos associados=%{x}<br>valores=%{marker.size}<extra></extra>\",\"hovertext\":[\"9. Fator econ\\u00f4mico\"],\"legendgroup\":\"9. Fator econ\\u00f4mico\",\"marker\":{\"color\":\"#FF97FF\",\"size\":[20],\"sizemode\":\"area\",\"sizeref\":0.038,\"symbol\":\"circle\"},\"mode\":\"markers\",\"name\":\"9. Fator econ\\u00f4mico\",\"orientation\":\"v\",\"showlegend\":true,\"x\":[39],\"xaxis\":\"x\",\"y\":[20],\"yaxis\":\"y\",\"type\":\"scatter\"},{\"hovertemplate\":\"<b>%{hovertext}</b><br><br>Campos Lexicais=10. Fator ambiental e territorial<br>Total de termos associados=%{x}<br>valores=%{marker.size}<extra></extra>\",\"hovertext\":[\"10. Fator ambiental e territorial\"],\"legendgroup\":\"10. Fator ambiental e territorial\",\"marker\":{\"color\":\"#FECB52\",\"size\":[90],\"sizemode\":\"area\",\"sizeref\":0.038,\"symbol\":\"circle\"},\"mode\":\"markers\",\"name\":\"10. Fator ambiental e territorial\",\"orientation\":\"v\",\"showlegend\":true,\"x\":[138],\"xaxis\":\"x\",\"y\":[90],\"yaxis\":\"y\",\"type\":\"scatter\"},{\"hovertemplate\":\"<b>%{hovertext}</b><br><br>Campos Lexicais=11. Protocolos de Preven\\u00e7\\u00e3o<br>Total de termos associados=%{x}<br>valores=%{marker.size}<extra></extra>\",\"hovertext\":[\"11. Protocolos de Preven\\u00e7\\u00e3o\"],\"legendgroup\":\"11. Protocolos de Preven\\u00e7\\u00e3o\",\"marker\":{\"color\":\"#636efa\",\"size\":[10],\"sizemode\":\"area\",\"sizeref\":0.038,\"symbol\":\"circle\"},\"mode\":\"markers\",\"name\":\"11. Protocolos de Preven\\u00e7\\u00e3o\",\"orientation\":\"v\",\"showlegend\":true,\"x\":[9],\"xaxis\":\"x\",\"y\":[10],\"yaxis\":\"y\",\"type\":\"scatter\"}],                        {\"template\":{\"data\":{\"bar\":[{\"error_x\":{\"color\":\"#2a3f5f\"},\"error_y\":{\"color\":\"#2a3f5f\"},\"marker\":{\"line\":{\"color\":\"#E5ECF6\",\"width\":0.5},\"pattern\":{\"fillmode\":\"overlay\",\"size\":10,\"solidity\":0.2}},\"type\":\"bar\"}],\"barpolar\":[{\"marker\":{\"line\":{\"color\":\"#E5ECF6\",\"width\":0.5},\"pattern\":{\"fillmode\":\"overlay\",\"size\":10,\"solidity\":0.2}},\"type\":\"barpolar\"}],\"carpet\":[{\"aaxis\":{\"endlinecolor\":\"#2a3f5f\",\"gridcolor\":\"white\",\"linecolor\":\"white\",\"minorgridcolor\":\"white\",\"startlinecolor\":\"#2a3f5f\"},\"baxis\":{\"endlinecolor\":\"#2a3f5f\",\"gridcolor\":\"white\",\"linecolor\":\"white\",\"minorgridcolor\":\"white\",\"startlinecolor\":\"#2a3f5f\"},\"type\":\"carpet\"}],\"choropleth\":[{\"colorbar\":{\"outlinewidth\":0,\"ticks\":\"\"},\"type\":\"choropleth\"}],\"contour\":[{\"colorbar\":{\"outlinewidth\":0,\"ticks\":\"\"},\"colorscale\":[[0.0,\"#0d0887\"],[0.1111111111111111,\"#46039f\"],[0.2222222222222222,\"#7201a8\"],[0.3333333333333333,\"#9c179e\"],[0.4444444444444444,\"#bd3786\"],[0.5555555555555556,\"#d8576b\"],[0.6666666666666666,\"#ed7953\"],[0.7777777777777778,\"#fb9f3a\"],[0.8888888888888888,\"#fdca26\"],[1.0,\"#f0f921\"]],\"type\":\"contour\"}],\"contourcarpet\":[{\"colorbar\":{\"outlinewidth\":0,\"ticks\":\"\"},\"type\":\"contourcarpet\"}],\"heatmap\":[{\"colorbar\":{\"outlinewidth\":0,\"ticks\":\"\"},\"colorscale\":[[0.0,\"#0d0887\"],[0.1111111111111111,\"#46039f\"],[0.2222222222222222,\"#7201a8\"],[0.3333333333333333,\"#9c179e\"],[0.4444444444444444,\"#bd3786\"],[0.5555555555555556,\"#d8576b\"],[0.6666666666666666,\"#ed7953\"],[0.7777777777777778,\"#fb9f3a\"],[0.8888888888888888,\"#fdca26\"],[1.0,\"#f0f921\"]],\"type\":\"heatmap\"}],\"heatmapgl\":[{\"colorbar\":{\"outlinewidth\":0,\"ticks\":\"\"},\"colorscale\":[[0.0,\"#0d0887\"],[0.1111111111111111,\"#46039f\"],[0.2222222222222222,\"#7201a8\"],[0.3333333333333333,\"#9c179e\"],[0.4444444444444444,\"#bd3786\"],[0.5555555555555556,\"#d8576b\"],[0.6666666666666666,\"#ed7953\"],[0.7777777777777778,\"#fb9f3a\"],[0.8888888888888888,\"#fdca26\"],[1.0,\"#f0f921\"]],\"type\":\"heatmapgl\"}],\"histogram\":[{\"marker\":{\"pattern\":{\"fillmode\":\"overlay\",\"size\":10,\"solidity\":0.2}},\"type\":\"histogram\"}],\"histogram2d\":[{\"colorbar\":{\"outlinewidth\":0,\"ticks\":\"\"},\"colorscale\":[[0.0,\"#0d0887\"],[0.1111111111111111,\"#46039f\"],[0.2222222222222222,\"#7201a8\"],[0.3333333333333333,\"#9c179e\"],[0.4444444444444444,\"#bd3786\"],[0.5555555555555556,\"#d8576b\"],[0.6666666666666666,\"#ed7953\"],[0.7777777777777778,\"#fb9f3a\"],[0.8888888888888888,\"#fdca26\"],[1.0,\"#f0f921\"]],\"type\":\"histogram2d\"}],\"histogram2dcontour\":[{\"colorbar\":{\"outlinewidth\":0,\"ticks\":\"\"},\"colorscale\":[[0.0,\"#0d0887\"],[0.1111111111111111,\"#46039f\"],[0.2222222222222222,\"#7201a8\"],[0.3333333333333333,\"#9c179e\"],[0.4444444444444444,\"#bd3786\"],[0.5555555555555556,\"#d8576b\"],[0.6666666666666666,\"#ed7953\"],[0.7777777777777778,\"#fb9f3a\"],[0.8888888888888888,\"#fdca26\"],[1.0,\"#f0f921\"]],\"type\":\"histogram2dcontour\"}],\"mesh3d\":[{\"colorbar\":{\"outlinewidth\":0,\"ticks\":\"\"},\"type\":\"mesh3d\"}],\"parcoords\":[{\"line\":{\"colorbar\":{\"outlinewidth\":0,\"ticks\":\"\"}},\"type\":\"parcoords\"}],\"pie\":[{\"automargin\":true,\"type\":\"pie\"}],\"scatter\":[{\"marker\":{\"colorbar\":{\"outlinewidth\":0,\"ticks\":\"\"}},\"type\":\"scatter\"}],\"scatter3d\":[{\"line\":{\"colorbar\":{\"outlinewidth\":0,\"ticks\":\"\"}},\"marker\":{\"colorbar\":{\"outlinewidth\":0,\"ticks\":\"\"}},\"type\":\"scatter3d\"}],\"scattercarpet\":[{\"marker\":{\"colorbar\":{\"outlinewidth\":0,\"ticks\":\"\"}},\"type\":\"scattercarpet\"}],\"scattergeo\":[{\"marker\":{\"colorbar\":{\"outlinewidth\":0,\"ticks\":\"\"}},\"type\":\"scattergeo\"}],\"scattergl\":[{\"marker\":{\"colorbar\":{\"outlinewidth\":0,\"ticks\":\"\"}},\"type\":\"scattergl\"}],\"scattermapbox\":[{\"marker\":{\"colorbar\":{\"outlinewidth\":0,\"ticks\":\"\"}},\"type\":\"scattermapbox\"}],\"scatterpolar\":[{\"marker\":{\"colorbar\":{\"outlinewidth\":0,\"ticks\":\"\"}},\"type\":\"scatterpolar\"}],\"scatterpolargl\":[{\"marker\":{\"colorbar\":{\"outlinewidth\":0,\"ticks\":\"\"}},\"type\":\"scatterpolargl\"}],\"scatterternary\":[{\"marker\":{\"colorbar\":{\"outlinewidth\":0,\"ticks\":\"\"}},\"type\":\"scatterternary\"}],\"surface\":[{\"colorbar\":{\"outlinewidth\":0,\"ticks\":\"\"},\"colorscale\":[[0.0,\"#0d0887\"],[0.1111111111111111,\"#46039f\"],[0.2222222222222222,\"#7201a8\"],[0.3333333333333333,\"#9c179e\"],[0.4444444444444444,\"#bd3786\"],[0.5555555555555556,\"#d8576b\"],[0.6666666666666666,\"#ed7953\"],[0.7777777777777778,\"#fb9f3a\"],[0.8888888888888888,\"#fdca26\"],[1.0,\"#f0f921\"]],\"type\":\"surface\"}],\"table\":[{\"cells\":{\"fill\":{\"color\":\"#EBF0F8\"},\"line\":{\"color\":\"white\"}},\"header\":{\"fill\":{\"color\":\"#C8D4E3\"},\"line\":{\"color\":\"white\"}},\"type\":\"table\"}]},\"layout\":{\"annotationdefaults\":{\"arrowcolor\":\"#2a3f5f\",\"arrowhead\":0,\"arrowwidth\":1},\"autotypenumbers\":\"strict\",\"coloraxis\":{\"colorbar\":{\"outlinewidth\":0,\"ticks\":\"\"}},\"colorscale\":{\"diverging\":[[0,\"#8e0152\"],[0.1,\"#c51b7d\"],[0.2,\"#de77ae\"],[0.3,\"#f1b6da\"],[0.4,\"#fde0ef\"],[0.5,\"#f7f7f7\"],[0.6,\"#e6f5d0\"],[0.7,\"#b8e186\"],[0.8,\"#7fbc41\"],[0.9,\"#4d9221\"],[1,\"#276419\"]],\"sequential\":[[0.0,\"#0d0887\"],[0.1111111111111111,\"#46039f\"],[0.2222222222222222,\"#7201a8\"],[0.3333333333333333,\"#9c179e\"],[0.4444444444444444,\"#bd3786\"],[0.5555555555555556,\"#d8576b\"],[0.6666666666666666,\"#ed7953\"],[0.7777777777777778,\"#fb9f3a\"],[0.8888888888888888,\"#fdca26\"],[1.0,\"#f0f921\"]],\"sequentialminus\":[[0.0,\"#0d0887\"],[0.1111111111111111,\"#46039f\"],[0.2222222222222222,\"#7201a8\"],[0.3333333333333333,\"#9c179e\"],[0.4444444444444444,\"#bd3786\"],[0.5555555555555556,\"#d8576b\"],[0.6666666666666666,\"#ed7953\"],[0.7777777777777778,\"#fb9f3a\"],[0.8888888888888888,\"#fdca26\"],[1.0,\"#f0f921\"]]},\"colorway\":[\"#636efa\",\"#EF553B\",\"#00cc96\",\"#ab63fa\",\"#FFA15A\",\"#19d3f3\",\"#FF6692\",\"#B6E880\",\"#FF97FF\",\"#FECB52\"],\"font\":{\"color\":\"#2a3f5f\"},\"geo\":{\"bgcolor\":\"white\",\"lakecolor\":\"white\",\"landcolor\":\"#E5ECF6\",\"showlakes\":true,\"showland\":true,\"subunitcolor\":\"white\"},\"hoverlabel\":{\"align\":\"left\"},\"hovermode\":\"closest\",\"mapbox\":{\"style\":\"light\"},\"paper_bgcolor\":\"white\",\"plot_bgcolor\":\"#E5ECF6\",\"polar\":{\"angularaxis\":{\"gridcolor\":\"white\",\"linecolor\":\"white\",\"ticks\":\"\"},\"bgcolor\":\"#E5ECF6\",\"radialaxis\":{\"gridcolor\":\"white\",\"linecolor\":\"white\",\"ticks\":\"\"}},\"scene\":{\"xaxis\":{\"backgroundcolor\":\"#E5ECF6\",\"gridcolor\":\"white\",\"gridwidth\":2,\"linecolor\":\"white\",\"showbackground\":true,\"ticks\":\"\",\"zerolinecolor\":\"white\"},\"yaxis\":{\"backgroundcolor\":\"#E5ECF6\",\"gridcolor\":\"white\",\"gridwidth\":2,\"linecolor\":\"white\",\"showbackground\":true,\"ticks\":\"\",\"zerolinecolor\":\"white\"},\"zaxis\":{\"backgroundcolor\":\"#E5ECF6\",\"gridcolor\":\"white\",\"gridwidth\":2,\"linecolor\":\"white\",\"showbackground\":true,\"ticks\":\"\",\"zerolinecolor\":\"white\"}},\"shapedefaults\":{\"line\":{\"color\":\"#2a3f5f\"}},\"ternary\":{\"aaxis\":{\"gridcolor\":\"white\",\"linecolor\":\"white\",\"ticks\":\"\"},\"baxis\":{\"gridcolor\":\"white\",\"linecolor\":\"white\",\"ticks\":\"\"},\"bgcolor\":\"#E5ECF6\",\"caxis\":{\"gridcolor\":\"white\",\"linecolor\":\"white\",\"ticks\":\"\"}},\"title\":{\"x\":0.05},\"xaxis\":{\"automargin\":true,\"gridcolor\":\"white\",\"linecolor\":\"white\",\"ticks\":\"\",\"title\":{\"standoff\":15},\"zerolinecolor\":\"white\",\"zerolinewidth\":2},\"yaxis\":{\"automargin\":true,\"gridcolor\":\"white\",\"linecolor\":\"white\",\"ticks\":\"\",\"title\":{\"standoff\":15},\"zerolinecolor\":\"white\",\"zerolinewidth\":2}}},\"xaxis\":{\"anchor\":\"y\",\"domain\":[0.0,1.0],\"title\":{\"text\":\"Total de Termos Presentes\"},\"type\":\"log\"},\"yaxis\":{\"anchor\":\"x\",\"domain\":[0.0,1.0],\"title\":{\"text\":\"Percentil\"}},\"legend\":{\"title\":{\"text\":\"Campos Lexicais\"},\"tracegroupgap\":0,\"itemsizing\":\"constant\"},\"margin\":{\"t\":60},\"width\":800},                        {\"responsive\": true}                    ).then(function(){\n",
       "                            \n",
       "var gd = document.getElementById('5e51d4b7-0e67-4187-8ec2-6f5169390013');\n",
       "var x = new MutationObserver(function (mutations, observer) {{\n",
       "        var display = window.getComputedStyle(gd).display;\n",
       "        if (!display || display === 'none') {{\n",
       "            console.log([gd, 'removed!']);\n",
       "            Plotly.purge(gd);\n",
       "            observer.disconnect();\n",
       "        }}\n",
       "}});\n",
       "\n",
       "// Listen for the removal of the full notebook cells\n",
       "var notebookContainer = gd.closest('#notebook-container');\n",
       "if (notebookContainer) {{\n",
       "    x.observe(notebookContainer, {childList: true});\n",
       "}}\n",
       "\n",
       "// Listen for the clearing of the current output cell\n",
       "var outputEl = gd.closest('.output');\n",
       "if (outputEl) {{\n",
       "    x.observe(outputEl, {childList: true});\n",
       "}}\n",
       "\n",
       "                        })                };                });            </script>        </div>"
      ]
     },
     "metadata": {},
     "output_type": "display_data"
    }
   ],
   "source": [
    "# Grafico de campos lexicais\n",
    "\n",
    "import plotly.express as px\n",
    "fig = px.scatter(data, x = \"Total de termos associados\", y = \"valores\", size = \"valores\",  color = 'Campos Lexicais', \n",
    "                 hover_name = \"Campos Lexicais\", log_x = True, size_max = 50, width = 800) \n",
    "fig.update_xaxes(title = 'Total de Termos Presentes') \n",
    "fig.update_yaxes(title = 'Percentil')"
   ]
  }
 ],
 "metadata": {
  "kernelspec": {
   "display_name": "Python 3 (ipykernel)",
   "language": "python",
   "name": "python3"
  },
  "language_info": {
   "codemirror_mode": {
    "name": "ipython",
    "version": 3
   },
   "file_extension": ".py",
   "mimetype": "text/x-python",
   "name": "python",
   "nbconvert_exporter": "python",
   "pygments_lexer": "ipython3",
   "version": "3.9.12"
  }
 },
 "nbformat": 4,
 "nbformat_minor": 5
}
