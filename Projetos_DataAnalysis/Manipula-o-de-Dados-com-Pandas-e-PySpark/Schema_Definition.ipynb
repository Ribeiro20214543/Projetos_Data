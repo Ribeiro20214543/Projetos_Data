{
 "cells": [
  {
   "cell_type": "code",
   "execution_count": 1,
   "id": "b4b9d953",
   "metadata": {},
   "outputs": [
    {
     "name": "stdout",
     "output_type": "stream",
     "text": [
      "root\n",
      " |-- case_id: integer (nullable = true)\n",
      " |-- province: string (nullable = true)\n",
      " |-- city: string (nullable = true)\n",
      " |-- group: boolean (nullable = true)\n",
      " |-- infection_case: string (nullable = true)\n",
      " |-- confirmed: integer (nullable = true)\n",
      " |-- latitude: string (nullable = true)\n",
      " |-- longitude: string (nullable = true)\n",
      "\n"
     ]
    }
   ],
   "source": [
    "#Definicao de Schema\n",
    "from pyspark.sql.session import SparkSession\n",
    "\n",
    "#Definindo os tipos de dados a serem trabalhados\n",
    "from pyspark.sql.types import (ArrayType, BooleanType, FloatType, IntegerType, StringType, \n",
    "                               StructField, StructType, TimestampType)\n",
    "\n",
    "import pyspark.sql.functions as F\n",
    "\n",
    "#Criando sessão Spark \n",
    "spark = SparkSession.builder.appName('fisrtSession')\\\n",
    "    .config('spark.master', 'local[4]')\\\n",
    "    .config('spark.executor.memory', '1gb')\\\n",
    "    .config('spark.shuffle.partitions', 1)\\\n",
    "    .getOrCreate()\n",
    "\n",
    "schema = StructType([\n",
    "                StructField('case_id', IntegerType()),\n",
    "                StructField('province', StringType()),\n",
    "                StructField('city', StringType()),\n",
    "                StructField('group', BooleanType()),\n",
    "                StructField('infection_case', StringType()),\n",
    "                StructField('confirmed', IntegerType()),\n",
    "                StructField('latitude', StringType()),\n",
    "                StructField('longitude', StringType())\n",
    "])\n",
    "\n",
    "path = \"covid_cases.csv\"\n",
    "\n",
    "df = spark.read.format('csv')\\\n",
    "    .schema(schema)\\\n",
    "    .load(path)\n",
    "\n",
    "df.printSchema()"
   ]
  },
  {
   "cell_type": "code",
   "execution_count": 2,
   "id": "f38557d7",
   "metadata": {},
   "outputs": [
    {
     "name": "stdout",
     "output_type": "stream",
     "text": [
      "+-------+--------+---------------+-----+--------------------+---------+---------+----------+\n",
      "|case_id|province|           city|group|   Casos de Infecção|confirmed| latitude| longitude|\n",
      "+-------+--------+---------------+-----+--------------------+---------+---------+----------+\n",
      "|1000001|   Seoul|     Yongsan-gu| true|       Itaewon Clubs|      139|37.538621|126.992652|\n",
      "|1000002|   Seoul|      Gwanak-gu| true|             Richway|      119| 37.48208|126.901384|\n",
      "|1000003|   Seoul|        Guro-gu| true| Guro-gu Call Center|       95|37.508163|126.884387|\n",
      "|1000004|   Seoul|   Yangcheon-gu| true|Yangcheon Table T...|       43|37.546061|126.874209|\n",
      "|1000005|   Seoul|      Dobong-gu| true|     Day Care Center|       43|37.679422|127.044374|\n",
      "|1000006|   Seoul|        Guro-gu| true|Manmin Central Ch...|       41|37.481059|126.894343|\n",
      "|1000007|   Seoul|from other city| true|SMR Newly Planted...|       36|        -|         -|\n",
      "|1000008|   Seoul|  Dongdaemun-gu| true|       Dongan Church|       17|37.592888|127.056766|\n",
      "|1000009|   Seoul|from other city| true|Coupang Logistics...|       25|        -|         -|\n",
      "|1000010|   Seoul|      Gwanak-gu| true|     Wangsung Church|       30|37.481735|126.930121|\n",
      "|1000011|   Seoul|   Eunpyeong-gu| true|Eunpyeong St. Mar...|       14| 37.63369|  126.9165|\n",
      "|1000012|   Seoul|   Seongdong-gu| true|    Seongdong-gu APT|       13| 37.55713|  127.0403|\n",
      "|1000013|   Seoul|      Jongno-gu| true|Jongno Community ...|       10| 37.57681|   127.006|\n",
      "|1000014|   Seoul|     Gangnam-gu| true|Samsung Medical C...|        7| 37.48825| 127.08559|\n",
      "|1000015|   Seoul|        Jung-gu| true|Jung-gu Fashion C...|        7|37.562405|126.984377|\n",
      "|1000016|   Seoul|   Seodaemun-gu| true|  Yeonana News Class|        5|37.558147|126.943799|\n",
      "|1000017|   Seoul|      Jongno-gu| true|Korea Campus Crus...|        7|37.594782|126.968022|\n",
      "|1000018|   Seoul|     Gangnam-gu| true|Gangnam Yeoksam-d...|        6|        -|         -|\n",
      "|1000019|   Seoul|from other city| true|Daejeon door-to-d...|        1|        -|         -|\n",
      "|1000020|   Seoul|   Geumcheon-gu| true|Geumcheon-gu rice...|        6|        -|         -|\n",
      "+-------+--------+---------------+-----+--------------------+---------+---------+----------+\n",
      "only showing top 20 rows\n",
      "\n"
     ]
    }
   ],
   "source": [
    "cases1 = df.withColumnRenamed('infection_case', 'Casos de Infecção')\n",
    "cases1.show()"
   ]
  },
  {
   "cell_type": "code",
   "execution_count": 3,
   "id": "d48a748b",
   "metadata": {},
   "outputs": [
    {
     "name": "stdout",
     "output_type": "stream",
     "text": [
      "+-------+--------+---------------+-----+--------------------+---------+---------+----------+\n",
      "|case_id|province|           city|group|   Casos de Infecção|confirmed| latitude| longitude|\n",
      "+-------+--------+---------------+-----+--------------------+---------+---------+----------+\n",
      "|1000001|   Seoul|     Yongsan-gu| true|       Itaewon Clubs|      139|37.538621|126.992652|\n",
      "|1000002|   Seoul|      Gwanak-gu| true|             Richway|      119| 37.48208|126.901384|\n",
      "|1000003|   Seoul|        Guro-gu| true| Guro-gu Call Center|       95|37.508163|126.884387|\n",
      "|1000004|   Seoul|   Yangcheon-gu| true|Yangcheon Table T...|       43|37.546061|126.874209|\n",
      "|1000005|   Seoul|      Dobong-gu| true|     Day Care Center|       43|37.679422|127.044374|\n",
      "|1000006|   Seoul|        Guro-gu| true|Manmin Central Ch...|       41|37.481059|126.894343|\n",
      "|1000007|   Seoul|from other city| true|SMR Newly Planted...|       36|        -|         -|\n",
      "|1000008|   Seoul|  Dongdaemun-gu| true|       Dongan Church|       17|37.592888|127.056766|\n",
      "|1000009|   Seoul|from other city| true|Coupang Logistics...|       25|        -|         -|\n",
      "|1000010|   Seoul|      Gwanak-gu| true|     Wangsung Church|       30|37.481735|126.930121|\n",
      "|1000011|   Seoul|   Eunpyeong-gu| true|Eunpyeong St. Mar...|       14| 37.63369|  126.9165|\n",
      "|1000012|   Seoul|   Seongdong-gu| true|    Seongdong-gu APT|       13| 37.55713|  127.0403|\n",
      "|1000013|   Seoul|      Jongno-gu| true|Jongno Community ...|       10| 37.57681|   127.006|\n",
      "|1000014|   Seoul|     Gangnam-gu| true|Samsung Medical C...|        7| 37.48825| 127.08559|\n",
      "|1000015|   Seoul|        Jung-gu| true|Jung-gu Fashion C...|        7|37.562405|126.984377|\n",
      "|1000016|   Seoul|   Seodaemun-gu| true|  Yeonana News Class|        5|37.558147|126.943799|\n",
      "|1000017|   Seoul|      Jongno-gu| true|Korea Campus Crus...|        7|37.594782|126.968022|\n",
      "|1000018|   Seoul|     Gangnam-gu| true|Gangnam Yeoksam-d...|        6|        -|         -|\n",
      "|1000019|   Seoul|from other city| true|Daejeon door-to-d...|        1|        -|         -|\n",
      "|1000020|   Seoul|   Geumcheon-gu| true|Geumcheon-gu rice...|        6|        -|         -|\n",
      "+-------+--------+---------------+-----+--------------------+---------+---------+----------+\n",
      "only showing top 20 rows\n",
      "\n"
     ]
    }
   ],
   "source": [
    "cases2 = df.withColumnRenamed('infection_case', 'Casos de Infecção')\n",
    "cases2.show()"
   ]
  },
  {
   "cell_type": "code",
   "execution_count": 4,
   "id": "ce2c7ee9",
   "metadata": {},
   "outputs": [
    {
     "name": "stdout",
     "output_type": "stream",
     "text": [
      "+--------+---------------+---------+\n",
      "|province|           city|confirmed|\n",
      "+--------+---------------+---------+\n",
      "|   Seoul|     Yongsan-gu|      139|\n",
      "|   Seoul|      Gwanak-gu|      119|\n",
      "|   Seoul|        Guro-gu|       95|\n",
      "|   Seoul|   Yangcheon-gu|       43|\n",
      "|   Seoul|      Dobong-gu|       43|\n",
      "|   Seoul|        Guro-gu|       41|\n",
      "|   Seoul|from other city|       36|\n",
      "|   Seoul|  Dongdaemun-gu|       17|\n",
      "|   Seoul|from other city|       25|\n",
      "|   Seoul|      Gwanak-gu|       30|\n",
      "|   Seoul|   Eunpyeong-gu|       14|\n",
      "|   Seoul|   Seongdong-gu|       13|\n",
      "|   Seoul|      Jongno-gu|       10|\n",
      "|   Seoul|     Gangnam-gu|        7|\n",
      "|   Seoul|        Jung-gu|        7|\n",
      "|   Seoul|   Seodaemun-gu|        5|\n",
      "|   Seoul|      Jongno-gu|        7|\n",
      "|   Seoul|     Gangnam-gu|        6|\n",
      "|   Seoul|from other city|        1|\n",
      "|   Seoul|   Geumcheon-gu|        6|\n",
      "+--------+---------------+---------+\n",
      "only showing top 20 rows\n",
      "\n"
     ]
    }
   ],
   "source": [
    "df2 = df.select('province', 'city', 'confirmed')\n",
    "df2.show()"
   ]
  },
  {
   "cell_type": "code",
   "execution_count": 5,
   "id": "f9851e4d",
   "metadata": {},
   "outputs": [
    {
     "name": "stdout",
     "output_type": "stream",
     "text": [
      "+-------+-----------------+---------------+-----+--------------------+---------+---------+----------+\n",
      "|case_id|         province|           city|group|      infection_case|confirmed| latitude| longitude|\n",
      "+-------+-----------------+---------------+-----+--------------------+---------+---------+----------+\n",
      "|1200001|            Daegu|         Nam-gu| true|  Shincheonji Church|     4511| 35.84008|  128.5667|\n",
      "|1200009|            Daegu|              -|false|contact with patient|      917|        -|         -|\n",
      "|1200010|            Daegu|              -|false|                 etc|      747|        -|         -|\n",
      "|6000001| Gyeongsangbuk-do|from other city| true|  Shincheonji Church|      566|        -|         -|\n",
      "|2000020|      Gyeonggi-do|              -|false|     overseas inflow|      305|        -|         -|\n",
      "|1000036|            Seoul|              -|false|     overseas inflow|      298|        -|         -|\n",
      "|1200002|            Daegu|   Dalseong-gun| true|Second Mi-Ju Hosp...|      196|35.857375|128.466651|\n",
      "|6000012| Gyeongsangbuk-do|              -|false|contact with patient|      190|        -|         -|\n",
      "|1000037|            Seoul|              -|false|contact with patient|      162|        -|         -|\n",
      "|1000001|            Seoul|     Yongsan-gu| true|       Itaewon Clubs|      139|37.538621|126.992652|\n",
      "|6000013| Gyeongsangbuk-do|              -|false|                 etc|      133|        -|         -|\n",
      "|1200003|            Daegu|         Seo-gu| true|Hansarang Convale...|      124|35.885592|128.556649|\n",
      "|1000002|            Seoul|      Gwanak-gu| true|             Richway|      119| 37.48208|126.901384|\n",
      "|6000002| Gyeongsangbuk-do|   Cheongdo-gun| true|Cheongdo Daenam H...|      119| 35.64887|  128.7368|\n",
      "|4100001|Chungcheongnam-do|     Cheonan-si| true|gym facility in C...|      103| 36.81503|  127.1139|\n",
      "|1200004|            Daegu|   Dalseong-gun| true|Daesil Convalesce...|      101|35.857393|128.466653|\n",
      "|1000038|            Seoul|              -|false|                 etc|      100|        -|         -|\n",
      "|1000003|            Seoul|        Guro-gu| true| Guro-gu Call Center|       95|37.508163|126.884387|\n",
      "|2000022|      Gyeonggi-do|              -|false|                 etc|       84|        -|         -|\n",
      "|1400005|          Incheon|              -|false|     overseas inflow|       68|        -|         -|\n",
      "+-------+-----------------+---------------+-----+--------------------+---------+---------+----------+\n",
      "only showing top 20 rows\n",
      "\n"
     ]
    }
   ],
   "source": [
    "df3 = df.sort(F.desc('confirmed'))\n",
    "df3.show()"
   ]
  }
 ],
 "metadata": {
  "kernelspec": {
   "display_name": "Python 3",
   "language": "python",
   "name": "python3"
  },
  "language_info": {
   "codemirror_mode": {
    "name": "ipython",
    "version": 3
   },
   "file_extension": ".py",
   "mimetype": "text/x-python",
   "name": "python",
   "nbconvert_exporter": "python",
   "pygments_lexer": "ipython3",
   "version": "3.8.8"
  }
 },
 "nbformat": 4,
 "nbformat_minor": 5
}
