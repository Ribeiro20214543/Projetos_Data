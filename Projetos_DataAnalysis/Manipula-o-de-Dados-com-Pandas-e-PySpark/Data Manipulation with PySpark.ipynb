{
 "cells": [
  {
   "cell_type": "code",
   "execution_count": 1,
   "id": "665cbaae",
   "metadata": {},
   "outputs": [
    {
     "name": "stdout",
     "output_type": "stream",
     "text": [
      "+---------------+--------+\n",
      "|AnosExperiencia| Salario|\n",
      "+---------------+--------+\n",
      "|            1.1|39343.00|\n",
      "|            1.3|46205.00|\n",
      "|            1.5|37731.00|\n",
      "|            2.0|43525.00|\n",
      "|            2.2|39891.00|\n",
      "|            2.9|56642.00|\n",
      "|            3.0|60150.00|\n",
      "|            3.2|54445.00|\n",
      "|            3.2|64445.00|\n",
      "|            3.7|57189.00|\n",
      "|            3.9|63218.00|\n",
      "|            4.0|55794.00|\n",
      "|            4.0|56957.00|\n",
      "|            4.1|57081.00|\n",
      "|            4.5|61111.00|\n",
      "|            4.9|67938.00|\n",
      "|            5.1|66029.00|\n",
      "|            5.3|83088.00|\n",
      "|            5.9|81363.00|\n",
      "|            6.0|93940.00|\n",
      "+---------------+--------+\n",
      "only showing top 20 rows\n",
      "\n"
     ]
    }
   ],
   "source": [
    "import findspark\n",
    "findspark.init()\n",
    "\n",
    "from pyspark.sql import SparkSession\n",
    "from pyspark.sql import Row\n",
    "from pyspark.sql.types import *\n",
    "\n",
    "#Iniciando sessao Spark\n",
    "spark = SparkSession.builder \\\n",
    "    .master(\"local\") \\\n",
    "    .appName(\"PySpark\") \\\n",
    "    .config(\"spark.executor.memory\", \"1gb\") \\\n",
    "    .getOrCreate()\n",
    "\n",
    "sc = spark.sparkContext\n",
    "\n",
    "rdd = sc.textFile('Salary_Data.csv')\n",
    "rdd = rdd.map(lambda line: line.split(\",\"))\n",
    "\n",
    "#Criando DataFame .toDF() e criando colunas AnosExperiencia e Salario\n",
    "df = rdd.map(lambda line: Row(AnosExperiencia=line[0], Salario=line[1])).toDF()\n",
    "df.show()"
   ]
  },
  {
   "cell_type": "code",
   "execution_count": 15,
   "id": "dd8da276",
   "metadata": {},
   "outputs": [
    {
     "name": "stdout",
     "output_type": "stream",
     "text": [
      "Dados de entrada do DataFrame: \n",
      "root\n",
      " |-- AnosExperiencia: float (nullable = true)\n",
      " |-- Salario: float (nullable = true)\n",
      "\n",
      "Dados de saída do DataFrame: \n",
      "root\n",
      " |-- AnosExperiencia: float (nullable = true)\n",
      " |-- Salario: float (nullable = true)\n",
      "\n"
     ]
    }
   ],
   "source": [
    "#Aleterando tipo de dado\n",
    "\n",
    "print(\"Dados de entrada do DataFrame: \")\n",
    "df.printSchema()\n",
    "\n",
    "def converterColuna(dataframe, nomes, novoTipo):\n",
    "    for nome in nomes:\n",
    "        dataframe = dataframe.withColumn(nome, dataframe[nome].cast(novoTipo))\n",
    "    return dataframe\n",
    "\n",
    "colunas = ['AnosExperiencia', 'Salario']\n",
    "\n",
    "df = converterColuna(df, colunas, FloatType())\n",
    "\n",
    "#df.show()\n",
    "print(\"Dados de saída do DataFrame: \")\n",
    "df.printSchema()"
   ]
  },
  {
   "cell_type": "code",
   "execution_count": 16,
   "id": "05fddce4",
   "metadata": {},
   "outputs": [
    {
     "name": "stdout",
     "output_type": "stream",
     "text": [
      "+---------------+-------+\n",
      "|AnosExperiencia|Salario|\n",
      "+---------------+-------+\n",
      "|            1.1|39343.0|\n",
      "|            1.3|46205.0|\n",
      "|            1.5|37731.0|\n",
      "|            2.0|43525.0|\n",
      "|            2.2|39891.0|\n",
      "|            2.9|56642.0|\n",
      "|            3.0|60150.0|\n",
      "|            3.2|54445.0|\n",
      "|            3.2|64445.0|\n",
      "|            3.7|57189.0|\n",
      "|            3.9|63218.0|\n",
      "|            4.0|55794.0|\n",
      "|            4.0|56957.0|\n",
      "|            4.1|57081.0|\n",
      "|            4.5|61111.0|\n",
      "|            4.9|67938.0|\n",
      "|            5.1|66029.0|\n",
      "|            5.3|83088.0|\n",
      "|            5.9|81363.0|\n",
      "|            6.0|93940.0|\n",
      "+---------------+-------+\n",
      "only showing top 20 rows\n",
      "\n"
     ]
    }
   ],
   "source": [
    "# Consultando o DataFrame\n",
    "df.show()"
   ]
  },
  {
   "cell_type": "code",
   "execution_count": 17,
   "id": "4ae64a0b",
   "metadata": {},
   "outputs": [
    {
     "name": "stdout",
     "output_type": "stream",
     "text": [
      "+-------+\n",
      "|Salario|\n",
      "+-------+\n",
      "|39343.0|\n",
      "|46205.0|\n",
      "|37731.0|\n",
      "|43525.0|\n",
      "|39891.0|\n",
      "|56642.0|\n",
      "|60150.0|\n",
      "|54445.0|\n",
      "|64445.0|\n",
      "|57189.0|\n",
      "+-------+\n",
      "only showing top 10 rows\n",
      "\n"
     ]
    }
   ],
   "source": [
    "#Consultando a coluna \"Salario\", imprimindo apenas 10 linhas\n",
    "df.select('Salario').show(10)"
   ]
  },
  {
   "cell_type": "code",
   "execution_count": 18,
   "id": "1dfce279",
   "metadata": {},
   "outputs": [
    {
     "name": "stdout",
     "output_type": "stream",
     "text": [
      "+--------+-----+\n",
      "| Salario|count|\n",
      "+--------+-----+\n",
      "|122391.0|    1|\n",
      "|121872.0|    1|\n",
      "|116969.0|    1|\n",
      "|113812.0|    1|\n",
      "|112635.0|    1|\n",
      "|109431.0|    1|\n",
      "|105582.0|    1|\n",
      "|101302.0|    1|\n",
      "| 98273.0|    1|\n",
      "| 93940.0|    1|\n",
      "| 91738.0|    1|\n",
      "| 83088.0|    1|\n",
      "| 81363.0|    1|\n",
      "| 67938.0|    1|\n",
      "| 66029.0|    1|\n",
      "| 64445.0|    1|\n",
      "| 63218.0|    1|\n",
      "| 61111.0|    1|\n",
      "| 60150.0|    1|\n",
      "| 57189.0|    1|\n",
      "+--------+-----+\n",
      "only showing top 20 rows\n",
      "\n"
     ]
    }
   ],
   "source": [
    "#Consultando por agrupamento  de contagem e ordenado pelo salario de forma descedente \n",
    "df.groupby('Salario').count().sort('Salario', ascending=False).show()"
   ]
  },
  {
   "cell_type": "code",
   "execution_count": 19,
   "id": "9c9023b5",
   "metadata": {},
   "outputs": [
    {
     "data": {
      "text/plain": [
       "30"
      ]
     },
     "execution_count": 19,
     "metadata": {},
     "output_type": "execute_result"
    }
   ],
   "source": [
    "#Consultando a quantidade de salarios\n",
    "df.select('Salario').count()"
   ]
  },
  {
   "cell_type": "code",
   "execution_count": 20,
   "id": "1f7d0ae2",
   "metadata": {},
   "outputs": [
    {
     "name": "stdout",
     "output_type": "stream",
     "text": [
      "+-------+------------------+------------------+\n",
      "|summary|   AnosExperiencia|           Salario|\n",
      "+-------+------------------+------------------+\n",
      "|  count|                30|                30|\n",
      "|   mean|5.3133333643277485|           76003.0|\n",
      "| stddev|2.8378881722287805|27414.429784582302|\n",
      "|    min|               1.1|           37731.0|\n",
      "|    max|              10.5|          122391.0|\n",
      "+-------+------------------+------------------+\n",
      "\n"
     ]
    }
   ],
   "source": [
    "#Consultando os dados estatisticos do dataframe inteiro\n",
    "df.describe().show()"
   ]
  },
  {
   "cell_type": "code",
   "execution_count": 21,
   "id": "e6033106",
   "metadata": {},
   "outputs": [
    {
     "name": "stdout",
     "output_type": "stream",
     "text": [
      "+-------+------------------+\n",
      "|summary|           Salario|\n",
      "+-------+------------------+\n",
      "|  count|                30|\n",
      "|   mean|           76003.0|\n",
      "| stddev|27414.429784582302|\n",
      "|    min|           37731.0|\n",
      "|    max|          122391.0|\n",
      "+-------+------------------+\n",
      "\n"
     ]
    }
   ],
   "source": [
    "#Consultando os dados estatisticos por coluna 'Salario'\n",
    "df.describe('Salario').show()"
   ]
  },
  {
   "cell_type": "code",
   "execution_count": 22,
   "id": "dfd16e80",
   "metadata": {},
   "outputs": [
    {
     "data": {
      "text/plain": [
       "[Row(AnosExperiencia=1.100000023841858, Salario=39343.0),\n",
       " Row(AnosExperiencia=1.2999999523162842, Salario=46205.0),\n",
       " Row(AnosExperiencia=1.5, Salario=37731.0),\n",
       " Row(AnosExperiencia=2.0, Salario=43525.0),\n",
       " Row(AnosExperiencia=2.200000047683716, Salario=39891.0),\n",
       " Row(AnosExperiencia=2.9000000953674316, Salario=56642.0),\n",
       " Row(AnosExperiencia=3.0, Salario=60150.0),\n",
       " Row(AnosExperiencia=3.200000047683716, Salario=54445.0),\n",
       " Row(AnosExperiencia=3.200000047683716, Salario=64445.0),\n",
       " Row(AnosExperiencia=3.700000047683716, Salario=57189.0),\n",
       " Row(AnosExperiencia=3.9000000953674316, Salario=63218.0),\n",
       " Row(AnosExperiencia=4.0, Salario=55794.0),\n",
       " Row(AnosExperiencia=4.0, Salario=56957.0),\n",
       " Row(AnosExperiencia=4.099999904632568, Salario=57081.0),\n",
       " Row(AnosExperiencia=4.5, Salario=61111.0),\n",
       " Row(AnosExperiencia=4.900000095367432, Salario=67938.0),\n",
       " Row(AnosExperiencia=5.099999904632568, Salario=66029.0),\n",
       " Row(AnosExperiencia=5.300000190734863, Salario=83088.0),\n",
       " Row(AnosExperiencia=5.900000095367432, Salario=81363.0),\n",
       " Row(AnosExperiencia=6.0, Salario=93940.0),\n",
       " Row(AnosExperiencia=6.800000190734863, Salario=91738.0),\n",
       " Row(AnosExperiencia=7.099999904632568, Salario=98273.0),\n",
       " Row(AnosExperiencia=7.900000095367432, Salario=101302.0),\n",
       " Row(AnosExperiencia=8.199999809265137, Salario=113812.0),\n",
       " Row(AnosExperiencia=8.699999809265137, Salario=109431.0),\n",
       " Row(AnosExperiencia=9.0, Salario=105582.0),\n",
       " Row(AnosExperiencia=9.5, Salario=116969.0),\n",
       " Row(AnosExperiencia=9.600000381469727, Salario=112635.0),\n",
       " Row(AnosExperiencia=10.300000190734863, Salario=122391.0),\n",
       " Row(AnosExperiencia=10.5, Salario=121872.0)]"
      ]
     },
     "execution_count": 22,
     "metadata": {},
     "output_type": "execute_result"
    }
   ],
   "source": [
    "#Consultando os dados por coleção \n",
    "df.collect()"
   ]
  },
  {
   "cell_type": "code",
   "execution_count": 23,
   "id": "8aa4781d",
   "metadata": {},
   "outputs": [
    {
     "name": "stdout",
     "output_type": "stream",
     "text": [
      "+---------------+-------+\n",
      "|AnosExperiencia|Salario|\n",
      "+---------------+-------+\n",
      "|            1.1|39343.0|\n",
      "|            1.3|46205.0|\n",
      "|            1.5|37731.0|\n",
      "|            2.0|43525.0|\n",
      "|            2.2|39891.0|\n",
      "|            2.9|56642.0|\n",
      "|            3.0|60150.0|\n",
      "|            3.2|54445.0|\n",
      "|            3.2|64445.0|\n",
      "|            3.7|57189.0|\n",
      "|            3.9|63218.0|\n",
      "|            4.0|55794.0|\n",
      "|            4.0|56957.0|\n",
      "|            4.1|57081.0|\n",
      "|            4.5|61111.0|\n",
      "|            4.9|67938.0|\n",
      "|            5.1|66029.0|\n",
      "|            5.3|83088.0|\n",
      "|            5.9|81363.0|\n",
      "|            6.0|93940.0|\n",
      "+---------------+-------+\n",
      "only showing top 20 rows\n",
      "\n"
     ]
    }
   ],
   "source": [
    "#Consultando por condicoes\n",
    "df.filter(df['Salario'] > 5000).show()"
   ]
  },
  {
   "cell_type": "code",
   "execution_count": 24,
   "id": "78fa113c",
   "metadata": {},
   "outputs": [
    {
     "name": "stdout",
     "output_type": "stream",
     "text": [
      "+-------+\n",
      "|Salario|\n",
      "+-------+\n",
      "|39343.0|\n",
      "|46205.0|\n",
      "|37731.0|\n",
      "|43525.0|\n",
      "|39891.0|\n",
      "|56642.0|\n",
      "|60150.0|\n",
      "|54445.0|\n",
      "|64445.0|\n",
      "|57189.0|\n",
      "|63218.0|\n",
      "|55794.0|\n",
      "|56957.0|\n",
      "|57081.0|\n",
      "|61111.0|\n",
      "|67938.0|\n",
      "|66029.0|\n",
      "|83088.0|\n",
      "|81363.0|\n",
      "|93940.0|\n",
      "+-------+\n",
      "only showing top 20 rows\n",
      "\n"
     ]
    }
   ],
   "source": [
    "df.select('Salario').filter(df['Salario'] > 5000).show()"
   ]
  },
  {
   "cell_type": "code",
   "execution_count": 25,
   "id": "5e6a6e96",
   "metadata": {},
   "outputs": [
    {
     "name": "stdout",
     "output_type": "stream",
     "text": [
      "+---------------+-------+\n",
      "|AnosExperiencia|Salario|\n",
      "+---------------+-------+\n",
      "|            1.1|39343.0|\n",
      "|            1.3|46205.0|\n",
      "|            1.5|37731.0|\n",
      "|            2.0|43525.0|\n",
      "|            2.2|39891.0|\n",
      "|            2.9|56642.0|\n",
      "|            3.0|60150.0|\n",
      "|            3.2|54445.0|\n",
      "|            3.2|64445.0|\n",
      "|            3.7|57189.0|\n",
      "|            3.9|63218.0|\n",
      "|            4.0|55794.0|\n",
      "|            4.0|56957.0|\n",
      "|            4.1|57081.0|\n",
      "|            4.5|61111.0|\n",
      "|            4.9|67938.0|\n",
      "|            5.1|66029.0|\n",
      "|            5.3|83088.0|\n",
      "|            5.9|81363.0|\n",
      "|            6.0|93940.0|\n",
      "+---------------+-------+\n",
      "only showing top 20 rows\n",
      "\n"
     ]
    }
   ],
   "source": [
    "df.filter((df['Salario'] > 5000) | (df['AnosExperiencia'] > 2)).show()"
   ]
  },
  {
   "cell_type": "code",
   "execution_count": 27,
   "id": "ba3c7091",
   "metadata": {},
   "outputs": [
    {
     "name": "stdout",
     "output_type": "stream",
     "text": [
      "root\n",
      " |-- case_id: integer (nullable = true)\n",
      " |-- province: string (nullable = true)\n",
      " |-- city: string (nullable = true)\n",
      " |-- group: boolean (nullable = true)\n",
      " |-- infection_case: string (nullable = true)\n",
      " |-- confirmed: integer (nullable = true)\n",
      " |-- latitude: string (nullable = true)\n",
      " |-- longitude: string (nullable = true)\n",
      "\n"
     ]
    }
   ],
   "source": [
    "#Definicao de Schema\n",
    "from pyspark.sql.session import SparkSession\n",
    "\n",
    "#Definindo os tipos de dados a serem trabalhados\n",
    "from pyspark.sql.types import (ArrayType, BooleanType, FloatType, IntegerType, StringType, \n",
    "                               StructField, StructType, TimestampType)\n",
    "\n",
    "import pyspark.sql.functions as F\n",
    "\n",
    "spark = SparkSession.builder.appName('fisrtSession')\\\n",
    "    .config('spark.master', 'local[4]')\\\n",
    "    .config('spark.executor.memory', '1gb')\\\n",
    "    .config('spark.shuffle.partitions', 1)\\\n",
    "    .getOrCreate()\n",
    "\n",
    "schema = StructType([\n",
    "                StructField('case_id', IntegerType()),\n",
    "                StructField('province', StringType()),\n",
    "                StructField('city', StringType()),\n",
    "                StructField('group', BooleanType()),\n",
    "                StructField('infection_case', StringType()),\n",
    "                StructField('confirmed', IntegerType()),\n",
    "                StructField('latitude', StringType()),\n",
    "                StructField('longitude', StringType())\n",
    "])\n",
    "\n",
    "path = \"covid_cases.csv\"\n",
    "\n",
    "df = spark.read.format('csv')\\\n",
    "    .schema(schema)\\\n",
    "    .load(path)\n",
    "\n",
    "df.printSchema()"
   ]
  },
  {
   "cell_type": "code",
   "execution_count": null,
   "id": "0bc1b958",
   "metadata": {},
   "outputs": [],
   "source": []
  }
 ],
 "metadata": {
  "kernelspec": {
   "display_name": "Python 3",
   "language": "python",
   "name": "python3"
  },
  "language_info": {
   "codemirror_mode": {
    "name": "ipython",
    "version": 3
   },
   "file_extension": ".py",
   "mimetype": "text/x-python",
   "name": "python",
   "nbconvert_exporter": "python",
   "pygments_lexer": "ipython3",
   "version": "3.8.8"
  }
 },
 "nbformat": 4,
 "nbformat_minor": 5
}
