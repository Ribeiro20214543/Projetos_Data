{
 "cells": [
  {
   "cell_type": "code",
   "execution_count": 1,
   "id": "74698b93",
   "metadata": {},
   "outputs": [],
   "source": [
    "import numpy as np\n",
    "import pandas as pd"
   ]
  },
  {
   "cell_type": "code",
   "execution_count": 2,
   "id": "3382dd9d",
   "metadata": {},
   "outputs": [
    {
     "name": "stdout",
     "output_type": "stream",
     "text": [
      "0    10.0\n",
      "1     5.0\n",
      "2     7.5\n",
      "3     9.0\n",
      "4    10.0\n",
      "dtype: float64\n"
     ]
    }
   ],
   "source": [
    "grades = pd.Series([10,5,7.5,9,10])\n",
    "print(grades)"
   ]
  },
  {
   "cell_type": "code",
   "execution_count": 3,
   "id": "a110e68b",
   "metadata": {},
   "outputs": [
    {
     "name": "stdout",
     "output_type": "stream",
     "text": [
      "José      10.0\n",
      "Carlos     5.0\n",
      "André      7.5\n",
      "Pedro      9.0\n",
      "Maria     10.0\n",
      "dtype: float64\n"
     ]
    }
   ],
   "source": [
    "grades2 = pd.Series([10,5,7.5,9,10],index=['José', 'Carlos','André','Pedro', 'Maria'])#assign index\n",
    "print(grades2)"
   ]
  },
  {
   "cell_type": "code",
   "execution_count": 4,
   "id": "05b4db92",
   "metadata": {},
   "outputs": [
    {
     "name": "stdout",
     "output_type": "stream",
     "text": [
      "[10.   5.   7.5  9.  10. ]\n"
     ]
    }
   ],
   "source": [
    "print(grades.values)"
   ]
  },
  {
   "cell_type": "code",
   "execution_count": 5,
   "id": "51bbec44",
   "metadata": {},
   "outputs": [
    {
     "name": "stdout",
     "output_type": "stream",
     "text": [
      "RangeIndex(start=0, stop=5, step=1)\n"
     ]
    }
   ],
   "source": [
    "print(grades.index)"
   ]
  },
  {
   "cell_type": "code",
   "execution_count": 6,
   "id": "c4f94be2",
   "metadata": {},
   "outputs": [
    {
     "name": "stdout",
     "output_type": "stream",
     "text": [
      "Index(['José', 'Carlos', 'André', 'Pedro', 'Maria'], dtype='object')\n"
     ]
    }
   ],
   "source": [
    "print(grades2.index)"
   ]
  },
  {
   "cell_type": "code",
   "execution_count": 7,
   "id": "deb3b987",
   "metadata": {},
   "outputs": [
    {
     "name": "stdout",
     "output_type": "stream",
     "text": [
      "count     5.000000\n",
      "mean      8.300000\n",
      "std       2.109502\n",
      "min       5.000000\n",
      "25%       7.500000\n",
      "50%       9.000000\n",
      "75%      10.000000\n",
      "max      10.000000\n",
      "dtype: float64\n"
     ]
    }
   ],
   "source": [
    "print(grades.describe())"
   ]
  },
  {
   "cell_type": "code",
   "execution_count": 8,
   "id": "d7f49821",
   "metadata": {},
   "outputs": [
    {
     "name": "stdout",
     "output_type": "stream",
     "text": [
      "8.3\n"
     ]
    }
   ],
   "source": [
    "print(grades.mean())"
   ]
  },
  {
   "cell_type": "code",
   "execution_count": 9,
   "id": "98aedc96",
   "metadata": {},
   "outputs": [
    {
     "name": "stdout",
     "output_type": "stream",
     "text": [
      "0    100.00\n",
      "1     25.00\n",
      "2     56.25\n",
      "3     81.00\n",
      "4    100.00\n",
      "dtype: float64\n"
     ]
    }
   ],
   "source": [
    "print(grades**2)"
   ]
  },
  {
   "cell_type": "code",
   "execution_count": 10,
   "id": "77dd81ef",
   "metadata": {},
   "outputs": [
    {
     "name": "stdout",
     "output_type": "stream",
     "text": [
      "    Aluno  Faltas  Prova  Seminário\n",
      "0    José       3    2.0        8.5\n",
      "1  Carlos       4    7.0        5.0\n",
      "2     Ana       2    8.0        8.2\n",
      "3   Júlia       4    5.5        6.0\n",
      "4  Débora       3    9.2        9.5\n"
     ]
    }
   ],
   "source": [
    "df = pd.DataFrame({'Aluno':[\"José\", \"Carlos\", \"Ana\", \"Júlia\", \"Débora\"],\n",
    "                   'Faltas':[3,4,2,4,3],\n",
    "                   'Prova': [2,7,8,5.5,9.2],\n",
    "                   'Seminário':[8.5,5,8.2,6,9.5]})\n",
    "print(df)"
   ]
  }
 ],
 "metadata": {
  "kernelspec": {
   "display_name": "Python 3",
   "language": "python",
   "name": "python3"
  },
  "language_info": {
   "codemirror_mode": {
    "name": "ipython",
    "version": 3
   },
   "file_extension": ".py",
   "mimetype": "text/x-python",
   "name": "python",
   "nbconvert_exporter": "python",
   "pygments_lexer": "ipython3",
   "version": "3.8.8"
  }
 },
 "nbformat": 4,
 "nbformat_minor": 5
}
