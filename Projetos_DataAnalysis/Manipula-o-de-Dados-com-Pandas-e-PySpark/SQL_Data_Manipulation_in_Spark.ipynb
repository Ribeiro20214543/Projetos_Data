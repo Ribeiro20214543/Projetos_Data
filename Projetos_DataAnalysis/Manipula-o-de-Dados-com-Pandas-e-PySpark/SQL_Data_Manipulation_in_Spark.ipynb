{
 "cells": [
  {
   "cell_type": "code",
   "execution_count": 2,
   "id": "823e8e45",
   "metadata": {},
   "outputs": [
    {
     "data": {
      "text/plain": [
       "Row(RecordNumber=1, Zipcode=704, ZipCodeType='STANDARD', City='PARC PARQUE', State='PR', LocationType='NOT ACCEPTABLE', Lat=17.96, Long=-66.22, Xaxis=None, Yaxis=-0.87, Zaxis=0.3, WorldRegion='NA', Country='US', LocationText='Parc Parque, PR', Location='NA-US-PR-PARC PARQUE', Decommisioned=False, TaxReturnsFiled=None, EstimatedPopulation=None, TotalWages=None, Notes=None)"
      ]
     },
     "execution_count": 2,
     "metadata": {},
     "output_type": "execute_result"
    }
   ],
   "source": [
    "from pyspark.sql.session import SparkSession\n",
    "\n",
    "from pyspark.sql.types import (ArrayType, BooleanType, FloatType, IntegerType, StringType, StructField, StructType, TimestampType, DoubleType)\n",
    "\n",
    "import pyspark.sql.functions as F\n",
    "\n",
    "spark = SparkSession.builder.appName('fisrtSession')\\\n",
    "    .config('spark.master', 'local[4]')\\\n",
    "    .config('spark.executor.memory', '1gb')\\\n",
    "    .config('spark.shuffle.partitions', 1)\\\n",
    "    .getOrCreate()\n",
    "\n",
    "schema = StructType([\n",
    "      StructField(\"RecordNumber\",IntegerType()),\n",
    "      StructField(\"Zipcode\",IntegerType()),\n",
    "      StructField(\"ZipCodeType\",StringType()),\n",
    "      StructField(\"City\",StringType()),\n",
    "      StructField(\"State\",StringType()),\n",
    "      StructField(\"LocationType\",StringType()),\n",
    "      StructField(\"Lat\",DoubleType()),\n",
    "      StructField(\"Long\",DoubleType()),\n",
    "      StructField(\"Xaxis\",IntegerType()),\n",
    "      StructField(\"Yaxis\",DoubleType()),\n",
    "      StructField(\"Zaxis\",DoubleType()),\n",
    "      StructField(\"WorldRegion\",StringType()),\n",
    "      StructField(\"Country\",StringType()),\n",
    "      StructField(\"LocationText\",StringType()),\n",
    "      StructField(\"Location\",StringType()),\n",
    "      StructField(\"Decommisioned\",BooleanType()),\n",
    "      StructField(\"TaxReturnsFiled\",StringType()),\n",
    "      StructField(\"EstimatedPopulation\",IntegerType()),\n",
    "      StructField(\"TotalWages\",IntegerType()),\n",
    "      StructField(\"Notes\",StringType())\n",
    "  ])\n",
    "\n",
    "df = spark.read.schema(schema)\\\n",
    "    .json('zipcodes.json')\n",
    "\n",
    "df.registerTempTable('zipcodes')\n",
    "df.head()"
   ]
  },
  {
   "cell_type": "code",
   "execution_count": 3,
   "id": "3e94b03e",
   "metadata": {},
   "outputs": [
    {
     "name": "stdout",
     "output_type": "stream",
     "text": [
      "+------------+-------+-----------+-------------------+-----+--------------+-----+-------+-----+-----+-----+-----------+-------+--------------------+--------------------+-------------+---------------+-------------------+----------+-------------+\n",
      "|RecordNumber|Zipcode|ZipCodeType|               City|State|  LocationType|  Lat|   Long|Xaxis|Yaxis|Zaxis|WorldRegion|Country|        LocationText|            Location|Decommisioned|TaxReturnsFiled|EstimatedPopulation|TotalWages|        Notes|\n",
      "+------------+-------+-----------+-------------------+-----+--------------+-----+-------+-----+-----+-----+-----------+-------+--------------------+--------------------+-------------+---------------+-------------------+----------+-------------+\n",
      "|           1|    704|   STANDARD|        PARC PARQUE|   PR|NOT ACCEPTABLE|17.96| -66.22| null|-0.87|  0.3|         NA|     US|     Parc Parque, PR|NA-US-PR-PARC PARQUE|        false|           null|               null|      null|         null|\n",
      "|           2|    704|   STANDARD|PASEO COSTA DEL SUR|   PR|NOT ACCEPTABLE|17.96| -66.22| null|-0.87|  0.3|         NA|     US|Paseo Costa Del S...|NA-US-PR-PASEO CO...|        false|           null|               null|      null|         null|\n",
      "|          10|    709|   STANDARD|       BDA SAN LUIS|   PR|NOT ACCEPTABLE|18.14| -66.26| null|-0.86| 0.31|         NA|     US|    Bda San Luis, PR|NA-US-PR-BDA SAN ...|        false|           null|               null|      null|         null|\n",
      "|       61391|  76166|     UNIQUE|  CINGULAR WIRELESS|   TX|NOT ACCEPTABLE|32.72| -97.31| null|-0.83| 0.54|         NA|     US|Cingular Wireless...|NA-US-TX-CINGULAR...|        false|           null|               null|      null|         null|\n",
      "|       61392|  76177|   STANDARD|         FORT WORTH|   TX|       PRIMARY|32.75| -97.33| null|-0.83| 0.54|         NA|     US|      Fort Worth, TX| NA-US-TX-FORT WORTH|        false|           2126|               4053| 122396986|         null|\n",
      "|       61393|  76177|   STANDARD|           FT WORTH|   TX|    ACCEPTABLE|32.75| -97.33| null|-0.83| 0.54|         NA|     US|        Ft Worth, TX|   NA-US-TX-FT WORTH|        false|           2126|               4053| 122396986|         null|\n",
      "|           4|    704|   STANDARD|    URB EUGENE RICE|   PR|NOT ACCEPTABLE|17.96| -66.22| null|-0.87|  0.3|         NA|     US| Urb Eugene Rice, PR|NA-US-PR-URB EUGE...|        false|           null|               null|      null|         null|\n",
      "|       39827|  85209|   STANDARD|               MESA|   AZ|       PRIMARY|33.37|-111.64| null|-0.77| 0.55|         NA|     US|            Mesa, AZ|       NA-US-AZ-MESA|        false|          14962|              26883| 563792730|no NWS data, |\n",
      "|       39828|  85210|   STANDARD|               MESA|   AZ|       PRIMARY|33.38|-111.84| null|-0.77| 0.55|         NA|     US|            Mesa, AZ|       NA-US-AZ-MESA|        false|          14374|              25446| 471000465|         null|\n",
      "|       49345|  32046|   STANDARD|           HILLIARD|   FL|       PRIMARY|30.69| -81.92| null|-0.85| 0.51|         NA|     US|        Hilliard, FL|   NA-US-FL-HILLIARD|        false|           3922|               7443| 133112149|         null|\n",
      "|       49346|  34445|     PO BOX|             HOLDER|   FL|       PRIMARY|28.96| -82.41| null|-0.86| 0.48|         NA|     US|          Holder, FL|     NA-US-FL-HOLDER|        false|           null|               null|      null|         null|\n",
      "|       49347|  32564|   STANDARD|               HOLT|   FL|       PRIMARY|30.72| -86.67| null|-0.85| 0.51|         NA|     US|            Holt, FL|       NA-US-FL-HOLT|        false|           1207|               2190|  36395913|         null|\n",
      "|       49348|  34487|     PO BOX|          HOMOSASSA|   FL|       PRIMARY|28.78| -82.61| null|-0.86| 0.48|         NA|     US|       Homosassa, FL|  NA-US-FL-HOMOSASSA|        false|           null|               null|      null|         null|\n",
      "|          10|    708|   STANDARD|       BDA SAN LUIS|   PR|NOT ACCEPTABLE|18.14| -66.26| null|-0.86| 0.31|         NA|     US|    Bda San Luis, PR|NA-US-PR-BDA SAN ...|        false|           null|               null|      null|         null|\n",
      "|           3|    704|   STANDARD|      SECT LANAUSSE|   PR|NOT ACCEPTABLE|17.96| -66.22| null|-0.87|  0.3|         NA|     US|   Sect Lanausse, PR|NA-US-PR-SECT LAN...|        false|           null|               null|      null|         null|\n",
      "|       54354|  36275|     PO BOX|      SPRING GARDEN|   AL|       PRIMARY|33.97| -85.55| null|-0.82| 0.55|         NA|     US|   Spring Garden, AL|NA-US-AL-SPRING G...|        false|           null|               null|      null|         null|\n",
      "|       54355|  35146|   STANDARD|        SPRINGVILLE|   AL|       PRIMARY|33.77| -86.47| null|-0.82| 0.55|         NA|     US|     Springville, AL|NA-US-AL-SPRINGVILLE|        false|           4046|               7845| 172127599|         null|\n",
      "|       54356|  35585|   STANDARD|        SPRUCE PINE|   AL|       PRIMARY|34.37| -87.69| null|-0.82| 0.56|         NA|     US|     Spruce Pine, AL|NA-US-AL-SPRUCE PINE|        false|            610|               1209|  18525517|         null|\n",
      "|       76511|  27007|   STANDARD|           ASH HILL|   NC|NOT ACCEPTABLE| 36.4| -80.56| null|-0.79| 0.59|         NA|     US|        Ash Hill, NC|   NA-US-NC-ASH HILL|        false|            842|               1666|  28876493|         null|\n",
      "|       76512|  27203|   STANDARD|           ASHEBORO|   NC|       PRIMARY|35.71| -79.81| null|-0.79| 0.58|         NA|     US|        Asheboro, NC|   NA-US-NC-ASHEBORO|        false|           8355|              15228| 215474318|         null|\n",
      "+------------+-------+-----------+-------------------+-----+--------------+-----+-------+-----+-----+-----+-----------+-------+--------------------+--------------------+-------------+---------------+-------------------+----------+-------------+\n",
      "only showing top 20 rows\n",
      "\n"
     ]
    }
   ],
   "source": [
    "output = spark.sql('SELECT * FROM zipcodes')\n",
    "output.show()"
   ]
  },
  {
   "cell_type": "code",
   "execution_count": 4,
   "id": "096c842b",
   "metadata": {},
   "outputs": [
    {
     "name": "stdout",
     "output_type": "stream",
     "text": [
      "+------------+-------------+\n",
      "|RecordNumber|        Notes|\n",
      "+------------+-------------+\n",
      "|           1|         null|\n",
      "|           2|         null|\n",
      "|          10|         null|\n",
      "|       61391|         null|\n",
      "|       61392|         null|\n",
      "|       61393|         null|\n",
      "|           4|         null|\n",
      "|       39827|no NWS data, |\n",
      "|       39828|         null|\n",
      "|       49345|         null|\n",
      "|       49346|         null|\n",
      "|       49347|         null|\n",
      "|       49348|         null|\n",
      "|          10|         null|\n",
      "|           3|         null|\n",
      "|       54354|         null|\n",
      "|       54355|         null|\n",
      "|       54356|         null|\n",
      "|       76511|         null|\n",
      "|       76512|         null|\n",
      "+------------+-------------+\n",
      "only showing top 20 rows\n",
      "\n"
     ]
    }
   ],
   "source": [
    "output = spark.sql('SELECT RecordNumber, Notes FROM zipcodes')\n",
    "output.show()"
   ]
  },
  {
   "cell_type": "code",
   "execution_count": 5,
   "id": "08f1dd93",
   "metadata": {},
   "outputs": [
    {
     "name": "stdout",
     "output_type": "stream",
     "text": [
      "+------------+\n",
      "|RecordNumber|\n",
      "+------------+\n",
      "|       61391|\n",
      "|       61392|\n",
      "|       61393|\n",
      "|       39827|\n",
      "|       39828|\n",
      "|       49345|\n",
      "|       49346|\n",
      "|       49347|\n",
      "|       49348|\n",
      "|       54354|\n",
      "|       54355|\n",
      "|       54356|\n",
      "|       76511|\n",
      "|       76512|\n",
      "|       76513|\n",
      "+------------+\n",
      "\n"
     ]
    }
   ],
   "source": [
    "\n",
    "output = spark.sql('SELECT RecordNumber FROM zipcodes WHERE RecordNumber > 10')\n",
    "output.show()"
   ]
  }
 ],
 "metadata": {
  "kernelspec": {
   "display_name": "Python 3",
   "language": "python",
   "name": "python3"
  },
  "language_info": {
   "codemirror_mode": {
    "name": "ipython",
    "version": 3
   },
   "file_extension": ".py",
   "mimetype": "text/x-python",
   "name": "python",
   "nbconvert_exporter": "python",
   "pygments_lexer": "ipython3",
   "version": "3.8.8"
  }
 },
 "nbformat": 4,
 "nbformat_minor": 5
}
