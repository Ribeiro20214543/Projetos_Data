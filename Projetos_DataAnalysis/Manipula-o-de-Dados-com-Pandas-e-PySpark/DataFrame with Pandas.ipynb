{
 "cells": [
  {
   "cell_type": "code",
   "execution_count": 1,
   "id": "5954d8e4",
   "metadata": {},
   "outputs": [],
   "source": [
    "import numpy as np\n",
    "import pandas as pd\n",
    "\n",
    "df = pd.DataFrame({'Aluno':[\"José\", \"Carlos\", \"Ana\", \"Júlia\", \"Débora\"],\n",
    "                   'Faltas':[3,4,2,4,3],\n",
    "                   'Prova': [2,7,8,5.5,9.2],\n",
    "                   'Seminário':[8.5,5,8.2,6,9.5]})"
   ]
  },
  {
   "cell_type": "code",
   "execution_count": 2,
   "id": "5de99afe",
   "metadata": {},
   "outputs": [
    {
     "name": "stdout",
     "output_type": "stream",
     "text": [
      "    Aluno  Faltas  Prova  Seminário\n",
      "0    José       3    2.0        8.5\n",
      "1  Carlos       4    7.0        5.0\n",
      "2     Ana       2    8.0        8.2\n",
      "3   Júlia       4    5.5        6.0\n",
      "4  Débora       3    9.2        9.5\n"
     ]
    }
   ],
   "source": [
    "print(df)"
   ]
  },
  {
   "cell_type": "code",
   "execution_count": 3,
   "id": "e1604ff3",
   "metadata": {},
   "outputs": [
    {
     "name": "stdout",
     "output_type": "stream",
     "text": [
      "Aluno         object\n",
      "Faltas         int64\n",
      "Prova        float64\n",
      "Seminário    float64\n",
      "dtype: object\n"
     ]
    }
   ],
   "source": [
    "print(df.dtypes)"
   ]
  },
  {
   "cell_type": "code",
   "execution_count": 4,
   "id": "cf0c3de9",
   "metadata": {},
   "outputs": [
    {
     "name": "stdout",
     "output_type": "stream",
     "text": [
      "Index(['Aluno', 'Faltas', 'Prova', 'Seminário'], dtype='object')\n"
     ]
    }
   ],
   "source": [
    "print(df.columns)"
   ]
  },
  {
   "cell_type": "code",
   "execution_count": 5,
   "id": "ee3583b7",
   "metadata": {},
   "outputs": [
    {
     "name": "stdout",
     "output_type": "stream",
     "text": [
      "0      José\n",
      "1    Carlos\n",
      "2       Ana\n",
      "3     Júlia\n",
      "4    Débora\n",
      "Name: Aluno, dtype: object\n"
     ]
    }
   ],
   "source": [
    "print(df['Aluno'])"
   ]
  },
  {
   "cell_type": "code",
   "execution_count": 6,
   "id": "d6fb003e",
   "metadata": {},
   "outputs": [
    {
     "name": "stdout",
     "output_type": "stream",
     "text": [
      "        Faltas     Prova  Seminário\n",
      "count  5.00000  5.000000   5.000000\n",
      "mean   3.20000  6.340000   7.440000\n",
      "std    0.83666  2.779928   1.868957\n",
      "min    2.00000  2.000000   5.000000\n",
      "25%    3.00000  5.500000   6.000000\n",
      "50%    3.00000  7.000000   8.200000\n",
      "75%    4.00000  8.000000   8.500000\n",
      "max    4.00000  9.200000   9.500000\n"
     ]
    }
   ],
   "source": [
    "print(df.describe())"
   ]
  },
  {
   "cell_type": "code",
   "execution_count": 7,
   "id": "65bb8f8f",
   "metadata": {},
   "outputs": [
    {
     "name": "stdout",
     "output_type": "stream",
     "text": [
      "    Aluno  Faltas  Prova  Seminário\n",
      "1  Carlos       4    7.0        5.0\n",
      "3   Júlia       4    5.5        6.0\n",
      "2     Ana       2    8.0        8.2\n",
      "0    José       3    2.0        8.5\n",
      "4  Débora       3    9.2        9.5\n"
     ]
    }
   ],
   "source": [
    "print(df.sort_values(by=\"Seminário\"))"
   ]
  },
  {
   "cell_type": "code",
   "execution_count": 8,
   "id": "94c38994",
   "metadata": {},
   "outputs": [
    {
     "name": "stdout",
     "output_type": "stream",
     "text": [
      "Aluno        Júlia\n",
      "Faltas           4\n",
      "Prova          5.5\n",
      "Seminário      6.0\n",
      "Name: 3, dtype: object\n"
     ]
    }
   ],
   "source": [
    "print(df.loc[3])"
   ]
  },
  {
   "cell_type": "code",
   "execution_count": 9,
   "id": "ffe456ab",
   "metadata": {},
   "outputs": [
    {
     "name": "stdout",
     "output_type": "stream",
     "text": [
      "    Aluno  Faltas  Prova  Seminário\n",
      "0    José       3    2.0        8.5\n",
      "2     Ana       2    8.0        8.2\n",
      "4  Débora       3    9.2        9.5\n"
     ]
    }
   ],
   "source": [
    "print(df[df[\"Seminário\"] > 8.0])"
   ]
  },
  {
   "cell_type": "code",
   "execution_count": 10,
   "id": "248a6e8e",
   "metadata": {},
   "outputs": [
    {
     "name": "stdout",
     "output_type": "stream",
     "text": [
      "    Aluno  Faltas  Prova  Seminário\n",
      "2     Ana       2    8.0        8.2\n",
      "4  Débora       3    9.2        9.5\n"
     ]
    }
   ],
   "source": [
    "print(df[(df[\"Seminário\"] > 8.0) & (df[\"Prova\"] > 3)])"
   ]
  },
  {
   "cell_type": "code",
   "execution_count": 11,
   "id": "ff300f11",
   "metadata": {},
   "outputs": [],
   "source": [
    "df_csv = pd.read_csv(\"dados.csv\")"
   ]
  },
  {
   "cell_type": "code",
   "execution_count": 12,
   "id": "11090fc3",
   "metadata": {},
   "outputs": [
    {
     "name": "stdout",
     "output_type": "stream",
     "text": [
      "      condominio  quartos  suites  vagas  area    bairro    preco       pm2\n",
      "0            350        1     0.0    1.0    21  Botafogo   340000  16190.48\n",
      "1            800        1     0.0    1.0    64  Botafogo   770000  12031.25\n",
      "2            674        1     0.0    1.0    61  Botafogo   600000   9836.07\n",
      "3            700        1     1.0    1.0    70  Botafogo   700000  10000.00\n",
      "4            440        1     0.0    1.0    44  Botafogo   515000  11704.55\n",
      "...          ...      ...     ...    ...   ...       ...      ...       ...\n",
      "1992        1080        3     1.0    1.0    80    Tijuca   680000   8500.00\n",
      "1993         750        3     0.0    1.0    82    Tijuca   650000   7926.83\n",
      "1994         700        3     1.0    1.0   100    Tijuca   629900   6299.00\n",
      "1995        1850        3     1.0    2.0   166    Tijuca  1600000   9638.55\n",
      "1996         800        3     1.0    1.0   107    Tijuca   540000   5046.73\n",
      "\n",
      "[1997 rows x 8 columns]\n"
     ]
    }
   ],
   "source": [
    "print(df_csv)"
   ]
  },
  {
   "cell_type": "code",
   "execution_count": 13,
   "id": "6df48786",
   "metadata": {},
   "outputs": [
    {
     "name": "stdout",
     "output_type": "stream",
     "text": [
      "   condominio  quartos  suites  vagas  area    bairro   preco       pm2\n",
      "0         350        1     0.0    1.0    21  Botafogo  340000  16190.48\n",
      "1         800        1     0.0    1.0    64  Botafogo  770000  12031.25\n",
      "2         674        1     0.0    1.0    61  Botafogo  600000   9836.07\n"
     ]
    }
   ],
   "source": [
    "print(df_csv.head(3))#first row"
   ]
  },
  {
   "cell_type": "code",
   "execution_count": 14,
   "id": "bcceb527",
   "metadata": {},
   "outputs": [
    {
     "name": "stdout",
     "output_type": "stream",
     "text": [
      "      condominio  quartos  suites  vagas  area  bairro    preco      pm2\n",
      "1994         700        3     1.0    1.0   100  Tijuca   629900  6299.00\n",
      "1995        1850        3     1.0    2.0   166  Tijuca  1600000  9638.55\n",
      "1996         800        3     1.0    1.0   107  Tijuca   540000  5046.73\n"
     ]
    }
   ],
   "source": [
    "print(df_csv.tail(3))#end row"
   ]
  },
  {
   "cell_type": "code",
   "execution_count": 15,
   "id": "f515296b",
   "metadata": {},
   "outputs": [
    {
     "name": "stdout",
     "output_type": "stream",
     "text": [
      "['Botafogo' 'Copacabana' 'Gávea' 'Grajaú' 'Ipanema' 'Leblon' 'Tijuca']\n"
     ]
    }
   ],
   "source": [
    "print(df_csv['bairro'].unique())"
   ]
  },
  {
   "cell_type": "code",
   "execution_count": 16,
   "id": "9c5eb4e5",
   "metadata": {},
   "outputs": [
    {
     "name": "stdout",
     "output_type": "stream",
     "text": [
      "Copacabana    346\n",
      "Tijuca        341\n",
      "Botafogo      307\n",
      "Ipanema       281\n",
      "Leblon        280\n",
      "Grajaú        237\n",
      "Gávea         205\n",
      "Name: bairro, dtype: int64\n"
     ]
    }
   ],
   "source": [
    "print(df_csv['bairro'].value_counts())"
   ]
  },
  {
   "cell_type": "code",
   "execution_count": 17,
   "id": "64441514",
   "metadata": {},
   "outputs": [
    {
     "name": "stdout",
     "output_type": "stream",
     "text": [
      "             condominio   quartos    suites     vagas        area  \\\n",
      "bairro                                                              \n",
      "Botafogo     914.475570  2.107492  1.048860  1.159609   83.837134   \n",
      "Copacabana   991.861272  2.101156  1.034682  1.080925  101.855491   \n",
      "Grajaú       619.940928  2.097046  0.970464  1.130802   79.949367   \n",
      "Gávea        985.234146  2.058537  1.029268  1.200000   88.497561   \n",
      "Ipanema     1357.120996  2.181495  1.192171  1.220641  100.615658   \n",
      "Leblon      1260.010714  2.207143  1.064286  1.164286   91.832143   \n",
      "Tijuca       681.175953  2.131965  0.944282  1.143695   81.457478   \n",
      "\n",
      "                   preco           pm2  \n",
      "bairro                                  \n",
      "Botafogo    1.010614e+06  12034.486189  \n",
      "Copacabana  1.216344e+06  11965.298699  \n",
      "Grajaú      4.788869e+05   6145.624473  \n",
      "Gávea       1.454571e+06  16511.582780  \n",
      "Ipanema     2.033096e+06  19738.407794  \n",
      "Leblon      1.946193e+06  20761.351036  \n",
      "Tijuca      5.750780e+05   7149.804985  \n"
     ]
    }
   ],
   "source": [
    "print(df_csv.groupby(\"bairro\").mean())"
   ]
  },
  {
   "cell_type": "code",
   "execution_count": 18,
   "id": "dcca3e48",
   "metadata": {},
   "outputs": [
    {
     "name": "stdout",
     "output_type": "stream",
     "text": [
      "   condominio  quartos  suites  vagas  area    bairro   preco       pm2\n",
      "0         350        1     0.0    1.0    21  Botafogo  340000  16190.48\n",
      "1         800        1     0.0    1.0    64  Botafogo  770000  12031.25\n",
      "2         674        1     0.0    1.0    61  Botafogo  600000   9836.07\n",
      "3         700        1     1.0    1.0    70  Botafogo  700000  10000.00\n",
      "4         440        1     0.0    1.0    44  Botafogo  515000  11704.55\n"
     ]
    }
   ],
   "source": [
    "df2 = df_csv.head()\n",
    "print(df2)"
   ]
  },
  {
   "cell_type": "code",
   "execution_count": 19,
   "id": "2b16da4c",
   "metadata": {},
   "outputs": [
    {
     "name": "stdout",
     "output_type": "stream",
     "text": [
      "   condominio  quartos  suites  vagas  area    bairro   preco       pm2\n",
      "0         350        1     0.0    1.0    21  Botafogo  340000  16190.48\n",
      "1         800        1     0.0    1.0    64  Botafogo  770000       NaN\n",
      "2         674        1     0.0    1.0    61  Botafogo  600000   9836.07\n",
      "3         700        1     1.0    1.0    70  Botafogo  700000  10000.00\n",
      "4         440        1     0.0    1.0    44  Botafogo  515000  11704.55\n"
     ]
    }
   ],
   "source": [
    "df3 = df2.replace({\"pm2\":{12031.25:np.nan}})\n",
    "print(df3)"
   ]
  },
  {
   "cell_type": "code",
   "execution_count": 20,
   "id": "760af240",
   "metadata": {},
   "outputs": [
    {
     "name": "stdout",
     "output_type": "stream",
     "text": [
      "   condominio  quartos  suites  vagas  area    bairro   preco       pm2\n",
      "0         350        1     0.0    1.0    21  Botafogo  340000  16190.48\n",
      "2         674        1     0.0    1.0    61  Botafogo  600000   9836.07\n",
      "3         700        1     1.0    1.0    70  Botafogo  700000  10000.00\n",
      "4         440        1     0.0    1.0    44  Botafogo  515000  11704.55\n"
     ]
    }
   ],
   "source": [
    "df4 = df3.dropna()\n",
    "print(df4)"
   ]
  },
  {
   "cell_type": "code",
   "execution_count": 21,
   "id": "bc07c0d8",
   "metadata": {},
   "outputs": [
    {
     "name": "stdout",
     "output_type": "stream",
     "text": [
      "   Duration  Pulse  Maxpulse  Calories\n",
      "0        60    110       130     409.1\n",
      "1        60    117       145     479.0\n",
      "2        60    103       135     340.0\n",
      "3        45    109       175     282.4\n",
      "4        45    117       148     406.0\n",
      "5        60    102       127     300.5\n"
     ]
    }
   ],
   "source": [
    "import pandas as pd\n",
    "\n",
    "#df = pd.read_json('E:\\python_soul_on\\dados.json')\n",
    "#print(df.to_string())\n",
    "\n",
    "data = {\n",
    "  \"Duration\":{\n",
    "    \"0\":60,\n",
    "    \"1\":60,\n",
    "    \"2\":60,\n",
    "    \"3\":45,\n",
    "    \"4\":45,\n",
    "    \"5\":60\n",
    "  },\n",
    "  \"Pulse\":{\n",
    "    \"0\":110,\n",
    "    \"1\":117,\n",
    "    \"2\":103,\n",
    "    \"3\":109,\n",
    "    \"4\":117,\n",
    "    \"5\":102\n",
    "  },\n",
    "  \"Maxpulse\":{\n",
    "    \"0\":130,\n",
    "    \"1\":145,\n",
    "    \"2\":135,\n",
    "    \"3\":175,\n",
    "    \"4\":148,\n",
    "    \"5\":127\n",
    "  },\n",
    "  \"Calories\":{\n",
    "    \"0\":409.1,\n",
    "    \"1\":479.0,\n",
    "    \"2\":340.0,\n",
    "    \"3\":282.4,\n",
    "    \"4\":406.0,\n",
    "    \"5\":300.5\n",
    "  }\n",
    "}\n",
    "\n",
    "df = pd.DataFrame(data)\n",
    "print(df)"
   ]
  }
 ],
 "metadata": {
  "kernelspec": {
   "display_name": "Python 3",
   "language": "python",
   "name": "python3"
  },
  "language_info": {
   "codemirror_mode": {
    "name": "ipython",
    "version": 3
   },
   "file_extension": ".py",
   "mimetype": "text/x-python",
   "name": "python",
   "nbconvert_exporter": "python",
   "pygments_lexer": "ipython3",
   "version": "3.8.8"
  }
 },
 "nbformat": 4,
 "nbformat_minor": 5
}
