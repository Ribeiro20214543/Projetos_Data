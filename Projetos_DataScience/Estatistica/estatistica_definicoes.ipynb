{
 "cells": [
  {
   "cell_type": "markdown",
   "metadata": {
    "id": "j7ZducdmQP_U"
   },
   "source": [
    "# Estatística - Definições\n",
    "\n",
    "Vamos explorar os seguintes tópicos em Python:\n",
    "\n",
    "- 1) Introdução\n",
    "- 2) Probabilidade\n",
    "- 3) Distribuições de probabilidade\n",
    "_____________\n",
    "\n",
    "### Problema gerador: em um jogo da Copa do Mundo de futebol, a quantidade média de gols é aproximadamente `3`. Assim sendo, qual é a probabilidade de em determinada partida não haver gols? E a probabilidade de haver 4 gols?\n",
    "\n",
    "Fonte da informação [aqui!](https://www.sportshistori.com/2022/11/avg-goals-scored-per-game-at-every-fifa-world-cup-since-1930.html)"
   ]
  },
  {
   "cell_type": "code",
   "execution_count": 1,
   "metadata": {
    "id": "K1Cc6iJaQP_Y"
   },
   "outputs": [],
   "source": [
    "dados = '''\n",
    "Uruguay 1930 FIFA World Cup -- 4.375\n",
    "\n",
    "Italy 1934 FIFA World Cup -- 4.12\n",
    "\n",
    "France 1938 FIFA World Cup -- 4.67\n",
    "\n",
    "Brazil 1950 FIFA World Cup -- 4\n",
    "\n",
    "Switzerland 1954 FIFA World Cup -- 5.38\n",
    "\n",
    "Sweden 1958 FIFA World Cup -- 3.6\n",
    "\n",
    "Chile 1962 FIFA World Cup -- 2.79\n",
    "\n",
    "England 1966 FIFA World Cup -- 2.79\n",
    "\n",
    "Mexico 1970 FIFA World Cup -- 2.97\n",
    "\n",
    "West Germany 1974 FIFA World Cup -- 2.55\n",
    "\n",
    "Argentina 1978 FIFA World Cup -- 2.68\n",
    "\n",
    "Spain 1982 FIFA World Cup -- 2.81\n",
    "\n",
    "Mexico 1986 FIFA World Cup -- 2.54\n",
    "\n",
    "Italy 1990 FIFA World Cup -- 2.21\n",
    "\n",
    "United States 1994 FIFA World Cup -- 2.71\n",
    "\n",
    "France 1998 FIFA World Cup -- 2.67\n",
    "\n",
    "South Korea and Japan 2002 FIFA World Cup -- 2.52\n",
    "\n",
    "Germany 2006 FIFA World Cup -- 2.30\n",
    "\n",
    "South Africa 2010 FIFA World Cup -- 2.27\n",
    "\n",
    "Brazil 2014 FIFA World Cup -- 2.67\n",
    "\n",
    "Russia 2018 FIFA World Cup -- 2.64\n",
    "\n",
    "Qatar 2022 FIFA World Cup --  2.69'''"
   ]
  },
  {
   "cell_type": "code",
   "execution_count": 2,
   "metadata": {
    "id": "vD5qR_HSQP_a",
    "outputId": "bb637d66-81c6-4b1d-a7b8-bbe43afff029"
   },
   "outputs": [
    {
     "data": {
      "text/plain": [
       "4.375"
      ]
     },
     "execution_count": 2,
     "metadata": {},
     "output_type": "execute_result"
    }
   ],
   "source": [
    "x = '\\nUruguay 1930 FIFA World Cup -- 4.375'\n",
    "\n",
    "float(x.split(\" -- \")[1])"
   ]
  },
  {
   "cell_type": "code",
   "execution_count": 3,
   "metadata": {
    "id": "rJdkkqOgQP_a",
    "outputId": "367b693c-48f5-4872-f512-bb30280e7f29"
   },
   "outputs": [
    {
     "data": {
      "text/plain": [
       "[4.375,\n",
       " 4.12,\n",
       " 4.67,\n",
       " 4.0,\n",
       " 5.38,\n",
       " 3.6,\n",
       " 2.79,\n",
       " 2.79,\n",
       " 2.97,\n",
       " 2.55,\n",
       " 2.68,\n",
       " 2.81,\n",
       " 2.54,\n",
       " 2.21,\n",
       " 2.71,\n",
       " 2.67,\n",
       " 2.52,\n",
       " 2.3,\n",
       " 2.27,\n",
       " 2.67,\n",
       " 2.64,\n",
       " 2.69]"
      ]
     },
     "execution_count": 3,
     "metadata": {},
     "output_type": "execute_result"
    }
   ],
   "source": [
    "media_de_gols = [float(x.split(\" -- \")[1]) for x in dados.split(\"\\n\\n\")]\n",
    "\n",
    "media_de_gols"
   ]
  },
  {
   "cell_type": "code",
   "execution_count": 4,
   "metadata": {
    "id": "TnttK1z2QP_b",
    "outputId": "7f873c96-a6c6-4283-f1a1-e57ebcbe6deb"
   },
   "outputs": [
    {
     "data": {
      "text/plain": [
       "3.0888636363636364"
      ]
     },
     "execution_count": 4,
     "metadata": {},
     "output_type": "execute_result"
    }
   ],
   "source": [
    "import numpy as np\n",
    "\n",
    "np.array(media_de_gols).mean()"
   ]
  },
  {
   "cell_type": "markdown",
   "metadata": {
    "id": "n1y3rlb1QP_b"
   },
   "source": [
    "____"
   ]
  },
  {
   "cell_type": "markdown",
   "metadata": {
    "id": "pEsM5bw6QP_b"
   },
   "source": [
    "## 1) Introdução\n",
    "\n",
    "Hoje iniciaremos nossa introdução a **Probabilidade e Estatística**.\n",
    "\n",
    "Essas duas áreas são extremamente amplas, e fornecem toda a base da ciência de dados. Por isso, vamos dar uma olhada nos principais conceitos!\n",
    "\n",
    "A probabilidade e estatística podem ser dividias nos seguintes três pilares:\n",
    "\n",
    "- **Probabilidade**: é a teoria matemática utilizada para se estudar a incerteza oriundas de `fenômenos`de caráter aleátorio.<br><br>\n",
    "\n",
    "- **Estatística Descritiva**: Etapa inicial da análise estatística, tendo como objetivo tirar informações prévias de modo informal e direto. A ideia é obter informações que `resumam` o conjuto de dados, a fim que estes possam ser `descritos`, e conclusões iniciais possam ser tiradas.\n",
    "\n",
    "    - Já usamos várias dessas técnicas (sem saber explicitamente) no processo de EDA!<br><br>\n",
    "\n",
    "- **Inferência estatística**: É o conjunto de técnicas que possibilitam a extrapolação de conclusões tiradas a partir de um conjunto pequeno de dados (denominado `amostra`) para todo o universo sob análise (denominado (`população`).\n",
    "\n",
    "<img src=\"https://www.inf.ufsc.br/~andre.zibetti/probabilidade/img/inferencia.png\" width=\"600\">"
   ]
  },
  {
   "cell_type": "markdown",
   "metadata": {
    "id": "cYil2ad2QP_c"
   },
   "source": [
    "Antes de explorarmos cada um desses três pilares mais a fundo, é importante formalizarmos os **tipos de dados** com os quais trabalharemos:"
   ]
  },
  {
   "cell_type": "markdown",
   "metadata": {
    "id": "6olbs_MJQP_c"
   },
   "source": [
    "### 1.1) Tipos de variáveis\n",
    "\n",
    "- **Variavél qualitativa** *nominal*\n",
    "\n",
    "> Valores que expressam **atributos sem nenhum tipo de ordem**. Ex : sexo, estado civil, país de origem, ser fumante ou não, etc.\n",
    "\n",
    "    - São representados por strings\n",
    "\n",
    "\n",
    "- **Variavél qualitativa** *ordinal*\n",
    "\n",
    "> Valores que expressam **atributos com algum tipo de ordem ou grau**. Ex: escolaridade, resposta de um paciente (piora, igual, melhora), classe social(alta, média, baixa), classe do navio, etc.\n",
    "\n",
    "    - São representados por strings, ou possivelmente números inteiros\n",
    "\n",
    "________________\n",
    "\n",
    "\n",
    "- **Variavél quantitativa** *discreta*  \n",
    "\n",
    "> Valores numéricos inteiros. Ex: idade em anos inteiros, número de banheiros em uma casa, número de filhos, etc.\n",
    "\n",
    "    - São representados por ints\n",
    "\n",
    "- **Variavél quantitativa** *contínua*  \n",
    "\n",
    "> Valores numéricos racionais. Ex: salário, preço, temperatura, gorjeta, etc.\n",
    "\n",
    "    - São representados por floats"
   ]
  },
  {
   "cell_type": "code",
   "execution_count": 5,
   "metadata": {
    "id": "Q2tfhhTLQP_d"
   },
   "outputs": [],
   "source": [
    "import pandas as pd\n",
    "\n",
    "import matplotlib.pyplot as plt\n",
    "import seaborn as sns"
   ]
  },
  {
   "cell_type": "markdown",
   "metadata": {
    "id": "ZSy1oZ5JQP_d"
   },
   "source": [
    "___\n",
    "___\n",
    "___"
   ]
  },
  {
   "cell_type": "markdown",
   "metadata": {
    "id": "eFilXLQ_QP_d"
   },
   "source": [
    "## 2) Probabilidade\n",
    "\n",
    "Probabilidade é a área da matemática que estuda **eventos aleatórios**, cujos resultados são **probabilísticos** ou **estocásticos**.\n",
    "\n",
    "Existem poucos sistemas na natureza que são de fato inerentemente aleatórias e não-determinísticas. No entanto, uma descrição determinística pode ser muito complicada, de modo que **se torna conveniente** tratar o sistema como um sistema estocástico.\n",
    "\n",
    "Ex.: lançamento de moeda, lançamento de dados, etc.\n",
    "\n",
    "O objetivo da estatística é similar: analisar dados ou criar modelos que **generalizem relações** que não podem ser determinadas diretamente uma vez que não temos acesso à população. Neste sentido, há muita probabilidade envolvida em estatística, e é por isso que vamos olhar para os principais conceitos de probabilidade."
   ]
  },
  {
   "cell_type": "markdown",
   "metadata": {
    "id": "9WSUaNOGQP_d"
   },
   "source": [
    "_____"
   ]
  },
  {
   "cell_type": "markdown",
   "metadata": {
    "id": "_P1VEFeyQP_d"
   },
   "source": [
    "### 2.1) Variável aleatória\n",
    "\n",
    "Uma **variável aleatória** é uma variável cujo valor depende de fatores **não-deterministícos**, isto é, **probabilísticos**.\n",
    "\n",
    "**Exemplo**: resultado do lançamento de um dado; o quanto de gorjeta será dado num restaurante; sobrevivência ao Titanic."
   ]
  },
  {
   "cell_type": "markdown",
   "metadata": {
    "id": "t8H_-zATQP_e"
   },
   "source": [
    "_____"
   ]
  },
  {
   "cell_type": "markdown",
   "metadata": {
    "id": "GzkjXlYxQP_e"
   },
   "source": [
    "### 2.2) Espaço amostral\n",
    "\n",
    "Chamamos de **espaço amostral** o conjunto de **todos os resultados possíveis de um certo fenômeno aleatório**, ou seja, **os valores possíveis que a variável aleatória de interesse pode assumir**. Representamos o espaço amostral pela letra grega $\\Omega$.\n",
    "\n",
    "Os subconjuntos de $\\Omega$ são denominados **eventos** e representados pelas letras latinas maiúsculas A, B, etc.\n",
    "\n",
    "**Exemplo**: o espaço amostral dos resultados do lançamento de um dado é:\n",
    "\n",
    "$$ \\Omega = \\{1, 2, 3, 4, 5, 6\\} $$\n",
    "\n",
    "Alguns eventos possíveis são:\n",
    "\n",
    "- Evento A = {3} : o resultado do lançamento do dado foi 3;\n",
    "- Evento B = {5} : o resultado do lançamento do dado foi 5."
   ]
  },
  {
   "cell_type": "markdown",
   "metadata": {
    "id": "PQbKhPysQP_e"
   },
   "source": [
    "**Exemplo 2**: considere o lançamento de uma moeda:\n",
    "\n",
    "<img src=\"https://www.vertica.com/wp-content/uploads/2019/07/Coin_Flip_183981489-2160.jpg\" width=300>\n",
    "\n",
    "- Se lançarmos uma única moeda:\n",
    "    - A variável aleatória será **o resultado do lançamento da moeda**\n",
    "    - Portanto, o espaço amostral é: $$ \\Omega = \\{ K, C \\} $$\n",
    "    \n",
    "- Se lançarmos duas moedas:\n",
    "    - A variável aleatória será **o resultado do lançamento de cada moeda**\n",
    "    - Portanto, o espaço amostral é: $$ \\Omega = \\{ (K, K), (K, C), (C, K), (C, C) \\} $$"
   ]
  },
  {
   "cell_type": "markdown",
   "metadata": {
    "id": "nk-KYDIkQP_e"
   },
   "source": [
    "**Exemplo 3**: espaço amostral de algumas variáveis da base do Titanic"
   ]
  },
  {
   "cell_type": "code",
   "execution_count": 9,
   "metadata": {
    "id": "WC_a74TGQP_e",
    "outputId": "88c87730-119d-4932-e027-8e8f01b2a4d7"
   },
   "outputs": [
    {
     "data": {
      "text/html": [
       "<div>\n",
       "<style scoped>\n",
       "    .dataframe tbody tr th:only-of-type {\n",
       "        vertical-align: middle;\n",
       "    }\n",
       "\n",
       "    .dataframe tbody tr th {\n",
       "        vertical-align: top;\n",
       "    }\n",
       "\n",
       "    .dataframe thead th {\n",
       "        text-align: right;\n",
       "    }\n",
       "</style>\n",
       "<table border=\"1\" class=\"dataframe\">\n",
       "  <thead>\n",
       "    <tr style=\"text-align: right;\">\n",
       "      <th></th>\n",
       "      <th>pclass</th>\n",
       "      <th>survived</th>\n",
       "      <th>name</th>\n",
       "      <th>sex</th>\n",
       "      <th>age</th>\n",
       "      <th>sibsp</th>\n",
       "      <th>parch</th>\n",
       "      <th>ticket</th>\n",
       "      <th>fare</th>\n",
       "      <th>cabin</th>\n",
       "      <th>embarked</th>\n",
       "      <th>boat</th>\n",
       "      <th>body</th>\n",
       "      <th>home.dest</th>\n",
       "    </tr>\n",
       "  </thead>\n",
       "  <tbody>\n",
       "    <tr>\n",
       "      <th>0</th>\n",
       "      <td>1</td>\n",
       "      <td>1</td>\n",
       "      <td>Allen, Miss. Elisabeth Walton</td>\n",
       "      <td>female</td>\n",
       "      <td>29.0000</td>\n",
       "      <td>0</td>\n",
       "      <td>0</td>\n",
       "      <td>24160</td>\n",
       "      <td>211.3375</td>\n",
       "      <td>B5</td>\n",
       "      <td>S</td>\n",
       "      <td>2</td>\n",
       "      <td>NaN</td>\n",
       "      <td>St Louis, MO</td>\n",
       "    </tr>\n",
       "    <tr>\n",
       "      <th>1</th>\n",
       "      <td>1</td>\n",
       "      <td>1</td>\n",
       "      <td>Allison, Master. Hudson Trevor</td>\n",
       "      <td>male</td>\n",
       "      <td>0.9167</td>\n",
       "      <td>1</td>\n",
       "      <td>2</td>\n",
       "      <td>113781</td>\n",
       "      <td>151.5500</td>\n",
       "      <td>C22 C26</td>\n",
       "      <td>S</td>\n",
       "      <td>11</td>\n",
       "      <td>NaN</td>\n",
       "      <td>Montreal, PQ / Chesterville, ON</td>\n",
       "    </tr>\n",
       "    <tr>\n",
       "      <th>2</th>\n",
       "      <td>1</td>\n",
       "      <td>0</td>\n",
       "      <td>Allison, Miss. Helen Loraine</td>\n",
       "      <td>female</td>\n",
       "      <td>2.0000</td>\n",
       "      <td>1</td>\n",
       "      <td>2</td>\n",
       "      <td>113781</td>\n",
       "      <td>151.5500</td>\n",
       "      <td>C22 C26</td>\n",
       "      <td>S</td>\n",
       "      <td>NaN</td>\n",
       "      <td>NaN</td>\n",
       "      <td>Montreal, PQ / Chesterville, ON</td>\n",
       "    </tr>\n",
       "    <tr>\n",
       "      <th>3</th>\n",
       "      <td>1</td>\n",
       "      <td>0</td>\n",
       "      <td>Allison, Mr. Hudson Joshua Creighton</td>\n",
       "      <td>male</td>\n",
       "      <td>30.0000</td>\n",
       "      <td>1</td>\n",
       "      <td>2</td>\n",
       "      <td>113781</td>\n",
       "      <td>151.5500</td>\n",
       "      <td>C22 C26</td>\n",
       "      <td>S</td>\n",
       "      <td>NaN</td>\n",
       "      <td>135.0</td>\n",
       "      <td>Montreal, PQ / Chesterville, ON</td>\n",
       "    </tr>\n",
       "    <tr>\n",
       "      <th>4</th>\n",
       "      <td>1</td>\n",
       "      <td>0</td>\n",
       "      <td>Allison, Mrs. Hudson J C (Bessie Waldo Daniels)</td>\n",
       "      <td>female</td>\n",
       "      <td>25.0000</td>\n",
       "      <td>1</td>\n",
       "      <td>2</td>\n",
       "      <td>113781</td>\n",
       "      <td>151.5500</td>\n",
       "      <td>C22 C26</td>\n",
       "      <td>S</td>\n",
       "      <td>NaN</td>\n",
       "      <td>NaN</td>\n",
       "      <td>Montreal, PQ / Chesterville, ON</td>\n",
       "    </tr>\n",
       "    <tr>\n",
       "      <th>...</th>\n",
       "      <td>...</td>\n",
       "      <td>...</td>\n",
       "      <td>...</td>\n",
       "      <td>...</td>\n",
       "      <td>...</td>\n",
       "      <td>...</td>\n",
       "      <td>...</td>\n",
       "      <td>...</td>\n",
       "      <td>...</td>\n",
       "      <td>...</td>\n",
       "      <td>...</td>\n",
       "      <td>...</td>\n",
       "      <td>...</td>\n",
       "      <td>...</td>\n",
       "    </tr>\n",
       "    <tr>\n",
       "      <th>1304</th>\n",
       "      <td>3</td>\n",
       "      <td>0</td>\n",
       "      <td>Zabour, Miss. Hileni</td>\n",
       "      <td>female</td>\n",
       "      <td>14.5000</td>\n",
       "      <td>1</td>\n",
       "      <td>0</td>\n",
       "      <td>2665</td>\n",
       "      <td>14.4542</td>\n",
       "      <td>NaN</td>\n",
       "      <td>C</td>\n",
       "      <td>NaN</td>\n",
       "      <td>328.0</td>\n",
       "      <td>NaN</td>\n",
       "    </tr>\n",
       "    <tr>\n",
       "      <th>1305</th>\n",
       "      <td>3</td>\n",
       "      <td>0</td>\n",
       "      <td>Zabour, Miss. Thamine</td>\n",
       "      <td>female</td>\n",
       "      <td>NaN</td>\n",
       "      <td>1</td>\n",
       "      <td>0</td>\n",
       "      <td>2665</td>\n",
       "      <td>14.4542</td>\n",
       "      <td>NaN</td>\n",
       "      <td>C</td>\n",
       "      <td>NaN</td>\n",
       "      <td>NaN</td>\n",
       "      <td>NaN</td>\n",
       "    </tr>\n",
       "    <tr>\n",
       "      <th>1306</th>\n",
       "      <td>3</td>\n",
       "      <td>0</td>\n",
       "      <td>Zakarian, Mr. Mapriededer</td>\n",
       "      <td>male</td>\n",
       "      <td>26.5000</td>\n",
       "      <td>0</td>\n",
       "      <td>0</td>\n",
       "      <td>2656</td>\n",
       "      <td>7.2250</td>\n",
       "      <td>NaN</td>\n",
       "      <td>C</td>\n",
       "      <td>NaN</td>\n",
       "      <td>304.0</td>\n",
       "      <td>NaN</td>\n",
       "    </tr>\n",
       "    <tr>\n",
       "      <th>1307</th>\n",
       "      <td>3</td>\n",
       "      <td>0</td>\n",
       "      <td>Zakarian, Mr. Ortin</td>\n",
       "      <td>male</td>\n",
       "      <td>27.0000</td>\n",
       "      <td>0</td>\n",
       "      <td>0</td>\n",
       "      <td>2670</td>\n",
       "      <td>7.2250</td>\n",
       "      <td>NaN</td>\n",
       "      <td>C</td>\n",
       "      <td>NaN</td>\n",
       "      <td>NaN</td>\n",
       "      <td>NaN</td>\n",
       "    </tr>\n",
       "    <tr>\n",
       "      <th>1308</th>\n",
       "      <td>3</td>\n",
       "      <td>0</td>\n",
       "      <td>Zimmerman, Mr. Leo</td>\n",
       "      <td>male</td>\n",
       "      <td>29.0000</td>\n",
       "      <td>0</td>\n",
       "      <td>0</td>\n",
       "      <td>315082</td>\n",
       "      <td>7.8750</td>\n",
       "      <td>NaN</td>\n",
       "      <td>S</td>\n",
       "      <td>NaN</td>\n",
       "      <td>NaN</td>\n",
       "      <td>NaN</td>\n",
       "    </tr>\n",
       "  </tbody>\n",
       "</table>\n",
       "<p>1309 rows × 14 columns</p>\n",
       "</div>"
      ],
      "text/plain": [
       "      pclass  survived                                             name  \\\n",
       "0          1         1                    Allen, Miss. Elisabeth Walton   \n",
       "1          1         1                   Allison, Master. Hudson Trevor   \n",
       "2          1         0                     Allison, Miss. Helen Loraine   \n",
       "3          1         0             Allison, Mr. Hudson Joshua Creighton   \n",
       "4          1         0  Allison, Mrs. Hudson J C (Bessie Waldo Daniels)   \n",
       "...      ...       ...                                              ...   \n",
       "1304       3         0                             Zabour, Miss. Hileni   \n",
       "1305       3         0                            Zabour, Miss. Thamine   \n",
       "1306       3         0                        Zakarian, Mr. Mapriededer   \n",
       "1307       3         0                              Zakarian, Mr. Ortin   \n",
       "1308       3         0                               Zimmerman, Mr. Leo   \n",
       "\n",
       "         sex      age  sibsp  parch  ticket      fare    cabin embarked boat  \\\n",
       "0     female  29.0000      0      0   24160  211.3375       B5        S    2   \n",
       "1       male   0.9167      1      2  113781  151.5500  C22 C26        S   11   \n",
       "2     female   2.0000      1      2  113781  151.5500  C22 C26        S  NaN   \n",
       "3       male  30.0000      1      2  113781  151.5500  C22 C26        S  NaN   \n",
       "4     female  25.0000      1      2  113781  151.5500  C22 C26        S  NaN   \n",
       "...      ...      ...    ...    ...     ...       ...      ...      ...  ...   \n",
       "1304  female  14.5000      1      0    2665   14.4542      NaN        C  NaN   \n",
       "1305  female      NaN      1      0    2665   14.4542      NaN        C  NaN   \n",
       "1306    male  26.5000      0      0    2656    7.2250      NaN        C  NaN   \n",
       "1307    male  27.0000      0      0    2670    7.2250      NaN        C  NaN   \n",
       "1308    male  29.0000      0      0  315082    7.8750      NaN        S  NaN   \n",
       "\n",
       "       body                        home.dest  \n",
       "0       NaN                     St Louis, MO  \n",
       "1       NaN  Montreal, PQ / Chesterville, ON  \n",
       "2       NaN  Montreal, PQ / Chesterville, ON  \n",
       "3     135.0  Montreal, PQ / Chesterville, ON  \n",
       "4       NaN  Montreal, PQ / Chesterville, ON  \n",
       "...     ...                              ...  \n",
       "1304  328.0                              NaN  \n",
       "1305    NaN                              NaN  \n",
       "1306  304.0                              NaN  \n",
       "1307    NaN                              NaN  \n",
       "1308    NaN                              NaN  \n",
       "\n",
       "[1309 rows x 14 columns]"
      ]
     },
     "execution_count": 9,
     "metadata": {},
     "output_type": "execute_result"
    }
   ],
   "source": [
    "df_titanic = pd.read_excel(\"titanic3.xls\", na_values=\"?\")\n",
    "\n",
    "df_titanic"
   ]
  },
  {
   "cell_type": "code",
   "execution_count": 10,
   "metadata": {
    "id": "fiwDwTMoQP_e",
    "outputId": "259f5698-ad19-4de1-e42f-68135d544ad5"
   },
   "outputs": [
    {
     "name": "stdout",
     "output_type": "stream",
     "text": [
      "<class 'pandas.core.frame.DataFrame'>\n",
      "RangeIndex: 1309 entries, 0 to 1308\n",
      "Data columns (total 14 columns):\n",
      " #   Column     Non-Null Count  Dtype  \n",
      "---  ------     --------------  -----  \n",
      " 0   pclass     1309 non-null   int64  \n",
      " 1   survived   1309 non-null   int64  \n",
      " 2   name       1309 non-null   object \n",
      " 3   sex        1309 non-null   object \n",
      " 4   age        1046 non-null   float64\n",
      " 5   sibsp      1309 non-null   int64  \n",
      " 6   parch      1309 non-null   int64  \n",
      " 7   ticket     1309 non-null   object \n",
      " 8   fare       1308 non-null   float64\n",
      " 9   cabin      295 non-null    object \n",
      " 10  embarked   1307 non-null   object \n",
      " 11  boat       486 non-null    object \n",
      " 12  body       121 non-null    float64\n",
      " 13  home.dest  745 non-null    object \n",
      "dtypes: float64(3), int64(4), object(7)\n",
      "memory usage: 143.3+ KB\n"
     ]
    }
   ],
   "source": [
    "df_titanic.info()"
   ]
  },
  {
   "cell_type": "code",
   "execution_count": 11,
   "metadata": {
    "id": "8Boc35sgQP_e",
    "outputId": "d6521145-76da-4be4-91d1-a097c29f6133",
    "scrolled": true
   },
   "outputs": [
    {
     "data": {
      "text/plain": [
       "array([1, 2, 3], dtype=int64)"
      ]
     },
     "execution_count": 11,
     "metadata": {},
     "output_type": "execute_result"
    }
   ],
   "source": [
    "df_titanic[\"pclass\"].unique()"
   ]
  },
  {
   "cell_type": "code",
   "execution_count": 12,
   "metadata": {
    "id": "QIGPnSh0QP_f",
    "outputId": "81746de3-7a2f-43d7-a378-7ee76cdba32b"
   },
   "outputs": [
    {
     "data": {
      "text/plain": [
       "array([1, 0], dtype=int64)"
      ]
     },
     "execution_count": 12,
     "metadata": {},
     "output_type": "execute_result"
    }
   ],
   "source": [
    "df_titanic[\"survived\"].unique()"
   ]
  },
  {
   "cell_type": "code",
   "execution_count": 13,
   "metadata": {
    "id": "IaB_5rgXQP_f",
    "outputId": "e19f6a64-fa71-4228-9bb7-7506c0766475"
   },
   "outputs": [
    {
     "data": {
      "text/plain": [
       "array(['S', 'C', nan, 'Q'], dtype=object)"
      ]
     },
     "execution_count": 13,
     "metadata": {},
     "output_type": "execute_result"
    }
   ],
   "source": [
    "df_titanic[\"embarked\"].unique()"
   ]
  },
  {
   "cell_type": "code",
   "execution_count": 14,
   "metadata": {
    "id": "6tWaPZMtQP_f",
    "outputId": "779de157-42d1-4308-9357-3151b6b7bb18"
   },
   "outputs": [
    {
     "data": {
      "text/plain": [
       "array([29.    ,  0.9167,  2.    , 30.    , 25.    , 48.    , 63.    ,\n",
       "       39.    , 53.    , 71.    , 47.    , 18.    , 24.    , 26.    ,\n",
       "       80.    ,     nan, 50.    , 32.    , 36.    , 37.    , 42.    ,\n",
       "       19.    , 35.    , 28.    , 45.    , 40.    , 58.    , 22.    ,\n",
       "       41.    , 44.    , 59.    , 60.    , 33.    , 17.    , 11.    ,\n",
       "       14.    , 49.    , 76.    , 46.    , 27.    , 64.    , 55.    ,\n",
       "       70.    , 38.    , 51.    , 31.    ,  4.    , 54.    , 23.    ,\n",
       "       43.    , 52.    , 16.    , 32.5   , 21.    , 15.    , 65.    ,\n",
       "       28.5   , 45.5   , 56.    , 13.    , 61.    , 34.    ,  6.    ,\n",
       "       57.    , 62.    , 67.    ,  1.    , 12.    , 20.    ,  0.8333,\n",
       "        8.    ,  0.6667,  7.    ,  3.    , 36.5   , 18.5   ,  5.    ,\n",
       "       66.    ,  9.    ,  0.75  , 70.5   , 22.5   ,  0.3333,  0.1667,\n",
       "       40.5   , 10.    , 23.5   , 34.5   , 20.5   , 30.5   , 55.5   ,\n",
       "       38.5   , 14.5   , 24.5   , 60.5   , 74.    ,  0.4167, 11.5   ,\n",
       "       26.5   ])"
      ]
     },
     "execution_count": 14,
     "metadata": {},
     "output_type": "execute_result"
    }
   ],
   "source": [
    "df_titanic[\"age\"].unique()"
   ]
  },
  {
   "cell_type": "markdown",
   "metadata": {
    "id": "VrPeXV8vQP_f"
   },
   "source": [
    "_____"
   ]
  },
  {
   "cell_type": "markdown",
   "metadata": {
    "id": "v3n9P6XhQP_f"
   },
   "source": [
    "### 2.4) Definição de probabilidade\n",
    "\n",
    "Definimos uma função $P(.)$ denominada **probabilidade** que deve satisfazer as seguintes propriedades:\n",
    "    \n",
    "- $0\\leq P(A) \\leq 1$\n",
    "\n",
    "- $ P(\\Omega)=\\sum_{A_i \\in \\Omega}P(A_{i})=1$"
   ]
  },
  {
   "cell_type": "markdown",
   "metadata": {
    "id": "_Ve3-LmZQP_f"
   },
   "source": [
    "**Exemplo**: considere o lançamento de uma moeda honesta:\n",
    "\n",
    "O espaço amostral é: $\\Omega = \\{ K, C \\}$.\n",
    "\n",
    "Pra uma moeda honesta, temos $P(K) = P(c) = \\frac{1}{2}$.\n",
    "\n",
    "De fato, note como $0 \\leq P(A) \\leq 1$. E, além disso,\n",
    "\n",
    "$$ P(\\Omega) = \\sum_{A_i \\in  \\{ K, C \\}}P(A_{i}) = P(K) + P(C) = \\frac{1}{2} + \\frac{1}{2} = 1 $$\n"
   ]
  },
  {
   "cell_type": "markdown",
   "metadata": {
    "id": "dZOQAlTXQP_f"
   },
   "source": [
    "#### 2.4.1) Atribuindo probabilidades aos elementos do espaço amostral\n",
    "\n",
    "Há, essencialmente, duas formas de se **atribuir a probabilidade de cada evento**:"
   ]
  },
  {
   "cell_type": "markdown",
   "metadata": {
    "id": "dlldbN__QP_f"
   },
   "source": [
    "> 1) Baseando-se em características teóricas acerca do experimento.\n",
    "\n",
    "**Exemplo**: ao lançarmos um dado, temos o espaço amostral $\\Omega=\\{1,2,3,4,5,6\\}$.\n",
    "\n",
    "Admitindo que o dado foi construído de forma homogênea e com medidas rigorosamente simétricas, não temos nenhuma razão para **privilegiar uma face em detrimento das demais**.\n",
    "\n",
    "Assim, consideramos: $p(1) = p(2) = p(3) = p(4) = p(5) = p(6) = \\frac{1}{6}$"
   ]
  },
  {
   "cell_type": "markdown",
   "metadata": {
    "id": "QKaaRYLJQP_g"
   },
   "source": [
    "> 2) Fazendo muitos experimentos.\n",
    "\n",
    "**Exemplo**: imagine que temos uma moeda não-honesta, que tende cair mais vezes coroa do que cara. Para descobrirmos qual é a probabilidade de cada um dos eventos ($\\Omega = \\{K, C\\}$), podemos lançar a moeda muitas vezes, e anotar os resultados:"
   ]
  },
  {
   "cell_type": "code",
   "execution_count": 15,
   "metadata": {
    "id": "RomCYOwEQP_g",
    "outputId": "98eb59a6-b882-4c42-ce0b-02c0f2c349e3"
   },
   "outputs": [
    {
     "name": "stdout",
     "output_type": "stream",
     "text": [
      "5847 4153\n"
     ]
    }
   ],
   "source": [
    "N = 10000\n",
    "cara = 5847\n",
    "coroa = N - cara\n",
    "\n",
    "print(cara, coroa)"
   ]
  },
  {
   "cell_type": "code",
   "execution_count": 16,
   "metadata": {
    "id": "tWLaifFYQP_g",
    "outputId": "e3a1b01d-c71a-4c32-958a-ea040a2534ad"
   },
   "outputs": [
    {
     "name": "stdout",
     "output_type": "stream",
     "text": [
      "0.5847 0.4153\n"
     ]
    }
   ],
   "source": [
    "p_cara = cara/N\n",
    "p_coroa = coroa/N\n",
    "\n",
    "print(p_cara, p_coroa)"
   ]
  },
  {
   "cell_type": "code",
   "execution_count": 17,
   "metadata": {
    "id": "xVAgWpO-QP_g",
    "outputId": "2c5e3357-e9da-41bb-eca9-49da85bd75be"
   },
   "outputs": [
    {
     "name": "stdout",
     "output_type": "stream",
     "text": [
      "5010 4990\n",
      "0.501 0.499\n"
     ]
    }
   ],
   "source": [
    "N = 10000\n",
    "cara = 5010\n",
    "coroa = N - cara\n",
    "\n",
    "print(cara, coroa)\n",
    "\n",
    "p_cara = cara/N\n",
    "p_coroa = coroa/N\n",
    "\n",
    "print(p_cara, p_coroa)"
   ]
  },
  {
   "cell_type": "code",
   "execution_count": 18,
   "metadata": {
    "id": "DElXQlGVQP_h",
    "outputId": "112d281b-6f6b-4577-da52-692b756a8465"
   },
   "outputs": [
    {
     "data": {
      "text/plain": [
       "1    0.500723\n",
       "0    0.499277\n",
       "Name: proportion, dtype: float64"
      ]
     },
     "execution_count": 18,
     "metadata": {},
     "output_type": "execute_result"
    }
   ],
   "source": [
    "pd.Series(np.random.randint(0, 2, 1000000)).value_counts(normalize=True)"
   ]
  },
  {
   "cell_type": "markdown",
   "metadata": {
    "id": "CDnijazhQP_h"
   },
   "source": [
    "No caso do Titanic, podemos atribuir probabilidades de acordo com **as observações coletadas**.\n",
    "\n",
    "Isso é facilmente calculado com o `value_counts()`:"
   ]
  },
  {
   "cell_type": "code",
   "execution_count": 19,
   "metadata": {
    "id": "0WmCvhcSQP_h",
    "outputId": "f245daa2-241f-49b5-cb55-f17e645c89ee"
   },
   "outputs": [
    {
     "data": {
      "text/plain": [
       "array([1, 2, 3], dtype=int64)"
      ]
     },
     "execution_count": 19,
     "metadata": {},
     "output_type": "execute_result"
    }
   ],
   "source": [
    "df_titanic[\"pclass\"].unique()"
   ]
  },
  {
   "cell_type": "code",
   "execution_count": 20,
   "metadata": {
    "id": "b3O5j4yDQP_h",
    "outputId": "d4feaa65-4a55-4ab5-f754-3b99f5d47f94"
   },
   "outputs": [
    {
     "data": {
      "text/plain": [
       "pclass\n",
       "3    0.541635\n",
       "1    0.246753\n",
       "2    0.211612\n",
       "Name: proportion, dtype: float64"
      ]
     },
     "execution_count": 20,
     "metadata": {},
     "output_type": "execute_result"
    }
   ],
   "source": [
    "df_titanic[\"pclass\"].value_counts(normalize=True)"
   ]
  },
  {
   "cell_type": "code",
   "execution_count": 21,
   "metadata": {
    "id": "Ng2aKJwPQP_h",
    "outputId": "70d7661b-c167-41a1-d3be-f0b03b769c99"
   },
   "outputs": [
    {
     "data": {
      "text/plain": [
       "0.541635"
      ]
     },
     "execution_count": 21,
     "metadata": {},
     "output_type": "execute_result"
    }
   ],
   "source": [
    "1 - (0.246753 + 0.211612)"
   ]
  },
  {
   "cell_type": "markdown",
   "metadata": {
    "id": "Itq4DoPvQP_i"
   },
   "source": [
    "#### 2.4.2) Eventos complementares\n",
    "\n",
    "A probabilidade de ocorrência de um evento pode ser definida diretamente pela probabilidade de **não ocorrência dele**: $ A^{c}$ é a não ocorrência de $A$, de modo que, naturalmente, $ P(A) = 1 - P(A^{c})$\n",
    "\n",
    "Ou seja, $P(A) + P(A^{c}) = 1$, o que faz sentido, segundo a definição de probabilidade!\n",
    "\n",
    "Quando temos um espaço amostral de apenas dois elementos (lançamento de uma moeda, ou a sobrevivência ao Titanic, por exemplo), isso fica ainda mais evidente:"
   ]
  },
  {
   "cell_type": "code",
   "execution_count": 22,
   "metadata": {
    "id": "qKc4u2WLQP_o",
    "outputId": "627912ea-2e01-442a-806f-d47c13638413"
   },
   "outputs": [
    {
     "data": {
      "text/plain": [
       "array([1, 0], dtype=int64)"
      ]
     },
     "execution_count": 22,
     "metadata": {},
     "output_type": "execute_result"
    }
   ],
   "source": [
    "df_titanic[\"survived\"].unique()"
   ]
  },
  {
   "cell_type": "code",
   "execution_count": 23,
   "metadata": {
    "id": "nUbeuo3zQP_o",
    "outputId": "e3bea59a-d1d2-4a50-df98-2205ba4b7aa8"
   },
   "outputs": [
    {
     "data": {
      "text/plain": [
       "survived\n",
       "0    0.618029\n",
       "1    0.381971\n",
       "Name: proportion, dtype: float64"
      ]
     },
     "execution_count": 23,
     "metadata": {},
     "output_type": "execute_result"
    }
   ],
   "source": [
    "df_titanic[\"survived\"].value_counts(normalize=True)"
   ]
  },
  {
   "cell_type": "code",
   "execution_count": 24,
   "metadata": {
    "id": "D0n8pbWmQP_p",
    "outputId": "b6d1ac3a-8e6f-4a10-a544-8f2a93321a79"
   },
   "outputs": [
    {
     "data": {
      "text/plain": [
       "0.3819709702062643"
      ]
     },
     "execution_count": 24,
     "metadata": {},
     "output_type": "execute_result"
    }
   ],
   "source": [
    "df_titanic[\"survived\"].mean()"
   ]
  },
  {
   "cell_type": "markdown",
   "metadata": {
    "id": "dBDtQgE1QP_p"
   },
   "source": [
    "_____"
   ]
  },
  {
   "cell_type": "markdown",
   "metadata": {
    "id": "LrmCcGYaQP_p"
   },
   "source": [
    "### 2.5) Probabilidade Condicional e Independência\n",
    "\n",
    "Utilizamos a notação $P(A|B)$ pra indicar a **probabilidade condicional de A dado B**, ou seja, probabilidade do evento $A$ ocorrer, dado que ocorreu o evento $B$.\n",
    "\n",
    "Se os eventos $A$ e $B$ forem **dependentes**, temos que a ocorrência de $B$ influencia a ocorrência de $A$, ou seja, $P(A|B) \\neq P(A)$.\n",
    "\n",
    "**Eventos independentes** são tais que $P(A|B) = P(A)$, ou seja, a ocorrência do evento $B$ não influencia a probabilidade de ocorrência do evento $A$."
   ]
  },
  {
   "cell_type": "markdown",
   "metadata": {
    "id": "1OyQ-Q5GQP_p"
   },
   "source": [
    "> No caso do Titanic: a **classe** influencia na **sobrevivência**?"
   ]
  },
  {
   "cell_type": "code",
   "execution_count": 25,
   "metadata": {
    "id": "UnZQVCA3QP_q",
    "outputId": "b0ba6b71-f83d-4bed-e56d-3c9d40d8fbef"
   },
   "outputs": [
    {
     "data": {
      "text/plain": [
       "0.3819709702062643"
      ]
     },
     "execution_count": 25,
     "metadata": {},
     "output_type": "execute_result"
    }
   ],
   "source": [
    "df_titanic[\"survived\"].mean()"
   ]
  },
  {
   "cell_type": "code",
   "execution_count": 26,
   "metadata": {
    "id": "A4hMMaDXQP_q",
    "outputId": "f139bbe4-0e3a-4a18-9cb7-62b2aaad1209"
   },
   "outputs": [
    {
     "data": {
      "text/plain": [
       "0.6191950464396285"
      ]
     },
     "execution_count": 26,
     "metadata": {},
     "output_type": "execute_result"
    }
   ],
   "source": [
    "df_titanic.query(\"pclass == 1\")[\"survived\"].mean()"
   ]
  },
  {
   "cell_type": "code",
   "execution_count": 27,
   "metadata": {
    "id": "CETin977QP_q",
    "outputId": "a1864d1d-1ced-405b-c5da-5d6fefd34887"
   },
   "outputs": [
    {
     "data": {
      "text/html": [
       "<div>\n",
       "<style scoped>\n",
       "    .dataframe tbody tr th:only-of-type {\n",
       "        vertical-align: middle;\n",
       "    }\n",
       "\n",
       "    .dataframe tbody tr th {\n",
       "        vertical-align: top;\n",
       "    }\n",
       "\n",
       "    .dataframe thead th {\n",
       "        text-align: right;\n",
       "    }\n",
       "</style>\n",
       "<table border=\"1\" class=\"dataframe\">\n",
       "  <thead>\n",
       "    <tr style=\"text-align: right;\">\n",
       "      <th></th>\n",
       "      <th>survived</th>\n",
       "    </tr>\n",
       "    <tr>\n",
       "      <th>pclass</th>\n",
       "      <th></th>\n",
       "    </tr>\n",
       "  </thead>\n",
       "  <tbody>\n",
       "    <tr>\n",
       "      <th>1</th>\n",
       "      <td>0.619195</td>\n",
       "    </tr>\n",
       "    <tr>\n",
       "      <th>2</th>\n",
       "      <td>0.429603</td>\n",
       "    </tr>\n",
       "    <tr>\n",
       "      <th>3</th>\n",
       "      <td>0.255289</td>\n",
       "    </tr>\n",
       "  </tbody>\n",
       "</table>\n",
       "</div>"
      ],
      "text/plain": [
       "        survived\n",
       "pclass          \n",
       "1       0.619195\n",
       "2       0.429603\n",
       "3       0.255289"
      ]
     },
     "execution_count": 27,
     "metadata": {},
     "output_type": "execute_result"
    }
   ],
   "source": [
    "df_titanic.groupby(\"pclass\")[[\"survived\"]].mean()"
   ]
  },
  {
   "cell_type": "markdown",
   "metadata": {
    "id": "r2DgK7soQP_q"
   },
   "source": [
    "____"
   ]
  },
  {
   "cell_type": "markdown",
   "metadata": {
    "id": "4BT6IU5NQP_r"
   },
   "source": [
    "## 3) Distribuições de probabilidade\n",
    "\n",
    "Uma **distribuição de probabilidade** é uma função que descreve o comportamento aleatório de um fenômeno dependente do acaso.\n",
    "\n",
    "A distribuição de probabilidade pode **modelar incertezas** e descrever fenômenos físicos, biológicos, econômicos, entre outros.\n",
    "\n",
    "Para representar a distribuição matematicamente, frequentemente utilizamos a [função densidade de probabilidade](https://en.wikipedia.org/wiki/Probability_density_function). Esta função é tal que a probabilidade da variável aleatória cair em uma faixa particular é dada **pela integral da densidade dessa variável sobre tal faixa** - isto é, é dada pela área abaixo da função densidade mas acima do eixo horizontal e entre o menor e o maior valor dessa faixa.\n",
    "\n",
    "<img src=\"https://work.thaslwanter.at/Stats/html/_images/PDF.png\" width=400>"
   ]
  },
  {
   "cell_type": "markdown",
   "metadata": {
    "id": "OAqkC08XQP_r"
   },
   "source": [
    "Quando estamos trabalhando com uma amostra de dados, sobretudo de variáveis numéricas, é coum visualizarmos a distribuição dos valores amostrais, como sendo a ocorrência de cada um dos valores do espaço amostral que foram observados na amostra.\n",
    "\n",
    "Agora entendemos que, ao visualizar uma distribuição, estamos visualizando a probabilidade de determinados valores serem observados, de acordo com o que de fato foi observado na amostra!"
   ]
  },
  {
   "cell_type": "code",
   "execution_count": 28,
   "metadata": {
    "id": "bo5JMx3KQP_r",
    "outputId": "caa03a1a-6d20-4599-89d7-73448528f79f"
   },
   "outputs": [
    {
     "data": {
      "text/plain": [
       "count    1046.000000\n",
       "mean       29.881135\n",
       "std        14.413500\n",
       "min         0.166700\n",
       "25%        21.000000\n",
       "50%        28.000000\n",
       "75%        39.000000\n",
       "max        80.000000\n",
       "Name: age, dtype: float64"
      ]
     },
     "execution_count": 28,
     "metadata": {},
     "output_type": "execute_result"
    }
   ],
   "source": [
    "df_titanic[\"age\"].describe()"
   ]
  },
  {
   "cell_type": "code",
   "execution_count": 29,
   "metadata": {
    "id": "eN98JaaGQP_r",
    "outputId": "5115c5cd-4088-4e7d-954a-d0595d5d1f3a"
   },
   "outputs": [
    {
     "data": {
      "image/png": "[encoded data removed]",
      "text/plain": [
       "<Figure size 640x480 with 1 Axes>"
      ]
     },
     "metadata": {},
     "output_type": "display_data"
    }
   ],
   "source": [
    "sns.histplot(data=df_titanic, x=\"age\");"
   ]
  },
  {
   "cell_type": "code",
   "execution_count": 30,
   "metadata": {
    "id": "Qbfis8OFQP_s",
    "outputId": "ed09eb56-ac33-445d-ca89-6a86a2af8ba9"
   },
   "outputs": [
    {
     "data": {
      "image/png": "[encoded data removed]",
      "text/plain": [
       "<Figure size 640x480 with 1 Axes>"
      ]
     },
     "metadata": {},
     "output_type": "display_data"
    }
   ],
   "source": [
    "sns.histplot(data=df_titanic, x=\"age\", kde=True);"
   ]
  },
  {
   "cell_type": "markdown",
   "metadata": {
    "id": "QPjXFQPHQP_s"
   },
   "source": [
    "E agora entendemos um pouco mais o KDE (kernel **density** estimate). Note como o eixo y muda de `Count` para `Density`, de modo que a área total sob a curva seja 1!"
   ]
  },
  {
   "cell_type": "code",
   "execution_count": 31,
   "metadata": {
    "id": "rwmqoOwnQP_s",
    "outputId": "cc3fa5dd-a38b-415f-bbaf-3ba7f5fdc70b"
   },
   "outputs": [
    {
     "data": {
      "image/png": "[encoded data removed]",
      "text/plain": [
       "<Figure size 640x480 with 1 Axes>"
      ]
     },
     "metadata": {},
     "output_type": "display_data"
    }
   ],
   "source": [
    "sns.kdeplot(data=df_titanic, x=\"age\");"
   ]
  },
  {
   "cell_type": "markdown",
   "metadata": {
    "id": "JjvOj3znQP_s"
   },
   "source": [
    "Vamos conhecer agora alguns exemplos de distribuições importantes!"
   ]
  },
  {
   "cell_type": "markdown",
   "metadata": {
    "id": "VRHtVj0ZQP_t"
   },
   "source": [
    "__________"
   ]
  },
  {
   "cell_type": "markdown",
   "metadata": {
    "id": "6f7bEFKO0TFL"
   },
   "source": [
    "### **3.1) Distribuição de Bernoulli**\n",
    "\n",
    "Muitos experimentos são tais que os resultados **apresentam ou não** uma determinada característica. Por exemplo:\n",
    "\n",
    "- Uma moeda é lançada: o resultado ou é cara ou não é (ocorrendo, então, coroa);\n",
    "- Uma peça escolhida ao acaso de um lote: essa peça ou é defeituosa ou não é;\n",
    "- Um passageiro do Titanic escolhido ao acaso: sobreviveu ou morreu?\n",
    "\n",
    "Em todos esses casos estamos interessados na ocorrência de sucesso (cara, peça não defeituosa, etc.) ou fracasso (coroa, peça defeituosa, etc.).\n",
    "\n",
    "Para cada experimento acima, podemos definir uma V.A. $X$ que assume apenas dois valores: 1, se ocorrer sucesso e 0, se ocorrer fracasso. Indicaremos por $p$ a probabilidade de sucesso.\n",
    "\n",
    "**Definição:**\n",
    "\n",
    "A variável aleatória $X$, que assume apenas valores 0 e 1 com função de probabilidade $(X, p(X))$ é dita variável aleatória de Bernoulli tal que:\n",
    "\n",
    "- $p(0) = P(X=0) = 1-p$\n",
    "\n",
    "- $p(1) = P(X=1) = p$\n",
    "\n",
    "Usaremos a notação $X \\sim Ber(p)$ para indicar uma V.A. com distribuição Bernoulli de parâmetro $p$.\n",
    "\n",
    "> Esta é uma **distribuição de probabilidade discreta**, uma vez que o espaço amostral é discreto -- havendo, inclusive, apenas dois valores possíveis: 0 ou 1."
   ]
  },
  {
   "cell_type": "code",
   "execution_count": 32,
   "metadata": {
    "id": "LUPCHr4KQP_t"
   },
   "outputs": [],
   "source": [
    "import scipy"
   ]
  },
  {
   "cell_type": "code",
   "execution_count": 33,
   "metadata": {
    "id": "8orgVrjYQP_t",
    "outputId": "50a3d3d6-f4ad-48b0-84df-0cb4be4c5660"
   },
   "outputs": [
    {
     "data": {
      "text/plain": [
       "1    0.50011\n",
       "0    0.49989\n",
       "Name: proportion, dtype: float64"
      ]
     },
     "execution_count": 33,
     "metadata": {},
     "output_type": "execute_result"
    }
   ],
   "source": [
    "resultado_ber = scipy.stats.bernoulli.rvs(p=0.5, size=1000000)\n",
    "\n",
    "pd.Series(resultado_ber).value_counts(normalize=True)"
   ]
  },
  {
   "cell_type": "code",
   "execution_count": 34,
   "metadata": {
    "id": "2kGofR89QP_t",
    "outputId": "812247ec-6517-4946-ab72-4933a910930d"
   },
   "outputs": [
    {
     "data": {
      "image/png": "[encoded data removed]",
      "text/plain": [
       "<Figure size 640x480 with 1 Axes>"
      ]
     },
     "metadata": {},
     "output_type": "display_data"
    }
   ],
   "source": [
    "sns.countplot(resultado_ber);"
   ]
  },
  {
   "cell_type": "code",
   "execution_count": 35,
   "metadata": {
    "id": "AGTytCVHQP_u",
    "outputId": "8156d29b-794a-4bf9-c54f-8373b6545eb5"
   },
   "outputs": [
    {
     "data": {
      "image/png": "[encoded data removed]",
      "text/plain": [
       "<Figure size 640x480 with 1 Axes>"
      ]
     },
     "metadata": {},
     "output_type": "display_data"
    }
   ],
   "source": [
    "sns.histplot(resultado_ber);"
   ]
  },
  {
   "cell_type": "code",
   "execution_count": 36,
   "metadata": {
    "id": "M4fRBOHyQP_u",
    "outputId": "27d6e88d-bc86-4aee-dd32-cfbcc7305f08"
   },
   "outputs": [
    {
     "data": {
      "image/png": "[encoded data removed]",
      "text/plain": [
       "<Figure size 640x480 with 1 Axes>"
      ]
     },
     "metadata": {},
     "output_type": "display_data"
    }
   ],
   "source": [
    "sns.histplot(resultado_ber, stat=\"probability\");"
   ]
  },
  {
   "cell_type": "markdown",
   "metadata": {
    "id": "5gjmy1DHQP_u"
   },
   "source": [
    "Para o caso do titanic:"
   ]
  },
  {
   "cell_type": "code",
   "execution_count": 37,
   "metadata": {
    "id": "rQ05Y3aEQP_u",
    "outputId": "8e689ea3-f274-4e2e-e059-49a7e2458b17"
   },
   "outputs": [
    {
     "data": {
      "text/plain": [
       "0       1\n",
       "1       1\n",
       "2       0\n",
       "3       0\n",
       "4       0\n",
       "       ..\n",
       "1304    0\n",
       "1305    0\n",
       "1306    0\n",
       "1307    0\n",
       "1308    0\n",
       "Name: survived, Length: 1309, dtype: int64"
      ]
     },
     "execution_count": 37,
     "metadata": {},
     "output_type": "execute_result"
    }
   ],
   "source": [
    "df_titanic[\"survived\"]"
   ]
  },
  {
   "cell_type": "code",
   "execution_count": 38,
   "metadata": {
    "id": "fIa5XPLGQP_v",
    "outputId": "d16bf427-700e-4956-81bb-5b3b9beb0e4d"
   },
   "outputs": [
    {
     "data": {
      "image/png": "[encoded data removed]",
      "text/plain": [
       "<Figure size 640x480 with 1 Axes>"
      ]
     },
     "metadata": {},
     "output_type": "display_data"
    }
   ],
   "source": [
    "sns.countplot(data=df_titanic, x=\"survived\");"
   ]
  },
  {
   "cell_type": "code",
   "execution_count": 39,
   "metadata": {
    "id": "l4TN8mfHQP_v",
    "outputId": "cc765a0f-3147-4d8d-dc5d-8574652eb6e7"
   },
   "outputs": [
    {
     "data": {
      "text/plain": [
       "0.3819709702062643"
      ]
     },
     "execution_count": 39,
     "metadata": {},
     "output_type": "execute_result"
    }
   ],
   "source": [
    "df_titanic[\"survived\"].mean()"
   ]
  },
  {
   "cell_type": "code",
   "execution_count": 40,
   "metadata": {
    "id": "8rluhYHjQP_v",
    "outputId": "0183fcde-a9b5-4a47-cb2c-0512d98bcb07"
   },
   "outputs": [
    {
     "data": {
      "text/plain": [
       "survived\n",
       "0    0.618029\n",
       "1    0.381971\n",
       "Name: proportion, dtype: float64"
      ]
     },
     "execution_count": 40,
     "metadata": {},
     "output_type": "execute_result"
    }
   ],
   "source": [
    "df_titanic[\"survived\"].value_counts(normalize=True)"
   ]
  },
  {
   "cell_type": "markdown",
   "metadata": {
    "id": "yW5_oh4N0TFP"
   },
   "source": [
    "_________\n",
    "\n",
    "### **3.2) Distribuição de Poisson**\n",
    "\n",
    "\n",
    "É largamente empregada quando se deseja contar **a quantidade de eventos** de certo tipo que ocorrem num intervalo de tempo ou espaço.\n",
    "\n",
    "Exemplos:\n",
    "\n",
    "- Número de chamadas recebidas por um telefone durante 5 minutos;\n",
    "- Número de falhas de um computador num dia de operação.\n",
    "- Número de meteoritos maiores que 1 metro de diâmetro que atingem a Terra em um ano;\n",
    "- O número de chicletes em cada bloco do chão:\n",
    "<img src=\"https://upload.wikimedia.org/wikipedia/commons/thumb/0/09/Chewing_gum_on_a_sidewalk_in_Reykjav%C3%ADk.JPG/220px-Chewing_gum_on_a_sidewalk_in_Reykjav%C3%ADk.JPG\">\n",
    "\n",
    "**Definição**\n",
    "\n",
    "Dizemos que a V.A. $N$ tem distribuição Poisson com parâmetro $\\lambda > 0$ se:\n",
    "\n",
    "$P(N=k) = \\frac{e^{-\\lambda}\\lambda^k}{k!}, k=0,1,2,...$"
   ]
  },
  {
   "cell_type": "markdown",
   "metadata": {
    "id": "-HoORXrVQP_w"
   },
   "source": [
    "#### **Características Importantes**\n",
    "\n",
    "1. A probabilidade de uma ocorrência é a mesma em todo o intervalo observado;\n",
    "2. O número de ocorrências em determinado intervalo é independente do número de ocorrências em outros intervalos;\n",
    "3. A probabilidade de uma ocorrência é a mesma em intervalos de igual comprimento."
   ]
  },
  {
   "cell_type": "markdown",
   "metadata": {
    "id": "v6ZTczaqQP_w"
   },
   "source": [
    "> Esta é uma **distribuição de probabilidade discreta**, uma vez que o espaço amostral é discreto, pois estamos interessados em **quantidades inteiras de ocorrência** de determinado evento em um dado intervalo."
   ]
  },
  {
   "cell_type": "markdown",
   "metadata": {
    "id": "RKQWuVgMG3DW"
   },
   "source": [
    "### Exemplo: Delivery"
   ]
  },
  {
   "cell_type": "markdown",
   "metadata": {
    "id": "ZKc__49bG3DX"
   },
   "source": [
    "Um restaurante recebe em média **20 pedidos por hora**. Qual a chance de que, em determinada hora escolhida ao acaso, o restaurante receba **15 pedidos**?"
   ]
  },
  {
   "cell_type": "markdown",
   "metadata": {
    "id": "W-MJ4XBkG3DX"
   },
   "source": [
    "**Qual o número médio de ocorrências por hora ($\\lambda$)?**"
   ]
  },
  {
   "cell_type": "code",
   "execution_count": 41,
   "metadata": {
    "id": "d9LjBmXoQP_x"
   },
   "outputs": [],
   "source": [
    "l = 20"
   ]
  },
  {
   "cell_type": "markdown",
   "metadata": {
    "id": "3SagRtPvG3Da"
   },
   "source": [
    "**Qual o número de ocorrências que queremos obter no período ($k$)?**"
   ]
  },
  {
   "cell_type": "code",
   "execution_count": 42,
   "metadata": {
    "id": "sX_tqP0_QP_x"
   },
   "outputs": [],
   "source": [
    "k = 15"
   ]
  },
  {
   "cell_type": "markdown",
   "metadata": {
    "id": "3wFh3lFCG3De"
   },
   "source": [
    "### Solução 1"
   ]
  },
  {
   "cell_type": "code",
   "execution_count": 43,
   "metadata": {
    "id": "-Clpdq7GQP_x"
   },
   "outputs": [],
   "source": [
    "import math"
   ]
  },
  {
   "cell_type": "code",
   "execution_count": 44,
   "metadata": {
    "id": "Kk5yXR9RQP_y",
    "outputId": "e60d96bc-f86e-4bb8-ca8c-ff1ee8deb754"
   },
   "outputs": [
    {
     "data": {
      "text/plain": [
       "120"
      ]
     },
     "execution_count": 44,
     "metadata": {},
     "output_type": "execute_result"
    }
   ],
   "source": [
    "math.factorial(5)"
   ]
  },
  {
   "cell_type": "code",
   "execution_count": 45,
   "metadata": {
    "id": "YnGqY4P1QP_y",
    "outputId": "80a0b5ee-a424-4df5-e6c3-81bbd95a4c7c"
   },
   "outputs": [
    {
     "data": {
      "text/plain": [
       "'5.16%'"
      ]
     },
     "execution_count": 45,
     "metadata": {},
     "output_type": "execute_result"
    }
   ],
   "source": [
    "p_15 = (np.exp(-l)*(l**k))/math.factorial(k)\n",
    "\n",
    "f\"{p_15:.2%}\""
   ]
  },
  {
   "cell_type": "markdown",
   "metadata": {
    "id": "yAyXh0euG3Dk"
   },
   "source": [
    "### Solução 2"
   ]
  },
  {
   "cell_type": "code",
   "execution_count": 46,
   "metadata": {
    "id": "EZcj_o49QP_y",
    "outputId": "6dd9fadc-8993-48ec-fd35-9bed775c0b17"
   },
   "outputs": [
    {
     "data": {
      "text/plain": [
       "'5.16%'"
      ]
     },
     "execution_count": 46,
     "metadata": {},
     "output_type": "execute_result"
    }
   ],
   "source": [
    "p_15_s = scipy.stats.poisson.pmf(k=k, mu=l)\n",
    "\n",
    "f\"{p_15_s:.2%}\""
   ]
  },
  {
   "cell_type": "code",
   "execution_count": 47,
   "metadata": {
    "id": "ngwmYTi9QP_z"
   },
   "outputs": [],
   "source": [
    "experimento = {\n",
    "    \"número de ligações\" : [],\n",
    "    \"probabilidade\" : []\n",
    "}\n",
    "\n",
    "k_list = range(46)\n",
    "for k in k_list:\n",
    "\n",
    "    p = scipy.stats.poisson.pmf(k=k, mu=l)\n",
    "\n",
    "    experimento[\"número de ligações\"].append(k)\n",
    "    experimento[\"probabilidade\"].append(p)"
   ]
  },
  {
   "cell_type": "code",
   "execution_count": 48,
   "metadata": {
    "id": "n8raema1QP_z",
    "outputId": "ef16a0a7-4841-472b-feb3-a270b8dab3f1",
    "scrolled": true
   },
   "outputs": [
    {
     "data": {
      "text/plain": [
       "{'número de ligações': [0,\n",
       "  1,\n",
       "  2,\n",
       "  3,\n",
       "  4,\n",
       "  5,\n",
       "  6,\n",
       "  7,\n",
       "  8,\n",
       "  9,\n",
       "  10,\n",
       "  11,\n",
       "  12,\n",
       "  13,\n",
       "  14,\n",
       "  15,\n",
       "  16,\n",
       "  17,\n",
       "  18,\n",
       "  19,\n",
       "  20,\n",
       "  21,\n",
       "  22,\n",
       "  23,\n",
       "  24,\n",
       "  25,\n",
       "  26,\n",
       "  27,\n",
       "  28,\n",
       "  29,\n",
       "  30,\n",
       "  31,\n",
       "  32,\n",
       "  33,\n",
       "  34,\n",
       "  35,\n",
       "  36,\n",
       "  37,\n",
       "  38,\n",
       "  39,\n",
       "  40,\n",
       "  41,\n",
       "  42,\n",
       "  43,\n",
       "  44,\n",
       "  45],\n",
       " 'probabilidade': [2.061153622438558e-09,\n",
       "  4.122307244877113e-08,\n",
       "  4.122307244877118e-07,\n",
       "  2.7482048299180785e-06,\n",
       "  1.3741024149590382e-05,\n",
       "  5.496409659836144e-05,\n",
       "  0.00018321365532787177,\n",
       "  0.0005234675866510618,\n",
       "  0.0013086689666276534,\n",
       "  0.002908153259172565,\n",
       "  0.00581630651834512,\n",
       "  0.01057510276062752,\n",
       "  0.017625171267712562,\n",
       "  0.02711564810417317,\n",
       "  0.03873664014881865,\n",
       "  0.05164885353175814,\n",
       "  0.06456106691469761,\n",
       "  0.07595419637023251,\n",
       "  0.08439355152248075,\n",
       "  0.0888353173920848,\n",
       "  0.0888353173920848,\n",
       "  0.08460506418293791,\n",
       "  0.07691369471176195,\n",
       "  0.06688147366240117,\n",
       "  0.05573456138533489,\n",
       "  0.04458764910826764,\n",
       "  0.03429819162174451,\n",
       "  0.025406067867958883,\n",
       "  0.01814719133425623,\n",
       "  0.012515304368452648,\n",
       "  0.008343536245635134,\n",
       "  0.005382926610087127,\n",
       "  0.003364329131304493,\n",
       "  0.002038987352305724,\n",
       "  0.0011994043248857392,\n",
       "  0.0006853738999347143,\n",
       "  0.0003807632777415,\n",
       "  0.0002058179879683853,\n",
       "  0.00010832525682546243,\n",
       "  5.555141375664831e-05,\n",
       "  2.777570687832371e-05,\n",
       "  1.3549125306499542e-05,\n",
       "  6.451964431666435e-06,\n",
       "  3.0009136891470936e-06,\n",
       "  1.3640516768850923e-06,\n",
       "  6.062451897266783e-07]}"
      ]
     },
     "execution_count": 48,
     "metadata": {},
     "output_type": "execute_result"
    }
   ],
   "source": [
    "experimento"
   ]
  },
  {
   "cell_type": "code",
   "execution_count": 49,
   "metadata": {
    "id": "N_exU6nTQP_z",
    "outputId": "9ca42f26-964d-4fc0-9bc0-ccccc402e096",
    "scrolled": true
   },
   "outputs": [
    {
     "data": {
      "text/html": [
       "<div>\n",
       "<style scoped>\n",
       "    .dataframe tbody tr th:only-of-type {\n",
       "        vertical-align: middle;\n",
       "    }\n",
       "\n",
       "    .dataframe tbody tr th {\n",
       "        vertical-align: top;\n",
       "    }\n",
       "\n",
       "    .dataframe thead th {\n",
       "        text-align: right;\n",
       "    }\n",
       "</style>\n",
       "<table border=\"1\" class=\"dataframe\">\n",
       "  <thead>\n",
       "    <tr style=\"text-align: right;\">\n",
       "      <th></th>\n",
       "      <th>número de ligações</th>\n",
       "      <th>probabilidade</th>\n",
       "    </tr>\n",
       "  </thead>\n",
       "  <tbody>\n",
       "    <tr>\n",
       "      <th>0</th>\n",
       "      <td>0</td>\n",
       "      <td>2.061154e-09</td>\n",
       "    </tr>\n",
       "    <tr>\n",
       "      <th>1</th>\n",
       "      <td>1</td>\n",
       "      <td>4.122307e-08</td>\n",
       "    </tr>\n",
       "    <tr>\n",
       "      <th>2</th>\n",
       "      <td>2</td>\n",
       "      <td>4.122307e-07</td>\n",
       "    </tr>\n",
       "    <tr>\n",
       "      <th>3</th>\n",
       "      <td>3</td>\n",
       "      <td>2.748205e-06</td>\n",
       "    </tr>\n",
       "    <tr>\n",
       "      <th>4</th>\n",
       "      <td>4</td>\n",
       "      <td>1.374102e-05</td>\n",
       "    </tr>\n",
       "    <tr>\n",
       "      <th>5</th>\n",
       "      <td>5</td>\n",
       "      <td>5.496410e-05</td>\n",
       "    </tr>\n",
       "    <tr>\n",
       "      <th>6</th>\n",
       "      <td>6</td>\n",
       "      <td>1.832137e-04</td>\n",
       "    </tr>\n",
       "    <tr>\n",
       "      <th>7</th>\n",
       "      <td>7</td>\n",
       "      <td>5.234676e-04</td>\n",
       "    </tr>\n",
       "    <tr>\n",
       "      <th>8</th>\n",
       "      <td>8</td>\n",
       "      <td>1.308669e-03</td>\n",
       "    </tr>\n",
       "    <tr>\n",
       "      <th>9</th>\n",
       "      <td>9</td>\n",
       "      <td>2.908153e-03</td>\n",
       "    </tr>\n",
       "    <tr>\n",
       "      <th>10</th>\n",
       "      <td>10</td>\n",
       "      <td>5.816307e-03</td>\n",
       "    </tr>\n",
       "    <tr>\n",
       "      <th>11</th>\n",
       "      <td>11</td>\n",
       "      <td>1.057510e-02</td>\n",
       "    </tr>\n",
       "    <tr>\n",
       "      <th>12</th>\n",
       "      <td>12</td>\n",
       "      <td>1.762517e-02</td>\n",
       "    </tr>\n",
       "    <tr>\n",
       "      <th>13</th>\n",
       "      <td>13</td>\n",
       "      <td>2.711565e-02</td>\n",
       "    </tr>\n",
       "    <tr>\n",
       "      <th>14</th>\n",
       "      <td>14</td>\n",
       "      <td>3.873664e-02</td>\n",
       "    </tr>\n",
       "    <tr>\n",
       "      <th>15</th>\n",
       "      <td>15</td>\n",
       "      <td>5.164885e-02</td>\n",
       "    </tr>\n",
       "    <tr>\n",
       "      <th>16</th>\n",
       "      <td>16</td>\n",
       "      <td>6.456107e-02</td>\n",
       "    </tr>\n",
       "    <tr>\n",
       "      <th>17</th>\n",
       "      <td>17</td>\n",
       "      <td>7.595420e-02</td>\n",
       "    </tr>\n",
       "    <tr>\n",
       "      <th>18</th>\n",
       "      <td>18</td>\n",
       "      <td>8.439355e-02</td>\n",
       "    </tr>\n",
       "    <tr>\n",
       "      <th>19</th>\n",
       "      <td>19</td>\n",
       "      <td>8.883532e-02</td>\n",
       "    </tr>\n",
       "    <tr>\n",
       "      <th>20</th>\n",
       "      <td>20</td>\n",
       "      <td>8.883532e-02</td>\n",
       "    </tr>\n",
       "    <tr>\n",
       "      <th>21</th>\n",
       "      <td>21</td>\n",
       "      <td>8.460506e-02</td>\n",
       "    </tr>\n",
       "    <tr>\n",
       "      <th>22</th>\n",
       "      <td>22</td>\n",
       "      <td>7.691369e-02</td>\n",
       "    </tr>\n",
       "    <tr>\n",
       "      <th>23</th>\n",
       "      <td>23</td>\n",
       "      <td>6.688147e-02</td>\n",
       "    </tr>\n",
       "    <tr>\n",
       "      <th>24</th>\n",
       "      <td>24</td>\n",
       "      <td>5.573456e-02</td>\n",
       "    </tr>\n",
       "    <tr>\n",
       "      <th>25</th>\n",
       "      <td>25</td>\n",
       "      <td>4.458765e-02</td>\n",
       "    </tr>\n",
       "    <tr>\n",
       "      <th>26</th>\n",
       "      <td>26</td>\n",
       "      <td>3.429819e-02</td>\n",
       "    </tr>\n",
       "    <tr>\n",
       "      <th>27</th>\n",
       "      <td>27</td>\n",
       "      <td>2.540607e-02</td>\n",
       "    </tr>\n",
       "    <tr>\n",
       "      <th>28</th>\n",
       "      <td>28</td>\n",
       "      <td>1.814719e-02</td>\n",
       "    </tr>\n",
       "    <tr>\n",
       "      <th>29</th>\n",
       "      <td>29</td>\n",
       "      <td>1.251530e-02</td>\n",
       "    </tr>\n",
       "    <tr>\n",
       "      <th>30</th>\n",
       "      <td>30</td>\n",
       "      <td>8.343536e-03</td>\n",
       "    </tr>\n",
       "    <tr>\n",
       "      <th>31</th>\n",
       "      <td>31</td>\n",
       "      <td>5.382927e-03</td>\n",
       "    </tr>\n",
       "    <tr>\n",
       "      <th>32</th>\n",
       "      <td>32</td>\n",
       "      <td>3.364329e-03</td>\n",
       "    </tr>\n",
       "    <tr>\n",
       "      <th>33</th>\n",
       "      <td>33</td>\n",
       "      <td>2.038987e-03</td>\n",
       "    </tr>\n",
       "    <tr>\n",
       "      <th>34</th>\n",
       "      <td>34</td>\n",
       "      <td>1.199404e-03</td>\n",
       "    </tr>\n",
       "    <tr>\n",
       "      <th>35</th>\n",
       "      <td>35</td>\n",
       "      <td>6.853739e-04</td>\n",
       "    </tr>\n",
       "    <tr>\n",
       "      <th>36</th>\n",
       "      <td>36</td>\n",
       "      <td>3.807633e-04</td>\n",
       "    </tr>\n",
       "    <tr>\n",
       "      <th>37</th>\n",
       "      <td>37</td>\n",
       "      <td>2.058180e-04</td>\n",
       "    </tr>\n",
       "    <tr>\n",
       "      <th>38</th>\n",
       "      <td>38</td>\n",
       "      <td>1.083253e-04</td>\n",
       "    </tr>\n",
       "    <tr>\n",
       "      <th>39</th>\n",
       "      <td>39</td>\n",
       "      <td>5.555141e-05</td>\n",
       "    </tr>\n",
       "    <tr>\n",
       "      <th>40</th>\n",
       "      <td>40</td>\n",
       "      <td>2.777571e-05</td>\n",
       "    </tr>\n",
       "    <tr>\n",
       "      <th>41</th>\n",
       "      <td>41</td>\n",
       "      <td>1.354913e-05</td>\n",
       "    </tr>\n",
       "    <tr>\n",
       "      <th>42</th>\n",
       "      <td>42</td>\n",
       "      <td>6.451964e-06</td>\n",
       "    </tr>\n",
       "    <tr>\n",
       "      <th>43</th>\n",
       "      <td>43</td>\n",
       "      <td>3.000914e-06</td>\n",
       "    </tr>\n",
       "    <tr>\n",
       "      <th>44</th>\n",
       "      <td>44</td>\n",
       "      <td>1.364052e-06</td>\n",
       "    </tr>\n",
       "    <tr>\n",
       "      <th>45</th>\n",
       "      <td>45</td>\n",
       "      <td>6.062452e-07</td>\n",
       "    </tr>\n",
       "  </tbody>\n",
       "</table>\n",
       "</div>"
      ],
      "text/plain": [
       "    número de ligações  probabilidade\n",
       "0                    0   2.061154e-09\n",
       "1                    1   4.122307e-08\n",
       "2                    2   4.122307e-07\n",
       "3                    3   2.748205e-06\n",
       "4                    4   1.374102e-05\n",
       "5                    5   5.496410e-05\n",
       "6                    6   1.832137e-04\n",
       "7                    7   5.234676e-04\n",
       "8                    8   1.308669e-03\n",
       "9                    9   2.908153e-03\n",
       "10                  10   5.816307e-03\n",
       "11                  11   1.057510e-02\n",
       "12                  12   1.762517e-02\n",
       "13                  13   2.711565e-02\n",
       "14                  14   3.873664e-02\n",
       "15                  15   5.164885e-02\n",
       "16                  16   6.456107e-02\n",
       "17                  17   7.595420e-02\n",
       "18                  18   8.439355e-02\n",
       "19                  19   8.883532e-02\n",
       "20                  20   8.883532e-02\n",
       "21                  21   8.460506e-02\n",
       "22                  22   7.691369e-02\n",
       "23                  23   6.688147e-02\n",
       "24                  24   5.573456e-02\n",
       "25                  25   4.458765e-02\n",
       "26                  26   3.429819e-02\n",
       "27                  27   2.540607e-02\n",
       "28                  28   1.814719e-02\n",
       "29                  29   1.251530e-02\n",
       "30                  30   8.343536e-03\n",
       "31                  31   5.382927e-03\n",
       "32                  32   3.364329e-03\n",
       "33                  33   2.038987e-03\n",
       "34                  34   1.199404e-03\n",
       "35                  35   6.853739e-04\n",
       "36                  36   3.807633e-04\n",
       "37                  37   2.058180e-04\n",
       "38                  38   1.083253e-04\n",
       "39                  39   5.555141e-05\n",
       "40                  40   2.777571e-05\n",
       "41                  41   1.354913e-05\n",
       "42                  42   6.451964e-06\n",
       "43                  43   3.000914e-06\n",
       "44                  44   1.364052e-06\n",
       "45                  45   6.062452e-07"
      ]
     },
     "execution_count": 49,
     "metadata": {},
     "output_type": "execute_result"
    }
   ],
   "source": [
    "df_experimento = pd.DataFrame(experimento)\n",
    "\n",
    "df_experimento"
   ]
  },
  {
   "cell_type": "code",
   "execution_count": 50,
   "metadata": {
    "id": "Rx3Er85rQP_z"
   },
   "outputs": [],
   "source": [
    "df_experimento[\"p_formatado\"] = df_experimento[\"probabilidade\"].apply(lambda x: f\"{x:.9%}\")"
   ]
  },
  {
   "cell_type": "code",
   "execution_count": 51,
   "metadata": {
    "id": "g3XZ-nbvQP_z",
    "outputId": "4f602d87-4ac7-43d7-fa8b-0b276566a7fa",
    "scrolled": true
   },
   "outputs": [
    {
     "data": {
      "text/html": [
       "<div>\n",
       "<style scoped>\n",
       "    .dataframe tbody tr th:only-of-type {\n",
       "        vertical-align: middle;\n",
       "    }\n",
       "\n",
       "    .dataframe tbody tr th {\n",
       "        vertical-align: top;\n",
       "    }\n",
       "\n",
       "    .dataframe thead th {\n",
       "        text-align: right;\n",
       "    }\n",
       "</style>\n",
       "<table border=\"1\" class=\"dataframe\">\n",
       "  <thead>\n",
       "    <tr style=\"text-align: right;\">\n",
       "      <th></th>\n",
       "      <th>número de ligações</th>\n",
       "      <th>probabilidade</th>\n",
       "      <th>p_formatado</th>\n",
       "    </tr>\n",
       "  </thead>\n",
       "  <tbody>\n",
       "    <tr>\n",
       "      <th>0</th>\n",
       "      <td>0</td>\n",
       "      <td>2.061154e-09</td>\n",
       "      <td>0.000000206%</td>\n",
       "    </tr>\n",
       "    <tr>\n",
       "      <th>1</th>\n",
       "      <td>1</td>\n",
       "      <td>4.122307e-08</td>\n",
       "      <td>0.000004122%</td>\n",
       "    </tr>\n",
       "    <tr>\n",
       "      <th>2</th>\n",
       "      <td>2</td>\n",
       "      <td>4.122307e-07</td>\n",
       "      <td>0.000041223%</td>\n",
       "    </tr>\n",
       "    <tr>\n",
       "      <th>3</th>\n",
       "      <td>3</td>\n",
       "      <td>2.748205e-06</td>\n",
       "      <td>0.000274820%</td>\n",
       "    </tr>\n",
       "    <tr>\n",
       "      <th>4</th>\n",
       "      <td>4</td>\n",
       "      <td>1.374102e-05</td>\n",
       "      <td>0.001374102%</td>\n",
       "    </tr>\n",
       "    <tr>\n",
       "      <th>5</th>\n",
       "      <td>5</td>\n",
       "      <td>5.496410e-05</td>\n",
       "      <td>0.005496410%</td>\n",
       "    </tr>\n",
       "    <tr>\n",
       "      <th>6</th>\n",
       "      <td>6</td>\n",
       "      <td>1.832137e-04</td>\n",
       "      <td>0.018321366%</td>\n",
       "    </tr>\n",
       "    <tr>\n",
       "      <th>7</th>\n",
       "      <td>7</td>\n",
       "      <td>5.234676e-04</td>\n",
       "      <td>0.052346759%</td>\n",
       "    </tr>\n",
       "    <tr>\n",
       "      <th>8</th>\n",
       "      <td>8</td>\n",
       "      <td>1.308669e-03</td>\n",
       "      <td>0.130866897%</td>\n",
       "    </tr>\n",
       "    <tr>\n",
       "      <th>9</th>\n",
       "      <td>9</td>\n",
       "      <td>2.908153e-03</td>\n",
       "      <td>0.290815326%</td>\n",
       "    </tr>\n",
       "    <tr>\n",
       "      <th>10</th>\n",
       "      <td>10</td>\n",
       "      <td>5.816307e-03</td>\n",
       "      <td>0.581630652%</td>\n",
       "    </tr>\n",
       "    <tr>\n",
       "      <th>11</th>\n",
       "      <td>11</td>\n",
       "      <td>1.057510e-02</td>\n",
       "      <td>1.057510276%</td>\n",
       "    </tr>\n",
       "    <tr>\n",
       "      <th>12</th>\n",
       "      <td>12</td>\n",
       "      <td>1.762517e-02</td>\n",
       "      <td>1.762517127%</td>\n",
       "    </tr>\n",
       "    <tr>\n",
       "      <th>13</th>\n",
       "      <td>13</td>\n",
       "      <td>2.711565e-02</td>\n",
       "      <td>2.711564810%</td>\n",
       "    </tr>\n",
       "    <tr>\n",
       "      <th>14</th>\n",
       "      <td>14</td>\n",
       "      <td>3.873664e-02</td>\n",
       "      <td>3.873664015%</td>\n",
       "    </tr>\n",
       "    <tr>\n",
       "      <th>15</th>\n",
       "      <td>15</td>\n",
       "      <td>5.164885e-02</td>\n",
       "      <td>5.164885353%</td>\n",
       "    </tr>\n",
       "    <tr>\n",
       "      <th>16</th>\n",
       "      <td>16</td>\n",
       "      <td>6.456107e-02</td>\n",
       "      <td>6.456106691%</td>\n",
       "    </tr>\n",
       "    <tr>\n",
       "      <th>17</th>\n",
       "      <td>17</td>\n",
       "      <td>7.595420e-02</td>\n",
       "      <td>7.595419637%</td>\n",
       "    </tr>\n",
       "    <tr>\n",
       "      <th>18</th>\n",
       "      <td>18</td>\n",
       "      <td>8.439355e-02</td>\n",
       "      <td>8.439355152%</td>\n",
       "    </tr>\n",
       "    <tr>\n",
       "      <th>19</th>\n",
       "      <td>19</td>\n",
       "      <td>8.883532e-02</td>\n",
       "      <td>8.883531739%</td>\n",
       "    </tr>\n",
       "    <tr>\n",
       "      <th>20</th>\n",
       "      <td>20</td>\n",
       "      <td>8.883532e-02</td>\n",
       "      <td>8.883531739%</td>\n",
       "    </tr>\n",
       "    <tr>\n",
       "      <th>21</th>\n",
       "      <td>21</td>\n",
       "      <td>8.460506e-02</td>\n",
       "      <td>8.460506418%</td>\n",
       "    </tr>\n",
       "    <tr>\n",
       "      <th>22</th>\n",
       "      <td>22</td>\n",
       "      <td>7.691369e-02</td>\n",
       "      <td>7.691369471%</td>\n",
       "    </tr>\n",
       "    <tr>\n",
       "      <th>23</th>\n",
       "      <td>23</td>\n",
       "      <td>6.688147e-02</td>\n",
       "      <td>6.688147366%</td>\n",
       "    </tr>\n",
       "    <tr>\n",
       "      <th>24</th>\n",
       "      <td>24</td>\n",
       "      <td>5.573456e-02</td>\n",
       "      <td>5.573456139%</td>\n",
       "    </tr>\n",
       "    <tr>\n",
       "      <th>25</th>\n",
       "      <td>25</td>\n",
       "      <td>4.458765e-02</td>\n",
       "      <td>4.458764911%</td>\n",
       "    </tr>\n",
       "    <tr>\n",
       "      <th>26</th>\n",
       "      <td>26</td>\n",
       "      <td>3.429819e-02</td>\n",
       "      <td>3.429819162%</td>\n",
       "    </tr>\n",
       "    <tr>\n",
       "      <th>27</th>\n",
       "      <td>27</td>\n",
       "      <td>2.540607e-02</td>\n",
       "      <td>2.540606787%</td>\n",
       "    </tr>\n",
       "    <tr>\n",
       "      <th>28</th>\n",
       "      <td>28</td>\n",
       "      <td>1.814719e-02</td>\n",
       "      <td>1.814719133%</td>\n",
       "    </tr>\n",
       "    <tr>\n",
       "      <th>29</th>\n",
       "      <td>29</td>\n",
       "      <td>1.251530e-02</td>\n",
       "      <td>1.251530437%</td>\n",
       "    </tr>\n",
       "    <tr>\n",
       "      <th>30</th>\n",
       "      <td>30</td>\n",
       "      <td>8.343536e-03</td>\n",
       "      <td>0.834353625%</td>\n",
       "    </tr>\n",
       "    <tr>\n",
       "      <th>31</th>\n",
       "      <td>31</td>\n",
       "      <td>5.382927e-03</td>\n",
       "      <td>0.538292661%</td>\n",
       "    </tr>\n",
       "    <tr>\n",
       "      <th>32</th>\n",
       "      <td>32</td>\n",
       "      <td>3.364329e-03</td>\n",
       "      <td>0.336432913%</td>\n",
       "    </tr>\n",
       "    <tr>\n",
       "      <th>33</th>\n",
       "      <td>33</td>\n",
       "      <td>2.038987e-03</td>\n",
       "      <td>0.203898735%</td>\n",
       "    </tr>\n",
       "    <tr>\n",
       "      <th>34</th>\n",
       "      <td>34</td>\n",
       "      <td>1.199404e-03</td>\n",
       "      <td>0.119940432%</td>\n",
       "    </tr>\n",
       "    <tr>\n",
       "      <th>35</th>\n",
       "      <td>35</td>\n",
       "      <td>6.853739e-04</td>\n",
       "      <td>0.068537390%</td>\n",
       "    </tr>\n",
       "    <tr>\n",
       "      <th>36</th>\n",
       "      <td>36</td>\n",
       "      <td>3.807633e-04</td>\n",
       "      <td>0.038076328%</td>\n",
       "    </tr>\n",
       "    <tr>\n",
       "      <th>37</th>\n",
       "      <td>37</td>\n",
       "      <td>2.058180e-04</td>\n",
       "      <td>0.020581799%</td>\n",
       "    </tr>\n",
       "    <tr>\n",
       "      <th>38</th>\n",
       "      <td>38</td>\n",
       "      <td>1.083253e-04</td>\n",
       "      <td>0.010832526%</td>\n",
       "    </tr>\n",
       "    <tr>\n",
       "      <th>39</th>\n",
       "      <td>39</td>\n",
       "      <td>5.555141e-05</td>\n",
       "      <td>0.005555141%</td>\n",
       "    </tr>\n",
       "    <tr>\n",
       "      <th>40</th>\n",
       "      <td>40</td>\n",
       "      <td>2.777571e-05</td>\n",
       "      <td>0.002777571%</td>\n",
       "    </tr>\n",
       "    <tr>\n",
       "      <th>41</th>\n",
       "      <td>41</td>\n",
       "      <td>1.354913e-05</td>\n",
       "      <td>0.001354913%</td>\n",
       "    </tr>\n",
       "    <tr>\n",
       "      <th>42</th>\n",
       "      <td>42</td>\n",
       "      <td>6.451964e-06</td>\n",
       "      <td>0.000645196%</td>\n",
       "    </tr>\n",
       "    <tr>\n",
       "      <th>43</th>\n",
       "      <td>43</td>\n",
       "      <td>3.000914e-06</td>\n",
       "      <td>0.000300091%</td>\n",
       "    </tr>\n",
       "    <tr>\n",
       "      <th>44</th>\n",
       "      <td>44</td>\n",
       "      <td>1.364052e-06</td>\n",
       "      <td>0.000136405%</td>\n",
       "    </tr>\n",
       "    <tr>\n",
       "      <th>45</th>\n",
       "      <td>45</td>\n",
       "      <td>6.062452e-07</td>\n",
       "      <td>0.000060625%</td>\n",
       "    </tr>\n",
       "  </tbody>\n",
       "</table>\n",
       "</div>"
      ],
      "text/plain": [
       "    número de ligações  probabilidade   p_formatado\n",
       "0                    0   2.061154e-09  0.000000206%\n",
       "1                    1   4.122307e-08  0.000004122%\n",
       "2                    2   4.122307e-07  0.000041223%\n",
       "3                    3   2.748205e-06  0.000274820%\n",
       "4                    4   1.374102e-05  0.001374102%\n",
       "5                    5   5.496410e-05  0.005496410%\n",
       "6                    6   1.832137e-04  0.018321366%\n",
       "7                    7   5.234676e-04  0.052346759%\n",
       "8                    8   1.308669e-03  0.130866897%\n",
       "9                    9   2.908153e-03  0.290815326%\n",
       "10                  10   5.816307e-03  0.581630652%\n",
       "11                  11   1.057510e-02  1.057510276%\n",
       "12                  12   1.762517e-02  1.762517127%\n",
       "13                  13   2.711565e-02  2.711564810%\n",
       "14                  14   3.873664e-02  3.873664015%\n",
       "15                  15   5.164885e-02  5.164885353%\n",
       "16                  16   6.456107e-02  6.456106691%\n",
       "17                  17   7.595420e-02  7.595419637%\n",
       "18                  18   8.439355e-02  8.439355152%\n",
       "19                  19   8.883532e-02  8.883531739%\n",
       "20                  20   8.883532e-02  8.883531739%\n",
       "21                  21   8.460506e-02  8.460506418%\n",
       "22                  22   7.691369e-02  7.691369471%\n",
       "23                  23   6.688147e-02  6.688147366%\n",
       "24                  24   5.573456e-02  5.573456139%\n",
       "25                  25   4.458765e-02  4.458764911%\n",
       "26                  26   3.429819e-02  3.429819162%\n",
       "27                  27   2.540607e-02  2.540606787%\n",
       "28                  28   1.814719e-02  1.814719133%\n",
       "29                  29   1.251530e-02  1.251530437%\n",
       "30                  30   8.343536e-03  0.834353625%\n",
       "31                  31   5.382927e-03  0.538292661%\n",
       "32                  32   3.364329e-03  0.336432913%\n",
       "33                  33   2.038987e-03  0.203898735%\n",
       "34                  34   1.199404e-03  0.119940432%\n",
       "35                  35   6.853739e-04  0.068537390%\n",
       "36                  36   3.807633e-04  0.038076328%\n",
       "37                  37   2.058180e-04  0.020581799%\n",
       "38                  38   1.083253e-04  0.010832526%\n",
       "39                  39   5.555141e-05  0.005555141%\n",
       "40                  40   2.777571e-05  0.002777571%\n",
       "41                  41   1.354913e-05  0.001354913%\n",
       "42                  42   6.451964e-06  0.000645196%\n",
       "43                  43   3.000914e-06  0.000300091%\n",
       "44                  44   1.364052e-06  0.000136405%\n",
       "45                  45   6.062452e-07  0.000060625%"
      ]
     },
     "execution_count": 51,
     "metadata": {},
     "output_type": "execute_result"
    }
   ],
   "source": [
    "df_experimento"
   ]
  },
  {
   "cell_type": "code",
   "execution_count": 52,
   "metadata": {
    "id": "tb6hdHzLQP_0"
   },
   "outputs": [],
   "source": [
    "df_experimento[\"p_acum\"] = df_experimento[\"probabilidade\"].cumsum().apply(lambda x: f\"{x:.9%}\")"
   ]
  },
  {
   "cell_type": "code",
   "execution_count": 53,
   "metadata": {
    "id": "whg5HPJ_QP_0",
    "outputId": "74754581-09aa-4a91-c748-f09ece5835fe",
    "scrolled": true
   },
   "outputs": [
    {
     "data": {
      "text/html": [
       "<div>\n",
       "<style scoped>\n",
       "    .dataframe tbody tr th:only-of-type {\n",
       "        vertical-align: middle;\n",
       "    }\n",
       "\n",
       "    .dataframe tbody tr th {\n",
       "        vertical-align: top;\n",
       "    }\n",
       "\n",
       "    .dataframe thead th {\n",
       "        text-align: right;\n",
       "    }\n",
       "</style>\n",
       "<table border=\"1\" class=\"dataframe\">\n",
       "  <thead>\n",
       "    <tr style=\"text-align: right;\">\n",
       "      <th></th>\n",
       "      <th>número de ligações</th>\n",
       "      <th>probabilidade</th>\n",
       "      <th>p_formatado</th>\n",
       "      <th>p_acum</th>\n",
       "    </tr>\n",
       "  </thead>\n",
       "  <tbody>\n",
       "    <tr>\n",
       "      <th>0</th>\n",
       "      <td>0</td>\n",
       "      <td>2.061154e-09</td>\n",
       "      <td>0.000000206%</td>\n",
       "      <td>0.000000206%</td>\n",
       "    </tr>\n",
       "    <tr>\n",
       "      <th>1</th>\n",
       "      <td>1</td>\n",
       "      <td>4.122307e-08</td>\n",
       "      <td>0.000004122%</td>\n",
       "      <td>0.000004328%</td>\n",
       "    </tr>\n",
       "    <tr>\n",
       "      <th>2</th>\n",
       "      <td>2</td>\n",
       "      <td>4.122307e-07</td>\n",
       "      <td>0.000041223%</td>\n",
       "      <td>0.000045551%</td>\n",
       "    </tr>\n",
       "    <tr>\n",
       "      <th>3</th>\n",
       "      <td>3</td>\n",
       "      <td>2.748205e-06</td>\n",
       "      <td>0.000274820%</td>\n",
       "      <td>0.000320372%</td>\n",
       "    </tr>\n",
       "    <tr>\n",
       "      <th>4</th>\n",
       "      <td>4</td>\n",
       "      <td>1.374102e-05</td>\n",
       "      <td>0.001374102%</td>\n",
       "      <td>0.001694474%</td>\n",
       "    </tr>\n",
       "    <tr>\n",
       "      <th>5</th>\n",
       "      <td>5</td>\n",
       "      <td>5.496410e-05</td>\n",
       "      <td>0.005496410%</td>\n",
       "      <td>0.007190884%</td>\n",
       "    </tr>\n",
       "    <tr>\n",
       "      <th>6</th>\n",
       "      <td>6</td>\n",
       "      <td>1.832137e-04</td>\n",
       "      <td>0.018321366%</td>\n",
       "      <td>0.025512250%</td>\n",
       "    </tr>\n",
       "    <tr>\n",
       "      <th>7</th>\n",
       "      <td>7</td>\n",
       "      <td>5.234676e-04</td>\n",
       "      <td>0.052346759%</td>\n",
       "      <td>0.077859008%</td>\n",
       "    </tr>\n",
       "    <tr>\n",
       "      <th>8</th>\n",
       "      <td>8</td>\n",
       "      <td>1.308669e-03</td>\n",
       "      <td>0.130866897%</td>\n",
       "      <td>0.208725905%</td>\n",
       "    </tr>\n",
       "    <tr>\n",
       "      <th>9</th>\n",
       "      <td>9</td>\n",
       "      <td>2.908153e-03</td>\n",
       "      <td>0.290815326%</td>\n",
       "      <td>0.499541231%</td>\n",
       "    </tr>\n",
       "    <tr>\n",
       "      <th>10</th>\n",
       "      <td>10</td>\n",
       "      <td>5.816307e-03</td>\n",
       "      <td>0.581630652%</td>\n",
       "      <td>1.081171883%</td>\n",
       "    </tr>\n",
       "    <tr>\n",
       "      <th>11</th>\n",
       "      <td>11</td>\n",
       "      <td>1.057510e-02</td>\n",
       "      <td>1.057510276%</td>\n",
       "      <td>2.138682159%</td>\n",
       "    </tr>\n",
       "    <tr>\n",
       "      <th>12</th>\n",
       "      <td>12</td>\n",
       "      <td>1.762517e-02</td>\n",
       "      <td>1.762517127%</td>\n",
       "      <td>3.901199285%</td>\n",
       "    </tr>\n",
       "    <tr>\n",
       "      <th>13</th>\n",
       "      <td>13</td>\n",
       "      <td>2.711565e-02</td>\n",
       "      <td>2.711564810%</td>\n",
       "      <td>6.612764096%</td>\n",
       "    </tr>\n",
       "    <tr>\n",
       "      <th>14</th>\n",
       "      <td>14</td>\n",
       "      <td>3.873664e-02</td>\n",
       "      <td>3.873664015%</td>\n",
       "      <td>10.486428111%</td>\n",
       "    </tr>\n",
       "    <tr>\n",
       "      <th>15</th>\n",
       "      <td>15</td>\n",
       "      <td>5.164885e-02</td>\n",
       "      <td>5.164885353%</td>\n",
       "      <td>15.651313464%</td>\n",
       "    </tr>\n",
       "    <tr>\n",
       "      <th>16</th>\n",
       "      <td>16</td>\n",
       "      <td>6.456107e-02</td>\n",
       "      <td>6.456106691%</td>\n",
       "      <td>22.107420155%</td>\n",
       "    </tr>\n",
       "    <tr>\n",
       "      <th>17</th>\n",
       "      <td>17</td>\n",
       "      <td>7.595420e-02</td>\n",
       "      <td>7.595419637%</td>\n",
       "      <td>29.702839792%</td>\n",
       "    </tr>\n",
       "    <tr>\n",
       "      <th>18</th>\n",
       "      <td>18</td>\n",
       "      <td>8.439355e-02</td>\n",
       "      <td>8.439355152%</td>\n",
       "      <td>38.142194945%</td>\n",
       "    </tr>\n",
       "    <tr>\n",
       "      <th>19</th>\n",
       "      <td>19</td>\n",
       "      <td>8.883532e-02</td>\n",
       "      <td>8.883531739%</td>\n",
       "      <td>47.025726684%</td>\n",
       "    </tr>\n",
       "    <tr>\n",
       "      <th>20</th>\n",
       "      <td>20</td>\n",
       "      <td>8.883532e-02</td>\n",
       "      <td>8.883531739%</td>\n",
       "      <td>55.909258423%</td>\n",
       "    </tr>\n",
       "    <tr>\n",
       "      <th>21</th>\n",
       "      <td>21</td>\n",
       "      <td>8.460506e-02</td>\n",
       "      <td>8.460506418%</td>\n",
       "      <td>64.369764841%</td>\n",
       "    </tr>\n",
       "    <tr>\n",
       "      <th>22</th>\n",
       "      <td>22</td>\n",
       "      <td>7.691369e-02</td>\n",
       "      <td>7.691369471%</td>\n",
       "      <td>72.061134313%</td>\n",
       "    </tr>\n",
       "    <tr>\n",
       "      <th>23</th>\n",
       "      <td>23</td>\n",
       "      <td>6.688147e-02</td>\n",
       "      <td>6.688147366%</td>\n",
       "      <td>78.749281679%</td>\n",
       "    </tr>\n",
       "    <tr>\n",
       "      <th>24</th>\n",
       "      <td>24</td>\n",
       "      <td>5.573456e-02</td>\n",
       "      <td>5.573456139%</td>\n",
       "      <td>84.322737817%</td>\n",
       "    </tr>\n",
       "    <tr>\n",
       "      <th>25</th>\n",
       "      <td>25</td>\n",
       "      <td>4.458765e-02</td>\n",
       "      <td>4.458764911%</td>\n",
       "      <td>88.781502728%</td>\n",
       "    </tr>\n",
       "    <tr>\n",
       "      <th>26</th>\n",
       "      <td>26</td>\n",
       "      <td>3.429819e-02</td>\n",
       "      <td>3.429819162%</td>\n",
       "      <td>92.211321890%</td>\n",
       "    </tr>\n",
       "    <tr>\n",
       "      <th>27</th>\n",
       "      <td>27</td>\n",
       "      <td>2.540607e-02</td>\n",
       "      <td>2.540606787%</td>\n",
       "      <td>94.751928677%</td>\n",
       "    </tr>\n",
       "    <tr>\n",
       "      <th>28</th>\n",
       "      <td>28</td>\n",
       "      <td>1.814719e-02</td>\n",
       "      <td>1.814719133%</td>\n",
       "      <td>96.566647811%</td>\n",
       "    </tr>\n",
       "    <tr>\n",
       "      <th>29</th>\n",
       "      <td>29</td>\n",
       "      <td>1.251530e-02</td>\n",
       "      <td>1.251530437%</td>\n",
       "      <td>97.818178247%</td>\n",
       "    </tr>\n",
       "    <tr>\n",
       "      <th>30</th>\n",
       "      <td>30</td>\n",
       "      <td>8.343536e-03</td>\n",
       "      <td>0.834353625%</td>\n",
       "      <td>98.652531872%</td>\n",
       "    </tr>\n",
       "    <tr>\n",
       "      <th>31</th>\n",
       "      <td>31</td>\n",
       "      <td>5.382927e-03</td>\n",
       "      <td>0.538292661%</td>\n",
       "      <td>99.190824533%</td>\n",
       "    </tr>\n",
       "    <tr>\n",
       "      <th>32</th>\n",
       "      <td>32</td>\n",
       "      <td>3.364329e-03</td>\n",
       "      <td>0.336432913%</td>\n",
       "      <td>99.527257446%</td>\n",
       "    </tr>\n",
       "    <tr>\n",
       "      <th>33</th>\n",
       "      <td>33</td>\n",
       "      <td>2.038987e-03</td>\n",
       "      <td>0.203898735%</td>\n",
       "      <td>99.731156181%</td>\n",
       "    </tr>\n",
       "    <tr>\n",
       "      <th>34</th>\n",
       "      <td>34</td>\n",
       "      <td>1.199404e-03</td>\n",
       "      <td>0.119940432%</td>\n",
       "      <td>99.851096614%</td>\n",
       "    </tr>\n",
       "    <tr>\n",
       "      <th>35</th>\n",
       "      <td>35</td>\n",
       "      <td>6.853739e-04</td>\n",
       "      <td>0.068537390%</td>\n",
       "      <td>99.919634004%</td>\n",
       "    </tr>\n",
       "    <tr>\n",
       "      <th>36</th>\n",
       "      <td>36</td>\n",
       "      <td>3.807633e-04</td>\n",
       "      <td>0.038076328%</td>\n",
       "      <td>99.957710332%</td>\n",
       "    </tr>\n",
       "    <tr>\n",
       "      <th>37</th>\n",
       "      <td>37</td>\n",
       "      <td>2.058180e-04</td>\n",
       "      <td>0.020581799%</td>\n",
       "      <td>99.978292130%</td>\n",
       "    </tr>\n",
       "    <tr>\n",
       "      <th>38</th>\n",
       "      <td>38</td>\n",
       "      <td>1.083253e-04</td>\n",
       "      <td>0.010832526%</td>\n",
       "      <td>99.989124656%</td>\n",
       "    </tr>\n",
       "    <tr>\n",
       "      <th>39</th>\n",
       "      <td>39</td>\n",
       "      <td>5.555141e-05</td>\n",
       "      <td>0.005555141%</td>\n",
       "      <td>99.994679797%</td>\n",
       "    </tr>\n",
       "    <tr>\n",
       "      <th>40</th>\n",
       "      <td>40</td>\n",
       "      <td>2.777571e-05</td>\n",
       "      <td>0.002777571%</td>\n",
       "      <td>99.997457368%</td>\n",
       "    </tr>\n",
       "    <tr>\n",
       "      <th>41</th>\n",
       "      <td>41</td>\n",
       "      <td>1.354913e-05</td>\n",
       "      <td>0.001354913%</td>\n",
       "      <td>99.998812281%</td>\n",
       "    </tr>\n",
       "    <tr>\n",
       "      <th>42</th>\n",
       "      <td>42</td>\n",
       "      <td>6.451964e-06</td>\n",
       "      <td>0.000645196%</td>\n",
       "      <td>99.999457477%</td>\n",
       "    </tr>\n",
       "    <tr>\n",
       "      <th>43</th>\n",
       "      <td>43</td>\n",
       "      <td>3.000914e-06</td>\n",
       "      <td>0.000300091%</td>\n",
       "      <td>99.999757569%</td>\n",
       "    </tr>\n",
       "    <tr>\n",
       "      <th>44</th>\n",
       "      <td>44</td>\n",
       "      <td>1.364052e-06</td>\n",
       "      <td>0.000136405%</td>\n",
       "      <td>99.999893974%</td>\n",
       "    </tr>\n",
       "    <tr>\n",
       "      <th>45</th>\n",
       "      <td>45</td>\n",
       "      <td>6.062452e-07</td>\n",
       "      <td>0.000060625%</td>\n",
       "      <td>99.999954598%</td>\n",
       "    </tr>\n",
       "  </tbody>\n",
       "</table>\n",
       "</div>"
      ],
      "text/plain": [
       "    número de ligações  probabilidade   p_formatado         p_acum\n",
       "0                    0   2.061154e-09  0.000000206%   0.000000206%\n",
       "1                    1   4.122307e-08  0.000004122%   0.000004328%\n",
       "2                    2   4.122307e-07  0.000041223%   0.000045551%\n",
       "3                    3   2.748205e-06  0.000274820%   0.000320372%\n",
       "4                    4   1.374102e-05  0.001374102%   0.001694474%\n",
       "5                    5   5.496410e-05  0.005496410%   0.007190884%\n",
       "6                    6   1.832137e-04  0.018321366%   0.025512250%\n",
       "7                    7   5.234676e-04  0.052346759%   0.077859008%\n",
       "8                    8   1.308669e-03  0.130866897%   0.208725905%\n",
       "9                    9   2.908153e-03  0.290815326%   0.499541231%\n",
       "10                  10   5.816307e-03  0.581630652%   1.081171883%\n",
       "11                  11   1.057510e-02  1.057510276%   2.138682159%\n",
       "12                  12   1.762517e-02  1.762517127%   3.901199285%\n",
       "13                  13   2.711565e-02  2.711564810%   6.612764096%\n",
       "14                  14   3.873664e-02  3.873664015%  10.486428111%\n",
       "15                  15   5.164885e-02  5.164885353%  15.651313464%\n",
       "16                  16   6.456107e-02  6.456106691%  22.107420155%\n",
       "17                  17   7.595420e-02  7.595419637%  29.702839792%\n",
       "18                  18   8.439355e-02  8.439355152%  38.142194945%\n",
       "19                  19   8.883532e-02  8.883531739%  47.025726684%\n",
       "20                  20   8.883532e-02  8.883531739%  55.909258423%\n",
       "21                  21   8.460506e-02  8.460506418%  64.369764841%\n",
       "22                  22   7.691369e-02  7.691369471%  72.061134313%\n",
       "23                  23   6.688147e-02  6.688147366%  78.749281679%\n",
       "24                  24   5.573456e-02  5.573456139%  84.322737817%\n",
       "25                  25   4.458765e-02  4.458764911%  88.781502728%\n",
       "26                  26   3.429819e-02  3.429819162%  92.211321890%\n",
       "27                  27   2.540607e-02  2.540606787%  94.751928677%\n",
       "28                  28   1.814719e-02  1.814719133%  96.566647811%\n",
       "29                  29   1.251530e-02  1.251530437%  97.818178247%\n",
       "30                  30   8.343536e-03  0.834353625%  98.652531872%\n",
       "31                  31   5.382927e-03  0.538292661%  99.190824533%\n",
       "32                  32   3.364329e-03  0.336432913%  99.527257446%\n",
       "33                  33   2.038987e-03  0.203898735%  99.731156181%\n",
       "34                  34   1.199404e-03  0.119940432%  99.851096614%\n",
       "35                  35   6.853739e-04  0.068537390%  99.919634004%\n",
       "36                  36   3.807633e-04  0.038076328%  99.957710332%\n",
       "37                  37   2.058180e-04  0.020581799%  99.978292130%\n",
       "38                  38   1.083253e-04  0.010832526%  99.989124656%\n",
       "39                  39   5.555141e-05  0.005555141%  99.994679797%\n",
       "40                  40   2.777571e-05  0.002777571%  99.997457368%\n",
       "41                  41   1.354913e-05  0.001354913%  99.998812281%\n",
       "42                  42   6.451964e-06  0.000645196%  99.999457477%\n",
       "43                  43   3.000914e-06  0.000300091%  99.999757569%\n",
       "44                  44   1.364052e-06  0.000136405%  99.999893974%\n",
       "45                  45   6.062452e-07  0.000060625%  99.999954598%"
      ]
     },
     "execution_count": 53,
     "metadata": {},
     "output_type": "execute_result"
    }
   ],
   "source": [
    "df_experimento"
   ]
  },
  {
   "cell_type": "code",
   "execution_count": 54,
   "metadata": {
    "id": "lBXAH6tPQP_0",
    "outputId": "316116be-8261-4311-e887-c8f912bd38b0"
   },
   "outputs": [
    {
     "data": {
      "text/plain": [
       "1.3474681280000027"
      ]
     },
     "execution_count": 54,
     "metadata": {},
     "output_type": "execute_result"
    }
   ],
   "source": [
    "100 - 98.652531872"
   ]
  },
  {
   "cell_type": "markdown",
   "metadata": {
    "id": "gXlsMP6wQP_0"
   },
   "source": [
    "### Qual a cara da distribuição?"
   ]
  },
  {
   "cell_type": "code",
   "execution_count": 55,
   "metadata": {
    "id": "fpcRzZtDQP_0",
    "outputId": "e5a7662a-f93b-47a6-cdbf-3557897b22e9"
   },
   "outputs": [
    {
     "data": {
      "image/png": "[encoded data removed]",
      "text/plain": [
       "<Figure size 640x480 with 1 Axes>"
      ]
     },
     "metadata": {},
     "output_type": "display_data"
    }
   ],
   "source": [
    "plt.scatter(df_experimento[\"número de ligações\"], df_experimento[\"probabilidade\"]);"
   ]
  },
  {
   "cell_type": "markdown",
   "metadata": {
    "id": "tQi6ZiwhQP_0"
   },
   "source": [
    "_____\n",
    "\n",
    "### De volta ao poblema gerador!\n",
    "\n",
    "> Em um jogo da Copa do Mundo de futebol, a quantidade média de gols é aproximadamente `3`. Assim sendo, qual é a probabilidade de em determinada partida não haver gols? E a probabilidade de haver 4 gols?"
   ]
  },
  {
   "cell_type": "markdown",
   "metadata": {
    "id": "OL-1vYkNQP_1"
   },
   "source": [
    "A primeira coisa que devemos nos perguntar é se é justificável modelarmos a quantidade de gols em uma partida como uma variável aleatória distribuída segundo um processo de Poisson.\n",
    "\n",
    "Assumindo isso, basta utilizarmos a distribuição de Poisson, e a função mdf:"
   ]
  },
  {
   "cell_type": "code",
   "execution_count": 56,
   "metadata": {
    "id": "8W-dFZmFQP_1"
   },
   "outputs": [],
   "source": [
    "l = 3"
   ]
  },
  {
   "cell_type": "code",
   "execution_count": 57,
   "metadata": {
    "id": "Bkt78ufHQP_1",
    "outputId": "3ffe45c0-1158-405b-a46f-2c80546d6574"
   },
   "outputs": [
    {
     "data": {
      "text/plain": [
       "0.049787068367863944"
      ]
     },
     "execution_count": 57,
     "metadata": {},
     "output_type": "execute_result"
    }
   ],
   "source": [
    "p_0_s = scipy.stats.poisson.pmf(k=0, mu=l)\n",
    "p_0_s"
   ]
  },
  {
   "cell_type": "code",
   "execution_count": 58,
   "metadata": {
    "id": "VCYfaYARQP_1",
    "outputId": "22c04fd0-91ef-42b5-b0e4-5dad65084f98"
   },
   "outputs": [
    {
     "data": {
      "text/plain": [
       "0.16803135574154085"
      ]
     },
     "execution_count": 58,
     "metadata": {},
     "output_type": "execute_result"
    }
   ],
   "source": [
    "p_4_s = scipy.stats.poisson.pmf(k=4, mu=l)\n",
    "p_4_s"
   ]
  },
  {
   "cell_type": "code",
   "execution_count": 59,
   "metadata": {
    "id": "eDe0ITAAQP_1"
   },
   "outputs": [],
   "source": [
    "l = 3\n",
    "\n",
    "experimento = {\n",
    "    \"número de gols\" : [],\n",
    "    \"probabilidade\" : []\n",
    "}\n",
    "\n",
    "k_list = range(15)\n",
    "for k in k_list:\n",
    "\n",
    "    p = scipy.stats.poisson.pmf(k=k, mu=l)\n",
    "\n",
    "    experimento[\"número de gols\"].append(k)\n",
    "    experimento[\"probabilidade\"].append(p)\n",
    "\n",
    "# =========================================\n",
    "\n",
    "df_experimento = pd.DataFrame(experimento)\n",
    "df_experimento[\"p_formatado\"] = df_experimento[\"probabilidade\"].apply(lambda x: f\"{x:.9%}\")\n",
    "df_experimento[\"p_acum\"] = df_experimento[\"probabilidade\"].cumsum().apply(lambda x: f\"{x:.9%}\")"
   ]
  },
  {
   "cell_type": "code",
   "execution_count": 60,
   "metadata": {
    "id": "_1Wr0-PVQP_1",
    "outputId": "9f82a29f-e85c-4fd6-c206-fe0c9600bdac"
   },
   "outputs": [
    {
     "data": {
      "text/html": [
       "<div>\n",
       "<style scoped>\n",
       "    .dataframe tbody tr th:only-of-type {\n",
       "        vertical-align: middle;\n",
       "    }\n",
       "\n",
       "    .dataframe tbody tr th {\n",
       "        vertical-align: top;\n",
       "    }\n",
       "\n",
       "    .dataframe thead th {\n",
       "        text-align: right;\n",
       "    }\n",
       "</style>\n",
       "<table border=\"1\" class=\"dataframe\">\n",
       "  <thead>\n",
       "    <tr style=\"text-align: right;\">\n",
       "      <th></th>\n",
       "      <th>número de gols</th>\n",
       "      <th>probabilidade</th>\n",
       "      <th>p_formatado</th>\n",
       "      <th>p_acum</th>\n",
       "    </tr>\n",
       "  </thead>\n",
       "  <tbody>\n",
       "    <tr>\n",
       "      <th>0</th>\n",
       "      <td>0</td>\n",
       "      <td>0.049787</td>\n",
       "      <td>4.978706837%</td>\n",
       "      <td>4.978706837%</td>\n",
       "    </tr>\n",
       "    <tr>\n",
       "      <th>1</th>\n",
       "      <td>1</td>\n",
       "      <td>0.149361</td>\n",
       "      <td>14.936120510%</td>\n",
       "      <td>19.914827347%</td>\n",
       "    </tr>\n",
       "    <tr>\n",
       "      <th>2</th>\n",
       "      <td>2</td>\n",
       "      <td>0.224042</td>\n",
       "      <td>22.404180766%</td>\n",
       "      <td>42.319008113%</td>\n",
       "    </tr>\n",
       "    <tr>\n",
       "      <th>3</th>\n",
       "      <td>3</td>\n",
       "      <td>0.224042</td>\n",
       "      <td>22.404180766%</td>\n",
       "      <td>64.723188878%</td>\n",
       "    </tr>\n",
       "    <tr>\n",
       "      <th>4</th>\n",
       "      <td>4</td>\n",
       "      <td>0.168031</td>\n",
       "      <td>16.803135574%</td>\n",
       "      <td>81.526324452%</td>\n",
       "    </tr>\n",
       "    <tr>\n",
       "      <th>5</th>\n",
       "      <td>5</td>\n",
       "      <td>0.100819</td>\n",
       "      <td>10.081881344%</td>\n",
       "      <td>91.608205797%</td>\n",
       "    </tr>\n",
       "    <tr>\n",
       "      <th>6</th>\n",
       "      <td>6</td>\n",
       "      <td>0.050409</td>\n",
       "      <td>5.040940672%</td>\n",
       "      <td>96.649146469%</td>\n",
       "    </tr>\n",
       "    <tr>\n",
       "      <th>7</th>\n",
       "      <td>7</td>\n",
       "      <td>0.021604</td>\n",
       "      <td>2.160403145%</td>\n",
       "      <td>98.809549614%</td>\n",
       "    </tr>\n",
       "    <tr>\n",
       "      <th>8</th>\n",
       "      <td>8</td>\n",
       "      <td>0.008102</td>\n",
       "      <td>0.810151179%</td>\n",
       "      <td>99.619700794%</td>\n",
       "    </tr>\n",
       "    <tr>\n",
       "      <th>9</th>\n",
       "      <td>9</td>\n",
       "      <td>0.002701</td>\n",
       "      <td>0.270050393%</td>\n",
       "      <td>99.889751187%</td>\n",
       "    </tr>\n",
       "    <tr>\n",
       "      <th>10</th>\n",
       "      <td>10</td>\n",
       "      <td>0.000810</td>\n",
       "      <td>0.081015118%</td>\n",
       "      <td>99.970766305%</td>\n",
       "    </tr>\n",
       "    <tr>\n",
       "      <th>11</th>\n",
       "      <td>11</td>\n",
       "      <td>0.000221</td>\n",
       "      <td>0.022095032%</td>\n",
       "      <td>99.992861337%</td>\n",
       "    </tr>\n",
       "    <tr>\n",
       "      <th>12</th>\n",
       "      <td>12</td>\n",
       "      <td>0.000055</td>\n",
       "      <td>0.005523758%</td>\n",
       "      <td>99.998385095%</td>\n",
       "    </tr>\n",
       "    <tr>\n",
       "      <th>13</th>\n",
       "      <td>13</td>\n",
       "      <td>0.000013</td>\n",
       "      <td>0.001274713%</td>\n",
       "      <td>99.999659809%</td>\n",
       "    </tr>\n",
       "    <tr>\n",
       "      <th>14</th>\n",
       "      <td>14</td>\n",
       "      <td>0.000003</td>\n",
       "      <td>0.000273153%</td>\n",
       "      <td>99.999932961%</td>\n",
       "    </tr>\n",
       "  </tbody>\n",
       "</table>\n",
       "</div>"
      ],
      "text/plain": [
       "    número de gols  probabilidade    p_formatado         p_acum\n",
       "0                0       0.049787   4.978706837%   4.978706837%\n",
       "1                1       0.149361  14.936120510%  19.914827347%\n",
       "2                2       0.224042  22.404180766%  42.319008113%\n",
       "3                3       0.224042  22.404180766%  64.723188878%\n",
       "4                4       0.168031  16.803135574%  81.526324452%\n",
       "5                5       0.100819  10.081881344%  91.608205797%\n",
       "6                6       0.050409   5.040940672%  96.649146469%\n",
       "7                7       0.021604   2.160403145%  98.809549614%\n",
       "8                8       0.008102   0.810151179%  99.619700794%\n",
       "9                9       0.002701   0.270050393%  99.889751187%\n",
       "10              10       0.000810   0.081015118%  99.970766305%\n",
       "11              11       0.000221   0.022095032%  99.992861337%\n",
       "12              12       0.000055   0.005523758%  99.998385095%\n",
       "13              13       0.000013   0.001274713%  99.999659809%\n",
       "14              14       0.000003   0.000273153%  99.999932961%"
      ]
     },
     "execution_count": 60,
     "metadata": {},
     "output_type": "execute_result"
    }
   ],
   "source": [
    "df_experimento"
   ]
  },
  {
   "cell_type": "code",
   "execution_count": 61,
   "metadata": {
    "id": "n33vkmKCQP_1",
    "outputId": "f9c7cdbf-7c04-4ccd-fc33-87a24349dfb2"
   },
   "outputs": [
    {
     "data": {
      "text/plain": [
       "3.3508535309999985"
      ]
     },
     "execution_count": 61,
     "metadata": {},
     "output_type": "execute_result"
    }
   ],
   "source": [
    "100 - 96.649146469"
   ]
  },
  {
   "cell_type": "markdown",
   "metadata": {
    "id": "dsD4SeUw0TFU"
   },
   "source": [
    "_________\n",
    "\n",
    "### **3.3) Distribuição Normal (Gaussiana)**\n",
    "\n",
    "É representada por uma **curva simétrica em torno do seu ponto médio**, apresentando assim seu famoso formato de **sino** (*bell shape*).  \n",
    "\n",
    "A distribuição normal modelo o comportamento de **diversos processos e fenômenos comuns**, como por exemplo: altura ou peso de uma população, a pressão sanguínea de um grupo de pessoas, o tempo que um grupo de estudantes gasta para realizar uma prova, etc.\n",
    "\n",
    "Na distribuição normal, a média, mediana e moda dos dados possuem o mesmo valor, o que faz com que essa distribuição seja **simétrica com relação a estes valores**.\n",
    "\n",
    "<img src=\"https://dietassessmentprimer.cancer.gov/images/learn/distribution1.jpg\">"
   ]
  },
  {
   "cell_type": "markdown",
   "metadata": {
    "id": "lz0UdeoTQP_2"
   },
   "source": [
    "Usaremos a notação $X \\sim \\mathcal{N}(\\mu, \\sigma^2)$ para representar uma variável aleatória distribuida segundo uma normal de média $\\mu$ e variância $\\sigma^2$.\n",
    "\n",
    "<img src=\"https://upload.wikimedia.org/wikipedia/commons/thumb/7/74/Normal_Distribution_PDF.svg/1280px-Normal_Distribution_PDF.svg.png\" width=500>\n",
    "\n",
    "A função densidade de probabilidade da distribuição normal é dada por:\n",
    "\n",
    "$$f(x)={\\frac {1}{\\sigma {\\sqrt {2\\pi }}}}e^{-{\\frac {1}{2}}\\left({\\frac {x-\\mu }{\\sigma }}\\right)^{2}}$$\n",
    "\n",
    "> Diferentemente das duas distribuições anteriores, a gaussiana é uma **distribuição de probabilidade contínua**, dado que a V.A. associada pode assumir qualquer valor real, $X \\in \\mathbb{R}$."
   ]
  },
  {
   "cell_type": "markdown",
   "metadata": {
    "id": "LCtJOGUbQP_2"
   },
   "source": [
    "A distribuição normal é, muito provavelmente, a distribuição mais importante da estatística, sobretudo dado seu papel no famoso **Teorema Central do Limite**, que estudaremos em breve, no contexto da estatística inferencial."
   ]
  },
  {
   "cell_type": "code",
   "execution_count": 62,
   "metadata": {
    "id": "kIKAkEq-QP_2",
    "outputId": "7c5b2849-b6c0-48f7-ced1-8e89e8db2586"
   },
   "outputs": [
    {
     "data": {
      "image/png": "[encoded data removed]",
      "text/plain": [
       "<Figure size 640x480 with 1 Axes>"
      ]
     },
     "metadata": {},
     "output_type": "display_data"
    }
   ],
   "source": [
    "m, s = 0, 1\n",
    "\n",
    "x = np.linspace(-5, 5, 100000)\n",
    "\n",
    "y = (1/(s*np.sqrt(2*np.pi)))*np.exp(-0.5*((x-m)/s)**2)\n",
    "\n",
    "plt.plot(x, y);"
   ]
  },
  {
   "cell_type": "code",
   "execution_count": 63,
   "metadata": {
    "id": "xU6gzOmvQP_2",
    "outputId": "230dcfd5-bcbb-4b2d-d32f-81cd1c8208d3"
   },
   "outputs": [
    {
     "data": {
      "image/png": "[encoded data removed]",
      "text/plain": [
       "<Figure size 640x480 with 1 Axes>"
      ]
     },
     "metadata": {},
     "output_type": "display_data"
    }
   ],
   "source": [
    "m, s = 0, 1\n",
    "dados = np.random.normal(m, s, 100000)\n",
    "\n",
    "# sns.histplot(dados, kde=True, stat=\"density\");\n",
    "sns.kdeplot(dados)\n",
    "\n",
    "x = np.linspace(-5, 5, 100000)\n",
    "y = (1/(s*np.sqrt(2*np.pi)))*np.exp(-0.5*((x-m)/s)**2)\n",
    "plt.plot(x, y, color=\"red\");"
   ]
  },
  {
   "cell_type": "code",
   "execution_count": 64,
   "metadata": {
    "id": "bkEwU_VoQP_3"
   },
   "outputs": [],
   "source": [
    "import scipy"
   ]
  },
  {
   "cell_type": "code",
   "execution_count": 65,
   "metadata": {
    "id": "IpyYxJoMQP_3"
   },
   "outputs": [],
   "source": [
    "dados = np.random.normal(m, s, 100000)"
   ]
  },
  {
   "cell_type": "code",
   "execution_count": 66,
   "metadata": {
    "id": "WfVo5T7LQP_3"
   },
   "outputs": [],
   "source": [
    "dados = scipy.stats.norm.rvs(m, s, 100000)"
   ]
  },
  {
   "cell_type": "code",
   "execution_count": 67,
   "metadata": {
    "id": "pVj_rr7MQP_3",
    "outputId": "3042b372-bd42-4049-fe35-c2226b11c6f2"
   },
   "outputs": [
    {
     "data": {
      "text/plain": [
       "array([ 0.20261197, -0.20443975, -0.5166611 , ...,  0.07491309,\n",
       "        0.0779476 ,  0.12297253])"
      ]
     },
     "execution_count": 67,
     "metadata": {},
     "output_type": "execute_result"
    }
   ],
   "source": [
    "dados"
   ]
  },
  {
   "cell_type": "markdown",
   "metadata": {
    "id": "FC633sZBQP_3"
   },
   "source": [
    "Na distribuição normal, os dados são distribuídos de forma muito particular, tal que o **desvio padrão** determina a proporção de dados em cada faixa:\n",
    "\n",
    "<img src=\"https://miro.medium.com/max/24000/1*IdGgdrY_n_9_YfkaCh-dag.png\" width=500>\n",
    "\n",
    "<img src=\"https://miro.medium.com/max/24000/1*IZ2II2HYKeoMrdLU5jW6Dw.png\" width=500>"
   ]
  },
  {
   "cell_type": "code",
   "execution_count": 68,
   "metadata": {
    "id": "eXAESfLYQP_3",
    "outputId": "606de1cd-3ba2-427f-9e5e-9daf9d428d02"
   },
   "outputs": [
    {
     "data": {
      "text/plain": [
       "0.6842"
      ]
     },
     "execution_count": 68,
     "metadata": {},
     "output_type": "execute_result"
    }
   ],
   "source": [
    "dados[np.abs(dados) <= 1].shape[0]/100000"
   ]
  },
  {
   "cell_type": "code",
   "execution_count": 69,
   "metadata": {
    "id": "lblyKsDcQP_3",
    "outputId": "378a6c0d-ca0a-4926-caa3-d91cb9f85100"
   },
   "outputs": [
    {
     "data": {
      "text/plain": [
       "0.95517"
      ]
     },
     "execution_count": 69,
     "metadata": {},
     "output_type": "execute_result"
    }
   ],
   "source": [
    "dados[np.abs(dados) <= 2].shape[0]/100000"
   ]
  },
  {
   "cell_type": "code",
   "execution_count": 70,
   "metadata": {
    "id": "5OUWJOlGQP_3",
    "outputId": "b7972bc6-747d-44f3-99af-09112cd3dee8"
   },
   "outputs": [
    {
     "data": {
      "text/plain": [
       "0.9973"
      ]
     },
     "execution_count": 70,
     "metadata": {},
     "output_type": "execute_result"
    }
   ],
   "source": [
    "dados[np.abs(dados) <= 3].shape[0]/100000"
   ]
  },
  {
   "cell_type": "code",
   "execution_count": 71,
   "metadata": {
    "id": "oPQ4ANaeQP_3",
    "outputId": "71ac3bcf-4084-4942-d7da-5a6675466176"
   },
   "outputs": [
    {
     "data": {
      "text/plain": [
       "<Axes: ylabel='Count'>"
      ]
     },
     "execution_count": 71,
     "metadata": {},
     "output_type": "execute_result"
    },
    {
     "data": {
      "image/png": "[encoded data removed]",
      "text/plain": [
       "<Figure size 640x480 with 1 Axes>"
      ]
     },
     "metadata": {},
     "output_type": "display_data"
    }
   ],
   "source": [
    "sns.histplot(dados)"
   ]
  },
  {
   "cell_type": "markdown",
   "metadata": {
    "id": "uv21141iQP_4"
   },
   "source": [
    "____\n",
    "____\n",
    "____"
   ]
  },
  {
   "cell_type": "code",
   "execution_count": null,
   "metadata": {},
   "outputs": [],
   "source": []
  }
 ],
 "metadata": {
  "colab": {
   "provenance": []
  },
  "kernelspec": {
   "display_name": "Python 3 (ipykernel)",
   "language": "python",
   "name": "python3"
  },
  "language_info": {
   "codemirror_mode": {
    "name": "ipython",
    "version": 3
   },
   "file_extension": ".py",
   "mimetype": "text/x-python",
   "name": "python",
   "nbconvert_exporter": "python",
   "pygments_lexer": "ipython3",
   "version": "3.11.5"
  }
 },
 "nbformat": 4,
 "nbformat_minor": 4
}
