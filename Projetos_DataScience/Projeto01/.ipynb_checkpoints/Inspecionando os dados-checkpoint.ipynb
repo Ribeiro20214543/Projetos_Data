{
 "cells": [
  {
   "cell_type": "markdown",
   "id": "5d672092-ffc7-4f89-b74f-eb44ffc0ca07",
   "metadata": {},
   "source": [
    "# Coletando os dados"
   ]
  },
  {
   "cell_type": "code",
   "execution_count": 1,
   "id": "46e40a88-d153-493b-9dcc-4a74868c532c",
   "metadata": {
    "tags": []
   },
   "outputs": [],
   "source": [
    "# abrir a conexao com o banco de dados\n",
    "import sqlite3\n",
    "import pandas as pd"
   ]
  },
  {
   "cell_type": "code",
   "execution_count": 2,
   "id": "9fb7c30b-a4c0-4a36-95b5-a2d8f838fa61",
   "metadata": {
    "tags": []
   },
   "outputs": [],
   "source": [
    "# abrindo a conexão com o banco de dados\n",
    "conn = sqlite3.connect( \"database.db\" )"
   ]
  },
  {
   "cell_type": "code",
   "execution_count": 3,
   "id": "32286878-0931-4cf2-8e11-b7dcd23f0c9b",
   "metadata": {
    "tags": []
   },
   "outputs": [],
   "source": [
    "# coletando os dados\n",
    "consulta_atividade = \"\"\"\n",
    "SELECT *\n",
    "FROM\n",
    "flight_activity fa LEFT JOIN flight_loyalty_history flh\n",
    "ON (fa.loyalty_number = flh.loyalty_number )\n",
    "\"\"\""
   ]
  },
  {
   "cell_type": "code",
   "execution_count": 4,
   "id": "b6d69b7e-dddb-4372-9280-ac776a9f1800",
   "metadata": {
    "tags": []
   },
   "outputs": [],
   "source": [
    "# executando a consulta\n",
    "df_atividade = pd.read_sql_query( consulta_atividade, conn )"
   ]
  },
  {
   "cell_type": "markdown",
   "id": "6b058511-8db1-4638-b5d0-bd050e2796ca",
   "metadata": {},
   "source": [
    "# Inspecionando a planilha de dados"
   ]
  },
  {
   "cell_type": "code",
   "execution_count": 5,
   "id": "f90b51ce-05df-48d9-96e6-aa27fe7fbaca",
   "metadata": {
    "tags": []
   },
   "outputs": [
    {
     "name": "stdout",
     "output_type": "stream",
     "text": [
      "O numero de linhas eh: 405624\n"
     ]
    }
   ],
   "source": [
    "# verificando a quantidade de linhas\n",
    "numero_linhas = df_atividade.shape[0]\n",
    "print( 'O numero de linhas eh:', numero_linhas )"
   ]
  },
  {
   "cell_type": "code",
   "execution_count": 6,
   "id": "1173ccba-ee6e-492e-a771-48bb7ca2010f",
   "metadata": {
    "tags": []
   },
   "outputs": [
    {
     "name": "stdout",
     "output_type": "stream",
     "text": [
      "O numero de linhas eh: 405624\n"
     ]
    }
   ],
   "source": [
    "# verificando a quantidade de colunas\n",
    "numero_colunas = df_atividade.shape[1]\n",
    "print( 'O numero de linhas eh:', numero_linhas )"
   ]
  },
  {
   "cell_type": "code",
   "execution_count": 7,
   "id": "df64a5bf-3602-4ae0-9ad7-a8ca94cd23eb",
   "metadata": {
    "tags": []
   },
   "outputs": [
    {
     "name": "stdout",
     "output_type": "stream",
     "text": [
      "<class 'pandas.core.frame.DataFrame'>\n",
      "RangeIndex: 405624 entries, 0 to 405623\n",
      "Data columns (total 26 columns):\n",
      " #   Column                       Non-Null Count   Dtype  \n",
      "---  ------                       --------------   -----  \n",
      " 0   loyalty_number               405624 non-null  int64  \n",
      " 1   year                         405624 non-null  int64  \n",
      " 2   month                        405624 non-null  int64  \n",
      " 3   flights_booked               405624 non-null  int64  \n",
      " 4   flights_with_companions      405624 non-null  int64  \n",
      " 5   total_flights                405624 non-null  int64  \n",
      " 6   distance                     405624 non-null  int64  \n",
      " 7   points_accumulated           405624 non-null  float64\n",
      " 8   points_redeemed              405624 non-null  int64  \n",
      " 9   dollar_cost_points_redeemed  405624 non-null  int64  \n",
      " 10  loyalty_number               405624 non-null  int64  \n",
      " 11  country                      405624 non-null  object \n",
      " 12  province                     405624 non-null  object \n",
      " 13  city                         405624 non-null  object \n",
      " 14  postal_code                  405624 non-null  object \n",
      " 15  gender                       405624 non-null  object \n",
      " 16  education                    405624 non-null  object \n",
      " 17  salary                       302952 non-null  float64\n",
      " 18  marital_status               405624 non-null  object \n",
      " 19  loyalty_card                 405624 non-null  object \n",
      " 20  clv                          405624 non-null  float64\n",
      " 21  enrollment_type              405624 non-null  object \n",
      " 22  enrollment_year              405624 non-null  int64  \n",
      " 23  enrollment_month             405624 non-null  int64  \n",
      " 24  cancellation_year            50064 non-null   float64\n",
      " 25  cancellation_month           50064 non-null   float64\n",
      "dtypes: float64(5), int64(12), object(9)\n",
      "memory usage: 80.5+ MB\n"
     ]
    }
   ],
   "source": [
    "# descobrindo as informacoes gerais sobre a planilha de dados\n",
    "df_atividade.info()"
   ]
  },
  {
   "cell_type": "code",
   "execution_count": 8,
   "id": "1a093771-e02b-435a-9a6f-2f550f4a7acd",
   "metadata": {
    "tags": []
   },
   "outputs": [
    {
     "data": {
      "text/plain": [
       "2087689"
      ]
     },
     "execution_count": 8,
     "metadata": {},
     "output_type": "execute_result"
    }
   ],
   "source": [
    "# Somar a colunas \"total_flights\"\n",
    "df_atividade.loc[:, 'total_flights'].sum()"
   ]
  },
  {
   "cell_type": "code",
   "execution_count": 9,
   "id": "38acd492-e1d3-4fd0-aa55-aa396f59b694",
   "metadata": {
    "tags": []
   },
   "outputs": [
    {
     "data": {
      "text/plain": [
       "1208.880058872256"
      ]
     },
     "execution_count": 9,
     "metadata": {},
     "output_type": "execute_result"
    }
   ],
   "source": [
    "# Somar a colunas \"distance\"\n",
    "df_atividade.loc[:, 'distance'].mean()"
   ]
  },
  {
   "cell_type": "code",
   "execution_count": 10,
   "id": "d67ac891-3039-4350-9bdf-3c3d0553993f",
   "metadata": {
    "tags": []
   },
   "outputs": [
    {
     "data": {
      "text/plain": [
       "0"
      ]
     },
     "execution_count": 10,
     "metadata": {},
     "output_type": "execute_result"
    }
   ],
   "source": [
    "# Valor mínimo de salário\n",
    "df_atividade.loc[:, 'distance'].min()"
   ]
  },
  {
   "cell_type": "code",
   "execution_count": 11,
   "id": "7f1c3295-15d1-4d89-b94e-d26cfbe8afff",
   "metadata": {
    "tags": []
   },
   "outputs": [
    {
     "data": {
      "text/plain": [
       "6293"
      ]
     },
     "execution_count": 11,
     "metadata": {},
     "output_type": "execute_result"
    }
   ],
   "source": [
    "# Valor máximo de salário\n",
    "df_atividade.loc[:, 'distance'].max()"
   ]
  },
  {
   "cell_type": "code",
   "execution_count": 12,
   "id": "3d384c90-5e48-466f-9383-9ab6796abe72",
   "metadata": {
    "tags": []
   },
   "outputs": [
    {
     "data": {
      "text/plain": [
       "loyalty_number                      0\n",
       "year                                0\n",
       "month                               0\n",
       "flights_booked                      0\n",
       "flights_with_companions             0\n",
       "total_flights                       0\n",
       "distance                            0\n",
       "points_accumulated                  0\n",
       "points_redeemed                     0\n",
       "dollar_cost_points_redeemed         0\n",
       "loyalty_number                      0\n",
       "country                             0\n",
       "province                            0\n",
       "city                                0\n",
       "postal_code                         0\n",
       "gender                              0\n",
       "education                           0\n",
       "salary                         102672\n",
       "marital_status                      0\n",
       "loyalty_card                        0\n",
       "clv                                 0\n",
       "enrollment_type                     0\n",
       "enrollment_year                     0\n",
       "enrollment_month                    0\n",
       "cancellation_year              355560\n",
       "cancellation_month             355560\n",
       "dtype: int64"
      ]
     },
     "execution_count": 12,
     "metadata": {},
     "output_type": "execute_result"
    }
   ],
   "source": [
    "# checando o número de dados faltante nas colunas\n",
    "df_atividade.isna().sum()"
   ]
  },
  {
   "cell_type": "markdown",
   "id": "d653c397-2d26-4808-9b6d-2e7e74f3d52c",
   "metadata": {},
   "source": [
    "## Seleção de linhas e colunas"
   ]
  },
  {
   "cell_type": "code",
   "execution_count": 13,
   "id": "5077bd02-5ed6-4d77-9f92-383a5019c2c3",
   "metadata": {
    "tags": []
   },
   "outputs": [],
   "source": [
    "# Comando do Pandas para selecionar linhas e colunas\n",
    "#df = df1.iloc[linhas, colunas]"
   ]
  },
  {
   "cell_type": "code",
   "execution_count": 14,
   "id": "7e35fb32-d9d0-4d47-9adc-6739434877aa",
   "metadata": {
    "tags": []
   },
   "outputs": [],
   "source": [
    "# selecionando colunas de uma planilha\n",
    "colunas = ['year', 'month', 'flights_booked', 'flights_with_companions',\n",
    "'total_flights', 'distance', 'points_accumulated', 'points_redeemed',\n",
    "'dollar_cost_points_redeemed', 'salary', 'clv', 'enrollment_year',\n",
    "'enrollment_month', 'loyalty_card']"
   ]
  },
  {
   "cell_type": "code",
   "execution_count": 15,
   "id": "9c49e6ac-9bdd-487e-a27e-7ff64f5e9638",
   "metadata": {
    "tags": []
   },
   "outputs": [],
   "source": [
    "df_dados_limpos = df_atividade.loc[:, colunas]"
   ]
  },
  {
   "cell_type": "code",
   "execution_count": 16,
   "id": "27f190eb-43f6-48ae-93fb-9a5db05e4b05",
   "metadata": {
    "tags": []
   },
   "outputs": [
    {
     "data": {
      "text/html": [
       "<div>\n",
       "<style scoped>\n",
       "    .dataframe tbody tr th:only-of-type {\n",
       "        vertical-align: middle;\n",
       "    }\n",
       "\n",
       "    .dataframe tbody tr th {\n",
       "        vertical-align: top;\n",
       "    }\n",
       "\n",
       "    .dataframe thead th {\n",
       "        text-align: right;\n",
       "    }\n",
       "</style>\n",
       "<table border=\"1\" class=\"dataframe\">\n",
       "  <thead>\n",
       "    <tr style=\"text-align: right;\">\n",
       "      <th></th>\n",
       "      <th>year</th>\n",
       "      <th>month</th>\n",
       "      <th>flights_booked</th>\n",
       "      <th>flights_with_companions</th>\n",
       "      <th>total_flights</th>\n",
       "      <th>distance</th>\n",
       "      <th>points_accumulated</th>\n",
       "      <th>points_redeemed</th>\n",
       "      <th>dollar_cost_points_redeemed</th>\n",
       "      <th>salary</th>\n",
       "      <th>clv</th>\n",
       "      <th>enrollment_year</th>\n",
       "      <th>enrollment_month</th>\n",
       "      <th>loyalty_card</th>\n",
       "    </tr>\n",
       "  </thead>\n",
       "  <tbody>\n",
       "    <tr>\n",
       "      <th>0</th>\n",
       "      <td>2017</td>\n",
       "      <td>1</td>\n",
       "      <td>3</td>\n",
       "      <td>0</td>\n",
       "      <td>3</td>\n",
       "      <td>1521</td>\n",
       "      <td>152.0</td>\n",
       "      <td>0</td>\n",
       "      <td>0</td>\n",
       "      <td>92552.0</td>\n",
       "      <td>7919.20</td>\n",
       "      <td>2016</td>\n",
       "      <td>8</td>\n",
       "      <td>Aurora</td>\n",
       "    </tr>\n",
       "    <tr>\n",
       "      <th>1</th>\n",
       "      <td>2017</td>\n",
       "      <td>1</td>\n",
       "      <td>10</td>\n",
       "      <td>4</td>\n",
       "      <td>14</td>\n",
       "      <td>2030</td>\n",
       "      <td>203.0</td>\n",
       "      <td>0</td>\n",
       "      <td>0</td>\n",
       "      <td>NaN</td>\n",
       "      <td>2887.74</td>\n",
       "      <td>2013</td>\n",
       "      <td>3</td>\n",
       "      <td>Nova</td>\n",
       "    </tr>\n",
       "    <tr>\n",
       "      <th>2</th>\n",
       "      <td>2017</td>\n",
       "      <td>1</td>\n",
       "      <td>6</td>\n",
       "      <td>0</td>\n",
       "      <td>6</td>\n",
       "      <td>1200</td>\n",
       "      <td>120.0</td>\n",
       "      <td>0</td>\n",
       "      <td>0</td>\n",
       "      <td>NaN</td>\n",
       "      <td>2838.07</td>\n",
       "      <td>2016</td>\n",
       "      <td>7</td>\n",
       "      <td>Nova</td>\n",
       "    </tr>\n",
       "    <tr>\n",
       "      <th>3</th>\n",
       "      <td>2017</td>\n",
       "      <td>1</td>\n",
       "      <td>0</td>\n",
       "      <td>0</td>\n",
       "      <td>0</td>\n",
       "      <td>0</td>\n",
       "      <td>0.0</td>\n",
       "      <td>0</td>\n",
       "      <td>0</td>\n",
       "      <td>63253.0</td>\n",
       "      <td>4170.57</td>\n",
       "      <td>2015</td>\n",
       "      <td>8</td>\n",
       "      <td>Star</td>\n",
       "    </tr>\n",
       "    <tr>\n",
       "      <th>4</th>\n",
       "      <td>2017</td>\n",
       "      <td>1</td>\n",
       "      <td>0</td>\n",
       "      <td>0</td>\n",
       "      <td>0</td>\n",
       "      <td>0</td>\n",
       "      <td>0.0</td>\n",
       "      <td>0</td>\n",
       "      <td>0</td>\n",
       "      <td>91163.0</td>\n",
       "      <td>6622.05</td>\n",
       "      <td>2014</td>\n",
       "      <td>1</td>\n",
       "      <td>Star</td>\n",
       "    </tr>\n",
       "    <tr>\n",
       "      <th>...</th>\n",
       "      <td>...</td>\n",
       "      <td>...</td>\n",
       "      <td>...</td>\n",
       "      <td>...</td>\n",
       "      <td>...</td>\n",
       "      <td>...</td>\n",
       "      <td>...</td>\n",
       "      <td>...</td>\n",
       "      <td>...</td>\n",
       "      <td>...</td>\n",
       "      <td>...</td>\n",
       "      <td>...</td>\n",
       "      <td>...</td>\n",
       "      <td>...</td>\n",
       "    </tr>\n",
       "    <tr>\n",
       "      <th>405619</th>\n",
       "      <td>2018</td>\n",
       "      <td>12</td>\n",
       "      <td>0</td>\n",
       "      <td>0</td>\n",
       "      <td>0</td>\n",
       "      <td>0</td>\n",
       "      <td>0.0</td>\n",
       "      <td>0</td>\n",
       "      <td>0</td>\n",
       "      <td>NaN</td>\n",
       "      <td>7290.07</td>\n",
       "      <td>2014</td>\n",
       "      <td>5</td>\n",
       "      <td>Aurora</td>\n",
       "    </tr>\n",
       "    <tr>\n",
       "      <th>405620</th>\n",
       "      <td>2018</td>\n",
       "      <td>12</td>\n",
       "      <td>0</td>\n",
       "      <td>0</td>\n",
       "      <td>0</td>\n",
       "      <td>0</td>\n",
       "      <td>0.0</td>\n",
       "      <td>0</td>\n",
       "      <td>0</td>\n",
       "      <td>217943.0</td>\n",
       "      <td>8564.77</td>\n",
       "      <td>2012</td>\n",
       "      <td>8</td>\n",
       "      <td>Nova</td>\n",
       "    </tr>\n",
       "    <tr>\n",
       "      <th>405621</th>\n",
       "      <td>2018</td>\n",
       "      <td>12</td>\n",
       "      <td>3</td>\n",
       "      <td>0</td>\n",
       "      <td>3</td>\n",
       "      <td>1233</td>\n",
       "      <td>123.0</td>\n",
       "      <td>0</td>\n",
       "      <td>0</td>\n",
       "      <td>47670.0</td>\n",
       "      <td>20266.50</td>\n",
       "      <td>2017</td>\n",
       "      <td>7</td>\n",
       "      <td>Nova</td>\n",
       "    </tr>\n",
       "    <tr>\n",
       "      <th>405622</th>\n",
       "      <td>2018</td>\n",
       "      <td>12</td>\n",
       "      <td>0</td>\n",
       "      <td>0</td>\n",
       "      <td>0</td>\n",
       "      <td>0</td>\n",
       "      <td>0.0</td>\n",
       "      <td>0</td>\n",
       "      <td>0</td>\n",
       "      <td>NaN</td>\n",
       "      <td>2631.56</td>\n",
       "      <td>2018</td>\n",
       "      <td>7</td>\n",
       "      <td>Star</td>\n",
       "    </tr>\n",
       "    <tr>\n",
       "      <th>405623</th>\n",
       "      <td>2018</td>\n",
       "      <td>12</td>\n",
       "      <td>0</td>\n",
       "      <td>0</td>\n",
       "      <td>0</td>\n",
       "      <td>0</td>\n",
       "      <td>0.0</td>\n",
       "      <td>0</td>\n",
       "      <td>0</td>\n",
       "      <td>46594.0</td>\n",
       "      <td>8257.01</td>\n",
       "      <td>2018</td>\n",
       "      <td>2</td>\n",
       "      <td>Nova</td>\n",
       "    </tr>\n",
       "  </tbody>\n",
       "</table>\n",
       "<p>405624 rows × 14 columns</p>\n",
       "</div>"
      ],
      "text/plain": [
       "        year  month  flights_booked  flights_with_companions  total_flights  \\\n",
       "0       2017      1               3                        0              3   \n",
       "1       2017      1              10                        4             14   \n",
       "2       2017      1               6                        0              6   \n",
       "3       2017      1               0                        0              0   \n",
       "4       2017      1               0                        0              0   \n",
       "...      ...    ...             ...                      ...            ...   \n",
       "405619  2018     12               0                        0              0   \n",
       "405620  2018     12               0                        0              0   \n",
       "405621  2018     12               3                        0              3   \n",
       "405622  2018     12               0                        0              0   \n",
       "405623  2018     12               0                        0              0   \n",
       "\n",
       "        distance  points_accumulated  points_redeemed  \\\n",
       "0           1521               152.0                0   \n",
       "1           2030               203.0                0   \n",
       "2           1200               120.0                0   \n",
       "3              0                 0.0                0   \n",
       "4              0                 0.0                0   \n",
       "...          ...                 ...              ...   \n",
       "405619         0                 0.0                0   \n",
       "405620         0                 0.0                0   \n",
       "405621      1233               123.0                0   \n",
       "405622         0                 0.0                0   \n",
       "405623         0                 0.0                0   \n",
       "\n",
       "        dollar_cost_points_redeemed    salary       clv  enrollment_year  \\\n",
       "0                                 0   92552.0   7919.20             2016   \n",
       "1                                 0       NaN   2887.74             2013   \n",
       "2                                 0       NaN   2838.07             2016   \n",
       "3                                 0   63253.0   4170.57             2015   \n",
       "4                                 0   91163.0   6622.05             2014   \n",
       "...                             ...       ...       ...              ...   \n",
       "405619                            0       NaN   7290.07             2014   \n",
       "405620                            0  217943.0   8564.77             2012   \n",
       "405621                            0   47670.0  20266.50             2017   \n",
       "405622                            0       NaN   2631.56             2018   \n",
       "405623                            0   46594.0   8257.01             2018   \n",
       "\n",
       "        enrollment_month loyalty_card  \n",
       "0                      8       Aurora  \n",
       "1                      3         Nova  \n",
       "2                      7         Nova  \n",
       "3                      8         Star  \n",
       "4                      1         Star  \n",
       "...                  ...          ...  \n",
       "405619                 5       Aurora  \n",
       "405620                 8         Nova  \n",
       "405621                 7         Nova  \n",
       "405622                 7         Star  \n",
       "405623                 2         Nova  \n",
       "\n",
       "[405624 rows x 14 columns]"
      ]
     },
     "execution_count": 16,
     "metadata": {},
     "output_type": "execute_result"
    }
   ],
   "source": [
    "df_dados_limpos"
   ]
  },
  {
   "cell_type": "markdown",
   "id": "56e906db-bb77-4654-babd-68d0839e27dc",
   "metadata": {},
   "source": [
    "# Preparando os dados para treinamento do algoritmo"
   ]
  },
  {
   "cell_type": "markdown",
   "id": "775a3222-80d3-47fd-903e-b4c66fbca76e",
   "metadata": {},
   "source": [
    "### Operações a serem realizadas nesta etapa:\n",
    "\n",
    "* Remoção ou substituição de lnhas que contém dados faltantes\n",
    "* Remoção das colunas com dados sem variabilidade\n",
    "* Colunas com valores altos de correlação\n",
    "* Trnasformação dos dados categ´´oricos em dados  numéricos"
   ]
  },
  {
   "cell_type": "markdown",
   "id": "df1236ef-7fae-4b30-b2eb-9ea837ac6280",
   "metadata": {},
   "source": [
    "### Limpando a base de dados"
   ]
  },
  {
   "cell_type": "code",
   "execution_count": 17,
   "id": "f2f6b863-9409-4c21-b361-612e28d38191",
   "metadata": {
    "tags": []
   },
   "outputs": [
    {
     "data": {
      "text/plain": [
       "loyalty_number                      0\n",
       "year                                0\n",
       "month                               0\n",
       "flights_booked                      0\n",
       "flights_with_companions             0\n",
       "total_flights                       0\n",
       "distance                            0\n",
       "points_accumulated                  0\n",
       "points_redeemed                     0\n",
       "dollar_cost_points_redeemed         0\n",
       "loyalty_number                      0\n",
       "country                             0\n",
       "province                            0\n",
       "city                                0\n",
       "postal_code                         0\n",
       "gender                              0\n",
       "education                           0\n",
       "salary                         102672\n",
       "marital_status                      0\n",
       "loyalty_card                        0\n",
       "clv                                 0\n",
       "enrollment_type                     0\n",
       "enrollment_year                     0\n",
       "enrollment_month                    0\n",
       "cancellation_year              355560\n",
       "cancellation_month             355560\n",
       "dtype: int64"
      ]
     },
     "execution_count": 17,
     "metadata": {},
     "output_type": "execute_result"
    }
   ],
   "source": [
    "# Numero de dados faltantes\n",
    "df_atividade.isna().sum()"
   ]
  },
  {
   "cell_type": "code",
   "execution_count": null,
   "id": "2fe565e0-b0c0-46ad-84a1-ec1e61592d3f",
   "metadata": {},
   "outputs": [],
   "source": []
  }
 ],
 "metadata": {
  "kernelspec": {
   "display_name": "Python 3 (ipykernel)",
   "language": "python",
   "name": "python3"
  },
  "language_info": {
   "codemirror_mode": {
    "name": "ipython",
    "version": 3
   },
   "file_extension": ".py",
   "mimetype": "text/x-python",
   "name": "python",
   "nbconvert_exporter": "python",
   "pygments_lexer": "ipython3",
   "version": "3.11.5"
  }
 },
 "nbformat": 4,
 "nbformat_minor": 5
}
