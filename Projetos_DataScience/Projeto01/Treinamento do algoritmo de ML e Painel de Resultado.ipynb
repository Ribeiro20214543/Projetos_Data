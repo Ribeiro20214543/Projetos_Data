{
 "cells": [
  {
   "cell_type": "markdown",
   "id": "5d672092-ffc7-4f89-b74f-eb44ffc0ca07",
   "metadata": {},
   "source": [
    "# Coletando os dados"
   ]
  },
  {
   "cell_type": "code",
   "execution_count": 1,
   "id": "46e40a88-d153-493b-9dcc-4a74868c532c",
   "metadata": {
    "tags": []
   },
   "outputs": [],
   "source": [
    "# abrir a conexao com o banco de dados\n",
    "import sqlite3\n",
    "import pandas as pd"
   ]
  },
  {
   "cell_type": "code",
   "execution_count": 2,
   "id": "9fb7c30b-a4c0-4a36-95b5-a2d8f838fa61",
   "metadata": {
    "tags": []
   },
   "outputs": [],
   "source": [
    "# abrindo a conexão com o banco de dados\n",
    "conn = sqlite3.connect( \"database.db\" )"
   ]
  },
  {
   "cell_type": "code",
   "execution_count": 3,
   "id": "32286878-0931-4cf2-8e11-b7dcd23f0c9b",
   "metadata": {
    "tags": []
   },
   "outputs": [],
   "source": [
    "# coletando os dados\n",
    "consulta_atividade = \"\"\"\n",
    "SELECT *\n",
    "FROM\n",
    "flight_activity fa LEFT JOIN flight_loyalty_history flh\n",
    "ON (fa.loyalty_number = flh.loyalty_number )\n",
    "\"\"\""
   ]
  },
  {
   "cell_type": "code",
   "execution_count": 4,
   "id": "b6d69b7e-dddb-4372-9280-ac776a9f1800",
   "metadata": {
    "tags": []
   },
   "outputs": [],
   "source": [
    "# executando a consulta\n",
    "df_atividade = pd.read_sql_query( consulta_atividade, conn )"
   ]
  },
  {
   "cell_type": "code",
   "execution_count": 5,
   "id": "ffe26b65",
   "metadata": {},
   "outputs": [
    {
     "data": {
      "text/html": [
       "<div>\n",
       "<style scoped>\n",
       "    .dataframe tbody tr th:only-of-type {\n",
       "        vertical-align: middle;\n",
       "    }\n",
       "\n",
       "    .dataframe tbody tr th {\n",
       "        vertical-align: top;\n",
       "    }\n",
       "\n",
       "    .dataframe thead th {\n",
       "        text-align: right;\n",
       "    }\n",
       "</style>\n",
       "<table border=\"1\" class=\"dataframe\">\n",
       "  <thead>\n",
       "    <tr style=\"text-align: right;\">\n",
       "      <th></th>\n",
       "      <th>loyalty_number</th>\n",
       "      <th>year</th>\n",
       "      <th>month</th>\n",
       "      <th>flights_booked</th>\n",
       "      <th>flights_with_companions</th>\n",
       "      <th>total_flights</th>\n",
       "      <th>distance</th>\n",
       "      <th>points_accumulated</th>\n",
       "      <th>points_redeemed</th>\n",
       "      <th>dollar_cost_points_redeemed</th>\n",
       "      <th>...</th>\n",
       "      <th>education</th>\n",
       "      <th>salary</th>\n",
       "      <th>marital_status</th>\n",
       "      <th>loyalty_card</th>\n",
       "      <th>clv</th>\n",
       "      <th>enrollment_type</th>\n",
       "      <th>enrollment_year</th>\n",
       "      <th>enrollment_month</th>\n",
       "      <th>cancellation_year</th>\n",
       "      <th>cancellation_month</th>\n",
       "    </tr>\n",
       "  </thead>\n",
       "  <tbody>\n",
       "    <tr>\n",
       "      <th>0</th>\n",
       "      <td>100018</td>\n",
       "      <td>2017</td>\n",
       "      <td>1</td>\n",
       "      <td>3</td>\n",
       "      <td>0</td>\n",
       "      <td>3</td>\n",
       "      <td>1521</td>\n",
       "      <td>152.0</td>\n",
       "      <td>0</td>\n",
       "      <td>0</td>\n",
       "      <td>...</td>\n",
       "      <td>Bachelor</td>\n",
       "      <td>92552.0</td>\n",
       "      <td>Married</td>\n",
       "      <td>Aurora</td>\n",
       "      <td>7919.20</td>\n",
       "      <td>Standard</td>\n",
       "      <td>2016</td>\n",
       "      <td>8</td>\n",
       "      <td>NaN</td>\n",
       "      <td>NaN</td>\n",
       "    </tr>\n",
       "    <tr>\n",
       "      <th>1</th>\n",
       "      <td>100102</td>\n",
       "      <td>2017</td>\n",
       "      <td>1</td>\n",
       "      <td>10</td>\n",
       "      <td>4</td>\n",
       "      <td>14</td>\n",
       "      <td>2030</td>\n",
       "      <td>203.0</td>\n",
       "      <td>0</td>\n",
       "      <td>0</td>\n",
       "      <td>...</td>\n",
       "      <td>College</td>\n",
       "      <td>NaN</td>\n",
       "      <td>Single</td>\n",
       "      <td>Nova</td>\n",
       "      <td>2887.74</td>\n",
       "      <td>Standard</td>\n",
       "      <td>2013</td>\n",
       "      <td>3</td>\n",
       "      <td>NaN</td>\n",
       "      <td>NaN</td>\n",
       "    </tr>\n",
       "    <tr>\n",
       "      <th>2</th>\n",
       "      <td>100140</td>\n",
       "      <td>2017</td>\n",
       "      <td>1</td>\n",
       "      <td>6</td>\n",
       "      <td>0</td>\n",
       "      <td>6</td>\n",
       "      <td>1200</td>\n",
       "      <td>120.0</td>\n",
       "      <td>0</td>\n",
       "      <td>0</td>\n",
       "      <td>...</td>\n",
       "      <td>College</td>\n",
       "      <td>NaN</td>\n",
       "      <td>Divorced</td>\n",
       "      <td>Nova</td>\n",
       "      <td>2838.07</td>\n",
       "      <td>Standard</td>\n",
       "      <td>2016</td>\n",
       "      <td>7</td>\n",
       "      <td>NaN</td>\n",
       "      <td>NaN</td>\n",
       "    </tr>\n",
       "    <tr>\n",
       "      <th>3</th>\n",
       "      <td>100214</td>\n",
       "      <td>2017</td>\n",
       "      <td>1</td>\n",
       "      <td>0</td>\n",
       "      <td>0</td>\n",
       "      <td>0</td>\n",
       "      <td>0</td>\n",
       "      <td>0.0</td>\n",
       "      <td>0</td>\n",
       "      <td>0</td>\n",
       "      <td>...</td>\n",
       "      <td>Bachelor</td>\n",
       "      <td>63253.0</td>\n",
       "      <td>Married</td>\n",
       "      <td>Star</td>\n",
       "      <td>4170.57</td>\n",
       "      <td>Standard</td>\n",
       "      <td>2015</td>\n",
       "      <td>8</td>\n",
       "      <td>NaN</td>\n",
       "      <td>NaN</td>\n",
       "    </tr>\n",
       "    <tr>\n",
       "      <th>4</th>\n",
       "      <td>100272</td>\n",
       "      <td>2017</td>\n",
       "      <td>1</td>\n",
       "      <td>0</td>\n",
       "      <td>0</td>\n",
       "      <td>0</td>\n",
       "      <td>0</td>\n",
       "      <td>0.0</td>\n",
       "      <td>0</td>\n",
       "      <td>0</td>\n",
       "      <td>...</td>\n",
       "      <td>Bachelor</td>\n",
       "      <td>91163.0</td>\n",
       "      <td>Divorced</td>\n",
       "      <td>Star</td>\n",
       "      <td>6622.05</td>\n",
       "      <td>Standard</td>\n",
       "      <td>2014</td>\n",
       "      <td>1</td>\n",
       "      <td>NaN</td>\n",
       "      <td>NaN</td>\n",
       "    </tr>\n",
       "  </tbody>\n",
       "</table>\n",
       "<p>5 rows × 26 columns</p>\n",
       "</div>"
      ],
      "text/plain": [
       "   loyalty_number  year  month  flights_booked  flights_with_companions  \\\n",
       "0          100018  2017      1               3                        0   \n",
       "1          100102  2017      1              10                        4   \n",
       "2          100140  2017      1               6                        0   \n",
       "3          100214  2017      1               0                        0   \n",
       "4          100272  2017      1               0                        0   \n",
       "\n",
       "   total_flights  distance  points_accumulated  points_redeemed  \\\n",
       "0              3      1521               152.0                0   \n",
       "1             14      2030               203.0                0   \n",
       "2              6      1200               120.0                0   \n",
       "3              0         0                 0.0                0   \n",
       "4              0         0                 0.0                0   \n",
       "\n",
       "   dollar_cost_points_redeemed  ...  education   salary marital_status  \\\n",
       "0                            0  ...   Bachelor  92552.0        Married   \n",
       "1                            0  ...    College      NaN         Single   \n",
       "2                            0  ...    College      NaN       Divorced   \n",
       "3                            0  ...   Bachelor  63253.0        Married   \n",
       "4                            0  ...   Bachelor  91163.0       Divorced   \n",
       "\n",
       "  loyalty_card      clv enrollment_type enrollment_year  enrollment_month  \\\n",
       "0       Aurora  7919.20        Standard            2016                 8   \n",
       "1         Nova  2887.74        Standard            2013                 3   \n",
       "2         Nova  2838.07        Standard            2016                 7   \n",
       "3         Star  4170.57        Standard            2015                 8   \n",
       "4         Star  6622.05        Standard            2014                 1   \n",
       "\n",
       "  cancellation_year cancellation_month  \n",
       "0               NaN                NaN  \n",
       "1               NaN                NaN  \n",
       "2               NaN                NaN  \n",
       "3               NaN                NaN  \n",
       "4               NaN                NaN  \n",
       "\n",
       "[5 rows x 26 columns]"
      ]
     },
     "execution_count": 5,
     "metadata": {},
     "output_type": "execute_result"
    }
   ],
   "source": [
    "df_atividade.head()"
   ]
  },
  {
   "cell_type": "code",
   "execution_count": 6,
   "id": "e42248ec",
   "metadata": {},
   "outputs": [
    {
     "name": "stdout",
     "output_type": "stream",
     "text": [
      "<class 'pandas.core.frame.DataFrame'>\n",
      "RangeIndex: 405624 entries, 0 to 405623\n",
      "Data columns (total 26 columns):\n",
      " #   Column                       Non-Null Count   Dtype  \n",
      "---  ------                       --------------   -----  \n",
      " 0   loyalty_number               405624 non-null  int64  \n",
      " 1   year                         405624 non-null  int64  \n",
      " 2   month                        405624 non-null  int64  \n",
      " 3   flights_booked               405624 non-null  int64  \n",
      " 4   flights_with_companions      405624 non-null  int64  \n",
      " 5   total_flights                405624 non-null  int64  \n",
      " 6   distance                     405624 non-null  int64  \n",
      " 7   points_accumulated           405624 non-null  float64\n",
      " 8   points_redeemed              405624 non-null  int64  \n",
      " 9   dollar_cost_points_redeemed  405624 non-null  int64  \n",
      " 10  loyalty_number               405624 non-null  int64  \n",
      " 11  country                      405624 non-null  object \n",
      " 12  province                     405624 non-null  object \n",
      " 13  city                         405624 non-null  object \n",
      " 14  postal_code                  405624 non-null  object \n",
      " 15  gender                       405624 non-null  object \n",
      " 16  education                    405624 non-null  object \n",
      " 17  salary                       302952 non-null  float64\n",
      " 18  marital_status               405624 non-null  object \n",
      " 19  loyalty_card                 405624 non-null  object \n",
      " 20  clv                          405624 non-null  float64\n",
      " 21  enrollment_type              405624 non-null  object \n",
      " 22  enrollment_year              405624 non-null  int64  \n",
      " 23  enrollment_month             405624 non-null  int64  \n",
      " 24  cancellation_year            50064 non-null   float64\n",
      " 25  cancellation_month           50064 non-null   float64\n",
      "dtypes: float64(5), int64(12), object(9)\n",
      "memory usage: 80.5+ MB\n"
     ]
    }
   ],
   "source": [
    "# descobrindo as informacoes gerais sobre a planilha de dados\n",
    "df_atividade.info()"
   ]
  },
  {
   "cell_type": "markdown",
   "id": "56e906db-bb77-4654-babd-68d0839e27dc",
   "metadata": {},
   "source": [
    "# Preparando os dados para treinamento do algoritmo de ML"
   ]
  },
  {
   "cell_type": "markdown",
   "id": "775a3222-80d3-47fd-903e-b4c66fbca76e",
   "metadata": {},
   "source": [
    "### Operações a serem realizadas nesta etapa:\n",
    "\n",
    "* Remoção ou substituição de lnhas que contém dados faltantes\n",
    "* Remoção das colunas com dados sem variabilidade\n",
    "* Remoção das colunas com valores altos de correlação\n",
    "* Transformação dos dados categóricos em dados  numéricos"
   ]
  },
  {
   "cell_type": "markdown",
   "id": "df1236ef-7fae-4b30-b2eb-9ea837ac6280",
   "metadata": {},
   "source": [
    "### Limpando a base de dados"
   ]
  },
  {
   "cell_type": "code",
   "execution_count": 7,
   "id": "f2f6b863-9409-4c21-b361-612e28d38191",
   "metadata": {
    "tags": []
   },
   "outputs": [
    {
     "data": {
      "text/plain": [
       "loyalty_number                      0\n",
       "year                                0\n",
       "month                               0\n",
       "flights_booked                      0\n",
       "flights_with_companions             0\n",
       "total_flights                       0\n",
       "distance                            0\n",
       "points_accumulated                  0\n",
       "points_redeemed                     0\n",
       "dollar_cost_points_redeemed         0\n",
       "loyalty_number                      0\n",
       "country                             0\n",
       "province                            0\n",
       "city                                0\n",
       "postal_code                         0\n",
       "gender                              0\n",
       "education                           0\n",
       "salary                         102672\n",
       "marital_status                      0\n",
       "loyalty_card                        0\n",
       "clv                                 0\n",
       "enrollment_type                     0\n",
       "enrollment_year                     0\n",
       "enrollment_month                    0\n",
       "cancellation_year              355560\n",
       "cancellation_month             355560\n",
       "dtype: int64"
      ]
     },
     "execution_count": 7,
     "metadata": {},
     "output_type": "execute_result"
    }
   ],
   "source": [
    "# Numero de dados faltantes em cada coluna\n",
    "df_atividade.isna().sum()"
   ]
  },
  {
   "cell_type": "code",
   "execution_count": 8,
   "id": "2fe565e0-b0c0-46ad-84a1-ec1e61592d3f",
   "metadata": {},
   "outputs": [
    {
     "data": {
      "text/html": [
       "<div>\n",
       "<style scoped>\n",
       "    .dataframe tbody tr th:only-of-type {\n",
       "        vertical-align: middle;\n",
       "    }\n",
       "\n",
       "    .dataframe tbody tr th {\n",
       "        vertical-align: top;\n",
       "    }\n",
       "\n",
       "    .dataframe thead th {\n",
       "        text-align: right;\n",
       "    }\n",
       "</style>\n",
       "<table border=\"1\" class=\"dataframe\">\n",
       "  <thead>\n",
       "    <tr style=\"text-align: right;\">\n",
       "      <th></th>\n",
       "      <th>year</th>\n",
       "      <th>month</th>\n",
       "      <th>flights_booked</th>\n",
       "      <th>flights_with_companions</th>\n",
       "      <th>total_flights</th>\n",
       "      <th>distance</th>\n",
       "      <th>points_accumulated</th>\n",
       "      <th>salary</th>\n",
       "      <th>clv</th>\n",
       "      <th>loyalty_card</th>\n",
       "    </tr>\n",
       "  </thead>\n",
       "  <tbody>\n",
       "    <tr>\n",
       "      <th>0</th>\n",
       "      <td>2017</td>\n",
       "      <td>1</td>\n",
       "      <td>3</td>\n",
       "      <td>0</td>\n",
       "      <td>3</td>\n",
       "      <td>1521</td>\n",
       "      <td>152.0</td>\n",
       "      <td>92552.0</td>\n",
       "      <td>7919.20</td>\n",
       "      <td>Aurora</td>\n",
       "    </tr>\n",
       "    <tr>\n",
       "      <th>1</th>\n",
       "      <td>2017</td>\n",
       "      <td>1</td>\n",
       "      <td>10</td>\n",
       "      <td>4</td>\n",
       "      <td>14</td>\n",
       "      <td>2030</td>\n",
       "      <td>203.0</td>\n",
       "      <td>NaN</td>\n",
       "      <td>2887.74</td>\n",
       "      <td>Nova</td>\n",
       "    </tr>\n",
       "    <tr>\n",
       "      <th>2</th>\n",
       "      <td>2017</td>\n",
       "      <td>1</td>\n",
       "      <td>6</td>\n",
       "      <td>0</td>\n",
       "      <td>6</td>\n",
       "      <td>1200</td>\n",
       "      <td>120.0</td>\n",
       "      <td>NaN</td>\n",
       "      <td>2838.07</td>\n",
       "      <td>Nova</td>\n",
       "    </tr>\n",
       "    <tr>\n",
       "      <th>3</th>\n",
       "      <td>2017</td>\n",
       "      <td>1</td>\n",
       "      <td>0</td>\n",
       "      <td>0</td>\n",
       "      <td>0</td>\n",
       "      <td>0</td>\n",
       "      <td>0.0</td>\n",
       "      <td>63253.0</td>\n",
       "      <td>4170.57</td>\n",
       "      <td>Star</td>\n",
       "    </tr>\n",
       "    <tr>\n",
       "      <th>4</th>\n",
       "      <td>2017</td>\n",
       "      <td>1</td>\n",
       "      <td>0</td>\n",
       "      <td>0</td>\n",
       "      <td>0</td>\n",
       "      <td>0</td>\n",
       "      <td>0.0</td>\n",
       "      <td>91163.0</td>\n",
       "      <td>6622.05</td>\n",
       "      <td>Star</td>\n",
       "    </tr>\n",
       "    <tr>\n",
       "      <th>...</th>\n",
       "      <td>...</td>\n",
       "      <td>...</td>\n",
       "      <td>...</td>\n",
       "      <td>...</td>\n",
       "      <td>...</td>\n",
       "      <td>...</td>\n",
       "      <td>...</td>\n",
       "      <td>...</td>\n",
       "      <td>...</td>\n",
       "      <td>...</td>\n",
       "    </tr>\n",
       "    <tr>\n",
       "      <th>405619</th>\n",
       "      <td>2018</td>\n",
       "      <td>12</td>\n",
       "      <td>0</td>\n",
       "      <td>0</td>\n",
       "      <td>0</td>\n",
       "      <td>0</td>\n",
       "      <td>0.0</td>\n",
       "      <td>NaN</td>\n",
       "      <td>7290.07</td>\n",
       "      <td>Aurora</td>\n",
       "    </tr>\n",
       "    <tr>\n",
       "      <th>405620</th>\n",
       "      <td>2018</td>\n",
       "      <td>12</td>\n",
       "      <td>0</td>\n",
       "      <td>0</td>\n",
       "      <td>0</td>\n",
       "      <td>0</td>\n",
       "      <td>0.0</td>\n",
       "      <td>217943.0</td>\n",
       "      <td>8564.77</td>\n",
       "      <td>Nova</td>\n",
       "    </tr>\n",
       "    <tr>\n",
       "      <th>405621</th>\n",
       "      <td>2018</td>\n",
       "      <td>12</td>\n",
       "      <td>3</td>\n",
       "      <td>0</td>\n",
       "      <td>3</td>\n",
       "      <td>1233</td>\n",
       "      <td>123.0</td>\n",
       "      <td>47670.0</td>\n",
       "      <td>20266.50</td>\n",
       "      <td>Nova</td>\n",
       "    </tr>\n",
       "    <tr>\n",
       "      <th>405622</th>\n",
       "      <td>2018</td>\n",
       "      <td>12</td>\n",
       "      <td>0</td>\n",
       "      <td>0</td>\n",
       "      <td>0</td>\n",
       "      <td>0</td>\n",
       "      <td>0.0</td>\n",
       "      <td>NaN</td>\n",
       "      <td>2631.56</td>\n",
       "      <td>Star</td>\n",
       "    </tr>\n",
       "    <tr>\n",
       "      <th>405623</th>\n",
       "      <td>2018</td>\n",
       "      <td>12</td>\n",
       "      <td>0</td>\n",
       "      <td>0</td>\n",
       "      <td>0</td>\n",
       "      <td>0</td>\n",
       "      <td>0.0</td>\n",
       "      <td>46594.0</td>\n",
       "      <td>8257.01</td>\n",
       "      <td>Nova</td>\n",
       "    </tr>\n",
       "  </tbody>\n",
       "</table>\n",
       "<p>405624 rows × 10 columns</p>\n",
       "</div>"
      ],
      "text/plain": [
       "        year  month  flights_booked  flights_with_companions  total_flights  \\\n",
       "0       2017      1               3                        0              3   \n",
       "1       2017      1              10                        4             14   \n",
       "2       2017      1               6                        0              6   \n",
       "3       2017      1               0                        0              0   \n",
       "4       2017      1               0                        0              0   \n",
       "...      ...    ...             ...                      ...            ...   \n",
       "405619  2018     12               0                        0              0   \n",
       "405620  2018     12               0                        0              0   \n",
       "405621  2018     12               3                        0              3   \n",
       "405622  2018     12               0                        0              0   \n",
       "405623  2018     12               0                        0              0   \n",
       "\n",
       "        distance  points_accumulated    salary       clv loyalty_card  \n",
       "0           1521               152.0   92552.0   7919.20       Aurora  \n",
       "1           2030               203.0       NaN   2887.74         Nova  \n",
       "2           1200               120.0       NaN   2838.07         Nova  \n",
       "3              0                 0.0   63253.0   4170.57         Star  \n",
       "4              0                 0.0   91163.0   6622.05         Star  \n",
       "...          ...                 ...       ...       ...          ...  \n",
       "405619         0                 0.0       NaN   7290.07       Aurora  \n",
       "405620         0                 0.0  217943.0   8564.77         Nova  \n",
       "405621      1233               123.0   47670.0  20266.50         Nova  \n",
       "405622         0                 0.0       NaN   2631.56         Star  \n",
       "405623         0                 0.0   46594.0   8257.01         Nova  \n",
       "\n",
       "[405624 rows x 10 columns]"
      ]
     },
     "execution_count": 8,
     "metadata": {},
     "output_type": "execute_result"
    }
   ],
   "source": [
    "# selecionando somente as colunas a serem utilizadas no treinamento do algoritmo\n",
    "colunas=[\"year\", \"month\", \"flights_booked\", \"flights_with_companions\",\n",
    "\"total_flights\", \"distance\", \"points_accumulated\", \"salary\",\n",
    "\"clv\", \"loyalty_card\"]\n",
    "\n",
    "df_atividade.loc[:, colunas]"
   ]
  },
  {
   "cell_type": "code",
   "execution_count": 9,
   "id": "2aeb0013",
   "metadata": {},
   "outputs": [],
   "source": [
    "# selecionando somente as colunas numéricas\n",
    "df_colunas_numericas = df_atividade.loc[:, colunas]"
   ]
  },
  {
   "cell_type": "code",
   "execution_count": 10,
   "id": "955bd067-069b-41e9-928b-6ca327868beb",
   "metadata": {
    "tags": []
   },
   "outputs": [],
   "source": [
    "# removendo linhas com alguma coluna vazia.\n",
    "df_dados_limpos = df_colunas_numericas.dropna()"
   ]
  },
  {
   "cell_type": "code",
   "execution_count": 11,
   "id": "25bbc43a-99a7-4387-83b1-b2326466072b",
   "metadata": {
    "tags": []
   },
   "outputs": [
    {
     "data": {
      "text/plain": [
       "year                       0\n",
       "month                      0\n",
       "flights_booked             0\n",
       "flights_with_companions    0\n",
       "total_flights              0\n",
       "distance                   0\n",
       "points_accumulated         0\n",
       "salary                     0\n",
       "clv                        0\n",
       "loyalty_card               0\n",
       "dtype: int64"
      ]
     },
     "execution_count": 11,
     "metadata": {},
     "output_type": "execute_result"
    }
   ],
   "source": [
    "# verificando se existe dados faltantes\n",
    "df_dados_limpos.isna().sum()"
   ]
  },
  {
   "cell_type": "code",
   "execution_count": 12,
   "id": "1f615d02-c24d-4f84-9bc5-3903e3b76761",
   "metadata": {
    "tags": []
   },
   "outputs": [
    {
     "data": {
      "text/plain": [
       "302952"
      ]
     },
     "execution_count": 12,
     "metadata": {},
     "output_type": "execute_result"
    }
   ],
   "source": [
    "df_dados_limpos.shape[0]"
   ]
  },
  {
   "cell_type": "markdown",
   "id": "6bf8fdee",
   "metadata": {},
   "source": [
    "# Treinamento do algoritmo de ML"
   ]
  },
  {
   "cell_type": "code",
   "execution_count": 13,
   "id": "2ed27220",
   "metadata": {},
   "outputs": [
    {
     "data": {
      "text/html": [
       "<div>\n",
       "<style scoped>\n",
       "    .dataframe tbody tr th:only-of-type {\n",
       "        vertical-align: middle;\n",
       "    }\n",
       "\n",
       "    .dataframe tbody tr th {\n",
       "        vertical-align: top;\n",
       "    }\n",
       "\n",
       "    .dataframe thead th {\n",
       "        text-align: right;\n",
       "    }\n",
       "</style>\n",
       "<table border=\"1\" class=\"dataframe\">\n",
       "  <thead>\n",
       "    <tr style=\"text-align: right;\">\n",
       "      <th></th>\n",
       "      <th>year</th>\n",
       "      <th>month</th>\n",
       "      <th>flights_booked</th>\n",
       "      <th>flights_with_companions</th>\n",
       "      <th>total_flights</th>\n",
       "      <th>distance</th>\n",
       "      <th>points_accumulated</th>\n",
       "      <th>salary</th>\n",
       "      <th>clv</th>\n",
       "      <th>loyalty_card</th>\n",
       "    </tr>\n",
       "  </thead>\n",
       "  <tbody>\n",
       "    <tr>\n",
       "      <th>0</th>\n",
       "      <td>2017</td>\n",
       "      <td>1</td>\n",
       "      <td>3</td>\n",
       "      <td>0</td>\n",
       "      <td>3</td>\n",
       "      <td>1521</td>\n",
       "      <td>152.0</td>\n",
       "      <td>92552.0</td>\n",
       "      <td>7919.20</td>\n",
       "      <td>Aurora</td>\n",
       "    </tr>\n",
       "    <tr>\n",
       "      <th>3</th>\n",
       "      <td>2017</td>\n",
       "      <td>1</td>\n",
       "      <td>0</td>\n",
       "      <td>0</td>\n",
       "      <td>0</td>\n",
       "      <td>0</td>\n",
       "      <td>0.0</td>\n",
       "      <td>63253.0</td>\n",
       "      <td>4170.57</td>\n",
       "      <td>Star</td>\n",
       "    </tr>\n",
       "    <tr>\n",
       "      <th>4</th>\n",
       "      <td>2017</td>\n",
       "      <td>1</td>\n",
       "      <td>0</td>\n",
       "      <td>0</td>\n",
       "      <td>0</td>\n",
       "      <td>0</td>\n",
       "      <td>0.0</td>\n",
       "      <td>91163.0</td>\n",
       "      <td>6622.05</td>\n",
       "      <td>Star</td>\n",
       "    </tr>\n",
       "    <tr>\n",
       "      <th>5</th>\n",
       "      <td>2017</td>\n",
       "      <td>1</td>\n",
       "      <td>0</td>\n",
       "      <td>0</td>\n",
       "      <td>0</td>\n",
       "      <td>0</td>\n",
       "      <td>0.0</td>\n",
       "      <td>70323.0</td>\n",
       "      <td>48356.96</td>\n",
       "      <td>Nova</td>\n",
       "    </tr>\n",
       "    <tr>\n",
       "      <th>6</th>\n",
       "      <td>2017</td>\n",
       "      <td>1</td>\n",
       "      <td>0</td>\n",
       "      <td>0</td>\n",
       "      <td>0</td>\n",
       "      <td>0</td>\n",
       "      <td>0.0</td>\n",
       "      <td>76849.0</td>\n",
       "      <td>5143.88</td>\n",
       "      <td>Nova</td>\n",
       "    </tr>\n",
       "  </tbody>\n",
       "</table>\n",
       "</div>"
      ],
      "text/plain": [
       "   year  month  flights_booked  flights_with_companions  total_flights  \\\n",
       "0  2017      1               3                        0              3   \n",
       "3  2017      1               0                        0              0   \n",
       "4  2017      1               0                        0              0   \n",
       "5  2017      1               0                        0              0   \n",
       "6  2017      1               0                        0              0   \n",
       "\n",
       "   distance  points_accumulated   salary       clv loyalty_card  \n",
       "0      1521               152.0  92552.0   7919.20       Aurora  \n",
       "3         0                 0.0  63253.0   4170.57         Star  \n",
       "4         0                 0.0  91163.0   6622.05         Star  \n",
       "5         0                 0.0  70323.0  48356.96         Nova  \n",
       "6         0                 0.0  76849.0   5143.88         Nova  "
      ]
     },
     "execution_count": 13,
     "metadata": {},
     "output_type": "execute_result"
    }
   ],
   "source": [
    "df_dados_limpos.head()"
   ]
  },
  {
   "cell_type": "code",
   "execution_count": 14,
   "id": "102b9276",
   "metadata": {},
   "outputs": [
    {
     "data": {
      "text/html": [
       "<div>\n",
       "<style scoped>\n",
       "    .dataframe tbody tr th:only-of-type {\n",
       "        vertical-align: middle;\n",
       "    }\n",
       "\n",
       "    .dataframe tbody tr th {\n",
       "        vertical-align: top;\n",
       "    }\n",
       "\n",
       "    .dataframe thead th {\n",
       "        text-align: right;\n",
       "    }\n",
       "</style>\n",
       "<table border=\"1\" class=\"dataframe\">\n",
       "  <thead>\n",
       "    <tr style=\"text-align: right;\">\n",
       "      <th></th>\n",
       "      <th>year</th>\n",
       "      <th>month</th>\n",
       "      <th>flights_booked</th>\n",
       "      <th>flights_with_companions</th>\n",
       "      <th>total_flights</th>\n",
       "      <th>distance</th>\n",
       "      <th>points_accumulated</th>\n",
       "      <th>salary</th>\n",
       "      <th>clv</th>\n",
       "    </tr>\n",
       "  </thead>\n",
       "  <tbody>\n",
       "    <tr>\n",
       "      <th>0</th>\n",
       "      <td>2017</td>\n",
       "      <td>1</td>\n",
       "      <td>3</td>\n",
       "      <td>0</td>\n",
       "      <td>3</td>\n",
       "      <td>1521</td>\n",
       "      <td>152.0</td>\n",
       "      <td>92552.0</td>\n",
       "      <td>7919.20</td>\n",
       "    </tr>\n",
       "    <tr>\n",
       "      <th>3</th>\n",
       "      <td>2017</td>\n",
       "      <td>1</td>\n",
       "      <td>0</td>\n",
       "      <td>0</td>\n",
       "      <td>0</td>\n",
       "      <td>0</td>\n",
       "      <td>0.0</td>\n",
       "      <td>63253.0</td>\n",
       "      <td>4170.57</td>\n",
       "    </tr>\n",
       "    <tr>\n",
       "      <th>4</th>\n",
       "      <td>2017</td>\n",
       "      <td>1</td>\n",
       "      <td>0</td>\n",
       "      <td>0</td>\n",
       "      <td>0</td>\n",
       "      <td>0</td>\n",
       "      <td>0.0</td>\n",
       "      <td>91163.0</td>\n",
       "      <td>6622.05</td>\n",
       "    </tr>\n",
       "    <tr>\n",
       "      <th>5</th>\n",
       "      <td>2017</td>\n",
       "      <td>1</td>\n",
       "      <td>0</td>\n",
       "      <td>0</td>\n",
       "      <td>0</td>\n",
       "      <td>0</td>\n",
       "      <td>0.0</td>\n",
       "      <td>70323.0</td>\n",
       "      <td>48356.96</td>\n",
       "    </tr>\n",
       "    <tr>\n",
       "      <th>6</th>\n",
       "      <td>2017</td>\n",
       "      <td>1</td>\n",
       "      <td>0</td>\n",
       "      <td>0</td>\n",
       "      <td>0</td>\n",
       "      <td>0</td>\n",
       "      <td>0.0</td>\n",
       "      <td>76849.0</td>\n",
       "      <td>5143.88</td>\n",
       "    </tr>\n",
       "  </tbody>\n",
       "</table>\n",
       "</div>"
      ],
      "text/plain": [
       "   year  month  flights_booked  flights_with_companions  total_flights  \\\n",
       "0  2017      1               3                        0              3   \n",
       "3  2017      1               0                        0              0   \n",
       "4  2017      1               0                        0              0   \n",
       "5  2017      1               0                        0              0   \n",
       "6  2017      1               0                        0              0   \n",
       "\n",
       "   distance  points_accumulated   salary       clv  \n",
       "0      1521               152.0  92552.0   7919.20  \n",
       "3         0                 0.0  63253.0   4170.57  \n",
       "4         0                 0.0  91163.0   6622.05  \n",
       "5         0                 0.0  70323.0  48356.96  \n",
       "6         0                 0.0  76849.0   5143.88  "
      ]
     },
     "execution_count": 14,
     "metadata": {},
     "output_type": "execute_result"
    }
   ],
   "source": [
    "# selecionando X_atributos\n",
    "X_atributos = df_dados_limpos.drop(columns=\"loyalty_card\")\n",
    "\n",
    "X_atributos.head()"
   ]
  },
  {
   "cell_type": "code",
   "execution_count": 15,
   "id": "de67449e",
   "metadata": {},
   "outputs": [
    {
     "data": {
      "text/plain": [
       "0    Aurora\n",
       "3      Star\n",
       "4      Star\n",
       "5      Nova\n",
       "6      Nova\n",
       "Name: loyalty_card, dtype: object"
      ]
     },
     "execution_count": 15,
     "metadata": {},
     "output_type": "execute_result"
    }
   ],
   "source": [
    "# selecionando y_rotulo\n",
    "y_rotulo = df_dados_limpos.loc[:, \"loyalty_card\"]\n",
    "\n",
    "y_rotulo.head()"
   ]
  },
  {
   "cell_type": "code",
   "execution_count": 16,
   "id": "aa4589aa",
   "metadata": {},
   "outputs": [
    {
     "data": {
      "text/html": [
       "<style>#sk-container-id-1 {color: black;}#sk-container-id-1 pre{padding: 0;}#sk-container-id-1 div.sk-toggleable {background-color: white;}#sk-container-id-1 label.sk-toggleable__label {cursor: pointer;display: block;width: 100%;margin-bottom: 0;padding: 0.3em;box-sizing: border-box;text-align: center;}#sk-container-id-1 label.sk-toggleable__label-arrow:before {content: \"▸\";float: left;margin-right: 0.25em;color: #696969;}#sk-container-id-1 label.sk-toggleable__label-arrow:hover:before {color: black;}#sk-container-id-1 div.sk-estimator:hover label.sk-toggleable__label-arrow:before {color: black;}#sk-container-id-1 div.sk-toggleable__content {max-height: 0;max-width: 0;overflow: hidden;text-align: left;background-color: #f0f8ff;}#sk-container-id-1 div.sk-toggleable__content pre {margin: 0.2em;color: black;border-radius: 0.25em;background-color: #f0f8ff;}#sk-container-id-1 input.sk-toggleable__control:checked~div.sk-toggleable__content {max-height: 200px;max-width: 100%;overflow: auto;}#sk-container-id-1 input.sk-toggleable__control:checked~label.sk-toggleable__label-arrow:before {content: \"▾\";}#sk-container-id-1 div.sk-estimator input.sk-toggleable__control:checked~label.sk-toggleable__label {background-color: #d4ebff;}#sk-container-id-1 div.sk-label input.sk-toggleable__control:checked~label.sk-toggleable__label {background-color: #d4ebff;}#sk-container-id-1 input.sk-hidden--visually {border: 0;clip: rect(1px 1px 1px 1px);clip: rect(1px, 1px, 1px, 1px);height: 1px;margin: -1px;overflow: hidden;padding: 0;position: absolute;width: 1px;}#sk-container-id-1 div.sk-estimator {font-family: monospace;background-color: #f0f8ff;border: 1px dotted black;border-radius: 0.25em;box-sizing: border-box;margin-bottom: 0.5em;}#sk-container-id-1 div.sk-estimator:hover {background-color: #d4ebff;}#sk-container-id-1 div.sk-parallel-item::after {content: \"\";width: 100%;border-bottom: 1px solid gray;flex-grow: 1;}#sk-container-id-1 div.sk-label:hover label.sk-toggleable__label {background-color: #d4ebff;}#sk-container-id-1 div.sk-serial::before {content: \"\";position: absolute;border-left: 1px solid gray;box-sizing: border-box;top: 0;bottom: 0;left: 50%;z-index: 0;}#sk-container-id-1 div.sk-serial {display: flex;flex-direction: column;align-items: center;background-color: white;padding-right: 0.2em;padding-left: 0.2em;position: relative;}#sk-container-id-1 div.sk-item {position: relative;z-index: 1;}#sk-container-id-1 div.sk-parallel {display: flex;align-items: stretch;justify-content: center;background-color: white;position: relative;}#sk-container-id-1 div.sk-item::before, #sk-container-id-1 div.sk-parallel-item::before {content: \"\";position: absolute;border-left: 1px solid gray;box-sizing: border-box;top: 0;bottom: 0;left: 50%;z-index: -1;}#sk-container-id-1 div.sk-parallel-item {display: flex;flex-direction: column;z-index: 1;position: relative;background-color: white;}#sk-container-id-1 div.sk-parallel-item:first-child::after {align-self: flex-end;width: 50%;}#sk-container-id-1 div.sk-parallel-item:last-child::after {align-self: flex-start;width: 50%;}#sk-container-id-1 div.sk-parallel-item:only-child::after {width: 0;}#sk-container-id-1 div.sk-dashed-wrapped {border: 1px dashed gray;margin: 0 0.4em 0.5em 0.4em;box-sizing: border-box;padding-bottom: 0.4em;background-color: white;}#sk-container-id-1 div.sk-label label {font-family: monospace;font-weight: bold;display: inline-block;line-height: 1.2em;}#sk-container-id-1 div.sk-label-container {text-align: center;}#sk-container-id-1 div.sk-container {/* jupyter's `normalize.less` sets `[hidden] { display: none; }` but bootstrap.min.css set `[hidden] { display: none !important; }` so we also need the `!important` here to be able to override the default hidden behavior on the sphinx rendered scikit-learn.org. See: https://github.com/scikit-learn/scikit-learn/issues/21755 */display: inline-block !important;position: relative;}#sk-container-id-1 div.sk-text-repr-fallback {display: none;}</style><div id=\"sk-container-id-1\" class=\"sk-top-container\"><div class=\"sk-text-repr-fallback\"><pre>DecisionTreeClassifier(max_depth=5)</pre><b>In a Jupyter environment, please rerun this cell to show the HTML representation or trust the notebook. <br />On GitHub, the HTML representation is unable to render, please try loading this page with nbviewer.org.</b></div><div class=\"sk-container\" hidden><div class=\"sk-item\"><div class=\"sk-estimator sk-toggleable\"><input class=\"sk-toggleable__control sk-hidden--visually\" id=\"sk-estimator-id-1\" type=\"checkbox\" checked><label for=\"sk-estimator-id-1\" class=\"sk-toggleable__label sk-toggleable__label-arrow\">DecisionTreeClassifier</label><div class=\"sk-toggleable__content\"><pre>DecisionTreeClassifier(max_depth=5)</pre></div></div></div></div></div>"
      ],
      "text/plain": [
       "DecisionTreeClassifier(max_depth=5)"
      ]
     },
     "execution_count": 16,
     "metadata": {},
     "output_type": "execute_result"
    }
   ],
   "source": [
    "from sklearn import tree as tr\n",
    "\n",
    "# defnicao do algoritmo pelo modelo de clasificacao de arvore de decisao com uma profundidade max == 5\n",
    "modelo = tr.DecisionTreeClassifier(max_depth=5)\n",
    "\n",
    "# treinamento do algoritmo\n",
    "modelo.fit(X_atributos, y_rotulo)"
   ]
  },
  {
   "cell_type": "code",
   "execution_count": 17,
   "id": "a9c2a748",
   "metadata": {},
   "outputs": [],
   "source": [
    "modelo_treinado = modelo.fit(X_atributos, y_rotulo)"
   ]
  },
  {
   "cell_type": "code",
   "execution_count": 18,
   "id": "722ff1ea",
   "metadata": {},
   "outputs": [
    {
     "data": {
      "image/png": "[encoded data removed]",
      "text/plain": [
       "<Figure size 640x480 with 1 Axes>"
      ]
     },
     "metadata": {},
     "output_type": "display_data"
    }
   ],
   "source": [
    "tr.plot_tree(modelo_treinado, filled=True);"
   ]
  },
  {
   "cell_type": "markdown",
   "id": "85565fec",
   "metadata": {},
   "source": [
    "# Resultados"
   ]
  },
  {
   "cell_type": "code",
   "execution_count": 19,
   "id": "54f6e81b",
   "metadata": {},
   "outputs": [
    {
     "data": {
      "text/html": [
       "<div>\n",
       "<style scoped>\n",
       "    .dataframe tbody tr th:only-of-type {\n",
       "        vertical-align: middle;\n",
       "    }\n",
       "\n",
       "    .dataframe tbody tr th {\n",
       "        vertical-align: top;\n",
       "    }\n",
       "\n",
       "    .dataframe thead th {\n",
       "        text-align: right;\n",
       "    }\n",
       "</style>\n",
       "<table border=\"1\" class=\"dataframe\">\n",
       "  <thead>\n",
       "    <tr style=\"text-align: right;\">\n",
       "      <th></th>\n",
       "      <th>year</th>\n",
       "      <th>month</th>\n",
       "      <th>flights_booked</th>\n",
       "      <th>flights_with_companions</th>\n",
       "      <th>total_flights</th>\n",
       "      <th>distance</th>\n",
       "      <th>points_accumulated</th>\n",
       "      <th>salary</th>\n",
       "      <th>clv</th>\n",
       "    </tr>\n",
       "  </thead>\n",
       "  <tbody>\n",
       "    <tr>\n",
       "      <th>317730</th>\n",
       "      <td>2018</td>\n",
       "      <td>7</td>\n",
       "      <td>3</td>\n",
       "      <td>0</td>\n",
       "      <td>3</td>\n",
       "      <td>1137</td>\n",
       "      <td>113.0</td>\n",
       "      <td>79329.0</td>\n",
       "      <td>4904.89</td>\n",
       "    </tr>\n",
       "  </tbody>\n",
       "</table>\n",
       "</div>"
      ],
      "text/plain": [
       "        year  month  flights_booked  flights_with_companions  total_flights  \\\n",
       "317730  2018      7               3                        0              3   \n",
       "\n",
       "        distance  points_accumulated   salary      clv  \n",
       "317730      1137               113.0  79329.0  4904.89  "
      ]
     },
     "execution_count": 19,
     "metadata": {},
     "output_type": "execute_result"
    }
   ],
   "source": [
    "# selecionando aleatoriamente um cliente\n",
    "X_cliente = X_atributos.sample()\n",
    "X_cliente"
   ]
  },
  {
   "cell_type": "code",
   "execution_count": 20,
   "id": "e4009d09",
   "metadata": {},
   "outputs": [
    {
     "data": {
      "text/plain": [
       "array([[0.        , 0.54166667, 0.45833333]])"
      ]
     },
     "execution_count": 20,
     "metadata": {},
     "output_type": "execute_result"
    }
   ],
   "source": [
    "# probabilidades\n",
    "previsao = modelo_treinado.predict_proba(X_cliente)\n",
    "previsao"
   ]
  },
  {
   "cell_type": "code",
   "execution_count": 21,
   "id": "d5c18032",
   "metadata": {},
   "outputs": [
    {
     "name": "stdout",
     "output_type": "stream",
     "text": [
      "Probabilidade do cliente X ter o cartão fideldade:\n",
      "\n",
      "- Aurora:0.00%\n",
      "- Nova:54.17%\n",
      "- Star:45.83%\n"
     ]
    }
   ],
   "source": [
    "print(\"Probabilidade do cliente X ter o cartão fideldade:\\n\")\n",
    "print (\"- Aurora:{:.2f}%\\n- Nova:{:.2f}%\\n- Star:{:.2f}%\".format(100*previsao[0][0], 100*previsao[0][1], 100*previsao[0][2] ))"
   ]
  },
  {
   "cell_type": "markdown",
   "id": "e4bdcf11",
   "metadata": {},
   "source": [
    "# Painel de Visualização"
   ]
  },
  {
   "cell_type": "code",
   "execution_count": 22,
   "id": "e030bb0d",
   "metadata": {},
   "outputs": [],
   "source": [
    "import gradio as gr\n",
    "import numpy as np"
   ]
  },
  {
   "cell_type": "code",
   "execution_count": 23,
   "id": "729001c2",
   "metadata": {},
   "outputs": [],
   "source": [
    "def predict(*args):\n",
    "    X_novo = np.array([args]).reshape(1, -1)\n",
    "    previsao = modelo_treinado.predict_proba(X_novo)\n",
    "    \n",
    "    return {\"Aurora\":previsao[0][0], \"Nova\": previsao[0][1], \"Star\": previsao[0][2]}"
   ]
  },
  {
   "cell_type": "code",
   "execution_count": null,
   "id": "d45e47ae",
   "metadata": {},
   "outputs": [
    {
     "name": "stdout",
     "output_type": "stream",
     "text": [
      "Running on local URL:  http://127.0.0.1:7860\n",
      "\n",
      "To create a public link, set `share=True` in `launch()`.\n"
     ]
    },
    {
     "data": {
      "text/html": [
       "<div><iframe src=\"http://127.0.0.1:7860/\" width=\"100%\" height=\"500\" allow=\"autoplay; camera; microphone; clipboard-read; clipboard-write;\" frameborder=\"0\" allowfullscreen></iframe></div>"
      ],
      "text/plain": [
       "<IPython.core.display.HTML object>"
      ]
     },
     "metadata": {},
     "output_type": "display_data"
    }
   ],
   "source": [
    "with gr.Blocks() as demo:\n",
    "  # Titulo do painel\n",
    "    gr.Markdown(\"\"\" # Propensão de Compra\"\"\")\n",
    "    \n",
    "    \n",
    "    with gr.Row():\n",
    "        with gr.Column():\n",
    "            gr.Markdown(\"\"\" # Atributos do Cliente \"\"\")\n",
    "            year = gr.Slider( label=\"year\", minimum=2017, maximum=2018, step=1, randomize=True)\n",
    "            month = gr.Slider( label=\"month\", minimum=1, maximum=12, step=1, randomize=True)\n",
    "            flights_booked = gr.Slider( label=\" flights_booked\", minimum=0, maximum=21, step=1, randomize=True)\n",
    "            flights_with_companions = gr.Slider( label=\"flights_with_companions\", minimum=0, maximum=11, step=1, randomize=True)\n",
    "            total_flights = gr.Slider( label=\"total_flights\", minimum=0, maximum=32, step=1, randomize=True)\n",
    "            distance = gr.Slider( label=\"distance\", minimum=0, maximum=6293, step=1, randomize=True)\n",
    "            points_accumulated = gr.Slider( label=\"points_accumulated\", minimum=0.00, maximum=676.50, step=1, randomize=True)\n",
    "            salary = gr.Slider( label=\"salary\", minimum=58486.00, maximum=407228.00, step=1, randomize=True)\n",
    "            clv = gr.Slider( label=\"clv\", minimum=2119.89, maximum=83325.38, step=1, randomize=True)\n",
    "            \n",
    "            \n",
    "            with gr.Row():\n",
    "                gr.Markdown(\"\"\" # Botão de Previsão \"\"\")\n",
    "                predict_btn = gr.Button (value=\"Previsão\")\n",
    "                \n",
    "        with gr.Column():\n",
    "                gr.Markdown(\"\"\" # Propensão de Compra do Cliente \"\"\")\n",
    "                label = gr.Label()\n",
    "                \n",
    "            \n",
    "    # Botao predict\n",
    "    predict_btn.click(\n",
    "        fn=predict,\n",
    "        inputs=[\n",
    "            year,\n",
    "            month,\n",
    "            flights_booked,\n",
    "            flights_with_companions,\n",
    "            total_flights, \n",
    "            distance, \n",
    "            points_accumulated, \n",
    "            salary,  \n",
    "            clv\n",
    "        ],\n",
    "        outputs=[label])\n",
    "    \n",
    "    \n",
    "demo.launch(debug = True, share = False)"
   ]
  }
 ],
 "metadata": {
  "kernelspec": {
   "display_name": "Python 3 (ipykernel)",
   "language": "python",
   "name": "python3"
  },
  "language_info": {
   "codemirror_mode": {
    "name": "ipython",
    "version": 3
   },
   "file_extension": ".py",
   "mimetype": "text/x-python",
   "name": "python",
   "nbconvert_exporter": "python",
   "pygments_lexer": "ipython3",
   "version": "3.11.5"
  }
 },
 "nbformat": 4,
 "nbformat_minor": 5
}
