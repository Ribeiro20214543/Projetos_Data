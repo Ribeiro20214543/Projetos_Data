{
 "cells": [
  {
   "cell_type": "markdown",
   "id": "5d672092-ffc7-4f89-b74f-eb44ffc0ca07",
   "metadata": {},
   "source": [
    "# Coletando os dados"
   ]
  },
  {
   "cell_type": "code",
   "execution_count": 1,
   "id": "46e40a88-d153-493b-9dcc-4a74868c532c",
   "metadata": {
    "tags": []
   },
   "outputs": [],
   "source": [
    "# abrir a conexao com o banco de dados\n",
    "import sqlite3\n",
    "import pandas as pd"
   ]
  },
  {
   "cell_type": "code",
   "execution_count": 2,
   "id": "9fb7c30b-a4c0-4a36-95b5-a2d8f838fa61",
   "metadata": {
    "tags": []
   },
   "outputs": [],
   "source": [
    "# abrindo a conexão com o banco de dados\n",
    "conn = sqlite3.connect( \"database.db\" )"
   ]
  },
  {
   "cell_type": "code",
   "execution_count": 3,
   "id": "32286878-0931-4cf2-8e11-b7dcd23f0c9b",
   "metadata": {
    "tags": []
   },
   "outputs": [],
   "source": [
    "# coletando os dados\n",
    "consulta_atividade = \"\"\"\n",
    "SELECT *\n",
    "FROM\n",
    "flight_activity fa LEFT JOIN flight_loyalty_history flh\n",
    "ON (fa.loyalty_number = flh.loyalty_number )\n",
    "\"\"\""
   ]
  },
  {
   "cell_type": "code",
   "execution_count": 4,
   "id": "b6d69b7e-dddb-4372-9280-ac776a9f1800",
   "metadata": {
    "tags": []
   },
   "outputs": [],
   "source": [
    "# executando a consulta\n",
    "df_atividade = pd.read_sql_query( consulta_atividade, conn )"
   ]
  },
  {
   "cell_type": "markdown",
   "id": "6b058511-8db1-4638-b5d0-bd050e2796ca",
   "metadata": {},
   "source": [
    "# Inspecionando a planilha de dados"
   ]
  },
  {
   "cell_type": "code",
   "execution_count": 5,
   "id": "f90b51ce-05df-48d9-96e6-aa27fe7fbaca",
   "metadata": {
    "tags": []
   },
   "outputs": [
    {
     "name": "stdout",
     "output_type": "stream",
     "text": [
      "O numero de linhas eh: 405624\n"
     ]
    }
   ],
   "source": [
    "# verificando a quantidade de linhas\n",
    "numero_linhas = df_atividade.shape[0]\n",
    "print( 'O numero de linhas eh:', numero_linhas )"
   ]
  },
  {
   "cell_type": "code",
   "execution_count": 6,
   "id": "1173ccba-ee6e-492e-a771-48bb7ca2010f",
   "metadata": {
    "tags": []
   },
   "outputs": [
    {
     "name": "stdout",
     "output_type": "stream",
     "text": [
      "O numero de linhas eh: 405624\n"
     ]
    }
   ],
   "source": [
    "# verificando a quantidade de colunas\n",
    "numero_colunas = df_atividade.shape[1]\n",
    "print( 'O numero de linhas eh:', numero_linhas )"
   ]
  },
  {
   "cell_type": "code",
   "execution_count": 7,
   "id": "df64a5bf-3602-4ae0-9ad7-a8ca94cd23eb",
   "metadata": {
    "tags": []
   },
   "outputs": [
    {
     "name": "stdout",
     "output_type": "stream",
     "text": [
      "<class 'pandas.core.frame.DataFrame'>\n",
      "RangeIndex: 405624 entries, 0 to 405623\n",
      "Data columns (total 26 columns):\n",
      " #   Column                       Non-Null Count   Dtype  \n",
      "---  ------                       --------------   -----  \n",
      " 0   loyalty_number               405624 non-null  int64  \n",
      " 1   year                         405624 non-null  int64  \n",
      " 2   month                        405624 non-null  int64  \n",
      " 3   flights_booked               405624 non-null  int64  \n",
      " 4   flights_with_companions      405624 non-null  int64  \n",
      " 5   total_flights                405624 non-null  int64  \n",
      " 6   distance                     405624 non-null  int64  \n",
      " 7   points_accumulated           405624 non-null  float64\n",
      " 8   points_redeemed              405624 non-null  int64  \n",
      " 9   dollar_cost_points_redeemed  405624 non-null  int64  \n",
      " 10  loyalty_number               405624 non-null  int64  \n",
      " 11  country                      405624 non-null  object \n",
      " 12  province                     405624 non-null  object \n",
      " 13  city                         405624 non-null  object \n",
      " 14  postal_code                  405624 non-null  object \n",
      " 15  gender                       405624 non-null  object \n",
      " 16  education                    405624 non-null  object \n",
      " 17  salary                       302952 non-null  float64\n",
      " 18  marital_status               405624 non-null  object \n",
      " 19  loyalty_card                 405624 non-null  object \n",
      " 20  clv                          405624 non-null  float64\n",
      " 21  enrollment_type              405624 non-null  object \n",
      " 22  enrollment_year              405624 non-null  int64  \n",
      " 23  enrollment_month             405624 non-null  int64  \n",
      " 24  cancellation_year            50064 non-null   float64\n",
      " 25  cancellation_month           50064 non-null   float64\n",
      "dtypes: float64(5), int64(12), object(9)\n",
      "memory usage: 80.5+ MB\n"
     ]
    }
   ],
   "source": [
    "# descobrindo as informacoes gerais sobre a planilha de dados\n",
    "df_atividade.info()"
   ]
  },
  {
   "cell_type": "code",
   "execution_count": 8,
   "id": "1a093771-e02b-435a-9a6f-2f550f4a7acd",
   "metadata": {
    "tags": []
   },
   "outputs": [
    {
     "data": {
      "text/plain": [
       "2087689"
      ]
     },
     "execution_count": 8,
     "metadata": {},
     "output_type": "execute_result"
    }
   ],
   "source": [
    "# Somar a colunas \"total_flights\"\n",
    "df_atividade.loc[:, 'total_flights'].sum()"
   ]
  },
  {
   "cell_type": "code",
   "execution_count": 9,
   "id": "38acd492-e1d3-4fd0-aa55-aa396f59b694",
   "metadata": {
    "tags": []
   },
   "outputs": [
    {
     "data": {
      "text/plain": [
       "1208.880058872256"
      ]
     },
     "execution_count": 9,
     "metadata": {},
     "output_type": "execute_result"
    }
   ],
   "source": [
    "# Somar a colunas \"distance\"\n",
    "df_atividade.loc[:, 'distance'].mean()"
   ]
  },
  {
   "cell_type": "code",
   "execution_count": 10,
   "id": "d67ac891-3039-4350-9bdf-3c3d0553993f",
   "metadata": {
    "tags": []
   },
   "outputs": [
    {
     "data": {
      "text/plain": [
       "0"
      ]
     },
     "execution_count": 10,
     "metadata": {},
     "output_type": "execute_result"
    }
   ],
   "source": [
    "# Valor mínimo de salário\n",
    "df_atividade.loc[:, 'distance'].min()"
   ]
  },
  {
   "cell_type": "code",
   "execution_count": 11,
   "id": "7f1c3295-15d1-4d89-b94e-d26cfbe8afff",
   "metadata": {
    "tags": []
   },
   "outputs": [
    {
     "data": {
      "text/plain": [
       "6293"
      ]
     },
     "execution_count": 11,
     "metadata": {},
     "output_type": "execute_result"
    }
   ],
   "source": [
    "# Valor máximo de salário\n",
    "df_atividade.loc[:, 'distance'].max()"
   ]
  },
  {
   "cell_type": "code",
   "execution_count": 12,
   "id": "3d384c90-5e48-466f-9383-9ab6796abe72",
   "metadata": {
    "tags": []
   },
   "outputs": [
    {
     "data": {
      "text/plain": [
       "loyalty_number                      0\n",
       "year                                0\n",
       "month                               0\n",
       "flights_booked                      0\n",
       "flights_with_companions             0\n",
       "total_flights                       0\n",
       "distance                            0\n",
       "points_accumulated                  0\n",
       "points_redeemed                     0\n",
       "dollar_cost_points_redeemed         0\n",
       "loyalty_number                      0\n",
       "country                             0\n",
       "province                            0\n",
       "city                                0\n",
       "postal_code                         0\n",
       "gender                              0\n",
       "education                           0\n",
       "salary                         102672\n",
       "marital_status                      0\n",
       "loyalty_card                        0\n",
       "clv                                 0\n",
       "enrollment_type                     0\n",
       "enrollment_year                     0\n",
       "enrollment_month                    0\n",
       "cancellation_year              355560\n",
       "cancellation_month             355560\n",
       "dtype: int64"
      ]
     },
     "execution_count": 12,
     "metadata": {},
     "output_type": "execute_result"
    }
   ],
   "source": [
    "# checando o número de dados faltante nas colunas\n",
    "df_atividade.isna().sum()"
   ]
  },
  {
   "cell_type": "markdown",
   "id": "1f76ce16-1973-4040-bb9a-72ae41c4dcd0",
   "metadata": {},
   "source": [
    "#### Qual o valor da soma total da distância percorrida pelos voos registrados na planilha de dados?"
   ]
  },
  {
   "cell_type": "code",
   "execution_count": 13,
   "id": "5e2c5a11-07ca-4e92-bc8a-6ab30acbc213",
   "metadata": {
    "tags": []
   },
   "outputs": [
    {
     "data": {
      "text/plain": [
       "490350765"
      ]
     },
     "execution_count": 13,
     "metadata": {},
     "output_type": "execute_result"
    }
   ],
   "source": [
    "# Somar a colunas \"distance\"\n",
    "df_atividade.loc[:, \"distance\"].sum()"
   ]
  },
  {
   "cell_type": "markdown",
   "id": "88af3c91-64eb-4190-997d-cd88aa049326",
   "metadata": {
    "tags": []
   },
   "source": [
    "#### Qual o salário médio dos passageiros?"
   ]
  },
  {
   "cell_type": "code",
   "execution_count": 14,
   "id": "e6ec3cc6-b64d-421e-8acb-99ce744c28cf",
   "metadata": {},
   "outputs": [
    {
     "data": {
      "text/plain": [
       "79268.82595262615"
      ]
     },
     "execution_count": 14,
     "metadata": {},
     "output_type": "execute_result"
    }
   ],
   "source": [
    "# Somar a colunas \"distance\"\n",
    "df_atividade.loc[:, 'salary'].mean()"
   ]
  },
  {
   "cell_type": "markdown",
   "id": "7164b86b-c5ed-4e98-acd6-625469bb8069",
   "metadata": {},
   "source": [
    "#### Qual o valor total de pontos acumulados?"
   ]
  },
  {
   "cell_type": "code",
   "execution_count": 15,
   "id": "8863a400-d4e1-46e4-9528-a448d133d668",
   "metadata": {},
   "outputs": [
    {
     "data": {
      "text/plain": [
       "50172736.25"
      ]
     },
     "execution_count": 15,
     "metadata": {},
     "output_type": "execute_result"
    }
   ],
   "source": [
    "# Somar a colunas \"distance\"\n",
    "df_atividade.loc[:, 'points_accumulated'].sum()"
   ]
  },
  {
   "cell_type": "markdown",
   "id": "d653c397-2d26-4808-9b6d-2e7e74f3d52c",
   "metadata": {},
   "source": [
    "## Seleção de linhas e colunas"
   ]
  },
  {
   "cell_type": "code",
   "execution_count": 16,
   "id": "2fe565e0-b0c0-46ad-84a1-ec1e61592d3f",
   "metadata": {},
   "outputs": [
    {
     "data": {
      "text/html": [
       "<div>\n",
       "<style scoped>\n",
       "    .dataframe tbody tr th:only-of-type {\n",
       "        vertical-align: middle;\n",
       "    }\n",
       "\n",
       "    .dataframe tbody tr th {\n",
       "        vertical-align: top;\n",
       "    }\n",
       "\n",
       "    .dataframe thead th {\n",
       "        text-align: right;\n",
       "    }\n",
       "</style>\n",
       "<table border=\"1\" class=\"dataframe\">\n",
       "  <thead>\n",
       "    <tr style=\"text-align: right;\">\n",
       "      <th></th>\n",
       "      <th>loyalty_number</th>\n",
       "      <th>city</th>\n",
       "      <th>gender</th>\n",
       "      <th>loyalty_card</th>\n",
       "    </tr>\n",
       "  </thead>\n",
       "  <tbody>\n",
       "    <tr>\n",
       "      <th>0</th>\n",
       "      <td>480934</td>\n",
       "      <td>Toronto</td>\n",
       "      <td>Female</td>\n",
       "      <td>Star</td>\n",
       "    </tr>\n",
       "    <tr>\n",
       "      <th>1</th>\n",
       "      <td>480934</td>\n",
       "      <td>Toronto</td>\n",
       "      <td>Female</td>\n",
       "      <td>Star</td>\n",
       "    </tr>\n",
       "    <tr>\n",
       "      <th>2</th>\n",
       "      <td>480934</td>\n",
       "      <td>Toronto</td>\n",
       "      <td>Female</td>\n",
       "      <td>Star</td>\n",
       "    </tr>\n",
       "    <tr>\n",
       "      <th>3</th>\n",
       "      <td>480934</td>\n",
       "      <td>Toronto</td>\n",
       "      <td>Female</td>\n",
       "      <td>Star</td>\n",
       "    </tr>\n",
       "    <tr>\n",
       "      <th>4</th>\n",
       "      <td>549612</td>\n",
       "      <td>Edmonton</td>\n",
       "      <td>Male</td>\n",
       "      <td>Star</td>\n",
       "    </tr>\n",
       "  </tbody>\n",
       "</table>\n",
       "</div>"
      ],
      "text/plain": [
       "   loyalty_number      city  gender loyalty_card\n",
       "0          480934   Toronto  Female         Star\n",
       "1          480934   Toronto  Female         Star\n",
       "2          480934   Toronto  Female         Star\n",
       "3          480934   Toronto  Female         Star\n",
       "4          549612  Edmonton    Male         Star"
      ]
     },
     "execution_count": 16,
     "metadata": {},
     "output_type": "execute_result"
    }
   ],
   "source": [
    "# Selecionar os números do cartão de fidelidade dos passeiros, a cidade e o gênero, dos passageiros que tem o\n",
    "# cartão Star de fidelidade, mas nunca realizaram nenhuma viagem de avião ( Atenção: “loyalty_card” = “Star” e\n",
    "# “distance” = 0 )\n",
    "\n",
    "consulta_atividade = \"\"\"\n",
    "SELECT\n",
    "    fa.loyalty_number,\n",
    "    flh.city,\n",
    "    flh.gender,\n",
    "    flh.loyalty_card\n",
    "FROM\n",
    "    flight_activity fa LEFT JOIN flight_loyalty_history flh\n",
    "    ON (fa.loyalty_number = flh.loyalty_number)\n",
    "WHERE\n",
    "    fa.distance = 0 AND flh.loyalty_card = \"Star\"\n",
    "\"\"\"\n",
    "df_atividade = pd.read_sql_query(consulta_atividade, conn)\n",
    "\n",
    "df_atividade.head()"
   ]
  },
  {
   "cell_type": "code",
   "execution_count": 17,
   "id": "058b49c3-c061-479c-bac8-75b4ea6921d5",
   "metadata": {},
   "outputs": [
    {
     "data": {
      "text/html": [
       "<div>\n",
       "<style scoped>\n",
       "    .dataframe tbody tr th:only-of-type {\n",
       "        vertical-align: middle;\n",
       "    }\n",
       "\n",
       "    .dataframe tbody tr th {\n",
       "        vertical-align: top;\n",
       "    }\n",
       "\n",
       "    .dataframe thead th {\n",
       "        text-align: right;\n",
       "    }\n",
       "</style>\n",
       "<table border=\"1\" class=\"dataframe\">\n",
       "  <thead>\n",
       "    <tr style=\"text-align: right;\">\n",
       "      <th></th>\n",
       "      <th>loyalty_number</th>\n",
       "      <th>total_flights</th>\n",
       "      <th>city</th>\n",
       "      <th>gender</th>\n",
       "      <th>loyalty_card</th>\n",
       "    </tr>\n",
       "  </thead>\n",
       "  <tbody>\n",
       "    <tr>\n",
       "      <th>0</th>\n",
       "      <td>896861</td>\n",
       "      <td>30</td>\n",
       "      <td>Toronto</td>\n",
       "      <td>Female</td>\n",
       "      <td>Aurora</td>\n",
       "    </tr>\n",
       "    <tr>\n",
       "      <th>1</th>\n",
       "      <td>442792</td>\n",
       "      <td>30</td>\n",
       "      <td>Toronto</td>\n",
       "      <td>Female</td>\n",
       "      <td>Aurora</td>\n",
       "    </tr>\n",
       "    <tr>\n",
       "      <th>2</th>\n",
       "      <td>856496</td>\n",
       "      <td>30</td>\n",
       "      <td>Toronto</td>\n",
       "      <td>Female</td>\n",
       "      <td>Aurora</td>\n",
       "    </tr>\n",
       "    <tr>\n",
       "      <th>3</th>\n",
       "      <td>615411</td>\n",
       "      <td>30</td>\n",
       "      <td>Toronto</td>\n",
       "      <td>Female</td>\n",
       "      <td>Aurora</td>\n",
       "    </tr>\n",
       "  </tbody>\n",
       "</table>\n",
       "</div>"
      ],
      "text/plain": [
       "   loyalty_number  total_flights     city  gender loyalty_card\n",
       "0          896861             30  Toronto  Female       Aurora\n",
       "1          442792             30  Toronto  Female       Aurora\n",
       "2          856496             30  Toronto  Female       Aurora\n",
       "3          615411             30  Toronto  Female       Aurora"
      ]
     },
     "execution_count": 17,
     "metadata": {},
     "output_type": "execute_result"
    }
   ],
   "source": [
    "# Selecionar os números do cartão de fidelidade, o gênero e a cidade de todos os passageiros do sexo feminino que\n",
    "# moram na cidade de Toronto, fizeram mais de 30 viagens no total e tem o cartão de fidelidade do tipo Aurora.\n",
    "\n",
    "consulta_atividade = \"\"\"\n",
    "SELECT\n",
    "    fa.loyalty_number,\n",
    "    fa.total_flights,\n",
    "    flh.city,\n",
    "    flh.gender,\n",
    "    flh.loyalty_card\n",
    "FROM \n",
    "    flight_activity fa LEFT JOIN flight_loyalty_history flh\n",
    "    ON (fa.loyalty_number = flh.loyalty_number)\n",
    "WHERE\n",
    "    flh.gender = \"Female\"\n",
    "    AND flh.city = \"Toronto\"\n",
    "    AND fa.total_flights = 30\n",
    "    AND flh.loyalty_card = \"Aurora\"\n",
    "    \"\"\"\n",
    "df_atividade = pd.read_sql_query(consulta_atividade, conn)\n",
    "\n",
    "df_atividade.head()"
   ]
  },
  {
   "cell_type": "code",
   "execution_count": 18,
   "id": "3df0f92f-0a30-434a-bcb3-50133196f874",
   "metadata": {},
   "outputs": [
    {
     "data": {
      "text/html": [
       "<div>\n",
       "<style scoped>\n",
       "    .dataframe tbody tr th:only-of-type {\n",
       "        vertical-align: middle;\n",
       "    }\n",
       "\n",
       "    .dataframe tbody tr th {\n",
       "        vertical-align: top;\n",
       "    }\n",
       "\n",
       "    .dataframe thead th {\n",
       "        text-align: right;\n",
       "    }\n",
       "</style>\n",
       "<table border=\"1\" class=\"dataframe\">\n",
       "  <thead>\n",
       "    <tr style=\"text-align: right;\">\n",
       "      <th></th>\n",
       "      <th>loyalty_number</th>\n",
       "      <th>loyalty_card</th>\n",
       "      <th>gender</th>\n",
       "      <th>points_accumulated</th>\n",
       "    </tr>\n",
       "  </thead>\n",
       "  <tbody>\n",
       "    <tr>\n",
       "      <th>0</th>\n",
       "      <td>410982</td>\n",
       "      <td>Star</td>\n",
       "      <td>Male</td>\n",
       "      <td>0.0</td>\n",
       "    </tr>\n",
       "    <tr>\n",
       "      <th>1</th>\n",
       "      <td>410982</td>\n",
       "      <td>Star</td>\n",
       "      <td>Male</td>\n",
       "      <td>0.0</td>\n",
       "    </tr>\n",
       "    <tr>\n",
       "      <th>2</th>\n",
       "      <td>410982</td>\n",
       "      <td>Star</td>\n",
       "      <td>Male</td>\n",
       "      <td>0.0</td>\n",
       "    </tr>\n",
       "    <tr>\n",
       "      <th>3</th>\n",
       "      <td>410982</td>\n",
       "      <td>Star</td>\n",
       "      <td>Male</td>\n",
       "      <td>0.0</td>\n",
       "    </tr>\n",
       "    <tr>\n",
       "      <th>4</th>\n",
       "      <td>410982</td>\n",
       "      <td>Star</td>\n",
       "      <td>Male</td>\n",
       "      <td>0.0</td>\n",
       "    </tr>\n",
       "  </tbody>\n",
       "</table>\n",
       "</div>"
      ],
      "text/plain": [
       "   loyalty_number loyalty_card gender  points_accumulated\n",
       "0          410982         Star   Male                 0.0\n",
       "1          410982         Star   Male                 0.0\n",
       "2          410982         Star   Male                 0.0\n",
       "3          410982         Star   Male                 0.0\n",
       "4          410982         Star   Male                 0.0"
      ]
     },
     "execution_count": 18,
     "metadata": {},
     "output_type": "execute_result"
    }
   ],
   "source": [
    "# Selecionar os números do cartão de fidelidade, o tipo do cartão, o genero e os pontos acumulados, dos passageiros\n",
    "# com salário acima de 13200, estado civil como casado e nível acadêmico como mestrado e número de voos\n",
    "# agendados igual ao número total de voos.\n",
    "\n",
    "consulta_atividade = \"\"\"\n",
    "SELECT\n",
    "    fa.loyalty_number,\n",
    "    flh.loyalty_card,\n",
    "    flh.gender,\n",
    "    fa.points_accumulated\n",
    "FROM\n",
    "    flight_activity fa LEFT JOIN flight_loyalty_history flh\n",
    "    ON(fa.loyalty_number = flh.loyalty_number)\n",
    "WHERE\n",
    "    flh.salary > 132000\n",
    "    AND flh.marital_status = \"Married\"\n",
    "    AND flh.education = \"Master\"\n",
    "    AND ( fa.total_flights = fa.flights_booked )\n",
    "\"\"\"\n",
    "df_atividade = pd.read_sql_query(consulta_atividade, conn)\n",
    "\n",
    "df_atividade.head()"
   ]
  },
  {
   "cell_type": "code",
   "execution_count": 19,
   "id": "8e765d05-b31c-4254-9744-d4c2d60dd962",
   "metadata": {},
   "outputs": [
    {
     "data": {
      "text/html": [
       "<div>\n",
       "<style scoped>\n",
       "    .dataframe tbody tr th:only-of-type {\n",
       "        vertical-align: middle;\n",
       "    }\n",
       "\n",
       "    .dataframe tbody tr th {\n",
       "        vertical-align: top;\n",
       "    }\n",
       "\n",
       "    .dataframe thead th {\n",
       "        text-align: right;\n",
       "    }\n",
       "</style>\n",
       "<table border=\"1\" class=\"dataframe\">\n",
       "  <thead>\n",
       "    <tr style=\"text-align: right;\">\n",
       "      <th></th>\n",
       "      <th>loyalty_number</th>\n",
       "      <th>loyalty_card</th>\n",
       "      <th>gender</th>\n",
       "      <th>points_accumulated</th>\n",
       "    </tr>\n",
       "  </thead>\n",
       "  <tbody>\n",
       "    <tr>\n",
       "      <th>0</th>\n",
       "      <td>410982</td>\n",
       "      <td>Star</td>\n",
       "      <td>Male</td>\n",
       "      <td>0.0</td>\n",
       "    </tr>\n",
       "    <tr>\n",
       "      <th>1</th>\n",
       "      <td>410982</td>\n",
       "      <td>Star</td>\n",
       "      <td>Male</td>\n",
       "      <td>0.0</td>\n",
       "    </tr>\n",
       "    <tr>\n",
       "      <th>2</th>\n",
       "      <td>410982</td>\n",
       "      <td>Star</td>\n",
       "      <td>Male</td>\n",
       "      <td>0.0</td>\n",
       "    </tr>\n",
       "    <tr>\n",
       "      <th>3</th>\n",
       "      <td>410982</td>\n",
       "      <td>Star</td>\n",
       "      <td>Male</td>\n",
       "      <td>0.0</td>\n",
       "    </tr>\n",
       "    <tr>\n",
       "      <th>4</th>\n",
       "      <td>410982</td>\n",
       "      <td>Star</td>\n",
       "      <td>Male</td>\n",
       "      <td>0.0</td>\n",
       "    </tr>\n",
       "  </tbody>\n",
       "</table>\n",
       "</div>"
      ],
      "text/plain": [
       "   loyalty_number loyalty_card gender  points_accumulated\n",
       "0          410982         Star   Male                 0.0\n",
       "1          410982         Star   Male                 0.0\n",
       "2          410982         Star   Male                 0.0\n",
       "3          410982         Star   Male                 0.0\n",
       "4          410982         Star   Male                 0.0"
      ]
     },
     "execution_count": 19,
     "metadata": {},
     "output_type": "execute_result"
    }
   ],
   "source": [
    "# Selecionar os números do cartão de fidelidade, o tipo do cartão, o genero e os pontos acumulados, dos passageiros\n",
    "# com salário acima de 13200, estado civil como casado e nível acadêmico como mestrado e número de voos\n",
    "# agendados igual ao número total de voos.\n",
    "\n",
    "consulta_atividade = \"\"\"\n",
    "SELECT\n",
    "    fa.loyalty_number,\n",
    "    flh.loyalty_card,\n",
    "    flh.gender,\n",
    "    fa.points_accumulated\n",
    "FROM\n",
    "    flight_activity fa LEFT JOIN flight_loyalty_history flh\n",
    "    ON ( fa.loyalty_number = flh.loyalty_number )\n",
    "WHERE\n",
    "    flh.salary > 132000\n",
    "    AND flh.marital_status = \"Married\"\n",
    "    AND flh.education = \"Master\"\n",
    "    AND ( fa.total_flights = fa.flights_booked )\n",
    "    \"\"\"\n",
    "df_atividade = pd.read_sql_query(consulta_atividade, conn)\n",
    "\n",
    "df_atividade.head()"
   ]
  },
  {
   "cell_type": "code",
   "execution_count": 20,
   "id": "73dfacb7-4a90-46fb-904d-53ed4f6062a9",
   "metadata": {},
   "outputs": [],
   "source": [
    "# fecha a conexao com o banco de dados\n",
    "conn.close()"
   ]
  }
 ],
 "metadata": {
  "kernelspec": {
   "display_name": "Python 3 (ipykernel)",
   "language": "python",
   "name": "python3"
  },
  "language_info": {
   "codemirror_mode": {
    "name": "ipython",
    "version": 3
   },
   "file_extension": ".py",
   "mimetype": "text/x-python",
   "name": "python",
   "nbconvert_exporter": "python",
   "pygments_lexer": "ipython3",
   "version": "3.11.5"
  }
 },
 "nbformat": 4,
 "nbformat_minor": 5
}
