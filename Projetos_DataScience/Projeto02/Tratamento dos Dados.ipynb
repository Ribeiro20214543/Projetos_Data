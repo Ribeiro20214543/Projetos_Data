{
 "cells": [
  {
   "cell_type": "code",
   "execution_count": 1,
   "id": "95a14147",
   "metadata": {},
   "outputs": [],
   "source": [
    "import pandas as pd\n",
    "import numpy as np"
   ]
  },
  {
   "cell_type": "code",
   "execution_count": 2,
   "id": "ed4ca6be",
   "metadata": {},
   "outputs": [],
   "source": [
    "# abre os arquivos\n",
    "\n",
    "df_test = pd.read_csv('cars_test.csv', sep = '\\t', encoding='utf-16')\n",
    "df_train = pd.read_csv('cars_train.csv', sep = '\\t', encoding='utf-16')"
   ]
  },
  {
   "cell_type": "code",
   "execution_count": 3,
   "id": "cda3144d",
   "metadata": {},
   "outputs": [
    {
     "name": "stdout",
     "output_type": "stream",
     "text": [
      "<class 'pandas.core.frame.DataFrame'>\n",
      "RangeIndex: 29584 entries, 0 to 29583\n",
      "Data columns (total 29 columns):\n",
      " #   Column                   Non-Null Count  Dtype  \n",
      "---  ------                   --------------  -----  \n",
      " 0   id                       29584 non-null  object \n",
      " 1   num_fotos                29407 non-null  float64\n",
      " 2   marca                    29584 non-null  object \n",
      " 3   modelo                   29584 non-null  object \n",
      " 4   versao                   29584 non-null  object \n",
      " 5   ano_de_fabricacao        29584 non-null  int64  \n",
      " 6   ano_modelo               29584 non-null  float64\n",
      " 7   hodometro                29584 non-null  float64\n",
      " 8   cambio                   29584 non-null  object \n",
      " 9   num_portas               29584 non-null  int64  \n",
      " 10  tipo                     29584 non-null  object \n",
      " 11  blindado                 29584 non-null  object \n",
      " 12  cor                      29584 non-null  object \n",
      " 13  tipo_vendedor            29584 non-null  object \n",
      " 14  cidade_vendedor          29584 non-null  object \n",
      " 15  estado_vendedor          29584 non-null  object \n",
      " 16  anunciante               29584 non-null  object \n",
      " 17  entrega_delivery         29584 non-null  bool   \n",
      " 18  troca                    29584 non-null  bool   \n",
      " 19  elegivel_revisao         29584 non-null  bool   \n",
      " 20  dono_aceita_troca        21922 non-null  object \n",
      " 21  veiculo_único_dono       10423 non-null  object \n",
      " 22  revisoes_concessionaria  9172 non-null   object \n",
      " 23  ipva_pago                19659 non-null  object \n",
      " 24  veiculo_licenciado       15906 non-null  object \n",
      " 25  garantia_de_fábrica      4365 non-null   object \n",
      " 26  revisoes_dentro_agenda   5910 non-null   object \n",
      " 27  veiculo_alienado         0 non-null      float64\n",
      " 28  preco                    29584 non-null  object \n",
      "dtypes: bool(3), float64(4), int64(2), object(20)\n",
      "memory usage: 6.0+ MB\n"
     ]
    }
   ],
   "source": [
    "df_train.info()"
   ]
  },
  {
   "cell_type": "code",
   "execution_count": 4,
   "id": "69f296ea",
   "metadata": {},
   "outputs": [
    {
     "name": "stdout",
     "output_type": "stream",
     "text": [
      "<class 'pandas.core.frame.DataFrame'>\n",
      "RangeIndex: 9862 entries, 0 to 9861\n",
      "Data columns (total 28 columns):\n",
      " #   Column                   Non-Null Count  Dtype  \n",
      "---  ------                   --------------  -----  \n",
      " 0   id                       9862 non-null   object \n",
      " 1   num_fotos                9802 non-null   float64\n",
      " 2   marca                    9862 non-null   object \n",
      " 3   modelo                   9862 non-null   object \n",
      " 4   versao                   9862 non-null   object \n",
      " 5   ano_de_fabricacao        9862 non-null   int64  \n",
      " 6   ano_modelo               9862 non-null   float64\n",
      " 7   hodometro                9862 non-null   float64\n",
      " 8   cambio                   9862 non-null   object \n",
      " 9   num_portas               9862 non-null   int64  \n",
      " 10  tipo                     9862 non-null   object \n",
      " 11  blindado                 9862 non-null   object \n",
      " 12  cor                      9862 non-null   object \n",
      " 13  tipo_vendedor            9862 non-null   object \n",
      " 14  cidade_vendedor          9862 non-null   object \n",
      " 15  estado_vendedor          9862 non-null   object \n",
      " 16  anunciante               9862 non-null   object \n",
      " 17  entrega_delivery         9862 non-null   bool   \n",
      " 18  troca                    9862 non-null   bool   \n",
      " 19  elegivel_revisao         9862 non-null   bool   \n",
      " 20  dono_aceita_troca        7308 non-null   object \n",
      " 21  veiculo_único_dono       3475 non-null   object \n",
      " 22  revisoes_concessionaria  3067 non-null   object \n",
      " 23  ipva_pago                6564 non-null   object \n",
      " 24  veiculo_licenciado       5344 non-null   object \n",
      " 25  garantia_de_fábrica      1423 non-null   object \n",
      " 26  revisoes_dentro_agenda   1993 non-null   object \n",
      " 27  veiculo_alienado         0 non-null      float64\n",
      "dtypes: bool(3), float64(4), int64(2), object(19)\n",
      "memory usage: 1.9+ MB\n"
     ]
    }
   ],
   "source": [
    "df_test.info()"
   ]
  },
  {
   "cell_type": "markdown",
   "id": "ae7cb7f4",
   "metadata": {},
   "source": [
    "**OBS**: Os tipos de dados **object** são dados que, ás vezes, o python não identificou e que foram alocados utilizando muito espaço da memória, isto não é um problema quando o dataset e pequeno, mas quando se trata de big data, isso trará muito lentidão no processamento e exigirá muita memória ram. \n",
    "\n",
    "O tratamento é fazer a otimização de dados. Uma estratégia é converter o tipo de dado para um formato mais otimizado e mais adequado para o dado, como por exemplo de objeto para categórico."
   ]
  },
  {
   "cell_type": "code",
   "execution_count": 5,
   "id": "291c6979",
   "metadata": {},
   "outputs": [],
   "source": [
    "# analise de uso de memoria com parametro dee=True\n",
    "memory = df_train.memory_usage(deep=True)"
   ]
  },
  {
   "cell_type": "code",
   "execution_count": 6,
   "id": "e70d27af",
   "metadata": {},
   "outputs": [
    {
     "data": {
      "text/plain": [
       "Index                          132\n",
       "id                         2830491\n",
       "num_fotos                   236672\n",
       "marca                      1892496\n",
       "modelo                     1852478\n",
       "versao                     3237947\n",
       "ano_de_fabricacao           236672\n",
       "ano_modelo                  236672\n",
       "hodometro                   236672\n",
       "cambio                     2493368\n",
       "num_portas                  236672\n",
       "tipo                       2366871\n",
       "blindado                   1715872\n",
       "cor                        1855164\n",
       "tipo_vendedor              1745456\n",
       "cidade_vendedor            2319907\n",
       "estado_vendedor            2609934\n",
       "anunciante                 2456667\n",
       "entrega_delivery             29584\n",
       "troca                        29584\n",
       "elegivel_revisao             29584\n",
       "dono_aceita_troca          1757802\n",
       "veiculo_único_dono         1561645\n",
       "revisoes_concessionaria    1799684\n",
       "ipva_pago                  1615094\n",
       "veiculo_licenciado         1503398\n",
       "garantia_de_fábrica        1243508\n",
       "revisoes_dentro_agenda     1502228\n",
       "veiculo_alienado            236672\n",
       "preco                      2314399\n",
       "dtype: int64"
      ]
     },
     "execution_count": 6,
     "metadata": {},
     "output_type": "execute_result"
    }
   ],
   "source": [
    "memory"
   ]
  },
  {
   "cell_type": "code",
   "execution_count": 7,
   "id": "f07117ba",
   "metadata": {},
   "outputs": [
    {
     "data": {
      "text/plain": [
       "40.229153633117676"
      ]
     },
     "execution_count": 7,
     "metadata": {},
     "output_type": "execute_result"
    }
   ],
   "source": [
    "# convertendo o resultado da memoria de bytes para gigabytes\n",
    "memory.sum()/(1024 ** 3)"
   ]
  },
  {
   "cell_type": "code",
   "execution_count": 8,
   "id": "0434a8c2",
   "metadata": {},
   "outputs": [
    {
     "data": {
      "text/plain": [
       "Index                      0.000313\n",
       "id                         6.709976\n",
       "num_fotos                  0.561056\n",
       "marca                      4.486360\n",
       "modelo                     4.391494\n",
       "versao                     7.675893\n",
       "ano_de_fabricacao          0.561056\n",
       "ano_modelo                 0.561056\n",
       "hodometro                  0.561056\n",
       "cambio                     5.910791\n",
       "num_portas                 0.561056\n",
       "tipo                       5.610916\n",
       "blindado                   4.067655\n",
       "cor                        4.397861\n",
       "tipo_vendedor              4.137787\n",
       "cidade_vendedor            5.499583\n",
       "estado_vendedor            6.187123\n",
       "anunciante                 5.823787\n",
       "entrega_delivery           0.070132\n",
       "troca                      0.070132\n",
       "elegivel_revisao           0.070132\n",
       "dono_aceita_troca          4.167054\n",
       "veiculo_único_dono         3.702043\n",
       "revisoes_concessionaria    4.266340\n",
       "ipva_pago                  3.828750\n",
       "veiculo_licenciado         3.563963\n",
       "garantia_de_fábrica        2.947866\n",
       "revisoes_dentro_agenda     3.561189\n",
       "veiculo_alienado           0.561056\n",
       "preco                      5.486526\n",
       "dtype: float64"
      ]
     },
     "execution_count": 8,
     "metadata": {},
     "output_type": "execute_result"
    }
   ],
   "source": [
    "# o uso de memória utilizado individualmente por cada dado\n",
    "memory / memory.sum() * 100"
   ]
  },
  {
   "cell_type": "markdown",
   "id": "226512a1",
   "metadata": {},
   "source": [
    "# Analisando e Tratando  os Datasets"
   ]
  },
  {
   "cell_type": "code",
   "execution_count": 9,
   "id": "a2758c29",
   "metadata": {},
   "outputs": [
    {
     "data": {
      "text/plain": [
       "id\n",
       "300716223898539419613863097469899222392    1\n",
       "285890682893499494121046105359660467160    1\n",
       "164151341442204939739633671446766506660    1\n",
       "104605966898056711399437656393867106581    1\n",
       "225802387330645423199512943057734533233    1\n",
       "                                          ..\n",
       "51948056493465724900513443742353763328     1\n",
       "56763651987108516122847468318822603887     1\n",
       "301609676912075371890494688957843480392    1\n",
       "31630061149326072384596052351170200337     1\n",
       "171781413417552881896009715888472310172    1\n",
       "Name: count, Length: 29584, dtype: int64"
      ]
     },
     "execution_count": 9,
     "metadata": {},
     "output_type": "execute_result"
    }
   ],
   "source": [
    "# 0 coluna \"id\"\n",
    "df_train[\"id\"].value_counts()"
   ]
  },
  {
   "cell_type": "code",
   "execution_count": 10,
   "id": "932b8350",
   "metadata": {},
   "outputs": [
    {
     "data": {
      "text/plain": [
       "id\n",
       "13518783164498355150900635905895481162     1\n",
       "167032009694768984860707008434485229428    1\n",
       "22290468746890813476731188436459828481     1\n",
       "231543260678523277363904215611319815243    1\n",
       "298950350711827897603045335448120148533    1\n",
       "                                          ..\n",
       "64321307505228127950467259320338842918     1\n",
       "114165953941876671782760160069686604051    1\n",
       "83333678053462956219456877223176716803     1\n",
       "280267317637942529700051415143388024033    1\n",
       "332784980027104367393384305973418103109    1\n",
       "Name: count, Length: 9862, dtype: int64"
      ]
     },
     "execution_count": 10,
     "metadata": {},
     "output_type": "execute_result"
    }
   ],
   "source": [
    "df_test[\"id\"].value_counts()"
   ]
  },
  {
   "cell_type": "code",
   "execution_count": 11,
   "id": "76adf19c",
   "metadata": {},
   "outputs": [
    {
     "data": {
      "text/plain": [
       "array([ 8., 16., 14., 13., 15., 20., 11.,  9., 18., 17., 12., nan, 19.,\n",
       "       21., 10.])"
      ]
     },
     "execution_count": 11,
     "metadata": {},
     "output_type": "execute_result"
    }
   ],
   "source": [
    "# 1 coluna \"num_fotos\"\n",
    "df_train[\"num_fotos\"].unique()"
   ]
  },
  {
   "cell_type": "code",
   "execution_count": 12,
   "id": "4cb2f605",
   "metadata": {},
   "outputs": [
    {
     "data": {
      "text/plain": [
       "array([ 8., 18., 16., 17., 15., 14., 13., 12.,  9., 20., nan, 11., 19.,\n",
       "       21.])"
      ]
     },
     "execution_count": 12,
     "metadata": {},
     "output_type": "execute_result"
    }
   ],
   "source": [
    "df_test[\"num_fotos\"].unique()"
   ]
  },
  {
   "cell_type": "code",
   "execution_count": 13,
   "id": "cdfa92a6",
   "metadata": {},
   "outputs": [
    {
     "data": {
      "text/plain": [
       "True"
      ]
     },
     "execution_count": 13,
     "metadata": {},
     "output_type": "execute_result"
    }
   ],
   "source": [
    "# verifica se há valores nulos ou em branco\n",
    "df_train[\"num_fotos\"].isnull().any()"
   ]
  },
  {
   "cell_type": "code",
   "execution_count": 14,
   "id": "b20ab39b",
   "metadata": {},
   "outputs": [
    {
     "data": {
      "text/plain": [
       "True"
      ]
     },
     "execution_count": 14,
     "metadata": {},
     "output_type": "execute_result"
    }
   ],
   "source": [
    "df_test[\"num_fotos\"].isnull().any()"
   ]
  },
  {
   "cell_type": "code",
   "execution_count": 15,
   "id": "1bc96528",
   "metadata": {},
   "outputs": [],
   "source": [
    "# substituir os valores NaN e infinitos por um valor padrão (zero, 0)\n",
    "df_train[\"num_fotos\"].fillna(0, inplace=True)\n",
    "df_train.replace([np.inf, -np.inf], 0, inplace=True)\n",
    "\n",
    "df_test[\"num_fotos\"].fillna(0, inplace=True)\n",
    "df_test.replace([np.inf, -np.inf], 0, inplace=True)"
   ]
  },
  {
   "cell_type": "code",
   "execution_count": 16,
   "id": "fc368996",
   "metadata": {},
   "outputs": [
    {
     "name": "stdout",
     "output_type": "stream",
     "text": [
      "int32\n",
      "int32\n"
     ]
    }
   ],
   "source": [
    "# converter os dados de float para int \n",
    "df_train[\"num_fotos\"] = df_train[\"num_fotos\"].astype(int)\n",
    "df_test[\"num_fotos\"] = df_test[\"num_fotos\"].astype(int)\n",
    "\n",
    "# Verificar os tipos de dados atualizados da coluna\n",
    "print(df_train[\"num_fotos\"].dtype)\n",
    "print(df_test[\"num_fotos\"].dtype)"
   ]
  },
  {
   "cell_type": "code",
   "execution_count": 17,
   "id": "282d9f55",
   "metadata": {},
   "outputs": [
    {
     "data": {
      "text/plain": [
       "marca\n",
       "VOLKSWAGEN       4594\n",
       "CHEVROLET        3020\n",
       "TOYOTA           2180\n",
       "HYUNDAI          2043\n",
       "JEEP             2000\n",
       "FIAT             1918\n",
       "BMW              1784\n",
       "AUDI             1698\n",
       "PEUGEOT          1675\n",
       "HONDA            1586\n",
       "MERCEDES-BENZ    1125\n",
       "FORD             1060\n",
       "MITSUBISHI        862\n",
       "LAND ROVER        760\n",
       "RENAULT           538\n",
       "NISSAN            438\n",
       "KIA               408\n",
       "PORSCHE           349\n",
       "VOLVO             287\n",
       "CITROËN           194\n",
       "TROLLER           177\n",
       "RAM               168\n",
       "CHERY             153\n",
       "JAGUAR            148\n",
       "MINI              137\n",
       "LEXUS              75\n",
       "SUZUKI             41\n",
       "SUBARU             41\n",
       "DODGE              37\n",
       "CHRYSLER           30\n",
       "SSANGYONG          14\n",
       "SMART              12\n",
       "ALFA ROMEO          9\n",
       "LIFAN               8\n",
       "MASERATI            7\n",
       "JAC                 3\n",
       "IVECO               2\n",
       "EFFA                1\n",
       "FERRARI             1\n",
       "BRM                 1\n",
       "Name: count, dtype: int64"
      ]
     },
     "execution_count": 17,
     "metadata": {},
     "output_type": "execute_result"
    }
   ],
   "source": [
    "# 2 coluna \"marca\"\n",
    "df_train[\"marca\"].value_counts()"
   ]
  },
  {
   "cell_type": "code",
   "execution_count": 18,
   "id": "162f9080",
   "metadata": {},
   "outputs": [
    {
     "data": {
      "text/plain": [
       "marca\n",
       "VOLKSWAGEN       1546\n",
       "CHEVROLET        1000\n",
       "TOYOTA            702\n",
       "HYUNDAI           697\n",
       "JEEP              667\n",
       "FIAT              605\n",
       "AUDI              593\n",
       "BMW               591\n",
       "PEUGEOT           571\n",
       "HONDA             511\n",
       "FORD              385\n",
       "MERCEDES-BENZ     376\n",
       "MITSUBISHI        286\n",
       "LAND ROVER        267\n",
       "RENAULT           173\n",
       "KIA               157\n",
       "NISSAN            145\n",
       "PORSCHE           121\n",
       "VOLVO              76\n",
       "JAGUAR             64\n",
       "CITROËN            54\n",
       "RAM                53\n",
       "CHERY              49\n",
       "TROLLER            46\n",
       "MINI               45\n",
       "LEXUS              16\n",
       "SUBARU             13\n",
       "DODGE              10\n",
       "CHRYSLER           10\n",
       "SUZUKI             10\n",
       "SSANGYONG           6\n",
       "MASERATI            5\n",
       "SMART               4\n",
       "LIFAN               2\n",
       "JAC                 2\n",
       "FERRARI             1\n",
       "EFFA                1\n",
       "ALFA ROMEO          1\n",
       "LAMBORGHINI         1\n",
       "Name: count, dtype: int64"
      ]
     },
     "execution_count": 18,
     "metadata": {},
     "output_type": "execute_result"
    }
   ],
   "source": [
    "df_test[\"marca\"].value_counts()"
   ]
  },
  {
   "cell_type": "code",
   "execution_count": 19,
   "id": "f2dfbd2c",
   "metadata": {},
   "outputs": [],
   "source": [
    "# converter os dados de object para categorico\n",
    "df_train[\"marca\"] = df_train[\"marca\"].astype(\"category\")\n",
    "df_test[\"marca\"] = df_test[\"marca\"].astype(\"category\")"
   ]
  },
  {
   "cell_type": "code",
   "execution_count": 20,
   "id": "7c664e3c",
   "metadata": {},
   "outputs": [
    {
     "name": "stdout",
     "output_type": "stream",
     "text": [
      "category\n",
      "category\n"
     ]
    }
   ],
   "source": [
    "# Verificar os tipos de dados atualizados da coluna\n",
    "print(df_train[\"marca\"].dtype)\n",
    "print(df_test[\"marca\"].dtype)"
   ]
  },
  {
   "cell_type": "code",
   "execution_count": 21,
   "id": "e1a61d53",
   "metadata": {},
   "outputs": [
    {
     "data": {
      "text/plain": [
       "modelo\n",
       "COMPASS         1480\n",
       "2008            1431\n",
       "Q3               914\n",
       "TORO             902\n",
       "COROLLA          867\n",
       "                ... \n",
       "X-TRAIL            1\n",
       "QUATTROPORTE       1\n",
       "ES                 1\n",
       "S4                 1\n",
       "SLK 230            1\n",
       "Name: count, Length: 457, dtype: int64"
      ]
     },
     "execution_count": 21,
     "metadata": {},
     "output_type": "execute_result"
    }
   ],
   "source": [
    "# 3 coluna \"modelo\"\n",
    "df_train[\"modelo\"].value_counts()"
   ]
  },
  {
   "cell_type": "code",
   "execution_count": 22,
   "id": "b9ff4470",
   "metadata": {},
   "outputs": [
    {
     "data": {
      "text/plain": [
       "modelo\n",
       "2008          493\n",
       "COMPASS       487\n",
       "COROLLA       301\n",
       "Q3            299\n",
       "ONIX          285\n",
       "             ... \n",
       "ONE             1\n",
       "FREELANDER      1\n",
       "QQ              1\n",
       "PARATI          1\n",
       "M 140i          1\n",
       "Name: count, Length: 378, dtype: int64"
      ]
     },
     "execution_count": 22,
     "metadata": {},
     "output_type": "execute_result"
    }
   ],
   "source": [
    "df_test[\"modelo\"].value_counts()"
   ]
  },
  {
   "cell_type": "code",
   "execution_count": 23,
   "id": "74da0154",
   "metadata": {},
   "outputs": [
    {
     "name": "stdout",
     "output_type": "stream",
     "text": [
      "category\n",
      "category\n"
     ]
    }
   ],
   "source": [
    "# converter os dados de object para categorico\n",
    "df_train[\"modelo\"] = df_train[\"modelo\"].astype(\"category\")\n",
    "df_test[\"modelo\"] = df_test[\"modelo\"].astype(\"category\")\n",
    "\n",
    "# Verificar os tipos de dados atualizados da coluna\n",
    "print(df_train[\"modelo\"].dtype)\n",
    "print(df_test[\"modelo\"].dtype)"
   ]
  },
  {
   "cell_type": "code",
   "execution_count": 24,
   "id": "30c5c377",
   "metadata": {},
   "outputs": [
    {
     "data": {
      "text/plain": [
       "versao\n",
       "1.6 16V FLEX ALLURE PACK 4P AUTOMÁTICO                            1352\n",
       "2.0 16V FLEX LIMITED AUTOMÁTICO                                   1032\n",
       "2.0 TFSI AMBIENTE QUATTRO 4P GASOLINA S TRONIC                     757\n",
       "1.0 200 TSI COMFORTLINE AUTOMÁTICO                                 466\n",
       "2.0 HIGHLINE 4X4 CD 16V TURBO INTERCOOLER DIESEL 4P AUTOMÁTICO     429\n",
       "                                                                  ... \n",
       "1.0 SV 12V FLEX 4P MANUAL                                            1\n",
       "1.5 i-VTEC FLEX TOURING CVT                                          1\n",
       "1.6 SE SEDAN 16V FLEX 4P MANUAL                                      1\n",
       "1.0 EX 12V GASOLINA 4P AUTOMÁTICO                                    1\n",
       "1.3 CGI GASOLINA PROGRESSIVE 7G-DCT                                  1\n",
       "Name: count, Length: 1916, dtype: int64"
      ]
     },
     "execution_count": 24,
     "metadata": {},
     "output_type": "execute_result"
    }
   ],
   "source": [
    "# 4 coluna \"versao\"\n",
    "df_train[\"versao\"].value_counts()"
   ]
  },
  {
   "cell_type": "code",
   "execution_count": 25,
   "id": "c9047440",
   "metadata": {},
   "outputs": [
    {
     "data": {
      "text/plain": [
       "versao\n",
       "1.6 16V FLEX ALLURE PACK 4P AUTOMÁTICO                            473\n",
       "2.0 16V FLEX LIMITED AUTOMÁTICO                                   323\n",
       "2.0 TFSI AMBIENTE QUATTRO 4P GASOLINA S TRONIC                    250\n",
       "1.0 200 TSI COMFORTLINE AUTOMÁTICO                                158\n",
       "2.0 HIGHLINE 4X4 CD 16V TURBO INTERCOOLER DIESEL 4P AUTOMÁTICO    138\n",
       "                                                                 ... \n",
       "1.4 MPFI SPORT CS 8V FLEX 2P MANUAL                                 1\n",
       "1.6 EXCLUSIVE 16V FLEX 4P MANUAL                                    1\n",
       "2.0 D5 DIESEL MOMENTUM AWD GEARTRONIC                               1\n",
       "2.0 COMFORTLINE FLEX 4P MANUAL                                      1\n",
       "2.0 MI 8V GASOLINA 2P AUTOMÁTICO                                    1\n",
       "Name: count, Length: 1377, dtype: int64"
      ]
     },
     "execution_count": 25,
     "metadata": {},
     "output_type": "execute_result"
    }
   ],
   "source": [
    "df_test[\"versao\"].value_counts()"
   ]
  },
  {
   "cell_type": "code",
   "execution_count": 26,
   "id": "4fdd8547",
   "metadata": {},
   "outputs": [
    {
     "name": "stdout",
     "output_type": "stream",
     "text": [
      "category\n",
      "category\n"
     ]
    }
   ],
   "source": [
    "# converter os dados de object para categorico\n",
    "df_train[\"versao\"] = df_train[\"versao\"].astype(\"category\")\n",
    "df_test[\"versao\"] = df_test[\"versao\"].astype(\"category\")\n",
    "\n",
    "# Verificar os tipos de dados atualizados da coluna\n",
    "print(df_train[\"versao\"].dtype)\n",
    "print(df_test[\"versao\"].dtype)"
   ]
  },
  {
   "cell_type": "code",
   "execution_count": 27,
   "id": "99da612c",
   "metadata": {},
   "outputs": [
    {
     "data": {
      "text/plain": [
       "ano_de_fabricacao\n",
       "2020    4729\n",
       "2017    4369\n",
       "2019    3880\n",
       "2018    3820\n",
       "2021    2614\n",
       "2013    2443\n",
       "2014    2221\n",
       "2016    1822\n",
       "2015    1753\n",
       "2012     509\n",
       "2007     121\n",
       "2008     117\n",
       "2001      95\n",
       "2006      88\n",
       "2010      83\n",
       "2009      82\n",
       "2000      81\n",
       "2002      80\n",
       "1999      80\n",
       "2011      75\n",
       "2003      72\n",
       "1998      66\n",
       "2005      62\n",
       "1997      61\n",
       "1996      58\n",
       "2004      55\n",
       "2022      37\n",
       "1995      34\n",
       "1994      31\n",
       "1993      15\n",
       "1992      14\n",
       "1991      10\n",
       "1990       4\n",
       "1988       2\n",
       "1985       1\n",
       "Name: count, dtype: int64"
      ]
     },
     "execution_count": 27,
     "metadata": {},
     "output_type": "execute_result"
    }
   ],
   "source": [
    "# 5 coluna \"ano_de_fabricacao\"\n",
    "df_train[\"ano_de_fabricacao\"].value_counts()"
   ]
  },
  {
   "cell_type": "code",
   "execution_count": 28,
   "id": "1be918b2",
   "metadata": {},
   "outputs": [
    {
     "data": {
      "text/plain": [
       "ano_de_fabricacao\n",
       "2020    1568\n",
       "2017    1470\n",
       "2019    1299\n",
       "2018    1295\n",
       "2021     840\n",
       "2013     819\n",
       "2014     706\n",
       "2016     625\n",
       "2015     564\n",
       "2012     183\n",
       "2008      44\n",
       "2000      35\n",
       "2007      34\n",
       "2010      33\n",
       "2001      30\n",
       "2011      30\n",
       "1999      28\n",
       "2003      27\n",
       "1997      26\n",
       "1998      25\n",
       "2006      25\n",
       "2004      23\n",
       "2005      20\n",
       "2009      20\n",
       "2002      18\n",
       "1996      16\n",
       "1995      15\n",
       "2022      14\n",
       "1993       9\n",
       "1991       7\n",
       "1992       6\n",
       "1994       5\n",
       "1988       2\n",
       "1990       1\n",
       "Name: count, dtype: int64"
      ]
     },
     "execution_count": 28,
     "metadata": {},
     "output_type": "execute_result"
    }
   ],
   "source": [
    "df_test[\"ano_de_fabricacao\"].value_counts()"
   ]
  },
  {
   "cell_type": "code",
   "execution_count": 29,
   "id": "b1723e0c",
   "metadata": {},
   "outputs": [
    {
     "data": {
      "text/plain": [
       "ano_modelo\n",
       "2021.0    5071\n",
       "2017.0    4519\n",
       "2018.0    4221\n",
       "2019.0    3587\n",
       "2020.0    3541\n",
       "2015.0    2386\n",
       "2014.0    2377\n",
       "2013.0    1212\n",
       "2016.0     890\n",
       "2022.0     829\n",
       "2012.0     693\n",
       "2011.0     228\n",
       "2023.0      15\n",
       "2010.0       9\n",
       "2008.0       4\n",
       "2006.0       1\n",
       "1997.0       1\n",
       "Name: count, dtype: int64"
      ]
     },
     "execution_count": 29,
     "metadata": {},
     "output_type": "execute_result"
    }
   ],
   "source": [
    "# 6 coluna \"ano_modelo\"\n",
    "df_train[\"ano_modelo\"].value_counts()"
   ]
  },
  {
   "cell_type": "code",
   "execution_count": 30,
   "id": "5a872cf6",
   "metadata": {},
   "outputs": [
    {
     "data": {
      "text/plain": [
       "ano_modelo\n",
       "2021.0    1696\n",
       "2017.0    1558\n",
       "2018.0    1383\n",
       "2019.0    1213\n",
       "2020.0    1146\n",
       "2015.0     795\n",
       "2014.0     781\n",
       "2013.0     404\n",
       "2016.0     282\n",
       "2022.0     275\n",
       "2012.0     232\n",
       "2011.0      78\n",
       "2023.0       8\n",
       "2010.0       5\n",
       "2007.0       2\n",
       "2008.0       2\n",
       "2009.0       2\n",
       "Name: count, dtype: int64"
      ]
     },
     "execution_count": 30,
     "metadata": {},
     "output_type": "execute_result"
    }
   ],
   "source": [
    "df_test[\"ano_modelo\"].value_counts()"
   ]
  },
  {
   "cell_type": "code",
   "execution_count": 31,
   "id": "ae5afa5b",
   "metadata": {},
   "outputs": [
    {
     "name": "stdout",
     "output_type": "stream",
     "text": [
      "int32\n",
      "int32\n"
     ]
    }
   ],
   "source": [
    "# converter os dados de float para int \n",
    "df_train[\"ano_modelo\"] = df_train[\"ano_modelo\"].astype(int)\n",
    "df_test[\"ano_modelo\"] = df_test[\"ano_modelo\"].astype(int)\n",
    "\n",
    "# Verificar os tipos de dados atualizados da coluna\n",
    "print(df_train[\"ano_modelo\"].dtype)\n",
    "print(df_test[\"ano_modelo\"].dtype)"
   ]
  },
  {
   "cell_type": "code",
   "execution_count": 32,
   "id": "0b18bdc4",
   "metadata": {},
   "outputs": [
    {
     "data": {
      "text/plain": [
       "hodometro\n",
       "100.0       76\n",
       "34765.0      5\n",
       "79577.0      4\n",
       "63074.0      4\n",
       "82502.0      4\n",
       "            ..\n",
       "21578.0      1\n",
       "66805.0      1\n",
       "125263.0     1\n",
       "28160.0      1\n",
       "90433.0      1\n",
       "Name: count, Length: 26004, dtype: int64"
      ]
     },
     "execution_count": 32,
     "metadata": {},
     "output_type": "execute_result"
    }
   ],
   "source": [
    "# 7 coluna \"hodometro\"\n",
    "df_train[\"hodometro\"].value_counts()"
   ]
  },
  {
   "cell_type": "code",
   "execution_count": 33,
   "id": "c0ac4a35",
   "metadata": {},
   "outputs": [
    {
     "data": {
      "text/plain": [
       "hodometro\n",
       "100.0      29\n",
       "90598.0     3\n",
       "82025.0     3\n",
       "53994.0     3\n",
       "33290.0     3\n",
       "           ..\n",
       "64959.0     1\n",
       "20310.0     1\n",
       "21618.0     1\n",
       "32866.0     1\n",
       "32511.0     1\n",
       "Name: count, Length: 9430, dtype: int64"
      ]
     },
     "execution_count": 33,
     "metadata": {},
     "output_type": "execute_result"
    }
   ],
   "source": [
    "df_test[\"hodometro\"].value_counts()"
   ]
  },
  {
   "cell_type": "code",
   "execution_count": 34,
   "id": "0ed2cc48",
   "metadata": {},
   "outputs": [
    {
     "name": "stdout",
     "output_type": "stream",
     "text": [
      "int32\n",
      "int32\n"
     ]
    }
   ],
   "source": [
    "# converter os dados de float para int \n",
    "df_train[\"hodometro\"] = df_train[\"hodometro\"].astype(int)\n",
    "df_test[\"hodometro\"] = df_test[\"hodometro\"].astype(int)\n",
    "\n",
    "# Verificar os tipos de dados atualizados da coluna\n",
    "print(df_train[\"hodometro\"].dtype)\n",
    "print(df_test[\"hodometro\"].dtype)"
   ]
  },
  {
   "cell_type": "code",
   "execution_count": 35,
   "id": "c3285cfb",
   "metadata": {},
   "outputs": [
    {
     "data": {
      "text/plain": [
       "cambio\n",
       "Automática               22545\n",
       "Manual                    4989\n",
       "CVT                       1792\n",
       "Automatizada               139\n",
       "Automatizada DCT            53\n",
       "Semi-automática             41\n",
       "Automática Sequencial       25\n",
       "Name: count, dtype: int64"
      ]
     },
     "execution_count": 35,
     "metadata": {},
     "output_type": "execute_result"
    }
   ],
   "source": [
    "# 8 coluna \"cambio\"\n",
    "df_train[\"cambio\"].value_counts()"
   ]
  },
  {
   "cell_type": "code",
   "execution_count": 36,
   "id": "9c9916d9",
   "metadata": {},
   "outputs": [
    {
     "data": {
      "text/plain": [
       "cambio\n",
       "Automática               7528\n",
       "Manual                   1642\n",
       "CVT                       599\n",
       "Automatizada               53\n",
       "Automatizada DCT           18\n",
       "Semi-automática            15\n",
       "Automática Sequencial       7\n",
       "Name: count, dtype: int64"
      ]
     },
     "execution_count": 36,
     "metadata": {},
     "output_type": "execute_result"
    }
   ],
   "source": [
    "df_test[\"cambio\"].value_counts()"
   ]
  },
  {
   "cell_type": "code",
   "execution_count": 37,
   "id": "3b2d6cef",
   "metadata": {},
   "outputs": [
    {
     "name": "stdout",
     "output_type": "stream",
     "text": [
      "category\n",
      "category\n"
     ]
    }
   ],
   "source": [
    "# converter os dados de object para categorico\n",
    "df_train[\"cambio\"] = df_train[\"cambio\"].astype(\"category\")\n",
    "df_test[\"cambio\"] = df_test[\"cambio\"].astype(\"category\")\n",
    "\n",
    "# Verificar os tipos de dados atualizados da coluna\n",
    "print(df_train[\"cambio\"].dtype)\n",
    "print(df_test[\"cambio\"].dtype)"
   ]
  },
  {
   "cell_type": "code",
   "execution_count": 38,
   "id": "aafb9613",
   "metadata": {},
   "outputs": [
    {
     "data": {
      "text/plain": [
       "num_portas\n",
       "4    28697\n",
       "2      868\n",
       "3       19\n",
       "Name: count, dtype: int64"
      ]
     },
     "execution_count": 38,
     "metadata": {},
     "output_type": "execute_result"
    }
   ],
   "source": [
    "# 9 coluna \"num_portas\"\n",
    "df_train[\"num_portas\"].value_counts()"
   ]
  },
  {
   "cell_type": "code",
   "execution_count": 39,
   "id": "04db56b2",
   "metadata": {},
   "outputs": [
    {
     "data": {
      "text/plain": [
       "num_portas\n",
       "4    9577\n",
       "2     282\n",
       "3       3\n",
       "Name: count, dtype: int64"
      ]
     },
     "execution_count": 39,
     "metadata": {},
     "output_type": "execute_result"
    }
   ],
   "source": [
    "df_test[\"num_portas\"].value_counts()"
   ]
  },
  {
   "cell_type": "code",
   "execution_count": 40,
   "id": "69f3c7fc",
   "metadata": {},
   "outputs": [
    {
     "data": {
      "text/plain": [
       "tipo\n",
       "Sedã                    16429\n",
       "Hatchback                4924\n",
       "Picape                   4849\n",
       "Utilitário esportivo     3322\n",
       "Perua/SW                   27\n",
       "Cupê                       26\n",
       "Minivan                     7\n",
       "Name: count, dtype: int64"
      ]
     },
     "execution_count": 40,
     "metadata": {},
     "output_type": "execute_result"
    }
   ],
   "source": [
    "# 10 coluna \"tipo\"\n",
    "df_train[\"tipo\"].value_counts()"
   ]
  },
  {
   "cell_type": "code",
   "execution_count": 41,
   "id": "5c0ca3a7",
   "metadata": {},
   "outputs": [
    {
     "data": {
      "text/plain": [
       "tipo\n",
       "Sedã                    5481\n",
       "Hatchback               1646\n",
       "Picape                  1577\n",
       "Utilitário esportivo    1136\n",
       "Perua/SW                  10\n",
       "Cupê                       8\n",
       "Minivan                    3\n",
       "Conversível                1\n",
       "Name: count, dtype: int64"
      ]
     },
     "execution_count": 41,
     "metadata": {},
     "output_type": "execute_result"
    }
   ],
   "source": [
    "df_test[\"tipo\"].value_counts()"
   ]
  },
  {
   "cell_type": "code",
   "execution_count": 42,
   "id": "43735cc2",
   "metadata": {},
   "outputs": [
    {
     "name": "stdout",
     "output_type": "stream",
     "text": [
      "category\n",
      "category\n"
     ]
    }
   ],
   "source": [
    "# converter os dados de object para categorico\n",
    "df_train[\"tipo\"] = df_train[\"tipo\"].astype(\"category\")\n",
    "df_test[\"tipo\"] = df_test[\"tipo\"].astype(\"category\")\n",
    "\n",
    "# Verificar os tipos de dados atualizados da coluna\n",
    "print(df_train[\"tipo\"].dtype)\n",
    "print(df_test[\"tipo\"].dtype)"
   ]
  },
  {
   "cell_type": "code",
   "execution_count": 43,
   "id": "b83158b7",
   "metadata": {},
   "outputs": [
    {
     "data": {
      "text/plain": [
       "blindado\n",
       "N    29336\n",
       "S      248\n",
       "Name: count, dtype: int64"
      ]
     },
     "execution_count": 43,
     "metadata": {},
     "output_type": "execute_result"
    }
   ],
   "source": [
    "# 11 coluna \"blindado\"\n",
    "df_train[\"blindado\"].value_counts()"
   ]
  },
  {
   "cell_type": "code",
   "execution_count": 44,
   "id": "699af832",
   "metadata": {},
   "outputs": [
    {
     "data": {
      "text/plain": [
       "blindado\n",
       "N    9792\n",
       "S      70\n",
       "Name: count, dtype: int64"
      ]
     },
     "execution_count": 44,
     "metadata": {},
     "output_type": "execute_result"
    }
   ],
   "source": [
    "df_test[\"blindado\"].value_counts()"
   ]
  },
  {
   "cell_type": "code",
   "execution_count": 45,
   "id": "527647cd",
   "metadata": {},
   "outputs": [
    {
     "name": "stdout",
     "output_type": "stream",
     "text": [
      "category\n",
      "category\n"
     ]
    }
   ],
   "source": [
    "# converter os dados de object para categorico\n",
    "df_train[\"blindado\"] = df_train[\"blindado\"].astype(\"category\")\n",
    "df_test[\"blindado\"] = df_test[\"blindado\"].astype(\"category\")\n",
    "\n",
    "# Verificar os tipos de dados atualizados da coluna\n",
    "print(df_train[\"blindado\"].dtype)\n",
    "print(df_test[\"blindado\"].dtype)"
   ]
  },
  {
   "cell_type": "code",
   "execution_count": 46,
   "id": "199a0323",
   "metadata": {},
   "outputs": [
    {
     "data": {
      "text/plain": [
       "cor\n",
       "Branco      20949\n",
       "Preto        5256\n",
       "Prata        1741\n",
       "Cinza        1634\n",
       "Dourado         2\n",
       "Verde           1\n",
       "Vermelho        1\n",
       "Name: count, dtype: int64"
      ]
     },
     "execution_count": 46,
     "metadata": {},
     "output_type": "execute_result"
    }
   ],
   "source": [
    "# 12 coluna \"cor\"\n",
    "df_train[\"cor\"].value_counts()"
   ]
  },
  {
   "cell_type": "code",
   "execution_count": 47,
   "id": "c412fe7b",
   "metadata": {},
   "outputs": [
    {
     "data": {
      "text/plain": [
       "cor\n",
       "Branco     6970\n",
       "Preto      1729\n",
       "Prata       618\n",
       "Cinza       540\n",
       "Dourado       4\n",
       "Azul          1\n",
       "Name: count, dtype: int64"
      ]
     },
     "execution_count": 47,
     "metadata": {},
     "output_type": "execute_result"
    }
   ],
   "source": [
    "df_test[\"cor\"].value_counts()"
   ]
  },
  {
   "cell_type": "code",
   "execution_count": 48,
   "id": "2de0108d",
   "metadata": {},
   "outputs": [
    {
     "name": "stdout",
     "output_type": "stream",
     "text": [
      "category\n",
      "category\n"
     ]
    }
   ],
   "source": [
    "# converter os dados de object para categorico\n",
    "df_train[\"cor\"] = df_train[\"cor\"].astype(\"category\")\n",
    "df_test[\"cor\"] = df_test[\"cor\"].astype(\"category\")\n",
    "\n",
    "# Verificar os tipos de dados atualizados da coluna\n",
    "print(df_train[\"cor\"].dtype)\n",
    "print(df_test[\"cor\"].dtype)"
   ]
  },
  {
   "cell_type": "code",
   "execution_count": 49,
   "id": "e94641a1",
   "metadata": {},
   "outputs": [
    {
     "data": {
      "text/plain": [
       "tipo_vendedor\n",
       "PF    17926\n",
       "PJ    11658\n",
       "Name: count, dtype: int64"
      ]
     },
     "execution_count": 49,
     "metadata": {},
     "output_type": "execute_result"
    }
   ],
   "source": [
    "# 13 coluna \"tipo_vendedor\"\n",
    "df_train[\"tipo_vendedor\"].value_counts()"
   ]
  },
  {
   "cell_type": "code",
   "execution_count": 50,
   "id": "2c85e1cf",
   "metadata": {},
   "outputs": [
    {
     "data": {
      "text/plain": [
       "tipo_vendedor\n",
       "PF    5931\n",
       "PJ    3931\n",
       "Name: count, dtype: int64"
      ]
     },
     "execution_count": 50,
     "metadata": {},
     "output_type": "execute_result"
    }
   ],
   "source": [
    "df_test[\"tipo_vendedor\"].value_counts()"
   ]
  },
  {
   "cell_type": "code",
   "execution_count": 51,
   "id": "766c1d49",
   "metadata": {},
   "outputs": [
    {
     "name": "stdout",
     "output_type": "stream",
     "text": [
      "category\n",
      "category\n"
     ]
    }
   ],
   "source": [
    "# converter os dados de object para categorico\n",
    "df_train[\"tipo_vendedor\"] = df_train[\"tipo_vendedor\"].astype(\"category\")\n",
    "df_test[\"tipo_vendedor\"] = df_test[\"tipo_vendedor\"].astype(\"category\")\n",
    "\n",
    "# Verificar os tipos de dados atualizados da coluna\n",
    "print(df_train[\"tipo_vendedor\"].dtype)\n",
    "print(df_test[\"tipo_vendedor\"].dtype)"
   ]
  },
  {
   "cell_type": "code",
   "execution_count": 52,
   "id": "2be48a9c",
   "metadata": {},
   "outputs": [
    {
     "data": {
      "text/plain": [
       "cidade_vendedor\n",
       "São Paulo              6158\n",
       "Rio de Janeiro         5793\n",
       "Belo Horizonte         2172\n",
       "Presidente Prudente    1536\n",
       "Goiânia                1396\n",
       "                       ... \n",
       "Garopaba                  1\n",
       "Porto Feliz               1\n",
       "Antônio Carlos            1\n",
       "Panambi                   1\n",
       "Descalvado                1\n",
       "Name: count, Length: 575, dtype: int64"
      ]
     },
     "execution_count": 52,
     "metadata": {},
     "output_type": "execute_result"
    }
   ],
   "source": [
    "# 14 coluna \"cidade_vendedor\"\n",
    "df_train[\"cidade_vendedor\"].value_counts()"
   ]
  },
  {
   "cell_type": "code",
   "execution_count": 53,
   "id": "eae943e0",
   "metadata": {},
   "outputs": [
    {
     "data": {
      "text/plain": [
       "cidade_vendedor\n",
       "São Paulo              2040\n",
       "Rio de Janeiro         1946\n",
       "Belo Horizonte          753\n",
       "Presidente Prudente     486\n",
       "Goiânia                 475\n",
       "                       ... \n",
       "Birigui                   1\n",
       "Capelinha                 1\n",
       "Ivaí                      1\n",
       "Pau dos Ferros            1\n",
       "Balsas                    1\n",
       "Name: count, Length: 337, dtype: int64"
      ]
     },
     "execution_count": 53,
     "metadata": {},
     "output_type": "execute_result"
    }
   ],
   "source": [
    "df_test[\"cidade_vendedor\"].value_counts()"
   ]
  },
  {
   "cell_type": "code",
   "execution_count": 54,
   "id": "5125931f",
   "metadata": {},
   "outputs": [
    {
     "name": "stdout",
     "output_type": "stream",
     "text": [
      "category\n",
      "category\n"
     ]
    }
   ],
   "source": [
    "# converter os dados de object para categorico\n",
    "df_train[\"cidade_vendedor\"] = df_train[\"cidade_vendedor\"].astype(\"category\")\n",
    "df_test[\"cidade_vendedor\"] = df_test[\"cidade_vendedor\"].astype(\"category\")\n",
    "\n",
    "# Verificar os tipos de dados atualizados da coluna\n",
    "print(df_train[\"cidade_vendedor\"].dtype)\n",
    "print(df_test[\"cidade_vendedor\"].dtype)"
   ]
  },
  {
   "cell_type": "code",
   "execution_count": 55,
   "id": "0045da7a",
   "metadata": {},
   "outputs": [
    {
     "data": {
      "text/plain": [
       "estado_vendedor\n",
       "São Paulo (SP)              16378\n",
       "Rio de Janeiro (RJ)          2548\n",
       "Paraná (PR)                  2526\n",
       "Santa Catarina (SC)          2302\n",
       "Minas Gerais (MG)            1775\n",
       "Rio Grande do Sul (RS)       1646\n",
       "Goiás (GO)                    789\n",
       "Bahia (BA)                    604\n",
       "Pernambuco (PE)               318\n",
       "Alagoas (AL)                  125\n",
       "Paraíba (PB)                  108\n",
       "Rio Grande do Norte (RN)       90\n",
       "Pará (PA)                      74\n",
       "Ceará (CE)                     69\n",
       "Amazonas (AM)                  51\n",
       "Mato Grosso do Sul (MS)        35\n",
       "Mato Grosso (MT)               33\n",
       "Acre (AC)                      29\n",
       "Sergipe (SE)                   24\n",
       "Espírito Santo (ES)            21\n",
       "Tocantins (TO)                 20\n",
       "Maranhão (MA)                   7\n",
       "Piauí (PI)                      6\n",
       "Rondônia (RO)                   4\n",
       "Roraima (RR)                    2\n",
       "Name: count, dtype: int64"
      ]
     },
     "execution_count": 55,
     "metadata": {},
     "output_type": "execute_result"
    }
   ],
   "source": [
    "# 15 coluna \"estado_vendedor\"\n",
    "df_train[\"estado_vendedor\"].value_counts()"
   ]
  },
  {
   "cell_type": "code",
   "execution_count": 56,
   "id": "a54c5ed0",
   "metadata": {},
   "outputs": [
    {
     "data": {
      "text/plain": [
       "estado_vendedor\n",
       "São Paulo (SP)              5416\n",
       "Paraná (PR)                  854\n",
       "Rio de Janeiro (RJ)          836\n",
       "Santa Catarina (SC)          817\n",
       "Minas Gerais (MG)            575\n",
       "Rio Grande do Sul (RS)       545\n",
       "Goiás (GO)                   254\n",
       "Bahia (BA)                   223\n",
       "Pernambuco (PE)               93\n",
       "Alagoas (AL)                  46\n",
       "Paraíba (PB)                  39\n",
       "Pará (PA)                     33\n",
       "Rio Grande do Norte (RN)      29\n",
       "Ceará (CE)                    18\n",
       "Mato Grosso (MT)              15\n",
       "Amazonas (AM)                 15\n",
       "Tocantins (TO)                14\n",
       "Mato Grosso do Sul (MS)       11\n",
       "Acre (AC)                     11\n",
       "Espírito Santo (ES)            8\n",
       "Sergipe (SE)                   5\n",
       "Piauí (PI)                     3\n",
       "Rondônia (RO)                  1\n",
       "Roraima (RR)                   1\n",
       "Name: count, dtype: int64"
      ]
     },
     "execution_count": 56,
     "metadata": {},
     "output_type": "execute_result"
    }
   ],
   "source": [
    "df_test[\"estado_vendedor\"].value_counts()"
   ]
  },
  {
   "cell_type": "code",
   "execution_count": 57,
   "id": "8d357546",
   "metadata": {},
   "outputs": [
    {
     "name": "stdout",
     "output_type": "stream",
     "text": [
      "category\n",
      "category\n"
     ]
    }
   ],
   "source": [
    "# converter os dados de object para categorico\n",
    "df_train[\"estado_vendedor\"] = df_train[\"estado_vendedor\"].astype(\"category\")\n",
    "df_test[\"estado_vendedor\"] = df_test[\"estado_vendedor\"].astype(\"category\")\n",
    "\n",
    "# Verificar os tipos de dados atualizados da coluna\n",
    "print(df_train[\"estado_vendedor\"].dtype)\n",
    "print(df_test[\"estado_vendedor\"].dtype)"
   ]
  },
  {
   "cell_type": "code",
   "execution_count": 58,
   "id": "1160905d",
   "metadata": {},
   "outputs": [
    {
     "data": {
      "text/plain": [
       "anunciante\n",
       "Pessoa Física                       17999\n",
       "Loja                                 9879\n",
       "Concessionária                       1702\n",
       "Acessórios e serviços para autos        4\n",
       "Name: count, dtype: int64"
      ]
     },
     "execution_count": 58,
     "metadata": {},
     "output_type": "execute_result"
    }
   ],
   "source": [
    "# 16 coluna \"anunciante\"\n",
    "df_train[\"anunciante\"].value_counts()"
   ]
  },
  {
   "cell_type": "code",
   "execution_count": 59,
   "id": "f4b07533",
   "metadata": {},
   "outputs": [
    {
     "data": {
      "text/plain": [
       "anunciante\n",
       "Pessoa Física                       5950\n",
       "Loja                                3303\n",
       "Concessionária                       608\n",
       "Acessórios e serviços para autos       1\n",
       "Name: count, dtype: int64"
      ]
     },
     "execution_count": 59,
     "metadata": {},
     "output_type": "execute_result"
    }
   ],
   "source": [
    "df_test[\"anunciante\"].value_counts()"
   ]
  },
  {
   "cell_type": "code",
   "execution_count": 60,
   "id": "bb49bc72",
   "metadata": {},
   "outputs": [
    {
     "name": "stdout",
     "output_type": "stream",
     "text": [
      "category\n",
      "category\n"
     ]
    }
   ],
   "source": [
    "# converter os dados de object para categorico\n",
    "df_train[\"anunciante\"] = df_train[\"anunciante\"].astype(\"category\")\n",
    "df_test[\"anunciante\"] = df_test[\"anunciante\"].astype(\"category\")\n",
    "\n",
    "# Verificar os tipos de dados atualizados da coluna\n",
    "print(df_train[\"anunciante\"].dtype)\n",
    "print(df_test[\"anunciante\"].dtype)"
   ]
  },
  {
   "cell_type": "code",
   "execution_count": 61,
   "id": "1edd25ad",
   "metadata": {},
   "outputs": [
    {
     "data": {
      "text/plain": [
       "entrega_delivery\n",
       "False    23601\n",
       "True      5983\n",
       "Name: count, dtype: int64"
      ]
     },
     "execution_count": 61,
     "metadata": {},
     "output_type": "execute_result"
    }
   ],
   "source": [
    "# 17 coluna \"entrega_delivery\"\n",
    "df_train[\"entrega_delivery\"].value_counts()"
   ]
  },
  {
   "cell_type": "code",
   "execution_count": 62,
   "id": "6256be5f",
   "metadata": {},
   "outputs": [
    {
     "data": {
      "text/plain": [
       "entrega_delivery\n",
       "False    7907\n",
       "True     1955\n",
       "Name: count, dtype: int64"
      ]
     },
     "execution_count": 62,
     "metadata": {},
     "output_type": "execute_result"
    }
   ],
   "source": [
    "df_test[\"entrega_delivery\"].value_counts()"
   ]
  },
  {
   "cell_type": "code",
   "execution_count": 63,
   "id": "111eac9c",
   "metadata": {},
   "outputs": [
    {
     "data": {
      "text/plain": [
       "troca\n",
       "False    24523\n",
       "True      5061\n",
       "Name: count, dtype: int64"
      ]
     },
     "execution_count": 63,
     "metadata": {},
     "output_type": "execute_result"
    }
   ],
   "source": [
    "# 18 coluna \"troca\"\n",
    "df_train[\"troca\"].value_counts()"
   ]
  },
  {
   "cell_type": "code",
   "execution_count": 64,
   "id": "8308cf32",
   "metadata": {},
   "outputs": [
    {
     "data": {
      "text/plain": [
       "troca\n",
       "False    8217\n",
       "True     1645\n",
       "Name: count, dtype: int64"
      ]
     },
     "execution_count": 64,
     "metadata": {},
     "output_type": "execute_result"
    }
   ],
   "source": [
    "df_test[\"troca\"].value_counts()"
   ]
  },
  {
   "cell_type": "code",
   "execution_count": 65,
   "id": "35736b3c",
   "metadata": {},
   "outputs": [
    {
     "data": {
      "text/plain": [
       "elegivel_revisao\n",
       "False    29584\n",
       "Name: count, dtype: int64"
      ]
     },
     "execution_count": 65,
     "metadata": {},
     "output_type": "execute_result"
    }
   ],
   "source": [
    "# 19 coluna \"elegivel_revisao\"\n",
    "df_train[\"elegivel_revisao\"].value_counts()"
   ]
  },
  {
   "cell_type": "code",
   "execution_count": 66,
   "id": "d2877354",
   "metadata": {},
   "outputs": [
    {
     "data": {
      "text/plain": [
       "elegivel_revisao\n",
       "False    9862\n",
       "Name: count, dtype: int64"
      ]
     },
     "execution_count": 66,
     "metadata": {},
     "output_type": "execute_result"
    }
   ],
   "source": [
    "df_test[\"elegivel_revisao\"].value_counts()"
   ]
  },
  {
   "cell_type": "code",
   "execution_count": 67,
   "id": "ad37007b",
   "metadata": {},
   "outputs": [
    {
     "data": {
      "text/plain": [
       "dono_aceita_troca\n",
       "Aceita troca    21922\n",
       "Name: count, dtype: int64"
      ]
     },
     "execution_count": 67,
     "metadata": {},
     "output_type": "execute_result"
    }
   ],
   "source": [
    "# 20 coluna \"dono_aceita_troca\"\n",
    "df_train[\"dono_aceita_troca\"].value_counts()"
   ]
  },
  {
   "cell_type": "code",
   "execution_count": 68,
   "id": "6130e49f",
   "metadata": {},
   "outputs": [
    {
     "data": {
      "text/plain": [
       "dono_aceita_troca\n",
       "Aceita troca    7308\n",
       "Name: count, dtype: int64"
      ]
     },
     "execution_count": 68,
     "metadata": {},
     "output_type": "execute_result"
    }
   ],
   "source": [
    "df_test[\"dono_aceita_troca\"].value_counts()"
   ]
  },
  {
   "cell_type": "code",
   "execution_count": 69,
   "id": "01962445",
   "metadata": {},
   "outputs": [
    {
     "name": "stdout",
     "output_type": "stream",
     "text": [
      "category\n",
      "category\n"
     ]
    }
   ],
   "source": [
    "# converter os dados de object para categorico\n",
    "df_train[\"dono_aceita_troca\"] = df_train[\"dono_aceita_troca\"].astype(\"category\")\n",
    "df_test[\"dono_aceita_troca\"] = df_test[\"dono_aceita_troca\"].astype(\"category\")\n",
    "\n",
    "# Verificar os tipos de dados atualizados da coluna\n",
    "print(df_train[\"dono_aceita_troca\"].dtype)\n",
    "print(df_test[\"dono_aceita_troca\"].dtype)"
   ]
  },
  {
   "cell_type": "code",
   "execution_count": 70,
   "id": "acf87f73",
   "metadata": {},
   "outputs": [
    {
     "data": {
      "text/plain": [
       "veiculo_único_dono\n",
       "Único dono    10423\n",
       "Name: count, dtype: int64"
      ]
     },
     "execution_count": 70,
     "metadata": {},
     "output_type": "execute_result"
    }
   ],
   "source": [
    "# 21 coluna \"veiculo_único_dono\"\n",
    "df_train[\"veiculo_único_dono\"].value_counts()"
   ]
  },
  {
   "cell_type": "code",
   "execution_count": 71,
   "id": "3e3e365d",
   "metadata": {},
   "outputs": [
    {
     "data": {
      "text/plain": [
       "veiculo_único_dono\n",
       "Único dono    3475\n",
       "Name: count, dtype: int64"
      ]
     },
     "execution_count": 71,
     "metadata": {},
     "output_type": "execute_result"
    }
   ],
   "source": [
    "df_test[\"veiculo_único_dono\"].value_counts()"
   ]
  },
  {
   "cell_type": "code",
   "execution_count": 72,
   "id": "55cf15f3",
   "metadata": {},
   "outputs": [
    {
     "name": "stdout",
     "output_type": "stream",
     "text": [
      "category\n",
      "category\n"
     ]
    }
   ],
   "source": [
    "# converter os dados de object para categorico\n",
    "df_train[\"veiculo_único_dono\"] = df_train[\"veiculo_único_dono\"].astype(\"category\")\n",
    "df_test[\"veiculo_único_dono\"] = df_test[\"veiculo_único_dono\"].astype(\"category\")\n",
    "\n",
    "# Verificar os tipos de dados atualizados da coluna\n",
    "print(df_train[\"veiculo_único_dono\"].dtype)\n",
    "print(df_test[\"veiculo_único_dono\"].dtype)"
   ]
  },
  {
   "cell_type": "code",
   "execution_count": 73,
   "id": "baaea122",
   "metadata": {},
   "outputs": [
    {
     "data": {
      "text/plain": [
       "revisoes_concessionaria\n",
       "Todas as revisões feitas pela concessionária    9172\n",
       "Name: count, dtype: int64"
      ]
     },
     "execution_count": 73,
     "metadata": {},
     "output_type": "execute_result"
    }
   ],
   "source": [
    "# 22 coluna \"revisoes_concessionaria\"\n",
    "df_train[\"revisoes_concessionaria\"].value_counts()"
   ]
  },
  {
   "cell_type": "code",
   "execution_count": 74,
   "id": "b751e1f8",
   "metadata": {},
   "outputs": [
    {
     "data": {
      "text/plain": [
       "revisoes_concessionaria\n",
       "Todas as revisões feitas pela concessionária    3067\n",
       "Name: count, dtype: int64"
      ]
     },
     "execution_count": 74,
     "metadata": {},
     "output_type": "execute_result"
    }
   ],
   "source": [
    "df_test[\"revisoes_concessionaria\"].value_counts()"
   ]
  },
  {
   "cell_type": "code",
   "execution_count": 75,
   "id": "e7c25b93",
   "metadata": {},
   "outputs": [
    {
     "name": "stdout",
     "output_type": "stream",
     "text": [
      "category\n",
      "category\n"
     ]
    }
   ],
   "source": [
    "# converter os dados de object para categorico\n",
    "df_train[\"revisoes_concessionaria\"] = df_train[\"revisoes_concessionaria\"].astype(\"category\")\n",
    "df_test[\"revisoes_concessionaria\"] = df_test[\"revisoes_concessionaria\"].astype(\"category\")\n",
    "\n",
    "# Verificar os tipos de dados atualizados da coluna\n",
    "print(df_train[\"revisoes_concessionaria\"].dtype)\n",
    "print(df_test[\"revisoes_concessionaria\"].dtype)"
   ]
  },
  {
   "cell_type": "code",
   "execution_count": 76,
   "id": "8bdf7c9b",
   "metadata": {},
   "outputs": [
    {
     "data": {
      "text/plain": [
       "ipva_pago\n",
       "IPVA pago    19659\n",
       "Name: count, dtype: int64"
      ]
     },
     "execution_count": 76,
     "metadata": {},
     "output_type": "execute_result"
    }
   ],
   "source": [
    "# 23 coluna \"ipva_pago\"\n",
    "df_train[\"ipva_pago\"].value_counts()"
   ]
  },
  {
   "cell_type": "code",
   "execution_count": 77,
   "id": "690eb2fe",
   "metadata": {},
   "outputs": [
    {
     "data": {
      "text/plain": [
       "ipva_pago\n",
       "IPVA pago    6564\n",
       "Name: count, dtype: int64"
      ]
     },
     "execution_count": 77,
     "metadata": {},
     "output_type": "execute_result"
    }
   ],
   "source": [
    "df_test[\"ipva_pago\"].value_counts()"
   ]
  },
  {
   "cell_type": "code",
   "execution_count": 78,
   "id": "de38a94b",
   "metadata": {},
   "outputs": [
    {
     "name": "stdout",
     "output_type": "stream",
     "text": [
      "category\n",
      "category\n"
     ]
    }
   ],
   "source": [
    "# converter os dados de object para categorico\n",
    "df_train[\"ipva_pago\"] = df_train[\"ipva_pago\"].astype(\"category\")\n",
    "df_test[\"ipva_pago\"] = df_test[\"ipva_pago\"].astype(\"category\")\n",
    "\n",
    "# Verificar os tipos de dados atualizados da coluna\n",
    "print(df_train[\"ipva_pago\"].dtype)\n",
    "print(df_test[\"ipva_pago\"].dtype)"
   ]
  },
  {
   "cell_type": "code",
   "execution_count": 79,
   "id": "74943da4",
   "metadata": {},
   "outputs": [
    {
     "data": {
      "text/plain": [
       "veiculo_licenciado\n",
       "Licenciado    15906\n",
       "Name: count, dtype: int64"
      ]
     },
     "execution_count": 79,
     "metadata": {},
     "output_type": "execute_result"
    }
   ],
   "source": [
    "# 24 coluna \"veiculo_licenciado\"\n",
    "df_train[\"veiculo_licenciado\"].value_counts()"
   ]
  },
  {
   "cell_type": "code",
   "execution_count": 80,
   "id": "ebc7b37f",
   "metadata": {},
   "outputs": [
    {
     "data": {
      "text/plain": [
       "veiculo_licenciado\n",
       "Licenciado    5344\n",
       "Name: count, dtype: int64"
      ]
     },
     "execution_count": 80,
     "metadata": {},
     "output_type": "execute_result"
    }
   ],
   "source": [
    "df_test[\"veiculo_licenciado\"].value_counts()"
   ]
  },
  {
   "cell_type": "code",
   "execution_count": 81,
   "id": "9fda7635",
   "metadata": {},
   "outputs": [
    {
     "name": "stdout",
     "output_type": "stream",
     "text": [
      "category\n",
      "category\n"
     ]
    }
   ],
   "source": [
    "# converter os dados de object para categorico\n",
    "df_train[\"veiculo_licenciado\"] = df_train[\"veiculo_licenciado\"].astype(\"category\")\n",
    "df_test[\"veiculo_licenciado\"] = df_test[\"veiculo_licenciado\"].astype(\"category\")\n",
    "\n",
    "# Verificar os tipos de dados atualizados da coluna\n",
    "print(df_train[\"veiculo_licenciado\"].dtype)\n",
    "print(df_test[\"veiculo_licenciado\"].dtype)"
   ]
  },
  {
   "cell_type": "code",
   "execution_count": 82,
   "id": "e1c70021",
   "metadata": {},
   "outputs": [
    {
     "data": {
      "text/plain": [
       "garantia_de_fábrica\n",
       "Garantia de fábrica    4365\n",
       "Name: count, dtype: int64"
      ]
     },
     "execution_count": 82,
     "metadata": {},
     "output_type": "execute_result"
    }
   ],
   "source": [
    "# 25 coluna \"garantia_de_fábrica\"\n",
    "df_train[\"garantia_de_fábrica\"].value_counts()"
   ]
  },
  {
   "cell_type": "code",
   "execution_count": 83,
   "id": "83165b0b",
   "metadata": {},
   "outputs": [
    {
     "data": {
      "text/plain": [
       "garantia_de_fábrica\n",
       "Garantia de fábrica    1423\n",
       "Name: count, dtype: int64"
      ]
     },
     "execution_count": 83,
     "metadata": {},
     "output_type": "execute_result"
    }
   ],
   "source": [
    "df_test[\"garantia_de_fábrica\"].value_counts()"
   ]
  },
  {
   "cell_type": "code",
   "execution_count": 84,
   "id": "fbe12856",
   "metadata": {},
   "outputs": [
    {
     "name": "stdout",
     "output_type": "stream",
     "text": [
      "category\n",
      "category\n"
     ]
    }
   ],
   "source": [
    "# converter os dados de object para categorico\n",
    "df_train[\"garantia_de_fábrica\"] = df_train[\"garantia_de_fábrica\"].astype(\"category\")\n",
    "df_test[\"garantia_de_fábrica\"] = df_test[\"garantia_de_fábrica\"].astype(\"category\")\n",
    "\n",
    "# Verificar os tipos de dados atualizados da coluna\n",
    "print(df_train[\"garantia_de_fábrica\"].dtype)\n",
    "print(df_test[\"garantia_de_fábrica\"].dtype)"
   ]
  },
  {
   "cell_type": "code",
   "execution_count": 85,
   "id": "75313447",
   "metadata": {},
   "outputs": [
    {
     "data": {
      "text/plain": [
       "revisoes_dentro_agenda\n",
       "Todas as revisões feitas pela agenda do carro    5910\n",
       "Name: count, dtype: int64"
      ]
     },
     "execution_count": 85,
     "metadata": {},
     "output_type": "execute_result"
    }
   ],
   "source": [
    "# 26 coluna \"revisoes_dentro_agenda\"\n",
    "df_train[\"revisoes_dentro_agenda\"].value_counts()"
   ]
  },
  {
   "cell_type": "code",
   "execution_count": 86,
   "id": "56d6ce86",
   "metadata": {},
   "outputs": [
    {
     "data": {
      "text/plain": [
       "revisoes_dentro_agenda\n",
       "Todas as revisões feitas pela agenda do carro    1993\n",
       "Name: count, dtype: int64"
      ]
     },
     "execution_count": 86,
     "metadata": {},
     "output_type": "execute_result"
    }
   ],
   "source": [
    "df_test[\"revisoes_dentro_agenda\"].value_counts()"
   ]
  },
  {
   "cell_type": "code",
   "execution_count": 87,
   "id": "66851754",
   "metadata": {},
   "outputs": [
    {
     "name": "stdout",
     "output_type": "stream",
     "text": [
      "category\n",
      "category\n"
     ]
    }
   ],
   "source": [
    "# converter os dados de object para categorico\n",
    "df_train[\"revisoes_dentro_agenda\"] = df_train[\"revisoes_dentro_agenda\"].astype(\"category\")\n",
    "df_test[\"revisoes_dentro_agenda\"] = df_test[\"revisoes_dentro_agenda\"].astype(\"category\")\n",
    "\n",
    "# Verificar os tipos de dados atualizados da coluna\n",
    "print(df_train[\"revisoes_dentro_agenda\"].dtype)\n",
    "print(df_test[\"revisoes_dentro_agenda\"].dtype)"
   ]
  },
  {
   "cell_type": "code",
   "execution_count": 88,
   "id": "3090cf24",
   "metadata": {},
   "outputs": [
    {
     "data": {
      "text/plain": [
       "Series([], Name: count, dtype: int64)"
      ]
     },
     "execution_count": 88,
     "metadata": {},
     "output_type": "execute_result"
    }
   ],
   "source": [
    "# 27 coluna \"veiculo_alienado\" \n",
    "df_train[\"veiculo_alienado\"].value_counts()"
   ]
  },
  {
   "cell_type": "code",
   "execution_count": 89,
   "id": "34f1e53b",
   "metadata": {},
   "outputs": [
    {
     "data": {
      "text/plain": [
       "Series([], Name: count, dtype: int64)"
      ]
     },
     "execution_count": 89,
     "metadata": {},
     "output_type": "execute_result"
    }
   ],
   "source": [
    "df_test[\"veiculo_alienado\"].value_counts()"
   ]
  },
  {
   "cell_type": "code",
   "execution_count": 90,
   "id": "f88aee60",
   "metadata": {},
   "outputs": [
    {
     "data": {
      "text/plain": [
       "preco\n",
       "7.473.259.008.373.930     1\n",
       "9.159.064.294.214.690     1\n",
       "1.515.658.785.087.030     1\n",
       "2.239.269.909.210.560     1\n",
       "16.776.575.600.627.500    1\n",
       "                         ..\n",
       "343.976.640.460.006       1\n",
       "28.719.260.904.618.300    1\n",
       "1.379.983.440.960.510     1\n",
       "7.661.572.975.536.530     1\n",
       "13.250.787.318.702.800    1\n",
       "Name: count, Length: 29584, dtype: int64"
      ]
     },
     "execution_count": 90,
     "metadata": {},
     "output_type": "execute_result"
    }
   ],
   "source": [
    "# 28 coluna \"preco\"\n",
    "df_train[\"preco\"].value_counts()"
   ]
  },
  {
   "cell_type": "code",
   "execution_count": 91,
   "id": "bd4066b3",
   "metadata": {},
   "outputs": [
    {
     "name": "stdout",
     "output_type": "stream",
     "text": [
      "<class 'pandas.core.frame.DataFrame'>\n",
      "RangeIndex: 29584 entries, 0 to 29583\n",
      "Data columns (total 29 columns):\n",
      " #   Column                   Non-Null Count  Dtype   \n",
      "---  ------                   --------------  -----   \n",
      " 0   id                       29584 non-null  object  \n",
      " 1   num_fotos                29584 non-null  int32   \n",
      " 2   marca                    29584 non-null  category\n",
      " 3   modelo                   29584 non-null  category\n",
      " 4   versao                   29584 non-null  category\n",
      " 5   ano_de_fabricacao        29584 non-null  int64   \n",
      " 6   ano_modelo               29584 non-null  int32   \n",
      " 7   hodometro                29584 non-null  int32   \n",
      " 8   cambio                   29584 non-null  category\n",
      " 9   num_portas               29584 non-null  int64   \n",
      " 10  tipo                     29584 non-null  category\n",
      " 11  blindado                 29584 non-null  category\n",
      " 12  cor                      29584 non-null  category\n",
      " 13  tipo_vendedor            29584 non-null  category\n",
      " 14  cidade_vendedor          29584 non-null  category\n",
      " 15  estado_vendedor          29584 non-null  category\n",
      " 16  anunciante               29584 non-null  category\n",
      " 17  entrega_delivery         29584 non-null  bool    \n",
      " 18  troca                    29584 non-null  bool    \n",
      " 19  elegivel_revisao         29584 non-null  bool    \n",
      " 20  dono_aceita_troca        21922 non-null  category\n",
      " 21  veiculo_único_dono       10423 non-null  category\n",
      " 22  revisoes_concessionaria  9172 non-null   category\n",
      " 23  ipva_pago                19659 non-null  category\n",
      " 24  veiculo_licenciado       15906 non-null  category\n",
      " 25  garantia_de_fábrica      4365 non-null   category\n",
      " 26  revisoes_dentro_agenda   5910 non-null   category\n",
      " 27  veiculo_alienado         0 non-null      float64 \n",
      " 28  preco                    29584 non-null  object  \n",
      "dtypes: bool(3), category(18), float64(1), int32(3), int64(2), object(2)\n",
      "memory usage: 2.3+ MB\n"
     ]
    }
   ],
   "source": [
    "df_train.info()"
   ]
  },
  {
   "cell_type": "code",
   "execution_count": 92,
   "id": "227c42f2",
   "metadata": {},
   "outputs": [
    {
     "name": "stdout",
     "output_type": "stream",
     "text": [
      "<class 'pandas.core.frame.DataFrame'>\n",
      "RangeIndex: 9862 entries, 0 to 9861\n",
      "Data columns (total 28 columns):\n",
      " #   Column                   Non-Null Count  Dtype   \n",
      "---  ------                   --------------  -----   \n",
      " 0   id                       9862 non-null   object  \n",
      " 1   num_fotos                9862 non-null   int32   \n",
      " 2   marca                    9862 non-null   category\n",
      " 3   modelo                   9862 non-null   category\n",
      " 4   versao                   9862 non-null   category\n",
      " 5   ano_de_fabricacao        9862 non-null   int64   \n",
      " 6   ano_modelo               9862 non-null   int32   \n",
      " 7   hodometro                9862 non-null   int32   \n",
      " 8   cambio                   9862 non-null   category\n",
      " 9   num_portas               9862 non-null   int64   \n",
      " 10  tipo                     9862 non-null   category\n",
      " 11  blindado                 9862 non-null   category\n",
      " 12  cor                      9862 non-null   category\n",
      " 13  tipo_vendedor            9862 non-null   category\n",
      " 14  cidade_vendedor          9862 non-null   category\n",
      " 15  estado_vendedor          9862 non-null   category\n",
      " 16  anunciante               9862 non-null   category\n",
      " 17  entrega_delivery         9862 non-null   bool    \n",
      " 18  troca                    9862 non-null   bool    \n",
      " 19  elegivel_revisao         9862 non-null   bool    \n",
      " 20  dono_aceita_troca        7308 non-null   category\n",
      " 21  veiculo_único_dono       3475 non-null   category\n",
      " 22  revisoes_concessionaria  3067 non-null   category\n",
      " 23  ipva_pago                6564 non-null   category\n",
      " 24  veiculo_licenciado       5344 non-null   category\n",
      " 25  garantia_de_fábrica      1423 non-null   category\n",
      " 26  revisoes_dentro_agenda   1993 non-null   category\n",
      " 27  veiculo_alienado         0 non-null      float64 \n",
      "dtypes: bool(3), category(18), float64(1), int32(3), int64(2), object(1)\n",
      "memory usage: 724.1+ KB\n"
     ]
    }
   ],
   "source": [
    "df_test.info()"
   ]
  },
  {
   "cell_type": "markdown",
   "id": "d23daba9",
   "metadata": {},
   "source": [
    "# Conversão do formato do arquivo de csv para  parquet\n",
    "Escolhi mudar para o formato **Parquet**, pois, pensando no dia-a-dia de um cientista de dados, \n",
    "é uma escolha recomendável para armazenar conjuntos de dados de machine learning\n",
    "devido à sua eficiência, compressão de dados, suporte a particionamento, \n",
    "integração com ecossistemas de big data e capacidade de lidar com esquemas complexos."
   ]
  },
  {
   "cell_type": "code",
   "execution_count": 93,
   "id": "582aa8aa",
   "metadata": {},
   "outputs": [
    {
     "name": "stdout",
     "output_type": "stream",
     "text": [
      "<class 'pandas.core.frame.DataFrame'>\n",
      "RangeIndex: 29584 entries, 0 to 29583\n",
      "Data columns (total 29 columns):\n",
      " #   Column                   Non-Null Count  Dtype   \n",
      "---  ------                   --------------  -----   \n",
      " 0   id                       29584 non-null  object  \n",
      " 1   num_fotos                29584 non-null  int32   \n",
      " 2   marca                    29584 non-null  category\n",
      " 3   modelo                   29584 non-null  category\n",
      " 4   versao                   29584 non-null  category\n",
      " 5   ano_de_fabricacao        29584 non-null  int64   \n",
      " 6   ano_modelo               29584 non-null  int32   \n",
      " 7   hodometro                29584 non-null  int32   \n",
      " 8   cambio                   29584 non-null  category\n",
      " 9   num_portas               29584 non-null  int64   \n",
      " 10  tipo                     29584 non-null  category\n",
      " 11  blindado                 29584 non-null  category\n",
      " 12  cor                      29584 non-null  category\n",
      " 13  tipo_vendedor            29584 non-null  category\n",
      " 14  cidade_vendedor          29584 non-null  category\n",
      " 15  estado_vendedor          29584 non-null  category\n",
      " 16  anunciante               29584 non-null  category\n",
      " 17  entrega_delivery         29584 non-null  bool    \n",
      " 18  troca                    29584 non-null  bool    \n",
      " 19  elegivel_revisao         29584 non-null  bool    \n",
      " 20  dono_aceita_troca        21922 non-null  category\n",
      " 21  veiculo_único_dono       10423 non-null  category\n",
      " 22  revisoes_concessionaria  9172 non-null   category\n",
      " 23  ipva_pago                19659 non-null  category\n",
      " 24  veiculo_licenciado       15906 non-null  category\n",
      " 25  garantia_de_fábrica      4365 non-null   category\n",
      " 26  revisoes_dentro_agenda   5910 non-null   category\n",
      " 27  veiculo_alienado         0 non-null      float64 \n",
      " 28  preco                    29584 non-null  object  \n",
      "dtypes: bool(3), category(18), float64(1), int32(3), int64(2), object(2)\n",
      "memory usage: 2.3+ MB\n"
     ]
    }
   ],
   "source": [
    "# converter formato do arquivo de csv para parquet \n",
    "\n",
    "df_train.to_parquet(\"cars_train\")\n",
    "df2 = pd.read_parquet(\"cars_train\")\n",
    "\n",
    "df2.info()"
   ]
  },
  {
   "cell_type": "code",
   "execution_count": 94,
   "id": "2b23e62a",
   "metadata": {},
   "outputs": [
    {
     "name": "stdout",
     "output_type": "stream",
     "text": [
      "<class 'pandas.core.frame.DataFrame'>\n",
      "RangeIndex: 9862 entries, 0 to 9861\n",
      "Data columns (total 28 columns):\n",
      " #   Column                   Non-Null Count  Dtype   \n",
      "---  ------                   --------------  -----   \n",
      " 0   id                       9862 non-null   object  \n",
      " 1   num_fotos                9862 non-null   int32   \n",
      " 2   marca                    9862 non-null   category\n",
      " 3   modelo                   9862 non-null   category\n",
      " 4   versao                   9862 non-null   category\n",
      " 5   ano_de_fabricacao        9862 non-null   int64   \n",
      " 6   ano_modelo               9862 non-null   int32   \n",
      " 7   hodometro                9862 non-null   int32   \n",
      " 8   cambio                   9862 non-null   category\n",
      " 9   num_portas               9862 non-null   int64   \n",
      " 10  tipo                     9862 non-null   category\n",
      " 11  blindado                 9862 non-null   category\n",
      " 12  cor                      9862 non-null   category\n",
      " 13  tipo_vendedor            9862 non-null   category\n",
      " 14  cidade_vendedor          9862 non-null   category\n",
      " 15  estado_vendedor          9862 non-null   category\n",
      " 16  anunciante               9862 non-null   category\n",
      " 17  entrega_delivery         9862 non-null   bool    \n",
      " 18  troca                    9862 non-null   bool    \n",
      " 19  elegivel_revisao         9862 non-null   bool    \n",
      " 20  dono_aceita_troca        7308 non-null   category\n",
      " 21  veiculo_único_dono       3475 non-null   category\n",
      " 22  revisoes_concessionaria  3067 non-null   category\n",
      " 23  ipva_pago                6564 non-null   category\n",
      " 24  veiculo_licenciado       5344 non-null   category\n",
      " 25  garantia_de_fábrica      1423 non-null   category\n",
      " 26  revisoes_dentro_agenda   1993 non-null   category\n",
      " 27  veiculo_alienado         0 non-null      float64 \n",
      "dtypes: bool(3), category(18), float64(1), int32(3), int64(2), object(1)\n",
      "memory usage: 724.1+ KB\n"
     ]
    }
   ],
   "source": [
    "df_test.to_parquet(\"cars_test\")\n",
    "df3 = pd.read_parquet(\"cars_test\")\n",
    "\n",
    "df3.info()"
   ]
  }
 ],
 "metadata": {
  "kernelspec": {
   "display_name": "Python 3 (ipykernel)",
   "language": "python",
   "name": "python3"
  },
  "language_info": {
   "codemirror_mode": {
    "name": "ipython",
    "version": 3
   },
   "file_extension": ".py",
   "mimetype": "text/x-python",
   "name": "python",
   "nbconvert_exporter": "python",
   "pygments_lexer": "ipython3",
   "version": "3.11.5"
  }
 },
 "nbformat": 4,
 "nbformat_minor": 5
}
