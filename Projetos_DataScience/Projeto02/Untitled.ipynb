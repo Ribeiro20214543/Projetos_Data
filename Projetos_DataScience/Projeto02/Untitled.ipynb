{
 "cells": [
  {
   "cell_type": "code",
   "execution_count": null,
   "id": "bc219bd6",
   "metadata": {},
   "outputs": [],
   "source": [
    "\n",
    "moda_revisoes_concessionaria = df_2['revisoes_concessionaria'].mode().values[0]\n",
    "moda_ipva_pago = df_2['ipva_pago'].mode().values[0]\n",
    "moda_veiculo_licenciado = df_2['veiculo_licenciado'].mode().values[0]\n",
    "moda_garantia_de_fábrica = df_2['garantia_de_fábrica'].mode().values[0]\n",
    "moda_revisoes_dentro_agenda = df_2['revisoes_dentro_agenda'].mode().values[0]"
   ]
  },
  {
   "cell_type": "code",
   "execution_count": null,
   "id": "85d1cf8f",
   "metadata": {},
   "outputs": [],
   "source": [
    "print('O {}MODELO{} mais comum dos veículos anunciados é: {}{}'.format('\\033[1m','\\033[m','\\033[1m', moda_modelo, '\\033[m'))"
   ]
  },
  {
   "cell_type": "code",
   "execution_count": null,
   "id": "a832dbf4",
   "metadata": {},
   "outputs": [],
   "source": [
    "print(\"O modelo mais comum dos veículos anunciados é:\", moda_modelo)\n",
    "print(\"A versão mais comum dos veículos anunciados é:\", moda_versao)\n",
    "print(\"O ano de facricação mais comum dos veículos anunciados é:\", moda_ano_de_fabricacao)\n",
    "print(\"O ano do modelo  mais comum dos veículos anunciados é:\", moda_ano_modelo)\n",
    "print(\"O cambio mais comum dos veículos anunciados é:\", moda_cambio)\n",
    "print(\"A quantidade de portas mais comum dos veículos anunciados é:\", moda_num_portas)\n",
    "print(\"O tipo mais comum dos veículos anunciados é:\", moda_tipo)\n",
    "print(\"O blindado tipo mais comum dos veículos anunciados é:\", moda_blindado)\n",
    "print(\"A cor mais comum dos veículos anunciados é:\", moda_cor)\n",
    "print(\"O tipo_vendedor mais comum dos veículos anunciados é:\", moda_tipo_vendedor)\n",
    "print(\"A cidade do vendedor mais comum dos veículos anunciados é:\", moda_cidade_vendedor)\n",
    "print(\"O estado do vendedor mais comum dos veículos anunciados é:\", moda_estado_vendedor)\n",
    "print(\"O anunciante mais comum dos veículos anunciados é:\", moda_anunciante)\n",
    "print(\"A entrega delivery  mais comum dos veículos anunciados é:\", moda_entrega_delivery)\n",
    "print(\"A troca mais comum dos veículos anunciados é:\", moda_troca)\n",
    "print(\"A elegivel_revisao mais comum dos veículos anunciados é:\", moda_elegivel_revisao)\n",
    "print(\"A dono_aceita_troca mais comum dos veículos anunciados é:\", moda_dono_aceita_troca)\n",
    "print(\"A veiculo_único_dono mais comum dos veículos anunciados é:\", moda_veiculo_único_dono)\n",
    "print(\"A revisoes_concessionaria mais comum dos veículos anunciados é:\", moda_revisoes_concessionaria)\n",
    "print(\"A ipva_pago mais comum dos veículos anunciados é:\", moda_ipva_pago)\n",
    "print(\"A veiculo_licenciado mais comum dos veículos anunciados é:\", moda_veiculo_licenciado)\n",
    "print(\"A garantia_de_fábrica mais comum dos veículos anunciados é:\", moda_garantia_de_fábrica)\n",
    "print(\"A revisoes_dentro_agenda mais comum dos veículos anunciados é:\", moda_revisoes_dentro_agenda)"
   ]
  }
 ],
 "metadata": {
  "kernelspec": {
   "display_name": "Python 3 (ipykernel)",
   "language": "python",
   "name": "python3"
  },
  "language_info": {
   "codemirror_mode": {
    "name": "ipython",
    "version": 3
   },
   "file_extension": ".py",
   "mimetype": "text/x-python",
   "name": "python",
   "nbconvert_exporter": "python",
   "pygments_lexer": "ipython3",
   "version": "3.11.5"
  }
 },
 "nbformat": 4,
 "nbformat_minor": 5
}
