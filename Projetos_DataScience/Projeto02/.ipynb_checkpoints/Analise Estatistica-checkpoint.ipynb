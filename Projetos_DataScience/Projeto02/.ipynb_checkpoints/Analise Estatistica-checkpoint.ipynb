{
 "cells": [
  {
   "cell_type": "markdown",
   "id": "15c18745",
   "metadata": {},
   "source": [
    "# Coletando os dados"
   ]
  },
  {
   "cell_type": "code",
   "execution_count": 1,
   "id": "01434ea3",
   "metadata": {},
   "outputs": [],
   "source": [
    "import pandas as pd\n",
    "import numpy as np\n",
    "import matplotlib.pyplot as plt\n",
    "import seaborn as sns"
   ]
  },
  {
   "cell_type": "code",
   "execution_count": 2,
   "id": "a9059c58",
   "metadata": {},
   "outputs": [],
   "source": [
    "# abre os arquivos\n",
    "\n",
    "df_train = pd.read_parquet(\"cars_train\")"
   ]
  },
  {
   "cell_type": "markdown",
   "id": "b4a570f5",
   "metadata": {},
   "source": [
    "# Análise Exploratória de Dados (EAD)"
   ]
  },
  {
   "cell_type": "markdown",
   "id": "53fe53d0",
   "metadata": {},
   "source": [
    "Para esta análise  com objetivo de demonstração de conhecimentos de estatística, considerou-se apenas os dados do arquivo cars_train. No entanto, na rotina do cientista de dados, ele recebe apenas um dataset que , primeiro, faz-se a devida inspeção,  tratamento e análise dos dados, na sequência é preparado para o treinamento de Machine Learning, em que se dividi em dois datasets, um para treinamento e outro para teste, considerando normalmente uma amostra extratificada de 80% para treinamento e 20% para teste. "
   ]
  },
  {
   "cell_type": "markdown",
   "id": "62138b32",
   "metadata": {},
   "source": [
    "## Etapas da EAD\n",
    "1. preparar os dados para serem acessíveis a qualquer técnica estatística;\n",
    "2. realizar um exame gráfico da natureza das variáveis individuais a analizar \n",
    "   e uma análise descritiva que permita quantificar alguns aspectos gráficos dos dados;\n",
    "3. realizar um exame gráfico das relações entre as variáveis analisadas \n",
    "   e uma análise descritiva que quantifique o grau de interrelação entre elas;\n",
    "4. identificar os possíveis casos atípicos (outliers); \n",
    "5. avaliar, se for necesário, a presença de dados ausentes (missing);\n",
    "6. avaliar, se for necesário, algumas suposições básicas, como normalidade, lineariedade e homocedasticidade."
   ]
  },
  {
   "cell_type": "markdown",
   "id": "a350a166",
   "metadata": {},
   "source": [
    "### Preparação dos dados"
   ]
  },
  {
   "cell_type": "code",
   "execution_count": 3,
   "id": "5a232c7d",
   "metadata": {},
   "outputs": [
    {
     "data": {
      "text/plain": [
       "id                             0\n",
       "num_fotos                      0\n",
       "marca                          0\n",
       "modelo                         0\n",
       "versao                         0\n",
       "ano_de_fabricacao              0\n",
       "ano_modelo                     0\n",
       "hodometro                      0\n",
       "cambio                         0\n",
       "num_portas                     0\n",
       "tipo                           0\n",
       "blindado                       0\n",
       "cor                            0\n",
       "tipo_vendedor                  0\n",
       "cidade_vendedor                0\n",
       "estado_vendedor                0\n",
       "anunciante                     0\n",
       "entrega_delivery               0\n",
       "troca                          0\n",
       "elegivel_revisao               0\n",
       "dono_aceita_troca           7662\n",
       "veiculo_único_dono         19161\n",
       "revisoes_concessionaria    20412\n",
       "ipva_pago                   9925\n",
       "veiculo_licenciado         13678\n",
       "garantia_de_fábrica        25219\n",
       "revisoes_dentro_agenda     23674\n",
       "veiculo_alienado           29584\n",
       "preco                          0\n",
       "dtype: int64"
      ]
     },
     "execution_count": 3,
     "metadata": {},
     "output_type": "execute_result"
    }
   ],
   "source": [
    "# número de dados faltantes em cada coluna\n",
    "df_train.isna().sum()"
   ]
  },
  {
   "cell_type": "code",
   "execution_count": 4,
   "id": "c8029e03",
   "metadata": {},
   "outputs": [
    {
     "data": {
      "text/plain": [
       "Index(['id', 'num_fotos', 'marca', 'modelo', 'versao', 'ano_de_fabricacao',\n",
       "       'ano_modelo', 'hodometro', 'cambio', 'num_portas', 'tipo', 'blindado',\n",
       "       'cor', 'tipo_vendedor', 'cidade_vendedor', 'estado_vendedor',\n",
       "       'anunciante', 'entrega_delivery', 'troca', 'elegivel_revisao',\n",
       "       'dono_aceita_troca', 'veiculo_único_dono', 'revisoes_concessionaria',\n",
       "       'ipva_pago', 'veiculo_licenciado', 'garantia_de_fábrica',\n",
       "       'revisoes_dentro_agenda', 'veiculo_alienado', 'preco'],\n",
       "      dtype='object')"
      ]
     },
     "execution_count": 4,
     "metadata": {},
     "output_type": "execute_result"
    }
   ],
   "source": [
    "# os nomes das colunas\n",
    "df_train.columns"
   ]
  },
  {
   "cell_type": "code",
   "execution_count": 5,
   "id": "8dd0e95b",
   "metadata": {},
   "outputs": [],
   "source": [
    "# selecionar somente as colunas a serem utilizadas na análise\n",
    "colunas=['num_fotos', 'marca', 'modelo', 'versao', 'ano_de_fabricacao',\n",
    "       'ano_modelo', 'hodometro', 'cambio', 'num_portas', 'tipo', 'blindado',\n",
    "       'cor', 'tipo_vendedor', 'cidade_vendedor', 'estado_vendedor',\n",
    "       'anunciante', 'entrega_delivery', 'troca', 'elegivel_revisao',\n",
    "       'dono_aceita_troca', 'veiculo_único_dono', 'revisoes_concessionaria',\n",
    "       'ipva_pago', 'veiculo_licenciado', 'garantia_de_fábrica',\n",
    "       'revisoes_dentro_agenda', 'veiculo_alienado', 'preco']\n",
    "\n",
    "df_train = df_train.loc[:, colunas]"
   ]
  },
  {
   "cell_type": "markdown",
   "id": "dc90b91e",
   "metadata": {},
   "source": [
    " **Valores Nulos** podem ser prejudiciais para algumas análises ou modelos de machine learning.Além de influenciarem na análise estatística de várias maneiras, dependendo do método de análise e do contexto dos dados. Portanto, é importante analisar cada caso para assim escolher a melhor estratégia a ser aplicada."
   ]
  },
  {
   "cell_type": "code",
   "execution_count": 6,
   "id": "aba8aa7c",
   "metadata": {},
   "outputs": [
    {
     "data": {
      "text/plain": [
       "[NaN, 'Aceita troca']\n",
       "Categories (1, object): ['Aceita troca']"
      ]
     },
     "execution_count": 6,
     "metadata": {},
     "output_type": "execute_result"
    }
   ],
   "source": [
    "df_train['dono_aceita_troca'].unique()"
   ]
  },
  {
   "cell_type": "code",
   "execution_count": 7,
   "id": "bf130c5c",
   "metadata": {},
   "outputs": [
    {
     "data": {
      "text/plain": [
       "[NaN, 'Único dono']\n",
       "Categories (1, object): ['Único dono']"
      ]
     },
     "execution_count": 7,
     "metadata": {},
     "output_type": "execute_result"
    }
   ],
   "source": [
    "df_train['veiculo_único_dono'].unique()"
   ]
  },
  {
   "cell_type": "code",
   "execution_count": 8,
   "id": "ec85e9db",
   "metadata": {},
   "outputs": [
    {
     "data": {
      "text/plain": [
       "['Todas as revisões feitas pela concessionária', NaN]\n",
       "Categories (1, object): ['Todas as revisões feitas pela concessionária']"
      ]
     },
     "execution_count": 8,
     "metadata": {},
     "output_type": "execute_result"
    }
   ],
   "source": [
    "df_train['revisoes_concessionaria'].unique()"
   ]
  },
  {
   "cell_type": "code",
   "execution_count": 9,
   "id": "d413ff59",
   "metadata": {},
   "outputs": [
    {
     "data": {
      "text/plain": [
       "['IPVA pago', NaN]\n",
       "Categories (1, object): ['IPVA pago']"
      ]
     },
     "execution_count": 9,
     "metadata": {},
     "output_type": "execute_result"
    }
   ],
   "source": [
    "df_train['ipva_pago'].unique()"
   ]
  },
  {
   "cell_type": "code",
   "execution_count": 10,
   "id": "6b0d4da8",
   "metadata": {},
   "outputs": [
    {
     "data": {
      "text/plain": [
       "['Licenciado', NaN]\n",
       "Categories (1, object): ['Licenciado']"
      ]
     },
     "execution_count": 10,
     "metadata": {},
     "output_type": "execute_result"
    }
   ],
   "source": [
    "df_train['veiculo_licenciado'].unique()"
   ]
  },
  {
   "cell_type": "code",
   "execution_count": 11,
   "id": "0c6c4c6d",
   "metadata": {},
   "outputs": [
    {
     "data": {
      "text/plain": [
       "[NaN, 'Garantia de fábrica']\n",
       "Categories (1, object): ['Garantia de fábrica']"
      ]
     },
     "execution_count": 11,
     "metadata": {},
     "output_type": "execute_result"
    }
   ],
   "source": [
    "df_train['garantia_de_fábrica'].unique()"
   ]
  },
  {
   "cell_type": "code",
   "execution_count": 12,
   "id": "2013b4e9",
   "metadata": {},
   "outputs": [
    {
     "data": {
      "text/plain": [
       "[NaN, 'Todas as revisões feitas pela agenda do carro']\n",
       "Categories (1, object): ['Todas as revisões feitas pela agenda do carro']"
      ]
     },
     "execution_count": 12,
     "metadata": {},
     "output_type": "execute_result"
    }
   ],
   "source": [
    "df_train['revisoes_dentro_agenda'].unique()"
   ]
  },
  {
   "cell_type": "code",
   "execution_count": 13,
   "id": "73bc34d3",
   "metadata": {},
   "outputs": [
    {
     "data": {
      "text/plain": [
       "array([nan])"
      ]
     },
     "execution_count": 13,
     "metadata": {},
     "output_type": "execute_result"
    }
   ],
   "source": [
    "df_train['veiculo_alienado'].unique()"
   ]
  },
  {
   "cell_type": "markdown",
   "id": "abc6e8b8",
   "metadata": {},
   "source": [
    "**OBS: Após observação das colunas que apresentam valores nulos, definiu-se por ignorar temporariamente, pois após analisar cada caso observou-se que para esta análise estatística não apresentam nenhum prejuízo.** "
   ]
  },
  {
   "cell_type": "markdown",
   "id": "1450c477",
   "metadata": {},
   "source": [
    "### Natureza dos dados: Escala de Mensuração e Tipos de Variáveis"
   ]
  },
  {
   "cell_type": "code",
   "execution_count": 14,
   "id": "ef258683",
   "metadata": {},
   "outputs": [
    {
     "name": "stdout",
     "output_type": "stream",
     "text": [
      "<class 'pandas.core.frame.DataFrame'>\n",
      "RangeIndex: 29584 entries, 0 to 29583\n",
      "Data columns (total 28 columns):\n",
      " #   Column                   Non-Null Count  Dtype   \n",
      "---  ------                   --------------  -----   \n",
      " 0   num_fotos                29584 non-null  int32   \n",
      " 1   marca                    29584 non-null  category\n",
      " 2   modelo                   29584 non-null  category\n",
      " 3   versao                   29584 non-null  category\n",
      " 4   ano_de_fabricacao        29584 non-null  int64   \n",
      " 5   ano_modelo               29584 non-null  int32   \n",
      " 6   hodometro                29584 non-null  int32   \n",
      " 7   cambio                   29584 non-null  category\n",
      " 8   num_portas               29584 non-null  int64   \n",
      " 9   tipo                     29584 non-null  category\n",
      " 10  blindado                 29584 non-null  category\n",
      " 11  cor                      29584 non-null  category\n",
      " 12  tipo_vendedor            29584 non-null  category\n",
      " 13  cidade_vendedor          29584 non-null  category\n",
      " 14  estado_vendedor          29584 non-null  category\n",
      " 15  anunciante               29584 non-null  category\n",
      " 16  entrega_delivery         29584 non-null  bool    \n",
      " 17  troca                    29584 non-null  bool    \n",
      " 18  elegivel_revisao         29584 non-null  bool    \n",
      " 19  dono_aceita_troca        21922 non-null  category\n",
      " 20  veiculo_único_dono       10423 non-null  category\n",
      " 21  revisoes_concessionaria  9172 non-null   category\n",
      " 22  ipva_pago                19659 non-null  category\n",
      " 23  veiculo_licenciado       15906 non-null  category\n",
      " 24  garantia_de_fábrica      4365 non-null   category\n",
      " 25  revisoes_dentro_agenda   5910 non-null   category\n",
      " 26  veiculo_alienado         0 non-null      float64 \n",
      " 27  preco                    29584 non-null  object  \n",
      "dtypes: bool(3), category(18), float64(1), int32(3), int64(2), object(1)\n",
      "memory usage: 2.0+ MB\n"
     ]
    }
   ],
   "source": [
    "# verificar a escala de mensuração e o tipo dos dados\n",
    "df_train.info()"
   ]
  },
  {
   "cell_type": "code",
   "execution_count": 15,
   "id": "80a5f36f",
   "metadata": {},
   "outputs": [
    {
     "data": {
      "text/html": [
       "<div>\n",
       "<style scoped>\n",
       "    .dataframe tbody tr th:only-of-type {\n",
       "        vertical-align: middle;\n",
       "    }\n",
       "\n",
       "    .dataframe tbody tr th {\n",
       "        vertical-align: top;\n",
       "    }\n",
       "\n",
       "    .dataframe thead th {\n",
       "        text-align: right;\n",
       "    }\n",
       "</style>\n",
       "<table border=\"1\" class=\"dataframe\">\n",
       "  <thead>\n",
       "    <tr style=\"text-align: right;\">\n",
       "      <th></th>\n",
       "      <th>num_fotos</th>\n",
       "      <th>ano_de_fabricacao</th>\n",
       "      <th>ano_modelo</th>\n",
       "      <th>hodometro</th>\n",
       "      <th>num_portas</th>\n",
       "      <th>veiculo_alienado</th>\n",
       "    </tr>\n",
       "  </thead>\n",
       "  <tbody>\n",
       "    <tr>\n",
       "      <th>count</th>\n",
       "      <td>29584.000000</td>\n",
       "      <td>29584.000000</td>\n",
       "      <td>29584.000000</td>\n",
       "      <td>29584.000000</td>\n",
       "      <td>29584.000000</td>\n",
       "      <td>0.0</td>\n",
       "    </tr>\n",
       "    <tr>\n",
       "      <th>mean</th>\n",
       "      <td>10.262067</td>\n",
       "      <td>2016.758552</td>\n",
       "      <td>2017.808985</td>\n",
       "      <td>58430.592077</td>\n",
       "      <td>3.940677</td>\n",
       "      <td>NaN</td>\n",
       "    </tr>\n",
       "    <tr>\n",
       "      <th>std</th>\n",
       "      <td>3.566878</td>\n",
       "      <td>4.062422</td>\n",
       "      <td>2.673930</td>\n",
       "      <td>32561.769309</td>\n",
       "      <td>0.338360</td>\n",
       "      <td>NaN</td>\n",
       "    </tr>\n",
       "    <tr>\n",
       "      <th>min</th>\n",
       "      <td>0.000000</td>\n",
       "      <td>1985.000000</td>\n",
       "      <td>1997.000000</td>\n",
       "      <td>100.000000</td>\n",
       "      <td>2.000000</td>\n",
       "      <td>NaN</td>\n",
       "    </tr>\n",
       "    <tr>\n",
       "      <th>25%</th>\n",
       "      <td>8.000000</td>\n",
       "      <td>2015.000000</td>\n",
       "      <td>2016.000000</td>\n",
       "      <td>31214.000000</td>\n",
       "      <td>4.000000</td>\n",
       "      <td>NaN</td>\n",
       "    </tr>\n",
       "    <tr>\n",
       "      <th>50%</th>\n",
       "      <td>8.000000</td>\n",
       "      <td>2018.000000</td>\n",
       "      <td>2018.000000</td>\n",
       "      <td>57434.000000</td>\n",
       "      <td>4.000000</td>\n",
       "      <td>NaN</td>\n",
       "    </tr>\n",
       "    <tr>\n",
       "      <th>75%</th>\n",
       "      <td>14.000000</td>\n",
       "      <td>2019.000000</td>\n",
       "      <td>2020.000000</td>\n",
       "      <td>81953.500000</td>\n",
       "      <td>4.000000</td>\n",
       "      <td>NaN</td>\n",
       "    </tr>\n",
       "    <tr>\n",
       "      <th>max</th>\n",
       "      <td>21.000000</td>\n",
       "      <td>2022.000000</td>\n",
       "      <td>2023.000000</td>\n",
       "      <td>390065.000000</td>\n",
       "      <td>4.000000</td>\n",
       "      <td>NaN</td>\n",
       "    </tr>\n",
       "  </tbody>\n",
       "</table>\n",
       "</div>"
      ],
      "text/plain": [
       "          num_fotos  ano_de_fabricacao    ano_modelo      hodometro  \\\n",
       "count  29584.000000       29584.000000  29584.000000   29584.000000   \n",
       "mean      10.262067        2016.758552   2017.808985   58430.592077   \n",
       "std        3.566878           4.062422      2.673930   32561.769309   \n",
       "min        0.000000        1985.000000   1997.000000     100.000000   \n",
       "25%        8.000000        2015.000000   2016.000000   31214.000000   \n",
       "50%        8.000000        2018.000000   2018.000000   57434.000000   \n",
       "75%       14.000000        2019.000000   2020.000000   81953.500000   \n",
       "max       21.000000        2022.000000   2023.000000  390065.000000   \n",
       "\n",
       "         num_portas  veiculo_alienado  \n",
       "count  29584.000000               0.0  \n",
       "mean       3.940677               NaN  \n",
       "std        0.338360               NaN  \n",
       "min        2.000000               NaN  \n",
       "25%        4.000000               NaN  \n",
       "50%        4.000000               NaN  \n",
       "75%        4.000000               NaN  \n",
       "max        4.000000               NaN  "
      ]
     },
     "execution_count": 15,
     "metadata": {},
     "output_type": "execute_result"
    }
   ],
   "source": [
    "# verificar as estatísticas descritivas básicas\n",
    "df_train.describe()"
   ]
  },
  {
   "cell_type": "markdown",
   "id": "9842c3f7",
   "metadata": {},
   "source": [
    "### Análise das Principais Estatística"
   ]
  },
  {
   "cell_type": "markdown",
   "id": "0de0aa5f",
   "metadata": {},
   "source": [
    "#### Medidas de posição\n",
    "Observa-se o valor ao redor do qual os dados estão distribuídos."
   ]
  },
  {
   "cell_type": "markdown",
   "id": "829323f0",
   "metadata": {},
   "source": [
    "#### Valor Máximo e Valor Mínimo Observado\n",
    "\n",
    "Estes valores indicam o limite superior ou inferior, ou melhor, o ponto mais alto e o ponto mais baixo dos valores observados\n",
    "Essas medidas são úteis para entender a variação dos dados e para identificar valores extremos. Além disso, o intervalo entre o valor máximo e o valor mínimo - também conhecido como amplitude - fornece uma medida da dispersão dos dados. Quanto maior o intervalo, maior é a dispersão dos dados; quanto menor o intervalo, menor é a dispersão."
   ]
  },
  {
   "cell_type": "code",
   "execution_count": 16,
   "id": "10f72b9b",
   "metadata": {},
   "outputs": [],
   "source": [
    "# selecionar somente as colunas a serem utilizadas na análise\n",
    "colunas=['num_fotos', 'ano_de_fabricacao', 'ano_modelo', 'hodometro', 'num_portas','preco']\n",
    "\n",
    "df_1 = df_train.loc[:, colunas]"
   ]
  },
  {
   "cell_type": "code",
   "execution_count": 17,
   "id": "4540515d",
   "metadata": {},
   "outputs": [
    {
     "name": "stdout",
     "output_type": "stream",
     "text": [
      "Valor máximo de quantidade de fotos que o anúncio do veículo contém: 21\n",
      "Valor mínimo de quantidade de fotos que o anúncio do veículo contém: 0\n"
     ]
    }
   ],
   "source": [
    "# Encontrar o valor máximo e o valor mínimo \n",
    "max_num_fotos = df_1['num_fotos'].max()\n",
    "min_num_fotos = df_1['num_fotos'].min()\n",
    "print(\"Valor máximo de quantidade de fotos que o anúncio do veículo contém:\", max_num_fotos)\n",
    "print(\"Valor mínimo de quantidade de fotos que o anúncio do veículo contém:\", min_num_fotos)"
   ]
  },
  {
   "cell_type": "code",
   "execution_count": 18,
   "id": "71b65a9f",
   "metadata": {},
   "outputs": [
    {
     "data": {
      "image/png": "[encoded data removed]",
      "text/plain": [
       "<Figure size 1000x600 with 1 Axes>"
      ]
     },
     "metadata": {},
     "output_type": "display_data"
    }
   ],
   "source": [
    "# Calcular a frequência dos valores\n",
    "frequencia = df_1['num_fotos'].value_counts().sort_index()\n",
    "\n",
    "# Criar o polígono de frequência com linhas\n",
    "plt.figure(figsize=(10, 6))\n",
    "plt.plot(frequencia.index, frequencia.values, marker='o', linestyle='-')\n",
    "plt.title('Polígono de Frequência - Quantidade de Fotos do Veículo Anunciado')\n",
    "plt.xlabel('Número de Fotos')\n",
    "plt.ylabel('Frequência')\n",
    "plt.grid(True)\n",
    "plt.show()"
   ]
  },
  {
   "cell_type": "code",
   "execution_count": 19,
   "id": "f1e038fb",
   "metadata": {},
   "outputs": [
    {
     "name": "stdout",
     "output_type": "stream",
     "text": [
      "Valor máximo de ano_de_fabricacao do veículo anunciado: 2022\n",
      "Valor mínimo de ano_de_fabricacao do veículo anunciado: 1985\n"
     ]
    }
   ],
   "source": [
    "# Encontrar o valor máximo e o valor mínimo \n",
    "max_ano_de_fabricacao = df_1['ano_de_fabricacao'].max()\n",
    "min_ano_de_fabricacao = df_1['ano_de_fabricacao'].min()\n",
    "print(\"Valor máximo de ano_de_fabricacao do veículo anunciado:\", max_ano_de_fabricacao)\n",
    "print(\"Valor mínimo de ano_de_fabricacao do veículo anunciado:\", min_ano_de_fabricacao)"
   ]
  },
  {
   "cell_type": "code",
   "execution_count": 20,
   "id": "0c0ebfc6",
   "metadata": {},
   "outputs": [
    {
     "data": {
      "image/png": "[encoded data removed]",
      "text/plain": [
       "<Figure size 1000x600 with 1 Axes>"
      ]
     },
     "metadata": {},
     "output_type": "display_data"
    }
   ],
   "source": [
    "# Criar o histograma\n",
    "plt.figure(figsize=(10, 6))\n",
    "plt.hist(df_1['ano_de_fabricacao'], bins=10, edgecolor='black', alpha=0.7)\n",
    "plt.title('Histograma - Ano de Fabricação do Veículo Anunciado')\n",
    "plt.xlabel('Ano de Fabricação')\n",
    "plt.ylabel('Frequência')\n",
    "plt.grid(True)\n",
    "plt.show()"
   ]
  },
  {
   "cell_type": "code",
   "execution_count": 21,
   "id": "1be60a6f",
   "metadata": {},
   "outputs": [
    {
     "name": "stdout",
     "output_type": "stream",
     "text": [
      "Valor máximo de ano_modelo do veículo anunciado: 2023\n",
      "Valor mínimo de ano_modelo  do veículo anunciado: 1997\n"
     ]
    }
   ],
   "source": [
    "# Encontrar o valor máximo e o valor mínimo \n",
    "max_ano_modelo = df_1['ano_modelo'].max()\n",
    "min_ano_modelo = df_1['ano_modelo'].min()\n",
    "print(\"Valor máximo de ano_modelo do veículo anunciado:\", max_ano_modelo)\n",
    "print(\"Valor mínimo de ano_modelo  do veículo anunciado:\", min_ano_modelo)"
   ]
  },
  {
   "cell_type": "code",
   "execution_count": 22,
   "id": "5770cdfb",
   "metadata": {},
   "outputs": [
    {
     "data": {
      "image/png": "[encoded data removed]",
      "text/plain": [
       "<Figure size 1000x600 with 1 Axes>"
      ]
     },
     "metadata": {},
     "output_type": "display_data"
    }
   ],
   "source": [
    "# Criar o histograma\n",
    "plt.figure(figsize=(10, 6))\n",
    "plt.hist(df_1['ano_modelo'], bins=10, edgecolor='black', alpha=0.7)\n",
    "plt.title('Histograma - Ano do Modelo do Veículo Anunciado')\n",
    "plt.xlabel('Ano do Modelo')\n",
    "plt.ylabel('Frequência')\n",
    "plt.grid(True)\n",
    "plt.show()"
   ]
  },
  {
   "cell_type": "code",
   "execution_count": 23,
   "id": "66238cd8",
   "metadata": {},
   "outputs": [
    {
     "name": "stdout",
     "output_type": "stream",
     "text": [
      "Valor máximo registrado no hodometro do veículo anunciado: 390065\n",
      "Valor mínimo registrado no do veículo anunciado: 100\n"
     ]
    }
   ],
   "source": [
    "# Encontrar o valor máximo e o valor mínimo \n",
    "max_hodometro = df_1['hodometro'].max()\n",
    "min_hodometro = df_1['hodometro'].min()\n",
    "print(\"Valor máximo registrado no hodometro do veículo anunciado:\", max_hodometro)\n",
    "print(\"Valor mínimo registrado no do veículo anunciado:\", min_hodometro)"
   ]
  },
  {
   "cell_type": "code",
   "execution_count": 24,
   "id": "e961043f",
   "metadata": {},
   "outputs": [
    {
     "data": {
      "image/png": "[encoded data removed]",
      "text/plain": [
       "<Figure size 1000x600 with 1 Axes>"
      ]
     },
     "metadata": {},
     "output_type": "display_data"
    }
   ],
   "source": [
    "# Criar o histograma\n",
    "plt.figure(figsize=(10, 6))\n",
    "plt.hist(df_1['hodometro'], bins=10, edgecolor='black', alpha=0.7)\n",
    "plt.title('Histograma - Valor Registrado no Hodômetro do Veículo Anunciado')\n",
    "plt.xlabel('Valor Registrado no Hodômetro')\n",
    "plt.ylabel('Frequência')\n",
    "plt.grid(True)\n",
    "plt.show()"
   ]
  },
  {
   "cell_type": "code",
   "execution_count": 25,
   "id": "64d31a3e",
   "metadata": {},
   "outputs": [
    {
     "name": "stdout",
     "output_type": "stream",
     "text": [
      "Valor máximo de quantidade de portas do veículo anunciado: 4\n",
      "Valor mínimo de quantidade de portas do veículo anunciado: 2\n"
     ]
    }
   ],
   "source": [
    "# Encontrar o valor máximo e o valor mínimo \n",
    "max_num_portas = df_1['num_portas'].max()\n",
    "min_num_portas = df_1['num_portas'].min()\n",
    "print(\"Valor máximo de quantidade de portas do veículo anunciado:\", max_num_portas)\n",
    "print(\"Valor mínimo de quantidade de portas do veículo anunciado:\", min_num_portas)"
   ]
  },
  {
   "cell_type": "code",
   "execution_count": 26,
   "id": "04927035",
   "metadata": {
    "scrolled": false
   },
   "outputs": [
    {
     "data": {
      "image/png": "[encoded data removed]",
      "text/plain": [
       "<Figure size 1000x600 with 1 Axes>"
      ]
     },
     "metadata": {},
     "output_type": "display_data"
    }
   ],
   "source": [
    "# Calcular a frequência dos valores\n",
    "frequencia = df_1['num_portas'].value_counts().sort_index()\n",
    "\n",
    "# Criar o polígono de frequência com linhas\n",
    "plt.figure(figsize=(10, 6))\n",
    "plt.plot(frequencia.index, frequencia.values, marker='o', linestyle='-')\n",
    "plt.title('Polígono de Frequência - Quantidade de Portas do Veículo Anunciado')\n",
    "plt.xlabel('Quantidade de Porta')\n",
    "plt.ylabel('Frequência')\n",
    "plt.grid(True)\n",
    "plt.show()"
   ]
  },
  {
   "cell_type": "code",
   "execution_count": 27,
   "id": "03b487d4",
   "metadata": {},
   "outputs": [
    {
     "name": "stdout",
     "output_type": "stream",
     "text": [
      "Valor máximo do preço do veículo anunciado: 65499118711416800\n",
      "Valor mínimo do preço do veículo anunciado: 20062921479\n"
     ]
    }
   ],
   "source": [
    "# converte os dados de object para inteiro\n",
    "df_1['preco'] = df_1['preco'].apply(lambda x: int(x.replace('.', '')))\n",
    "\n",
    "# Encontrar o valor máximo e o valor mínimo \n",
    "max_preco = df_1['preco'].max()\n",
    "min_preco = df_1['preco'].min()\n",
    "print(\"Valor máximo do preço do veículo anunciado:\", max_preco)\n",
    "print(\"Valor mínimo do preço do veículo anunciado:\", min_preco)"
   ]
  },
  {
   "cell_type": "markdown",
   "id": "daeff381",
   "metadata": {},
   "source": [
    "#### Moda\n",
    "É o valor que ocorre com mais frequência em um conjunto de dados.A moda nos informa sobre o valor mais comum ou frequente em uma distribuição de dados"
   ]
  },
  {
   "cell_type": "code",
   "execution_count": 28,
   "id": "5000d19f",
   "metadata": {},
   "outputs": [],
   "source": [
    "# selecionar somente as colunas a serem utilizadas na análise\n",
    "colunas=['marca', 'modelo', 'versao', 'ano_de_fabricacao','ano_modelo', \n",
    "         'cambio', 'num_portas', 'tipo', 'blindado','cor', 'tipo_vendedor', \n",
    "         'cidade_vendedor', 'estado_vendedor','anunciante', 'entrega_delivery', 'troca', 'elegivel_revisao',\n",
    "         'dono_aceita_troca', 'veiculo_único_dono', 'revisoes_concessionaria',\n",
    "         'ipva_pago', 'veiculo_licenciado', 'garantia_de_fábrica',\n",
    "         'revisoes_dentro_agenda']\n",
    "\n",
    "df_2 = df_train.loc[:, colunas]"
   ]
  },
  {
   "cell_type": "code",
   "execution_count": 29,
   "id": "e881876e",
   "metadata": {},
   "outputs": [
    {
     "name": "stdout",
     "output_type": "stream",
     "text": [
      "Qual a \u001b[1mMARCA\u001b[m mais comum entre os veículos anunciados?\n",
      "Resposta: \u001b[1mVOLKSWAGEN\n"
     ]
    }
   ],
   "source": [
    "# Encontrar a moda\n",
    "moda_marca = df_2['marca'].mode().values[0]\n",
    "print('Qual a {}MARCA{} mais comum entre os veículos anunciados?'\n",
    "      '\\nResposta: {}{}'.format('\\033[1m','\\033[m','\\033[1m', moda_marca, '\\033[m'))"
   ]
  },
  {
   "cell_type": "code",
   "execution_count": 30,
   "id": "e665b161",
   "metadata": {},
   "outputs": [
    {
     "name": "stdout",
     "output_type": "stream",
     "text": [
      "Qual o \u001b[1mMODELO\u001b[m mais comum entre os veículos anunciados?\n",
      "Resposta: \u001b[1mCOMPASS\n"
     ]
    }
   ],
   "source": [
    "moda_modelo = df_2['modelo'].mode().values[0]\n",
    "print('Qual o {}MODELO{} mais comum entre os veículos anunciados?'\n",
    "      '\\nResposta: {}{}'.format('\\033[1m','\\033[m','\\033[1m', moda_modelo, '\\033[m'))"
   ]
  },
  {
   "cell_type": "code",
   "execution_count": 31,
   "id": "c02d592c",
   "metadata": {},
   "outputs": [
    {
     "name": "stdout",
     "output_type": "stream",
     "text": [
      "Qual a \u001b[1mVERSÃO\u001b[m mais comum entre os veículos anunciados? \n",
      "Resposta:\u001b[1m1.6 16V FLEX ALLURE PACK 4P AUTOMÁTICO\n"
     ]
    }
   ],
   "source": [
    "moda_versao = df_2['versao'].mode().values[0]\n",
    "print('Qual a {}VERSÃO{} mais comum entre os veículos anunciados? '\n",
    "      '\\nResposta:{}{}'.format('\\033[1m','\\033[m','\\033[1m', moda_versao, '\\033[m'))"
   ]
  },
  {
   "cell_type": "code",
   "execution_count": 32,
   "id": "bc259ce6",
   "metadata": {},
   "outputs": [
    {
     "name": "stdout",
     "output_type": "stream",
     "text": [
      "Qual o \u001b[1mANO DE FRABRICAÇÃO\u001b[m mais comum entre os veículos anunciados?\n",
      "Resposta: \u001b[1m2020\n"
     ]
    }
   ],
   "source": [
    "moda_ano_de_fabricacao = df_2['ano_de_fabricacao'].mode().values[0]\n",
    "print('Qual o {}ANO DE FRABRICAÇÃO{} mais comum entre os veículos anunciados?'\n",
    "      '\\nResposta: {}{}'.format('\\033[1m','\\033[m','\\033[1m', moda_ano_de_fabricacao, '\\033[m'))"
   ]
  },
  {
   "cell_type": "code",
   "execution_count": 33,
   "id": "85891b2d",
   "metadata": {},
   "outputs": [
    {
     "name": "stdout",
     "output_type": "stream",
     "text": [
      "Qual o \u001b[1mANO DO MODELO\u001b[m mais comum entre os veículos anunciados?\n",
      "Resposta: \u001b[1m2021\n"
     ]
    }
   ],
   "source": [
    "moda_ano_modelo = df_2['ano_modelo'].mode().values[0]\n",
    "print('Qual o {}ANO DO MODELO{} mais comum entre os veículos anunciados?'\n",
    "      '\\nResposta: {}{}'.format('\\033[1m','\\033[m','\\033[1m', moda_ano_modelo, '\\033[m'))"
   ]
  },
  {
   "cell_type": "code",
   "execution_count": 34,
   "id": "b2f4ae55",
   "metadata": {},
   "outputs": [
    {
     "name": "stdout",
     "output_type": "stream",
     "text": [
      "Qual o tipo \u001b[1mCAMBIO\u001b[m mais comum entre os veículos anunciados?\n",
      "Resposta: \u001b[1mAutomática\n"
     ]
    }
   ],
   "source": [
    "moda_cambio = df_2['cambio'].mode().values[0]\n",
    "\n",
    "print('Qual o tipo {}CAMBIO{} mais comum entre os veículos anunciados?'\n",
    "      '\\nResposta: {}{}'.format('\\033[1m','\\033[m','\\033[1m', moda_cambio, '\\033[m'))"
   ]
  },
  {
   "cell_type": "code",
   "execution_count": 54,
   "id": "89ee018b",
   "metadata": {},
   "outputs": [
    {
     "name": "stdout",
     "output_type": "stream",
     "text": [
      "Qual é \u001b[1mQUANTIDADE DE PORTAS\u001b[m mais comum entre os veículos anunciados?\n",
      "Resposta: \u001b[1m4 portas\n"
     ]
    }
   ],
   "source": [
    "moda_num_portas = df_2['num_portas'].mode().values[0]\n",
    "print('Qual é {}QUANTIDADE DE PORTAS{} mais comum entre os veículos anunciados?'\n",
    "      '\\nResposta: {}{} portas'.format('\\033[1m','\\033[m','\\033[1m', moda_num_portas, '\\033[m'))"
   ]
  },
  {
   "cell_type": "code",
   "execution_count": 36,
   "id": "6e2847f3",
   "metadata": {},
   "outputs": [
    {
     "name": "stdout",
     "output_type": "stream",
     "text": [
      "Qual é \u001b[1mTIPO\u001b[m mais comum entre os veículos anunciados?\n",
      "Resposta: \u001b[1mSedã\n"
     ]
    }
   ],
   "source": [
    "moda_tipo = df_2['tipo'].mode().values[0]\n",
    "print('Qual é {}TIPO{} mais comum entre os veículos anunciados?'\n",
    "      '\\nResposta: {}{}'.format('\\033[1m','\\033[m','\\033[1m', moda_tipo, '\\033[m'))"
   ]
  },
  {
   "cell_type": "code",
   "execution_count": 37,
   "id": "551dadef",
   "metadata": {},
   "outputs": [
    {
     "name": "stdout",
     "output_type": "stream",
     "text": [
      "A maioria dos veículos anunciados é \u001b[1mBLINDADO\u001b[m - (S) Sim ou (N) Não?\n",
      "Resposta: \u001b[1mN\n"
     ]
    }
   ],
   "source": [
    "moda_blindado = df_2['blindado'].mode().values[0]\n",
    "print('A maioria dos veículos anunciados é {}BLINDADO{} - (S) Sim ou (N) Não?'\n",
    "      '\\nResposta: {}{}'.format('\\033[1m','\\033[m','\\033[1m', moda_blindado, '\\033[m'))"
   ]
  },
  {
   "cell_type": "code",
   "execution_count": 53,
   "id": "d7dabb44",
   "metadata": {},
   "outputs": [
    {
     "name": "stdout",
     "output_type": "stream",
     "text": [
      "Qual a \u001b[1mCOR\u001b[m mais comum entre os veículos anunciados? \n",
      "Resposta: \u001b[1mBranco\n"
     ]
    }
   ],
   "source": [
    "moda_cor = df_2['cor'].mode().values[0]\n",
    "print('Qual a {}COR{} mais comum entre os veículos anunciados? '\n",
    "      '\\nResposta: {}{}'.format('\\033[1m','\\033[m','\\033[1m', moda_cor, '\\033[m'))"
   ]
  },
  {
   "cell_type": "code",
   "execution_count": 39,
   "id": "ddf86b77",
   "metadata": {},
   "outputs": [
    {
     "name": "stdout",
     "output_type": "stream",
     "text": [
      "Qual o \u001b[1mTIPO DE VENDEDOR \u001b[m mais comum entre os veículos anunciados?\n",
      "Resposta: \u001b[1mPF\n"
     ]
    }
   ],
   "source": [
    "moda_tipo_vendedor = df_2['tipo_vendedor'].mode().values[0]\n",
    "print('Qual o {}TIPO DE VENDEDOR {} mais comum entre os veículos anunciados?'\n",
    "      '\\nResposta: {}{}'.format('\\033[1m','\\033[m','\\033[1m', moda_tipo_vendedor, '\\033[m'))"
   ]
  },
  {
   "cell_type": "code",
   "execution_count": 52,
   "id": "b906776b",
   "metadata": {},
   "outputs": [
    {
     "name": "stdout",
     "output_type": "stream",
     "text": [
      "Qual a \u001b[1mCIDADE\u001b[m de venda mais comum entre os veículos anunciado? \n",
      "Resposta: \u001b[1mSão Paulo\n"
     ]
    }
   ],
   "source": [
    "moda_cidade_vendedor = df_2['cidade_vendedor'].mode().values[0]\n",
    "print('Qual a {}CIDADE{} de venda mais comum entre os veículos anunciado? '\n",
    "      '\\nResposta: {}{}'.format('\\033[1m','\\033[m','\\033[1m', moda_cidade_vendedor, '\\033[m'))"
   ]
  },
  {
   "cell_type": "code",
   "execution_count": 48,
   "id": "21f8d808",
   "metadata": {},
   "outputs": [
    {
     "name": "stdout",
     "output_type": "stream",
     "text": [
      "Qual o \u001b[1mESTADO\u001b[m de venda mais comum entre os veículos anunciados? \n",
      "Resposta: \u001b[1mSão Paulo (SP)\n"
     ]
    }
   ],
   "source": [
    "moda_estado_vendedor = df_2['estado_vendedor'].mode().values[0]\n",
    "print('Qual o {}ESTADO{} de venda mais comum entre os veículos anunciados? '\n",
    "      '\\nResposta: {}{}'.format('\\033[1m','\\033[m','\\033[1m', moda_estado_vendedor, '\\033[m'))"
   ]
  },
  {
   "cell_type": "code",
   "execution_count": 49,
   "id": "ef41c9af",
   "metadata": {},
   "outputs": [
    {
     "name": "stdout",
     "output_type": "stream",
     "text": [
      "Qual o \u001b[1mTIPO DE ANUNCIANTE\u001b[m de venda mais comum entre os veículos anunciados é: \n",
      "Resposta: \u001b[1mPessoa Física\n"
     ]
    }
   ],
   "source": [
    "moda_anunciante = df_2['anunciante'].mode().values[0]\n",
    "print('Qual o {}TIPO DE ANUNCIANTE{} de venda mais comum entre os veículos anunciados é: '\n",
    "      '\\nResposta: {}{}'.format('\\033[1m','\\033[m','\\033[1m', moda_anunciante, '\\033[m'))"
   ]
  },
  {
   "cell_type": "code",
   "execution_count": 55,
   "id": "f42e7dcb",
   "metadata": {},
   "outputs": [
    {
     "name": "stdout",
     "output_type": "stream",
     "text": [
      "A maioria dos vendendor entre os veículos anunciados faz \u001b[1mENTREGA DELIVERY\u001b[m - (True) Sim e (False) Não?\n",
      "Resposta: \u001b[1mFalse\n"
     ]
    }
   ],
   "source": [
    "moda_entrega_delivery = df_2['entrega_delivery'].mode().values[0]\n",
    "print('A maioria dos vendendor entre os veículos anunciados faz {}ENTREGA DELIVERY{} - (True) Sim e (False) Não?'\n",
    "      '\\nResposta: {}{}'.format('\\033[1m','\\033[m','\\033[1m', moda_entrega_delivery, '\\033[m'))"
   ]
  },
  {
   "cell_type": "code",
   "execution_count": 56,
   "id": "48490955",
   "metadata": {},
   "outputs": [
    {
     "name": "stdout",
     "output_type": "stream",
     "text": [
      "A maioria dos veículos anunciados já foi \u001b[1mTROCADO \u001b[m anteoriormente - (True) Sim e (False) Não?\n",
      "Resposta: \u001b[1mFalse\n"
     ]
    }
   ],
   "source": [
    "moda_troca = df_2['troca'].mode().values[0]\n",
    "print('A maioria dos veículos anunciados já foi {}TROCADO {} anteoriormente - (True) Sim e (False) Não?'\n",
    "      '\\nResposta: {}{}'.format('\\033[1m','\\033[m','\\033[1m', moda_troca, '\\033[m'))"
   ]
  },
  {
   "cell_type": "code",
   "execution_count": 57,
   "id": "86dc1858",
   "metadata": {},
   "outputs": [
    {
     "name": "stdout",
     "output_type": "stream",
     "text": [
      "A maioria dos veículos anunciados precisa de \u001b[1mREVISÃO\u001b[m - (True) Sim e (False) Não?\n",
      "Resposta: \u001b[1mFalse\n"
     ]
    }
   ],
   "source": [
    "moda_elegivel_revisao = df_2['elegivel_revisao'].mode().values[0]\n",
    "print('A maioria dos veículos anunciados precisa de {}REVISÃO{} - (True) Sim e (False) Não?'\n",
    "      '\\nResposta: {}{}'.format('\\033[1m','\\033[m','\\033[1m', moda_troca, '\\033[m'))"
   ]
  },
  {
   "cell_type": "code",
   "execution_count": null,
   "id": "5d5b5afd",
   "metadata": {},
   "outputs": [],
   "source": []
  },
  {
   "cell_type": "code",
   "execution_count": 44,
   "id": "98201f96",
   "metadata": {},
   "outputs": [],
   "source": [
    "#### Média"
   ]
  },
  {
   "cell_type": "code",
   "execution_count": 45,
   "id": "36a59e1c",
   "metadata": {},
   "outputs": [],
   "source": [
    "#### Mediana"
   ]
  },
  {
   "cell_type": "code",
   "execution_count": 46,
   "id": "c0cf7b64",
   "metadata": {},
   "outputs": [],
   "source": [
    "#### Quartis"
   ]
  },
  {
   "cell_type": "markdown",
   "id": "8cf7a8c2",
   "metadata": {},
   "source": [
    "### Medidas de Dispersão:\n",
    "O objetivo é é encontrar um valor que resuma a variabilidade de um conjunto de dados"
   ]
  },
  {
   "cell_type": "code",
   "execution_count": null,
   "id": "bb6ba900",
   "metadata": {},
   "outputs": [],
   "source": []
  },
  {
   "cell_type": "markdown",
   "id": "b1e3080c",
   "metadata": {},
   "source": [
    "### Separatrizes"
   ]
  },
  {
   "cell_type": "markdown",
   "id": "a4b3e9f7",
   "metadata": {},
   "source": [
    "## Hipóteses de Negócio"
   ]
  },
  {
   "cell_type": "markdown",
   "id": "05505743",
   "metadata": {},
   "source": [
    "#### a.\tQual o melhor estado cadastrado na base de dados para se vender um carro de marca popular e por quê?"
   ]
  },
  {
   "cell_type": "markdown",
   "id": "7f8424ce",
   "metadata": {},
   "source": [
    "#### b.\tQual o melhor estado para se comprar uma picape com transmissão automática e por quê?"
   ]
  },
  {
   "cell_type": "markdown",
   "id": "6400428a",
   "metadata": {},
   "source": [
    "#### c.\tQual o melhor estado para se comprar carros que ainda estejam dentro da garantia de fábrica e por quê?"
   ]
  },
  {
   "cell_type": "code",
   "execution_count": null,
   "id": "77ec2ac7",
   "metadata": {},
   "outputs": [],
   "source": []
  }
 ],
 "metadata": {
  "kernelspec": {
   "display_name": "Python 3 (ipykernel)",
   "language": "python",
   "name": "python3"
  },
  "language_info": {
   "codemirror_mode": {
    "name": "ipython",
    "version": 3
   },
   "file_extension": ".py",
   "mimetype": "text/x-python",
   "name": "python",
   "nbconvert_exporter": "python",
   "pygments_lexer": "ipython3",
   "version": "3.11.5"
  }
 },
 "nbformat": 4,
 "nbformat_minor": 5
}
